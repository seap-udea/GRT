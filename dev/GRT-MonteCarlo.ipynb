{
 "cells": [
  {
   "cell_type": "markdown",
   "metadata": {},
   "source": [
    "# GRT Final\n",
    "\n",
    "This is the final development notebook of the GRT project.  In this notebook converge all the lessons learned during development."
   ]
  },
  {
   "cell_type": "code",
   "execution_count": 1,
   "metadata": {},
   "outputs": [],
   "source": [
    "import os\n",
    "NTH=4\n",
    "os.environ[\"OMP_NUM_THREADS\"]=\"%d\"%NTH"
   ]
  },
  {
   "cell_type": "code",
   "execution_count": 2,
   "metadata": {},
   "outputs": [
    {
     "data": {
      "application/javascript": [
       "IPython.notebook.kernel.execute('FILE=\"' + IPython.notebook.notebook_name + '\"')"
      ],
      "text/plain": [
       "<IPython.core.display.Javascript object>"
      ]
     },
     "metadata": {},
     "output_type": "display_data"
    },
    {
     "data": {
      "application/javascript": [
       "IPython.notebook.kernel.execute('FILE=\"' + IPython.notebook.notebook_name + '\"')"
      ],
      "text/plain": [
       "<IPython.core.display.Javascript object>"
      ]
     },
     "metadata": {},
     "output_type": "display_data"
    },
    {
     "data": {
      "application/javascript": [
       "IPython.notebook.kernel.execute('FILE=\"' + IPython.notebook.notebook_name + '\"')"
      ],
      "text/plain": [
       "<IPython.core.display.Javascript object>"
      ]
     },
     "metadata": {},
     "output_type": "display_data"
    },
    {
     "name": "stdout",
     "output_type": "stream",
     "text": [
      "The autoreload extension is already loaded. To reload it, use:\n",
      "  %reload_ext autoreload\n"
     ]
    },
    {
     "data": {
      "application/javascript": [
       "IPython.notebook.kernel.execute('FILE=\"' + IPython.notebook.notebook_name + '\"')"
      ],
      "text/plain": [
       "<IPython.core.display.Javascript object>"
      ]
     },
     "metadata": {},
     "output_type": "display_data"
    },
    {
     "data": {
      "application/javascript": [
       "IPython.notebook.kernel.execute('FILE=\"' + IPython.notebook.notebook_name + '\"')"
      ],
      "text/plain": [
       "<IPython.core.display.Javascript object>"
      ]
     },
     "metadata": {},
     "output_type": "display_data"
    },
    {
     "data": {
      "application/javascript": [
       "IPython.notebook.kernel.execute('FILE=\"' + IPython.notebook.notebook_name + '\"')"
      ],
      "text/plain": [
       "<IPython.core.display.Javascript object>"
      ]
     },
     "metadata": {},
     "output_type": "display_data"
    },
    {
     "name": "stdout",
     "output_type": "stream",
     "text": [
      "The autoreload extension is already loaded. To reload it, use:\n",
      "  %reload_ext autoreload\n"
     ]
    },
    {
     "data": {
      "application/javascript": [
       "IPython.notebook.kernel.execute('FILE=\"' + IPython.notebook.notebook_name + '\"')"
      ],
      "text/plain": [
       "<IPython.core.display.Javascript object>"
      ]
     },
     "metadata": {},
     "output_type": "display_data"
    },
    {
     "name": "stdout",
     "output_type": "stream",
     "text": [
      "The autoreload extension is already loaded. To reload it, use:\n",
      "  %reload_ext autoreload\n"
     ]
    }
   ],
   "source": [
    "from gravray import *\n",
    "from gravray.util import *\n",
    "from gravray.stats import *\n",
    "from gravray.spice import *\n",
    "from gravray.plot import *\n",
    "from gravray.sampling import *\n",
    "from gravray.orbit import *\n",
    "\n",
    "import skmonaco\n",
    "import multiprocessing as mp"
   ]
  },
  {
   "cell_type": "code",
   "execution_count": 3,
   "metadata": {},
   "outputs": [],
   "source": [
    "%matplotlib nbagg"
   ]
  },
  {
   "cell_type": "markdown",
   "metadata": {},
   "source": [
    "## Initialize"
   ]
  },
  {
   "cell_type": "code",
   "execution_count": 4,
   "metadata": {},
   "outputs": [
    {
     "name": "stdout",
     "output_type": "stream",
     "text": [
      "Available number of processors:  1\n"
     ]
    }
   ],
   "source": [
    "dt=elTime(0)\n",
    "Spice.loadKernels()\n",
    "cneos=pd.read_csv(\"data/cneos_fireball_data_location.csv\")\n",
    "cneos.set_index(\"Name\",inplace=True)\n",
    "earth=Body(\"EARTH\")\n",
    "NP=int(mp.cpu_count()/NTH)\n",
    "print(\"Available number of processors: \",NP)"
   ]
  },
  {
   "cell_type": "code",
   "execution_count": 5,
   "metadata": {},
   "outputs": [
    {
     "name": "stdout",
     "output_type": "stream",
     "text": [
      "Impact conditions:\n",
      "\tDate: 02/15/2013 03:20:34\n",
      "\tlon. 61.54, lat. 55.1, alt. 23.3 km\n",
      "\tAloc = 103.5, hloc = 55.1, vimp = -18.6 km/s\n"
     ]
    }
   ],
   "source": [
    "#Site \n",
    "lon=59.8703**Angle.Deg #rad\n",
    "lat=55.0958*Angle.Deg #rad\n",
    "alt=23.3*Const.km #m\n",
    "\n",
    "#Time\n",
    "datestring=\"02/15/2013 03:20:34\"\n",
    "fmt=\"%m/%d/%Y %H:%M:%S\"\n",
    "t=Spice.str2tdb(datestring)\n",
    "\n",
    "#Population\n",
    "weights=[0.6]\n",
    "locs=[\n",
    "    [0.5,0.5,-2.0],\n",
    "    [2.0,0.3,-2.6]\n",
    "]\n",
    "scales=[\n",
    "    [1.3,0.7,0.5],\n",
    "    [0.4,0.9,1.6]\n",
    "]\n",
    "angles=[\n",
    "    [-40.0*Angle.Deg,-86.0*Angle.Deg,0.0*Angle.Deg],\n",
    "    [+80.0*Angle.Deg,-109.0*Angle.Deg,0.0*Angle.Deg]\n",
    "]\n",
    "ranges=[\n",
    "    [Util.fin2Inf(1e-2,360.0),Util.fin2Inf(360.0-1e-2,360.0)],\n",
    "    [Util.fin2Inf(1e-2,360.0),Util.fin2Inf(360.0-1e-2,360.0)]\n",
    "]\n",
    "NEOs=MultiVariate([1,1,1,0,0])\n",
    "NEOs.setUnflatten(weights,locs,scales,angles,ranges)\n",
    "\n",
    "#Direction\n",
    "Aloc=103.5*Angle.Deg\n",
    "hloc=18.55*Angle.Deg\n",
    "vimp=-18.6*Const.km/Const.s\n",
    "\n",
    "Rdir=np.array([[Aloc],[hloc],[vimp]])\n",
    "\n",
    "#Input conditions\n",
    "print(f\"Impact conditions:\")\n",
    "print(f\"\\tDate: {datestring}\")\n",
    "print(f\"\\tlon. {lon*Angle.Rad:.4g}, lat. {lat*Angle.Rad:.4g}, alt. {alt/Const.km:.4g} km\")\n",
    "print(f\"\\tAloc = {Aloc*Angle.Rad:.4g}, hloc = {lat*Angle.Rad:.4g}, vimp = {vimp/Const.km} km/s\")"
   ]
  },
  {
   "cell_type": "markdown",
   "metadata": {},
   "source": [
    "## Test integrations"
   ]
  },
  {
   "cell_type": "markdown",
   "metadata": {},
   "source": [
    "### Three dimensional (Monte Carlo)"
   ]
  },
  {
   "cell_type": "code",
   "execution_count": 31,
   "metadata": {},
   "outputs": [
    {
     "name": "stdout",
     "output_type": "stream",
     "text": [
      "Impact conditions: np.array([[1.806415775814131],[0.32375857624494814],[-18600.0]])\n",
      "Terminal elements: [  0.72231578   0.5297087    5.18079402 326.57568287 103.0150748\n",
      "  24.56944643]\n",
      "Unbound terminal elements: [ 0.89757661  0.11897496 -3.518794    2.27937803 -0.91414209 -2.61391129]\n"
     ]
    },
    {
     "data": {
      "text/plain": [
       "(5.228572267234881e-26,\n",
       " 5.586619321805399e-05,\n",
       " -9.359098886202953e-22,\n",
       " [1.806415775814131, 0.32375857624494814, -18600.0])"
      ]
     },
     "execution_count": 31,
     "metadata": {},
     "output_type": "execute_result"
    }
   ],
   "source": [
    "prob=GrtProb(t,earth,NEOs,verbose=True)\n",
    "prob.setLocation(lon,lat,alt)\n",
    "p=prob.calcPdir([Aloc,hloc,vimp])\n",
    "p,prob.ph,prob.detJ,prob.Rdir"
   ]
  },
  {
   "cell_type": "code",
   "execution_count": 27,
   "metadata": {},
   "outputs": [],
   "source": [
    "NCALLS=0\n",
    "points=[]\n",
    "prob=GrtProb(t,earth,NEOs,verbose=False)\n",
    "prob.setLocation(lon,lat,alt)\n",
    "def f(X):\n",
    "    global points,NCALLS\n",
    "    p=prob.calcPdir(list(X))\n",
    "    points+=[list(X)+[p]]\n",
    "    NCALLS+=1\n",
    "    if (NCALLS%10000)==0:\n",
    "        print(f\"{NCALLS} calls... \",)\n",
    "        dt=elTime(1)\n",
    "    return p"
   ]
  },
  {
   "cell_type": "code",
   "execution_count": 30,
   "metadata": {},
   "outputs": [
    {
     "name": "stdout",
     "output_type": "stream",
     "text": [
      "Three dimensional MISER MC:  (8.390067184951666e-21, 3.0532176986657898e-21) 0\n"
     ]
    }
   ],
   "source": [
    "print(\"Starting integration...\")\n",
    "NCALLS=0\n",
    "N=int(1000/NP)*NP\n",
    "dt=elTime(0)\n",
    "integ=skmonaco.mcmiser(f,npoints=N,\n",
    "                      xl=[0.0,0.0,-72.2*Const.km/Const.s],\n",
    "                      xu=[2*np.pi,np.pi/2,-11.1*Const.km/Const.s],\n",
    "                      nprocs=NP)\n",
    "dt=elTime(1)\n",
    "print(\"Three dimensional MISER MC: \",integ,NCALLSF)"
   ]
  },
  {
   "cell_type": "code",
   "execution_count": 29,
   "metadata": {},
   "outputs": [
    {
     "name": "stdout",
     "output_type": "stream",
     "text": [
      "Saving points...\n"
     ]
    }
   ],
   "source": [
    "print(\"Saving points...\")\n",
    "np.savetxt(\"points.dat\",points)"
   ]
  },
  {
   "cell_type": "markdown",
   "metadata": {},
   "source": [
    "--End--"
   ]
  }
 ],
 "metadata": {
  "kernelspec": {
   "display_name": "Python 3",
   "language": "python",
   "name": "python3"
  },
  "language_info": {
   "codemirror_mode": {
    "name": "ipython",
    "version": 3
   },
   "file_extension": ".py",
   "mimetype": "text/x-python",
   "name": "python",
   "nbconvert_exporter": "python",
   "pygments_lexer": "ipython3",
   "version": "3.6.8"
  }
 },
 "nbformat": 4,
 "nbformat_minor": 2
}
