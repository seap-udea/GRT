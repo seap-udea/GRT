{
 "cells": [
  {
   "cell_type": "markdown",
   "metadata": {},
   "source": [
    "# Test of GravRay Util"
   ]
  },
  {
   "cell_type": "code",
   "execution_count": 2,
   "metadata": {},
   "outputs": [
    {
     "data": {
      "application/javascript": [
       "IPython.notebook.kernel.execute('FILE=\"' + IPython.notebook.notebook_name + '\"')"
      ],
      "text/plain": [
       "<IPython.core.display.Javascript object>"
      ]
     },
     "metadata": {},
     "output_type": "display_data"
    },
    {
     "name": "stdout",
     "output_type": "stream",
     "text": [
      "The autoreload extension is already loaded. To reload it, use:\n",
      "  %reload_ext autoreload\n"
     ]
    }
   ],
   "source": [
    "from gravray import *\n",
    "from gravray.util import *"
   ]
  },
  {
   "cell_type": "code",
   "execution_count": 3,
   "metadata": {},
   "outputs": [
    {
     "data": {
      "application/javascript": [
       "IPython.notebook.kernel.execute('FILE=\"' + IPython.notebook.notebook_name + '\"')"
      ],
      "text/plain": [
       "<IPython.core.display.Javascript object>"
      ]
     },
     "metadata": {},
     "output_type": "display_data"
    },
    {
     "name": "stdout",
     "output_type": "stream",
     "text": [
      "The autoreload extension is already loaded. To reload it, use:\n",
      "  %reload_ext autoreload\n"
     ]
    },
    {
     "data": {
      "application/javascript": [
       "IPython.notebook.kernel.execute('FILE=\"' + IPython.notebook.notebook_name + '\"')"
      ],
      "text/plain": [
       "<IPython.core.display.Javascript object>"
      ]
     },
     "metadata": {},
     "output_type": "display_data"
    }
   ],
   "source": [
    "%%javascript\n",
    "IPython.notebook.kernel.execute('FILE=\"' + IPython.notebook.notebook_name + '\"')"
   ]
  },
  {
   "cell_type": "code",
   "execution_count": 4,
   "metadata": {},
   "outputs": [
    {
     "name": "stdout",
     "output_type": "stream",
     "text": [
      "The autoreload extension is already loaded. To reload it, use:\n",
      "  %reload_ext autoreload\n"
     ]
    }
   ],
   "source": [
    "%load_ext autoreload\n",
    "%autoreload 2"
   ]
  },
  {
   "cell_type": "markdown",
   "metadata": {},
   "source": [
    "# Test Util Class\n",
    "\n",
    "Test suite of the Util submodule of GravRay."
   ]
  },
  {
   "cell_type": "code",
   "execution_count": 5,
   "metadata": {},
   "outputs": [],
   "source": [
    "TIMING=0\n",
    "TEST=1"
   ]
  },
  {
   "cell_type": "code",
   "execution_count": 8,
   "metadata": {},
   "outputs": [],
   "source": [
    "import unittest\n",
    "\n",
    "def func(X,factor=1):\n",
    "    r,q,f=X\n",
    "    p=factor*1/np.sqrt((2*np.pi)**3)*np.exp(-r**2/2)*r**2*np.cos(q)\n",
    "    return p\n",
    "\n",
    "class Test(unittest.TestCase):\n",
    "\n",
    "    probs=np.array([0.1,0.2,0.40,0.3])\n",
    "    state=np.array([-2.75666323e+07,1.44279062e+08,3.02263967e+04,\n",
    "                    -2.97849475e+01,-5.48211971e+00,1.84565202e-05])\n",
    "    elements=np.array([Const.au,0.5,10.0,30.0,60.0,120.0])\n",
    "        \n",
    "    def timing_calc_trig(self):\n",
    "        Angle.calcTrig(30.0*Angle.Deg)\n",
    "\n",
    "    def timing_fin2inf(self):\n",
    "        Util.fin2Inf(0.78,scale=1)\n",
    "\n",
    "    def timing_inf2fin(self):\n",
    "        Util.inf2Fin(-5.4,scale=1)\n",
    "\n",
    "    def timing_gen_index(self):\n",
    "        Util.genIndex(self.probs)\n",
    "        \n",
    "    def timing_trans_state(self):\n",
    "        Util.transformState(self.state,[Const.km,Const.km/Const.s])\n",
    "        \n",
    "    def timing_trans_elements(self):\n",
    "        Util.transformElements(self.elements,[1/Const.au,Angle.Deg])\n",
    "        \n",
    "    def timing_arcdistance_math(self):\n",
    "        Util.sin=math.sin\n",
    "        Util.cos=math.cos\n",
    "        Util.asin=math.asin\n",
    "        Util.sqrt=math.sqrt\n",
    "        Util.arcDistance(0,0,90.0*np.pi/180.0,0.0)*180/np.pi        \n",
    "        \n",
    "    def timing_arcdistance_numpy(self):\n",
    "        Util.sin=np.sin\n",
    "        Util.cos=np.cos\n",
    "        Util.asin=np.arcsin\n",
    "        Util.sqrt=math.sqrt\n",
    "        Util.arcDistance(0,0,90.0*np.pi/180.0,0.0)*180/np.pi\n",
    "\n",
    "    def test_divisors(self):\n",
    "        n = 600851475143\n",
    "        divisors=Util.calcDivisors(n)\n",
    "        self.assertEqual(divisors,\n",
    "                        [1, 71, 839, 59569, 1471, 104441, 1234169, 87625999, 6857, 486847, 5753023, 408464633, 10086647, 716151937, 8462696833, 600851475143])\n",
    "        \n",
    "    \"\"\"START COMMENT\n",
    "    def test_multi_fixed_quad(self):\n",
    "        nint=MultiQuad(func,[\"r\",\"q\",\"f\"],integrator=\"fixed_quad\")\n",
    "\n",
    "        \n",
    "        i,di=nint.integrate({\"r\":[1.0],\"q\":[np.pi/3],\"f\":[0.0,2*np.pi]})\n",
    "        self.assertEqual(np.isclose([i],0.1209853622595717,rtol=1e-3).tolist(),[True]*1)\n",
    "\n",
    "        i,di=nint.integrate({\"r\":[1.0],\"q\":[-np.pi/2,np.pi/2],\"f\":[0.0,2*np.pi]})\n",
    "        self.assertEqual(np.isclose([i],0.4839414757239004,rtol=1e-3).tolist(),[True]*1)\n",
    "\n",
    "        i,di=nint.integrate({\"r\":[0.0,1.0],\"q\":[-np.pi/2,np.pi/2],\"f\":[0.0,2*np.pi]})\n",
    "        self.assertEqual(np.isclose([i],0.18913556487782582,rtol=1e-3).tolist(),[True]*1)\n",
    "    \n",
    "    def test_multi_quad(self):\n",
    "        nint=MultiQuad(func,[\"r\",\"q\",\"f\"],integrator=\"quad\")\n",
    "\n",
    "        i,di=nint.integrate({\"r\":[1.0],\"q\":[np.pi/3],\"f\":[0.0,2*np.pi]})\n",
    "        self.assertEqual(np.isclose([i],0.1209853622595717,rtol=1e-3).tolist(),[True]*1)\n",
    "\n",
    "        i,di=nint.integrate({\"r\":[1.0],\"q\":[-np.pi/2,np.pi/2],\"f\":[0.0,2*np.pi]})\n",
    "        self.assertEqual(np.isclose([i],0.4839414757239004,rtol=1e-3).tolist(),[True]*1)\n",
    "        \n",
    "        i,di=nint.integrate({\"r\":[0.0,1.0],\"q\":[-np.pi/2,np.pi/2],\"f\":[0.0,2*np.pi]})\n",
    "        self.assertEqual(np.isclose([i],0.19874804309879915,rtol=1e-3).tolist(),[True]*1)\n",
    "        \n",
    "    def test_multi_integral(self):\n",
    "        \n",
    "        nint=MultiCube(func,[\"r\",\"q\",\"f\"])\n",
    "        scheme=\"stroud_cn_5_5\"\n",
    "        nint.setScheme(scheme)\n",
    "        i=nint.integrate({\"r\":[1.0],\"q\":[np.pi/3],\"f\":[0.0,2*np.pi]},args=(1.0,))\n",
    "        self.assertEqual(np.isclose([i],0.120985,rtol=1e-3).tolist(),[True]*1)\n",
    "        \n",
    "        scheme=\"stroud_cn_5_5\"\n",
    "        nint.setScheme(scheme)\n",
    "        i=nint.integrate({\"r\":[1.0],\"q\":[-np.pi/2,np.pi/2],\"f\":[0.0,2*np.pi]},args=(1.0,))\n",
    "        self.assertEqual(np.isclose([i],0.483941,rtol=1e-3).tolist(),[True]*1)\n",
    "\n",
    "        scheme=\"stroud_cn_5_4\"\n",
    "        nint.setScheme(scheme)\n",
    "        i=nint.integrate({\"r\":[0.0,1.0],\"q\":[-np.pi/2,np.pi/2],\"f\":[0.0,2*np.pi]},args=(1.0,))\n",
    "        self.assertEqual(np.isclose([i],0.198748,rtol=1e-3).tolist(),[True]*1)\n",
    "\n",
    "    def test_arcdistance(self):\n",
    "        lat1=Angle.dec((-1,50,3,59))*Angle.Deg\n",
    "        lat2=Angle.dec((+1,83,38,38))*Angle.Deg\n",
    "        lon1=Angle.dec((+1,5,42,53))*Angle.Deg\n",
    "        lon2=Angle.dec((-1,70,4,12))*Angle.Deg\n",
    "        self.assertAlmostEqual(6371*Util.arcDistance(lon1,lat1,lon2,lat2),15359.006548255658,5)\n",
    "    \n",
    "    def test_fin2inf(self):\n",
    "        try:\n",
    "            Util.fin2Inf(2)\n",
    "        except:\n",
    "            return True\n",
    "        raise AssertionError(\"Range not verified for fin2Inf\")\n",
    "\n",
    "    def test_fin2inf(self):\n",
    "        self.assertAlmostEqual(Util.fin2Inf(0.001,scale=1),-6.906754778648554,13)\n",
    "        self.assertAlmostEqual(Util.fin2Inf(0.78,scale=1),1.265666373331276,13)\n",
    "        self.assertAlmostEqual(Util.fin2Inf(np.pi,scale=2*np.pi),0.0,13)\n",
    "\n",
    "    def test_inf2fin(self):\n",
    "        self.assertAlmostEqual(Util.inf2Fin(-3.0,scale=1),0.04742587317756678,13)\n",
    "        self.assertAlmostEqual(Util.inf2Fin(+3.0,scale=1),0.9525741268224334,13)\n",
    "        self.assertAlmostEqual(Util.inf2Fin(+3.0,scale=10.0),9.525741268224333,13)\n",
    "\n",
    "    def test_gen_index_error(self):\n",
    "        try:\n",
    "            Util.genIndex([0.4,0.4])\n",
    "        except:\n",
    "            return True\n",
    "        raise AssertionError(\"Error of normalized probabilities not controled\")\n",
    "\n",
    "    def test_gen_index(self):\n",
    "        N=10000\n",
    "        M=len(self.probs)\n",
    "        ns=np.array([Util.genIndex(self.probs) for i in range(N)]+[M])\n",
    "        h,nx=np.histogram(ns,4)\n",
    "        self.assertEqual(np.isclose(h/N,\n",
    "                                    self.probs,\n",
    "                                    rtol=1e-1).tolist(),\n",
    "                         [True]*M)\n",
    "\n",
    "    def test_calc_trig(self):\n",
    "        self.assertEqual(np.isclose(Angle.calcTrig(30.0*Angle.Deg),\n",
    "                                    [np.sqrt(3)/2,1./2],\n",
    "                                    rtol=1e-17).tolist(),\n",
    "                          [True,True])\n",
    "\n",
    "    def test_dms(self):\n",
    "        dms=Angle.dms(293.231241241)\n",
    "        self.assertEqual(np.isclose(dms,\n",
    "                                    (1.0,293.0,13.0,52.46846760007429),\n",
    "                                    rtol=1e-5).tolist(),\n",
    "                         [True]*4)\n",
    "\n",
    "    def test_dms_negative(self):\n",
    "        dms=Angle.dms(-293.231241241)\n",
    "        self.assertEqual(np.isclose(dms,\n",
    "                                    (-1.0,293.0,13.0,52.46846760007429),\n",
    "                                    rtol=1e-5).tolist(),\n",
    "                         [True]*4)\n",
    "        \n",
    "    def test_dec(self):\n",
    "        dec=Angle.dec((1,5,40,3.4567))\n",
    "        self.assertAlmostEqual(dec,5.66762686,5)\n",
    "\n",
    "    def test_dec_negative(self):\n",
    "        dec=Angle.dec((-1,5,40,3.4567))\n",
    "        self.assertAlmostEqual(dec,-5.66762686,5)\n",
    "        \n",
    "    def test_year(self):\n",
    "        self.assertEqual(Const.Year,31556736.0)\n",
    "        \n",
    "    def test_au(self):\n",
    "        self.assertEqual(Const.au,1.4959787070000000e11)\n",
    "\n",
    "    def test_transform_state(self):\n",
    "        state=Util.transformState(self.state,[Const.km,Const.km/Const.s])\n",
    "        self.assertEqual(np.isclose(state,\n",
    "                                    [-2.75666323e+10,1.44279062e+11,3.02263967e+07,\n",
    "                                     -2.97849475e+04,-5.48211971e+03,1.84565202e-02],\n",
    "                                    rtol=1e-5).tolist(),\n",
    "                          [True]*6)\n",
    "        \n",
    "    def test_transform_elements(self):\n",
    "        elements=Util.transformElements(self.elements,[1/Const.au,Angle.Deg])\n",
    "        self.assertEqual(np.isclose(elements,\n",
    "                                    [1.,0.5,0.17453293,0.52359878,1.04719755,2.0943951],\n",
    "                                    rtol=1e-5).tolist(),\n",
    "                          [True]*6)\n",
    "    #\"\"\"\n",
    "    #END COMMENT\n"
   ]
  },
  {
   "cell_type": "code",
   "execution_count": 9,
   "metadata": {},
   "outputs": [
    {
     "name": "stderr",
     "output_type": "stream",
     "text": [
      "."
     ]
    },
    {
     "name": "stdout",
     "output_type": "stream",
     "text": [
      "[1, 71, 839, 59569, 1471, 104441, 1234169, 87625999, 6857, 486847, 5753023, 408464633, 10086647, 716151937, 8462696833, 600851475143]\n"
     ]
    },
    {
     "name": "stderr",
     "output_type": "stream",
     "text": [
      "\n",
      "----------------------------------------------------------------------\n",
      "Ran 1 test in 0.020s\n",
      "\n",
      "OK\n"
     ]
    }
   ],
   "source": [
    "if __name__=='__main__':\n",
    "    #Testing\n",
    "    if TEST:unittest.main(argv=['first-arg-is-ignored'],exit=False)\n",
    "    \n",
    "    #Timing Util\n",
    "    if TIMING:\n",
    "        print(\"Timing fin2inf:\")\n",
    "        %timeit -n 1000 Test().timing_fin2inf()\n",
    "\n",
    "        print(\"Timing inf2fin:\")\n",
    "        %timeit -n 1000 Test().timing_inf2fin()\n",
    "\n",
    "        print(\"Timing genindex:\")\n",
    "        %timeit -n 1000 Test().timing_gen_index()\n",
    "\n",
    "        print(\"Trigonometric functions:\")\n",
    "        %timeit -n 1000 Test().timing_calc_trig()\n",
    "\n",
    "        print(\"Timing year constant:\")\n",
    "        %timeit -n 1000 Const.Year\n",
    "\n",
    "        print(\"Timing elements transformation:\")\n",
    "        %timeit -n 1000 Test().timing_trans_elements()\n",
    "\n",
    "        print(\"Timing state transformation:\")        \n",
    "        %timeit -n 1000 Test().timing_trans_state()\n",
    "        \n",
    "        print(\"Timing arcdistance using math functions:\")        \n",
    "        %timeit -n 1000 Test().timing_arcdistance_math()\n",
    "\n",
    "        print(\"Timing arcdistance using numpy functions:\")        \n",
    "        %timeit -n 1000 Test().timing_arcdistance_numpy()"
   ]
  },
  {
   "cell_type": "markdown",
   "metadata": {},
   "source": [
    "--End--"
   ]
  },
  {
   "cell_type": "markdown",
   "metadata": {},
   "source": [
    "# Convert"
   ]
  },
  {
   "cell_type": "code",
   "execution_count": null,
   "metadata": {},
   "outputs": [],
   "source": [
    "!make -C .. DEVFILES=dev/{FILE} convert"
   ]
  },
  {
   "cell_type": "code",
   "execution_count": null,
   "metadata": {},
   "outputs": [],
   "source": []
  }
 ],
 "metadata": {
  "kernelspec": {
   "display_name": "Python 3",
   "language": "python",
   "name": "python3"
  },
  "language_info": {
   "codemirror_mode": {
    "name": "ipython",
    "version": 3
   },
   "file_extension": ".py",
   "mimetype": "text/x-python",
   "name": "python",
   "nbconvert_exporter": "python",
   "pygments_lexer": "ipython3",
   "version": "3.6.8"
  }
 },
 "nbformat": 4,
 "nbformat_minor": 2
}
