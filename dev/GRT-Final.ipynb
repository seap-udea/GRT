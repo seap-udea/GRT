{
 "cells": [
  {
   "cell_type": "markdown",
   "metadata": {},
   "source": [
    "# GRT Final\n",
    "\n",
    "This is the final development notebook of the GRT project.  In this notebook converge all the lessons learned during development."
   ]
  },
  {
   "cell_type": "code",
   "execution_count": 26,
   "metadata": {},
   "outputs": [],
   "source": [
    "import os\n",
    "os.environ[\"OMP_NUM_THREADS\"] = \"1\""
   ]
  },
  {
   "cell_type": "code",
   "execution_count": 30,
   "metadata": {},
   "outputs": [],
   "source": [
    "from gravray import *\n",
    "from gravray.util import *\n",
    "from gravray.stats import *\n",
    "from gravray.spice import *\n",
    "from gravray.plot import *\n",
    "from gravray.sampling import *\n",
    "from gravray.orbit import *\n",
    "\n",
    "import skmonaco\n",
    "import multiprocessing as mp"
   ]
  },
  {
   "cell_type": "code",
   "execution_count": 31,
   "metadata": {},
   "outputs": [],
   "source": [
    "%matplotlib nbagg"
   ]
  },
  {
   "cell_type": "markdown",
   "metadata": {},
   "source": [
    "## Initialize"
   ]
  },
  {
   "cell_type": "code",
   "execution_count": 32,
   "metadata": {},
   "outputs": [
    {
     "name": "stdout",
     "output_type": "stream",
     "text": [
      "Available number of processors:  3\n"
     ]
    }
   ],
   "source": [
    "dt=elTime(0)\n",
    "Spice.loadKernels()\n",
    "cneos=pd.read_csv(\"data/cneos_fireball_data_location.csv\")\n",
    "cneos.set_index(\"Name\",inplace=True)\n",
    "earth=Body(\"EARTH\")\n",
    "NP=mp.cpu_count()-1\n",
    "print(\"Available number of processors: \",NP)"
   ]
  },
  {
   "cell_type": "markdown",
   "metadata": {},
   "source": [
    "## Example conditions"
   ]
  },
  {
   "cell_type": "code",
   "execution_count": 6,
   "metadata": {},
   "outputs": [
    {
     "name": "stdout",
     "output_type": "stream",
     "text": [
      "Impact conditions:\n",
      "\tDate: 02/15/2013 03:20:34\n",
      "\tlon. 61.54, lat. 55.1, alt. 23.3 km\n",
      "\tAloc = 103.5, hloc = 55.1, vimp = -18.6 km/s\n"
     ]
    }
   ],
   "source": [
    "#Site \n",
    "lon=59.8703**Angle.Deg #rad\n",
    "lat=55.0958*Angle.Deg #rad\n",
    "alt=23.3*Const.km #m\n",
    "\n",
    "#Time\n",
    "datestring=\"02/15/2013 03:20:34\"\n",
    "fmt=\"%m/%d/%Y %H:%M:%S\"\n",
    "t=Spice.str2tdb(datestring)\n",
    "\n",
    "#Population\n",
    "weights=[0.6]\n",
    "locs=[\n",
    "    [0.5,0.5,-2.0],\n",
    "    [2.0,0.3,-2.6]\n",
    "]\n",
    "scales=[\n",
    "    [1.3,0.7,0.5],\n",
    "    [0.4,0.9,1.6]\n",
    "]\n",
    "angles=[\n",
    "    [-40.0*Angle.Deg,-86.0*Angle.Deg,0.0*Angle.Deg],\n",
    "    [+80.0*Angle.Deg,-109.0*Angle.Deg,0.0*Angle.Deg]\n",
    "]\n",
    "ranges=[\n",
    "    [Util.fin2Inf(1e-2,360.0),Util.fin2Inf(360.0-1e-2,360.0)],\n",
    "    [Util.fin2Inf(1e-2,360.0),Util.fin2Inf(360.0-1e-2,360.0)]\n",
    "]\n",
    "NEOs=MultiVariate([1,1,1,0,0])\n",
    "NEOs.setUnflatten(weights,locs,scales,angles,ranges)\n",
    "\n",
    "#Direction\n",
    "Aloc=103.5*Angle.Deg\n",
    "hloc=18.55*Angle.Deg\n",
    "vimp=-18.6*Const.km/Const.s\n",
    "\n",
    "Rdir=np.array([[Aloc],[hloc],[vimp]])\n",
    "\n",
    "#Input conditions\n",
    "print(f\"Impact conditions:\")\n",
    "print(f\"\\tDate: {datestring}\")\n",
    "print(f\"\\tlon. {lon*Angle.Rad:.4g}, lat. {lat*Angle.Rad:.4g}, alt. {alt/Const.km:.4g} km\")\n",
    "print(f\"\\tAloc = {Aloc*Angle.Rad:.4g}, hloc = {lat*Angle.Rad:.4g}, vimp = {vimp/Const.km} km/s\")"
   ]
  },
  {
   "cell_type": "markdown",
   "metadata": {},
   "source": [
    "## Test routines"
   ]
  },
  {
   "cell_type": "code",
   "execution_count": 7,
   "metadata": {},
   "outputs": [
    {
     "name": "stdout",
     "output_type": "stream",
     "text": [
      "Impact conditions: np.array([[1.806415775814131],[0.32375857624494814],[-18600.0]])\n",
      "Terminal elements: [  0.72231578   0.5297087    5.18079402 326.57568287 103.0150748\n",
      "  24.56944643]\n",
      "Unbound terminal elements: [ 0.89757661  0.11897496 -3.518794    2.27937803 -0.91414209 -2.61391129]\n"
     ]
    },
    {
     "data": {
      "text/plain": [
       "(5.228572267234881e-26,\n",
       " 5.586619321805399e-05,\n",
       " -9.359098886202953e-22,\n",
       " [1.806415775814131, 0.32375857624494814, -18600.0])"
      ]
     },
     "execution_count": 7,
     "metadata": {},
     "output_type": "execute_result"
    }
   ],
   "source": [
    "prob=GrtProb(t,earth,NEOs,verbose=True)\n",
    "prob.setLocation(lon,lat,alt)\n",
    "p=prob.calcPdir([Aloc,hloc,vimp])\n",
    "p,prob.ph,prob.detJ,prob.Rdir"
   ]
  },
  {
   "cell_type": "code",
   "execution_count": 8,
   "metadata": {},
   "outputs": [
    {
     "data": {
      "text/plain": [
       "(array([5.22857227e-26]),\n",
       " array([5.58661932e-05]),\n",
       " array([-9.35909889e-22]),\n",
       " array([[  0.72231578,   0.5297087 ,   5.18079402, 326.57568287,\n",
       "         103.0150748 ,  24.56944643]]),\n",
       " array([[ 1.80641578e+00,  3.23758576e-01, -1.86000000e+04]]))"
      ]
     },
     "execution_count": 8,
     "metadata": {},
     "output_type": "execute_result"
    }
   ],
   "source": [
    "prob=GrtProb(t,earth,NEOs,verbose=False)\n",
    "prob.setLocation(lon,lat,alt)\n",
    "p=prob.calcPsky(np.array([[Aloc],[hloc],[vimp]]))\n",
    "p,prob.phs,prob.detJs,prob.selements,prob.Rsky"
   ]
  },
  {
   "cell_type": "code",
   "execution_count": 9,
   "metadata": {},
   "outputs": [
    {
     "data": {
      "text/plain": [
       "(array([5.22857227e-26]),\n",
       " array([5.58661932e-05]),\n",
       " array([-9.35909889e-22]),\n",
       " array([[  0.72231578,   0.5297087 ,   5.18079402, 326.57568287,\n",
       "         103.0150748 ,  24.56944643]]),\n",
       " array([[ 1.07403440e+00,  9.61603114e-01,  2.33000000e+04,\n",
       "          1.80641578e+00,  3.23758576e-01, -1.86000000e+04]]))"
      ]
     },
     "execution_count": 9,
     "metadata": {},
     "output_type": "execute_result"
    }
   ],
   "source": [
    "prob=GrtProb(t,earth,NEOs,verbose=False)\n",
    "p=prob.calcPimp(np.array([[lon],[lat],[alt],[Aloc],[hloc],[vimp]]))\n",
    "p,prob.phs,prob.detJs,prob.selements,prob.Rimp"
   ]
  },
  {
   "cell_type": "markdown",
   "metadata": {},
   "source": [
    "## Test integrations"
   ]
  },
  {
   "cell_type": "markdown",
   "metadata": {},
   "source": [
    "### One dimensional integation (quad)"
   ]
  },
  {
   "cell_type": "code",
   "execution_count": 10,
   "metadata": {},
   "outputs": [
    {
     "name": "stdout",
     "output_type": "stream",
     "text": [
      "Integral in one direction (integrator 'quad'): 3.539251483977331e-23 3.2858412673551106e-23 21\n"
     ]
    }
   ],
   "source": [
    "pint=MultiQuad(prob.calcPsky,[\"A\",\"h\",\"v\"],integrator=\"quad\")\n",
    "i,di=pint.integrate({\"A\":[np.pi],\"h\":[np.pi/4],\"v\":np.array([-43.3,-11.1])*Const.km/Const.s})\n",
    "print(f\"Integral in one direction (integrator '{pint.nintegrator}'):\",i,di,pint.fun_calls)"
   ]
  },
  {
   "cell_type": "markdown",
   "metadata": {},
   "source": [
    "### Two dimensional"
   ]
  },
  {
   "cell_type": "code",
   "execution_count": 11,
   "metadata": {},
   "outputs": [
    {
     "name": "stdout",
     "output_type": "stream",
     "text": [
      "Elapsed time since last call: 133.912 ms\n",
      "Integral in two directions (integrator 'fixed_quad'): 1.060624924834944e-25 None 5\n"
     ]
    }
   ],
   "source": [
    "pint=MultiQuad(prob.calcPsky,[\"A\",\"h\",\"v\"],integrator=\"fixed_quad\")\n",
    "dt=elTime(0)\n",
    "i,di=pint.integrate({\"A\":[0,2*np.pi],\"h\":[0,np.pi/2],\"v\":np.array([-18.6])*Const.km/Const.s})\n",
    "dt=elTime(1)\n",
    "print(f\"Integral in two directions (integrator '{pint.nintegrator}'):\",i,di,pint.fun_calls)"
   ]
  },
  {
   "cell_type": "markdown",
   "metadata": {},
   "source": [
    "### Three dimensional (approximate)"
   ]
  },
  {
   "cell_type": "code",
   "execution_count": 12,
   "metadata": {},
   "outputs": [
    {
     "name": "stdout",
     "output_type": "stream",
     "text": [
      "Elapsed time since last call: 592.452 ms\n",
      "2.0715599473990289e-22 None 37\n",
      "Integral in three directions (integrator 'fixed_quad'): 2.0715599473990289e-22 None 37\n"
     ]
    }
   ],
   "source": [
    "prob=GrtProb(t,earth,NEOs,verbose=False)\n",
    "prob.setLocation(lon,lat,alt)\n",
    "pint=MultiQuad(prob.calcPsky,[\"A\",\"h\",\"v\"],integrator=\"fixed_quad\",opt=dict(n=37))\n",
    "dt=elTime(0)\n",
    "i,di=pint.integrate({\"A\":[0,2*np.pi],\"h\":[0,np.pi/2],\"v\":np.array([-72.2,-11.1])*Const.km/Const.s})\n",
    "dt=elTime(1)\n",
    "print(i,di,pint.fun_calls)\n",
    "print(f\"Integral in three directions (integrator '{pint.nintegrator}'):\",i,di,pint.fun_calls)"
   ]
  },
  {
   "cell_type": "code",
   "execution_count": 13,
   "metadata": {},
   "outputs": [
    {
     "name": "stdout",
     "output_type": "stream",
     "text": [
      "Elapsed time since last call: 504.775 ms\n",
      "Integral in three directions (integrator 'dobrodeev_1978'): 1.6894810998515917e-21\n"
     ]
    }
   ],
   "source": [
    "nint=MultiCube(prob.calcPsky,[\"A\",\"h\",\"v\"])\n",
    "dt=elTime(0)\n",
    "i=nint.integrate({\"A\":[0,2*np.pi],\"h\":[0,np.pi/2],\"v\":np.array([-72.2,-11.1])*Const.km/Const.s})\n",
    "dt=elTime(1)\n",
    "print(f\"Integral in three directions (integrator '{nint.nscheme}'):\",i)"
   ]
  },
  {
   "cell_type": "markdown",
   "metadata": {},
   "source": [
    "### Three dimensional (exhaustive)"
   ]
  },
  {
   "cell_type": "code",
   "execution_count": 18,
   "metadata": {},
   "outputs": [],
   "source": [
    "prob=GrtProb(t,earth,NEOs,verbose=False)\n",
    "prob.setLocation(lon,lat,alt)\n",
    "NCALLS=0\n",
    "def fquad(*X):\n",
    "    global NCALLS\n",
    "    A,h,v=X\n",
    "    p=prob.calcPdir([A,h,v])\n",
    "    NCALLS+=1\n",
    "    if (NCALLS%10000)==0:\n",
    "        print(f\"{NCALLS} calls... \")\n",
    "        dt=elTime(1)\n",
    "    return p"
   ]
  },
  {
   "cell_type": "code",
   "execution_count": null,
   "metadata": {},
   "outputs": [],
   "source": [
    "print(datetime.now())\n",
    "dt=elTime(0)\n",
    "i=integrate.nquad(fquad,[[0,2*np.pi],[0,np.pi/2],np.array([-72.2,-11.1])*Const.km/Const.s],full_output=True)\n",
    "dt=elTime(1)\n",
    "print(datetime.now())\n",
    "print(f\"Integral in three directions (exhaustive):\",i)"
   ]
  },
  {
   "cell_type": "markdown",
   "metadata": {},
   "source": [
    "### Two dimensional (Monte Carlo)"
   ]
  },
  {
   "cell_type": "code",
   "execution_count": 20,
   "metadata": {},
   "outputs": [],
   "source": [
    "NCALLS=0\n",
    "def fmc2(X):\n",
    "    global NCALLS\n",
    "    A,h=X\n",
    "    v=-18.6*Const.km/Const.s\n",
    "    p=prob.calcPdir([A,h,v])\n",
    "    NCALLS+=1\n",
    "    if (NCALLS%1000)==0:\n",
    "        print(f\"{NCALLS} calls... \")\n",
    "        dt=elTime(1)\n",
    "    return p"
   ]
  },
  {
   "cell_type": "code",
   "execution_count": 36,
   "metadata": {},
   "outputs": [
    {
     "name": "stdout",
     "output_type": "stream",
     "text": [
      "1000 calls... \n",
      "Elapsed time since last call: 28.5263 s\n",
      "2000 calls... \n",
      "Elapsed time since last call: 31.0011 s\n",
      "3000 calls... \n",
      "Elapsed time since last call: 26.8007 s\n",
      "Two dimensional simple MC:  (1.1734417941700956e-25, 1.496213492176886e-26)\n"
     ]
    }
   ],
   "source": [
    "NCALLS=0\n",
    "N=int(1000/NP)*NP\n",
    "print(f\"Integrating with {N} points\")\n",
    "dt=elTime(0)\n",
    "integ=skmonaco.mcquad(fmc2,npoints=N,xl=[0.0,0.0],xu=[2*np.pi,np.pi/2],nprocs=NP)\n",
    "dt=elTime(1)\n",
    "print(\"Two dimensional simple MC: \",integ)"
   ]
  },
  {
   "cell_type": "code",
   "execution_count": 38,
   "metadata": {},
   "outputs": [
    {
     "name": "stdout",
     "output_type": "stream",
     "text": [
      "Integrating with 999 points\n",
      "Elapsed time since last call: 15.8231 s\n",
      "Two dimensional MISER MC:  (9.630383939904805e-26, 1.1156840588569277e-26)\n"
     ]
    }
   ],
   "source": [
    "NCALLS=0\n",
    "N=int(1000/NP)*NP\n",
    "print(f\"Integrating with {N} points\")\n",
    "dt=elTime(0)\n",
    "integ=skmonaco.mcmiser(fmc2,npoints=N,xl=[0.0,0.0],xu=[2*np.pi,np.pi/2],nprocs=NP)\n",
    "dt=elTime(1)\n",
    "print(\"Two dimensional MISER MC: \",integ)"
   ]
  },
  {
   "cell_type": "markdown",
   "metadata": {},
   "source": [
    "### Three dimensional (Monte Carlo)"
   ]
  },
  {
   "cell_type": "code",
   "execution_count": 24,
   "metadata": {},
   "outputs": [],
   "source": [
    "NCALLSF=0\n",
    "def fmc3(X):\n",
    "    global NCALLSF\n",
    "    A,h,v=X\n",
    "    p=prob.calcPdir([A,h,v])\n",
    "    NCALLSF+=1\n",
    "    if (NCALLSF%100)==0:\n",
    "        print(f\"{NCALLSF} calls... \",)\n",
    "        dt=elTime(1)\n",
    "    return p"
   ]
  },
  {
   "cell_type": "code",
   "execution_count": null,
   "metadata": {},
   "outputs": [],
   "source": [
    "NCALLSF=0\n",
    "N=int(1000/NP)*NP\n",
    "dt=elTime(0)\n",
    "integ=skmonaco.mcquad(fmc3,npoints=N,\n",
    "                      xl=[0.0,0.0,-72.2*Const.km/Const.s],\n",
    "                      xu=[2*np.pi,np.pi/2,-11.1*Const.km/Const.s],\n",
    "                      nprocs=NP)\n",
    "dt=elTime(1)\n",
    "print(\"Three dimensional simple MC: \",integ,NCALLSF)"
   ]
  },
  {
   "cell_type": "code",
   "execution_count": null,
   "metadata": {},
   "outputs": [],
   "source": [
    "NCALLSF=0\n",
    "N=int(1000/NP)*NP\n",
    "dt=elTime(0)\n",
    "integ=skmonaco.mcmiser(fmc3,npoints=N,\n",
    "                      xl=[0.0,0.0,-72.2*Const.km/Const.s],\n",
    "                      xu=[2*np.pi,np.pi/2,-11.1*Const.km/Const.s],\n",
    "                      nprocs=NP)\n",
    "dt=elTime(1)\n",
    "print(\"Three dimensional MISER MC: \",integ,NCALLSF)"
   ]
  },
  {
   "cell_type": "markdown",
   "metadata": {},
   "source": [
    "--End--"
   ]
  },
  {
   "cell_type": "code",
   "execution_count": 1,
   "metadata": {},
   "outputs": [
    {
     "data": {
      "text/plain": [
       "1"
      ]
     },
     "execution_count": 1,
     "metadata": {},
     "output_type": "execute_result"
    }
   ],
   "source": [
    "\"\"\"\n",
    "pint=MultiQuad(prob.calcPsky,[\"A\",\"h\",\"v\"],integrator=\"quad\")\n",
    "dt=elTime(0)\n",
    "i,di=pint.integrate({\"A\":[0,2*np.pi],\"h\":[0,np.pi/2],\"v\":np.array([-18.6])*Const.km/Const.s})\n",
    "dt=elTime(1)\n",
    "print(f\"Integral in three directions (integrator '{pint.nintegrator}'):\",i,di,pint.fun_calls)\n",
    "pint=MultiQuad(prob.calcPsky,[\"A\",\"h\",\"v\"],integrator=\"quad\")\n",
    "dt=elTime(0)\n",
    "i,di=pint.integrate({\"A\":[0,2*np.pi],\"h\":[0,np.pi/2],\"v\":np.array([-18.6])*Const.km/Const.s})\n",
    "dt=elTime(1)\n",
    "print(i,di,pint.fun_calls)\n",
    "pint=MultiQuad(prob.calcPsky,[\"A\",\"h\",\"v\"],integrator=\"quad\")\n",
    "dt=elTime(0)\n",
    "i,di=pint.integrate({\"A\":[0,2*np.pi],\"h\":[0,np.pi/2],\"v\":np.array([-72.2,-11.1])*Const.km/Const.s})\n",
    "dt=elTime(1)\n",
    "print(i,di,pint.fun_calls)\n",
    "\"\"\"\n",
    "1"
   ]
  }
 ],
 "metadata": {
  "kernelspec": {
   "display_name": "Python 3",
   "language": "python",
   "name": "python3"
  },
  "language_info": {
   "codemirror_mode": {
    "name": "ipython",
    "version": 3
   },
   "file_extension": ".py",
   "mimetype": "text/x-python",
   "name": "python",
   "nbconvert_exporter": "python",
   "pygments_lexer": "ipython3",
   "version": "3.6.8"
  }
 },
 "nbformat": 4,
 "nbformat_minor": 2
}
