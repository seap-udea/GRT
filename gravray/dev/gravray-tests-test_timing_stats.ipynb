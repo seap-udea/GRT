{
 "cells": [
  {
   "cell_type": "markdown",
   "metadata": {},
   "source": [
    "# Test GravRay Statistical Module"
   ]
  },
  {
   "cell_type": "code",
   "execution_count": 8,
   "metadata": {},
   "outputs": [
    {
     "data": {
      "application/javascript": [
       "IPython.notebook.kernel.execute('FILE=\"' + IPython.notebook.notebook_name + '\"')"
      ],
      "text/plain": [
       "<IPython.core.display.Javascript object>"
      ]
     },
     "metadata": {},
     "output_type": "display_data"
    },
    {
     "name": "stdout",
     "output_type": "stream",
     "text": [
      "The autoreload extension is already loaded. To reload it, use:\n",
      "  %reload_ext autoreload\n"
     ]
    }
   ],
   "source": [
    "from gravray import *\n",
    "from gravray.util import *\n",
    "from gravray.stats import *"
   ]
  },
  {
   "cell_type": "code",
   "execution_count": 15,
   "metadata": {},
   "outputs": [
    {
     "data": {
      "application/javascript": [
       "IPython.notebook.kernel.execute('FILE=\"' + IPython.notebook.notebook_name + '\"')"
      ],
      "text/plain": [
       "<IPython.core.display.Javascript object>"
      ]
     },
     "metadata": {},
     "output_type": "display_data"
    }
   ],
   "source": [
    "%%javascript\n",
    "IPython.notebook.kernel.execute('FILE=\"' + IPython.notebook.notebook_name + '\"')"
   ]
  },
  {
   "cell_type": "code",
   "execution_count": 4,
   "metadata": {},
   "outputs": [
    {
     "name": "stdout",
     "output_type": "stream",
     "text": [
      "The autoreload extension is already loaded. To reload it, use:\n",
      "  %reload_ext autoreload\n"
     ]
    }
   ],
   "source": [
    "%load_ext autoreload\n",
    "%autoreload 2"
   ]
  },
  {
   "cell_type": "markdown",
   "metadata": {},
   "source": [
    "# Test Statistics Class\n",
    "\n",
    "Test suite of the Statistics submodule of GravRay."
   ]
  },
  {
   "cell_type": "code",
   "execution_count": 5,
   "metadata": {},
   "outputs": [],
   "source": [
    "TIMING=1\n",
    "TESTING=1"
   ]
  },
  {
   "cell_type": "code",
   "execution_count": 6,
   "metadata": {},
   "outputs": [],
   "source": [
    "#Unitary test\n",
    "class Test(unittest.TestCase):\n",
    "\n",
    "    mnd=MultiVariate([1,1,1,0,0])\n",
    "\n",
    "    def timing_set_unflatten(self):\n",
    "        weights=[0.6]\n",
    "        locs=[\n",
    "            [0.5,0.5,-2.0],\n",
    "            [2.0,0.3,-2.6]\n",
    "        ]\n",
    "        scales=[\n",
    "            [1.3,0.7,0.5],\n",
    "            [0.4,0.9,1.6]\n",
    "        ]\n",
    "        angles=[\n",
    "            [-40.0*Angle.Deg,-86.0*Angle.Deg,0.0*Angle.Deg],\n",
    "            [+80.0*Angle.Deg,-109.0*Angle.Deg,0.0*Angle.Deg]\n",
    "        ]\n",
    "        ranges=[\n",
    "            [-1.0,1.0],\n",
    "            [0.0,2*np.pi]\n",
    "        ]\n",
    "        self.mnd.setUnflatten(weights,locs,scales,angles,ranges)\n",
    "        \n",
    "    def timing_set_flatten(self):\n",
    "        params=[\n",
    "            #weights\n",
    "            0.6,\n",
    "            #locs\n",
    "            0.5, 0.5, -2.0,\n",
    "            2.0, 0.3, -2.6, \n",
    "            #scales\n",
    "            1.3, 0.7, 0.5,\n",
    "            0.4, 0.9, 1.6, \n",
    "            #Angles\n",
    "            -40.0*Angle.Deg,-86.0*Angle.Deg,0.0*Angle.Deg,\n",
    "            +80.0*Angle.Deg,-109.0*Angle.Deg,0.0*Angle.Deg,\n",
    "            #Ranges\n",
    "            -1.0,1.0,\n",
    "            0.0,2*np.pi\n",
    "        ]\n",
    "        self.mnd.setFlatten(params)\n",
    "        \n",
    "    #\"\"\"START COMMENT\n",
    "    def test_rvs(self):\n",
    "        self.timing_set_unflatten()\n",
    "        np.random.seed(1)\n",
    "        r=self.mnd.rvs(1)\n",
    "        self.assertEqual(np.isclose(r[0],\n",
    "                                    [1.63933597,0.23546052,-1.64797788,0.07763347,2.63387681],\n",
    "                                    rtol=1e-5).tolist(),\n",
    "                         [True]*self.mnd.n)\n",
    "    \n",
    "    def test_pdf(self):\n",
    "        self.timing_set_unflatten()\n",
    "        r=np.concatenate((self.mnd.locs[0],[0.0,0.0]))\n",
    "        p=self.mnd.pdf(r)\n",
    "        self.assertAlmostEqual(p,0.09989816167966402*self.mnd.uvalues.prod(),7)\n",
    "\n",
    "    def test_set_flatten(self):\n",
    "        self.timing_set_flatten()\n",
    "        self.assertEqual(self.mnd.M,2)\n",
    "        self.assertEqual(self.mnd.N,10*self.mnd.M-1)\n",
    "        self.assertEqual(np.isclose(self.mnd.params,\n",
    "                                    [0.6, \n",
    "                                     0.5, 0.5, -2.0, \n",
    "                                     2.0, 0.3, -2.6, \n",
    "                                     1.3, 0.7, 0.5, \n",
    "                                     0.4, 0.9, 1.6, \n",
    "                                     -0.6981317007977318, -1.5009831567151235, 0.0, \n",
    "                                     1.3962634015954636, -1.9024088846738192, 0.0,\n",
    "                                    -1.0,1.0,0.0,2*np.pi],\n",
    "                                    rtol=1e-5).tolist(),\n",
    "                         [True]*(self.mnd.N+2*self.mnd.U))\n",
    "        self.assertEqual(np.isclose(self.mnd.covs[0].flatten(),\n",
    "                                    [1.09550921,-0.70848654,-0.01073505,\n",
    "                                     -0.70848654,0.84565862,-0.01279353,\n",
    "                                     -0.01073505,-0.01279353,0.48883217],\n",
    "                                    rtol=1e-5).tolist(),\n",
    "                         [True]*9)\n",
    "\n",
    "        self.assertEqual(np.isclose(self.mnd.covs[1].flatten(),\n",
    "                                    [2.30773378,-0.37870341,0.53051967,\n",
    "                                     -0.37870341,0.22677563,-0.09354493,\n",
    "                                     0.53051967,-0.09354493,0.99549059],\n",
    "                                    rtol=1e-5).tolist(),\n",
    "                         [True]*9)\n",
    "\n",
    "    def test_set_unflatten(self):\n",
    "        self.timing_set_unflatten()\n",
    "        self.assertEqual(self.mnd.M,2)\n",
    "        self.assertEqual(self.mnd.N,10*self.mnd.M-1)\n",
    "        \n",
    "        self.assertEqual(np.isclose(self.mnd.aweights,\n",
    "                                    [0.6,0.4],\n",
    "                                    rtol=1e-5).tolist(),\n",
    "                         [True]*2)\n",
    "        self.assertEqual(np.isclose(self.mnd.params,\n",
    "                                    [0.6, \n",
    "                                     0.5, 0.5, -2.0, \n",
    "                                     2.0, 0.3, -2.6, \n",
    "                                     1.3, 0.7, 0.5, \n",
    "                                     0.4, 0.9, 1.6, \n",
    "                                     -0.6981317007977318, -1.5009831567151235, 0.0, \n",
    "                                     1.3962634015954636, -1.9024088846738192, 0.0,\n",
    "                                    -1.0,1.0,0.0,2*np.pi],\n",
    "                                    rtol=1e-5).tolist(),\n",
    "                         [True]*(self.mnd.N+2*self.mnd.U))\n",
    "\n",
    "        self.assertEqual(np.isclose(self.mnd.covs[0].flatten(),\n",
    "                                    [1.09550921,-0.70848654,-0.01073505,\n",
    "                                     -0.70848654,0.84565862,-0.01279353,\n",
    "                                     -0.01073505,-0.01279353,0.48883217],\n",
    "                                    rtol=1e-5).tolist(),\n",
    "                         [True]*9)\n",
    "\n",
    "        self.assertEqual(np.isclose(self.mnd.covs[1].flatten(),\n",
    "                                    [2.30773378,-0.37870341,0.53051967,\n",
    "                                     -0.37870341,0.22677563,-0.09354493,\n",
    "                                     0.53051967,-0.09354493,0.99549059],\n",
    "                                    rtol=1e-5).tolist(),\n",
    "                         [True]*9)\n",
    "    #\"\"\" \n",
    "    #END COMMENT"
   ]
  },
  {
   "cell_type": "code",
   "execution_count": 13,
   "metadata": {
    "scrolled": true
   },
   "outputs": [
    {
     "name": "stderr",
     "output_type": "stream",
     "text": [
      "....\n",
      "----------------------------------------------------------------------\n",
      "Ran 4 tests in 0.016s\n",
      "\n",
      "OK\n"
     ]
    },
    {
     "name": "stdout",
     "output_type": "stream",
     "text": [
      "Timing set unflatten:\n",
      "100 loops, best of 3: 518 µs per loop\n",
      "Timing set flatten:\n",
      "100 loops, best of 3: 602 µs per loop\n",
      "Timing PDF:\n",
      "100 loops, best of 3: 421 µs per loop\n",
      "Timing RVS:\n",
      "100 loops, best of 3: 352 µs per loop\n"
     ]
    }
   ],
   "source": [
    "from gravray import *\n",
    "from gravray.util import *\n",
    "from gravray.stats import *\n",
    "if __name__=='__main__':\n",
    "    #Testing\n",
    "    unittest.main(argv=['first-arg-is-ignored'],exit=False)\n",
    "    \n",
    "    #Timing\n",
    "    if TIMING:\n",
    "        print(\"Timing set unflatten:\")\n",
    "        %timeit -n 100 Test().timing_set_unflatten()\n",
    "\n",
    "        print(\"Timing set flatten:\")\n",
    "        %timeit -n 100 Test().timing_set_flatten()\n",
    "\n",
    "        print(\"Timing PDF:\")\n",
    "        t=Test()\n",
    "        %timeit -n 100 t.mnd.pdf(np.array([0,0,0,0,0]))\n",
    "\n",
    "        print(\"Timing RVS:\")\n",
    "        t=Test()\n",
    "        %timeit -n 100 t.mnd.rvs(1)"
   ]
  },
  {
   "cell_type": "markdown",
   "metadata": {},
   "source": [
    "--End--"
   ]
  },
  {
   "cell_type": "markdown",
   "metadata": {},
   "source": [
    "# Convert"
   ]
  },
  {
   "cell_type": "code",
   "execution_count": 16,
   "metadata": {},
   "outputs": [
    {
     "name": "stdout",
     "output_type": "stream",
     "text": [
      "Converting iPython Notebooks...\n",
      "Analysing file gravray-tests-test_timing_stats.ipynb:\n",
      "\tDirectory: ./gravray/tests\n",
      "\tFilename: test_timing_stats\n",
      "\tTarget object: ./gravray/tests/test_timing_stats.py\n",
      "\tConverting from ipynb dev/gravray-tests-test_timing_stats.ipynb to python ./gravray/tests/test_timing_stats.py...\n",
      "\tTriming...\n",
      "\tProcessing magic commands...\n",
      "\tAadding header...\n",
      "Completed.\n"
     ]
    }
   ],
   "source": [
    "!make -C .. DEVFILES=dev/{FILE} convert"
   ]
  },
  {
   "cell_type": "code",
   "execution_count": null,
   "metadata": {},
   "outputs": [],
   "source": []
  }
 ],
 "metadata": {
  "kernelspec": {
   "display_name": "Python 3",
   "language": "python",
   "name": "python3"
  },
  "language_info": {
   "codemirror_mode": {
    "name": "ipython",
    "version": 3
   },
   "file_extension": ".py",
   "mimetype": "text/x-python",
   "name": "python",
   "nbconvert_exporter": "python",
   "pygments_lexer": "ipython3",
   "version": "3.6.8"
  }
 },
 "nbformat": 4,
 "nbformat_minor": 2
}
