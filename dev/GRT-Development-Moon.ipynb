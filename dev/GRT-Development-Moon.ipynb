{
 "cells": [
  {
   "cell_type": "markdown",
   "metadata": {},
   "source": [
    "# GRT Development\n",
    "\n",
    "This notebook develops some of the key ideas and tools of the new version of GRT"
   ]
  },
  {
   "cell_type": "code",
   "execution_count": 1,
   "metadata": {},
   "outputs": [],
   "source": [
    "import spiceypy as spy\n",
    "from matplotlib import pyplot as plt\n",
    "import pandas as pd\n",
    "from time import time,strftime\n",
    "import numpy as np\n",
    "%matplotlib nbagg\n",
    "TIME=time()\n",
    "\n",
    "import tarfile\n",
    "\n",
    "BDIR=f\"./\"\n",
    "DATADIR=f\"{BDIR}/data/\"\n",
    "KERDIR=f\"{BDIR}/util/kernels/\"\n",
    "FIGDIR=f\"{BDIR}/papers/paper1/figures/\""
   ]
  },
  {
   "cell_type": "code",
   "execution_count": 2,
   "metadata": {},
   "outputs": [],
   "source": [
    "%matplotlib nbagg"
   ]
  },
  {
   "cell_type": "markdown",
   "metadata": {},
   "source": [
    "## Constants"
   ]
  },
  {
   "cell_type": "code",
   "execution_count": 419,
   "metadata": {},
   "outputs": [
    {
     "data": {
      "text/plain": [
       "1.32712440040944e+20"
      ]
     },
     "execution_count": 419,
     "metadata": {},
     "output_type": "execute_result"
    }
   ],
   "source": [
    "MUSUN*1e3**3"
   ]
  },
  {
   "cell_type": "code",
   "execution_count": 88,
   "metadata": {},
   "outputs": [],
   "source": [
    "#Numerical\n",
    "DEG=np.pi/180\n",
    "RAD=1/DEG\n",
    "\n",
    "#Phsyical\n",
    "ELEV=80.0 #km, Reference elevation\n",
    "AU=1.4959787070000000e8 #km, value assumed in DE430\n",
    "RMOON=3.84e5 #km\n",
    "\n",
    "#Source: DE421\n",
    "#https://naif.jpl.nasa.gov/pub/naif/generic_kernels/spk/planets/a_old_versions/de421_announcement.pdf\n",
    "MUSUN=132712440040.944000 #km^3/s^2\n",
    "MUEARTH=398600.436233 #km^3/s^2\n",
    "MUMOON=4902.800076 #km^3/s^2\n",
    "MUEARTHMOON=403503.236310 #km^3/s^2\n",
    "RHILLEARTH=AU*(MUEARTH/(3*MUSUN))**(1./3)\n",
    "RHILLMOON=RMOON*(MUMOON/(3*MUEARTH))**(1./3)\n",
    "\n",
    "#Time constants\n",
    "DAY=86400\n",
    "YEAR=365.24*DAY\n",
    "\n",
    "#Body reference frames\n",
    "\n",
    "#Kernels\n",
    "kernels=[\n",
    "    #Time\n",
    "    \"naif0012.tls\",\n",
    "    #Object properties\n",
    "    \"pck00010.tpc\",\n",
    "    #Planetary positions\n",
    "    #\"de421.bsp\",\n",
    "    \"de430.bsp\",\n",
    "    #Earth reference system\n",
    "    #\"earth_720101_070426.bpc\",\"earth_070425_370426_predict.bpc\",\"earth_latest_high_prec_20190910.bpc\"\n",
    "    \"earth_latest_high_prec_20161205.bpc\",\n",
    "    \"moon_pa_de421_1900-2050.bpc\",\n",
    "    \"moon_080317.tf\"\n",
    "    ]\n",
    "for kernel in kernels:spy.furnsh(f\"{KERDIR}/{kernel}\")"
   ]
  },
  {
   "cell_type": "markdown",
   "metadata": {},
   "source": [
    "## Routines"
   ]
  },
  {
   "cell_type": "code",
   "execution_count": 376,
   "metadata": {},
   "outputs": [],
   "source": [
    "def medHistogram(data,**args):\n",
    "    h,x=np.histogram(data,**args)\n",
    "    xm=(x[1:]+x[:-1])/2\n",
    "    return h,xm\n",
    "\n",
    "def elTime(verbose=True):\n",
    "    global TIME\n",
    "    t=time()\n",
    "    dt=t-TIME\n",
    "    if verbose:print(\"%.3f s, %.3f min, %g h\"%(dt,dt/60.0,dt/3600.0))\n",
    "    TIME=t\n",
    "\n",
    "def str2t(date):\n",
    "    et=spy.str2et(date)\n",
    "    dt=spy.deltet(et,\"ET\")\n",
    "    t=et-dt\n",
    "    return t\n",
    "spy.str2t=str2t\n",
    "\n",
    "class Angle(object):\n",
    "    \"\"\"\n",
    "    Routines related to angles\n",
    "    \"\"\"\n",
    "    def dms(value):\n",
    "        \"\"\"\n",
    "        Parameters:\n",
    "            dec: Angle in decimal, float, degree\n",
    "        Return:\n",
    "            dms: Angle in dms, tuple/list/array(4), (sign,deg,min,sec)\n",
    "        \"\"\"\n",
    "        sgn=np.sign(value)\n",
    "        val=np.abs(value)\n",
    "        deg=np.floor(val)\n",
    "        rem=(val-deg)*60\n",
    "        min=np.floor(rem)\n",
    "        sec=(rem-min)*60\n",
    "        return (sgn,deg,min,sec)\n",
    "    def dec(dms):\n",
    "        \"\"\"\n",
    "        Parameters:\n",
    "            dms: Angle in dms, tuple/list/array(4), (sign,deg,min,sec)\n",
    "        Return:\n",
    "            dec: Angle in decimal, float, degree\n",
    "        \"\"\"\n",
    "        return dms[0]*(dms[1]+dms[2]/60.0+dms[3]/3600.0)\n",
    "    \n",
    "\n",
    "    \n",
    "def zappalaDistance(E1,E2):\n",
    "    \"\"\"                                                                                                                                                                              \n",
    "    Zappala (1990), Nervorny & Vokrouhlicky (2006)                                                                                                                                   \n",
    "    am=(a+at)/2                                                                                                                                                                      \n",
    "    d2c=1/np.sqrt(am)*(ka*((at-a)/am)**2+ke*(et-e)**2+ki*(sinit-np.sin(i*DEG))**2+kO*(Omega-Ot)**2+kw*(omega-ot)**2)\n",
    "    Parameters:\n",
    "        E1: Elements 1, np.array(5), [q(UL),e,i(rad),W(rad),w(rad)]\n",
    "        E2: Elements 1, np.array(5), [q(UL),e,i(rad),W(rad),w(rad)]\n",
    "    Return:\n",
    "        DZ: Zappala distance (when [q]=AU, DZ<0.1 is a good match), float\n",
    "    \"\"\"\n",
    "    #Coefficients\n",
    "    ka=5./4\n",
    "    ke=ki=2\n",
    "    kw=kW=1e-4\n",
    "    #Elements\n",
    "    q1,e1,i1,W1,w1=E1[:5]\n",
    "    q2,e2,i2,W2,w2=E2[:5]\n",
    "    #Derived elements\n",
    "    sini1=np.sin(i1)\n",
    "    sini2=np.sin(i2)\n",
    "    a1=np.abs(q1/(1-e1))\n",
    "    a2=np.abs(q2/(1-e2))\n",
    "    am=(a1+a2)/2\n",
    "    anm=1/np.sqrt(np.abs(am))\n",
    "    varpi1=W1+w1\n",
    "    varpi2=W2+w2\n",
    "    \"\"\"\n",
    "    print(\"Reference:\",E1[:5])\n",
    "    print(\"Comparison:\",E2[:5])\n",
    "    print(f\"Derived reference: a={a1:g},sini={sini1:g},varpi={varpi1:g}\")\n",
    "    print(f\"Derived comparison: a={a2:g},sini={sini2:g},varpi={varpi2:g}\")\n",
    "    print(f\"Average: am={am:g},1/sqrt(am)={anm:g}\")\n",
    "    #\"\"\"\n",
    "    #Zappala metric (Zuluaga & Sucerquia, 2018)\n",
    "    DZ=anm*(ka*(a1-am)**2/am**2+ke*(e1-e2)**2+ki*(sini1-sini2)**2+kW*(W1-W2)**2+kw*(varpi1-varpi2)**2)**0.5\n",
    "\n",
    "    return DZ\n",
    "\n",
    "from copy import deepcopy\n",
    "GLOBAL_OBS=None\n",
    "def rayOscelt(lon,lat,alt,objid,A,h,vimp,et,rSoI=1e6,simple=True):\n",
    "    \"\"\"\n",
    "    Compute the orbital elements of a particle impacting on lon, lat, alt at time et\n",
    "    going towards A, h at speed vimp.\n",
    "    \n",
    "    Parameters:\n",
    "        lon: Longitude, float, degrees\n",
    "        lat: Latitude, float, degrees\n",
    "        alt: Altitude, float, km\n",
    "        A: Azimuth, float, degrees\n",
    "        h: Elevation, float, degrees\n",
    "        vimp: Impact speed, float (negative), km/s\n",
    "    \"\"\"\n",
    "    #Prepare observer structure\n",
    "    global GLOBAL_OBS\n",
    "    if (GLOBAL_OBS is None) or \\\n",
    "            np.isclose([lon,lat,alt],[GLOBAL_OBS.lon*RAD,GLOBAL_OBS.lat*RAD,GLOBAL_OBS.alt],rtol=1e-5).sum()<3:\n",
    "        #print(\"New observer\")\n",
    "        obs=Observer(lon*DEG,lat*DEG,alt,objid)\n",
    "        obs._RP=obs._RE;obs._calcMatrices() #Correction for error in GravRay\n",
    "        obs.updateOrientationPosition(et)\n",
    "        GLOBAL_OBS=deepcopy(obs)\n",
    "    else:\n",
    "        #print(\"Old observer\")\n",
    "        obs=GLOBAL_OBS\n",
    "        if np.isclose(et,GLOBAL_OBS._et,rtol=1e-10)==False:\n",
    "            #print(\"New time\")\n",
    "            obs.updateOrientationPosition(et)\n",
    "            \n",
    "    #Simple estimation\n",
    "    if simple:\n",
    "        heliostate=obs.helioState(A*DEG,h*DEG,vimp)\n",
    "        E_sim=spy.oscelt(heliostate,et,MUSUN)\n",
    "    #Geocentric conic:\n",
    "    bodyState=obs.bodyState(A*DEG,h*DEG,vimp)\n",
    "    rt=spy.vnorm(bodyState[:3])\n",
    "    q,e,i,Omega,omega,Mo,eto,mu=spy.oscelt(bodyState,et,MUEARTH)\n",
    "    a=q/(1-e)\n",
    "    n=np.sqrt(MUEARTH/np.abs(a)**3)\n",
    "    etp=eto-Mo/n\n",
    "    #SoI:\n",
    "    fd=np.arccos((q*(1+e)/rSoI-1)/e)\n",
    "    #See: https://space.stackexchange.com/questions/27602/what-is-hyperbolic-eccentric-anomaly-f\n",
    "    Hd=2*np.arctanh(np.sqrt((e-1)/(e+1))*np.tan(fd/2))\n",
    "    Md=e*np.sinh(Hd)-Hd\n",
    "    deltat=Md/n\n",
    "    #Heliocentric conic:\n",
    "    earthpos=spy.spkezr(\"EARTH\",etp-deltat,\"ECLIPJ2000\",\"NONE\",\"SSB\")[0]\n",
    "    bodyStatet=spy.conics([q,e,i,Omega,omega,Mo,eto,MUEARTH],etp-deltat)\n",
    "    soipos=bodyStatet+earthpos\n",
    "    E_pcon=spy.oscelt(soipos,etp+deltat,MUSUN)\n",
    "    if simple:\n",
    "        return E_sim,E_pcon \n",
    "    else:\n",
    "        return E_pcon \n"
   ]
  },
  {
   "cell_type": "code",
   "execution_count": 350,
   "metadata": {},
   "outputs": [],
   "source": [
    "class Observer(object):\n",
    "    \"\"\"\n",
    "    lon: longitude, float, radians\n",
    "    lat: latitude, float, radians\n",
    "    alt: elevation over reference ellipsoid, float, km\n",
    "    objid: SPICE Object string (eg. EARTH), string\n",
    "    \"\"\"\n",
    "    _RF=dict(\n",
    "        EARTH=\"ITRF93\",\n",
    "        MOON=\"IAU_MOON\" #Others: MOON_PA, MOON_ME\n",
    "    )\n",
    "    _PROT=dict(EARTH=DAY,MOON=27.321661*DAY)\n",
    "    \n",
    "    def __init__(self,lon,lat,alt,objid):\n",
    "        self.lon=lon\n",
    "        self.lat=lat\n",
    "        self.alt=alt\n",
    "        self.objid=objid\n",
    "        radii=spy.bodvrd(self.objid,\"RADII\",3)[1]\n",
    "        self._RE=radii[0]\n",
    "        self._RP=radii[2]\n",
    "        self._FE=(self._RE-self._RP)/self._RE\n",
    "        self._positionBody=spy.georec(lon,lat,alt,self._RE,self._FE) \n",
    "        self._rho=((self._positionBody[:2]**2).sum())**0.5 #Distance to Earth's axis\n",
    "        #Minus sign is because local reference frame is: x=North, y=West, z=Up\n",
    "        #ERROR: This is probably a mistake\n",
    "        self._velocityLocal=np.array([0,-2*np.pi*self._rho/self._PROT[self.objid],0]) \n",
    "        #This is the correct sign (use only in the production code)\n",
    "        #self._velocityLocal=np.array([0,+2*np.pi*self._rho/self._PROT[self.objid],0]) \n",
    "        self._calcMatrices()\n",
    "        self._velocityBody=spy.mxv(self._loc2bod,self._velocityLocal)\n",
    "    \n",
    "    def _calcMatrices(self):\n",
    "        uz=spy.surfnm(self._RE,self._RE,self._RP,self._positionBody)\n",
    "        uy=spy.ucrss(np.array([0,0,1]),uz)\n",
    "        ux=spy.ucrss(uz,uy)\n",
    "        self._loc2bod=np.array(np.vstack((ux,uy,uz)).transpose().tolist())\n",
    "        self._bod2loc=np.linalg.inv(self._loc2bod)\n",
    "        self._bod2ecl=None\n",
    "        self._ecl2bod=None\n",
    "        \n",
    "    def updateOrientationPosition(self,et):\n",
    "        self._et=et\n",
    "        self._bod2ecl=spy.pxform(self._RF[self.objid],\"ECLIPJ2000\",et)\n",
    "        self._ecl2bod=np.linalg.inv(self._bod2ecl)\n",
    "        self._stateBody=spy.spkezr(self.objid,et,\"ECLIPJ2000\",\"NONE\",\"SSB\")[0]\n",
    "        self._positionEcl=spy.mxv(self._bod2ecl,self._positionBody)\n",
    "        self._positionEcl=self._positionEcl+self._stateBody[:3]\n",
    "        \n",
    "    def _checkOrientation(self):\n",
    "        if self._ecl2bod is None:\n",
    "            raise AssertionError(\"You must update orientation, eg. observer.updateOrientation(et)\")\n",
    "        \n",
    "    def ecl2loc(self,eclon,eclat):\n",
    "        \"\"\"\n",
    "        Parameters:\n",
    "            eclon: Ecliptic longitude, float, radians\n",
    "            eclat: Ecliptic latitude, float, radians\n",
    "        Return:\n",
    "            A: Azimuth (0,2 pi), float, radians\n",
    "            h: Elevation (-pi,pi), float, radians\n",
    "        \"\"\"\n",
    "        self._checkOrientation()\n",
    "        ecx,ecy,ecz=spy.latrec(1,eclon,eclat)\n",
    "        x,y,z=spy.mxv(self._bod2loc,spy.mxv(self._ecl2bod,[ecx,ecy,ecz]))\n",
    "        r,A,h=spy.reclat([x,y,z])\n",
    "        A=2*np.pi+A if A<0 else A\n",
    "        return A,h\n",
    "\n",
    "    def loc2ecl(self,A,h):\n",
    "        \"\"\"\n",
    "        Parameters:\n",
    "            A: Azimuth (0,2 pi), float, radians\n",
    "            h: Elevation (-pi,pi), float, radians\n",
    "        Return:\n",
    "            eclon: Ecliptic longitude (0,2pi), float, radians\n",
    "            eclat: Ecliptic latitude (-pi,pi), float, radians\n",
    "        \"\"\"\n",
    "        self._checkOrientation()\n",
    "        x,y,z=spy.latrec(1,A,h)\n",
    "        ecx,ecy,ecz=spy.mxv(self._bod2ecl,spy.mxv(self._loc2bod,[x,y,z]))\n",
    "        r,eclon,eclat=spy.reclat([ecx,ecy,ecz])\n",
    "        eclon=2*np.pi+eclon if eclon<0 else eclon\n",
    "        return eclon,eclat\n",
    "\n",
    "    def vBod2vloc(self,vBod):\n",
    "        \"\"\"\n",
    "        Parameters:\n",
    "            vBod: Velocity in the body-fixed system, np.array, km/s\n",
    "        Return:\n",
    "            A: Azimuth (0,2 pi), float, radians\n",
    "            h: Elevation (-pi,pi), float, radians\n",
    "            vloc: Impact speed in the local reference frame, (-infty,infty), float, km/s\n",
    "        \"\"\"\n",
    "        vLoc=spy.mxv(self._bod2loc,vBod)\n",
    "        vloc,A,h=spy.reclat(vLoc)\n",
    "        A=2*np.pi+A if A<0 else A\n",
    "        return A,h,vloc\n",
    "    \n",
    "    def vloc2vBod(self,A,h,vloc):\n",
    "        \"\"\"\n",
    "        Answer the question: what is the velocity (in the rotating geocentric reference frame) \n",
    "        of a particle GOING to A,h at a speed vloc. \n",
    "        \n",
    "        It is VERY important to take into account that if a particle is COMING from A,h, you \n",
    "        need to specify its velocity as (A,h,-vloc).\n",
    "\n",
    "        Parameters:\n",
    "            A: Azimuth (0,2 pi), float, radians\n",
    "            h: Elevation (-pi,pi), float, radians\n",
    "            vloc: Impact speed in the local reference frame, (-infty,infty), float, km/s\n",
    "        Return:\n",
    "            vBod: Velocity in the body-fixed system, np.array, km/s\n",
    "        \"\"\"\n",
    "        self._checkOrientation()\n",
    "        vLoc=spy.latrec(vloc,A,h)\n",
    "        vBod=spy.mxv(self._loc2bod,vLoc)\n",
    "        return vBod\n",
    "    \n",
    "    def vloc2vRot(self,A,h,vloc):\n",
    "        \"\"\"\n",
    "        Answer the question: what is the velocity (in the non-rotating geocentric reference frame) \n",
    "        of a particle GOING from A,h at a speed vloc\n",
    "\n",
    "        It is VERY important to take into account that if a particle is COMING from A,h, you \n",
    "        need to specify its velocity as (A,h,-vloc).\n",
    "\n",
    "        Parameters:\n",
    "            A: Azimuth (0,2 pi), float, radians\n",
    "            h: Elevation (-pi,pi), float, radians\n",
    "            vloc: Impact speed in the local reference frame, (-infty,infty), float, km/s\n",
    "        Return:\n",
    "            vRot: Velocity in the inertial system, body axes, np.array, km/s\n",
    "        \"\"\"\n",
    "        self._checkOrientation()\n",
    "        vLoc=spy.latrec(vloc,A,h)+self._velocityLocal\n",
    "        vRot=spy.mxv(self._loc2bod,vLoc)\n",
    "        return vRot\n",
    "        \n",
    "    def vloc2vEcl(self,A,h,vloc):\n",
    "        \"\"\"\n",
    "        Answer the question: what is the velocity (in the heliocentric reference frame) \n",
    "        of a particle GOING from A,h to a speed vloc\n",
    "\n",
    "        It is VERY importante to take into account that if a particle is COMING from A,h, you \n",
    "        need to specify its velocity as (A,h,-vloc) or (360-A,h,vloc).\n",
    "\n",
    "        Parameters:\n",
    "            A: Azimuth (0,2 pi), float, radians\n",
    "            h: Elevation (-pi,pi), float, radians\n",
    "            vloc: Impact speed in the local reference frame, (-infty,infty), float, km/s\n",
    "        Return:\n",
    "            vEcl: Velocity in the inertial ecliptic system, np.array, km/s\n",
    "        \"\"\"\n",
    "        vRot=self.vloc2vRot(A,h,vloc)\n",
    "        vEcl=spy.mxv(self._bod2ecl,vRot)+self._stateBody[3:]\n",
    "        return vEcl\n",
    "\n",
    "    def helioState(self,A,h,vloc):\n",
    "        \"\"\"\n",
    "        Answer the question: what is the heliocentric state of a particle COMING from A,h to a speed vloc\n",
    "\n",
    "        Parameters:\n",
    "            A: Azimuth (0,2 pi), float, radians\n",
    "            h: Elevation (-pi,pi), float, radians\n",
    "            vloc: Impact speed in the local reference frame, (-infty,infty), float, km/s\n",
    "        Return:\n",
    "            bodyState: State vector with respect to sun, np.array (6), (km,km,km,km/s,km/s,km/s)\n",
    "        \"\"\"\n",
    "        vEcl=self.vloc2vEcl(A,h,vloc)\n",
    "        state=np.concatenate((self._positionEcl,vEcl))\n",
    "        return state\n",
    "\n",
    "    def bodyState(self,A,h,vloc):\n",
    "        \"\"\"\n",
    "        Answer the question: what is the heliocentric state of a particle COMING from A,h to a speed vloc\n",
    "\n",
    "        Parameters:\n",
    "            A: Azimuth (0,2 pi), float, radians\n",
    "            h: Elevation (-pi,pi), float, radians\n",
    "            vloc: Impact speed in the local reference frame, (-infty,infty), float, km/s\n",
    "        Return:\n",
    "            bodyState: State vector with respect to geocenter, np.array (6), (km,km,km,km/s,km/s,km/s)\n",
    "        \"\"\"\n",
    "        return self.helioState(A,h,vloc)-self._stateBody\n",
    "\n",
    "    \n",
    "    def vecl2vEcl(self,eclon,eclat,vloc):\n",
    "        \"\"\"\n",
    "        Parameters:\n",
    "            eclon: Ecliptic longitude (0,2 pi), float, radians\n",
    "            eclat: Ecliptic latitude (-pi,pi), float, radians\n",
    "            vloc: Impact speed in the local reference frame, (0,infty), float, km/s\n",
    "        Return:\n",
    "            vEcl: Velocity in the ecliptic system, np.array, km/s\n",
    "        \"\"\"\n",
    "        self._checkOrientation()\n",
    "        A,h=self.ecl2loc(eclon,eclat)\n",
    "        vEcl=self.vloc2vEcl(vloc,A,h)\n",
    "        return vEcl"
   ]
  },
  {
   "cell_type": "markdown",
   "metadata": {},
   "source": [
    "## Data Reading"
   ]
  },
  {
   "cell_type": "code",
   "execution_count": 413,
   "metadata": {},
   "outputs": [
    {
     "data": {
      "text/html": [
       "<div>\n",
       "<style scoped>\n",
       "    .dataframe tbody tr th:only-of-type {\n",
       "        vertical-align: middle;\n",
       "    }\n",
       "\n",
       "    .dataframe tbody tr th {\n",
       "        vertical-align: top;\n",
       "    }\n",
       "\n",
       "    .dataframe thead th {\n",
       "        text-align: right;\n",
       "    }\n",
       "</style>\n",
       "<table border=\"1\" class=\"dataframe\">\n",
       "  <thead>\n",
       "    <tr style=\"text-align: right;\">\n",
       "      <th></th>\n",
       "      <th>h</th>\n",
       "      <th>Az</th>\n",
       "      <th>vimp</th>\n",
       "      <th>xobs</th>\n",
       "      <th>yobs</th>\n",
       "      <th>zobs</th>\n",
       "      <th>vxobs</th>\n",
       "      <th>vyobs</th>\n",
       "      <th>vzobs</th>\n",
       "      <th>q</th>\n",
       "      <th>e</th>\n",
       "      <th>i</th>\n",
       "      <th>Omega</th>\n",
       "      <th>omega</th>\n",
       "      <th>M</th>\n",
       "      <th>qapex</th>\n",
       "      <th>ET</th>\n",
       "      <th>lat</th>\n",
       "      <th>lon</th>\n",
       "    </tr>\n",
       "  </thead>\n",
       "  <tbody>\n",
       "    <tr>\n",
       "      <th>count</th>\n",
       "      <td>240.000000</td>\n",
       "      <td>240.000000</td>\n",
       "      <td>240.000000</td>\n",
       "      <td>2.400000e+02</td>\n",
       "      <td>2.400000e+02</td>\n",
       "      <td>2.400000e+02</td>\n",
       "      <td>240.000000</td>\n",
       "      <td>240.000000</td>\n",
       "      <td>240.000000</td>\n",
       "      <td>240.000000</td>\n",
       "      <td>240.000000</td>\n",
       "      <td>240.000000</td>\n",
       "      <td>240.000000</td>\n",
       "      <td>240.000000</td>\n",
       "      <td>240.000000</td>\n",
       "      <td>240.000000</td>\n",
       "      <td>240.0</td>\n",
       "      <td>240.0000</td>\n",
       "      <td>2.400000e+02</td>\n",
       "    </tr>\n",
       "    <tr>\n",
       "      <th>mean</th>\n",
       "      <td>27.888800</td>\n",
       "      <td>140.570933</td>\n",
       "      <td>24.262070</td>\n",
       "      <td>-3.036576e+07</td>\n",
       "      <td>1.434527e+08</td>\n",
       "      <td>6.585296e+04</td>\n",
       "      <td>-23.830851</td>\n",
       "      <td>-13.021597</td>\n",
       "      <td>-8.143034</td>\n",
       "      <td>0.616244</td>\n",
       "      <td>0.934123</td>\n",
       "      <td>31.889037</td>\n",
       "      <td>236.156666</td>\n",
       "      <td>179.616384</td>\n",
       "      <td>-4.431282</td>\n",
       "      <td>102.619161</td>\n",
       "      <td>86400.0</td>\n",
       "      <td>41.1274</td>\n",
       "      <td>4.564520e+01</td>\n",
       "    </tr>\n",
       "    <tr>\n",
       "      <th>std</th>\n",
       "      <td>18.220802</td>\n",
       "      <td>103.557705</td>\n",
       "      <td>12.040894</td>\n",
       "      <td>7.839459e-08</td>\n",
       "      <td>4.479691e-07</td>\n",
       "      <td>1.604056e-10</td>\n",
       "      <td>15.174671</td>\n",
       "      <td>13.093465</td>\n",
       "      <td>14.169102</td>\n",
       "      <td>0.305585</td>\n",
       "      <td>0.816743</td>\n",
       "      <td>27.179612</td>\n",
       "      <td>78.704675</td>\n",
       "      <td>104.648540</td>\n",
       "      <td>466.431282</td>\n",
       "      <td>37.104474</td>\n",
       "      <td>0.0</td>\n",
       "      <td>0.0000</td>\n",
       "      <td>1.708866e-13</td>\n",
       "    </tr>\n",
       "    <tr>\n",
       "      <th>min</th>\n",
       "      <td>6.603600</td>\n",
       "      <td>1.650200</td>\n",
       "      <td>4.466000</td>\n",
       "      <td>-3.036576e+07</td>\n",
       "      <td>1.434527e+08</td>\n",
       "      <td>6.585296e+04</td>\n",
       "      <td>-64.497246</td>\n",
       "      <td>-43.258001</td>\n",
       "      <td>-42.524380</td>\n",
       "      <td>0.028893</td>\n",
       "      <td>0.043644</td>\n",
       "      <td>0.269588</td>\n",
       "      <td>98.513614</td>\n",
       "      <td>0.121733</td>\n",
       "      <td>-2466.732658</td>\n",
       "      <td>33.034627</td>\n",
       "      <td>86400.0</td>\n",
       "      <td>41.1274</td>\n",
       "      <td>4.564520e+01</td>\n",
       "    </tr>\n",
       "    <tr>\n",
       "      <th>25%</th>\n",
       "      <td>12.875500</td>\n",
       "      <td>61.096250</td>\n",
       "      <td>14.364000</td>\n",
       "      <td>-3.036576e+07</td>\n",
       "      <td>1.434527e+08</td>\n",
       "      <td>6.585296e+04</td>\n",
       "      <td>-33.573665</td>\n",
       "      <td>-20.596194</td>\n",
       "      <td>-17.570737</td>\n",
       "      <td>0.338888</td>\n",
       "      <td>0.420495</td>\n",
       "      <td>11.291967</td>\n",
       "      <td>102.104709</td>\n",
       "      <td>113.476647</td>\n",
       "      <td>-5.768528</td>\n",
       "      <td>77.277302</td>\n",
       "      <td>86400.0</td>\n",
       "      <td>41.1274</td>\n",
       "      <td>4.564520e+01</td>\n",
       "    </tr>\n",
       "    <tr>\n",
       "      <th>50%</th>\n",
       "      <td>22.713000</td>\n",
       "      <td>124.235000</td>\n",
       "      <td>24.262000</td>\n",
       "      <td>-3.036576e+07</td>\n",
       "      <td>1.434527e+08</td>\n",
       "      <td>6.585296e+04</td>\n",
       "      <td>-24.409549</td>\n",
       "      <td>-12.154735</td>\n",
       "      <td>-7.532605</td>\n",
       "      <td>0.705219</td>\n",
       "      <td>0.694832</td>\n",
       "      <td>25.111684</td>\n",
       "      <td>281.609922</td>\n",
       "      <td>162.866523</td>\n",
       "      <td>118.217165</td>\n",
       "      <td>107.673243</td>\n",
       "      <td>86400.0</td>\n",
       "      <td>41.1274</td>\n",
       "      <td>4.564520e+01</td>\n",
       "    </tr>\n",
       "    <tr>\n",
       "      <th>75%</th>\n",
       "      <td>42.944250</td>\n",
       "      <td>205.677500</td>\n",
       "      <td>34.160000</td>\n",
       "      <td>-3.036576e+07</td>\n",
       "      <td>1.434527e+08</td>\n",
       "      <td>6.585296e+04</td>\n",
       "      <td>-13.529866</td>\n",
       "      <td>-6.566759</td>\n",
       "      <td>-0.309185</td>\n",
       "      <td>0.903038</td>\n",
       "      <td>1.041101</td>\n",
       "      <td>43.921666</td>\n",
       "      <td>281.973542</td>\n",
       "      <td>275.779525</td>\n",
       "      <td>263.276926</td>\n",
       "      <td>130.643238</td>\n",
       "      <td>86400.0</td>\n",
       "      <td>41.1274</td>\n",
       "      <td>4.564520e+01</td>\n",
       "    </tr>\n",
       "    <tr>\n",
       "      <th>max</th>\n",
       "      <td>62.009000</td>\n",
       "      <td>340.080000</td>\n",
       "      <td>44.058000</td>\n",
       "      <td>-3.036576e+07</td>\n",
       "      <td>1.434527e+08</td>\n",
       "      <td>6.585296e+04</td>\n",
       "      <td>13.633496</td>\n",
       "      <td>15.018812</td>\n",
       "      <td>27.897640</td>\n",
       "      <td>0.995276</td>\n",
       "      <td>4.516977</td>\n",
       "      <td>136.342493</td>\n",
       "      <td>296.953673</td>\n",
       "      <td>355.365028</td>\n",
       "      <td>357.761784</td>\n",
       "      <td>161.802333</td>\n",
       "      <td>86400.0</td>\n",
       "      <td>41.1274</td>\n",
       "      <td>4.564520e+01</td>\n",
       "    </tr>\n",
       "  </tbody>\n",
       "</table>\n",
       "</div>"
      ],
      "text/plain": [
       "                h          Az        vimp          xobs          yobs  \\\n",
       "count  240.000000  240.000000  240.000000  2.400000e+02  2.400000e+02   \n",
       "mean    27.888800  140.570933   24.262070 -3.036576e+07  1.434527e+08   \n",
       "std     18.220802  103.557705   12.040894  7.839459e-08  4.479691e-07   \n",
       "min      6.603600    1.650200    4.466000 -3.036576e+07  1.434527e+08   \n",
       "25%     12.875500   61.096250   14.364000 -3.036576e+07  1.434527e+08   \n",
       "50%     22.713000  124.235000   24.262000 -3.036576e+07  1.434527e+08   \n",
       "75%     42.944250  205.677500   34.160000 -3.036576e+07  1.434527e+08   \n",
       "max     62.009000  340.080000   44.058000 -3.036576e+07  1.434527e+08   \n",
       "\n",
       "               zobs       vxobs       vyobs       vzobs           q  \\\n",
       "count  2.400000e+02  240.000000  240.000000  240.000000  240.000000   \n",
       "mean   6.585296e+04  -23.830851  -13.021597   -8.143034    0.616244   \n",
       "std    1.604056e-10   15.174671   13.093465   14.169102    0.305585   \n",
       "min    6.585296e+04  -64.497246  -43.258001  -42.524380    0.028893   \n",
       "25%    6.585296e+04  -33.573665  -20.596194  -17.570737    0.338888   \n",
       "50%    6.585296e+04  -24.409549  -12.154735   -7.532605    0.705219   \n",
       "75%    6.585296e+04  -13.529866   -6.566759   -0.309185    0.903038   \n",
       "max    6.585296e+04   13.633496   15.018812   27.897640    0.995276   \n",
       "\n",
       "                e           i       Omega       omega            M  \\\n",
       "count  240.000000  240.000000  240.000000  240.000000   240.000000   \n",
       "mean     0.934123   31.889037  236.156666  179.616384    -4.431282   \n",
       "std      0.816743   27.179612   78.704675  104.648540   466.431282   \n",
       "min      0.043644    0.269588   98.513614    0.121733 -2466.732658   \n",
       "25%      0.420495   11.291967  102.104709  113.476647    -5.768528   \n",
       "50%      0.694832   25.111684  281.609922  162.866523   118.217165   \n",
       "75%      1.041101   43.921666  281.973542  275.779525   263.276926   \n",
       "max      4.516977  136.342493  296.953673  355.365028   357.761784   \n",
       "\n",
       "            qapex       ET       lat           lon  \n",
       "count  240.000000    240.0  240.0000  2.400000e+02  \n",
       "mean   102.619161  86400.0   41.1274  4.564520e+01  \n",
       "std     37.104474      0.0    0.0000  1.708866e-13  \n",
       "min     33.034627  86400.0   41.1274  4.564520e+01  \n",
       "25%     77.277302  86400.0   41.1274  4.564520e+01  \n",
       "50%    107.673243  86400.0   41.1274  4.564520e+01  \n",
       "75%    130.643238  86400.0   41.1274  4.564520e+01  \n",
       "max    161.802333  86400.0   41.1274  4.564520e+01  "
      ]
     },
     "execution_count": 413,
     "metadata": {},
     "output_type": "execute_result"
    }
   ],
   "source": [
    "fname=f\"{BDIR}/../grt-YearTestMoon.data\"\n",
    "data=np.loadtxt(fname)\n",
    "columns=[\"h\",\"Az\",\"vimp\",\"xobs\",\"yobs\",\"zobs\",\"vxobs\",\"vyobs\",\"vzobs\",\"q\",\"e\",\"i\",\"Omega\",\"omega\",\"M\",\"qapex\"]\n",
    "data=pd.DataFrame(data,columns=columns)\n",
    "data[\"ET\"]=86400\n",
    "data[\"lat\"]=4.11274e+01\n",
    "data[\"lon\"]=4.56452e+01\n",
    "data.describe()"
   ]
  },
  {
   "cell_type": "code",
   "execution_count": 414,
   "metadata": {},
   "outputs": [
    {
     "data": {
      "text/plain": [
       "(41.1274, 45.6452, 1.6502, 56.981, 4.466, 86400.0, '2000 JAN 02 11:58:56')"
      ]
     },
     "execution_count": 414,
     "metadata": {},
     "output_type": "execute_result"
    }
   ],
   "source": [
    "iev=100\n",
    "event=data.iloc[iev]\n",
    "obs=Observer(event[\"lon\"]*DEG,event[\"lat\"]*DEG,10.0,\"MOON\")\n",
    "obs.updateOrientationPosition(event[\"ET\"])\n",
    "event[\"lat\"],event[\"lon\"],event[\"Az\"],event[\"h\"],event[\"vimp\"],event[\"ET\"],spy.et2utc(event[\"ET\"],\"C\",0)"
   ]
  },
  {
   "cell_type": "code",
   "execution_count": 333,
   "metadata": {},
   "outputs": [
    {
     "data": {
      "text/plain": [
       "(array([-3.03657568e+07,  1.43452692e+08,  6.58529629e+04]),\n",
       " array([-28.58080454,  -7.71067586,  -4.33760638]),\n",
       " array([-3.03657568e+07,  1.43452692e+08,  6.58529629e+04]),\n",
       " array([-28.58080454,  -7.71067586,  -4.33760638]))"
      ]
     },
     "execution_count": 333,
     "metadata": {},
     "output_type": "execute_result"
    }
   ],
   "source": [
    "#Comparison\n",
    "opt=(event[\"Az\"])*DEG,event[\"h\"]*DEG,-event[\"vimp\"]\n",
    "#opt=(360-event[\"Az\"])*DEG,-event[\"h\"]*DEG,event[\"vimp\"]\n",
    "obs._positionEcl,obs.vloc2vEcl(*opt),\\\n",
    "event[[\"xobs\",\"yobs\",\"zobs\"]].values,event[[\"vxobs\",\"vyobs\",\"vzobs\"]].values"
   ]
  },
  {
   "cell_type": "code",
   "execution_count": 11,
   "metadata": {},
   "outputs": [
    {
     "data": {
      "text/plain": [
       "((1.0, 41.0, 7.0, 38.64000000000544), (1.0, 45.0, 38.0, 42.72000000000958))"
      ]
     },
     "execution_count": 11,
     "metadata": {},
     "output_type": "execute_result"
    }
   ],
   "source": [
    "Angle.dms(event[\"lat\"]),Angle.dms(event[\"lon\"])"
   ]
  },
  {
   "cell_type": "code",
   "execution_count": 12,
   "metadata": {},
   "outputs": [
    {
     "data": {
      "text/plain": [
       "(255.71124925564067,\n",
       " 11.668502463518497,\n",
       " (1.0, 255.0, 42.0, 40.49732030639916),\n",
       " (1.0, 11.0, 40.0, 6.608868666587853),\n",
       " (1.0, 255.0, 43.0, 5.159999999973479),\n",
       " (1.0, 11.0, 39.0, 41.040000000001555))"
      ]
     },
     "execution_count": 12,
     "metadata": {},
     "output_type": "execute_result"
    }
   ],
   "source": [
    "#Test position in the sky of Jupiter\n",
    "eclon=25.3157371\n",
    "eclat=-1.2593327\n",
    "A,h=obs.ecl2loc(eclon*DEG,eclat*DEG)\n",
    "A*RAD,h*RAD,Angle.dms(A*RAD),Angle.dms(h*RAD),Angle.dms(255.7181),Angle.dms(11.6614) #Horizons NASA"
   ]
  },
  {
   "cell_type": "code",
   "execution_count": 13,
   "metadata": {},
   "outputs": [
    {
     "data": {
      "text/plain": [
       "(55.14827427547071,\n",
       " -5.058802864839488,\n",
       " (1.0, 55.0, 8.0, 53.78739169456253),\n",
       " (-1.0, 5.0, 3.0, 31.69031342215696),\n",
       " (1.0, 55.0, 9.0, 28.97964000000627),\n",
       " (-1.0, 5.0, 3.0, 31.949279999999618))"
      ]
     },
     "execution_count": 13,
     "metadata": {},
     "output_type": "execute_result"
    }
   ],
   "source": [
    "#Test position in the sky\n",
    "A=229.2705\n",
    "h=28.8062\n",
    "eclon,eclat=obs.loc2ecl(A*DEG,h*DEG)\n",
    "eclon*RAD,eclat*RAD,Angle.dms(eclon*RAD),Angle.dms(eclat*RAD),Angle.dms(55.1580499),Angle.dms(-5.0588748) #Horizons NASA"
   ]
  },
  {
   "cell_type": "code",
   "execution_count": 202,
   "metadata": {},
   "outputs": [
    {
     "name": "stdout",
     "output_type": "stream",
     "text": [
      "q=0.9369969255779982 AU,e=0.043644234208226565,i=6.642858084856535,W=282.68973546206416,w=278.6187076890909\n",
      "M=254.0570472501382,a=0.9797577001088629 AU\n"
     ]
    }
   ],
   "source": [
    "#Numerically determined\n",
    "q,e,i,Omega,omega,M=event[[\"q\",\"e\",\"i\",\"Omega\",\"omega\",\"M\"]].values\n",
    "print(f\"q={q} AU,e={e},i={i},W={Omega},w={omega}\\nM={M},a={q/(1-e)} AU\")"
   ]
  },
  {
   "cell_type": "code",
   "execution_count": 203,
   "metadata": {},
   "outputs": [
    {
     "name": "stdout",
     "output_type": "stream",
     "text": [
      "q=0.9157429901259455 AU,e=0.05546623496235629,i=8.347154252753898,W=282.12719618580036,w=284.34681726132453\n",
      "M=261.6905588214188,f=255.4759298603374,a=0.9695185328704996 AU,P=0.9546721770196913 yr\n"
     ]
    }
   ],
   "source": [
    "#Simply determined\n",
    "heliostate=obs.helioState(event[\"Az\"]*DEG,event[\"h\"]*DEG,-event[\"vimp\"])\n",
    "q,e,i,Omega,omega,M,et,mu,f,a,P=spy.oscltx(heliostate,event[\"ET\"],MUSUN)\n",
    "print(f\"q={q/AU} AU,e={e},i={i*RAD},W={Omega*RAD},w={omega*RAD}\\nM={M*RAD},f={f*RAD},a={a/AU} AU,P={P/YEAR} yr\")"
   ]
  },
  {
   "cell_type": "markdown",
   "metadata": {},
   "source": [
    "## Patched conics determination\n",
    "\n",
    "Here we will attempt to determine the orbital elements using a patched conics determination"
   ]
  },
  {
   "cell_type": "markdown",
   "metadata": {},
   "source": [
    "### Moon+geo"
   ]
  },
  {
   "cell_type": "code",
   "execution_count": 253,
   "metadata": {},
   "outputs": [
    {
     "name": "stdout",
     "output_type": "stream",
     "text": [
      "[-1.89857046e+02  1.28796481e+03  1.16555039e+03  3.21996982e-01\n",
      " -1.13500888e+00 -4.30740433e+00]\n",
      "q=0.47895130343059333 AU,e=3.432865455360587,i=92.68521671744234,W=275.9790084059429,w=209.22356088849344\n",
      "M=-221.95857226221077,f=246.96871260361533,a=-0.19686715612458955 AU, n=0.011069103921554049 rad/s,\n",
      "r = 1747.400000010071 km, tp = 86749.97484136526 s\n"
     ]
    }
   ],
   "source": [
    "#Moon-centered orbit\n",
    "bodystate=obs.bodyState(event[\"Az\"]*DEG,event[\"h\"]*DEG,-event[\"vimp\"])\n",
    "print(bodystate)\n",
    "rt=spy.vnorm(bodystate[:3])\n",
    "q,e,i,Omega,omega,Mo,eto,mu=spy.oscelt(bodystate,event[\"ET\"],MUMOON)\n",
    "a=q/(1-e)\n",
    "n=np.sqrt(MUMOON/np.abs(a)**3)\n",
    "etp=eto-Mo/n\n",
    "print(f\"q={q/obs._RE} AU,e={e},i={i*RAD},W={Omega*RAD},w={omega*RAD}\\nM={Mo*RAD},\\\n",
    "f={f*RAD},a={a/obs._RE} AU, n={n} rad/s,\\nr = {rt} km, tp = {etp} s\")"
   ]
  },
  {
   "cell_type": "code",
   "execution_count": 254,
   "metadata": {},
   "outputs": [
    {
     "name": "stdout",
     "output_type": "stream",
     "text": [
      "r = 61460.054961310416 km, f=105.89161261391693,H=266.79408402001167,M=10084.015728997478,deltat=15900.047333659217 s\n"
     ]
    }
   ],
   "source": [
    "#Propagate until RHM\n",
    "r=384000*(MUMOON/(3*MUEARTH))**(1./3)\n",
    "fd=np.arccos((q*(1+e)/r-1)/e)\n",
    "Hd=2*np.arctanh(np.sqrt((e-1)/(e+1))*np.tan(fd/2))\n",
    "Md=e*np.sinh(Hd)-Hd\n",
    "deltat=Md/n\n",
    "print(f\"r = {r} km, f={fd*RAD},H={Hd*RAD},M={Md*RAD},deltat={deltat} s\")"
   ]
  },
  {
   "cell_type": "code",
   "execution_count": 255,
   "metadata": {},
   "outputs": [
    {
     "name": "stdout",
     "output_type": "stream",
     "text": [
      "[-4.26272349e+03  1.38032838e+04  5.97380691e+04  2.57734831e-01\n",
      " -7.87842722e-01 -3.71571567e+00]\n"
     ]
    },
    {
     "data": {
      "text/plain": [
       "61460.0549613104"
      ]
     },
     "execution_count": 255,
     "metadata": {},
     "output_type": "execute_result"
    }
   ],
   "source": [
    "#State vector at hill radius\n",
    "bodystatet=spy.conics([q,e,i,Omega,omega,Mo,eto,MUMOON],etp-deltat)\n",
    "print(bodystatet)\n",
    "spy.vnorm(bodystatet[:3])"
   ]
  },
  {
   "cell_type": "code",
   "execution_count": 257,
   "metadata": {},
   "outputs": [
    {
     "name": "stdout",
     "output_type": "stream",
     "text": [
      "[-2.99158084e+07  1.43553166e+08  6.51317071e+04 -2.89438288e+01\n",
      " -6.51244423e+00 -2.69333041e-02] 70849.92750770604\n",
      "q=0.9197874453778818 AU,e=0.046433986150209085,i=7.211064432629331,W=282.1578063511331,w=292.64263012846857\n",
      "M=251.93154808996692,f=246.96871260361533,a=0.9645765809799196 AU,P=0.9473820740432116 yr\n",
      "Numerical: q=0.9369969255779982 AU,e=0.043644234208226565,i=6.642858084856535,W=282.68973546206416,w=278.6187076890909\n",
      "M=254.0570472501382,a=0.9797577001088629 AU\n"
     ]
    }
   ],
   "source": [
    "moonpos=spy.spkezr(\"MOON\",etp-deltat,\"ECLIPJ2000\",\"NONE\",\"SSB\")[0]\n",
    "print(moonpos,etp-deltat)\n",
    "q,e,i,Omega,omega,M,et,mu,f,a,P=spy.oscltx(bodystatet+moonpos,etp-deltat,MUSUN)\n",
    "print(f\"q={q/AU} AU,e={e},i={i*RAD},W={Omega*RAD},w={omega*RAD}\\nM={M*RAD},f={f*RAD},a={a/AU} AU,P={P/YEAR} yr\")\n",
    "#Numerically determined\n",
    "q,e,i,Omega,omega,M=event[[\"q\",\"e\",\"i\",\"Omega\",\"omega\",\"M\"]].values\n",
    "print(f\"Numerical: q={q} AU,e={e},i={i},W={Omega},w={omega}\\nM={M},a={q/(1-e)} AU\")"
   ]
  },
  {
   "cell_type": "code",
   "execution_count": 226,
   "metadata": {},
   "outputs": [],
   "source": [
    "#Geo Position\n",
    "moonpos=spy.spkezr(\"MOON\",etp-deltat,\"ECLIPJ2000\",\"NONE\",\"SSB\")[0]\n",
    "earthpos=spy.spkezr(\"EARTH\",etp-deltat,\"ECLIPJ2000\",\"NONE\",\"SSB\")[0]\n",
    "geostate=(bodystatet+moonpos)-earthpos"
   ]
  },
  {
   "cell_type": "code",
   "execution_count": 227,
   "metadata": {},
   "outputs": [
    {
     "name": "stdout",
     "output_type": "stream",
     "text": [
      "q=232.1601741184112 RE,e=16.192853450552825,i=66.7549170838891,W=57.34763422817943,w=171.7128149204201\n",
      "M=-92.0200056883416,f=246.96871260361533,a=-15.280880242411838 RE, n=0.00014594748007266766 rad/s,\n",
      "r = 405749.8811077541 km, tp = 81854.24273237326 s\n"
     ]
    }
   ],
   "source": [
    "#Geo orbit\n",
    "eto=etp-deltat\n",
    "rt=spy.vnorm(geostate[:3])\n",
    "q,e,i,Omega,omega,Mo,eto,mu=spy.oscelt(geostate,eto,MUEARTH)\n",
    "a=q/(1-e)\n",
    "n=np.sqrt(MUEARTH/np.abs(a)**3)\n",
    "etp=eto-Mo/n\n",
    "print(f\"q={q/obs._RE} RE,e={e},i={i*RAD},W={Omega*RAD},w={omega*RAD}\\nM={Mo*RAD},\\\n",
    "f={f*RAD},a={a/obs._RE} RE, n={n} rad/s,\\nr = {rt} km, tp = {etp} s\")"
   ]
  },
  {
   "cell_type": "code",
   "execution_count": 228,
   "metadata": {},
   "outputs": [
    {
     "name": "stdout",
     "output_type": "stream",
     "text": [
      "f=68.49952753071506,H=86.88882039185472,M=1924.89200673237,deltat=230190.3619444016 s\n"
     ]
    }
   ],
   "source": [
    "#Earth Hill-sphere\n",
    "r=1e6\n",
    "fd=np.arccos((q*(1+e)/r-1)/e)\n",
    "Hd=2*np.arctanh(np.sqrt((e-1)/(e+1))*np.tan(fd/2))\n",
    "Md=e*np.sinh(Hd)-Hd\n",
    "deltat=Md/n\n",
    "geostatet=spy.conics([q,e,i,Omega,omega,Mo,eto,MUEARTH],etp-deltat)\n",
    "print(f\"f={fd*RAD},H={Hd*RAD},M={Md*RAD},deltat={deltat} s\")"
   ]
  },
  {
   "cell_type": "code",
   "execution_count": 229,
   "metadata": {},
   "outputs": [
    {
     "name": "stdout",
     "output_type": "stream",
     "text": [
      "Patched Conics: q=0.9278622334593476 AU,e=0.046416326807781134,i=6.87587782968895,W=282.22718391522164,w=281.4119483402276\n",
      "M=260.76938882076723,f=255.57489115677922,a=0.9730265518842551 AU,P=0.9598583116554641 yr\n",
      "Numerical: q=0.9369969255779982 AU,e=0.043644234208226565,i=6.642858084856535,W=282.68973546206416,w=278.6187076890909\n",
      "M=254.0570472501382,a=0.9797577001088629 AU\n"
     ]
    }
   ],
   "source": [
    "#Patched conics\n",
    "earthpos=spy.spkezr(\"EARTH\",etp-deltat,\"ECLIPJ2000\",\"NONE\",\"SSB\")[0]\n",
    "soipos=geostatet+earthpos\n",
    "q,e,i,Omega,omega,M,et,mu,f,a,P=spy.oscltx(soipos,etp-deltat,MUSUN)\n",
    "print(f\"Patched Conics: q={q/AU} AU,e={e},i={i*RAD},W={Omega*RAD},w={omega*RAD}\\nM={M*RAD},f={f*RAD},a={a/AU} AU,P={P/YEAR} yr\")\n",
    "#Numerically determined\n",
    "q,e,i,Omega,omega,M=event[[\"q\",\"e\",\"i\",\"Omega\",\"omega\",\"M\"]].values\n",
    "print(f\"Numerical: q={q} AU,e={e},i={i},W={Omega},w={omega}\\nM={M},a={q/(1-e)} AU\")"
   ]
  },
  {
   "cell_type": "markdown",
   "metadata": {},
   "source": [
    "### Only Geo"
   ]
  },
  {
   "cell_type": "code",
   "execution_count": 24,
   "metadata": {},
   "outputs": [],
   "source": [
    "#Moon-centered orbit\n",
    "moonpos=spy.spkezr(\"MOON\",eto,\"ECLIPJ2000\",\"NONE\",\"SSB\")[0]\n",
    "earthpos=spy.spkezr(\"EARTH\",eto,\"ECLIPJ2000\",\"NONE\",\"SSB\")[0]\n",
    "bodystate=obs.bodyState(event[\"Az\"]*DEG,event[\"h\"]*DEG,-event[\"vimp\"])\n",
    "geostate=(bodystate+moonpos)-earthpos"
   ]
  },
  {
   "cell_type": "code",
   "execution_count": 25,
   "metadata": {},
   "outputs": [
    {
     "name": "stdout",
     "output_type": "stream",
     "text": [
      "q=231.65451322094643 AU,e=22.207267609460626,i=66.54951514359514,W=55.231022786363134,w=170.0962969630628\n",
      "M=87.61518637862835,f=255.57489115677922,a=-10.923355025595312 AU, n=0.00024148217864864409 rad/s,\n",
      "r = 403570.67467764666 km, tp = 80067.55142920715 s\n",
      "Patched Conics: q=0.9242436673918892 AU,e=0.0574457483843796,i=8.017086874131467,W=282.17873112405607,w=272.72273864287814\n",
      "M=271.26247805880564,f=264.68532663120396,a=0.9805734426508127 AU,P=0.9710470719753568 yr\n",
      "Numerical: q=0.9369969255779982 AU,e=0.043644234208226565,i=6.642858084856535,W=282.68973546206416,w=278.6187076890909\n",
      "M=254.0570472501382,a=0.9797577001088629 AU\n"
     ]
    }
   ],
   "source": [
    "rt=spy.vnorm(geostate[:3])\n",
    "q,e,i,Omega,omega,Mo,eto,mu=spy.oscelt(geostate,event[\"ET\"],MUEARTH)\n",
    "a=q/(1-e)\n",
    "n=np.sqrt(MUEARTH/np.abs(a)**3)\n",
    "etp=eto-Mo/n\n",
    "print(f\"q={q/obs._RE} AU,e={e},i={i*RAD},W={Omega*RAD},w={omega*RAD}\\nM={Mo*RAD},\\\n",
    "f={f*RAD},a={a/obs._RE} AU, n={n} rad/s,\\nr = {rt} km, tp = {etp} s\")\n",
    "\n",
    "r=1e6\n",
    "fd=np.arccos((q*(1+e)/r-1)/e)\n",
    "Hd=2*np.arctanh(np.sqrt((e-1)/(e+1))*np.tan(fd/2))\n",
    "Md=e*np.sinh(Hd)-Hd\n",
    "deltat=Md/n\n",
    "\n",
    "geostatet=spy.conics([q,e,i,Omega,omega,Mo,eto,MUEARTH],etp-deltat)\n",
    "\n",
    "#Patched conics\n",
    "earthpos=spy.spkezr(\"EARTH\",etp-deltat,\"ECLIPJ2000\",\"NONE\",\"SSB\")[0]\n",
    "soipos=geostatet+earthpos\n",
    "q,e,i,Omega,omega,M,et,mu,f,a,P=spy.oscltx(soipos,etp+deltat,MUSUN)\n",
    "print(f\"Patched Conics: q={q/AU} AU,e={e},i={i*RAD},W={Omega*RAD},w={omega*RAD}\\nM={M*RAD},f={f*RAD},a={a/AU} AU,P={P/YEAR} yr\")\n",
    "#Numerically determined\n",
    "q,e,i,Omega,omega,M=event[[\"q\",\"e\",\"i\",\"Omega\",\"omega\",\"M\"]].values\n",
    "print(f\"Numerical: q={q} AU,e={e},i={i},W={Omega},w={omega}\\nM={M},a={q/(1-e)} AU\")"
   ]
  },
  {
   "cell_type": "markdown",
   "metadata": {},
   "source": [
    "## General routine"
   ]
  },
  {
   "cell_type": "code",
   "execution_count": 379,
   "metadata": {},
   "outputs": [],
   "source": [
    "from copy import deepcopy\n",
    "GLOBAL_OBS=None\n",
    "def rayOscelt(lon,lat,alt,objid,A,h,vimp,et,objects=[\"EARTH\"],mus=[MUEARTH],rhill=[1e6],simple=True):\n",
    "    \"\"\"\n",
    "    Compute the orbital elements of a particle impacting on lon, lat, alt at time et\n",
    "    going towards A, h at speed vimp.\n",
    "    \n",
    "    Parameters:\n",
    "        lon: Longitude, float, degrees\n",
    "        lat: Latitude, float, degrees\n",
    "        alt: Altitude, float, km\n",
    "        A: Azimuth, float, degrees\n",
    "        h: Elevation, float, degrees\n",
    "        vimp: Impact speed, float (negative), km/s\n",
    "    \"\"\"\n",
    "    #Prepare observer structure\n",
    "    global GLOBAL_OBS\n",
    "    if (GLOBAL_OBS is None) or \\\n",
    "            np.isclose([lon,lat,alt],[GLOBAL_OBS.lon*RAD,GLOBAL_OBS.lat*RAD,GLOBAL_OBS.alt],rtol=1e-5).sum()<3:\n",
    "        #print(\"New observer\")\n",
    "        obs=Observer(lon*DEG,lat*DEG,alt,objid)\n",
    "        obs._RP=obs._RE;obs._calcMatrices() #Correction for error in GravRay\n",
    "        obs.updateOrientationPosition(et)\n",
    "        GLOBAL_OBS=deepcopy(obs)\n",
    "    else:\n",
    "        #print(\"Old observer\")\n",
    "        obs=GLOBAL_OBS\n",
    "        if np.isclose(et,GLOBAL_OBS._et,rtol=1e-10)==False:\n",
    "            #print(\"New time\")\n",
    "            obs.updateOrientationPosition(et)\n",
    "            \n",
    "    #Simple estimation\n",
    "    if simple:\n",
    "        heliostate=obs.helioState(A*DEG,h*DEG,vimp)\n",
    "        E_sim=spy.oscelt(heliostate,et,MUSUN)\n",
    "    \n",
    "    E_pcon=[]\n",
    "\n",
    "    #State respect to the central body\n",
    "    state=obs.bodyState(A*DEG,h*DEG,vimp)+obs._stateBody\n",
    "    for k,objid in enumerate(objects):\n",
    "        #print(objid)\n",
    "        #State respect to object objid\n",
    "        bodypos=spy.spkezr(objid,et,\"ECLIPJ2000\",\"NONE\",\"SSB\")[0]\n",
    "        state=state-bodypos\n",
    "        #Get object-centric elements\n",
    "        rt=spy.vnorm(state[:3])\n",
    "        q,e,i,Omega,omega,Mo,eto,mu=spy.oscelt(state,et,mus[k])\n",
    "        a=q/(1-e)\n",
    "        n=np.sqrt(mu/np.abs(a)**3)\n",
    "        etp=eto-Mo/n\n",
    "        #hill\n",
    "        fd=np.arccos((q*(1+e)/rhill[k]-1)/e)\n",
    "        #See: https://space.stackexchange.com/questions/27602/what-is-hyperbolic-eccentric-anomaly-f\n",
    "        Hd=2*np.arctanh(np.sqrt((e-1)/(e+1))*np.tan(fd/2))\n",
    "        Md=e*np.sinh(Hd)-Hd\n",
    "        deltat=Md/n\n",
    "        #Body position\n",
    "        bodypos=spy.spkezr(objid,etp-deltat,\"ECLIPJ2000\",\"NONE\",\"SSB\")[0]\n",
    "        #Heliocentric conic:\n",
    "        bodyStatet=spy.conics([q,e,i,Omega,omega,Mo,eto,mus[k]],etp-deltat)\n",
    "        hillstate=bodyStatet+bodypos\n",
    "        #Final orbit\n",
    "        E_pcon+=[spy.oscelt(hillstate,etp-deltat,MUSUN)]\n",
    "        #Next state\n",
    "        et=etp-deltat\n",
    "        state=hillstate\n",
    "        #break\n",
    "    if simple:\n",
    "        return E_sim,E_pcon \n",
    "    else:\n",
    "        return E_pcon "
   ]
  },
  {
   "cell_type": "code",
   "execution_count": 415,
   "metadata": {},
   "outputs": [
    {
     "name": "stdout",
     "output_type": "stream",
     "text": [
      "Determined simple:q=0.91574,e=0.055466,i=8.3472,W=282.13,w=284.35,a=0.96952 AU\n",
      "Determined using MOON:q=0.91975,e=0.046434,i=7.2123,W=282.16,w=292.7,a=0.96454 AU\n",
      "Determined using EARTH:q=0.92786,e=0.046419,i=6.8766,W=282.23,w=281.41,a=0.97303 AU\n",
      "Numerical: q=0.937 AU,e=0.043644,i=6.642858084856535,W=282.69,w=278.62,a=0.9797577001088629 AU\n"
     ]
    }
   ],
   "source": [
    "et=spy.str2t(\"2000 JAN 02 12:00:00 UTC\")\n",
    "objects=[\"MOON\",\"EARTH\"]\n",
    "Esim,Epcon=rayOscelt(45.6452,41.1274,10.0,\"MOON\",1.6502,56.981,-4.466,et,\n",
    "                     objects=objects,mus=[MUMOON,MUEARTH],rhill=[6e4,1e6])\n",
    "Esim[0]/=AU;Esim[2:5]*=RAD\n",
    "q,e,i,W,w=Esim[:5]\n",
    "print(f\"Determined simple:q={q:.5g},e={e:.5g},i={i:.5g},W={W:.5g},w={w:.5g},a={q/(1-e):.5g} AU\")\n",
    "for i,objid in enumerate(objects):\n",
    "    Ep=Epcon[i]\n",
    "    Ep[0]/=AU;Ep[2:5]*=RAD\n",
    "    q,e,i,W,w=Ep[:5]\n",
    "    print(f\"Determined using {objid}:q={q:.5g},e={e:.5g},i={i:.5g},W={W:.5g},w={w:.5g},a={q/(1-e):.5g} AU\")\n",
    "#Numerically determined\n",
    "q,e,i,Omega,omega,M=event[[\"q\",\"e\",\"i\",\"Omega\",\"omega\",\"M\"]].values\n",
    "print(f\"Numerical: q={q:.5g} AU,e={e:.5g},i={i},W={Omega:.5g},w={omega:.5g},a={q/(1-e)} AU\")"
   ]
  },
  {
   "cell_type": "code",
   "execution_count": 368,
   "metadata": {},
   "outputs": [
    {
     "name": "stdout",
     "output_type": "stream",
     "text": [
      "1000 loops, best of 3: 828 µs per loop\n"
     ]
    }
   ],
   "source": [
    "%timeit -n 1000 rayOscelt(45.6452,41.1274,10.0,\"MOON\",1.6502,56.981,-4.466,et,objects=objects,mus=[MUMOON,MUEARTH],rhill=[6e4,1e6])"
   ]
  },
  {
   "cell_type": "code",
   "execution_count": 369,
   "metadata": {},
   "outputs": [
    {
     "name": "stdout",
     "output_type": "stream",
     "text": [
      "q=0.77851 AU,e=0.66251,i=5.0629,W=326.57,w=118.01,a=2.3067 AU\n"
     ]
    }
   ],
   "source": [
    "et=spy.str2t(\"02/15/2013 03:20:34 UTC\")\n",
    "Esim,Epcon=rayOscelt(63.5,54.4,70.0,\"EARTH\",96.0,17.0,-19.0,et)\n",
    "Epcon=Epcon[0]\n",
    "Epcon[0]/=AU;Epcon[2:5]*=RAD\n",
    "q,e,i,W,w=Epcon[:5]\n",
    "print(f\"q={q:.5g} AU,e={e:.5g},i={i:.5g},W={W:.5g},w={w:.5g},a={q/(1-e):.5g} AU\")"
   ]
  },
  {
   "cell_type": "code",
   "execution_count": 370,
   "metadata": {},
   "outputs": [
    {
     "name": "stdout",
     "output_type": "stream",
     "text": [
      "q=0.74445 AU,e=0.59329,i=4.0402,W=326.57,w=109.86,a=1.8304 AU\n"
     ]
    }
   ],
   "source": [
    "et=spy.str2t(\"02/15/2013 03:20:34 UTC\")\n",
    "Esim,Epcon=rayOscelt(Angle.dec((1,61,22,33)),Angle.dec((1,55,9,17)),100.0,\"EARTH\",99.9,15.2,-18.6,et)\n",
    "Epcon=Epcon[0]\n",
    "Epcon[0]/=AU;Epcon[2:5]*=RAD\n",
    "q,e,i,W,w=Epcon[:5]\n",
    "print(f\"q={q:.5g} AU,e={e:.5g},i={i:.5g},W={W:.5g},w={w:.5g},a={q/(1-e):.5g} AU\")"
   ]
  },
  {
   "cell_type": "code",
   "execution_count": 371,
   "metadata": {},
   "outputs": [
    {
     "name": "stdout",
     "output_type": "stream",
     "text": [
      "q=0.85637 AU,e=0.12978,i=7.558,W=331.69,w=78.436,a=0.98408 AU\n"
     ]
    }
   ],
   "source": [
    "et=spy.str2t(\"2000 FEB 20 12:00:00 UTC\")\n",
    "Esim,Epcon=rayOscelt(-29.9483,-16.4228,80.0,\"EARTH\",1.6502,56.981,-12.207,et)\n",
    "Epcon=Epcon[0]\n",
    "Epcon[0]/=AU;Epcon[2:5]*=RAD\n",
    "q,e,i,W,w=Epcon[:5]\n",
    "print(f\"q={q:.5g} AU,e={e:.5g},i={i:.5g},W={W:.5g},w={w:.5g},a={q/(1-e):.5g} AU\")\n",
    "#Compare with: q=0.860057 AU,e=0.129409381,i=7.4509,W=331.69987,w=78.8987"
   ]
  },
  {
   "cell_type": "code",
   "execution_count": 373,
   "metadata": {},
   "outputs": [
    {
     "name": "stdout",
     "output_type": "stream",
     "text": [
      "1000 loops, best of 3: 679 µs per loop\n"
     ]
    }
   ],
   "source": [
    "%timeit -n 1000 rayOscelt(-29.9483,-16.4228,80.0,\"EARTH\",1.6502,56.981,-12.207,et)"
   ]
  },
  {
   "cell_type": "markdown",
   "metadata": {},
   "source": [
    "## Tests"
   ]
  },
  {
   "cell_type": "code",
   "execution_count": 311,
   "metadata": {},
   "outputs": [
    {
     "name": "stderr",
     "output_type": "stream",
     "text": [
      "................\n",
      "----------------------------------------------------------------------\n",
      "Ran 16 tests in 0.046s\n",
      "\n",
      "OK\n"
     ]
    }
   ],
   "source": [
    "import unittest\n",
    "class Test(unittest.TestCase):\n",
    "    \n",
    "    #Zero-observer\n",
    "    et=spy.str2et(\"2000 JAN 01 12:00:00 UTC\")\n",
    "    observer=Observer(0*DEG,0*DEG,0,\"EARTH\")\n",
    "    observer.updateOrientationPosition(et)\n",
    "\n",
    "    #Chelyabinsk impact\n",
    "    etchely=spy.str2et(\"02/15/2013 3:20:34 UTC\")\n",
    "    chely=Observer(61.1*DEG,54.8*DEG,23.3,\"EARTH\")\n",
    "    chely.updateOrientationPosition(etchely)\n",
    "    \n",
    "    #Arbitrary impact\n",
    "    etarb=4320000.0 #Feb. 20/2000, 12:00:00 TDB\n",
    "    arb=Observer(-29.9483*DEG,-16.4228*DEG,80.0,\"EARTH\")\n",
    "    arb._RP=arb._RE;arb._calcMatrices() #Error in GravRay\n",
    "    arb.updateOrientationPosition(etarb)\n",
    "    \n",
    "    #Moon impact\n",
    "    etmoon=spy.str2et(\"2000 JAN 02 11:58:56 UTC\")\n",
    "    #41.1274, 45.6452, 1.6502, 56.981, 4.466, 86400.0\n",
    "    moon=Observer(45.6452*DEG,41.1274*DEG,10.0,\"MOON\")\n",
    "    moon.updateOrientationPosition(etmoon)\n",
    "\n",
    "    def test_mooon_observer(self):\n",
    "\n",
    "        #State moon\n",
    "        self.assertEqual(np.isclose(self.moon._stateBody,\n",
    "                                    np.array([-3.03655722e+07,1.43451403e+08,6.46874070e+04,\n",
    "                                              -2.89028010e+01,-6.57566772e+00,-3.02020818e-02]),\n",
    "                                    rtol=1e-5).tolist(),\n",
    "                         [True]*6)\n",
    "        \n",
    "        #Velocity\n",
    "        vecl=obs.vloc2vEcl(1.6502*DEG,56.981*DEG,-4.466),\n",
    "        self.assertEqual(np.isclose(vecl[0],\n",
    "                                    np.array([-28.58080454,  -7.71067586,  -4.33760638]),\n",
    "                                    rtol=1e-5).tolist(),\n",
    "                         [True]*3)\n",
    "        #Conversion\n",
    "        eclon=25.3157371\n",
    "        eclat=-1.2593327\n",
    "        A,h=self.moon.ecl2loc(eclon*DEG,eclat*DEG)\n",
    "        self.assertEqual(np.isclose([A*RAD,h*RAD],\n",
    "                                    [255.7181,11.6614],\n",
    "                                    atol=1e-2).tolist(),\n",
    "                         [True]*2)\n",
    "        A=229.2705\n",
    "        h=28.8062\n",
    "        eclon,eclat=obs.loc2ecl(A*DEG,h*DEG)\n",
    "        self.assertEqual(np.isclose([eclon*RAD,eclat*RAD],\n",
    "                                    [55.1580499,-5.0588748],\n",
    "                                    atol=1e-2).tolist(),\n",
    "                         [True]*2)\n",
    "    \n",
    "    def test_earthpos(self):\n",
    "        self.assertEqual(np.isclose(self.arb._stateBody,\n",
    "                                    np.array([-1.30585661e+08,7.08734759e+07,2.98745730e+04,\n",
    "                                              -1.48394530e+01,-2.62057098e+01,-1.08440413e-03]),\n",
    "                                    rtol=1e-5).tolist(),\n",
    "                         [True]*6)\n",
    "    \n",
    "    def test_vrot(self):\n",
    "        vrot=self.observer.vloc2vRot(90*DEG,0*DEG,10.0)\n",
    "        self.assertAlmostEqual(vrot[0],0,5)\n",
    "        self.assertAlmostEqual(vrot[1],9.53616882e+00,5)\n",
    "        self.assertAlmostEqual(vrot[2],0,5)\n",
    "        \n",
    "    def test_arb_position(self):\n",
    "        self.assertTrue(np.isclose(self.arb._positionEcl[0],-1.30582607e+08,rtol=1e-7,atol=0,equal_nan=False))\n",
    "        self.assertTrue(np.isclose(self.arb._positionEcl[1],7.08678075e+07,rtol=1e-7,atol=0,equal_nan=False))\n",
    "        self.assertTrue(np.isclose(self.arb._positionEcl[2],3.03545799e+04,rtol=1e-7,atol=0,equal_nan=False))\n",
    "        \n",
    "    def test_arb_velocity(self):\n",
    "        vecl=self.arb.vloc2vEcl(1.6502*DEG,56.981*DEG,-12.207)\n",
    "        self.assertTrue(np.isclose(vecl[0],-21.15990113,rtol=1e-4,atol=0,equal_nan=False))\n",
    "        self.assertTrue(np.isclose(vecl[1],-18.55669163,rtol=1e-4,atol=0,equal_nan=False))\n",
    "        self.assertTrue(np.isclose(vecl[2],-7.13767917,rtol=1e-4,atol=0,equal_nan=False))\n",
    "    \n",
    "    def test_et(self):\n",
    "        self.assertAlmostEqual(self.et,64.2,1)\n",
    "        \n",
    "    def test_ellipsoid(self):\n",
    "        self.assertAlmostEqual(self.observer._RE,6378.1366,4)\n",
    "        self.assertAlmostEqual(self.observer._RP,6356.7519,4)\n",
    "        self.assertAlmostEqual(self.observer._FE,0.0033528131084554717,7)\n",
    "    \n",
    "    def test_position(self):\n",
    "        self.assertEqual(self.observer._positionBody[0],self.observer._RE)\n",
    "        \n",
    "    def test_velocity_local(self):\n",
    "        self.assertAlmostEqual(self.observer._velocityLocal[0],0,5)\n",
    "        self.assertAlmostEqual(self.observer._velocityLocal[1],-0.46383118,5)\n",
    "        self.assertAlmostEqual(self.observer._velocityLocal[2],0,5)\n",
    "        \n",
    "    def test_ecl2loc_sun(self):\n",
    "        #Position of the Sun\n",
    "        eclon=Angle.dec((+1,280,22,21.9))\n",
    "        eclat=Angle.dec((-1,0,0,2.7))\n",
    "        A,h=self.observer.ecl2loc(eclon*DEG,eclat*DEG)\n",
    "        self.assertAlmostEqual(A*RAD,178.07231644928592,5)\n",
    "        self.assertAlmostEqual(h*RAD,66.95277694576103,5)\n",
    "    \n",
    "    def test_ecl2loc_Betelgeuse(self):\n",
    "        #Betelgeuse\n",
    "        eclon=Angle.dec((+1,88,45,16.6))\n",
    "        eclat=Angle.dec((-1,16,1,37.2))\n",
    "        A,h=self.observer.ecl2loc(eclon*DEG,eclat*DEG)\n",
    "        self.assertAlmostEqual(A*RAD,57.27518638612843,5)\n",
    "        self.assertAlmostEqual(h*RAD,-76.20677246845091,5)\n",
    "    \n",
    "    def test_loc2ecl_sun(self):\n",
    "        A=Angle.dec((+1,57,16,30.7))\n",
    "        h=Angle.dec((-1,76,12,24.4))\n",
    "        eclon,eclat=self.observer.loc2ecl(A*DEG,h*DEG)\n",
    "        self.assertAlmostEqual(eclon*RAD,88.75461469860417,5)\n",
    "        self.assertAlmostEqual(eclat*RAD,-16.027004471139914,5)\n",
    "        \n",
    "    def test_chely_et(self):\n",
    "        self.assertAlmostEqual(self.etchely,414170501.185,3)\n",
    "        \n",
    "    def test_chely_vbod2vloc(self):\n",
    "        vBod=np.array([12.8,-13.3,-2.4])\n",
    "        A,h,vloc=self.chely.vBod2vloc(-vBod)\n",
    "        self.assertAlmostEqual(A*RAD,99.8961127649985,5)\n",
    "        self.assertAlmostEqual(h*RAD,15.92414245029081,5)\n",
    "\n",
    "    def test_chely_vloc2vbod(self):\n",
    "        vBod=self.chely.vloc2vBod(279.9*DEG,-15.9*DEG,18.6)\n",
    "        self.assertAlmostEqual(vBod[0],12.8,1)\n",
    "        self.assertAlmostEqual(vBod[1],-13.3,1)\n",
    "        self.assertAlmostEqual(vBod[2],-2.4,1)\n",
    "\n",
    "    def test_chely_elements(self):\n",
    "        et=spy.str2t(\"02/15/2013 03:20:34 UTC\")\n",
    "        Esim,Epcon=rayOscelt(63.5,54.4,80.0,\"EARTH\",96.0,17.0,-19.0,et)\n",
    "        Epcon=Epcon[0]\n",
    "        Epcon[0]/=AU;Epcon[2:5]*=RAD\n",
    "        q,e,i,W,w=Epcon[:5]\n",
    "        self.assertEqual(np.isclose([q,e,i,W,w],\n",
    "                                    [0.78,0.66,5.07,326.57,118.00],\n",
    "                                     atol=1e-1).tolist(),\n",
    "                         [True]*5)\n",
    "        \n",
    "if __name__=='__main__':\n",
    "    unittest.main(argv=['first-arg-is-ignored'],exit=False)"
   ]
  },
  {
   "cell_type": "markdown",
   "metadata": {},
   "source": [
    "## Compare lunar elements"
   ]
  },
  {
   "cell_type": "code",
   "execution_count": 377,
   "metadata": {},
   "outputs": [],
   "source": [
    "tar=tarfile.open(f\"{BDIR}/../grt-YearTestMoon.tgz\", \"r:*\")"
   ]
  },
  {
   "cell_type": "code",
   "execution_count": 383,
   "metadata": {},
   "outputs": [
    {
     "name": "stdout",
     "output_type": "stream",
     "text": [
      "Reading file 0...\n"
     ]
    },
    {
     "name": "stderr",
     "output_type": "stream",
     "text": [
      "100%|██████████| 1000/1000 [00:20<00:00, 68.16it/s]\n"
     ]
    },
    {
     "name": "stdout",
     "output_type": "stream",
     "text": [
      "\tSaving grtcomp-0000-ET0000000000.data...\n",
      "\tLarge distances: 6/1000\n",
      "\tDZ Statistics: (min,mean,std,max)=0.000252162,0.00989411,0.0169713,0.340768\n",
      "Reading file 1...\n"
     ]
    },
    {
     "name": "stderr",
     "output_type": "stream",
     "text": [
      "100%|██████████| 1000/1000 [00:14<00:00, 67.69it/s]\n"
     ]
    },
    {
     "name": "stdout",
     "output_type": "stream",
     "text": [
      "\tSaving grtcomp-0001-ET0000000000.data...\n",
      "\tLarge distances: 7/1000\n",
      "\tDZ Statistics: (min,mean,std,max)=0.000187618,0.0105966,0.0258163,0.436366\n",
      "Reading file 2...\n"
     ]
    },
    {
     "name": "stderr",
     "output_type": "stream",
     "text": [
      "100%|██████████| 1000/1000 [00:14<00:00, 69.31it/s]\n"
     ]
    },
    {
     "name": "stdout",
     "output_type": "stream",
     "text": [
      "\tSaving grtcomp-0002-ET0000086400.data...\n",
      "\tLarge distances: 7/1000\n",
      "\tDZ Statistics: (min,mean,std,max)=0.000200919,0.0115694,0.0240804,0.511785\n",
      "Reading file 3...\n"
     ]
    },
    {
     "name": "stderr",
     "output_type": "stream",
     "text": [
      "100%|██████████| 1000/1000 [00:17<00:00, 56.31it/s]\n"
     ]
    },
    {
     "name": "stdout",
     "output_type": "stream",
     "text": [
      "\tSaving grtcomp-0003-ET0000172800.data...\n",
      "\tLarge distances: 7/1000\n",
      "\tDZ Statistics: (min,mean,std,max)=6.84955e-05,0.0107212,0.024475,0.437932\n",
      "Reading file 4...\n"
     ]
    },
    {
     "name": "stderr",
     "output_type": "stream",
     "text": [
      "100%|██████████| 1000/1000 [00:16<00:00, 61.54it/s]\n"
     ]
    },
    {
     "name": "stdout",
     "output_type": "stream",
     "text": [
      "\tSaving grtcomp-0004-ET0000259200.data...\n",
      "\tLarge distances: 5/1000\n",
      "\tDZ Statistics: (min,mean,std,max)=0.000329411,0.010363,0.0181687,0.270342\n",
      "Reading file 5...\n"
     ]
    },
    {
     "name": "stderr",
     "output_type": "stream",
     "text": [
      "100%|██████████| 1000/1000 [00:18<00:00, 54.90it/s]\n"
     ]
    },
    {
     "name": "stdout",
     "output_type": "stream",
     "text": [
      "\tSaving grtcomp-0005-ET0000345600.data...\n",
      "\tLarge distances: 8/1000\n",
      "\tDZ Statistics: (min,mean,std,max)=5.98643e-05,0.0101725,0.0192678,0.399277\n",
      "Reading file 6...\n"
     ]
    },
    {
     "name": "stderr",
     "output_type": "stream",
     "text": [
      "100%|██████████| 1000/1000 [00:15<00:00, 62.98it/s]\n"
     ]
    },
    {
     "name": "stdout",
     "output_type": "stream",
     "text": [
      "\tSaving grtcomp-0006-ET0000432000.data...\n",
      "\tLarge distances: 6/1000\n",
      "\tDZ Statistics: (min,mean,std,max)=0.000138028,0.0107515,0.0211763,0.467662\n",
      "Reading file 7...\n"
     ]
    },
    {
     "name": "stderr",
     "output_type": "stream",
     "text": [
      "100%|██████████| 1000/1000 [00:19<00:00, 50.06it/s]\n"
     ]
    },
    {
     "name": "stdout",
     "output_type": "stream",
     "text": [
      "\tSaving grtcomp-0007-ET0000518400.data...\n",
      "\tLarge distances: 9/1000\n",
      "\tDZ Statistics: (min,mean,std,max)=9.69081e-05,0.0109179,0.0179899,0.240769\n",
      "Reading file 8...\n"
     ]
    },
    {
     "name": "stderr",
     "output_type": "stream",
     "text": [
      "100%|██████████| 1000/1000 [00:19<00:00, 51.86it/s]\n"
     ]
    },
    {
     "name": "stdout",
     "output_type": "stream",
     "text": [
      "\tSaving grtcomp-0008-ET0000604800.data...\n",
      "\tLarge distances: 5/1000\n",
      "\tDZ Statistics: (min,mean,std,max)=0.000170428,0.011154,0.017523,0.317487\n",
      "Reading file 9...\n"
     ]
    },
    {
     "name": "stderr",
     "output_type": "stream",
     "text": [
      "100%|██████████| 1000/1000 [00:15<00:00, 63.21it/s]\n"
     ]
    },
    {
     "name": "stdout",
     "output_type": "stream",
     "text": [
      "\tSaving grtcomp-0009-ET0000691200.data...\n",
      "\tLarge distances: 6/1000\n",
      "\tDZ Statistics: (min,mean,std,max)=0.000277482,0.0122195,0.0235542,0.401981\n",
      "Reading file 10...\n"
     ]
    },
    {
     "name": "stderr",
     "output_type": "stream",
     "text": [
      "100%|██████████| 1000/1000 [00:14<00:00, 67.26it/s]\n"
     ]
    },
    {
     "name": "stdout",
     "output_type": "stream",
     "text": [
      "\tSaving grtcomp-0010-ET0000777600.data...\n",
      "\tLarge distances: 5/1000\n",
      "\tDZ Statistics: (min,mean,std,max)=0.000396461,0.0116191,0.0171772,0.310514\n",
      "Reading file 11...\n"
     ]
    },
    {
     "name": "stderr",
     "output_type": "stream",
     "text": [
      "100%|██████████| 1000/1000 [00:14<00:00, 70.57it/s]\n"
     ]
    },
    {
     "name": "stdout",
     "output_type": "stream",
     "text": [
      "\tSaving grtcomp-0011-ET0000864000.data...\n",
      "\tLarge distances: 7/1000\n",
      "\tDZ Statistics: (min,mean,std,max)=0.000454569,0.0122318,0.019413,0.341117\n",
      "Reading file 12...\n"
     ]
    },
    {
     "name": "stderr",
     "output_type": "stream",
     "text": [
      "100%|██████████| 1000/1000 [00:18<00:00, 55.36it/s]\n"
     ]
    },
    {
     "name": "stdout",
     "output_type": "stream",
     "text": [
      "\tSaving grtcomp-0012-ET0001036800.data...\n",
      "\tLarge distances: 7/1000\n",
      "\tDZ Statistics: (min,mean,std,max)=0.000505979,0.011503,0.018315,0.336814\n",
      "Reading file 13...\n"
     ]
    },
    {
     "name": "stderr",
     "output_type": "stream",
     "text": [
      "100%|██████████| 1000/1000 [00:17<00:00, 58.43it/s]\n"
     ]
    },
    {
     "name": "stdout",
     "output_type": "stream",
     "text": [
      "\tSaving grtcomp-0013-ET0001123200.data...\n",
      "\tLarge distances: 6/1000\n",
      "\tDZ Statistics: (min,mean,std,max)=0.000804525,0.0126101,0.025909,0.481927\n",
      "Reading file 14...\n"
     ]
    },
    {
     "name": "stderr",
     "output_type": "stream",
     "text": [
      "100%|██████████| 1000/1000 [00:17<00:00, 58.77it/s]\n"
     ]
    },
    {
     "name": "stdout",
     "output_type": "stream",
     "text": [
      "\tSaving grtcomp-0014-ET0001209600.data...\n",
      "\tLarge distances: 5/1000\n",
      "\tDZ Statistics: (min,mean,std,max)=0.000522892,0.011407,0.0150502,0.312842\n",
      "Reading file 15...\n"
     ]
    },
    {
     "name": "stderr",
     "output_type": "stream",
     "text": [
      "100%|██████████| 1000/1000 [00:15<00:00, 64.05it/s]\n"
     ]
    },
    {
     "name": "stdout",
     "output_type": "stream",
     "text": [
      "\tSaving grtcomp-0015-ET0001296000.data...\n",
      "\tLarge distances: 4/1000\n",
      "\tDZ Statistics: (min,mean,std,max)=0.00103281,0.0124973,0.0178126,0.301325\n",
      "Reading file 16...\n"
     ]
    },
    {
     "name": "stderr",
     "output_type": "stream",
     "text": [
      "100%|██████████| 1000/1000 [00:17<00:00, 68.97it/s]\n"
     ]
    },
    {
     "name": "stdout",
     "output_type": "stream",
     "text": [
      "\tSaving grtcomp-0016-ET0001382400.data...\n",
      "\tLarge distances: 10/1000\n",
      "\tDZ Statistics: (min,mean,std,max)=0.000256352,0.0141672,0.023108,0.435076\n",
      "Reading file 17...\n"
     ]
    },
    {
     "name": "stderr",
     "output_type": "stream",
     "text": [
      "100%|██████████| 1000/1000 [00:14<00:00, 67.95it/s]\n"
     ]
    },
    {
     "name": "stdout",
     "output_type": "stream",
     "text": [
      "\tSaving grtcomp-0017-ET0001468800.data...\n",
      "\tLarge distances: 8/1000\n",
      "\tDZ Statistics: (min,mean,std,max)=0.000360849,0.0135524,0.0240709,0.510315\n",
      "Reading file 18...\n"
     ]
    },
    {
     "name": "stderr",
     "output_type": "stream",
     "text": [
      "100%|██████████| 1000/1000 [00:14<00:00, 69.66it/s]\n"
     ]
    },
    {
     "name": "stdout",
     "output_type": "stream",
     "text": [
      "\tSaving grtcomp-0018-ET0001555200.data...\n",
      "\tLarge distances: 4/1000\n",
      "\tDZ Statistics: (min,mean,std,max)=0.000430749,0.0130188,0.01884,0.420546\n",
      "Reading file 19...\n"
     ]
    },
    {
     "name": "stderr",
     "output_type": "stream",
     "text": [
      "100%|██████████| 1000/1000 [00:14<00:00, 70.59it/s]\n"
     ]
    },
    {
     "name": "stdout",
     "output_type": "stream",
     "text": [
      "\tSaving grtcomp-0019-ET0001641600.data...\n",
      "\tLarge distances: 11/1000\n",
      "\tDZ Statistics: (min,mean,std,max)=0.000324681,0.0146493,0.0300691,0.50718\n",
      "Reading file 20...\n"
     ]
    },
    {
     "name": "stderr",
     "output_type": "stream",
     "text": [
      "100%|██████████| 1000/1000 [00:14<00:00, 67.67it/s]\n"
     ]
    },
    {
     "name": "stdout",
     "output_type": "stream",
     "text": [
      "\tSaving grtcomp-0020-ET0001728000.data...\n",
      "\tLarge distances: 5/1000\n",
      "\tDZ Statistics: (min,mean,std,max)=0.000922911,0.01281,0.0143331,0.203069\n",
      "Reading file 21...\n"
     ]
    },
    {
     "name": "stderr",
     "output_type": "stream",
     "text": [
      "100%|██████████| 1000/1000 [00:16<00:00, 68.21it/s]\n"
     ]
    },
    {
     "name": "stdout",
     "output_type": "stream",
     "text": [
      "\tSaving grtcomp-0021-ET0001814400.data...\n",
      "\tLarge distances: 5/1000\n",
      "\tDZ Statistics: (min,mean,std,max)=0.000923113,0.013184,0.019701,0.456873\n",
      "Reading file 22...\n"
     ]
    },
    {
     "name": "stderr",
     "output_type": "stream",
     "text": [
      "100%|██████████| 1000/1000 [00:18<00:00, 54.61it/s]\n"
     ]
    },
    {
     "name": "stdout",
     "output_type": "stream",
     "text": [
      "\tSaving grtcomp-0022-ET0001900800.data...\n",
      "\tLarge distances: 8/1000\n",
      "\tDZ Statistics: (min,mean,std,max)=0.00107619,0.0156009,0.0627128,1.9025\n",
      "Reading file 23...\n"
     ]
    },
    {
     "name": "stderr",
     "output_type": "stream",
     "text": [
      "100%|██████████| 1000/1000 [00:16<00:00, 59.62it/s]\n"
     ]
    },
    {
     "name": "stdout",
     "output_type": "stream",
     "text": [
      "\tSaving grtcomp-0023-ET0001987200.data...\n",
      "\tLarge distances: 9/1000\n",
      "\tDZ Statistics: (min,mean,std,max)=0.000357913,0.0145966,0.0321404,0.836556\n",
      "Reading file 24...\n"
     ]
    },
    {
     "name": "stderr",
     "output_type": "stream",
     "text": [
      "100%|██████████| 1000/1000 [00:17<00:00, 56.11it/s]\n"
     ]
    },
    {
     "name": "stdout",
     "output_type": "stream",
     "text": [
      "\tSaving grtcomp-0024-ET0002073600.data...\n",
      "\tLarge distances: 3/1000\n",
      "\tDZ Statistics: (min,mean,std,max)=0.000852206,0.0131286,0.0182269,0.433175\n",
      "Reading file 25...\n"
     ]
    },
    {
     "name": "stderr",
     "output_type": "stream",
     "text": [
      "100%|██████████| 1000/1000 [00:14<00:00, 72.59it/s]\n"
     ]
    },
    {
     "name": "stdout",
     "output_type": "stream",
     "text": [
      "\tSaving grtcomp-0025-ET0002160000.data...\n",
      "\tLarge distances: 6/1000\n",
      "\tDZ Statistics: (min,mean,std,max)=0.000627619,0.0143867,0.022372,0.355979\n",
      "Reading file 26...\n"
     ]
    },
    {
     "name": "stderr",
     "output_type": "stream",
     "text": [
      "100%|██████████| 1000/1000 [00:14<00:00, 68.22it/s]\n"
     ]
    },
    {
     "name": "stdout",
     "output_type": "stream",
     "text": [
      "\tSaving grtcomp-0026-ET0002246400.data...\n",
      "\tLarge distances: 5/1000\n",
      "\tDZ Statistics: (min,mean,std,max)=0.000825541,0.0153434,0.0454059,1.10063\n",
      "Reading file 27...\n"
     ]
    },
    {
     "name": "stderr",
     "output_type": "stream",
     "text": [
      "100%|██████████| 1000/1000 [00:15<00:00, 65.14it/s]\n"
     ]
    },
    {
     "name": "stdout",
     "output_type": "stream",
     "text": [
      "\tSaving grtcomp-0027-ET0002332800.data...\n",
      "\tLarge distances: 6/1000\n",
      "\tDZ Statistics: (min,mean,std,max)=0.000924291,0.0138805,0.0126227,0.130912\n",
      "Reading file 28...\n"
     ]
    },
    {
     "name": "stderr",
     "output_type": "stream",
     "text": [
      "100%|██████████| 1000/1000 [00:15<00:00, 63.48it/s]\n"
     ]
    },
    {
     "name": "stdout",
     "output_type": "stream",
     "text": [
      "\tSaving grtcomp-0028-ET0002419200.data...\n",
      "\tLarge distances: 4/1000\n",
      "\tDZ Statistics: (min,mean,std,max)=0.000572734,0.0137227,0.014662,0.283642\n",
      "Reading file 29...\n"
     ]
    },
    {
     "name": "stderr",
     "output_type": "stream",
     "text": [
      "100%|██████████| 1000/1000 [00:14<00:00, 69.41it/s]\n"
     ]
    },
    {
     "name": "stdout",
     "output_type": "stream",
     "text": [
      "\tSaving grtcomp-0029-ET0002505600.data...\n",
      "\tLarge distances: 6/1000\n",
      "\tDZ Statistics: (min,mean,std,max)=0.000947685,0.014803,0.0210674,0.512065\n",
      "Reading file 30...\n"
     ]
    },
    {
     "name": "stderr",
     "output_type": "stream",
     "text": [
      "100%|██████████| 1000/1000 [00:14<00:00, 67.49it/s]\n"
     ]
    },
    {
     "name": "stdout",
     "output_type": "stream",
     "text": [
      "\tSaving grtcomp-0030-ET0002592000.data...\n",
      "\tLarge distances: 5/1000\n",
      "\tDZ Statistics: (min,mean,std,max)=0.00130644,0.0152789,0.0227461,0.520632\n",
      "Reading file 31...\n"
     ]
    },
    {
     "name": "stderr",
     "output_type": "stream",
     "text": [
      "100%|██████████| 1000/1000 [00:14<00:00, 66.68it/s]\n"
     ]
    },
    {
     "name": "stdout",
     "output_type": "stream",
     "text": [
      "\tSaving grtcomp-0031-ET0002678400.data...\n",
      "\tLarge distances: 8/1000\n",
      "\tDZ Statistics: (min,mean,std,max)=0.00079459,0.0152276,0.0177012,0.263417\n",
      "Reading file 32...\n"
     ]
    },
    {
     "name": "stderr",
     "output_type": "stream",
     "text": [
      "100%|██████████| 1000/1000 [00:14<00:00, 68.14it/s]\n"
     ]
    },
    {
     "name": "stdout",
     "output_type": "stream",
     "text": [
      "\tSaving grtcomp-0032-ET0002764800.data...\n",
      "\tLarge distances: 5/1000\n",
      "\tDZ Statistics: (min,mean,std,max)=0.000904909,0.0146884,0.0126411,0.173423\n",
      "Reading file 33...\n"
     ]
    },
    {
     "name": "stderr",
     "output_type": "stream",
     "text": [
      "100%|██████████| 1000/1000 [00:14<00:00, 68.01it/s]\n"
     ]
    },
    {
     "name": "stdout",
     "output_type": "stream",
     "text": [
      "\tSaving grtcomp-0033-ET0002851200.data...\n",
      "\tLarge distances: 3/1000\n",
      "\tDZ Statistics: (min,mean,std,max)=0.000923991,0.0152595,0.0128983,0.187068\n",
      "Reading file 34...\n"
     ]
    },
    {
     "name": "stderr",
     "output_type": "stream",
     "text": [
      "100%|██████████| 1000/1000 [00:16<00:00, 62.30it/s]\n"
     ]
    },
    {
     "name": "stdout",
     "output_type": "stream",
     "text": [
      "\tSaving grtcomp-0034-ET0002937600.data...\n",
      "\tLarge distances: 8/1000\n",
      "\tDZ Statistics: (min,mean,std,max)=0.000646671,0.016789,0.0314214,0.713141\n",
      "Reading file 35...\n"
     ]
    },
    {
     "name": "stderr",
     "output_type": "stream",
     "text": [
      "100%|██████████| 1000/1000 [00:19<00:00, 52.51it/s]\n"
     ]
    },
    {
     "name": "stdout",
     "output_type": "stream",
     "text": [
      "\tSaving grtcomp-0035-ET0003024000.data...\n",
      "\tLarge distances: 5/1000\n",
      "\tDZ Statistics: (min,mean,std,max)=0.000639458,0.0158573,0.015514,0.267531\n",
      "Reading file 36...\n"
     ]
    },
    {
     "name": "stderr",
     "output_type": "stream",
     "text": [
      "100%|██████████| 1000/1000 [00:14<00:00, 68.15it/s]\n"
     ]
    },
    {
     "name": "stdout",
     "output_type": "stream",
     "text": [
      "\tSaving grtcomp-0036-ET0003110400.data...\n",
      "\tLarge distances: 4/1000\n",
      "\tDZ Statistics: (min,mean,std,max)=0.000865524,0.0157401,0.0201367,0.364557\n",
      "Reading file 37...\n"
     ]
    },
    {
     "name": "stderr",
     "output_type": "stream",
     "text": [
      "100%|██████████| 1000/1000 [00:13<00:00, 71.48it/s]\n"
     ]
    },
    {
     "name": "stdout",
     "output_type": "stream",
     "text": [
      "\tSaving grtcomp-0037-ET0003196800.data...\n",
      "\tLarge distances: 5/1000\n",
      "\tDZ Statistics: (min,mean,std,max)=0.000589787,0.0166731,0.0194932,0.480424\n",
      "Reading file 38...\n"
     ]
    },
    {
     "name": "stderr",
     "output_type": "stream",
     "text": [
      "100%|██████████| 1000/1000 [00:13<00:00, 71.90it/s]\n"
     ]
    },
    {
     "name": "stdout",
     "output_type": "stream",
     "text": [
      "\tSaving grtcomp-0038-ET0003283200.data...\n",
      "\tLarge distances: 5/1000\n",
      "\tDZ Statistics: (min,mean,std,max)=0.00109454,0.0171532,0.0205856,0.432189\n",
      "Reading file 39...\n"
     ]
    },
    {
     "name": "stderr",
     "output_type": "stream",
     "text": [
      "100%|██████████| 1000/1000 [00:13<00:00, 72.75it/s]\n"
     ]
    },
    {
     "name": "stdout",
     "output_type": "stream",
     "text": [
      "\tSaving grtcomp-0039-ET0003369600.data...\n",
      "\tLarge distances: 8/1000\n",
      "\tDZ Statistics: (min,mean,std,max)=0.000674587,0.0175433,0.0246447,0.461457\n",
      "Reading file 40...\n"
     ]
    },
    {
     "name": "stderr",
     "output_type": "stream",
     "text": [
      "100%|██████████| 1000/1000 [00:14<00:00, 69.22it/s]\n"
     ]
    },
    {
     "name": "stdout",
     "output_type": "stream",
     "text": [
      "\tSaving grtcomp-0040-ET0003456000.data...\n",
      "\tLarge distances: 4/1000\n",
      "\tDZ Statistics: (min,mean,std,max)=0.00138513,0.0171011,0.0200776,0.420356\n",
      "Reading file 41...\n"
     ]
    },
    {
     "name": "stderr",
     "output_type": "stream",
     "text": [
      "100%|██████████| 1000/1000 [00:15<00:00, 62.78it/s]\n"
     ]
    },
    {
     "name": "stdout",
     "output_type": "stream",
     "text": [
      "\tSaving grtcomp-0041-ET0003542400.data...\n",
      "\tLarge distances: 5/1000\n",
      "\tDZ Statistics: (min,mean,std,max)=0.00160882,0.0183743,0.028861,0.533773\n",
      "Reading file 42...\n"
     ]
    },
    {
     "name": "stderr",
     "output_type": "stream",
     "text": [
      "100%|██████████| 1000/1000 [00:14<00:00, 71.30it/s]\n"
     ]
    },
    {
     "name": "stdout",
     "output_type": "stream",
     "text": [
      "\tSaving grtcomp-0042-ET0003628800.data...\n",
      "\tLarge distances: 6/1000\n",
      "\tDZ Statistics: (min,mean,std,max)=0.000991575,0.0206753,0.0936524,2.87798\n",
      "Reading file 43...\n"
     ]
    },
    {
     "name": "stderr",
     "output_type": "stream",
     "text": [
      "100%|██████████| 1000/1000 [00:14<00:00, 67.12it/s]\n"
     ]
    },
    {
     "name": "stdout",
     "output_type": "stream",
     "text": [
      "\tSaving grtcomp-0043-ET0003715200.data...\n",
      "\tLarge distances: 2/1000\n",
      "\tDZ Statistics: (min,mean,std,max)=0.00075909,0.0189235,0.0505102,1.5676\n",
      "Reading file 44...\n"
     ]
    },
    {
     "name": "stderr",
     "output_type": "stream",
     "text": [
      "100%|██████████| 1000/1000 [00:15<00:00, 64.85it/s]\n"
     ]
    },
    {
     "name": "stdout",
     "output_type": "stream",
     "text": [
      "\tSaving grtcomp-0044-ET0003801600.data...\n",
      "\tLarge distances: 3/1000\n",
      "\tDZ Statistics: (min,mean,std,max)=0.00129122,0.0172244,0.0113582,0.115637\n",
      "Reading file 45...\n"
     ]
    },
    {
     "name": "stderr",
     "output_type": "stream",
     "text": [
      "100%|██████████| 1000/1000 [00:19<00:00, 52.09it/s]\n"
     ]
    },
    {
     "name": "stdout",
     "output_type": "stream",
     "text": [
      "\tSaving grtcomp-0045-ET0003888000.data...\n",
      "\tLarge distances: 4/1000\n",
      "\tDZ Statistics: (min,mean,std,max)=0.000916324,0.018422,0.015525,0.231125\n",
      "Reading file 46...\n"
     ]
    },
    {
     "name": "stderr",
     "output_type": "stream",
     "text": [
      "100%|██████████| 1000/1000 [00:22<00:00, 45.15it/s]\n"
     ]
    },
    {
     "name": "stdout",
     "output_type": "stream",
     "text": [
      "\tSaving grtcomp-0046-ET0003974400.data...\n",
      "\tLarge distances: 9/1000\n",
      "\tDZ Statistics: (min,mean,std,max)=0.00145099,0.0197999,0.0216899,0.353226\n",
      "Reading file 47...\n"
     ]
    },
    {
     "name": "stderr",
     "output_type": "stream",
     "text": [
      "100%|██████████| 1000/1000 [00:19<00:00, 71.53it/s]\n"
     ]
    },
    {
     "name": "stdout",
     "output_type": "stream",
     "text": [
      "\tSaving grtcomp-0047-ET0004060800.data...\n",
      "\tLarge distances: 6/1000\n",
      "\tDZ Statistics: (min,mean,std,max)=0.000562946,0.0188016,0.0311707,0.91146\n",
      "Reading file 48...\n"
     ]
    },
    {
     "name": "stderr",
     "output_type": "stream",
     "text": [
      "100%|██████████| 1000/1000 [00:14<00:00, 69.67it/s]\n"
     ]
    },
    {
     "name": "stdout",
     "output_type": "stream",
     "text": [
      "\tSaving grtcomp-0048-ET0004147200.data...\n",
      "\tLarge distances: 5/1000\n",
      "\tDZ Statistics: (min,mean,std,max)=0.00166564,0.0183194,0.0135557,0.222484\n",
      "Reading file 49...\n"
     ]
    },
    {
     "name": "stderr",
     "output_type": "stream",
     "text": [
      "100%|██████████| 1000/1000 [00:17<00:00, 58.31it/s]\n"
     ]
    },
    {
     "name": "stdout",
     "output_type": "stream",
     "text": [
      "\tSaving grtcomp-0049-ET0004233600.data...\n",
      "\tLarge distances: 3/1000\n",
      "\tDZ Statistics: (min,mean,std,max)=0.00134926,0.0187831,0.0159406,0.319533\n",
      "Reading file 50...\n"
     ]
    },
    {
     "name": "stderr",
     "output_type": "stream",
     "text": [
      "100%|██████████| 1000/1000 [00:21<00:00, 46.86it/s]\n"
     ]
    },
    {
     "name": "stdout",
     "output_type": "stream",
     "text": [
      "\tSaving grtcomp-0050-ET0004320000.data...\n",
      "\tLarge distances: 4/1000\n",
      "\tDZ Statistics: (min,mean,std,max)=0.00155787,0.0189026,0.0225671,0.616755\n",
      "Reading file 51...\n"
     ]
    },
    {
     "name": "stderr",
     "output_type": "stream",
     "text": [
      "100%|██████████| 1000/1000 [00:21<00:00, 46.82it/s]\n"
     ]
    },
    {
     "name": "stdout",
     "output_type": "stream",
     "text": [
      "\tSaving grtcomp-0051-ET0004406400.data...\n",
      "\tLarge distances: 6/1000\n",
      "\tDZ Statistics: (min,mean,std,max)=0.000747067,0.0206424,0.044826,1.22619\n",
      "Reading file 52...\n"
     ]
    },
    {
     "name": "stderr",
     "output_type": "stream",
     "text": [
      "100%|██████████| 1000/1000 [00:19<00:00, 50.48it/s]\n"
     ]
    },
    {
     "name": "stdout",
     "output_type": "stream",
     "text": [
      "\tSaving grtcomp-0052-ET0004492800.data...\n",
      "\tLarge distances: 6/1000\n",
      "\tDZ Statistics: (min,mean,std,max)=0.0010302,0.0219827,0.037799,0.737658\n",
      "Reading file 53...\n"
     ]
    },
    {
     "name": "stderr",
     "output_type": "stream",
     "text": [
      "100%|██████████| 1000/1000 [00:15<00:00, 63.48it/s]\n"
     ]
    },
    {
     "name": "stdout",
     "output_type": "stream",
     "text": [
      "\tSaving grtcomp-0053-ET0004579200.data...\n",
      "\tLarge distances: 5/1000\n",
      "\tDZ Statistics: (min,mean,std,max)=0.0012366,0.0193341,0.0164685,0.239627\n",
      "Reading file 54...\n"
     ]
    },
    {
     "name": "stderr",
     "output_type": "stream",
     "text": [
      "100%|██████████| 1000/1000 [00:16<00:00, 59.89it/s]\n"
     ]
    },
    {
     "name": "stdout",
     "output_type": "stream",
     "text": [
      "\tSaving grtcomp-0054-ET0004665600.data...\n",
      "\tLarge distances: 1/1000\n",
      "\tDZ Statistics: (min,mean,std,max)=0.000622813,0.0185263,0.0115248,0.201757\n",
      "Reading file 55...\n"
     ]
    },
    {
     "name": "stderr",
     "output_type": "stream",
     "text": [
      "100%|██████████| 1000/1000 [00:15<00:00, 70.50it/s]\n"
     ]
    },
    {
     "name": "stdout",
     "output_type": "stream",
     "text": [
      "\tSaving grtcomp-0055-ET0004752000.data...\n",
      "\tLarge distances: 3/1000\n",
      "\tDZ Statistics: (min,mean,std,max)=0.000924777,0.0199377,0.0287622,0.828873\n",
      "Reading file 56...\n"
     ]
    },
    {
     "name": "stderr",
     "output_type": "stream",
     "text": [
      "100%|██████████| 1000/1000 [00:21<00:00, 46.97it/s]\n"
     ]
    },
    {
     "name": "stdout",
     "output_type": "stream",
     "text": [
      "\tSaving grtcomp-0056-ET0004838400.data...\n",
      "\tLarge distances: 3/1000\n",
      "\tDZ Statistics: (min,mean,std,max)=0.00125753,0.0190542,0.0135684,0.22128\n",
      "Reading file 57...\n"
     ]
    },
    {
     "name": "stderr",
     "output_type": "stream",
     "text": [
      "100%|██████████| 1000/1000 [00:17<00:00, 55.64it/s]\n"
     ]
    },
    {
     "name": "stdout",
     "output_type": "stream",
     "text": [
      "\tSaving grtcomp-0057-ET0004924800.data...\n",
      "\tLarge distances: 2/1000\n",
      "\tDZ Statistics: (min,mean,std,max)=0.000978162,0.0189914,0.0157169,0.293841\n",
      "Reading file 58...\n"
     ]
    },
    {
     "name": "stderr",
     "output_type": "stream",
     "text": [
      "100%|██████████| 1000/1000 [00:18<00:00, 54.71it/s]\n"
     ]
    },
    {
     "name": "stdout",
     "output_type": "stream",
     "text": [
      "\tSaving grtcomp-0058-ET0005011200.data...\n",
      "\tLarge distances: 9/1000\n",
      "\tDZ Statistics: (min,mean,std,max)=0.000989395,0.0223046,0.0467928,0.884054\n",
      "Reading file 59...\n"
     ]
    },
    {
     "name": "stderr",
     "output_type": "stream",
     "text": [
      "100%|██████████| 1000/1000 [00:20<00:00, 48.52it/s]\n"
     ]
    },
    {
     "name": "stdout",
     "output_type": "stream",
     "text": [
      "\tSaving grtcomp-0059-ET0005097600.data...\n",
      "\tLarge distances: 3/1000\n",
      "\tDZ Statistics: (min,mean,std,max)=0.000420042,0.0191827,0.0140918,0.189886\n",
      "Reading file 60...\n"
     ]
    },
    {
     "name": "stderr",
     "output_type": "stream",
     "text": [
      "100%|██████████| 1000/1000 [00:17<00:00, 59.54it/s]\n"
     ]
    },
    {
     "name": "stdout",
     "output_type": "stream",
     "text": [
      "\tSaving grtcomp-0060-ET0005184000.data...\n",
      "\tLarge distances: 6/1000\n",
      "\tDZ Statistics: (min,mean,std,max)=0.000615574,0.023008,0.070092,1.78494\n",
      "Reading file 61...\n"
     ]
    },
    {
     "name": "stderr",
     "output_type": "stream",
     "text": [
      "100%|██████████| 1000/1000 [00:19<00:00, 58.33it/s]\n"
     ]
    },
    {
     "name": "stdout",
     "output_type": "stream",
     "text": [
      "\tSaving grtcomp-0061-ET0005270400.data...\n",
      "\tLarge distances: 3/1000\n",
      "\tDZ Statistics: (min,mean,std,max)=0.00101263,0.0195018,0.0203117,0.423202\n",
      "Reading file 62...\n"
     ]
    },
    {
     "name": "stderr",
     "output_type": "stream",
     "text": [
      "100%|██████████| 1000/1000 [00:27<00:00, 36.70it/s]\n"
     ]
    },
    {
     "name": "stdout",
     "output_type": "stream",
     "text": [
      "\tSaving grtcomp-0062-ET0005356800.data...\n",
      "\tLarge distances: 3/1000\n",
      "\tDZ Statistics: (min,mean,std,max)=0.00144816,0.0191159,0.0129105,0.181627\n",
      "Reading file 63...\n"
     ]
    },
    {
     "name": "stderr",
     "output_type": "stream",
     "text": [
      "100%|██████████| 1000/1000 [00:16<00:00, 62.86it/s]\n"
     ]
    },
    {
     "name": "stdout",
     "output_type": "stream",
     "text": [
      "\tSaving grtcomp-0063-ET0005443200.data...\n",
      "\tLarge distances: 3/1000\n",
      "\tDZ Statistics: (min,mean,std,max)=0.00110362,0.0201133,0.0250288,0.675395\n",
      "Reading file 64...\n"
     ]
    },
    {
     "name": "stderr",
     "output_type": "stream",
     "text": [
      "100%|██████████| 1000/1000 [00:18<00:00, 57.53it/s]\n"
     ]
    },
    {
     "name": "stdout",
     "output_type": "stream",
     "text": [
      "\tSaving grtcomp-0064-ET0005529600.data...\n",
      "\tLarge distances: 5/1000\n",
      "\tDZ Statistics: (min,mean,std,max)=0.000722397,0.0204689,0.0248856,0.602328\n",
      "Reading file 65...\n"
     ]
    },
    {
     "name": "stderr",
     "output_type": "stream",
     "text": [
      "100%|██████████| 1000/1000 [00:15<00:00, 63.49it/s]\n"
     ]
    },
    {
     "name": "stdout",
     "output_type": "stream",
     "text": [
      "\tSaving grtcomp-0065-ET0005616000.data...\n",
      "\tLarge distances: 5/1000\n",
      "\tDZ Statistics: (min,mean,std,max)=0.000960477,0.0199282,0.0202648,0.479568\n",
      "Reading file 66...\n"
     ]
    },
    {
     "name": "stderr",
     "output_type": "stream",
     "text": [
      "100%|██████████| 1000/1000 [00:14<00:00, 68.09it/s]\n"
     ]
    },
    {
     "name": "stdout",
     "output_type": "stream",
     "text": [
      "\tSaving grtcomp-0066-ET0005702400.data...\n",
      "\tLarge distances: 4/1000\n",
      "\tDZ Statistics: (min,mean,std,max)=0.000253159,0.0199759,0.0206694,0.533066\n",
      "Reading file 67...\n"
     ]
    },
    {
     "name": "stderr",
     "output_type": "stream",
     "text": [
      "100%|██████████| 1000/1000 [00:17<00:00, 57.34it/s]\n"
     ]
    },
    {
     "name": "stdout",
     "output_type": "stream",
     "text": [
      "\tSaving grtcomp-0067-ET0005788800.data...\n",
      "\tLarge distances: 5/1000\n",
      "\tDZ Statistics: (min,mean,std,max)=0.000953546,0.0204519,0.0172906,0.31953\n",
      "Reading file 68...\n"
     ]
    },
    {
     "name": "stderr",
     "output_type": "stream",
     "text": [
      "100%|██████████| 1000/1000 [00:21<00:00, 40.67it/s]\n"
     ]
    },
    {
     "name": "stdout",
     "output_type": "stream",
     "text": [
      "\tSaving grtcomp-0068-ET0005875200.data...\n",
      "\tLarge distances: 2/1000\n",
      "\tDZ Statistics: (min,mean,std,max)=0.000728147,0.0210964,0.0213535,0.54985\n",
      "Reading file 69...\n"
     ]
    },
    {
     "name": "stderr",
     "output_type": "stream",
     "text": [
      "100%|██████████| 1000/1000 [00:16<00:00, 68.07it/s]\n"
     ]
    },
    {
     "name": "stdout",
     "output_type": "stream",
     "text": [
      "\tSaving grtcomp-0069-ET0005961600.data...\n",
      "\tLarge distances: 6/1000\n",
      "\tDZ Statistics: (min,mean,std,max)=0.00058477,0.0225513,0.0327827,0.590071\n",
      "Reading file 70...\n"
     ]
    },
    {
     "name": "stderr",
     "output_type": "stream",
     "text": [
      "100%|██████████| 1000/1000 [00:14<00:00, 67.64it/s]\n"
     ]
    },
    {
     "name": "stdout",
     "output_type": "stream",
     "text": [
      "\tSaving grtcomp-0070-ET0006048000.data...\n",
      "\tLarge distances: 6/1000\n",
      "\tDZ Statistics: (min,mean,std,max)=0.00069668,0.0210456,0.0158009,0.165829\n",
      "Reading file 71...\n"
     ]
    },
    {
     "name": "stderr",
     "output_type": "stream",
     "text": [
      "100%|██████████| 1000/1000 [00:14<00:00, 67.18it/s]\n"
     ]
    },
    {
     "name": "stdout",
     "output_type": "stream",
     "text": [
      "\tSaving grtcomp-0071-ET0006134400.data...\n",
      "\tLarge distances: 7/1000\n",
      "\tDZ Statistics: (min,mean,std,max)=0.000733776,0.0229352,0.0191157,0.253651\n",
      "Reading file 72...\n"
     ]
    },
    {
     "name": "stderr",
     "output_type": "stream",
     "text": [
      "100%|██████████| 1000/1000 [00:14<00:00, 68.54it/s]\n"
     ]
    },
    {
     "name": "stdout",
     "output_type": "stream",
     "text": [
      "\tSaving grtcomp-0072-ET0006220800.data...\n",
      "\tLarge distances: 7/1000\n",
      "\tDZ Statistics: (min,mean,std,max)=0.000549267,0.0223705,0.0276493,0.680916\n",
      "Reading file 73...\n"
     ]
    },
    {
     "name": "stderr",
     "output_type": "stream",
     "text": [
      "100%|██████████| 1000/1000 [00:14<00:00, 68.20it/s]\n"
     ]
    },
    {
     "name": "stdout",
     "output_type": "stream",
     "text": [
      "\tSaving grtcomp-0073-ET0006307200.data...\n",
      "\tLarge distances: 3/1000\n",
      "\tDZ Statistics: (min,mean,std,max)=0.0005179,0.0218615,0.0200457,0.482937\n",
      "Reading file 74...\n"
     ]
    },
    {
     "name": "stderr",
     "output_type": "stream",
     "text": [
      "100%|██████████| 1000/1000 [00:14<00:00, 66.97it/s]\n"
     ]
    },
    {
     "name": "stdout",
     "output_type": "stream",
     "text": [
      "\tSaving grtcomp-0074-ET0006393600.data...\n",
      "\tLarge distances: 6/1000\n",
      "\tDZ Statistics: (min,mean,std,max)=0.000848706,0.0221939,0.0154714,0.188373\n",
      "Reading file 75...\n"
     ]
    },
    {
     "name": "stderr",
     "output_type": "stream",
     "text": [
      "100%|██████████| 1000/1000 [00:14<00:00, 68.90it/s]\n"
     ]
    },
    {
     "name": "stdout",
     "output_type": "stream",
     "text": [
      "\tSaving grtcomp-0075-ET0006410000.data...\n",
      "\tLarge distances: 8/1000\n",
      "\tDZ Statistics: (min,mean,std,max)=0.000920715,0.0238229,0.0326808,0.778212\n",
      "Reading file 76...\n"
     ]
    },
    {
     "name": "stderr",
     "output_type": "stream",
     "text": [
      "100%|██████████| 1000/1000 [00:14<00:00, 70.05it/s]\n"
     ]
    },
    {
     "name": "stdout",
     "output_type": "stream",
     "text": [
      "\tSaving grtcomp-0076-ET0006566400.data...\n",
      "\tLarge distances: 6/1000\n",
      "\tDZ Statistics: (min,mean,std,max)=0.00041482,0.0225036,0.0243842,0.552938\n",
      "Reading file 77...\n"
     ]
    },
    {
     "name": "stderr",
     "output_type": "stream",
     "text": [
      "100%|██████████| 1000/1000 [00:14<00:00, 69.29it/s]\n"
     ]
    },
    {
     "name": "stdout",
     "output_type": "stream",
     "text": [
      "\tSaving grtcomp-0077-ET0006652800.data...\n",
      "\tLarge distances: 5/1000\n",
      "\tDZ Statistics: (min,mean,std,max)=0.000474266,0.023199,0.0155405,0.130301\n",
      "Reading file 78...\n"
     ]
    },
    {
     "name": "stderr",
     "output_type": "stream",
     "text": [
      "100%|██████████| 1000/1000 [00:14<00:00, 68.69it/s]\n"
     ]
    },
    {
     "name": "stdout",
     "output_type": "stream",
     "text": [
      "\tSaving grtcomp-0078-ET0006739200.data...\n",
      "\tLarge distances: 11/1000\n",
      "\tDZ Statistics: (min,mean,std,max)=0.000540742,0.0238014,0.0212512,0.347018\n",
      "Reading file 79...\n"
     ]
    },
    {
     "name": "stderr",
     "output_type": "stream",
     "text": [
      "100%|██████████| 1000/1000 [00:14<00:00, 70.45it/s]\n"
     ]
    },
    {
     "name": "stdout",
     "output_type": "stream",
     "text": [
      "\tSaving grtcomp-0079-ET0006825600.data...\n",
      "\tLarge distances: 4/1000\n",
      "\tDZ Statistics: (min,mean,std,max)=0.000522272,0.0230222,0.0190358,0.405167\n",
      "Reading file 80...\n"
     ]
    },
    {
     "name": "stderr",
     "output_type": "stream",
     "text": [
      "100%|██████████| 1000/1000 [00:14<00:00, 67.48it/s]\n"
     ]
    },
    {
     "name": "stdout",
     "output_type": "stream",
     "text": [
      "\tSaving grtcomp-0080-ET0006912000.data...\n",
      "\tLarge distances: 4/1000\n",
      "\tDZ Statistics: (min,mean,std,max)=0.000498429,0.0222687,0.015258,0.24671\n",
      "Reading file 81...\n"
     ]
    },
    {
     "name": "stderr",
     "output_type": "stream",
     "text": [
      "100%|██████████| 1000/1000 [00:14<00:00, 71.10it/s]\n"
     ]
    },
    {
     "name": "stdout",
     "output_type": "stream",
     "text": [
      "\tSaving grtcomp-0081-ET0006998400.data...\n",
      "\tLarge distances: 4/1000\n",
      "\tDZ Statistics: (min,mean,std,max)=0.000745426,0.023571,0.0258997,0.537887\n",
      "Reading file 82...\n"
     ]
    },
    {
     "name": "stderr",
     "output_type": "stream",
     "text": [
      "100%|██████████| 1000/1000 [00:14<00:00, 69.88it/s]\n"
     ]
    },
    {
     "name": "stdout",
     "output_type": "stream",
     "text": [
      "\tSaving grtcomp-0082-ET0007084800.data...\n",
      "\tLarge distances: 2/1000\n",
      "\tDZ Statistics: (min,mean,std,max)=0.000755462,0.0225734,0.014048,0.176644\n",
      "Reading file 83...\n"
     ]
    },
    {
     "name": "stderr",
     "output_type": "stream",
     "text": [
      "100%|██████████| 1000/1000 [00:16<00:00, 62.05it/s]\n"
     ]
    },
    {
     "name": "stdout",
     "output_type": "stream",
     "text": [
      "\tSaving grtcomp-0083-ET0007171200.data...\n",
      "\tLarge distances: 2/1000\n",
      "\tDZ Statistics: (min,mean,std,max)=0.00025566,0.0217048,0.0144186,0.185723\n",
      "Reading file 84...\n"
     ]
    },
    {
     "name": "stderr",
     "output_type": "stream",
     "text": [
      "100%|██████████| 1000/1000 [00:14<00:00, 68.65it/s]\n"
     ]
    },
    {
     "name": "stdout",
     "output_type": "stream",
     "text": [
      "\tSaving grtcomp-0084-ET0007257600.data...\n",
      "\tLarge distances: 4/1000\n",
      "\tDZ Statistics: (min,mean,std,max)=0.000526829,0.0222869,0.0150176,0.21072\n",
      "Reading file 85...\n"
     ]
    },
    {
     "name": "stderr",
     "output_type": "stream",
     "text": [
      "100%|██████████| 1000/1000 [00:14<00:00, 69.68it/s]\n"
     ]
    },
    {
     "name": "stdout",
     "output_type": "stream",
     "text": [
      "\tSaving grtcomp-0085-ET0007344000.data...\n",
      "\tLarge distances: 3/1000\n",
      "\tDZ Statistics: (min,mean,std,max)=0.00010953,0.0227536,0.0341531,1.02022\n",
      "Reading file 86...\n"
     ]
    },
    {
     "name": "stderr",
     "output_type": "stream",
     "text": [
      "100%|██████████| 1000/1000 [00:15<00:00, 57.55it/s]\n"
     ]
    },
    {
     "name": "stdout",
     "output_type": "stream",
     "text": [
      "\tSaving grtcomp-0086-ET0007430400.data...\n",
      "\tLarge distances: 5/1000\n",
      "\tDZ Statistics: (min,mean,std,max)=0.000334959,0.0237775,0.0454659,1.1823\n",
      "Reading file 87...\n"
     ]
    },
    {
     "name": "stderr",
     "output_type": "stream",
     "text": [
      "100%|██████████| 1000/1000 [00:22<00:00, 43.74it/s]\n"
     ]
    },
    {
     "name": "stdout",
     "output_type": "stream",
     "text": [
      "\tSaving grtcomp-0087-ET0007516800.data...\n",
      "\tLarge distances: 5/1000\n",
      "\tDZ Statistics: (min,mean,std,max)=0.000347487,0.0224478,0.0186203,0.334447\n",
      "Reading file 88...\n"
     ]
    },
    {
     "name": "stderr",
     "output_type": "stream",
     "text": [
      "100%|██████████| 1000/1000 [00:16<00:00, 60.76it/s]\n"
     ]
    },
    {
     "name": "stdout",
     "output_type": "stream",
     "text": [
      "\tSaving grtcomp-0088-ET0007603200.data...\n",
      "\tLarge distances: 4/1000\n",
      "\tDZ Statistics: (min,mean,std,max)=0.000127884,0.0225351,0.0222936,0.546371\n",
      "Reading file 89...\n"
     ]
    },
    {
     "name": "stderr",
     "output_type": "stream",
     "text": [
      "100%|██████████| 1000/1000 [00:17<00:00, 58.72it/s]\n"
     ]
    },
    {
     "name": "stdout",
     "output_type": "stream",
     "text": [
      "\tSaving grtcomp-0089-ET0007689600.data...\n",
      "\tLarge distances: 3/1000\n",
      "\tDZ Statistics: (min,mean,std,max)=0.000418975,0.0224279,0.0197555,0.45701\n",
      "Reading file 90...\n"
     ]
    },
    {
     "name": "stderr",
     "output_type": "stream",
     "text": [
      "100%|██████████| 1000/1000 [00:14<00:00, 69.53it/s]\n"
     ]
    },
    {
     "name": "stdout",
     "output_type": "stream",
     "text": [
      "\tSaving grtcomp-0090-ET0007776000.data...\n",
      "\tLarge distances: 1/1000\n",
      "\tDZ Statistics: (min,mean,std,max)=0.000472537,0.0212656,0.0147709,0.276164\n",
      "Reading file 91...\n"
     ]
    },
    {
     "name": "stderr",
     "output_type": "stream",
     "text": [
      "100%|██████████| 1000/1000 [00:14<00:00, 67.29it/s]\n"
     ]
    },
    {
     "name": "stdout",
     "output_type": "stream",
     "text": [
      "\tSaving grtcomp-0091-ET0007862400.data...\n",
      "\tLarge distances: 4/1000\n",
      "\tDZ Statistics: (min,mean,std,max)=0.00070166,0.0235442,0.0366328,0.746481\n",
      "Reading file 92...\n"
     ]
    },
    {
     "name": "stderr",
     "output_type": "stream",
     "text": [
      "100%|██████████| 1000/1000 [00:15<00:00, 65.01it/s]\n"
     ]
    },
    {
     "name": "stdout",
     "output_type": "stream",
     "text": [
      "\tSaving grtcomp-0092-ET0007948800.data...\n",
      "\tLarge distances: 4/1000\n",
      "\tDZ Statistics: (min,mean,std,max)=0.000332599,0.0214679,0.0231914,0.528592\n",
      "Reading file 93...\n"
     ]
    },
    {
     "name": "stderr",
     "output_type": "stream",
     "text": [
      "100%|██████████| 1000/1000 [00:17<00:00, 58.20it/s]\n"
     ]
    },
    {
     "name": "stdout",
     "output_type": "stream",
     "text": [
      "\tSaving grtcomp-0093-ET0008035200.data...\n",
      "\tLarge distances: 9/1000\n",
      "\tDZ Statistics: (min,mean,std,max)=0.000200783,0.0226898,0.0214121,0.378537\n",
      "Reading file 94...\n"
     ]
    },
    {
     "name": "stderr",
     "output_type": "stream",
     "text": [
      "100%|██████████| 1000/1000 [00:17<00:00, 57.98it/s]\n"
     ]
    },
    {
     "name": "stdout",
     "output_type": "stream",
     "text": [
      "\tSaving grtcomp-0094-ET0008121600.data...\n",
      "\tLarge distances: 5/1000\n",
      "\tDZ Statistics: (min,mean,std,max)=0.000391711,0.0227676,0.0238403,0.563714\n",
      "Reading file 95...\n"
     ]
    },
    {
     "name": "stderr",
     "output_type": "stream",
     "text": [
      "100%|██████████| 1000/1000 [00:19<00:00, 52.60it/s]\n"
     ]
    },
    {
     "name": "stdout",
     "output_type": "stream",
     "text": [
      "\tSaving grtcomp-0095-ET0008208000.data...\n",
      "\tLarge distances: 4/1000\n",
      "\tDZ Statistics: (min,mean,std,max)=0.000353599,0.0229571,0.0290508,0.809449\n",
      "Reading file 96...\n"
     ]
    },
    {
     "name": "stderr",
     "output_type": "stream",
     "text": [
      "100%|██████████| 1000/1000 [00:16<00:00, 59.90it/s]\n"
     ]
    },
    {
     "name": "stdout",
     "output_type": "stream",
     "text": [
      "\tSaving grtcomp-0096-ET0008294400.data...\n",
      "\tLarge distances: 10/1000\n",
      "\tDZ Statistics: (min,mean,std,max)=0.000151736,0.0247581,0.0439724,1.28016\n",
      "Reading file 97...\n"
     ]
    },
    {
     "name": "stderr",
     "output_type": "stream",
     "text": [
      "100%|██████████| 1000/1000 [00:17<00:00, 56.69it/s]\n"
     ]
    },
    {
     "name": "stdout",
     "output_type": "stream",
     "text": [
      "\tSaving grtcomp-0097-ET0008380800.data...\n",
      "\tLarge distances: 3/1000\n",
      "\tDZ Statistics: (min,mean,std,max)=0.000412242,0.0232567,0.0337743,0.74579\n",
      "Reading file 98...\n"
     ]
    },
    {
     "name": "stderr",
     "output_type": "stream",
     "text": [
      "100%|██████████| 1000/1000 [00:26<00:00, 38.26it/s]\n"
     ]
    },
    {
     "name": "stdout",
     "output_type": "stream",
     "text": [
      "\tSaving grtcomp-0098-ET0008467200.data...\n",
      "\tLarge distances: 3/1000\n",
      "\tDZ Statistics: (min,mean,std,max)=0.000480222,0.0223636,0.0220754,0.4351\n",
      "Reading file 99...\n"
     ]
    },
    {
     "name": "stderr",
     "output_type": "stream",
     "text": [
      "100%|██████████| 1000/1000 [00:20<00:00, 49.54it/s]\n"
     ]
    },
    {
     "name": "stdout",
     "output_type": "stream",
     "text": [
      "\tSaving grtcomp-0099-ET0008553600.data...\n",
      "\tLarge distances: 9/1000\n",
      "\tDZ Statistics: (min,mean,std,max)=0.000322484,0.0240163,0.0342324,0.914911\n",
      "Reading file 100...\n"
     ]
    },
    {
     "name": "stderr",
     "output_type": "stream",
     "text": [
      "100%|██████████| 1000/1000 [00:18<00:00, 53.86it/s]\n"
     ]
    },
    {
     "name": "stdout",
     "output_type": "stream",
     "text": [
      "\tSaving grtcomp-0100-ET0008640000.data...\n",
      "\tLarge distances: 9/1000\n",
      "\tDZ Statistics: (min,mean,std,max)=0.000332964,0.0250244,0.0415241,0.721062\n",
      "Reading file 101...\n"
     ]
    },
    {
     "name": "stderr",
     "output_type": "stream",
     "text": [
      "100%|██████████| 1000/1000 [00:16<00:00, 62.07it/s]\n"
     ]
    },
    {
     "name": "stdout",
     "output_type": "stream",
     "text": [
      "\tSaving grtcomp-0101-ET0008726400.data...\n",
      "\tLarge distances: 4/1000\n",
      "\tDZ Statistics: (min,mean,std,max)=0.000107531,0.0228244,0.0181633,0.303004\n",
      "Reading file 102...\n"
     ]
    },
    {
     "name": "stderr",
     "output_type": "stream",
     "text": [
      "100%|██████████| 1000/1000 [00:14<00:00, 66.94it/s]\n"
     ]
    },
    {
     "name": "stdout",
     "output_type": "stream",
     "text": [
      "\tSaving grtcomp-0102-ET0008812800.data...\n",
      "\tLarge distances: 2/1000\n",
      "\tDZ Statistics: (min,mean,std,max)=0.000587785,0.022968,0.0169755,0.337613\n",
      "Reading file 103...\n"
     ]
    },
    {
     "name": "stderr",
     "output_type": "stream",
     "text": [
      "100%|██████████| 1000/1000 [00:14<00:00, 66.73it/s]\n"
     ]
    },
    {
     "name": "stdout",
     "output_type": "stream",
     "text": [
      "\tSaving grtcomp-0103-ET0008899200.data...\n",
      "\tLarge distances: 4/1000\n",
      "\tDZ Statistics: (min,mean,std,max)=0.000403987,0.0227242,0.0161013,0.247365\n",
      "Reading file 104...\n"
     ]
    },
    {
     "name": "stderr",
     "output_type": "stream",
     "text": [
      "100%|██████████| 1000/1000 [00:15<00:00, 65.82it/s]\n"
     ]
    },
    {
     "name": "stdout",
     "output_type": "stream",
     "text": [
      "\tSaving grtcomp-0104-ET0008985600.data...\n",
      "\tLarge distances: 2/1000\n",
      "\tDZ Statistics: (min,mean,std,max)=0.000261623,0.0237864,0.0194606,0.448118\n",
      "Reading file 105...\n"
     ]
    },
    {
     "name": "stderr",
     "output_type": "stream",
     "text": [
      "100%|██████████| 1000/1000 [00:15<00:00, 66.42it/s]\n"
     ]
    },
    {
     "name": "stdout",
     "output_type": "stream",
     "text": [
      "\tSaving grtcomp-0105-ET0009072000.data...\n",
      "\tLarge distances: 8/1000\n",
      "\tDZ Statistics: (min,mean,std,max)=0.000248529,0.0257234,0.0422902,1.0802\n",
      "Reading file 106...\n"
     ]
    },
    {
     "name": "stderr",
     "output_type": "stream",
     "text": [
      "100%|██████████| 1000/1000 [00:16<00:00, 61.93it/s]\n"
     ]
    },
    {
     "name": "stdout",
     "output_type": "stream",
     "text": [
      "\tSaving grtcomp-0106-ET0009158400.data...\n",
      "\tLarge distances: 4/1000\n",
      "\tDZ Statistics: (min,mean,std,max)=0.0005435,0.0233678,0.0168986,0.314711\n",
      "Reading file 107...\n"
     ]
    },
    {
     "name": "stderr",
     "output_type": "stream",
     "text": [
      "100%|██████████| 1000/1000 [00:14<00:00, 71.27it/s]\n"
     ]
    },
    {
     "name": "stdout",
     "output_type": "stream",
     "text": [
      "\tSaving grtcomp-0107-ET0009244800.data...\n",
      "\tLarge distances: 4/1000\n",
      "\tDZ Statistics: (min,mean,std,max)=0.000282754,0.0232289,0.0138124,0.146338\n",
      "Reading file 108...\n"
     ]
    },
    {
     "name": "stderr",
     "output_type": "stream",
     "text": [
      "100%|██████████| 1000/1000 [00:14<00:00, 70.28it/s]\n"
     ]
    },
    {
     "name": "stdout",
     "output_type": "stream",
     "text": [
      "\tSaving grtcomp-0108-ET0009331200.data...\n",
      "\tLarge distances: 5/1000\n",
      "\tDZ Statistics: (min,mean,std,max)=0.000272477,0.0235009,0.0159421,0.238005\n",
      "Reading file 109...\n"
     ]
    },
    {
     "name": "stderr",
     "output_type": "stream",
     "text": [
      "100%|██████████| 1000/1000 [00:14<00:00, 70.43it/s]\n"
     ]
    },
    {
     "name": "stdout",
     "output_type": "stream",
     "text": [
      "\tSaving grtcomp-0109-ET0009417600.data...\n",
      "\tLarge distances: 6/1000\n",
      "\tDZ Statistics: (min,mean,std,max)=0.00061895,0.0239817,0.0418982,1.2233\n",
      "Reading file 110...\n"
     ]
    },
    {
     "name": "stderr",
     "output_type": "stream",
     "text": [
      "100%|██████████| 1000/1000 [00:17<00:00, 56.83it/s]\n"
     ]
    },
    {
     "name": "stdout",
     "output_type": "stream",
     "text": [
      "\tSaving grtcomp-0110-ET0009504000.data...\n",
      "\tLarge distances: 2/1000\n",
      "\tDZ Statistics: (min,mean,std,max)=0.000541927,0.0242298,0.0383366,1.16816\n",
      "Reading file 111...\n"
     ]
    },
    {
     "name": "stderr",
     "output_type": "stream",
     "text": [
      "100%|██████████| 1000/1000 [00:17<00:00, 56.74it/s]\n"
     ]
    },
    {
     "name": "stdout",
     "output_type": "stream",
     "text": [
      "\tSaving grtcomp-0111-ET0009590400.data...\n",
      "\tLarge distances: 5/1000\n",
      "\tDZ Statistics: (min,mean,std,max)=0.000756035,0.0227009,0.0160468,0.256881\n",
      "Reading file 112...\n"
     ]
    },
    {
     "name": "stderr",
     "output_type": "stream",
     "text": [
      "100%|██████████| 1000/1000 [00:17<00:00, 57.65it/s]\n"
     ]
    },
    {
     "name": "stdout",
     "output_type": "stream",
     "text": [
      "\tSaving grtcomp-0112-ET0009676800.data...\n",
      "\tLarge distances: 4/1000\n",
      "\tDZ Statistics: (min,mean,std,max)=0.000281161,0.0254821,0.0730974,2.12157\n",
      "Reading file 113...\n"
     ]
    },
    {
     "name": "stderr",
     "output_type": "stream",
     "text": [
      "100%|██████████| 1000/1000 [00:17<00:00, 55.94it/s]\n"
     ]
    },
    {
     "name": "stdout",
     "output_type": "stream",
     "text": [
      "\tSaving grtcomp-0113-ET0009763200.data...\n",
      "\tLarge distances: 6/1000\n",
      "\tDZ Statistics: (min,mean,std,max)=0.000657506,0.0230497,0.0260368,0.621203\n",
      "Reading file 114...\n"
     ]
    },
    {
     "name": "stderr",
     "output_type": "stream",
     "text": [
      "100%|██████████| 1000/1000 [00:16<00:00, 56.32it/s]\n"
     ]
    },
    {
     "name": "stdout",
     "output_type": "stream",
     "text": [
      "\tSaving grtcomp-0114-ET0009849600.data...\n",
      "\tLarge distances: 9/1000\n",
      "\tDZ Statistics: (min,mean,std,max)=0.000423795,0.0245672,0.0428423,1.12147\n",
      "Reading file 115...\n"
     ]
    },
    {
     "name": "stderr",
     "output_type": "stream",
     "text": [
      "100%|██████████| 1000/1000 [00:17<00:00, 58.74it/s]\n"
     ]
    },
    {
     "name": "stdout",
     "output_type": "stream",
     "text": [
      "\tSaving grtcomp-0115-ET0009936000.data...\n",
      "\tLarge distances: 4/1000\n",
      "\tDZ Statistics: (min,mean,std,max)=0.000513125,0.0218709,0.0172005,0.403358\n",
      "Reading file 116...\n"
     ]
    },
    {
     "name": "stderr",
     "output_type": "stream",
     "text": [
      "100%|██████████| 1000/1000 [00:17<00:00, 56.87it/s]\n"
     ]
    },
    {
     "name": "stdout",
     "output_type": "stream",
     "text": [
      "\tSaving grtcomp-0116-ET0010022400.data...\n",
      "\tLarge distances: 9/1000\n",
      "\tDZ Statistics: (min,mean,std,max)=0.000545527,0.0240886,0.0436006,1.1126\n",
      "Reading file 117...\n"
     ]
    },
    {
     "name": "stderr",
     "output_type": "stream",
     "text": [
      "100%|██████████| 1000/1000 [00:16<00:00, 62.47it/s]\n"
     ]
    },
    {
     "name": "stdout",
     "output_type": "stream",
     "text": [
      "\tSaving grtcomp-0117-ET0010100000.data...\n",
      "\tLarge distances: 4/1000\n",
      "\tDZ Statistics: (min,mean,std,max)=0.000917712,0.0221095,0.0171331,0.347279\n",
      "Reading file 118...\n"
     ]
    },
    {
     "name": "stderr",
     "output_type": "stream",
     "text": [
      "100%|██████████| 1000/1000 [00:17<00:00, 56.60it/s]\n"
     ]
    },
    {
     "name": "stdout",
     "output_type": "stream",
     "text": [
      "\tSaving grtcomp-0118-ET0010108800.data...\n",
      "\tLarge distances: 4/1000\n",
      "\tDZ Statistics: (min,mean,std,max)=0.000716394,0.0214334,0.0145014,0.174422\n",
      "Reading file 119...\n"
     ]
    },
    {
     "name": "stderr",
     "output_type": "stream",
     "text": [
      "100%|██████████| 1000/1000 [00:17<00:00, 57.71it/s]\n"
     ]
    },
    {
     "name": "stdout",
     "output_type": "stream",
     "text": [
      "\tSaving grtcomp-0119-ET0010195200.data...\n",
      "\tLarge distances: 5/1000\n",
      "\tDZ Statistics: (min,mean,std,max)=0.000848296,0.0216689,0.0186412,0.321813\n",
      "Reading file 120...\n"
     ]
    },
    {
     "name": "stderr",
     "output_type": "stream",
     "text": [
      "100%|██████████| 1000/1000 [00:16<00:00, 59.35it/s]\n"
     ]
    },
    {
     "name": "stdout",
     "output_type": "stream",
     "text": [
      "\tSaving grtcomp-0120-ET0010281600.data...\n",
      "\tLarge distances: 6/1000\n",
      "\tDZ Statistics: (min,mean,std,max)=0.000867815,0.0224612,0.027368,0.707783\n",
      "Reading file 121...\n"
     ]
    },
    {
     "name": "stderr",
     "output_type": "stream",
     "text": [
      "100%|██████████| 1000/1000 [00:17<00:00, 58.10it/s]\n"
     ]
    },
    {
     "name": "stdout",
     "output_type": "stream",
     "text": [
      "\tSaving grtcomp-0121-ET0010368000.data...\n",
      "\tLarge distances: 5/1000\n",
      "\tDZ Statistics: (min,mean,std,max)=0.00107774,0.0229924,0.0299301,0.685299\n",
      "Reading file 122...\n"
     ]
    },
    {
     "name": "stderr",
     "output_type": "stream",
     "text": [
      "100%|██████████| 1000/1000 [00:21<00:00, 47.32it/s]\n"
     ]
    },
    {
     "name": "stdout",
     "output_type": "stream",
     "text": [
      "\tSaving grtcomp-0122-ET0010454400.data...\n",
      "\tLarge distances: 3/1000\n",
      "\tDZ Statistics: (min,mean,std,max)=0.000529794,0.0205237,0.0226767,0.607262\n",
      "Reading file 123...\n"
     ]
    },
    {
     "name": "stderr",
     "output_type": "stream",
     "text": [
      "100%|██████████| 1000/1000 [00:22<00:00, 45.33it/s]\n"
     ]
    },
    {
     "name": "stdout",
     "output_type": "stream",
     "text": [
      "\tSaving grtcomp-0123-ET0010540800.data...\n",
      "\tLarge distances: 5/1000\n",
      "\tDZ Statistics: (min,mean,std,max)=0.000639634,0.0227754,0.0357375,0.741736\n",
      "Reading file 124...\n"
     ]
    },
    {
     "name": "stderr",
     "output_type": "stream",
     "text": [
      "100%|██████████| 1000/1000 [00:19<00:00, 52.34it/s]\n"
     ]
    },
    {
     "name": "stdout",
     "output_type": "stream",
     "text": [
      "\tSaving grtcomp-0124-ET0010627200.data...\n",
      "\tLarge distances: 7/1000\n",
      "\tDZ Statistics: (min,mean,std,max)=0.00082659,0.0216946,0.0240674,0.455292\n",
      "Reading file 125...\n"
     ]
    },
    {
     "name": "stderr",
     "output_type": "stream",
     "text": [
      "100%|██████████| 1000/1000 [00:17<00:00, 58.46it/s]\n"
     ]
    },
    {
     "name": "stdout",
     "output_type": "stream",
     "text": [
      "\tSaving grtcomp-0125-ET0010713600.data...\n",
      "\tLarge distances: 1/1000\n",
      "\tDZ Statistics: (min,mean,std,max)=0.00125924,0.0204716,0.0130603,0.200496\n",
      "Reading file 126...\n"
     ]
    },
    {
     "name": "stderr",
     "output_type": "stream",
     "text": [
      "100%|██████████| 1000/1000 [00:17<00:00, 58.51it/s]\n"
     ]
    },
    {
     "name": "stdout",
     "output_type": "stream",
     "text": [
      "\tSaving grtcomp-0126-ET0010886400.data...\n",
      "\tLarge distances: 5/1000\n",
      "\tDZ Statistics: (min,mean,std,max)=0.00082647,0.0229831,0.0347526,0.682762\n",
      "Reading file 127...\n"
     ]
    },
    {
     "name": "stderr",
     "output_type": "stream",
     "text": [
      "100%|██████████| 1000/1000 [00:17<00:00, 61.11it/s]\n"
     ]
    },
    {
     "name": "stdout",
     "output_type": "stream",
     "text": [
      "\tSaving grtcomp-0127-ET0010972800.data...\n",
      "\tLarge distances: 3/1000\n",
      "\tDZ Statistics: (min,mean,std,max)=0.00138383,0.0223713,0.0515295,1.59698\n",
      "Reading file 128...\n"
     ]
    },
    {
     "name": "stderr",
     "output_type": "stream",
     "text": [
      "100%|██████████| 1000/1000 [00:18<00:00, 53.24it/s]\n"
     ]
    },
    {
     "name": "stdout",
     "output_type": "stream",
     "text": [
      "\tSaving grtcomp-0128-ET0011059200.data...\n",
      "\tLarge distances: 4/1000\n",
      "\tDZ Statistics: (min,mean,std,max)=0.000957417,0.0212762,0.0154284,0.202272\n",
      "Reading file 129...\n"
     ]
    },
    {
     "name": "stderr",
     "output_type": "stream",
     "text": [
      "100%|██████████| 1000/1000 [00:17<00:00, 56.46it/s]\n"
     ]
    },
    {
     "name": "stdout",
     "output_type": "stream",
     "text": [
      "\tSaving grtcomp-0129-ET0011145600.data...\n",
      "\tLarge distances: 6/1000\n",
      "\tDZ Statistics: (min,mean,std,max)=0.000853856,0.0233256,0.0467646,1.27779\n",
      "Reading file 130...\n"
     ]
    },
    {
     "name": "stderr",
     "output_type": "stream",
     "text": [
      "100%|██████████| 1000/1000 [00:19<00:00, 52.29it/s]\n"
     ]
    },
    {
     "name": "stdout",
     "output_type": "stream",
     "text": [
      "\tSaving grtcomp-0130-ET0011232000.data...\n",
      "\tLarge distances: 4/1000\n",
      "\tDZ Statistics: (min,mean,std,max)=0.000533576,0.0216606,0.0177497,0.397808\n",
      "Reading file 131...\n"
     ]
    },
    {
     "name": "stderr",
     "output_type": "stream",
     "text": [
      "100%|██████████| 1000/1000 [00:17<00:00, 57.40it/s]\n"
     ]
    },
    {
     "name": "stdout",
     "output_type": "stream",
     "text": [
      "\tSaving grtcomp-0131-ET0011318400.data...\n",
      "\tLarge distances: 5/1000\n",
      "\tDZ Statistics: (min,mean,std,max)=0.00104752,0.0218145,0.0161,0.240759\n",
      "Reading file 132...\n"
     ]
    },
    {
     "name": "stderr",
     "output_type": "stream",
     "text": [
      "100%|██████████| 1000/1000 [00:17<00:00, 56.16it/s]\n"
     ]
    },
    {
     "name": "stdout",
     "output_type": "stream",
     "text": [
      "\tSaving grtcomp-0132-ET0011404800.data...\n",
      "\tLarge distances: 3/1000\n",
      "\tDZ Statistics: (min,mean,std,max)=0.00152369,0.0220665,0.0276681,0.7019\n",
      "Reading file 133...\n"
     ]
    },
    {
     "name": "stderr",
     "output_type": "stream",
     "text": [
      "100%|██████████| 1000/1000 [00:24<00:00, 40.54it/s]\n"
     ]
    },
    {
     "name": "stdout",
     "output_type": "stream",
     "text": [
      "\tSaving grtcomp-0133-ET0011491200.data...\n",
      "\tLarge distances: 7/1000\n",
      "\tDZ Statistics: (min,mean,std,max)=0.000809817,0.0224937,0.0302739,0.539953\n",
      "Reading file 134...\n"
     ]
    },
    {
     "name": "stderr",
     "output_type": "stream",
     "text": [
      "100%|██████████| 1000/1000 [00:19<00:00, 55.05it/s]\n"
     ]
    },
    {
     "name": "stdout",
     "output_type": "stream",
     "text": [
      "\tSaving grtcomp-0134-ET0011577600.data...\n",
      "\tLarge distances: 3/1000\n",
      "\tDZ Statistics: (min,mean,std,max)=0.00154203,0.0212176,0.0234604,0.460967\n",
      "Reading file 135...\n"
     ]
    },
    {
     "name": "stderr",
     "output_type": "stream",
     "text": [
      "100%|██████████| 1000/1000 [00:20<00:00, 49.62it/s]\n"
     ]
    },
    {
     "name": "stdout",
     "output_type": "stream",
     "text": [
      "\tSaving grtcomp-0135-ET0011664000.data...\n",
      "\tLarge distances: 4/1000\n",
      "\tDZ Statistics: (min,mean,std,max)=0.00151161,0.0217007,0.0196059,0.478759\n",
      "Reading file 136...\n"
     ]
    },
    {
     "name": "stderr",
     "output_type": "stream",
     "text": [
      "100%|██████████| 1000/1000 [00:29<00:00, 34.35it/s]\n"
     ]
    },
    {
     "name": "stdout",
     "output_type": "stream",
     "text": [
      "\tSaving grtcomp-0136-ET0011750400.data...\n",
      "\tLarge distances: 3/1000\n",
      "\tDZ Statistics: (min,mean,std,max)=0.00134997,0.0208864,0.0133118,0.224277\n",
      "Reading file 137...\n"
     ]
    },
    {
     "name": "stderr",
     "output_type": "stream",
     "text": [
      "100%|██████████| 1000/1000 [00:16<00:00, 59.81it/s]\n"
     ]
    },
    {
     "name": "stdout",
     "output_type": "stream",
     "text": [
      "\tSaving grtcomp-0137-ET0011836800.data...\n",
      "\tLarge distances: 1/1000\n",
      "\tDZ Statistics: (min,mean,std,max)=0.00168412,0.0201553,0.0109941,0.121456\n",
      "Reading file 138...\n"
     ]
    },
    {
     "name": "stderr",
     "output_type": "stream",
     "text": [
      "100%|██████████| 1000/1000 [00:15<00:00, 64.22it/s]\n"
     ]
    },
    {
     "name": "stdout",
     "output_type": "stream",
     "text": [
      "\tSaving grtcomp-0138-ET0011923200.data...\n",
      "\tLarge distances: 5/1000\n",
      "\tDZ Statistics: (min,mean,std,max)=0.00168117,0.0222394,0.0394471,1.12545\n",
      "Reading file 139...\n"
     ]
    },
    {
     "name": "stderr",
     "output_type": "stream",
     "text": [
      "100%|██████████| 1000/1000 [00:15<00:00, 66.29it/s]\n"
     ]
    },
    {
     "name": "stdout",
     "output_type": "stream",
     "text": [
      "\tSaving grtcomp-0139-ET0012009600.data...\n",
      "\tLarge distances: 3/1000\n",
      "\tDZ Statistics: (min,mean,std,max)=0.00126496,0.0197947,0.0139908,0.22215\n",
      "Reading file 140...\n"
     ]
    },
    {
     "name": "stderr",
     "output_type": "stream",
     "text": [
      "100%|██████████| 1000/1000 [00:13<00:00, 71.85it/s]\n"
     ]
    },
    {
     "name": "stdout",
     "output_type": "stream",
     "text": [
      "\tSaving grtcomp-0140-ET0012096000.data...\n",
      "\tLarge distances: 6/1000\n",
      "\tDZ Statistics: (min,mean,std,max)=0.000858811,0.0213363,0.0415623,1.23412\n",
      "Reading file 141...\n"
     ]
    },
    {
     "name": "stderr",
     "output_type": "stream",
     "text": [
      "100%|██████████| 1000/1000 [00:14<00:00, 70.54it/s]\n"
     ]
    },
    {
     "name": "stdout",
     "output_type": "stream",
     "text": [
      "\tSaving grtcomp-0141-ET0012182400.data...\n",
      "\tLarge distances: 2/1000\n",
      "\tDZ Statistics: (min,mean,std,max)=0.00118475,0.019505,0.0115896,0.167412\n",
      "Reading file 142...\n"
     ]
    },
    {
     "name": "stderr",
     "output_type": "stream",
     "text": [
      "100%|██████████| 1000/1000 [00:14<00:00, 71.14it/s]\n"
     ]
    },
    {
     "name": "stdout",
     "output_type": "stream",
     "text": [
      "\tSaving grtcomp-0142-ET0012268800.data...\n",
      "\tLarge distances: 1/1000\n",
      "\tDZ Statistics: (min,mean,std,max)=0.00143367,0.0196968,0.0119375,0.186263\n",
      "Reading file 143...\n"
     ]
    },
    {
     "name": "stderr",
     "output_type": "stream",
     "text": [
      "100%|██████████| 1000/1000 [00:13<00:00, 71.86it/s]\n"
     ]
    },
    {
     "name": "stdout",
     "output_type": "stream",
     "text": [
      "\tSaving grtcomp-0143-ET0012355200.data...\n",
      "\tLarge distances: 3/1000\n",
      "\tDZ Statistics: (min,mean,std,max)=0.000956607,0.021305,0.0548267,1.69795\n",
      "Reading file 144...\n"
     ]
    },
    {
     "name": "stderr",
     "output_type": "stream",
     "text": [
      "100%|██████████| 1000/1000 [00:14<00:00, 69.92it/s]\n"
     ]
    },
    {
     "name": "stdout",
     "output_type": "stream",
     "text": [
      "\tSaving grtcomp-0144-ET0012441600.data...\n",
      "\tLarge distances: 7/1000\n",
      "\tDZ Statistics: (min,mean,std,max)=0.00128865,0.0206826,0.0242656,0.498333\n",
      "Reading file 145...\n"
     ]
    },
    {
     "name": "stderr",
     "output_type": "stream",
     "text": [
      "100%|██████████| 1000/1000 [00:14<00:00, 71.12it/s]\n"
     ]
    },
    {
     "name": "stdout",
     "output_type": "stream",
     "text": [
      "\tSaving grtcomp-0145-ET0012528000.data...\n",
      "\tLarge distances: 4/1000\n",
      "\tDZ Statistics: (min,mean,std,max)=0.00142921,0.0210988,0.0539506,1.47022\n",
      "Reading file 146...\n"
     ]
    },
    {
     "name": "stderr",
     "output_type": "stream",
     "text": [
      "100%|██████████| 1000/1000 [00:14<00:00, 70.43it/s]\n"
     ]
    },
    {
     "name": "stdout",
     "output_type": "stream",
     "text": [
      "\tSaving grtcomp-0146-ET0012614400.data...\n",
      "\tLarge distances: 5/1000\n",
      "\tDZ Statistics: (min,mean,std,max)=0.00141284,0.0186894,0.0135438,0.183222\n",
      "Reading file 147...\n"
     ]
    },
    {
     "name": "stderr",
     "output_type": "stream",
     "text": [
      "100%|██████████| 1000/1000 [00:13<00:00, 72.01it/s]\n"
     ]
    },
    {
     "name": "stdout",
     "output_type": "stream",
     "text": [
      "\tSaving grtcomp-0147-ET0012700800.data...\n",
      "\tLarge distances: 4/1000\n",
      "\tDZ Statistics: (min,mean,std,max)=0.00115467,0.0191738,0.0239042,0.502926\n",
      "Reading file 148...\n"
     ]
    },
    {
     "name": "stderr",
     "output_type": "stream",
     "text": [
      "100%|██████████| 1000/1000 [00:14<00:00, 68.91it/s]\n"
     ]
    },
    {
     "name": "stdout",
     "output_type": "stream",
     "text": [
      "\tSaving grtcomp-0148-ET0012787200.data...\n",
      "\tLarge distances: 5/1000\n",
      "\tDZ Statistics: (min,mean,std,max)=0.00148653,0.0189476,0.0250617,0.580373\n",
      "Reading file 149...\n"
     ]
    },
    {
     "name": "stderr",
     "output_type": "stream",
     "text": [
      "100%|██████████| 1000/1000 [00:13<00:00, 71.56it/s]\n"
     ]
    },
    {
     "name": "stdout",
     "output_type": "stream",
     "text": [
      "\tSaving grtcomp-0149-ET0012873600.data...\n",
      "\tLarge distances: 5/1000\n",
      "\tDZ Statistics: (min,mean,std,max)=0.00139948,0.0202369,0.0395511,0.749512\n",
      "Reading file 150...\n"
     ]
    },
    {
     "name": "stderr",
     "output_type": "stream",
     "text": [
      "100%|██████████| 1000/1000 [00:14<00:00, 70.67it/s]\n"
     ]
    },
    {
     "name": "stdout",
     "output_type": "stream",
     "text": [
      "\tSaving grtcomp-0150-ET0012960000.data...\n",
      "\tLarge distances: 5/1000\n",
      "\tDZ Statistics: (min,mean,std,max)=0.00178873,0.0189161,0.0210858,0.477254\n",
      "Reading file 151...\n"
     ]
    },
    {
     "name": "stderr",
     "output_type": "stream",
     "text": [
      "100%|██████████| 1000/1000 [00:14<00:00, 71.42it/s]\n"
     ]
    },
    {
     "name": "stdout",
     "output_type": "stream",
     "text": [
      "\tSaving grtcomp-0151-ET0013046400.data...\n",
      "\tLarge distances: 7/1000\n",
      "\tDZ Statistics: (min,mean,std,max)=0.0012823,0.0192934,0.0320755,0.797094\n",
      "Reading file 152...\n"
     ]
    },
    {
     "name": "stderr",
     "output_type": "stream",
     "text": [
      "100%|██████████| 1000/1000 [00:15<00:00, 63.62it/s]\n"
     ]
    },
    {
     "name": "stdout",
     "output_type": "stream",
     "text": [
      "\tSaving grtcomp-0152-ET0013132800.data...\n",
      "\tLarge distances: 7/1000\n",
      "\tDZ Statistics: (min,mean,std,max)=0.00171325,0.0191649,0.0204309,0.387118\n",
      "Reading file 153...\n"
     ]
    },
    {
     "name": "stderr",
     "output_type": "stream",
     "text": [
      "100%|██████████| 1000/1000 [00:14<00:00, 71.19it/s]\n"
     ]
    },
    {
     "name": "stdout",
     "output_type": "stream",
     "text": [
      "\tSaving grtcomp-0153-ET0013219200.data...\n",
      "\tLarge distances: 6/1000\n",
      "\tDZ Statistics: (min,mean,std,max)=0.00147707,0.0192128,0.0322726,0.882869\n",
      "Reading file 154...\n"
     ]
    },
    {
     "name": "stderr",
     "output_type": "stream",
     "text": [
      "100%|██████████| 1000/1000 [00:13<00:00, 71.84it/s]\n"
     ]
    },
    {
     "name": "stdout",
     "output_type": "stream",
     "text": [
      "\tSaving grtcomp-0154-ET0013305600.data...\n",
      "\tLarge distances: 6/1000\n",
      "\tDZ Statistics: (min,mean,std,max)=0.00156075,0.0182696,0.0249028,0.578389\n",
      "Reading file 155...\n"
     ]
    },
    {
     "name": "stderr",
     "output_type": "stream",
     "text": [
      "100%|██████████| 1000/1000 [00:14<00:00, 71.25it/s]\n"
     ]
    },
    {
     "name": "stdout",
     "output_type": "stream",
     "text": [
      "\tSaving grtcomp-0155-ET0013392000.data...\n",
      "\tLarge distances: 6/1000\n",
      "\tDZ Statistics: (min,mean,std,max)=0.0014211,0.0183629,0.0226698,0.574097\n",
      "Reading file 156...\n"
     ]
    },
    {
     "name": "stderr",
     "output_type": "stream",
     "text": [
      "100%|██████████| 1000/1000 [00:13<00:00, 73.83it/s]\n"
     ]
    },
    {
     "name": "stdout",
     "output_type": "stream",
     "text": [
      "\tSaving grtcomp-0156-ET0013478400.data...\n",
      "\tLarge distances: 2/1000\n",
      "\tDZ Statistics: (min,mean,std,max)=0.00151526,0.0182747,0.0211445,0.579394\n",
      "Reading file 157...\n"
     ]
    },
    {
     "name": "stderr",
     "output_type": "stream",
     "text": [
      "100%|██████████| 1000/1000 [00:17<00:00, 61.01it/s]\n"
     ]
    },
    {
     "name": "stdout",
     "output_type": "stream",
     "text": [
      "\tSaving grtcomp-0157-ET0013564800.data...\n",
      "\tLarge distances: 6/1000\n",
      "\tDZ Statistics: (min,mean,std,max)=0.00202298,0.0187075,0.0212468,0.411627\n",
      "Reading file 158...\n"
     ]
    },
    {
     "name": "stderr",
     "output_type": "stream",
     "text": [
      "100%|██████████| 1000/1000 [00:16<00:00, 59.54it/s]\n"
     ]
    },
    {
     "name": "stdout",
     "output_type": "stream",
     "text": [
      "\tSaving grtcomp-0158-ET0013651200.data...\n",
      "\tLarge distances: 4/1000\n",
      "\tDZ Statistics: (min,mean,std,max)=0.00181212,0.0183239,0.0205113,0.414828\n",
      "Reading file 159...\n"
     ]
    },
    {
     "name": "stderr",
     "output_type": "stream",
     "text": [
      "100%|██████████| 1000/1000 [00:15<00:00, 67.33it/s]\n"
     ]
    },
    {
     "name": "stdout",
     "output_type": "stream",
     "text": [
      "\tSaving grtcomp-0159-ET0013737600.data...\n",
      "\tLarge distances: 5/1000\n",
      "\tDZ Statistics: (min,mean,std,max)=0.00111812,0.0178692,0.0218089,0.458979\n",
      "Reading file 160...\n"
     ]
    },
    {
     "name": "stderr",
     "output_type": "stream",
     "text": [
      "100%|██████████| 1000/1000 [00:16<00:00, 62.25it/s]\n"
     ]
    },
    {
     "name": "stdout",
     "output_type": "stream",
     "text": [
      "\tSaving grtcomp-0160-ET0013824000.data...\n",
      "\tLarge distances: 4/1000\n",
      "\tDZ Statistics: (min,mean,std,max)=0.00150464,0.016861,0.012939,0.228902\n",
      "Reading file 161...\n"
     ]
    },
    {
     "name": "stderr",
     "output_type": "stream",
     "text": [
      "100%|██████████| 1000/1000 [00:13<00:00, 73.23it/s]\n"
     ]
    },
    {
     "name": "stdout",
     "output_type": "stream",
     "text": [
      "\tSaving grtcomp-0161-ET0013910400.data...\n",
      "\tLarge distances: 4/1000\n",
      "\tDZ Statistics: (min,mean,std,max)=0.00137962,0.0187858,0.0508517,1.47177\n",
      "Reading file 162...\n"
     ]
    },
    {
     "name": "stderr",
     "output_type": "stream",
     "text": [
      "100%|██████████| 1000/1000 [00:13<00:00, 75.08it/s]\n"
     ]
    },
    {
     "name": "stdout",
     "output_type": "stream",
     "text": [
      "\tSaving grtcomp-0162-ET0013996800.data...\n",
      "\tLarge distances: 1/1000\n",
      "\tDZ Statistics: (min,mean,std,max)=0.00189914,0.0170928,0.0125464,0.233099\n",
      "Reading file 163...\n"
     ]
    },
    {
     "name": "stderr",
     "output_type": "stream",
     "text": [
      "100%|██████████| 1000/1000 [00:13<00:00, 75.76it/s]\n"
     ]
    },
    {
     "name": "stdout",
     "output_type": "stream",
     "text": [
      "\tSaving grtcomp-0163-ET0014083200.data...\n",
      "\tLarge distances: 3/1000\n",
      "\tDZ Statistics: (min,mean,std,max)=0.0021466,0.0173365,0.02931,0.787206\n",
      "Reading file 164...\n"
     ]
    },
    {
     "name": "stderr",
     "output_type": "stream",
     "text": [
      "100%|██████████| 1000/1000 [00:13<00:00, 75.67it/s]\n"
     ]
    },
    {
     "name": "stdout",
     "output_type": "stream",
     "text": [
      "\tSaving grtcomp-0164-ET0014169600.data...\n",
      "\tLarge distances: 2/1000\n",
      "\tDZ Statistics: (min,mean,std,max)=0.00197334,0.016504,0.0161449,0.362043\n",
      "Reading file 165...\n"
     ]
    },
    {
     "name": "stderr",
     "output_type": "stream",
     "text": [
      "100%|██████████| 1000/1000 [00:13<00:00, 75.95it/s]\n"
     ]
    },
    {
     "name": "stdout",
     "output_type": "stream",
     "text": [
      "\tSaving grtcomp-0165-ET0014256000.data...\n",
      "\tLarge distances: 5/1000\n",
      "\tDZ Statistics: (min,mean,std,max)=0.0020776,0.0160661,0.0150867,0.271306\n",
      "Reading file 166...\n"
     ]
    },
    {
     "name": "stderr",
     "output_type": "stream",
     "text": [
      "100%|██████████| 1000/1000 [00:13<00:00, 74.32it/s]\n"
     ]
    },
    {
     "name": "stdout",
     "output_type": "stream",
     "text": [
      "\tSaving grtcomp-0166-ET0014342400.data...\n",
      "\tLarge distances: 2/1000\n",
      "\tDZ Statistics: (min,mean,std,max)=0.00260503,0.0161914,0.0147436,0.350087\n",
      "Reading file 167...\n"
     ]
    },
    {
     "name": "stderr",
     "output_type": "stream",
     "text": [
      "100%|██████████| 1000/1000 [00:13<00:00, 78.37it/s]\n"
     ]
    },
    {
     "name": "stdout",
     "output_type": "stream",
     "text": [
      "\tSaving grtcomp-0167-ET0014428800.data...\n",
      "\tLarge distances: 4/1000\n",
      "\tDZ Statistics: (min,mean,std,max)=0.00205644,0.0156659,0.0138083,0.254371\n",
      "Reading file 168...\n"
     ]
    },
    {
     "name": "stderr",
     "output_type": "stream",
     "text": [
      "100%|██████████| 1000/1000 [00:13<00:00, 77.07it/s]\n"
     ]
    },
    {
     "name": "stdout",
     "output_type": "stream",
     "text": [
      "\tSaving grtcomp-0168-ET0014515200.data...\n",
      "\tLarge distances: 1/1000\n",
      "\tDZ Statistics: (min,mean,std,max)=0.00223516,0.0160266,0.0398617,1.25002\n",
      "Reading file 169...\n"
     ]
    },
    {
     "name": "stderr",
     "output_type": "stream",
     "text": [
      "100%|██████████| 1000/1000 [00:13<00:00, 75.73it/s]\n"
     ]
    },
    {
     "name": "stdout",
     "output_type": "stream",
     "text": [
      "\tSaving grtcomp-0169-ET0014601600.data...\n",
      "\tLarge distances: 6/1000\n",
      "\tDZ Statistics: (min,mean,std,max)=0.000873798,0.0161867,0.0344551,1.02476\n",
      "Reading file 170...\n"
     ]
    },
    {
     "name": "stderr",
     "output_type": "stream",
     "text": [
      "100%|██████████| 1000/1000 [00:13<00:00, 75.79it/s]\n"
     ]
    },
    {
     "name": "stdout",
     "output_type": "stream",
     "text": [
      "\tSaving grtcomp-0170-ET0014688000.data...\n",
      "\tLarge distances: 2/1000\n",
      "\tDZ Statistics: (min,mean,std,max)=0.00187916,0.0141671,0.00995473,0.160279\n",
      "Reading file 171...\n"
     ]
    },
    {
     "name": "stderr",
     "output_type": "stream",
     "text": [
      "100%|██████████| 1000/1000 [00:13<00:00, 75.40it/s]\n"
     ]
    },
    {
     "name": "stdout",
     "output_type": "stream",
     "text": [
      "\tSaving grtcomp-0171-ET0014774400.data...\n",
      "\tLarge distances: 3/1000\n",
      "\tDZ Statistics: (min,mean,std,max)=0.0018823,0.0149861,0.0230999,0.534815\n",
      "Reading file 172...\n"
     ]
    },
    {
     "name": "stderr",
     "output_type": "stream",
     "text": [
      "100%|██████████| 1000/1000 [00:13<00:00, 72.63it/s]\n"
     ]
    },
    {
     "name": "stdout",
     "output_type": "stream",
     "text": [
      "\tSaving grtcomp-0172-ET0014860800.data...\n",
      "\tLarge distances: 2/1000\n",
      "\tDZ Statistics: (min,mean,std,max)=0.00198157,0.0148163,0.0271825,0.804371\n",
      "Reading file 173...\n"
     ]
    },
    {
     "name": "stderr",
     "output_type": "stream",
     "text": [
      "100%|██████████| 1000/1000 [00:14<00:00, 70.49it/s]\n"
     ]
    },
    {
     "name": "stdout",
     "output_type": "stream",
     "text": [
      "\tSaving grtcomp-0173-ET0014947200.data...\n",
      "\tLarge distances: 4/1000\n",
      "\tDZ Statistics: (min,mean,std,max)=0.00216899,0.0147219,0.0190692,0.381707\n",
      "Reading file 174...\n"
     ]
    },
    {
     "name": "stderr",
     "output_type": "stream",
     "text": [
      "100%|██████████| 1000/1000 [00:16<00:00, 62.33it/s]\n"
     ]
    },
    {
     "name": "stdout",
     "output_type": "stream",
     "text": [
      "\tSaving grtcomp-0174-ET0015033600.data...\n",
      "\tLarge distances: 4/1000\n",
      "\tDZ Statistics: (min,mean,std,max)=0.00247839,0.0136243,0.0115466,0.173567\n",
      "Reading file 175...\n"
     ]
    },
    {
     "name": "stderr",
     "output_type": "stream",
     "text": [
      "100%|██████████| 1000/1000 [00:14<00:00, 68.40it/s]\n"
     ]
    },
    {
     "name": "stdout",
     "output_type": "stream",
     "text": [
      "\tSaving grtcomp-0175-ET0015120000.data...\n",
      "\tLarge distances: 4/1000\n",
      "\tDZ Statistics: (min,mean,std,max)=0.00178376,0.014766,0.0236215,0.50153\n",
      "Reading file 176...\n"
     ]
    },
    {
     "name": "stderr",
     "output_type": "stream",
     "text": [
      "100%|██████████| 1000/1000 [00:13<00:00, 75.40it/s]\n"
     ]
    },
    {
     "name": "stdout",
     "output_type": "stream",
     "text": [
      "\tSaving grtcomp-0176-ET0015206400.data...\n",
      "\tLarge distances: 6/1000\n",
      "\tDZ Statistics: (min,mean,std,max)=0.00207947,0.0143872,0.0253089,0.537178\n"
     ]
    },
    {
     "name": "stderr",
     "output_type": "stream",
     "text": [
      "\r",
      "  0%|          | 0/1000 [00:00<?, ?it/s]"
     ]
    },
    {
     "name": "stdout",
     "output_type": "stream",
     "text": [
      "Reading file 177...\n"
     ]
    },
    {
     "name": "stderr",
     "output_type": "stream",
     "text": [
      "100%|██████████| 1000/1000 [00:13<00:00, 73.83it/s]\n"
     ]
    },
    {
     "name": "stdout",
     "output_type": "stream",
     "text": [
      "\tSaving grtcomp-0177-ET0015292800.data...\n",
      "\tLarge distances: 4/1000\n",
      "\tDZ Statistics: (min,mean,std,max)=0.00207743,0.0135646,0.0219844,0.547388\n",
      "Reading file 178...\n"
     ]
    },
    {
     "name": "stderr",
     "output_type": "stream",
     "text": [
      "100%|██████████| 1000/1000 [00:13<00:00, 74.38it/s]\n"
     ]
    },
    {
     "name": "stdout",
     "output_type": "stream",
     "text": [
      "\tSaving grtcomp-0178-ET0015379200.data...\n",
      "\tLarge distances: 3/1000\n",
      "\tDZ Statistics: (min,mean,std,max)=0.00166634,0.0132804,0.0161698,0.391249\n",
      "Reading file 179...\n"
     ]
    },
    {
     "name": "stderr",
     "output_type": "stream",
     "text": [
      "100%|██████████| 1000/1000 [00:13<00:00, 75.34it/s]\n"
     ]
    },
    {
     "name": "stdout",
     "output_type": "stream",
     "text": [
      "\tSaving grtcomp-0179-ET0015465600.data...\n",
      "\tLarge distances: 3/1000\n",
      "\tDZ Statistics: (min,mean,std,max)=0.00182528,0.0136332,0.022341,0.592713\n",
      "Reading file 180...\n"
     ]
    },
    {
     "name": "stderr",
     "output_type": "stream",
     "text": [
      "100%|██████████| 1000/1000 [00:15<00:00, 63.57it/s]\n"
     ]
    },
    {
     "name": "stdout",
     "output_type": "stream",
     "text": [
      "\tSaving grtcomp-0180-ET0015552000.data...\n",
      "\tLarge distances: 2/1000\n",
      "\tDZ Statistics: (min,mean,std,max)=0.00185802,0.0126877,0.0151821,0.371132\n",
      "Reading file 181...\n"
     ]
    },
    {
     "name": "stderr",
     "output_type": "stream",
     "text": [
      "100%|██████████| 1000/1000 [00:15<00:00, 62.68it/s]\n"
     ]
    },
    {
     "name": "stdout",
     "output_type": "stream",
     "text": [
      "\tSaving grtcomp-0181-ET0015638400.data...\n",
      "\tLarge distances: 5/1000\n",
      "\tDZ Statistics: (min,mean,std,max)=0.00170759,0.0137699,0.0295439,0.590525\n",
      "Reading file 182...\n"
     ]
    },
    {
     "name": "stderr",
     "output_type": "stream",
     "text": [
      "100%|██████████| 1000/1000 [00:13<00:00, 74.93it/s]\n"
     ]
    },
    {
     "name": "stdout",
     "output_type": "stream",
     "text": [
      "\tSaving grtcomp-0182-ET0015724800.data...\n",
      "\tLarge distances: 5/1000\n",
      "\tDZ Statistics: (min,mean,std,max)=0.00227251,0.0137636,0.0206982,0.393301\n",
      "Reading file 183...\n"
     ]
    },
    {
     "name": "stderr",
     "output_type": "stream",
     "text": [
      "100%|██████████| 1000/1000 [00:13<00:00, 74.11it/s]\n"
     ]
    },
    {
     "name": "stdout",
     "output_type": "stream",
     "text": [
      "\tSaving grtcomp-0183-ET0015811200.data...\n",
      "\tLarge distances: 4/1000\n",
      "\tDZ Statistics: (min,mean,std,max)=0.00193176,0.0133401,0.0191088,0.384725\n",
      "Reading file 184...\n"
     ]
    },
    {
     "name": "stderr",
     "output_type": "stream",
     "text": [
      "100%|██████████| 1000/1000 [00:13<00:00, 74.72it/s]\n"
     ]
    },
    {
     "name": "stdout",
     "output_type": "stream",
     "text": [
      "\tSaving grtcomp-0184-ET0015897600.data...\n",
      "\tLarge distances: 4/1000\n",
      "\tDZ Statistics: (min,mean,std,max)=0.0023598,0.013108,0.017473,0.305148\n",
      "Reading file 185...\n"
     ]
    },
    {
     "name": "stderr",
     "output_type": "stream",
     "text": [
      "100%|██████████| 1000/1000 [00:13<00:00, 74.32it/s]\n"
     ]
    },
    {
     "name": "stdout",
     "output_type": "stream",
     "text": [
      "\tSaving grtcomp-0185-ET0015984000.data...\n",
      "\tLarge distances: 4/1000\n",
      "\tDZ Statistics: (min,mean,std,max)=0.00206371,0.013446,0.0247093,0.503148\n",
      "Reading file 186...\n"
     ]
    },
    {
     "name": "stderr",
     "output_type": "stream",
     "text": [
      "100%|██████████| 1000/1000 [00:13<00:00, 75.04it/s]\n"
     ]
    },
    {
     "name": "stdout",
     "output_type": "stream",
     "text": [
      "\tSaving grtcomp-0186-ET0016070400.data...\n",
      "\tLarge distances: 2/1000\n",
      "\tDZ Statistics: (min,mean,std,max)=0.0022857,0.0117219,0.0145479,0.33931\n",
      "Reading file 187...\n"
     ]
    },
    {
     "name": "stderr",
     "output_type": "stream",
     "text": [
      "100%|██████████| 1000/1000 [00:13<00:00, 75.25it/s]\n"
     ]
    },
    {
     "name": "stdout",
     "output_type": "stream",
     "text": [
      "\tSaving grtcomp-0187-ET0016156800.data...\n",
      "\tLarge distances: 5/1000\n",
      "\tDZ Statistics: (min,mean,std,max)=0.00127271,0.0126191,0.021768,0.45831\n",
      "Reading file 188...\n"
     ]
    },
    {
     "name": "stderr",
     "output_type": "stream",
     "text": [
      "100%|██████████| 1000/1000 [00:13<00:00, 74.84it/s]\n"
     ]
    },
    {
     "name": "stdout",
     "output_type": "stream",
     "text": [
      "\tSaving grtcomp-0188-ET0016243200.data...\n",
      "\tLarge distances: 6/1000\n",
      "\tDZ Statistics: (min,mean,std,max)=0.0018652,0.0131001,0.0199658,0.347671\n",
      "Reading file 189...\n"
     ]
    },
    {
     "name": "stderr",
     "output_type": "stream",
     "text": [
      "100%|██████████| 1000/1000 [00:13<00:00, 74.41it/s]\n"
     ]
    },
    {
     "name": "stdout",
     "output_type": "stream",
     "text": [
      "\tSaving grtcomp-0189-ET0016329600.data...\n",
      "\tLarge distances: 3/1000\n",
      "\tDZ Statistics: (min,mean,std,max)=0.00163988,0.0114464,0.0191655,0.452042\n",
      "Reading file 190...\n"
     ]
    },
    {
     "name": "stderr",
     "output_type": "stream",
     "text": [
      "100%|██████████| 1000/1000 [00:13<00:00, 75.13it/s]\n"
     ]
    },
    {
     "name": "stdout",
     "output_type": "stream",
     "text": [
      "\tSaving grtcomp-0190-ET0016416000.data...\n",
      "\tLarge distances: 9/1000\n",
      "\tDZ Statistics: (min,mean,std,max)=0.00117574,0.0125356,0.0265403,0.555447\n",
      "Reading file 191...\n"
     ]
    },
    {
     "name": "stderr",
     "output_type": "stream",
     "text": [
      "100%|██████████| 1000/1000 [00:14<00:00, 72.25it/s]\n"
     ]
    },
    {
     "name": "stdout",
     "output_type": "stream",
     "text": [
      "\tSaving grtcomp-0191-ET0016502400.data...\n",
      "\tLarge distances: 6/1000\n",
      "\tDZ Statistics: (min,mean,std,max)=0.00159838,0.0124155,0.029166,0.529032\n",
      "Reading file 192...\n"
     ]
    },
    {
     "name": "stderr",
     "output_type": "stream",
     "text": [
      "100%|██████████| 1000/1000 [00:13<00:00, 73.32it/s]\n"
     ]
    },
    {
     "name": "stdout",
     "output_type": "stream",
     "text": [
      "\tSaving grtcomp-0192-ET0016588800.data...\n",
      "\tLarge distances: 7/1000\n",
      "\tDZ Statistics: (min,mean,std,max)=0.00121746,0.0119626,0.0275356,0.580299\n",
      "Reading file 193...\n"
     ]
    },
    {
     "name": "stderr",
     "output_type": "stream",
     "text": [
      "100%|██████████| 1000/1000 [00:15<00:00, 66.55it/s]\n"
     ]
    },
    {
     "name": "stdout",
     "output_type": "stream",
     "text": [
      "\tSaving grtcomp-0193-ET0016675200.data...\n",
      "\tLarge distances: 2/1000\n",
      "\tDZ Statistics: (min,mean,std,max)=0.00169306,0.0103955,0.0105516,0.143088\n",
      "Reading file 194...\n"
     ]
    },
    {
     "name": "stderr",
     "output_type": "stream",
     "text": [
      "100%|██████████| 1000/1000 [00:16<00:00, 59.91it/s]\n"
     ]
    },
    {
     "name": "stdout",
     "output_type": "stream",
     "text": [
      "\tSaving grtcomp-0194-ET0016761600.data...\n",
      "\tLarge distances: 4/1000\n",
      "\tDZ Statistics: (min,mean,std,max)=0.000837986,0.0109469,0.0212748,0.521133\n",
      "Reading file 195...\n"
     ]
    },
    {
     "name": "stderr",
     "output_type": "stream",
     "text": [
      "100%|██████████| 1000/1000 [00:21<00:00, 45.42it/s]\n"
     ]
    },
    {
     "name": "stdout",
     "output_type": "stream",
     "text": [
      "\tSaving grtcomp-0195-ET0016848000.data...\n",
      "\tLarge distances: 3/1000\n",
      "\tDZ Statistics: (min,mean,std,max)=0.00158762,0.00997461,0.0112802,0.142473\n",
      "Reading file 196...\n"
     ]
    },
    {
     "name": "stderr",
     "output_type": "stream",
     "text": [
      "100%|██████████| 1000/1000 [00:18<00:00, 53.73it/s]\n"
     ]
    },
    {
     "name": "stdout",
     "output_type": "stream",
     "text": [
      "\tSaving grtcomp-0196-ET0016934400.data...\n",
      "\tLarge distances: 8/1000\n",
      "\tDZ Statistics: (min,mean,std,max)=0.00109561,0.0163638,0.127322,3.53432\n",
      "Reading file 197...\n"
     ]
    },
    {
     "name": "stderr",
     "output_type": "stream",
     "text": [
      "100%|██████████| 1000/1000 [00:14<00:00, 68.21it/s]\n"
     ]
    },
    {
     "name": "stdout",
     "output_type": "stream",
     "text": [
      "\tSaving grtcomp-0197-ET0017020800.data...\n",
      "\tLarge distances: 1/1000\n",
      "\tDZ Statistics: (min,mean,std,max)=0.000736152,0.00949003,0.0105814,0.15763\n",
      "Reading file 198...\n"
     ]
    },
    {
     "name": "stderr",
     "output_type": "stream",
     "text": [
      "100%|██████████| 1000/1000 [00:15<00:00, 66.46it/s]\n"
     ]
    },
    {
     "name": "stdout",
     "output_type": "stream",
     "text": [
      "\tSaving grtcomp-0198-ET0017107200.data...\n",
      "\tLarge distances: 7/1000\n",
      "\tDZ Statistics: (min,mean,std,max)=0.00155082,0.010843,0.0312444,0.771331\n",
      "Reading file 199...\n"
     ]
    },
    {
     "name": "stderr",
     "output_type": "stream",
     "text": [
      "100%|██████████| 1000/1000 [00:14<00:00, 67.77it/s]\n"
     ]
    },
    {
     "name": "stdout",
     "output_type": "stream",
     "text": [
      "\tSaving grtcomp-0199-ET0017193600.data...\n",
      "\tLarge distances: 6/1000\n",
      "\tDZ Statistics: (min,mean,std,max)=0.000787418,0.0108421,0.0443272,1.3401\n",
      "Reading file 200...\n"
     ]
    },
    {
     "name": "stderr",
     "output_type": "stream",
     "text": [
      "100%|██████████| 1000/1000 [00:14<00:00, 68.48it/s]\n"
     ]
    },
    {
     "name": "stdout",
     "output_type": "stream",
     "text": [
      "\tSaving grtcomp-0200-ET0017210000.data...\n",
      "\tLarge distances: 3/1000\n",
      "\tDZ Statistics: (min,mean,std,max)=0.0014534,0.00995995,0.0212114,0.418325\n",
      "Reading file 201...\n"
     ]
    },
    {
     "name": "stderr",
     "output_type": "stream",
     "text": [
      "100%|██████████| 1000/1000 [00:14<00:00, 67.49it/s]\n"
     ]
    },
    {
     "name": "stdout",
     "output_type": "stream",
     "text": [
      "\tSaving grtcomp-0201-ET0017366400.data...\n",
      "\tLarge distances: 2/1000\n",
      "\tDZ Statistics: (min,mean,std,max)=0.00128109,0.00856032,0.00943152,0.12028\n",
      "Reading file 202...\n"
     ]
    },
    {
     "name": "stderr",
     "output_type": "stream",
     "text": [
      "100%|██████████| 1000/1000 [00:14<00:00, 68.67it/s]\n"
     ]
    },
    {
     "name": "stdout",
     "output_type": "stream",
     "text": [
      "\tSaving grtcomp-0202-ET0017452800.data...\n",
      "\tLarge distances: 5/1000\n",
      "\tDZ Statistics: (min,mean,std,max)=0.000522033,0.00964714,0.0170984,0.397762\n",
      "Reading file 203...\n"
     ]
    },
    {
     "name": "stderr",
     "output_type": "stream",
     "text": [
      "100%|██████████| 1000/1000 [00:14<00:00, 68.06it/s]\n"
     ]
    },
    {
     "name": "stdout",
     "output_type": "stream",
     "text": [
      "\tSaving grtcomp-0203-ET0017539200.data...\n",
      "\tLarge distances: 4/1000\n",
      "\tDZ Statistics: (min,mean,std,max)=0.000596236,0.00918714,0.0132728,0.230221\n",
      "Reading file 204...\n"
     ]
    },
    {
     "name": "stderr",
     "output_type": "stream",
     "text": [
      "100%|██████████| 1000/1000 [00:14<00:00, 67.79it/s]\n"
     ]
    },
    {
     "name": "stdout",
     "output_type": "stream",
     "text": [
      "\tSaving grtcomp-0204-ET0017625600.data...\n",
      "\tLarge distances: 2/1000\n",
      "\tDZ Statistics: (min,mean,std,max)=0.000769267,0.00883284,0.0108481,0.170523\n",
      "Reading file 205...\n"
     ]
    },
    {
     "name": "stderr",
     "output_type": "stream",
     "text": [
      "100%|██████████| 1000/1000 [00:14<00:00, 72.92it/s]\n"
     ]
    },
    {
     "name": "stdout",
     "output_type": "stream",
     "text": [
      "\tSaving grtcomp-0205-ET0017712000.data...\n",
      "\tLarge distances: 3/1000\n",
      "\tDZ Statistics: (min,mean,std,max)=0.00146014,0.0107059,0.0361057,1.00742\n",
      "Reading file 206...\n"
     ]
    },
    {
     "name": "stderr",
     "output_type": "stream",
     "text": [
      "100%|██████████| 1000/1000 [00:15<00:00, 66.64it/s]\n"
     ]
    },
    {
     "name": "stdout",
     "output_type": "stream",
     "text": [
      "\tSaving grtcomp-0206-ET0017798400.data...\n",
      "\tLarge distances: 5/1000\n",
      "\tDZ Statistics: (min,mean,std,max)=0.000961024,0.0100928,0.0245622,0.530802\n",
      "Reading file 207...\n"
     ]
    },
    {
     "name": "stderr",
     "output_type": "stream",
     "text": [
      "100%|██████████| 1000/1000 [00:14<00:00, 68.87it/s]\n"
     ]
    },
    {
     "name": "stdout",
     "output_type": "stream",
     "text": [
      "\tSaving grtcomp-0207-ET0017884800.data...\n",
      "\tLarge distances: 1/1000\n",
      "\tDZ Statistics: (min,mean,std,max)=0.000900458,0.00957588,0.0204739,0.564023\n",
      "Reading file 208...\n"
     ]
    },
    {
     "name": "stderr",
     "output_type": "stream",
     "text": [
      "100%|██████████| 1000/1000 [00:14<00:00, 67.45it/s]\n"
     ]
    },
    {
     "name": "stdout",
     "output_type": "stream",
     "text": [
      "\tSaving grtcomp-0208-ET0017971200.data...\n",
      "\tLarge distances: 6/1000\n",
      "\tDZ Statistics: (min,mean,std,max)=0.000718156,0.0113189,0.031661,0.631066\n",
      "Reading file 209...\n"
     ]
    },
    {
     "name": "stderr",
     "output_type": "stream",
     "text": [
      "100%|██████████| 1000/1000 [00:14<00:00, 68.36it/s]\n"
     ]
    },
    {
     "name": "stdout",
     "output_type": "stream",
     "text": [
      "\tSaving grtcomp-0209-ET0018057600.data...\n",
      "\tLarge distances: 4/1000\n",
      "\tDZ Statistics: (min,mean,std,max)=0.000218825,0.0096499,0.0148928,0.264751\n",
      "Reading file 210...\n"
     ]
    },
    {
     "name": "stderr",
     "output_type": "stream",
     "text": [
      "100%|██████████| 1000/1000 [00:25<00:00, 64.83it/s]\n"
     ]
    },
    {
     "name": "stdout",
     "output_type": "stream",
     "text": [
      "\tSaving grtcomp-0210-ET0018144000.data...\n",
      "\tLarge distances: 6/1000\n",
      "\tDZ Statistics: (min,mean,std,max)=0.00032933,0.0104038,0.0213273,0.455789\n",
      "Reading file 211...\n"
     ]
    },
    {
     "name": "stderr",
     "output_type": "stream",
     "text": [
      "100%|██████████| 1000/1000 [00:17<00:00, 58.39it/s]\n"
     ]
    },
    {
     "name": "stdout",
     "output_type": "stream",
     "text": [
      "\tSaving grtcomp-0211-ET0018230400.data...\n",
      "\tLarge distances: 5/1000\n",
      "\tDZ Statistics: (min,mean,std,max)=0.000353178,0.01055,0.0281023,0.675296\n",
      "Reading file 212...\n"
     ]
    },
    {
     "name": "stderr",
     "output_type": "stream",
     "text": [
      "100%|██████████| 1000/1000 [00:14<00:00, 67.84it/s]\n"
     ]
    },
    {
     "name": "stdout",
     "output_type": "stream",
     "text": [
      "\tSaving grtcomp-0212-ET0018316800.data...\n",
      "\tLarge distances: 3/1000\n",
      "\tDZ Statistics: (min,mean,std,max)=0.000505687,0.00965347,0.016076,0.275969\n",
      "Reading file 213...\n"
     ]
    },
    {
     "name": "stderr",
     "output_type": "stream",
     "text": [
      "100%|██████████| 1000/1000 [00:13<00:00, 71.66it/s]\n"
     ]
    },
    {
     "name": "stdout",
     "output_type": "stream",
     "text": [
      "\tSaving grtcomp-0213-ET0018403200.data...\n",
      "\tLarge distances: 4/1000\n",
      "\tDZ Statistics: (min,mean,std,max)=0.000362838,0.00954368,0.0157874,0.244227\n",
      "Reading file 214...\n"
     ]
    },
    {
     "name": "stderr",
     "output_type": "stream",
     "text": [
      "100%|██████████| 1000/1000 [00:14<00:00, 62.10it/s]\n"
     ]
    },
    {
     "name": "stdout",
     "output_type": "stream",
     "text": [
      "\tSaving grtcomp-0214-ET0018489600.data...\n",
      "\tLarge distances: 6/1000\n",
      "\tDZ Statistics: (min,mean,std,max)=0.000426277,0.0108902,0.027327,0.570128\n",
      "Reading file 215...\n"
     ]
    },
    {
     "name": "stderr",
     "output_type": "stream",
     "text": [
      "100%|██████████| 1000/1000 [00:22<00:00, 43.50it/s]\n"
     ]
    },
    {
     "name": "stdout",
     "output_type": "stream",
     "text": [
      "\tSaving grtcomp-0215-ET0018576000.data...\n",
      "\tLarge distances: 2/1000\n",
      "\tDZ Statistics: (min,mean,std,max)=3.60122e-05,0.00990696,0.0143386,0.269711\n",
      "Reading file 216...\n"
     ]
    },
    {
     "name": "stderr",
     "output_type": "stream",
     "text": [
      "100%|██████████| 1000/1000 [00:22<00:00, 45.39it/s]\n"
     ]
    },
    {
     "name": "stdout",
     "output_type": "stream",
     "text": [
      "\tSaving grtcomp-0216-ET0018662400.data...\n",
      "\tLarge distances: 3/1000\n",
      "\tDZ Statistics: (min,mean,std,max)=0.000212989,0.0103012,0.0231231,0.472643\n",
      "Reading file 217...\n"
     ]
    },
    {
     "name": "stderr",
     "output_type": "stream",
     "text": [
      "100%|██████████| 1000/1000 [00:15<00:00, 64.42it/s]\n"
     ]
    },
    {
     "name": "stdout",
     "output_type": "stream",
     "text": [
      "\tSaving grtcomp-0217-ET0018748800.data...\n",
      "\tLarge distances: 4/1000\n",
      "\tDZ Statistics: (min,mean,std,max)=0.000200233,0.0110993,0.0409146,1.18818\n",
      "Reading file 218...\n"
     ]
    },
    {
     "name": "stderr",
     "output_type": "stream",
     "text": [
      "100%|██████████| 1000/1000 [00:14<00:00, 68.39it/s]\n"
     ]
    },
    {
     "name": "stdout",
     "output_type": "stream",
     "text": [
      "\tSaving grtcomp-0218-ET0018835200.data...\n",
      "\tLarge distances: 5/1000\n",
      "\tDZ Statistics: (min,mean,std,max)=0.000186318,0.00988939,0.024194,0.586853\n",
      "Reading file 219...\n"
     ]
    },
    {
     "name": "stderr",
     "output_type": "stream",
     "text": [
      "100%|██████████| 1000/1000 [00:15<00:00, 64.41it/s]\n"
     ]
    },
    {
     "name": "stdout",
     "output_type": "stream",
     "text": [
      "\tSaving grtcomp-0219-ET0018921600.data...\n",
      "\tLarge distances: 2/1000\n",
      "\tDZ Statistics: (min,mean,std,max)=0.000221671,0.010262,0.0252189,0.571047\n",
      "Reading file 220...\n"
     ]
    },
    {
     "name": "stderr",
     "output_type": "stream",
     "text": [
      "100%|██████████| 1000/1000 [00:19<00:00, 50.65it/s]\n"
     ]
    },
    {
     "name": "stdout",
     "output_type": "stream",
     "text": [
      "\tSaving grtcomp-0220-ET0019008000.data...\n",
      "\tLarge distances: 7/1000\n",
      "\tDZ Statistics: (min,mean,std,max)=5.12148e-05,0.0108859,0.0238041,0.450234\n",
      "Reading file 221...\n"
     ]
    },
    {
     "name": "stderr",
     "output_type": "stream",
     "text": [
      "100%|██████████| 1000/1000 [00:15<00:00, 63.88it/s]\n"
     ]
    },
    {
     "name": "stdout",
     "output_type": "stream",
     "text": [
      "\tSaving grtcomp-0221-ET0019094400.data...\n",
      "\tLarge distances: 3/1000\n",
      "\tDZ Statistics: (min,mean,std,max)=0.000126652,0.0101714,0.021862,0.446642\n",
      "Reading file 222...\n"
     ]
    },
    {
     "name": "stderr",
     "output_type": "stream",
     "text": [
      "100%|██████████| 1000/1000 [00:14<00:00, 67.62it/s]\n"
     ]
    },
    {
     "name": "stdout",
     "output_type": "stream",
     "text": [
      "\tSaving grtcomp-0222-ET0019180800.data...\n",
      "\tLarge distances: 5/1000\n",
      "\tDZ Statistics: (min,mean,std,max)=0.000269185,0.0113969,0.0403882,1.05877\n",
      "Reading file 223...\n"
     ]
    },
    {
     "name": "stderr",
     "output_type": "stream",
     "text": [
      "100%|██████████| 1000/1000 [00:14<00:00, 68.44it/s]\n"
     ]
    },
    {
     "name": "stdout",
     "output_type": "stream",
     "text": [
      "\tSaving grtcomp-0223-ET0019267200.data...\n",
      "\tLarge distances: 4/1000\n",
      "\tDZ Statistics: (min,mean,std,max)=0.000189625,0.0108957,0.0205598,0.43553\n",
      "Reading file 224...\n"
     ]
    },
    {
     "name": "stderr",
     "output_type": "stream",
     "text": [
      "100%|██████████| 1000/1000 [00:14<00:00, 68.53it/s]\n"
     ]
    },
    {
     "name": "stdout",
     "output_type": "stream",
     "text": [
      "\tSaving grtcomp-0224-ET0019353600.data...\n",
      "\tLarge distances: 9/1000\n",
      "\tDZ Statistics: (min,mean,std,max)=0.000200491,0.0127204,0.0391945,0.727606\n",
      "Reading file 225...\n"
     ]
    },
    {
     "name": "stderr",
     "output_type": "stream",
     "text": [
      "100%|██████████| 1000/1000 [00:14<00:00, 72.95it/s]\n"
     ]
    },
    {
     "name": "stdout",
     "output_type": "stream",
     "text": [
      "\tSaving grtcomp-0225-ET0019440000.data...\n",
      "\tLarge distances: 0/1000\n",
      "\tDZ Statistics: (min,mean,std,max)=0.000427015,0.00977297,0.0091451,0.0987005\n"
     ]
    },
    {
     "name": "stderr",
     "output_type": "stream",
     "text": [
      "100%|██████████| 1000/1000 [00:14<00:00, 68.25it/s]\n"
     ]
    },
    {
     "name": "stdout",
     "output_type": "stream",
     "text": [
      "Reading file 226...\n",
      "\tSaving grtcomp-0226-ET0019526400.data...\n",
      "\tLarge distances: 2/1000\n",
      "\tDZ Statistics: (min,mean,std,max)=0.000189622,0.0105684,0.013145,0.274318\n",
      "Reading file 227...\n"
     ]
    },
    {
     "name": "stderr",
     "output_type": "stream",
     "text": [
      "100%|██████████| 1000/1000 [00:14<00:00, 68.40it/s]\n"
     ]
    },
    {
     "name": "stdout",
     "output_type": "stream",
     "text": [
      "\tSaving grtcomp-0227-ET0019612800.data...\n",
      "\tLarge distances: 2/1000\n",
      "\tDZ Statistics: (min,mean,std,max)=0.000432174,0.00989114,0.010539,0.1843\n",
      "Reading file 228...\n"
     ]
    },
    {
     "name": "stderr",
     "output_type": "stream",
     "text": [
      "100%|██████████| 1000/1000 [00:14<00:00, 67.13it/s]\n"
     ]
    },
    {
     "name": "stdout",
     "output_type": "stream",
     "text": [
      "\tSaving grtcomp-0228-ET0019699200.data...\n",
      "\tLarge distances: 6/1000\n",
      "\tDZ Statistics: (min,mean,std,max)=0.000614391,0.0113974,0.0234482,0.547255\n",
      "Reading file 229...\n"
     ]
    },
    {
     "name": "stderr",
     "output_type": "stream",
     "text": [
      "100%|██████████| 1000/1000 [00:14<00:00, 67.85it/s]\n"
     ]
    },
    {
     "name": "stdout",
     "output_type": "stream",
     "text": [
      "\tSaving grtcomp-0229-ET0019785600.data...\n",
      "\tLarge distances: 2/1000\n",
      "\tDZ Statistics: (min,mean,std,max)=0.000919275,0.0108157,0.0138634,0.308646\n",
      "Reading file 230...\n"
     ]
    },
    {
     "name": "stderr",
     "output_type": "stream",
     "text": [
      "100%|██████████| 1000/1000 [00:18<00:00, 54.14it/s]\n"
     ]
    },
    {
     "name": "stdout",
     "output_type": "stream",
     "text": [
      "\tSaving grtcomp-0230-ET0019872000.data...\n",
      "\tLarge distances: 2/1000\n",
      "\tDZ Statistics: (min,mean,std,max)=0.00119391,0.0122396,0.0245845,0.593538\n",
      "Reading file 231...\n"
     ]
    },
    {
     "name": "stderr",
     "output_type": "stream",
     "text": [
      "100%|██████████| 1000/1000 [00:14<00:00, 68.88it/s]\n"
     ]
    },
    {
     "name": "stdout",
     "output_type": "stream",
     "text": [
      "\tSaving grtcomp-0231-ET0019958400.data...\n",
      "\tLarge distances: 2/1000\n",
      "\tDZ Statistics: (min,mean,std,max)=0.00137348,0.0109185,0.0102371,0.171196\n",
      "Reading file 232...\n"
     ]
    },
    {
     "name": "stderr",
     "output_type": "stream",
     "text": [
      "100%|██████████| 1000/1000 [00:14<00:00, 68.33it/s]\n"
     ]
    },
    {
     "name": "stdout",
     "output_type": "stream",
     "text": [
      "\tSaving grtcomp-0232-ET0020044800.data...\n",
      "\tLarge distances: 11/1000\n",
      "\tDZ Statistics: (min,mean,std,max)=0.00115932,0.0142749,0.0320203,0.59371\n",
      "Reading file 233...\n"
     ]
    },
    {
     "name": "stderr",
     "output_type": "stream",
     "text": [
      "100%|██████████| 1000/1000 [00:15<00:00, 66.16it/s]\n"
     ]
    },
    {
     "name": "stdout",
     "output_type": "stream",
     "text": [
      "\tSaving grtcomp-0233-ET0020131200.data...\n",
      "\tLarge distances: 3/1000\n",
      "\tDZ Statistics: (min,mean,std,max)=0.000896729,0.0143018,0.0556866,1.68855\n",
      "Reading file 234...\n"
     ]
    },
    {
     "name": "stderr",
     "output_type": "stream",
     "text": [
      "100%|██████████| 1000/1000 [00:14<00:00, 68.55it/s]\n"
     ]
    },
    {
     "name": "stdout",
     "output_type": "stream",
     "text": [
      "\tSaving grtcomp-0234-ET0020217600.data...\n",
      "\tLarge distances: 5/1000\n",
      "\tDZ Statistics: (min,mean,std,max)=0.000816521,0.0141581,0.0353243,0.913022\n",
      "Reading file 235...\n"
     ]
    },
    {
     "name": "stderr",
     "output_type": "stream",
     "text": [
      "100%|██████████| 1000/1000 [00:15<00:00, 65.61it/s]\n"
     ]
    },
    {
     "name": "stdout",
     "output_type": "stream",
     "text": [
      "\tSaving grtcomp-0235-ET0020304000.data...\n",
      "\tLarge distances: 4/1000\n",
      "\tDZ Statistics: (min,mean,std,max)=0.00132774,0.0134085,0.0264796,0.599688\n",
      "Reading file 236...\n"
     ]
    },
    {
     "name": "stderr",
     "output_type": "stream",
     "text": [
      "100%|██████████| 1000/1000 [00:14<00:00, 67.65it/s]\n"
     ]
    },
    {
     "name": "stdout",
     "output_type": "stream",
     "text": [
      "\tSaving grtcomp-0236-ET0020390400.data...\n",
      "\tLarge distances: 4/1000\n",
      "\tDZ Statistics: (min,mean,std,max)=0.00103166,0.0126827,0.0147311,0.233898\n",
      "Reading file 237...\n"
     ]
    },
    {
     "name": "stderr",
     "output_type": "stream",
     "text": [
      "100%|██████████| 1000/1000 [00:14<00:00, 71.58it/s]\n"
     ]
    },
    {
     "name": "stdout",
     "output_type": "stream",
     "text": [
      "\tSaving grtcomp-0237-ET0020476800.data...\n",
      "\tLarge distances: 2/1000\n",
      "\tDZ Statistics: (min,mean,std,max)=0.000739391,0.0126233,0.0101715,0.119436\n",
      "Reading file 238...\n"
     ]
    },
    {
     "name": "stderr",
     "output_type": "stream",
     "text": [
      "100%|██████████| 1000/1000 [00:14<00:00, 69.11it/s]\n"
     ]
    },
    {
     "name": "stdout",
     "output_type": "stream",
     "text": [
      "\tSaving grtcomp-0238-ET0020563200.data...\n",
      "\tLarge distances: 5/1000\n",
      "\tDZ Statistics: (min,mean,std,max)=0.00132257,0.0133084,0.020182,0.464753\n",
      "Reading file 239...\n"
     ]
    },
    {
     "name": "stderr",
     "output_type": "stream",
     "text": [
      "100%|██████████| 1000/1000 [00:18<00:00, 55.33it/s]\n"
     ]
    },
    {
     "name": "stdout",
     "output_type": "stream",
     "text": [
      "\tSaving grtcomp-0239-ET0020649600.data...\n",
      "\tLarge distances: 3/1000\n",
      "\tDZ Statistics: (min,mean,std,max)=0.00193462,0.013748,0.0223955,0.594149\n",
      "Reading file 240...\n"
     ]
    },
    {
     "name": "stderr",
     "output_type": "stream",
     "text": [
      "100%|██████████| 1000/1000 [00:18<00:00, 55.51it/s]\n"
     ]
    },
    {
     "name": "stdout",
     "output_type": "stream",
     "text": [
      "\tSaving grtcomp-0240-ET0020736000.data...\n",
      "\tLarge distances: 11/1000\n",
      "\tDZ Statistics: (min,mean,std,max)=0.00183866,0.0158264,0.0351773,0.575919\n",
      "Reading file 241...\n"
     ]
    },
    {
     "name": "stderr",
     "output_type": "stream",
     "text": [
      "100%|██████████| 1000/1000 [00:17<00:00, 57.01it/s]\n"
     ]
    },
    {
     "name": "stdout",
     "output_type": "stream",
     "text": [
      "\tSaving grtcomp-0241-ET0020822400.data...\n",
      "\tLarge distances: 6/1000\n",
      "\tDZ Statistics: (min,mean,std,max)=0.000504882,0.0142333,0.0162889,0.302003\n",
      "Reading file 242...\n"
     ]
    },
    {
     "name": "stderr",
     "output_type": "stream",
     "text": [
      "100%|██████████| 1000/1000 [00:17<00:00, 57.63it/s]\n"
     ]
    },
    {
     "name": "stdout",
     "output_type": "stream",
     "text": [
      "\tSaving grtcomp-0242-ET0020908800.data...\n",
      "\tLarge distances: 4/1000\n",
      "\tDZ Statistics: (min,mean,std,max)=0.00203446,0.0144057,0.0475026,1.42897\n",
      "Reading file 243...\n"
     ]
    },
    {
     "name": "stderr",
     "output_type": "stream",
     "text": [
      "100%|██████████| 1000/1000 [00:15<00:00, 65.14it/s]\n"
     ]
    },
    {
     "name": "stdout",
     "output_type": "stream",
     "text": [
      "\tSaving grtcomp-0243-ET0020995200.data...\n",
      "\tLarge distances: 5/1000\n",
      "\tDZ Statistics: (min,mean,std,max)=0.00135868,0.0141127,0.0229179,0.474489\n",
      "Reading file 244...\n"
     ]
    },
    {
     "name": "stderr",
     "output_type": "stream",
     "text": [
      "100%|██████████| 1000/1000 [00:16<00:00, 58.88it/s]\n"
     ]
    },
    {
     "name": "stdout",
     "output_type": "stream",
     "text": [
      "\tSaving grtcomp-0244-ET0021081600.data...\n",
      "\tLarge distances: 8/1000\n",
      "\tDZ Statistics: (min,mean,std,max)=0.00104291,0.0158439,0.0350819,0.798467\n",
      "Reading file 245...\n"
     ]
    },
    {
     "name": "stderr",
     "output_type": "stream",
     "text": [
      "100%|██████████| 1000/1000 [00:17<00:00, 58.59it/s]\n"
     ]
    },
    {
     "name": "stdout",
     "output_type": "stream",
     "text": [
      "\tSaving grtcomp-0245-ET0021168000.data...\n",
      "\tLarge distances: 3/1000\n",
      "\tDZ Statistics: (min,mean,std,max)=0.00162767,0.0158507,0.0633876,1.95811\n",
      "Reading file 246...\n"
     ]
    },
    {
     "name": "stderr",
     "output_type": "stream",
     "text": [
      "100%|██████████| 1000/1000 [00:17<00:00, 56.73it/s]\n"
     ]
    },
    {
     "name": "stdout",
     "output_type": "stream",
     "text": [
      "\tSaving grtcomp-0246-ET0021254400.data...\n",
      "\tLarge distances: 3/1000\n",
      "\tDZ Statistics: (min,mean,std,max)=0.000665547,0.0135482,0.0123938,0.213565\n",
      "Reading file 247...\n"
     ]
    },
    {
     "name": "stderr",
     "output_type": "stream",
     "text": [
      "100%|██████████| 1000/1000 [00:17<00:00, 56.02it/s]\n"
     ]
    },
    {
     "name": "stdout",
     "output_type": "stream",
     "text": [
      "\tSaving grtcomp-0247-ET0021340800.data...\n",
      "\tLarge distances: 5/1000\n",
      "\tDZ Statistics: (min,mean,std,max)=0.000373282,0.0142459,0.0190655,0.494733\n",
      "Reading file 248...\n"
     ]
    },
    {
     "name": "stderr",
     "output_type": "stream",
     "text": [
      "100%|██████████| 1000/1000 [00:18<00:00, 55.05it/s]\n"
     ]
    },
    {
     "name": "stdout",
     "output_type": "stream",
     "text": [
      "\tSaving grtcomp-0248-ET0021427200.data...\n",
      "\tLarge distances: 4/1000\n",
      "\tDZ Statistics: (min,mean,std,max)=0.00153395,0.0148415,0.0242847,0.604982\n",
      "Reading file 249...\n"
     ]
    },
    {
     "name": "stderr",
     "output_type": "stream",
     "text": [
      "100%|██████████| 1000/1000 [00:13<00:00, 72.33it/s]\n"
     ]
    },
    {
     "name": "stdout",
     "output_type": "stream",
     "text": [
      "\tSaving grtcomp-0249-ET0021513600.data...\n",
      "\tLarge distances: 6/1000\n",
      "\tDZ Statistics: (min,mean,std,max)=0.0013651,0.015679,0.0342104,0.614928\n",
      "Reading file 250...\n"
     ]
    },
    {
     "name": "stderr",
     "output_type": "stream",
     "text": [
      "100%|██████████| 1000/1000 [00:13<00:00, 72.60it/s]\n"
     ]
    },
    {
     "name": "stdout",
     "output_type": "stream",
     "text": [
      "\tSaving grtcomp-0250-ET0021600000.data...\n",
      "\tLarge distances: 7/1000\n",
      "\tDZ Statistics: (min,mean,std,max)=0.000981278,0.0156104,0.0278655,0.5451\n",
      "Reading file 251...\n"
     ]
    },
    {
     "name": "stderr",
     "output_type": "stream",
     "text": [
      "100%|██████████| 1000/1000 [00:13<00:00, 73.41it/s]\n"
     ]
    },
    {
     "name": "stdout",
     "output_type": "stream",
     "text": [
      "\tSaving grtcomp-0251-ET0021686400.data...\n",
      "\tLarge distances: 6/1000\n",
      "\tDZ Statistics: (min,mean,std,max)=0.00193976,0.014744,0.021539,0.398492\n",
      "Reading file 252...\n"
     ]
    },
    {
     "name": "stderr",
     "output_type": "stream",
     "text": [
      "100%|██████████| 1000/1000 [00:13<00:00, 74.18it/s]\n"
     ]
    },
    {
     "name": "stdout",
     "output_type": "stream",
     "text": [
      "\tSaving grtcomp-0252-ET0021772800.data...\n",
      "\tLarge distances: 2/1000\n",
      "\tDZ Statistics: (min,mean,std,max)=0.00158056,0.0150118,0.0204817,0.569676\n",
      "Reading file 253...\n"
     ]
    },
    {
     "name": "stderr",
     "output_type": "stream",
     "text": [
      "100%|██████████| 1000/1000 [00:15<00:00, 65.80it/s]\n"
     ]
    },
    {
     "name": "stdout",
     "output_type": "stream",
     "text": [
      "\tSaving grtcomp-0253-ET0021859200.data...\n",
      "\tLarge distances: 0/1000\n",
      "\tDZ Statistics: (min,mean,std,max)=0.00130755,0.0144506,0.0107367,0.0835302\n",
      "Reading file 254...\n"
     ]
    },
    {
     "name": "stderr",
     "output_type": "stream",
     "text": [
      "100%|██████████| 1000/1000 [00:16<00:00, 61.64it/s]\n"
     ]
    },
    {
     "name": "stdout",
     "output_type": "stream",
     "text": [
      "\tSaving grtcomp-0254-ET0021945600.data...\n",
      "\tLarge distances: 3/1000\n",
      "\tDZ Statistics: (min,mean,std,max)=0.00134807,0.014916,0.0156555,0.279979\n",
      "Reading file 255...\n"
     ]
    },
    {
     "name": "stderr",
     "output_type": "stream",
     "text": [
      "100%|██████████| 1000/1000 [00:14<00:00, 68.73it/s]\n"
     ]
    },
    {
     "name": "stdout",
     "output_type": "stream",
     "text": [
      "\tSaving grtcomp-0255-ET0022032000.data...\n",
      "\tLarge distances: 4/1000\n",
      "\tDZ Statistics: (min,mean,std,max)=0.000956016,0.0152887,0.0212284,0.571224\n",
      "Reading file 256...\n"
     ]
    },
    {
     "name": "stderr",
     "output_type": "stream",
     "text": [
      "100%|██████████| 1000/1000 [00:13<00:00, 73.57it/s]\n"
     ]
    },
    {
     "name": "stdout",
     "output_type": "stream",
     "text": [
      "\tSaving grtcomp-0256-ET0022118400.data...\n",
      "\tLarge distances: 2/1000\n",
      "\tDZ Statistics: (min,mean,std,max)=0.00166878,0.0154019,0.0119062,0.171905\n",
      "Reading file 257...\n"
     ]
    },
    {
     "name": "stderr",
     "output_type": "stream",
     "text": [
      "100%|██████████| 1000/1000 [00:13<00:00, 75.88it/s]\n"
     ]
    },
    {
     "name": "stdout",
     "output_type": "stream",
     "text": [
      "\tSaving grtcomp-0257-ET0022204800.data...\n",
      "\tLarge distances: 3/1000\n",
      "\tDZ Statistics: (min,mean,std,max)=0.00132513,0.0150653,0.0164485,0.348229\n",
      "Reading file 258...\n"
     ]
    },
    {
     "name": "stderr",
     "output_type": "stream",
     "text": [
      "100%|██████████| 1000/1000 [00:13<00:00, 73.19it/s]\n"
     ]
    },
    {
     "name": "stdout",
     "output_type": "stream",
     "text": [
      "\tSaving grtcomp-0258-ET0022291200.data...\n",
      "\tLarge distances: 4/1000\n",
      "\tDZ Statistics: (min,mean,std,max)=0.000918372,0.0167589,0.0226207,0.491478\n",
      "Reading file 259...\n"
     ]
    },
    {
     "name": "stderr",
     "output_type": "stream",
     "text": [
      "100%|██████████| 1000/1000 [00:14<00:00, 69.87it/s]\n"
     ]
    },
    {
     "name": "stdout",
     "output_type": "stream",
     "text": [
      "\tSaving grtcomp-0259-ET0022377600.data...\n",
      "\tLarge distances: 5/1000\n",
      "\tDZ Statistics: (min,mean,std,max)=0.00199938,0.0160452,0.0144211,0.276209\n",
      "Reading file 260...\n"
     ]
    },
    {
     "name": "stderr",
     "output_type": "stream",
     "text": [
      "100%|██████████| 1000/1000 [00:14<00:00, 67.40it/s]\n"
     ]
    },
    {
     "name": "stdout",
     "output_type": "stream",
     "text": [
      "\tSaving grtcomp-0260-ET0022464000.data...\n",
      "\tLarge distances: 2/1000\n",
      "\tDZ Statistics: (min,mean,std,max)=0.00224369,0.0156991,0.0162521,0.406008\n",
      "Reading file 261...\n"
     ]
    },
    {
     "name": "stderr",
     "output_type": "stream",
     "text": [
      "100%|██████████| 1000/1000 [00:13<00:00, 75.15it/s]\n"
     ]
    },
    {
     "name": "stdout",
     "output_type": "stream",
     "text": [
      "\tSaving grtcomp-0261-ET0022550400.data...\n",
      "\tLarge distances: 2/1000\n",
      "\tDZ Statistics: (min,mean,std,max)=0.00145864,0.0164286,0.0124876,0.121159\n",
      "Reading file 262...\n"
     ]
    },
    {
     "name": "stderr",
     "output_type": "stream",
     "text": [
      "100%|██████████| 1000/1000 [00:13<00:00, 73.17it/s]\n"
     ]
    },
    {
     "name": "stdout",
     "output_type": "stream",
     "text": [
      "\tSaving grtcomp-0262-ET0022636800.data...\n",
      "\tLarge distances: 5/1000\n",
      "\tDZ Statistics: (min,mean,std,max)=0.00135622,0.0173467,0.0241567,0.480001\n",
      "Reading file 263...\n"
     ]
    },
    {
     "name": "stderr",
     "output_type": "stream",
     "text": [
      "100%|██████████| 1000/1000 [00:17<00:00, 57.03it/s]\n"
     ]
    },
    {
     "name": "stdout",
     "output_type": "stream",
     "text": [
      "\tSaving grtcomp-0263-ET0022723200.data...\n",
      "\tLarge distances: 5/1000\n",
      "\tDZ Statistics: (min,mean,std,max)=0.00116959,0.0181134,0.029094,0.546833\n",
      "Reading file 264...\n"
     ]
    },
    {
     "name": "stderr",
     "output_type": "stream",
     "text": [
      "100%|██████████| 1000/1000 [00:14<00:00, 68.08it/s]\n"
     ]
    },
    {
     "name": "stdout",
     "output_type": "stream",
     "text": [
      "\tSaving grtcomp-0264-ET0022809600.data...\n",
      "\tLarge distances: 5/1000\n",
      "\tDZ Statistics: (min,mean,std,max)=0.000907499,0.0176624,0.0249695,0.576566\n",
      "Reading file 265...\n"
     ]
    },
    {
     "name": "stderr",
     "output_type": "stream",
     "text": [
      "100%|██████████| 1000/1000 [00:14<00:00, 69.50it/s]\n"
     ]
    },
    {
     "name": "stdout",
     "output_type": "stream",
     "text": [
      "\tSaving grtcomp-0265-ET0022896000.data...\n",
      "\tLarge distances: 44/1000\n",
      "\tDZ Statistics: (min,mean,std,max)=0.00220499,0.025661,0.0330064,0.494614\n",
      "Reading file 266...\n"
     ]
    },
    {
     "name": "stderr",
     "output_type": "stream",
     "text": [
      "100%|██████████| 1000/1000 [00:14<00:00, 68.22it/s]\n"
     ]
    },
    {
     "name": "stdout",
     "output_type": "stream",
     "text": [
      "\tSaving grtcomp-0266-ET0022982400.data...\n",
      "\tLarge distances: 5/1000\n",
      "\tDZ Statistics: (min,mean,std,max)=0.00160974,0.0169096,0.0220608,0.570358\n",
      "Reading file 267...\n"
     ]
    },
    {
     "name": "stderr",
     "output_type": "stream",
     "text": [
      "100%|██████████| 1000/1000 [00:15<00:00, 42.65it/s]\n"
     ]
    },
    {
     "name": "stdout",
     "output_type": "stream",
     "text": [
      "\tSaving grtcomp-0267-ET0023068800.data...\n",
      "\tLarge distances: 4/1000\n",
      "\tDZ Statistics: (min,mean,std,max)=0.000585952,0.0175018,0.0182303,0.44521\n",
      "Reading file 268...\n"
     ]
    },
    {
     "name": "stderr",
     "output_type": "stream",
     "text": [
      "100%|██████████| 1000/1000 [00:15<00:00, 71.15it/s]\n"
     ]
    },
    {
     "name": "stdout",
     "output_type": "stream",
     "text": [
      "\tSaving grtcomp-0268-ET0023155200.data...\n",
      "\tLarge distances: 8/1000\n",
      "\tDZ Statistics: (min,mean,std,max)=0.00117245,0.0185718,0.0299094,0.49158\n",
      "Reading file 269...\n"
     ]
    },
    {
     "name": "stderr",
     "output_type": "stream",
     "text": [
      "100%|██████████| 1000/1000 [00:14<00:00, 66.82it/s]\n"
     ]
    },
    {
     "name": "stdout",
     "output_type": "stream",
     "text": [
      "\tSaving grtcomp-0269-ET0023241600.data...\n",
      "\tLarge distances: 8/1000\n",
      "\tDZ Statistics: (min,mean,std,max)=0.00143537,0.0180496,0.0290591,0.531982\n",
      "Reading file 270...\n"
     ]
    },
    {
     "name": "stderr",
     "output_type": "stream",
     "text": [
      "100%|██████████| 1000/1000 [00:14<00:00, 69.02it/s]\n"
     ]
    },
    {
     "name": "stdout",
     "output_type": "stream",
     "text": [
      "\tSaving grtcomp-0270-ET0023328000.data...\n",
      "\tLarge distances: 5/1000\n",
      "\tDZ Statistics: (min,mean,std,max)=0.00155212,0.0181391,0.0562814,1.74605\n",
      "Reading file 271...\n"
     ]
    },
    {
     "name": "stderr",
     "output_type": "stream",
     "text": [
      "100%|██████████| 1000/1000 [00:14<00:00, 68.51it/s]\n"
     ]
    },
    {
     "name": "stdout",
     "output_type": "stream",
     "text": [
      "\tSaving grtcomp-0271-ET0023414400.data...\n",
      "\tLarge distances: 5/1000\n",
      "\tDZ Statistics: (min,mean,std,max)=0.00111812,0.0177794,0.0257596,0.537377\n",
      "Reading file 272...\n"
     ]
    },
    {
     "name": "stderr",
     "output_type": "stream",
     "text": [
      "100%|██████████| 1000/1000 [00:14<00:00, 67.36it/s]\n"
     ]
    },
    {
     "name": "stdout",
     "output_type": "stream",
     "text": [
      "\tSaving grtcomp-0272-ET0023500800.data...\n",
      "\tLarge distances: 4/1000\n",
      "\tDZ Statistics: (min,mean,std,max)=0.000723618,0.0173003,0.0180205,0.268474\n",
      "Reading file 273...\n"
     ]
    },
    {
     "name": "stderr",
     "output_type": "stream",
     "text": [
      "100%|██████████| 1000/1000 [00:13<00:00, 72.50it/s]\n"
     ]
    },
    {
     "name": "stdout",
     "output_type": "stream",
     "text": [
      "\tSaving grtcomp-0273-ET0023587200.data...\n",
      "\tLarge distances: 3/1000\n",
      "\tDZ Statistics: (min,mean,std,max)=0.000959066,0.0179868,0.0220564,0.543071\n",
      "Reading file 274...\n"
     ]
    },
    {
     "name": "stderr",
     "output_type": "stream",
     "text": [
      "100%|██████████| 1000/1000 [00:13<00:00, 72.26it/s]\n"
     ]
    },
    {
     "name": "stdout",
     "output_type": "stream",
     "text": [
      "\tSaving grtcomp-0274-ET0023673600.data...\n",
      "\tLarge distances: 9/1000\n",
      "\tDZ Statistics: (min,mean,std,max)=0.000672492,0.0192033,0.0355868,0.619027\n",
      "Reading file 275...\n"
     ]
    },
    {
     "name": "stderr",
     "output_type": "stream",
     "text": [
      "100%|██████████| 1000/1000 [00:13<00:00, 73.52it/s]\n"
     ]
    },
    {
     "name": "stdout",
     "output_type": "stream",
     "text": [
      "\tSaving grtcomp-0275-ET0023760000.data...\n",
      "\tLarge distances: 4/1000\n",
      "\tDZ Statistics: (min,mean,std,max)=0.000381326,0.0175338,0.0192669,0.325588\n",
      "Reading file 276...\n"
     ]
    },
    {
     "name": "stderr",
     "output_type": "stream",
     "text": [
      "100%|██████████| 1000/1000 [00:13<00:00, 73.60it/s]\n"
     ]
    },
    {
     "name": "stdout",
     "output_type": "stream",
     "text": [
      "\tSaving grtcomp-0276-ET0023846400.data...\n",
      "\tLarge distances: 8/1000\n",
      "\tDZ Statistics: (min,mean,std,max)=0.000718338,0.0189584,0.0279483,0.433148\n",
      "Reading file 277...\n"
     ]
    },
    {
     "name": "stderr",
     "output_type": "stream",
     "text": [
      "100%|██████████| 1000/1000 [00:13<00:00, 73.73it/s]\n"
     ]
    },
    {
     "name": "stdout",
     "output_type": "stream",
     "text": [
      "\tSaving grtcomp-0277-ET0023932800.data...\n",
      "\tLarge distances: 5/1000\n",
      "\tDZ Statistics: (min,mean,std,max)=0.000565118,0.0182869,0.0369307,0.978602\n",
      "Reading file 278...\n"
     ]
    },
    {
     "name": "stderr",
     "output_type": "stream",
     "text": [
      "100%|██████████| 1000/1000 [00:13<00:00, 73.64it/s]\n"
     ]
    },
    {
     "name": "stdout",
     "output_type": "stream",
     "text": [
      "\tSaving grtcomp-0278-ET0024019200.data...\n",
      "\tLarge distances: 5/1000\n",
      "\tDZ Statistics: (min,mean,std,max)=0.000467535,0.017855,0.0227195,0.513564\n",
      "Reading file 279...\n"
     ]
    },
    {
     "name": "stderr",
     "output_type": "stream",
     "text": [
      "100%|██████████| 1000/1000 [00:13<00:00, 73.68it/s]\n"
     ]
    },
    {
     "name": "stdout",
     "output_type": "stream",
     "text": [
      "\tSaving grtcomp-0279-ET0024105600.data...\n",
      "\tLarge distances: 3/1000\n",
      "\tDZ Statistics: (min,mean,std,max)=0.000656645,0.0176827,0.0194066,0.410385\n",
      "Reading file 280...\n"
     ]
    },
    {
     "name": "stderr",
     "output_type": "stream",
     "text": [
      "100%|██████████| 1000/1000 [00:13<00:00, 75.96it/s]\n"
     ]
    },
    {
     "name": "stdout",
     "output_type": "stream",
     "text": [
      "\tSaving grtcomp-0280-ET0024192000.data...\n",
      "\tLarge distances: 2/1000\n",
      "\tDZ Statistics: (min,mean,std,max)=0.00040797,0.0174832,0.0175422,0.435092\n",
      "Reading file 281...\n"
     ]
    },
    {
     "name": "stderr",
     "output_type": "stream",
     "text": [
      "100%|██████████| 1000/1000 [00:13<00:00, 72.40it/s]\n"
     ]
    },
    {
     "name": "stdout",
     "output_type": "stream",
     "text": [
      "\tSaving grtcomp-0281-ET0024278400.data...\n",
      "\tLarge distances: 4/1000\n",
      "\tDZ Statistics: (min,mean,std,max)=0.00113041,0.0186072,0.0220497,0.572491\n",
      "Reading file 282...\n"
     ]
    },
    {
     "name": "stderr",
     "output_type": "stream",
     "text": [
      "100%|██████████| 1000/1000 [00:14<00:00, 67.37it/s]\n"
     ]
    },
    {
     "name": "stdout",
     "output_type": "stream",
     "text": [
      "\tSaving grtcomp-0282-ET0024364800.data...\n",
      "\tLarge distances: 2/1000\n",
      "\tDZ Statistics: (min,mean,std,max)=0.000933077,0.0185624,0.0215043,0.583889\n",
      "Reading file 283...\n"
     ]
    },
    {
     "name": "stderr",
     "output_type": "stream",
     "text": [
      "100%|██████████| 1000/1000 [00:13<00:00, 71.46it/s]\n"
     ]
    },
    {
     "name": "stdout",
     "output_type": "stream",
     "text": [
      "\tSaving grtcomp-0283-ET0024451200.data...\n",
      "\tLarge distances: 3/1000\n",
      "\tDZ Statistics: (min,mean,std,max)=0.000682275,0.0181986,0.0208758,0.447951\n",
      "Reading file 284...\n"
     ]
    },
    {
     "name": "stderr",
     "output_type": "stream",
     "text": [
      "100%|██████████| 1000/1000 [00:13<00:00, 73.23it/s]\n"
     ]
    },
    {
     "name": "stdout",
     "output_type": "stream",
     "text": [
      "\tSaving grtcomp-0284-ET0024537600.data...\n",
      "\tLarge distances: 1/1000\n",
      "\tDZ Statistics: (min,mean,std,max)=0.0011353,0.0176258,0.0116541,0.15125\n",
      "Reading file 285...\n"
     ]
    },
    {
     "name": "stderr",
     "output_type": "stream",
     "text": [
      "100%|██████████| 1000/1000 [00:15<00:00, 64.55it/s]\n"
     ]
    },
    {
     "name": "stdout",
     "output_type": "stream",
     "text": [
      "\tSaving grtcomp-0285-ET0024624000.data...\n",
      "\tLarge distances: 2/1000\n",
      "\tDZ Statistics: (min,mean,std,max)=0.000828639,0.0181664,0.0122946,0.114355\n",
      "Reading file 286...\n"
     ]
    },
    {
     "name": "stderr",
     "output_type": "stream",
     "text": [
      "100%|██████████| 1000/1000 [00:14<00:00, 69.80it/s]\n"
     ]
    },
    {
     "name": "stdout",
     "output_type": "stream",
     "text": [
      "\tSaving grtcomp-0286-ET0024710400.data...\n",
      "\tLarge distances: 3/1000\n",
      "\tDZ Statistics: (min,mean,std,max)=0.000491881,0.0184897,0.0212422,0.573433\n",
      "Reading file 287...\n"
     ]
    },
    {
     "name": "stderr",
     "output_type": "stream",
     "text": [
      "100%|██████████| 1000/1000 [00:14<00:00, 68.58it/s]\n"
     ]
    },
    {
     "name": "stdout",
     "output_type": "stream",
     "text": [
      "\tSaving grtcomp-0287-ET0024796800.data...\n",
      "\tLarge distances: 4/1000\n",
      "\tDZ Statistics: (min,mean,std,max)=0.000654891,0.0187303,0.024901,0.590727\n",
      "Reading file 288...\n"
     ]
    },
    {
     "name": "stderr",
     "output_type": "stream",
     "text": [
      "100%|██████████| 1000/1000 [00:14<00:00, 68.72it/s]\n"
     ]
    },
    {
     "name": "stdout",
     "output_type": "stream",
     "text": [
      "\tSaving grtcomp-0288-ET0024883200.data...\n",
      "\tLarge distances: 7/1000\n",
      "\tDZ Statistics: (min,mean,std,max)=0.000496307,0.0192981,0.0281095,0.586709\n",
      "Reading file 289...\n"
     ]
    },
    {
     "name": "stderr",
     "output_type": "stream",
     "text": [
      "100%|██████████| 1000/1000 [00:18<00:00, 55.20it/s]\n"
     ]
    },
    {
     "name": "stdout",
     "output_type": "stream",
     "text": [
      "\tSaving grtcomp-0289-ET0024969600.data...\n",
      "\tLarge distances: 3/1000\n",
      "\tDZ Statistics: (min,mean,std,max)=0.000892596,0.0191803,0.0263038,0.597636\n",
      "Reading file 290...\n"
     ]
    },
    {
     "name": "stderr",
     "output_type": "stream",
     "text": [
      "100%|██████████| 1000/1000 [00:17<00:00, 57.17it/s]\n"
     ]
    },
    {
     "name": "stdout",
     "output_type": "stream",
     "text": [
      "\tSaving grtcomp-0290-ET0025056000.data...\n",
      "\tLarge distances: 8/1000\n",
      "\tDZ Statistics: (min,mean,std,max)=0.000809304,0.0202595,0.0334727,0.597636\n",
      "Reading file 291...\n"
     ]
    },
    {
     "name": "stderr",
     "output_type": "stream",
     "text": [
      "100%|██████████| 1000/1000 [00:14<00:00, 71.81it/s]\n"
     ]
    },
    {
     "name": "stdout",
     "output_type": "stream",
     "text": [
      "\tSaving grtcomp-0291-ET0025142400.data...\n",
      "\tLarge distances: 6/1000\n",
      "\tDZ Statistics: (min,mean,std,max)=0.000350762,0.0198735,0.038533,1.02809\n",
      "Reading file 292...\n"
     ]
    },
    {
     "name": "stderr",
     "output_type": "stream",
     "text": [
      "100%|██████████| 1000/1000 [00:14<00:00, 71.38it/s]\n"
     ]
    },
    {
     "name": "stdout",
     "output_type": "stream",
     "text": [
      "\tSaving grtcomp-0292-ET0025228800.data...\n",
      "\tLarge distances: 2/1000\n",
      "\tDZ Statistics: (min,mean,std,max)=0.000578325,0.0188227,0.01547,0.333646\n",
      "Reading file 293...\n"
     ]
    },
    {
     "name": "stderr",
     "output_type": "stream",
     "text": [
      "100%|██████████| 1000/1000 [00:14<00:00, 70.73it/s]\n"
     ]
    },
    {
     "name": "stdout",
     "output_type": "stream",
     "text": [
      "\tSaving grtcomp-0293-ET0025315200.data...\n",
      "\tLarge distances: 4/1000\n",
      "\tDZ Statistics: (min,mean,std,max)=0.000554082,0.0191194,0.0241788,0.565646\n",
      "Reading file 294...\n"
     ]
    },
    {
     "name": "stderr",
     "output_type": "stream",
     "text": [
      "100%|██████████| 1000/1000 [00:14<00:00, 70.47it/s]\n"
     ]
    },
    {
     "name": "stdout",
     "output_type": "stream",
     "text": [
      "\tSaving grtcomp-0294-ET0025401600.data...\n",
      "\tLarge distances: 5/1000\n",
      "\tDZ Statistics: (min,mean,std,max)=0.000858513,0.0206358,0.033308,0.602531\n",
      "Reading file 295...\n"
     ]
    },
    {
     "name": "stderr",
     "output_type": "stream",
     "text": [
      "100%|██████████| 1000/1000 [00:15<00:00, 60.41it/s]\n"
     ]
    },
    {
     "name": "stdout",
     "output_type": "stream",
     "text": [
      "\tSaving grtcomp-0295-ET0025488000.data...\n",
      "\tLarge distances: 6/1000\n",
      "\tDZ Statistics: (min,mean,std,max)=0.000579012,0.0203336,0.0377675,0.59571\n",
      "Reading file 296...\n"
     ]
    },
    {
     "name": "stderr",
     "output_type": "stream",
     "text": [
      "100%|██████████| 1000/1000 [00:21<00:00, 47.30it/s]\n"
     ]
    },
    {
     "name": "stdout",
     "output_type": "stream",
     "text": [
      "\tSaving grtcomp-0296-ET0025574400.data...\n",
      "\tLarge distances: 5/1000\n",
      "\tDZ Statistics: (min,mean,std,max)=0.000629489,0.0184655,0.023507,0.600431\n",
      "Reading file 297...\n"
     ]
    },
    {
     "name": "stderr",
     "output_type": "stream",
     "text": [
      "100%|██████████| 1000/1000 [00:16<00:00, 60.85it/s]\n"
     ]
    },
    {
     "name": "stdout",
     "output_type": "stream",
     "text": [
      "\tSaving grtcomp-0297-ET0025660800.data...\n",
      "\tLarge distances: 1/1000\n",
      "\tDZ Statistics: (min,mean,std,max)=0.000598625,0.018164,0.0164863,0.393246\n",
      "Reading file 298...\n"
     ]
    },
    {
     "name": "stderr",
     "output_type": "stream",
     "text": [
      "100%|██████████| 1000/1000 [00:16<00:00, 59.90it/s]\n"
     ]
    },
    {
     "name": "stdout",
     "output_type": "stream",
     "text": [
      "\tSaving grtcomp-0298-ET0025747200.data...\n",
      "\tLarge distances: 4/1000\n",
      "\tDZ Statistics: (min,mean,std,max)=0.000926991,0.0180782,0.0198707,0.513218\n",
      "Reading file 299...\n"
     ]
    },
    {
     "name": "stderr",
     "output_type": "stream",
     "text": [
      "100%|██████████| 1000/1000 [00:21<00:00, 47.14it/s]\n"
     ]
    },
    {
     "name": "stdout",
     "output_type": "stream",
     "text": [
      "\tSaving grtcomp-0299-ET0025833600.data...\n",
      "\tLarge distances: 4/1000\n",
      "\tDZ Statistics: (min,mean,std,max)=0.000229725,0.0183096,0.0167978,0.314609\n",
      "Reading file 300...\n"
     ]
    },
    {
     "name": "stderr",
     "output_type": "stream",
     "text": [
      "100%|██████████| 1000/1000 [00:19<00:00, 50.50it/s]\n"
     ]
    },
    {
     "name": "stdout",
     "output_type": "stream",
     "text": [
      "\tSaving grtcomp-0300-ET0025920000.data...\n",
      "\tLarge distances: 9/1000\n",
      "\tDZ Statistics: (min,mean,std,max)=0.000578189,0.0194884,0.0332562,0.68566\n",
      "Reading file 301...\n"
     ]
    },
    {
     "name": "stderr",
     "output_type": "stream",
     "text": [
      "100%|██████████| 1000/1000 [00:21<00:00, 47.21it/s]\n"
     ]
    },
    {
     "name": "stdout",
     "output_type": "stream",
     "text": [
      "\tSaving grtcomp-0301-ET0026006400.data...\n",
      "\tLarge distances: 7/1000\n",
      "\tDZ Statistics: (min,mean,std,max)=0.000517665,0.0188902,0.0245712,0.584958\n",
      "Reading file 302...\n"
     ]
    },
    {
     "name": "stderr",
     "output_type": "stream",
     "text": [
      "100%|██████████| 1000/1000 [00:18<00:00, 53.83it/s]\n"
     ]
    },
    {
     "name": "stdout",
     "output_type": "stream",
     "text": [
      "\tSaving grtcomp-0302-ET0026092800.data...\n",
      "\tLarge distances: 4/1000\n",
      "\tDZ Statistics: (min,mean,std,max)=0.000560049,0.0180998,0.0242475,0.601516\n",
      "Reading file 303...\n"
     ]
    },
    {
     "name": "stderr",
     "output_type": "stream",
     "text": [
      "100%|██████████| 1000/1000 [00:15<00:00, 66.47it/s]\n"
     ]
    },
    {
     "name": "stdout",
     "output_type": "stream",
     "text": [
      "\tSaving grtcomp-0303-ET0026179200.data...\n",
      "\tLarge distances: 5/1000\n",
      "\tDZ Statistics: (min,mean,std,max)=0.00047864,0.0191574,0.0223199,0.541713\n",
      "Reading file 304...\n"
     ]
    },
    {
     "name": "stderr",
     "output_type": "stream",
     "text": [
      "100%|██████████| 1000/1000 [00:14<00:00, 68.85it/s]\n"
     ]
    },
    {
     "name": "stdout",
     "output_type": "stream",
     "text": [
      "\tSaving grtcomp-0304-ET0026265600.data...\n",
      "\tLarge distances: 5/1000\n",
      "\tDZ Statistics: (min,mean,std,max)=0.00073293,0.018857,0.0268814,0.678516\n",
      "Reading file 305...\n"
     ]
    },
    {
     "name": "stderr",
     "output_type": "stream",
     "text": [
      "100%|██████████| 1000/1000 [00:17<00:00, 58.48it/s]\n"
     ]
    },
    {
     "name": "stdout",
     "output_type": "stream",
     "text": [
      "\tSaving grtcomp-0305-ET0026352000.data...\n",
      "\tLarge distances: 8/1000\n",
      "\tDZ Statistics: (min,mean,std,max)=0.00052549,0.0199122,0.0351246,0.597256\n",
      "Reading file 306...\n"
     ]
    },
    {
     "name": "stderr",
     "output_type": "stream",
     "text": [
      "100%|██████████| 1000/1000 [00:15<00:00, 64.65it/s]\n"
     ]
    },
    {
     "name": "stdout",
     "output_type": "stream",
     "text": [
      "\tSaving grtcomp-0306-ET0026438400.data...\n",
      "\tLarge distances: 5/1000\n",
      "\tDZ Statistics: (min,mean,std,max)=0.000334946,0.0189977,0.0204911,0.496132\n",
      "Reading file 307...\n"
     ]
    },
    {
     "name": "stderr",
     "output_type": "stream",
     "text": [
      "100%|██████████| 1000/1000 [00:14<00:00, 68.82it/s]\n"
     ]
    },
    {
     "name": "stdout",
     "output_type": "stream",
     "text": [
      "\tSaving grtcomp-0307-ET0026524800.data...\n",
      "\tLarge distances: 3/1000\n",
      "\tDZ Statistics: (min,mean,std,max)=0.000300865,0.0186533,0.0246138,0.595818\n",
      "Reading file 308...\n"
     ]
    },
    {
     "name": "stderr",
     "output_type": "stream",
     "text": [
      "100%|██████████| 1000/1000 [00:14<00:00, 73.05it/s]\n"
     ]
    },
    {
     "name": "stdout",
     "output_type": "stream",
     "text": [
      "\tSaving grtcomp-0308-ET0026611200.data...\n",
      "\tLarge distances: 5/1000\n",
      "\tDZ Statistics: (min,mean,std,max)=0.000457627,0.0191844,0.0308109,0.59046\n",
      "Reading file 309...\n"
     ]
    },
    {
     "name": "stderr",
     "output_type": "stream",
     "text": [
      "100%|██████████| 1000/1000 [00:13<00:00, 74.56it/s]\n"
     ]
    },
    {
     "name": "stdout",
     "output_type": "stream",
     "text": [
      "\tSaving grtcomp-0309-ET0026697600.data...\n",
      "\tLarge distances: 6/1000\n",
      "\tDZ Statistics: (min,mean,std,max)=0.00047219,0.0189409,0.0319113,0.6556\n",
      "Reading file 310...\n"
     ]
    },
    {
     "name": "stderr",
     "output_type": "stream",
     "text": [
      "100%|██████████| 1000/1000 [00:15<00:00, 37.06it/s]\n"
     ]
    },
    {
     "name": "stdout",
     "output_type": "stream",
     "text": [
      "\tSaving grtcomp-0310-ET0026784000.data...\n",
      "\tLarge distances: 9/1000\n",
      "\tDZ Statistics: (min,mean,std,max)=0.000503699,0.0203216,0.0371812,0.54596\n",
      "Reading file 311...\n"
     ]
    },
    {
     "name": "stderr",
     "output_type": "stream",
     "text": [
      "100%|██████████| 1000/1000 [00:14<00:00, 70.24it/s]\n"
     ]
    },
    {
     "name": "stdout",
     "output_type": "stream",
     "text": [
      "\tSaving grtcomp-0311-ET0026870400.data...\n",
      "\tLarge distances: 2/1000\n",
      "\tDZ Statistics: (min,mean,std,max)=0.000377997,0.0187757,0.0310215,0.741353\n",
      "Reading file 312...\n"
     ]
    },
    {
     "name": "stderr",
     "output_type": "stream",
     "text": [
      "100%|██████████| 1000/1000 [00:13<00:00, 75.29it/s]\n"
     ]
    },
    {
     "name": "stdout",
     "output_type": "stream",
     "text": [
      "\tSaving grtcomp-0312-ET0026956800.data...\n",
      "\tLarge distances: 2/1000\n",
      "\tDZ Statistics: (min,mean,std,max)=0.000541314,0.0176521,0.0203127,0.553033\n",
      "Reading file 313...\n"
     ]
    },
    {
     "name": "stderr",
     "output_type": "stream",
     "text": [
      "100%|██████████| 1000/1000 [00:13<00:00, 73.10it/s]\n"
     ]
    },
    {
     "name": "stdout",
     "output_type": "stream",
     "text": [
      "\tSaving grtcomp-0313-ET0027043200.data...\n",
      "\tLarge distances: 7/1000\n",
      "\tDZ Statistics: (min,mean,std,max)=0.000277445,0.0196019,0.031888,0.595922\n",
      "Reading file 314...\n"
     ]
    },
    {
     "name": "stderr",
     "output_type": "stream",
     "text": [
      "100%|██████████| 1000/1000 [00:17<00:00, 57.56it/s]\n"
     ]
    },
    {
     "name": "stdout",
     "output_type": "stream",
     "text": [
      "\tSaving grtcomp-0314-ET0027129600.data...\n",
      "\tLarge distances: 2/1000\n",
      "\tDZ Statistics: (min,mean,std,max)=0.000626126,0.0172828,0.0115897,0.194301\n",
      "Reading file 315...\n"
     ]
    },
    {
     "name": "stderr",
     "output_type": "stream",
     "text": [
      "100%|██████████| 1000/1000 [00:14<00:00, 67.47it/s]\n"
     ]
    },
    {
     "name": "stdout",
     "output_type": "stream",
     "text": [
      "\tSaving grtcomp-0315-ET0027216000.data...\n",
      "\tLarge distances: 5/1000\n",
      "\tDZ Statistics: (min,mean,std,max)=0.000291687,0.0181829,0.0160513,0.3103\n",
      "Reading file 316...\n"
     ]
    },
    {
     "name": "stderr",
     "output_type": "stream",
     "text": [
      "100%|██████████| 1000/1000 [00:14<00:00, 68.52it/s]\n"
     ]
    },
    {
     "name": "stdout",
     "output_type": "stream",
     "text": [
      "\tSaving grtcomp-0316-ET0027302400.data...\n",
      "\tLarge distances: 1/1000\n",
      "\tDZ Statistics: (min,mean,std,max)=0.000354829,0.0175492,0.0110996,0.115818\n",
      "Reading file 317...\n"
     ]
    },
    {
     "name": "stderr",
     "output_type": "stream",
     "text": [
      "100%|██████████| 1000/1000 [00:15<00:00, 63.58it/s]\n"
     ]
    },
    {
     "name": "stdout",
     "output_type": "stream",
     "text": [
      "\tSaving grtcomp-0317-ET0027388800.data...\n",
      "\tLarge distances: 4/1000\n",
      "\tDZ Statistics: (min,mean,std,max)=0.000162564,0.0181298,0.0138768,0.186806\n",
      "Reading file 318...\n"
     ]
    },
    {
     "name": "stderr",
     "output_type": "stream",
     "text": [
      "100%|██████████| 1000/1000 [00:16<00:00, 61.25it/s]\n"
     ]
    },
    {
     "name": "stdout",
     "output_type": "stream",
     "text": [
      "\tSaving grtcomp-0318-ET0027475200.data...\n",
      "\tLarge distances: 3/1000\n",
      "\tDZ Statistics: (min,mean,std,max)=0.000403147,0.0184235,0.0201769,0.465768\n",
      "Reading file 319...\n"
     ]
    },
    {
     "name": "stderr",
     "output_type": "stream",
     "text": [
      "100%|██████████| 1000/1000 [00:15<00:00, 65.61it/s]\n"
     ]
    },
    {
     "name": "stdout",
     "output_type": "stream",
     "text": [
      "\tSaving grtcomp-0319-ET0027561600.data...\n",
      "\tLarge distances: 6/1000\n",
      "\tDZ Statistics: (min,mean,std,max)=0.000368898,0.0198976,0.033973,0.587353\n",
      "Reading file 320...\n"
     ]
    },
    {
     "name": "stderr",
     "output_type": "stream",
     "text": [
      "100%|██████████| 1000/1000 [00:13<00:00, 71.72it/s]\n"
     ]
    },
    {
     "name": "stdout",
     "output_type": "stream",
     "text": [
      "\tSaving grtcomp-0320-ET0027648000.data...\n",
      "\tLarge distances: 5/1000\n",
      "\tDZ Statistics: (min,mean,std,max)=0.000651199,0.0179601,0.0146862,0.243689\n",
      "Reading file 321...\n"
     ]
    },
    {
     "name": "stderr",
     "output_type": "stream",
     "text": [
      "100%|██████████| 1000/1000 [00:13<00:00, 72.45it/s]\n"
     ]
    },
    {
     "name": "stdout",
     "output_type": "stream",
     "text": [
      "\tSaving grtcomp-0321-ET0027734400.data...\n",
      "\tLarge distances: 5/1000\n",
      "\tDZ Statistics: (min,mean,std,max)=0.000502671,0.019297,0.0266465,0.564327\n",
      "Reading file 322...\n"
     ]
    },
    {
     "name": "stderr",
     "output_type": "stream",
     "text": [
      "100%|██████████| 1000/1000 [00:15<00:00, 63.78it/s]\n"
     ]
    },
    {
     "name": "stdout",
     "output_type": "stream",
     "text": [
      "\tSaving grtcomp-0322-ET0027820800.data...\n",
      "\tLarge distances: 2/1000\n",
      "\tDZ Statistics: (min,mean,std,max)=0.000629333,0.0170622,0.0126001,0.24043\n",
      "Reading file 323...\n"
     ]
    },
    {
     "name": "stderr",
     "output_type": "stream",
     "text": [
      "100%|██████████| 1000/1000 [00:14<00:00, 69.15it/s]\n"
     ]
    },
    {
     "name": "stdout",
     "output_type": "stream",
     "text": [
      "\tSaving grtcomp-0323-ET0027907200.data...\n",
      "\tLarge distances: 9/1000\n",
      "\tDZ Statistics: (min,mean,std,max)=0.000479866,0.0194165,0.0369176,0.972951\n",
      "Reading file 324...\n"
     ]
    },
    {
     "name": "stderr",
     "output_type": "stream",
     "text": [
      "100%|██████████| 1000/1000 [00:19<00:00, 52.03it/s]\n"
     ]
    },
    {
     "name": "stdout",
     "output_type": "stream",
     "text": [
      "\tSaving grtcomp-0324-ET0027993600.data...\n",
      "\tLarge distances: 6/1000\n",
      "\tDZ Statistics: (min,mean,std,max)=0.000509126,0.0186723,0.030375,0.559182\n",
      "Reading file 325...\n"
     ]
    },
    {
     "name": "stderr",
     "output_type": "stream",
     "text": [
      "100%|██████████| 1000/1000 [00:24<00:00, 40.92it/s]\n"
     ]
    },
    {
     "name": "stdout",
     "output_type": "stream",
     "text": [
      "\tSaving grtcomp-0325-ET0028010000.data...\n",
      "\tLarge distances: 3/1000\n",
      "\tDZ Statistics: (min,mean,std,max)=0.000400279,0.017776,0.0139602,0.25729\n",
      "Reading file 326...\n"
     ]
    },
    {
     "name": "stderr",
     "output_type": "stream",
     "text": [
      "100%|██████████| 1000/1000 [00:17<00:00, 56.39it/s]\n"
     ]
    },
    {
     "name": "stdout",
     "output_type": "stream",
     "text": [
      "\tSaving grtcomp-0326-ET0028166400.data...\n",
      "\tLarge distances: 8/1000\n",
      "\tDZ Statistics: (min,mean,std,max)=0.000727008,0.0188185,0.026612,0.536049\n",
      "Reading file 327...\n"
     ]
    },
    {
     "name": "stderr",
     "output_type": "stream",
     "text": [
      "100%|██████████| 1000/1000 [00:18<00:00, 53.20it/s]\n"
     ]
    },
    {
     "name": "stdout",
     "output_type": "stream",
     "text": [
      "\tSaving grtcomp-0327-ET0028252800.data...\n",
      "\tLarge distances: 7/1000\n",
      "\tDZ Statistics: (min,mean,std,max)=0.000979812,0.0181859,0.0347219,0.873494\n",
      "Reading file 328...\n"
     ]
    },
    {
     "name": "stderr",
     "output_type": "stream",
     "text": [
      "100%|██████████| 1000/1000 [00:23<00:00, 42.19it/s]\n"
     ]
    },
    {
     "name": "stdout",
     "output_type": "stream",
     "text": [
      "\tSaving grtcomp-0328-ET0028339200.data...\n",
      "\tLarge distances: 6/1000\n",
      "\tDZ Statistics: (min,mean,std,max)=0.000654793,0.0170496,0.0231439,0.600407\n",
      "Reading file 329...\n"
     ]
    },
    {
     "name": "stderr",
     "output_type": "stream",
     "text": [
      "100%|██████████| 1000/1000 [00:16<00:00, 60.88it/s]\n"
     ]
    },
    {
     "name": "stdout",
     "output_type": "stream",
     "text": [
      "\tSaving grtcomp-0329-ET0028425600.data...\n",
      "\tLarge distances: 5/1000\n",
      "\tDZ Statistics: (min,mean,std,max)=0.000599441,0.0175709,0.024834,0.61702\n",
      "Reading file 330...\n"
     ]
    },
    {
     "name": "stderr",
     "output_type": "stream",
     "text": [
      "100%|██████████| 1000/1000 [00:18<00:00, 55.29it/s]\n"
     ]
    },
    {
     "name": "stdout",
     "output_type": "stream",
     "text": [
      "\tSaving grtcomp-0330-ET0028512000.data...\n",
      "\tLarge distances: 3/1000\n",
      "\tDZ Statistics: (min,mean,std,max)=0.00086197,0.0165152,0.0127761,0.233728\n",
      "Reading file 331...\n"
     ]
    },
    {
     "name": "stderr",
     "output_type": "stream",
     "text": [
      "100%|██████████| 1000/1000 [00:17<00:00, 58.69it/s]\n"
     ]
    },
    {
     "name": "stdout",
     "output_type": "stream",
     "text": [
      "\tSaving grtcomp-0331-ET0028598400.data...\n",
      "\tLarge distances: 8/1000\n",
      "\tDZ Statistics: (min,mean,std,max)=0.000418547,0.0172778,0.0195469,0.381967\n",
      "Reading file 332...\n"
     ]
    },
    {
     "name": "stderr",
     "output_type": "stream",
     "text": [
      "100%|██████████| 1000/1000 [00:22<00:00, 44.09it/s]\n"
     ]
    },
    {
     "name": "stdout",
     "output_type": "stream",
     "text": [
      "\tSaving grtcomp-0332-ET0028684800.data...\n",
      "\tLarge distances: 4/1000\n",
      "\tDZ Statistics: (min,mean,std,max)=0.000541223,0.0162227,0.0154898,0.35963\n",
      "Reading file 333...\n"
     ]
    },
    {
     "name": "stderr",
     "output_type": "stream",
     "text": [
      "100%|██████████| 1000/1000 [00:23<00:00, 43.46it/s]\n"
     ]
    },
    {
     "name": "stdout",
     "output_type": "stream",
     "text": [
      "\tSaving grtcomp-0333-ET0028771200.data...\n",
      "\tLarge distances: 10/1000\n",
      "\tDZ Statistics: (min,mean,std,max)=0.000680387,0.0171307,0.017608,0.214117\n",
      "Reading file 334...\n"
     ]
    },
    {
     "name": "stderr",
     "output_type": "stream",
     "text": [
      "100%|██████████| 1000/1000 [00:17<00:00, 58.66it/s]\n"
     ]
    },
    {
     "name": "stdout",
     "output_type": "stream",
     "text": [
      "\tSaving grtcomp-0334-ET0028857600.data...\n",
      "\tLarge distances: 3/1000\n",
      "\tDZ Statistics: (min,mean,std,max)=0.000536975,0.0167213,0.0258065,0.589525\n",
      "Reading file 335...\n"
     ]
    },
    {
     "name": "stderr",
     "output_type": "stream",
     "text": [
      "100%|██████████| 1000/1000 [00:17<00:00, 57.26it/s]\n"
     ]
    },
    {
     "name": "stdout",
     "output_type": "stream",
     "text": [
      "\tSaving grtcomp-0335-ET0028944000.data...\n",
      "\tLarge distances: 8/1000\n",
      "\tDZ Statistics: (min,mean,std,max)=0.000286464,0.0173905,0.0233246,0.416069\n",
      "Reading file 336...\n"
     ]
    },
    {
     "name": "stderr",
     "output_type": "stream",
     "text": [
      "100%|██████████| 1000/1000 [00:17<00:00, 56.72it/s]\n"
     ]
    },
    {
     "name": "stdout",
     "output_type": "stream",
     "text": [
      "\tSaving grtcomp-0336-ET0029030400.data...\n",
      "\tLarge distances: 3/1000\n",
      "\tDZ Statistics: (min,mean,std,max)=0.000502072,0.0159841,0.0247996,0.588454\n",
      "Reading file 337...\n"
     ]
    },
    {
     "name": "stderr",
     "output_type": "stream",
     "text": [
      "100%|██████████| 1000/1000 [00:16<00:00, 60.99it/s]\n"
     ]
    },
    {
     "name": "stdout",
     "output_type": "stream",
     "text": [
      "\tSaving grtcomp-0337-ET0029116800.data...\n",
      "\tLarge distances: 2/1000\n",
      "\tDZ Statistics: (min,mean,std,max)=0.000709659,0.0162037,0.0201368,0.527944\n",
      "Reading file 338...\n"
     ]
    },
    {
     "name": "stderr",
     "output_type": "stream",
     "text": [
      "100%|██████████| 1000/1000 [00:17<00:00, 56.66it/s]\n"
     ]
    },
    {
     "name": "stdout",
     "output_type": "stream",
     "text": [
      "\tSaving grtcomp-0338-ET0029203200.data...\n",
      "\tLarge distances: 4/1000\n",
      "\tDZ Statistics: (min,mean,std,max)=0.000595106,0.0154279,0.0146231,0.29786\n",
      "Reading file 339...\n"
     ]
    },
    {
     "name": "stderr",
     "output_type": "stream",
     "text": [
      "100%|██████████| 1000/1000 [00:16<00:00, 61.66it/s]\n"
     ]
    },
    {
     "name": "stdout",
     "output_type": "stream",
     "text": [
      "\tSaving grtcomp-0339-ET0029289600.data...\n",
      "\tLarge distances: 2/1000\n",
      "\tDZ Statistics: (min,mean,std,max)=0.0011111,0.0153418,0.0115487,0.131961\n",
      "Reading file 340...\n"
     ]
    },
    {
     "name": "stderr",
     "output_type": "stream",
     "text": [
      "100%|██████████| 1000/1000 [00:23<00:00, 43.48it/s]\n"
     ]
    },
    {
     "name": "stdout",
     "output_type": "stream",
     "text": [
      "\tSaving grtcomp-0340-ET0029376000.data...\n",
      "\tLarge distances: 4/1000\n",
      "\tDZ Statistics: (min,mean,std,max)=0.000680428,0.0145691,0.0125607,0.193129\n",
      "Reading file 341...\n"
     ]
    },
    {
     "name": "stderr",
     "output_type": "stream",
     "text": [
      "100%|██████████| 1000/1000 [00:19<00:00, 50.46it/s]\n"
     ]
    },
    {
     "name": "stdout",
     "output_type": "stream",
     "text": [
      "\tSaving grtcomp-0341-ET0029462400.data...\n",
      "\tLarge distances: 7/1000\n",
      "\tDZ Statistics: (min,mean,std,max)=0.000704178,0.017617,0.035609,0.602621\n",
      "Reading file 342...\n"
     ]
    },
    {
     "name": "stderr",
     "output_type": "stream",
     "text": [
      "100%|██████████| 1000/1000 [00:16<00:00, 58.90it/s]\n"
     ]
    },
    {
     "name": "stdout",
     "output_type": "stream",
     "text": [
      "\tSaving grtcomp-0342-ET0029548800.data...\n",
      "\tLarge distances: 2/1000\n",
      "\tDZ Statistics: (min,mean,std,max)=0.000790978,0.0147445,0.0124444,0.270964\n",
      "Reading file 343...\n"
     ]
    },
    {
     "name": "stderr",
     "output_type": "stream",
     "text": [
      "100%|██████████| 1000/1000 [00:17<00:00, 56.97it/s]\n"
     ]
    },
    {
     "name": "stdout",
     "output_type": "stream",
     "text": [
      "\tSaving grtcomp-0343-ET0029635200.data...\n",
      "\tLarge distances: 5/1000\n",
      "\tDZ Statistics: (min,mean,std,max)=0.000787761,0.0144528,0.0123963,0.192823\n",
      "Reading file 344...\n"
     ]
    },
    {
     "name": "stderr",
     "output_type": "stream",
     "text": [
      "100%|██████████| 1000/1000 [00:22<00:00, 44.74it/s]\n"
     ]
    },
    {
     "name": "stdout",
     "output_type": "stream",
     "text": [
      "\tSaving grtcomp-0344-ET0029721600.data...\n",
      "\tLarge distances: 7/1000\n",
      "\tDZ Statistics: (min,mean,std,max)=0.000669521,0.0151634,0.0126927,0.137609\n",
      "Reading file 345...\n"
     ]
    },
    {
     "name": "stderr",
     "output_type": "stream",
     "text": [
      "100%|██████████| 1000/1000 [00:19<00:00, 50.12it/s]\n"
     ]
    },
    {
     "name": "stdout",
     "output_type": "stream",
     "text": [
      "\tSaving grtcomp-0345-ET0029808000.data...\n",
      "\tLarge distances: 4/1000\n",
      "\tDZ Statistics: (min,mean,std,max)=0.000687518,0.0150433,0.0197918,0.493453\n",
      "Reading file 346...\n"
     ]
    },
    {
     "name": "stderr",
     "output_type": "stream",
     "text": [
      "100%|██████████| 1000/1000 [00:18<00:00, 53.93it/s]\n"
     ]
    },
    {
     "name": "stdout",
     "output_type": "stream",
     "text": [
      "\tSaving grtcomp-0346-ET0029894400.data...\n",
      "\tLarge distances: 2/1000\n",
      "\tDZ Statistics: (min,mean,std,max)=0.000985475,0.0142938,0.0109261,0.134541\n",
      "Reading file 347...\n"
     ]
    },
    {
     "name": "stderr",
     "output_type": "stream",
     "text": [
      "100%|██████████| 1000/1000 [00:18<00:00, 55.08it/s]\n"
     ]
    },
    {
     "name": "stdout",
     "output_type": "stream",
     "text": [
      "\tSaving grtcomp-0347-ET0029980800.data...\n",
      "\tLarge distances: 3/1000\n",
      "\tDZ Statistics: (min,mean,std,max)=0.00122002,0.0142128,0.0111383,0.130856\n",
      "Reading file 348...\n"
     ]
    },
    {
     "name": "stderr",
     "output_type": "stream",
     "text": [
      "100%|██████████| 1000/1000 [00:20<00:00, 48.69it/s]\n"
     ]
    },
    {
     "name": "stdout",
     "output_type": "stream",
     "text": [
      "\tSaving grtcomp-0348-ET0030067200.data...\n",
      "\tLarge distances: 3/1000\n",
      "\tDZ Statistics: (min,mean,std,max)=0.000833274,0.0138555,0.0115646,0.168223\n",
      "Reading file 349...\n"
     ]
    },
    {
     "name": "stderr",
     "output_type": "stream",
     "text": [
      "100%|██████████| 1000/1000 [00:17<00:00, 58.71it/s]\n"
     ]
    },
    {
     "name": "stdout",
     "output_type": "stream",
     "text": [
      "\tSaving grtcomp-0349-ET0030153600.data...\n",
      "\tLarge distances: 3/1000\n",
      "\tDZ Statistics: (min,mean,std,max)=0.000377148,0.0142607,0.0194627,0.488061\n",
      "Reading file 350...\n"
     ]
    },
    {
     "name": "stderr",
     "output_type": "stream",
     "text": [
      "100%|██████████| 1000/1000 [00:26<00:00, 28.69it/s]\n"
     ]
    },
    {
     "name": "stdout",
     "output_type": "stream",
     "text": [
      "\tSaving grtcomp-0350-ET0030240000.data...\n",
      "\tLarge distances: 5/1000\n",
      "\tDZ Statistics: (min,mean,std,max)=0.000674536,0.014646,0.0224551,0.524896\n",
      "Reading file 351...\n"
     ]
    },
    {
     "name": "stderr",
     "output_type": "stream",
     "text": [
      "100%|██████████| 1000/1000 [00:23<00:00, 43.24it/s]\n"
     ]
    },
    {
     "name": "stdout",
     "output_type": "stream",
     "text": [
      "\tSaving grtcomp-0351-ET0030326400.data...\n",
      "\tLarge distances: 3/1000\n",
      "\tDZ Statistics: (min,mean,std,max)=0.000714875,0.0140778,0.0185245,0.485253\n",
      "Reading file 352...\n"
     ]
    },
    {
     "name": "stderr",
     "output_type": "stream",
     "text": [
      "100%|██████████| 1000/1000 [00:19<00:00, 51.81it/s]\n"
     ]
    },
    {
     "name": "stdout",
     "output_type": "stream",
     "text": [
      "\tSaving grtcomp-0352-ET0030412800.data...\n",
      "\tLarge distances: 4/1000\n",
      "\tDZ Statistics: (min,mean,std,max)=0.00108019,0.0146736,0.0184315,0.420861\n",
      "Reading file 353...\n"
     ]
    },
    {
     "name": "stderr",
     "output_type": "stream",
     "text": [
      "100%|██████████| 1000/1000 [00:18<00:00, 52.96it/s]\n"
     ]
    },
    {
     "name": "stdout",
     "output_type": "stream",
     "text": [
      "\tSaving grtcomp-0353-ET0030499200.data...\n",
      "\tLarge distances: 5/1000\n",
      "\tDZ Statistics: (min,mean,std,max)=0.00103346,0.0145843,0.016556,0.320836\n",
      "Reading file 354...\n"
     ]
    },
    {
     "name": "stderr",
     "output_type": "stream",
     "text": [
      "100%|██████████| 1000/1000 [00:26<00:00, 37.61it/s]\n"
     ]
    },
    {
     "name": "stdout",
     "output_type": "stream",
     "text": [
      "\tSaving grtcomp-0354-ET0030585600.data...\n",
      "\tLarge distances: 8/1000\n",
      "\tDZ Statistics: (min,mean,std,max)=0.00133849,0.0151455,0.0287244,0.64844\n",
      "Reading file 355...\n"
     ]
    },
    {
     "name": "stderr",
     "output_type": "stream",
     "text": [
      "100%|██████████| 1000/1000 [00:17<00:00, 57.39it/s]\n"
     ]
    },
    {
     "name": "stdout",
     "output_type": "stream",
     "text": [
      "\tSaving grtcomp-0355-ET0030672000.data...\n",
      "\tLarge distances: 8/1000\n",
      "\tDZ Statistics: (min,mean,std,max)=0.00113576,0.0137811,0.0180945,0.301783\n",
      "Reading file 356...\n"
     ]
    },
    {
     "name": "stderr",
     "output_type": "stream",
     "text": [
      "100%|██████████| 1000/1000 [00:17<00:00, 55.67it/s]\n"
     ]
    },
    {
     "name": "stdout",
     "output_type": "stream",
     "text": [
      "\tSaving grtcomp-0356-ET0030758400.data...\n",
      "\tLarge distances: 11/1000\n",
      "\tDZ Statistics: (min,mean,std,max)=0.000780229,0.0147408,0.0263905,0.500686\n",
      "Reading file 357...\n"
     ]
    },
    {
     "name": "stderr",
     "output_type": "stream",
     "text": [
      "100%|██████████| 1000/1000 [00:16<00:00, 60.19it/s]\n"
     ]
    },
    {
     "name": "stdout",
     "output_type": "stream",
     "text": [
      "\tSaving grtcomp-0357-ET0030844800.data...\n",
      "\tLarge distances: 8/1000\n",
      "\tDZ Statistics: (min,mean,std,max)=0.00151104,0.0142483,0.021176,0.460464\n",
      "Reading file 358...\n"
     ]
    },
    {
     "name": "stderr",
     "output_type": "stream",
     "text": [
      "100%|██████████| 1000/1000 [00:19<00:00, 52.37it/s]\n"
     ]
    },
    {
     "name": "stdout",
     "output_type": "stream",
     "text": [
      "\tSaving grtcomp-0358-ET0030931200.data...\n",
      "\tLarge distances: 6/1000\n",
      "\tDZ Statistics: (min,mean,std,max)=0.00105571,0.0138189,0.0204718,0.414215\n",
      "Reading file 359...\n"
     ]
    },
    {
     "name": "stderr",
     "output_type": "stream",
     "text": [
      "100%|██████████| 1000/1000 [00:16<00:00, 59.57it/s]\n"
     ]
    },
    {
     "name": "stdout",
     "output_type": "stream",
     "text": [
      "\tSaving grtcomp-0359-ET0031017600.data...\n",
      "\tLarge distances: 6/1000\n",
      "\tDZ Statistics: (min,mean,std,max)=0.0007001,0.0138024,0.0183412,0.278724\n",
      "Reading file 360...\n"
     ]
    },
    {
     "name": "stderr",
     "output_type": "stream",
     "text": [
      "100%|██████████| 1000/1000 [00:16<00:00, 59.36it/s]\n"
     ]
    },
    {
     "name": "stdout",
     "output_type": "stream",
     "text": [
      "\tSaving grtcomp-0360-ET0031104000.data...\n",
      "\tLarge distances: 4/1000\n",
      "\tDZ Statistics: (min,mean,std,max)=0.0016057,0.0129465,0.0225299,0.581172\n",
      "Reading file 361...\n"
     ]
    },
    {
     "name": "stderr",
     "output_type": "stream",
     "text": [
      "100%|██████████| 1000/1000 [00:15<00:00, 64.73it/s]\n"
     ]
    },
    {
     "name": "stdout",
     "output_type": "stream",
     "text": [
      "\tSaving grtcomp-0361-ET0031190400.data...\n",
      "\tLarge distances: 8/1000\n",
      "\tDZ Statistics: (min,mean,std,max)=0.000465057,0.0133091,0.0258704,0.500452\n",
      "Reading file 362...\n"
     ]
    },
    {
     "name": "stderr",
     "output_type": "stream",
     "text": [
      "100%|██████████| 1000/1000 [00:15<00:00, 64.24it/s]\n"
     ]
    },
    {
     "name": "stdout",
     "output_type": "stream",
     "text": [
      "\tSaving grtcomp-0362-ET0031276800.data...\n",
      "\tLarge distances: 8/1000\n",
      "\tDZ Statistics: (min,mean,std,max)=0.00135755,0.0134411,0.0220294,0.396267\n",
      "Reading file 363...\n"
     ]
    },
    {
     "name": "stderr",
     "output_type": "stream",
     "text": [
      "100%|██████████| 1000/1000 [00:14<00:00, 66.91it/s]\n"
     ]
    },
    {
     "name": "stdout",
     "output_type": "stream",
     "text": [
      "\tSaving grtcomp-0363-ET0031363200.data...\n",
      "\tLarge distances: 2/1000\n",
      "\tDZ Statistics: (min,mean,std,max)=0.000948116,0.0111242,0.0104985,0.143938\n",
      "Reading file 364...\n"
     ]
    },
    {
     "name": "stderr",
     "output_type": "stream",
     "text": [
      "100%|██████████| 1000/1000 [00:17<00:00, 58.68it/s]\n"
     ]
    },
    {
     "name": "stdout",
     "output_type": "stream",
     "text": [
      "\tSaving grtcomp-0364-ET0031449600.data...\n",
      "\tLarge distances: 10/1000\n",
      "\tDZ Statistics: (min,mean,std,max)=0.000823121,0.0125867,0.0230631,0.303102\n",
      "Mismatches: 1766/365000 = 0.483836%\n",
      "6103.720 s, 101.729 min, 1.69548 h\n"
     ]
    }
   ],
   "source": [
    "from tqdm import tqdm\n",
    "import random\n",
    "\n",
    "#Read data\n",
    "adata=None\n",
    "ierr=0\n",
    "Nsel=1000\n",
    "elTime(verbose=False)\n",
    "for ntar in range(len(tar.getnames())):\n",
    "    print(f\"Reading file {ntar}...\")\n",
    "    fname=tar.getnames()[ntar]\n",
    "    data=np.loadtxt(tar.extractfile(fname))\n",
    "    columns=[\"N\",\"ET\",\"lat\",\"lon\",\"h\",\"Az\",\"vimp\",\n",
    "             \"xobs\",\"yobs\",\"zobs\",\"vxobs\",\"vyobs\",\"vzobs\",\n",
    "             \"q\",\"e\",\"i\",\"Omega\",\"omega\",\"M\",\"qapex\"]\n",
    "    data=pd.DataFrame(data,columns=columns)\n",
    "\n",
    "    #Initialize extracolumns\n",
    "    data[\"DZpcon_moon\"]=0\n",
    "    data[\"DZpcon_geomoon\"]=0\n",
    "    data[\"DZsim\"]=0\n",
    "    sim_elements=[\"q_sim\",\"e_sim\",\"i_sim\",\"W_sim\",\"w_sim\",\"M_sim\"]\n",
    "    pcon_elements=[\"q_pcon\",\"e_pcon\",\"i_pcon\",\"W_pcon\",\"w_pcon\",\"M_pcon\"]\n",
    "    for i,element in enumerate(sim_elements):\n",
    "        data[element]=0\n",
    "        data[pcon_elements[i]]=0\n",
    "        \n",
    "    #Compute distances\n",
    "    #for index in tqdm(data.index):\n",
    "    idata=pd.DataFrame([],columns=data.columns)\n",
    "    for index in tqdm(random.sample(data.index.values.tolist(),k=Nsel)):\n",
    "    #for index in random.sample(data.index.values.tolist(),k=Nsel):\n",
    "        event=data.loc[index]\n",
    "        E_num=event[[\"q\",\"e\",\"i\",\"Omega\",\"omega\",\"M\"]].values\n",
    "        E_num[2:]*=DEG\n",
    "        E_sim,E_pcon=rayOscelt(event[\"lon\"],event[\"lat\"],80.0,\"MOON\",event[\"Az\"],event[\"h\"],-event[\"vimp\"],event[\"ET\"],\n",
    "                               objects=[\"MOON\",\"EARTH\"],mus=[MUMOON,MUEARTH],rhill=[6e4,1e6])\n",
    "        for E in E_sim,E_pcon[0],E_pcon[1]:E[0]/=AU;\n",
    "        idata.loc[index]=data.loc[index]\n",
    "        idata[pcon_elements[i]]=0\n",
    "        idata.loc[index,\"DZpcon_moon\"]=zappalaDistance(E_num,E_pcon[0])\n",
    "        idata.loc[index,\"DZpcon_geomoon\"]=zappalaDistance(E_num,E_pcon[1])\n",
    "        idata.loc[index,\"DZsim\"]=zappalaDistance(E_num,E_sim)\n",
    "        E_sim[2:]*=RAD\n",
    "        E_pcon[0][2:]*=RAD\n",
    "        E_pcon[1][2:]*=RAD\n",
    "        for i,element in enumerate(sim_elements):\n",
    "            idata.loc[index,element]=E_sim[i]\n",
    "            idata.loc[index,pcon_elements[i]]=E_pcon[1][i]\n",
    "    selcols=[\"ET\",\"lon\",\"lat\",\"h\",\"Az\",\"vimp\",\n",
    "             \"DZpcon_moon\",\"DZpcon_geomoon\",\"DZsim\",\n",
    "             \"q\",\"q_pcon\",\"q_sim\",\n",
    "             \"e\",\"e_pcon\",\"e_sim\",\n",
    "             \"i\",\"i_pcon\",\"i_sim\",\n",
    "             \"Omega\",\"W_pcon\",\"W_sim\",\n",
    "             \"omega\",\"w_pcon\",\"w_sim\"]\n",
    "    fname=f\"grtcomp-{ntar:04d}-ET{np.int(event['ET']):010d}.data\"\n",
    "    print(f\"\\tSaving {fname}...\")\n",
    "    nlarge=(idata[\"DZpcon_geomoon\"]>0.1).sum()\n",
    "    ierr+=nlarge\n",
    "    ndata=len(idata)\n",
    "    print(f\"\\tLarge distances: {nlarge}/{ndata}\")\n",
    "    print(f\"\\tDZ Statistics: (min,mean,std,max)={idata['DZpcon_geomoon'].min():g},{idata['DZpcon_geomoon'].mean():g},{idata['DZpcon_geomoon'].std():g},{idata['DZpcon_geomoon'].max():g}\")\n",
    "    np.savetxt(f\"{BDIR}/../grt-YearTestMoon/{fname}\",idata[selcols].values)\n",
    "    if adata is None:\n",
    "          adata=pd.DataFrame([],columns=idata[selcols].columns)\n",
    "    adata=pd.concat((adata,idata[selcols]))\n",
    "    del(data,idata)\n",
    "    #if ntar>-1:break\n",
    "\n",
    "print(f\"Mismatches: {ierr}/{(ntar+1)*Nsel} = {ierr/((ntar+1.0)*Nsel)*100:g}%\")\n",
    "elTime(verbose=True)"
   ]
  },
  {
   "cell_type": "code",
   "execution_count": 384,
   "metadata": {},
   "outputs": [],
   "source": [
    "np.savetxt(f\"{BDIR}/../grt-YearTestMoon/grtcomp.data\",adata.values)"
   ]
  },
  {
   "cell_type": "code",
   "execution_count": null,
   "metadata": {},
   "outputs": [],
   "source": [
    "adata_raw=np.loadtxt(f\"{BDIR}/../grt-YearTestMoon/grtcomp.data\")\n",
    "selcols=[\"ET\",\"lon\",\"lat\",\"h\",\"Az\",\n",
    "         \"DZpcon_moon\",\"DZpcon_geomoon\",\"DZsim\",\n",
    "         \"q\",\"q_pcon\",\"q_sim\",\n",
    "         \"e\",\"e_pcon\",\"e_sim\",\n",
    "         \"i\",\"i_pcon\",\"i_sim\",\n",
    "         \"Omega\",\"W_pcon\",\"W_sim\",\n",
    "         \"omega\",\"w_pcon\",\"w_sim\"]\n",
    "adata=pd.DataFrame(adata_raw,columns=selcols)"
   ]
  },
  {
   "cell_type": "code",
   "execution_count": 386,
   "metadata": {},
   "outputs": [
    {
     "data": {
      "application/javascript": [
       "/* Put everything inside the global mpl namespace */\n",
       "window.mpl = {};\n",
       "\n",
       "\n",
       "mpl.get_websocket_type = function() {\n",
       "    if (typeof(WebSocket) !== 'undefined') {\n",
       "        return WebSocket;\n",
       "    } else if (typeof(MozWebSocket) !== 'undefined') {\n",
       "        return MozWebSocket;\n",
       "    } else {\n",
       "        alert('Your browser does not have WebSocket support.' +\n",
       "              'Please try Chrome, Safari or Firefox ≥ 6. ' +\n",
       "              'Firefox 4 and 5 are also supported but you ' +\n",
       "              'have to enable WebSockets in about:config.');\n",
       "    };\n",
       "}\n",
       "\n",
       "mpl.figure = function(figure_id, websocket, ondownload, parent_element) {\n",
       "    this.id = figure_id;\n",
       "\n",
       "    this.ws = websocket;\n",
       "\n",
       "    this.supports_binary = (this.ws.binaryType != undefined);\n",
       "\n",
       "    if (!this.supports_binary) {\n",
       "        var warnings = document.getElementById(\"mpl-warnings\");\n",
       "        if (warnings) {\n",
       "            warnings.style.display = 'block';\n",
       "            warnings.textContent = (\n",
       "                \"This browser does not support binary websocket messages. \" +\n",
       "                    \"Performance may be slow.\");\n",
       "        }\n",
       "    }\n",
       "\n",
       "    this.imageObj = new Image();\n",
       "\n",
       "    this.context = undefined;\n",
       "    this.message = undefined;\n",
       "    this.canvas = undefined;\n",
       "    this.rubberband_canvas = undefined;\n",
       "    this.rubberband_context = undefined;\n",
       "    this.format_dropdown = undefined;\n",
       "\n",
       "    this.image_mode = 'full';\n",
       "\n",
       "    this.root = $('<div/>');\n",
       "    this._root_extra_style(this.root)\n",
       "    this.root.attr('style', 'display: inline-block');\n",
       "\n",
       "    $(parent_element).append(this.root);\n",
       "\n",
       "    this._init_header(this);\n",
       "    this._init_canvas(this);\n",
       "    this._init_toolbar(this);\n",
       "\n",
       "    var fig = this;\n",
       "\n",
       "    this.waiting = false;\n",
       "\n",
       "    this.ws.onopen =  function () {\n",
       "            fig.send_message(\"supports_binary\", {value: fig.supports_binary});\n",
       "            fig.send_message(\"send_image_mode\", {});\n",
       "            if (mpl.ratio != 1) {\n",
       "                fig.send_message(\"set_dpi_ratio\", {'dpi_ratio': mpl.ratio});\n",
       "            }\n",
       "            fig.send_message(\"refresh\", {});\n",
       "        }\n",
       "\n",
       "    this.imageObj.onload = function() {\n",
       "            if (fig.image_mode == 'full') {\n",
       "                // Full images could contain transparency (where diff images\n",
       "                // almost always do), so we need to clear the canvas so that\n",
       "                // there is no ghosting.\n",
       "                fig.context.clearRect(0, 0, fig.canvas.width, fig.canvas.height);\n",
       "            }\n",
       "            fig.context.drawImage(fig.imageObj, 0, 0);\n",
       "        };\n",
       "\n",
       "    this.imageObj.onunload = function() {\n",
       "        this.ws.close();\n",
       "    }\n",
       "\n",
       "    this.ws.onmessage = this._make_on_message_function(this);\n",
       "\n",
       "    this.ondownload = ondownload;\n",
       "}\n",
       "\n",
       "mpl.figure.prototype._init_header = function() {\n",
       "    var titlebar = $(\n",
       "        '<div class=\"ui-dialog-titlebar ui-widget-header ui-corner-all ' +\n",
       "        'ui-helper-clearfix\"/>');\n",
       "    var titletext = $(\n",
       "        '<div class=\"ui-dialog-title\" style=\"width: 100%; ' +\n",
       "        'text-align: center; padding: 3px;\"/>');\n",
       "    titlebar.append(titletext)\n",
       "    this.root.append(titlebar);\n",
       "    this.header = titletext[0];\n",
       "}\n",
       "\n",
       "\n",
       "\n",
       "mpl.figure.prototype._canvas_extra_style = function(canvas_div) {\n",
       "\n",
       "}\n",
       "\n",
       "\n",
       "mpl.figure.prototype._root_extra_style = function(canvas_div) {\n",
       "\n",
       "}\n",
       "\n",
       "mpl.figure.prototype._init_canvas = function() {\n",
       "    var fig = this;\n",
       "\n",
       "    var canvas_div = $('<div/>');\n",
       "\n",
       "    canvas_div.attr('style', 'position: relative; clear: both; outline: 0');\n",
       "\n",
       "    function canvas_keyboard_event(event) {\n",
       "        return fig.key_event(event, event['data']);\n",
       "    }\n",
       "\n",
       "    canvas_div.keydown('key_press', canvas_keyboard_event);\n",
       "    canvas_div.keyup('key_release', canvas_keyboard_event);\n",
       "    this.canvas_div = canvas_div\n",
       "    this._canvas_extra_style(canvas_div)\n",
       "    this.root.append(canvas_div);\n",
       "\n",
       "    var canvas = $('<canvas/>');\n",
       "    canvas.addClass('mpl-canvas');\n",
       "    canvas.attr('style', \"left: 0; top: 0; z-index: 0; outline: 0\")\n",
       "\n",
       "    this.canvas = canvas[0];\n",
       "    this.context = canvas[0].getContext(\"2d\");\n",
       "\n",
       "    var backingStore = this.context.backingStorePixelRatio ||\n",
       "\tthis.context.webkitBackingStorePixelRatio ||\n",
       "\tthis.context.mozBackingStorePixelRatio ||\n",
       "\tthis.context.msBackingStorePixelRatio ||\n",
       "\tthis.context.oBackingStorePixelRatio ||\n",
       "\tthis.context.backingStorePixelRatio || 1;\n",
       "\n",
       "    mpl.ratio = (window.devicePixelRatio || 1) / backingStore;\n",
       "\n",
       "    var rubberband = $('<canvas/>');\n",
       "    rubberband.attr('style', \"position: absolute; left: 0; top: 0; z-index: 1;\")\n",
       "\n",
       "    var pass_mouse_events = true;\n",
       "\n",
       "    canvas_div.resizable({\n",
       "        start: function(event, ui) {\n",
       "            pass_mouse_events = false;\n",
       "        },\n",
       "        resize: function(event, ui) {\n",
       "            fig.request_resize(ui.size.width, ui.size.height);\n",
       "        },\n",
       "        stop: function(event, ui) {\n",
       "            pass_mouse_events = true;\n",
       "            fig.request_resize(ui.size.width, ui.size.height);\n",
       "        },\n",
       "    });\n",
       "\n",
       "    function mouse_event_fn(event) {\n",
       "        if (pass_mouse_events)\n",
       "            return fig.mouse_event(event, event['data']);\n",
       "    }\n",
       "\n",
       "    rubberband.mousedown('button_press', mouse_event_fn);\n",
       "    rubberband.mouseup('button_release', mouse_event_fn);\n",
       "    // Throttle sequential mouse events to 1 every 20ms.\n",
       "    rubberband.mousemove('motion_notify', mouse_event_fn);\n",
       "\n",
       "    rubberband.mouseenter('figure_enter', mouse_event_fn);\n",
       "    rubberband.mouseleave('figure_leave', mouse_event_fn);\n",
       "\n",
       "    canvas_div.on(\"wheel\", function (event) {\n",
       "        event = event.originalEvent;\n",
       "        event['data'] = 'scroll'\n",
       "        if (event.deltaY < 0) {\n",
       "            event.step = 1;\n",
       "        } else {\n",
       "            event.step = -1;\n",
       "        }\n",
       "        mouse_event_fn(event);\n",
       "    });\n",
       "\n",
       "    canvas_div.append(canvas);\n",
       "    canvas_div.append(rubberband);\n",
       "\n",
       "    this.rubberband = rubberband;\n",
       "    this.rubberband_canvas = rubberband[0];\n",
       "    this.rubberband_context = rubberband[0].getContext(\"2d\");\n",
       "    this.rubberband_context.strokeStyle = \"#000000\";\n",
       "\n",
       "    this._resize_canvas = function(width, height) {\n",
       "        // Keep the size of the canvas, canvas container, and rubber band\n",
       "        // canvas in synch.\n",
       "        canvas_div.css('width', width)\n",
       "        canvas_div.css('height', height)\n",
       "\n",
       "        canvas.attr('width', width * mpl.ratio);\n",
       "        canvas.attr('height', height * mpl.ratio);\n",
       "        canvas.attr('style', 'width: ' + width + 'px; height: ' + height + 'px;');\n",
       "\n",
       "        rubberband.attr('width', width);\n",
       "        rubberband.attr('height', height);\n",
       "    }\n",
       "\n",
       "    // Set the figure to an initial 600x600px, this will subsequently be updated\n",
       "    // upon first draw.\n",
       "    this._resize_canvas(600, 600);\n",
       "\n",
       "    // Disable right mouse context menu.\n",
       "    $(this.rubberband_canvas).bind(\"contextmenu\",function(e){\n",
       "        return false;\n",
       "    });\n",
       "\n",
       "    function set_focus () {\n",
       "        canvas.focus();\n",
       "        canvas_div.focus();\n",
       "    }\n",
       "\n",
       "    window.setTimeout(set_focus, 100);\n",
       "}\n",
       "\n",
       "mpl.figure.prototype._init_toolbar = function() {\n",
       "    var fig = this;\n",
       "\n",
       "    var nav_element = $('<div/>')\n",
       "    nav_element.attr('style', 'width: 100%');\n",
       "    this.root.append(nav_element);\n",
       "\n",
       "    // Define a callback function for later on.\n",
       "    function toolbar_event(event) {\n",
       "        return fig.toolbar_button_onclick(event['data']);\n",
       "    }\n",
       "    function toolbar_mouse_event(event) {\n",
       "        return fig.toolbar_button_onmouseover(event['data']);\n",
       "    }\n",
       "\n",
       "    for(var toolbar_ind in mpl.toolbar_items) {\n",
       "        var name = mpl.toolbar_items[toolbar_ind][0];\n",
       "        var tooltip = mpl.toolbar_items[toolbar_ind][1];\n",
       "        var image = mpl.toolbar_items[toolbar_ind][2];\n",
       "        var method_name = mpl.toolbar_items[toolbar_ind][3];\n",
       "\n",
       "        if (!name) {\n",
       "            // put a spacer in here.\n",
       "            continue;\n",
       "        }\n",
       "        var button = $('<button/>');\n",
       "        button.addClass('ui-button ui-widget ui-state-default ui-corner-all ' +\n",
       "                        'ui-button-icon-only');\n",
       "        button.attr('role', 'button');\n",
       "        button.attr('aria-disabled', 'false');\n",
       "        button.click(method_name, toolbar_event);\n",
       "        button.mouseover(tooltip, toolbar_mouse_event);\n",
       "\n",
       "        var icon_img = $('<span/>');\n",
       "        icon_img.addClass('ui-button-icon-primary ui-icon');\n",
       "        icon_img.addClass(image);\n",
       "        icon_img.addClass('ui-corner-all');\n",
       "\n",
       "        var tooltip_span = $('<span/>');\n",
       "        tooltip_span.addClass('ui-button-text');\n",
       "        tooltip_span.html(tooltip);\n",
       "\n",
       "        button.append(icon_img);\n",
       "        button.append(tooltip_span);\n",
       "\n",
       "        nav_element.append(button);\n",
       "    }\n",
       "\n",
       "    var fmt_picker_span = $('<span/>');\n",
       "\n",
       "    var fmt_picker = $('<select/>');\n",
       "    fmt_picker.addClass('mpl-toolbar-option ui-widget ui-widget-content');\n",
       "    fmt_picker_span.append(fmt_picker);\n",
       "    nav_element.append(fmt_picker_span);\n",
       "    this.format_dropdown = fmt_picker[0];\n",
       "\n",
       "    for (var ind in mpl.extensions) {\n",
       "        var fmt = mpl.extensions[ind];\n",
       "        var option = $(\n",
       "            '<option/>', {selected: fmt === mpl.default_extension}).html(fmt);\n",
       "        fmt_picker.append(option)\n",
       "    }\n",
       "\n",
       "    // Add hover states to the ui-buttons\n",
       "    $( \".ui-button\" ).hover(\n",
       "        function() { $(this).addClass(\"ui-state-hover\");},\n",
       "        function() { $(this).removeClass(\"ui-state-hover\");}\n",
       "    );\n",
       "\n",
       "    var status_bar = $('<span class=\"mpl-message\"/>');\n",
       "    nav_element.append(status_bar);\n",
       "    this.message = status_bar[0];\n",
       "}\n",
       "\n",
       "mpl.figure.prototype.request_resize = function(x_pixels, y_pixels) {\n",
       "    // Request matplotlib to resize the figure. Matplotlib will then trigger a resize in the client,\n",
       "    // which will in turn request a refresh of the image.\n",
       "    this.send_message('resize', {'width': x_pixels, 'height': y_pixels});\n",
       "}\n",
       "\n",
       "mpl.figure.prototype.send_message = function(type, properties) {\n",
       "    properties['type'] = type;\n",
       "    properties['figure_id'] = this.id;\n",
       "    this.ws.send(JSON.stringify(properties));\n",
       "}\n",
       "\n",
       "mpl.figure.prototype.send_draw_message = function() {\n",
       "    if (!this.waiting) {\n",
       "        this.waiting = true;\n",
       "        this.ws.send(JSON.stringify({type: \"draw\", figure_id: this.id}));\n",
       "    }\n",
       "}\n",
       "\n",
       "\n",
       "mpl.figure.prototype.handle_save = function(fig, msg) {\n",
       "    var format_dropdown = fig.format_dropdown;\n",
       "    var format = format_dropdown.options[format_dropdown.selectedIndex].value;\n",
       "    fig.ondownload(fig, format);\n",
       "}\n",
       "\n",
       "\n",
       "mpl.figure.prototype.handle_resize = function(fig, msg) {\n",
       "    var size = msg['size'];\n",
       "    if (size[0] != fig.canvas.width || size[1] != fig.canvas.height) {\n",
       "        fig._resize_canvas(size[0], size[1]);\n",
       "        fig.send_message(\"refresh\", {});\n",
       "    };\n",
       "}\n",
       "\n",
       "mpl.figure.prototype.handle_rubberband = function(fig, msg) {\n",
       "    var x0 = msg['x0'] / mpl.ratio;\n",
       "    var y0 = (fig.canvas.height - msg['y0']) / mpl.ratio;\n",
       "    var x1 = msg['x1'] / mpl.ratio;\n",
       "    var y1 = (fig.canvas.height - msg['y1']) / mpl.ratio;\n",
       "    x0 = Math.floor(x0) + 0.5;\n",
       "    y0 = Math.floor(y0) + 0.5;\n",
       "    x1 = Math.floor(x1) + 0.5;\n",
       "    y1 = Math.floor(y1) + 0.5;\n",
       "    var min_x = Math.min(x0, x1);\n",
       "    var min_y = Math.min(y0, y1);\n",
       "    var width = Math.abs(x1 - x0);\n",
       "    var height = Math.abs(y1 - y0);\n",
       "\n",
       "    fig.rubberband_context.clearRect(\n",
       "        0, 0, fig.canvas.width, fig.canvas.height);\n",
       "\n",
       "    fig.rubberband_context.strokeRect(min_x, min_y, width, height);\n",
       "}\n",
       "\n",
       "mpl.figure.prototype.handle_figure_label = function(fig, msg) {\n",
       "    // Updates the figure title.\n",
       "    fig.header.textContent = msg['label'];\n",
       "}\n",
       "\n",
       "mpl.figure.prototype.handle_cursor = function(fig, msg) {\n",
       "    var cursor = msg['cursor'];\n",
       "    switch(cursor)\n",
       "    {\n",
       "    case 0:\n",
       "        cursor = 'pointer';\n",
       "        break;\n",
       "    case 1:\n",
       "        cursor = 'default';\n",
       "        break;\n",
       "    case 2:\n",
       "        cursor = 'crosshair';\n",
       "        break;\n",
       "    case 3:\n",
       "        cursor = 'move';\n",
       "        break;\n",
       "    }\n",
       "    fig.rubberband_canvas.style.cursor = cursor;\n",
       "}\n",
       "\n",
       "mpl.figure.prototype.handle_message = function(fig, msg) {\n",
       "    fig.message.textContent = msg['message'];\n",
       "}\n",
       "\n",
       "mpl.figure.prototype.handle_draw = function(fig, msg) {\n",
       "    // Request the server to send over a new figure.\n",
       "    fig.send_draw_message();\n",
       "}\n",
       "\n",
       "mpl.figure.prototype.handle_image_mode = function(fig, msg) {\n",
       "    fig.image_mode = msg['mode'];\n",
       "}\n",
       "\n",
       "mpl.figure.prototype.updated_canvas_event = function() {\n",
       "    // Called whenever the canvas gets updated.\n",
       "    this.send_message(\"ack\", {});\n",
       "}\n",
       "\n",
       "// A function to construct a web socket function for onmessage handling.\n",
       "// Called in the figure constructor.\n",
       "mpl.figure.prototype._make_on_message_function = function(fig) {\n",
       "    return function socket_on_message(evt) {\n",
       "        if (evt.data instanceof Blob) {\n",
       "            /* FIXME: We get \"Resource interpreted as Image but\n",
       "             * transferred with MIME type text/plain:\" errors on\n",
       "             * Chrome.  But how to set the MIME type?  It doesn't seem\n",
       "             * to be part of the websocket stream */\n",
       "            evt.data.type = \"image/png\";\n",
       "\n",
       "            /* Free the memory for the previous frames */\n",
       "            if (fig.imageObj.src) {\n",
       "                (window.URL || window.webkitURL).revokeObjectURL(\n",
       "                    fig.imageObj.src);\n",
       "            }\n",
       "\n",
       "            fig.imageObj.src = (window.URL || window.webkitURL).createObjectURL(\n",
       "                evt.data);\n",
       "            fig.updated_canvas_event();\n",
       "            fig.waiting = false;\n",
       "            return;\n",
       "        }\n",
       "        else if (typeof evt.data === 'string' && evt.data.slice(0, 21) == \"data:image/png;base64\") {\n",
       "            fig.imageObj.src = evt.data;\n",
       "            fig.updated_canvas_event();\n",
       "            fig.waiting = false;\n",
       "            return;\n",
       "        }\n",
       "\n",
       "        var msg = JSON.parse(evt.data);\n",
       "        var msg_type = msg['type'];\n",
       "\n",
       "        // Call the  \"handle_{type}\" callback, which takes\n",
       "        // the figure and JSON message as its only arguments.\n",
       "        try {\n",
       "            var callback = fig[\"handle_\" + msg_type];\n",
       "        } catch (e) {\n",
       "            console.log(\"No handler for the '\" + msg_type + \"' message type: \", msg);\n",
       "            return;\n",
       "        }\n",
       "\n",
       "        if (callback) {\n",
       "            try {\n",
       "                // console.log(\"Handling '\" + msg_type + \"' message: \", msg);\n",
       "                callback(fig, msg);\n",
       "            } catch (e) {\n",
       "                console.log(\"Exception inside the 'handler_\" + msg_type + \"' callback:\", e, e.stack, msg);\n",
       "            }\n",
       "        }\n",
       "    };\n",
       "}\n",
       "\n",
       "// from http://stackoverflow.com/questions/1114465/getting-mouse-location-in-canvas\n",
       "mpl.findpos = function(e) {\n",
       "    //this section is from http://www.quirksmode.org/js/events_properties.html\n",
       "    var targ;\n",
       "    if (!e)\n",
       "        e = window.event;\n",
       "    if (e.target)\n",
       "        targ = e.target;\n",
       "    else if (e.srcElement)\n",
       "        targ = e.srcElement;\n",
       "    if (targ.nodeType == 3) // defeat Safari bug\n",
       "        targ = targ.parentNode;\n",
       "\n",
       "    // jQuery normalizes the pageX and pageY\n",
       "    // pageX,Y are the mouse positions relative to the document\n",
       "    // offset() returns the position of the element relative to the document\n",
       "    var x = e.pageX - $(targ).offset().left;\n",
       "    var y = e.pageY - $(targ).offset().top;\n",
       "\n",
       "    return {\"x\": x, \"y\": y};\n",
       "};\n",
       "\n",
       "/*\n",
       " * return a copy of an object with only non-object keys\n",
       " * we need this to avoid circular references\n",
       " * http://stackoverflow.com/a/24161582/3208463\n",
       " */\n",
       "function simpleKeys (original) {\n",
       "  return Object.keys(original).reduce(function (obj, key) {\n",
       "    if (typeof original[key] !== 'object')\n",
       "        obj[key] = original[key]\n",
       "    return obj;\n",
       "  }, {});\n",
       "}\n",
       "\n",
       "mpl.figure.prototype.mouse_event = function(event, name) {\n",
       "    var canvas_pos = mpl.findpos(event)\n",
       "\n",
       "    if (name === 'button_press')\n",
       "    {\n",
       "        this.canvas.focus();\n",
       "        this.canvas_div.focus();\n",
       "    }\n",
       "\n",
       "    var x = canvas_pos.x * mpl.ratio;\n",
       "    var y = canvas_pos.y * mpl.ratio;\n",
       "\n",
       "    this.send_message(name, {x: x, y: y, button: event.button,\n",
       "                             step: event.step,\n",
       "                             guiEvent: simpleKeys(event)});\n",
       "\n",
       "    /* This prevents the web browser from automatically changing to\n",
       "     * the text insertion cursor when the button is pressed.  We want\n",
       "     * to control all of the cursor setting manually through the\n",
       "     * 'cursor' event from matplotlib */\n",
       "    event.preventDefault();\n",
       "    return false;\n",
       "}\n",
       "\n",
       "mpl.figure.prototype._key_event_extra = function(event, name) {\n",
       "    // Handle any extra behaviour associated with a key event\n",
       "}\n",
       "\n",
       "mpl.figure.prototype.key_event = function(event, name) {\n",
       "\n",
       "    // Prevent repeat events\n",
       "    if (name == 'key_press')\n",
       "    {\n",
       "        if (event.which === this._key)\n",
       "            return;\n",
       "        else\n",
       "            this._key = event.which;\n",
       "    }\n",
       "    if (name == 'key_release')\n",
       "        this._key = null;\n",
       "\n",
       "    var value = '';\n",
       "    if (event.ctrlKey && event.which != 17)\n",
       "        value += \"ctrl+\";\n",
       "    if (event.altKey && event.which != 18)\n",
       "        value += \"alt+\";\n",
       "    if (event.shiftKey && event.which != 16)\n",
       "        value += \"shift+\";\n",
       "\n",
       "    value += 'k';\n",
       "    value += event.which.toString();\n",
       "\n",
       "    this._key_event_extra(event, name);\n",
       "\n",
       "    this.send_message(name, {key: value,\n",
       "                             guiEvent: simpleKeys(event)});\n",
       "    return false;\n",
       "}\n",
       "\n",
       "mpl.figure.prototype.toolbar_button_onclick = function(name) {\n",
       "    if (name == 'download') {\n",
       "        this.handle_save(this, null);\n",
       "    } else {\n",
       "        this.send_message(\"toolbar_button\", {name: name});\n",
       "    }\n",
       "};\n",
       "\n",
       "mpl.figure.prototype.toolbar_button_onmouseover = function(tooltip) {\n",
       "    this.message.textContent = tooltip;\n",
       "};\n",
       "mpl.toolbar_items = [[\"Home\", \"Reset original view\", \"fa fa-home icon-home\", \"home\"], [\"Back\", \"Back to  previous view\", \"fa fa-arrow-left icon-arrow-left\", \"back\"], [\"Forward\", \"Forward to next view\", \"fa fa-arrow-right icon-arrow-right\", \"forward\"], [\"\", \"\", \"\", \"\"], [\"Pan\", \"Pan axes with left mouse, zoom with right\", \"fa fa-arrows icon-move\", \"pan\"], [\"Zoom\", \"Zoom to rectangle\", \"fa fa-square-o icon-check-empty\", \"zoom\"], [\"\", \"\", \"\", \"\"], [\"Download\", \"Download plot\", \"fa fa-floppy-o icon-save\", \"download\"]];\n",
       "\n",
       "mpl.extensions = [\"eps\", \"jpeg\", \"pdf\", \"png\", \"ps\", \"raw\", \"svg\", \"tif\"];\n",
       "\n",
       "mpl.default_extension = \"png\";var comm_websocket_adapter = function(comm) {\n",
       "    // Create a \"websocket\"-like object which calls the given IPython comm\n",
       "    // object with the appropriate methods. Currently this is a non binary\n",
       "    // socket, so there is still some room for performance tuning.\n",
       "    var ws = {};\n",
       "\n",
       "    ws.close = function() {\n",
       "        comm.close()\n",
       "    };\n",
       "    ws.send = function(m) {\n",
       "        //console.log('sending', m);\n",
       "        comm.send(m);\n",
       "    };\n",
       "    // Register the callback with on_msg.\n",
       "    comm.on_msg(function(msg) {\n",
       "        //console.log('receiving', msg['content']['data'], msg);\n",
       "        // Pass the mpl event to the overriden (by mpl) onmessage function.\n",
       "        ws.onmessage(msg['content']['data'])\n",
       "    });\n",
       "    return ws;\n",
       "}\n",
       "\n",
       "mpl.mpl_figure_comm = function(comm, msg) {\n",
       "    // This is the function which gets called when the mpl process\n",
       "    // starts-up an IPython Comm through the \"matplotlib\" channel.\n",
       "\n",
       "    var id = msg.content.data.id;\n",
       "    // Get hold of the div created by the display call when the Comm\n",
       "    // socket was opened in Python.\n",
       "    var element = $(\"#\" + id);\n",
       "    var ws_proxy = comm_websocket_adapter(comm)\n",
       "\n",
       "    function ondownload(figure, format) {\n",
       "        window.open(figure.imageObj.src);\n",
       "    }\n",
       "\n",
       "    var fig = new mpl.figure(id, ws_proxy,\n",
       "                           ondownload,\n",
       "                           element.get(0));\n",
       "\n",
       "    // Call onopen now - mpl needs it, as it is assuming we've passed it a real\n",
       "    // web socket which is closed, not our websocket->open comm proxy.\n",
       "    ws_proxy.onopen();\n",
       "\n",
       "    fig.parent_element = element.get(0);\n",
       "    fig.cell_info = mpl.find_output_cell(\"<div id='\" + id + \"'></div>\");\n",
       "    if (!fig.cell_info) {\n",
       "        console.error(\"Failed to find cell for figure\", id, fig);\n",
       "        return;\n",
       "    }\n",
       "\n",
       "    var output_index = fig.cell_info[2]\n",
       "    var cell = fig.cell_info[0];\n",
       "\n",
       "};\n",
       "\n",
       "mpl.figure.prototype.handle_close = function(fig, msg) {\n",
       "    var width = fig.canvas.width/mpl.ratio\n",
       "    fig.root.unbind('remove')\n",
       "\n",
       "    // Update the output cell to use the data from the current canvas.\n",
       "    fig.push_to_output();\n",
       "    var dataURL = fig.canvas.toDataURL();\n",
       "    // Re-enable the keyboard manager in IPython - without this line, in FF,\n",
       "    // the notebook keyboard shortcuts fail.\n",
       "    IPython.keyboard_manager.enable()\n",
       "    $(fig.parent_element).html('<img src=\"' + dataURL + '\" width=\"' + width + '\">');\n",
       "    fig.close_ws(fig, msg);\n",
       "}\n",
       "\n",
       "mpl.figure.prototype.close_ws = function(fig, msg){\n",
       "    fig.send_message('closing', msg);\n",
       "    // fig.ws.close()\n",
       "}\n",
       "\n",
       "mpl.figure.prototype.push_to_output = function(remove_interactive) {\n",
       "    // Turn the data on the canvas into data in the output cell.\n",
       "    var width = this.canvas.width/mpl.ratio\n",
       "    var dataURL = this.canvas.toDataURL();\n",
       "    this.cell_info[1]['text/html'] = '<img src=\"' + dataURL + '\" width=\"' + width + '\">';\n",
       "}\n",
       "\n",
       "mpl.figure.prototype.updated_canvas_event = function() {\n",
       "    // Tell IPython that the notebook contents must change.\n",
       "    IPython.notebook.set_dirty(true);\n",
       "    this.send_message(\"ack\", {});\n",
       "    var fig = this;\n",
       "    // Wait a second, then push the new image to the DOM so\n",
       "    // that it is saved nicely (might be nice to debounce this).\n",
       "    setTimeout(function () { fig.push_to_output() }, 1000);\n",
       "}\n",
       "\n",
       "mpl.figure.prototype._init_toolbar = function() {\n",
       "    var fig = this;\n",
       "\n",
       "    var nav_element = $('<div/>')\n",
       "    nav_element.attr('style', 'width: 100%');\n",
       "    this.root.append(nav_element);\n",
       "\n",
       "    // Define a callback function for later on.\n",
       "    function toolbar_event(event) {\n",
       "        return fig.toolbar_button_onclick(event['data']);\n",
       "    }\n",
       "    function toolbar_mouse_event(event) {\n",
       "        return fig.toolbar_button_onmouseover(event['data']);\n",
       "    }\n",
       "\n",
       "    for(var toolbar_ind in mpl.toolbar_items){\n",
       "        var name = mpl.toolbar_items[toolbar_ind][0];\n",
       "        var tooltip = mpl.toolbar_items[toolbar_ind][1];\n",
       "        var image = mpl.toolbar_items[toolbar_ind][2];\n",
       "        var method_name = mpl.toolbar_items[toolbar_ind][3];\n",
       "\n",
       "        if (!name) { continue; };\n",
       "\n",
       "        var button = $('<button class=\"btn btn-default\" href=\"#\" title=\"' + name + '\"><i class=\"fa ' + image + ' fa-lg\"></i></button>');\n",
       "        button.click(method_name, toolbar_event);\n",
       "        button.mouseover(tooltip, toolbar_mouse_event);\n",
       "        nav_element.append(button);\n",
       "    }\n",
       "\n",
       "    // Add the status bar.\n",
       "    var status_bar = $('<span class=\"mpl-message\" style=\"text-align:right; float: right;\"/>');\n",
       "    nav_element.append(status_bar);\n",
       "    this.message = status_bar[0];\n",
       "\n",
       "    // Add the close button to the window.\n",
       "    var buttongrp = $('<div class=\"btn-group inline pull-right\"></div>');\n",
       "    var button = $('<button class=\"btn btn-mini btn-primary\" href=\"#\" title=\"Stop Interaction\"><i class=\"fa fa-power-off icon-remove icon-large\"></i></button>');\n",
       "    button.click(function (evt) { fig.handle_close(fig, {}); } );\n",
       "    button.mouseover('Stop Interaction', toolbar_mouse_event);\n",
       "    buttongrp.append(button);\n",
       "    var titlebar = this.root.find($('.ui-dialog-titlebar'));\n",
       "    titlebar.prepend(buttongrp);\n",
       "}\n",
       "\n",
       "mpl.figure.prototype._root_extra_style = function(el){\n",
       "    var fig = this\n",
       "    el.on(\"remove\", function(){\n",
       "\tfig.close_ws(fig, {});\n",
       "    });\n",
       "}\n",
       "\n",
       "mpl.figure.prototype._canvas_extra_style = function(el){\n",
       "    // this is important to make the div 'focusable\n",
       "    el.attr('tabindex', 0)\n",
       "    // reach out to IPython and tell the keyboard manager to turn it's self\n",
       "    // off when our div gets focus\n",
       "\n",
       "    // location in version 3\n",
       "    if (IPython.notebook.keyboard_manager) {\n",
       "        IPython.notebook.keyboard_manager.register_events(el);\n",
       "    }\n",
       "    else {\n",
       "        // location in version 2\n",
       "        IPython.keyboard_manager.register_events(el);\n",
       "    }\n",
       "\n",
       "}\n",
       "\n",
       "mpl.figure.prototype._key_event_extra = function(event, name) {\n",
       "    var manager = IPython.notebook.keyboard_manager;\n",
       "    if (!manager)\n",
       "        manager = IPython.keyboard_manager;\n",
       "\n",
       "    // Check for shift+enter\n",
       "    if (event.shiftKey && event.which == 13) {\n",
       "        this.canvas_div.blur();\n",
       "        // select the cell after this one\n",
       "        var index = IPython.notebook.find_cell_index(this.cell_info[0]);\n",
       "        IPython.notebook.select(index + 1);\n",
       "    }\n",
       "}\n",
       "\n",
       "mpl.figure.prototype.handle_save = function(fig, msg) {\n",
       "    fig.ondownload(fig, null);\n",
       "}\n",
       "\n",
       "\n",
       "mpl.find_output_cell = function(html_output) {\n",
       "    // Return the cell and output element which can be found *uniquely* in the notebook.\n",
       "    // Note - this is a bit hacky, but it is done because the \"notebook_saving.Notebook\"\n",
       "    // IPython event is triggered only after the cells have been serialised, which for\n",
       "    // our purposes (turning an active figure into a static one), is too late.\n",
       "    var cells = IPython.notebook.get_cells();\n",
       "    var ncells = cells.length;\n",
       "    for (var i=0; i<ncells; i++) {\n",
       "        var cell = cells[i];\n",
       "        if (cell.cell_type === 'code'){\n",
       "            for (var j=0; j<cell.output_area.outputs.length; j++) {\n",
       "                var data = cell.output_area.outputs[j];\n",
       "                if (data.data) {\n",
       "                    // IPython >= 3 moved mimebundle to data attribute of output\n",
       "                    data = data.data;\n",
       "                }\n",
       "                if (data['text/html'] == html_output) {\n",
       "                    return [cell, data, j];\n",
       "                }\n",
       "            }\n",
       "        }\n",
       "    }\n",
       "}\n",
       "\n",
       "// Register the function which deals with the matplotlib target/channel.\n",
       "// The kernel may be null if the page has been refreshed.\n",
       "if (IPython.notebook.kernel != null) {\n",
       "    IPython.notebook.kernel.comm_manager.register_target('matplotlib', mpl.mpl_figure_comm);\n",
       "}\n"
      ],
      "text/plain": [
       "<IPython.core.display.Javascript object>"
      ]
     },
     "metadata": {},
     "output_type": "display_data"
    },
    {
     "data": {
      "text/html": [
       "<img src=\"data:image/png;base64,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\" width=\"640\">"
      ],
      "text/plain": [
       "<IPython.core.display.HTML object>"
      ]
     },
     "metadata": {},
     "output_type": "display_data"
    }
   ],
   "source": [
    "fig=plt.figure()\n",
    "ax=fig.gca()\n",
    "\n",
    "hp,xp=medHistogram(np.log10(adata[\"DZpcon_moon\"].values),bins=100,density=True)\n",
    "hpg,xpg=medHistogram(np.log10(adata[\"DZpcon_geomoon\"].values),bins=100,density=True)\n",
    "hs,xs=medHistogram(np.log10(adata[\"DZsim\"].values),bins=100,density=True)\n",
    "\n",
    "ax.step(xp,hp,color='b',label=\"PCON (MOON)\")\n",
    "ax.step(xpg,hpg,color='g',label=\"PCON (MOON+GEO)\")\n",
    "ax.step(xs,hs,color='r',label=\"SIM\")\n",
    "\n",
    "ax.set_xlabel(r\"$D_Z$\")\n",
    "\n",
    "xmin,xmax=ax.get_xlim()\n",
    "ymin,ymax=ax.get_ylim()\n",
    "\n",
    "ax.set_xlim((-3,0))\n",
    "ax.set_ylim((0,ymax))\n",
    "\n",
    "xts=ax.get_xticks()\n",
    "xtl=[]\n",
    "for xt in xts:\n",
    "    xtl+=[f\"{10**xt:.1g}\"]\n",
    "ax.set_xticklabels(xtl)\n",
    "ax.set_yticks([])\n",
    "\n",
    "ax.legend(loc='upper right')\n",
    "\n",
    "fig.savefig(f\"{FIGDIR}/fig-compare_NUM_SIM_PCON_MOON.png\")"
   ]
  },
  {
   "cell_type": "code",
   "execution_count": 404,
   "metadata": {},
   "outputs": [],
   "source": [
    "stack=np.transpose(np.vstack((xp,hp,xpg,hpg,xs,hs)))\n",
    "np.savetxt(f\"{BDIR}/../grt-YearTestMoon/grtstat.data\",stack)"
   ]
  },
  {
   "cell_type": "code",
   "execution_count": 409,
   "metadata": {},
   "outputs": [
    {
     "data": {
      "text/plain": [
       "array([5.48839030e-05, 0.00000000e+00, 0.00000000e+00, 5.48839030e-05,\n",
       "       5.48839030e-05, 5.48839030e-05, 0.00000000e+00, 0.00000000e+00,\n",
       "       5.48839030e-05, 1.09767806e-04, 1.09767806e-04, 2.19535612e-04,\n",
       "       1.64651709e-04, 2.19535612e-04, 6.03722933e-04, 4.93955127e-04,\n",
       "       5.48839030e-04, 6.58606836e-04, 1.20744587e-03, 2.03070441e-03,\n",
       "       1.97582051e-03, 2.74419515e-03, 3.56745369e-03, 5.21397078e-03,\n",
       "       6.58606836e-03, 8.61677277e-03, 1.35563240e-02, 1.56967962e-02,\n",
       "       1.95386695e-02, 2.62345056e-02, 3.55098852e-02, 4.58280590e-02,\n",
       "       5.88904279e-02, 7.65630446e-02, 1.02358479e-01, 1.32709277e-01,\n",
       "       1.75628490e-01, 2.21017477e-01, 2.73870676e-01, 3.19863387e-01,\n",
       "       3.60148171e-01, 4.00926911e-01, 4.46261015e-01, 4.90881628e-01,\n",
       "       5.42966452e-01, 6.25347190e-01, 7.47628526e-01, 8.97845769e-01,\n",
       "       1.03137830e+00, 1.14164007e+00, 1.17813786e+00, 1.21315379e+00,\n",
       "       1.28560054e+00, 1.30568805e+00, 1.25607300e+00, 1.21836776e+00,\n",
       "       1.08911617e+00, 8.47956301e-01, 6.71120366e-01, 5.18652883e-01,\n",
       "       3.94011539e-01, 2.58448299e-01, 1.59273086e-01, 9.59370624e-02,\n",
       "       7.09648865e-02, 4.97248161e-02, 4.07787399e-02, 2.56307827e-02,\n",
       "       1.97033212e-02, 1.48735377e-02, 1.13609679e-02, 7.35444300e-03,\n",
       "       7.62886251e-03, 7.18979129e-03, 5.21397078e-03, 4.55536395e-03,\n",
       "       5.15908688e-03, 3.84187321e-03, 3.29303418e-03, 3.29303418e-03,\n",
       "       2.85396295e-03, 3.78698931e-03, 4.06140882e-03, 3.34791808e-03,\n",
       "       4.17117663e-03, 9.87910253e-04, 8.78142448e-04, 5.48839030e-04,\n",
       "       2.74419515e-04, 4.39071224e-04, 5.48839030e-04, 1.64651709e-04,\n",
       "       2.19535612e-04, 2.74419515e-04, 1.64651709e-04, 5.48839030e-05,\n",
       "       0.00000000e+00, 0.00000000e+00, 5.48839030e-05, 5.48839030e-05])"
      ]
     },
     "execution_count": 409,
     "metadata": {},
     "output_type": "execute_result"
    }
   ],
   "source": [
    "stack[:,3]"
   ]
  },
  {
   "cell_type": "code",
   "execution_count": 401,
   "metadata": {},
   "outputs": [
    {
     "data": {
      "text/plain": [
       "(100, 6)"
      ]
     },
     "execution_count": 401,
     "metadata": {},
     "output_type": "execute_result"
    }
   ],
   "source": [
    "stack.shape"
   ]
  },
  {
   "cell_type": "code",
   "execution_count": 403,
   "metadata": {},
   "outputs": [
    {
     "data": {
      "application/javascript": [
       "/* Put everything inside the global mpl namespace */\n",
       "window.mpl = {};\n",
       "\n",
       "\n",
       "mpl.get_websocket_type = function() {\n",
       "    if (typeof(WebSocket) !== 'undefined') {\n",
       "        return WebSocket;\n",
       "    } else if (typeof(MozWebSocket) !== 'undefined') {\n",
       "        return MozWebSocket;\n",
       "    } else {\n",
       "        alert('Your browser does not have WebSocket support.' +\n",
       "              'Please try Chrome, Safari or Firefox ≥ 6. ' +\n",
       "              'Firefox 4 and 5 are also supported but you ' +\n",
       "              'have to enable WebSockets in about:config.');\n",
       "    };\n",
       "}\n",
       "\n",
       "mpl.figure = function(figure_id, websocket, ondownload, parent_element) {\n",
       "    this.id = figure_id;\n",
       "\n",
       "    this.ws = websocket;\n",
       "\n",
       "    this.supports_binary = (this.ws.binaryType != undefined);\n",
       "\n",
       "    if (!this.supports_binary) {\n",
       "        var warnings = document.getElementById(\"mpl-warnings\");\n",
       "        if (warnings) {\n",
       "            warnings.style.display = 'block';\n",
       "            warnings.textContent = (\n",
       "                \"This browser does not support binary websocket messages. \" +\n",
       "                    \"Performance may be slow.\");\n",
       "        }\n",
       "    }\n",
       "\n",
       "    this.imageObj = new Image();\n",
       "\n",
       "    this.context = undefined;\n",
       "    this.message = undefined;\n",
       "    this.canvas = undefined;\n",
       "    this.rubberband_canvas = undefined;\n",
       "    this.rubberband_context = undefined;\n",
       "    this.format_dropdown = undefined;\n",
       "\n",
       "    this.image_mode = 'full';\n",
       "\n",
       "    this.root = $('<div/>');\n",
       "    this._root_extra_style(this.root)\n",
       "    this.root.attr('style', 'display: inline-block');\n",
       "\n",
       "    $(parent_element).append(this.root);\n",
       "\n",
       "    this._init_header(this);\n",
       "    this._init_canvas(this);\n",
       "    this._init_toolbar(this);\n",
       "\n",
       "    var fig = this;\n",
       "\n",
       "    this.waiting = false;\n",
       "\n",
       "    this.ws.onopen =  function () {\n",
       "            fig.send_message(\"supports_binary\", {value: fig.supports_binary});\n",
       "            fig.send_message(\"send_image_mode\", {});\n",
       "            if (mpl.ratio != 1) {\n",
       "                fig.send_message(\"set_dpi_ratio\", {'dpi_ratio': mpl.ratio});\n",
       "            }\n",
       "            fig.send_message(\"refresh\", {});\n",
       "        }\n",
       "\n",
       "    this.imageObj.onload = function() {\n",
       "            if (fig.image_mode == 'full') {\n",
       "                // Full images could contain transparency (where diff images\n",
       "                // almost always do), so we need to clear the canvas so that\n",
       "                // there is no ghosting.\n",
       "                fig.context.clearRect(0, 0, fig.canvas.width, fig.canvas.height);\n",
       "            }\n",
       "            fig.context.drawImage(fig.imageObj, 0, 0);\n",
       "        };\n",
       "\n",
       "    this.imageObj.onunload = function() {\n",
       "        this.ws.close();\n",
       "    }\n",
       "\n",
       "    this.ws.onmessage = this._make_on_message_function(this);\n",
       "\n",
       "    this.ondownload = ondownload;\n",
       "}\n",
       "\n",
       "mpl.figure.prototype._init_header = function() {\n",
       "    var titlebar = $(\n",
       "        '<div class=\"ui-dialog-titlebar ui-widget-header ui-corner-all ' +\n",
       "        'ui-helper-clearfix\"/>');\n",
       "    var titletext = $(\n",
       "        '<div class=\"ui-dialog-title\" style=\"width: 100%; ' +\n",
       "        'text-align: center; padding: 3px;\"/>');\n",
       "    titlebar.append(titletext)\n",
       "    this.root.append(titlebar);\n",
       "    this.header = titletext[0];\n",
       "}\n",
       "\n",
       "\n",
       "\n",
       "mpl.figure.prototype._canvas_extra_style = function(canvas_div) {\n",
       "\n",
       "}\n",
       "\n",
       "\n",
       "mpl.figure.prototype._root_extra_style = function(canvas_div) {\n",
       "\n",
       "}\n",
       "\n",
       "mpl.figure.prototype._init_canvas = function() {\n",
       "    var fig = this;\n",
       "\n",
       "    var canvas_div = $('<div/>');\n",
       "\n",
       "    canvas_div.attr('style', 'position: relative; clear: both; outline: 0');\n",
       "\n",
       "    function canvas_keyboard_event(event) {\n",
       "        return fig.key_event(event, event['data']);\n",
       "    }\n",
       "\n",
       "    canvas_div.keydown('key_press', canvas_keyboard_event);\n",
       "    canvas_div.keyup('key_release', canvas_keyboard_event);\n",
       "    this.canvas_div = canvas_div\n",
       "    this._canvas_extra_style(canvas_div)\n",
       "    this.root.append(canvas_div);\n",
       "\n",
       "    var canvas = $('<canvas/>');\n",
       "    canvas.addClass('mpl-canvas');\n",
       "    canvas.attr('style', \"left: 0; top: 0; z-index: 0; outline: 0\")\n",
       "\n",
       "    this.canvas = canvas[0];\n",
       "    this.context = canvas[0].getContext(\"2d\");\n",
       "\n",
       "    var backingStore = this.context.backingStorePixelRatio ||\n",
       "\tthis.context.webkitBackingStorePixelRatio ||\n",
       "\tthis.context.mozBackingStorePixelRatio ||\n",
       "\tthis.context.msBackingStorePixelRatio ||\n",
       "\tthis.context.oBackingStorePixelRatio ||\n",
       "\tthis.context.backingStorePixelRatio || 1;\n",
       "\n",
       "    mpl.ratio = (window.devicePixelRatio || 1) / backingStore;\n",
       "\n",
       "    var rubberband = $('<canvas/>');\n",
       "    rubberband.attr('style', \"position: absolute; left: 0; top: 0; z-index: 1;\")\n",
       "\n",
       "    var pass_mouse_events = true;\n",
       "\n",
       "    canvas_div.resizable({\n",
       "        start: function(event, ui) {\n",
       "            pass_mouse_events = false;\n",
       "        },\n",
       "        resize: function(event, ui) {\n",
       "            fig.request_resize(ui.size.width, ui.size.height);\n",
       "        },\n",
       "        stop: function(event, ui) {\n",
       "            pass_mouse_events = true;\n",
       "            fig.request_resize(ui.size.width, ui.size.height);\n",
       "        },\n",
       "    });\n",
       "\n",
       "    function mouse_event_fn(event) {\n",
       "        if (pass_mouse_events)\n",
       "            return fig.mouse_event(event, event['data']);\n",
       "    }\n",
       "\n",
       "    rubberband.mousedown('button_press', mouse_event_fn);\n",
       "    rubberband.mouseup('button_release', mouse_event_fn);\n",
       "    // Throttle sequential mouse events to 1 every 20ms.\n",
       "    rubberband.mousemove('motion_notify', mouse_event_fn);\n",
       "\n",
       "    rubberband.mouseenter('figure_enter', mouse_event_fn);\n",
       "    rubberband.mouseleave('figure_leave', mouse_event_fn);\n",
       "\n",
       "    canvas_div.on(\"wheel\", function (event) {\n",
       "        event = event.originalEvent;\n",
       "        event['data'] = 'scroll'\n",
       "        if (event.deltaY < 0) {\n",
       "            event.step = 1;\n",
       "        } else {\n",
       "            event.step = -1;\n",
       "        }\n",
       "        mouse_event_fn(event);\n",
       "    });\n",
       "\n",
       "    canvas_div.append(canvas);\n",
       "    canvas_div.append(rubberband);\n",
       "\n",
       "    this.rubberband = rubberband;\n",
       "    this.rubberband_canvas = rubberband[0];\n",
       "    this.rubberband_context = rubberband[0].getContext(\"2d\");\n",
       "    this.rubberband_context.strokeStyle = \"#000000\";\n",
       "\n",
       "    this._resize_canvas = function(width, height) {\n",
       "        // Keep the size of the canvas, canvas container, and rubber band\n",
       "        // canvas in synch.\n",
       "        canvas_div.css('width', width)\n",
       "        canvas_div.css('height', height)\n",
       "\n",
       "        canvas.attr('width', width * mpl.ratio);\n",
       "        canvas.attr('height', height * mpl.ratio);\n",
       "        canvas.attr('style', 'width: ' + width + 'px; height: ' + height + 'px;');\n",
       "\n",
       "        rubberband.attr('width', width);\n",
       "        rubberband.attr('height', height);\n",
       "    }\n",
       "\n",
       "    // Set the figure to an initial 600x600px, this will subsequently be updated\n",
       "    // upon first draw.\n",
       "    this._resize_canvas(600, 600);\n",
       "\n",
       "    // Disable right mouse context menu.\n",
       "    $(this.rubberband_canvas).bind(\"contextmenu\",function(e){\n",
       "        return false;\n",
       "    });\n",
       "\n",
       "    function set_focus () {\n",
       "        canvas.focus();\n",
       "        canvas_div.focus();\n",
       "    }\n",
       "\n",
       "    window.setTimeout(set_focus, 100);\n",
       "}\n",
       "\n",
       "mpl.figure.prototype._init_toolbar = function() {\n",
       "    var fig = this;\n",
       "\n",
       "    var nav_element = $('<div/>')\n",
       "    nav_element.attr('style', 'width: 100%');\n",
       "    this.root.append(nav_element);\n",
       "\n",
       "    // Define a callback function for later on.\n",
       "    function toolbar_event(event) {\n",
       "        return fig.toolbar_button_onclick(event['data']);\n",
       "    }\n",
       "    function toolbar_mouse_event(event) {\n",
       "        return fig.toolbar_button_onmouseover(event['data']);\n",
       "    }\n",
       "\n",
       "    for(var toolbar_ind in mpl.toolbar_items) {\n",
       "        var name = mpl.toolbar_items[toolbar_ind][0];\n",
       "        var tooltip = mpl.toolbar_items[toolbar_ind][1];\n",
       "        var image = mpl.toolbar_items[toolbar_ind][2];\n",
       "        var method_name = mpl.toolbar_items[toolbar_ind][3];\n",
       "\n",
       "        if (!name) {\n",
       "            // put a spacer in here.\n",
       "            continue;\n",
       "        }\n",
       "        var button = $('<button/>');\n",
       "        button.addClass('ui-button ui-widget ui-state-default ui-corner-all ' +\n",
       "                        'ui-button-icon-only');\n",
       "        button.attr('role', 'button');\n",
       "        button.attr('aria-disabled', 'false');\n",
       "        button.click(method_name, toolbar_event);\n",
       "        button.mouseover(tooltip, toolbar_mouse_event);\n",
       "\n",
       "        var icon_img = $('<span/>');\n",
       "        icon_img.addClass('ui-button-icon-primary ui-icon');\n",
       "        icon_img.addClass(image);\n",
       "        icon_img.addClass('ui-corner-all');\n",
       "\n",
       "        var tooltip_span = $('<span/>');\n",
       "        tooltip_span.addClass('ui-button-text');\n",
       "        tooltip_span.html(tooltip);\n",
       "\n",
       "        button.append(icon_img);\n",
       "        button.append(tooltip_span);\n",
       "\n",
       "        nav_element.append(button);\n",
       "    }\n",
       "\n",
       "    var fmt_picker_span = $('<span/>');\n",
       "\n",
       "    var fmt_picker = $('<select/>');\n",
       "    fmt_picker.addClass('mpl-toolbar-option ui-widget ui-widget-content');\n",
       "    fmt_picker_span.append(fmt_picker);\n",
       "    nav_element.append(fmt_picker_span);\n",
       "    this.format_dropdown = fmt_picker[0];\n",
       "\n",
       "    for (var ind in mpl.extensions) {\n",
       "        var fmt = mpl.extensions[ind];\n",
       "        var option = $(\n",
       "            '<option/>', {selected: fmt === mpl.default_extension}).html(fmt);\n",
       "        fmt_picker.append(option)\n",
       "    }\n",
       "\n",
       "    // Add hover states to the ui-buttons\n",
       "    $( \".ui-button\" ).hover(\n",
       "        function() { $(this).addClass(\"ui-state-hover\");},\n",
       "        function() { $(this).removeClass(\"ui-state-hover\");}\n",
       "    );\n",
       "\n",
       "    var status_bar = $('<span class=\"mpl-message\"/>');\n",
       "    nav_element.append(status_bar);\n",
       "    this.message = status_bar[0];\n",
       "}\n",
       "\n",
       "mpl.figure.prototype.request_resize = function(x_pixels, y_pixels) {\n",
       "    // Request matplotlib to resize the figure. Matplotlib will then trigger a resize in the client,\n",
       "    // which will in turn request a refresh of the image.\n",
       "    this.send_message('resize', {'width': x_pixels, 'height': y_pixels});\n",
       "}\n",
       "\n",
       "mpl.figure.prototype.send_message = function(type, properties) {\n",
       "    properties['type'] = type;\n",
       "    properties['figure_id'] = this.id;\n",
       "    this.ws.send(JSON.stringify(properties));\n",
       "}\n",
       "\n",
       "mpl.figure.prototype.send_draw_message = function() {\n",
       "    if (!this.waiting) {\n",
       "        this.waiting = true;\n",
       "        this.ws.send(JSON.stringify({type: \"draw\", figure_id: this.id}));\n",
       "    }\n",
       "}\n",
       "\n",
       "\n",
       "mpl.figure.prototype.handle_save = function(fig, msg) {\n",
       "    var format_dropdown = fig.format_dropdown;\n",
       "    var format = format_dropdown.options[format_dropdown.selectedIndex].value;\n",
       "    fig.ondownload(fig, format);\n",
       "}\n",
       "\n",
       "\n",
       "mpl.figure.prototype.handle_resize = function(fig, msg) {\n",
       "    var size = msg['size'];\n",
       "    if (size[0] != fig.canvas.width || size[1] != fig.canvas.height) {\n",
       "        fig._resize_canvas(size[0], size[1]);\n",
       "        fig.send_message(\"refresh\", {});\n",
       "    };\n",
       "}\n",
       "\n",
       "mpl.figure.prototype.handle_rubberband = function(fig, msg) {\n",
       "    var x0 = msg['x0'] / mpl.ratio;\n",
       "    var y0 = (fig.canvas.height - msg['y0']) / mpl.ratio;\n",
       "    var x1 = msg['x1'] / mpl.ratio;\n",
       "    var y1 = (fig.canvas.height - msg['y1']) / mpl.ratio;\n",
       "    x0 = Math.floor(x0) + 0.5;\n",
       "    y0 = Math.floor(y0) + 0.5;\n",
       "    x1 = Math.floor(x1) + 0.5;\n",
       "    y1 = Math.floor(y1) + 0.5;\n",
       "    var min_x = Math.min(x0, x1);\n",
       "    var min_y = Math.min(y0, y1);\n",
       "    var width = Math.abs(x1 - x0);\n",
       "    var height = Math.abs(y1 - y0);\n",
       "\n",
       "    fig.rubberband_context.clearRect(\n",
       "        0, 0, fig.canvas.width, fig.canvas.height);\n",
       "\n",
       "    fig.rubberband_context.strokeRect(min_x, min_y, width, height);\n",
       "}\n",
       "\n",
       "mpl.figure.prototype.handle_figure_label = function(fig, msg) {\n",
       "    // Updates the figure title.\n",
       "    fig.header.textContent = msg['label'];\n",
       "}\n",
       "\n",
       "mpl.figure.prototype.handle_cursor = function(fig, msg) {\n",
       "    var cursor = msg['cursor'];\n",
       "    switch(cursor)\n",
       "    {\n",
       "    case 0:\n",
       "        cursor = 'pointer';\n",
       "        break;\n",
       "    case 1:\n",
       "        cursor = 'default';\n",
       "        break;\n",
       "    case 2:\n",
       "        cursor = 'crosshair';\n",
       "        break;\n",
       "    case 3:\n",
       "        cursor = 'move';\n",
       "        break;\n",
       "    }\n",
       "    fig.rubberband_canvas.style.cursor = cursor;\n",
       "}\n",
       "\n",
       "mpl.figure.prototype.handle_message = function(fig, msg) {\n",
       "    fig.message.textContent = msg['message'];\n",
       "}\n",
       "\n",
       "mpl.figure.prototype.handle_draw = function(fig, msg) {\n",
       "    // Request the server to send over a new figure.\n",
       "    fig.send_draw_message();\n",
       "}\n",
       "\n",
       "mpl.figure.prototype.handle_image_mode = function(fig, msg) {\n",
       "    fig.image_mode = msg['mode'];\n",
       "}\n",
       "\n",
       "mpl.figure.prototype.updated_canvas_event = function() {\n",
       "    // Called whenever the canvas gets updated.\n",
       "    this.send_message(\"ack\", {});\n",
       "}\n",
       "\n",
       "// A function to construct a web socket function for onmessage handling.\n",
       "// Called in the figure constructor.\n",
       "mpl.figure.prototype._make_on_message_function = function(fig) {\n",
       "    return function socket_on_message(evt) {\n",
       "        if (evt.data instanceof Blob) {\n",
       "            /* FIXME: We get \"Resource interpreted as Image but\n",
       "             * transferred with MIME type text/plain:\" errors on\n",
       "             * Chrome.  But how to set the MIME type?  It doesn't seem\n",
       "             * to be part of the websocket stream */\n",
       "            evt.data.type = \"image/png\";\n",
       "\n",
       "            /* Free the memory for the previous frames */\n",
       "            if (fig.imageObj.src) {\n",
       "                (window.URL || window.webkitURL).revokeObjectURL(\n",
       "                    fig.imageObj.src);\n",
       "            }\n",
       "\n",
       "            fig.imageObj.src = (window.URL || window.webkitURL).createObjectURL(\n",
       "                evt.data);\n",
       "            fig.updated_canvas_event();\n",
       "            fig.waiting = false;\n",
       "            return;\n",
       "        }\n",
       "        else if (typeof evt.data === 'string' && evt.data.slice(0, 21) == \"data:image/png;base64\") {\n",
       "            fig.imageObj.src = evt.data;\n",
       "            fig.updated_canvas_event();\n",
       "            fig.waiting = false;\n",
       "            return;\n",
       "        }\n",
       "\n",
       "        var msg = JSON.parse(evt.data);\n",
       "        var msg_type = msg['type'];\n",
       "\n",
       "        // Call the  \"handle_{type}\" callback, which takes\n",
       "        // the figure and JSON message as its only arguments.\n",
       "        try {\n",
       "            var callback = fig[\"handle_\" + msg_type];\n",
       "        } catch (e) {\n",
       "            console.log(\"No handler for the '\" + msg_type + \"' message type: \", msg);\n",
       "            return;\n",
       "        }\n",
       "\n",
       "        if (callback) {\n",
       "            try {\n",
       "                // console.log(\"Handling '\" + msg_type + \"' message: \", msg);\n",
       "                callback(fig, msg);\n",
       "            } catch (e) {\n",
       "                console.log(\"Exception inside the 'handler_\" + msg_type + \"' callback:\", e, e.stack, msg);\n",
       "            }\n",
       "        }\n",
       "    };\n",
       "}\n",
       "\n",
       "// from http://stackoverflow.com/questions/1114465/getting-mouse-location-in-canvas\n",
       "mpl.findpos = function(e) {\n",
       "    //this section is from http://www.quirksmode.org/js/events_properties.html\n",
       "    var targ;\n",
       "    if (!e)\n",
       "        e = window.event;\n",
       "    if (e.target)\n",
       "        targ = e.target;\n",
       "    else if (e.srcElement)\n",
       "        targ = e.srcElement;\n",
       "    if (targ.nodeType == 3) // defeat Safari bug\n",
       "        targ = targ.parentNode;\n",
       "\n",
       "    // jQuery normalizes the pageX and pageY\n",
       "    // pageX,Y are the mouse positions relative to the document\n",
       "    // offset() returns the position of the element relative to the document\n",
       "    var x = e.pageX - $(targ).offset().left;\n",
       "    var y = e.pageY - $(targ).offset().top;\n",
       "\n",
       "    return {\"x\": x, \"y\": y};\n",
       "};\n",
       "\n",
       "/*\n",
       " * return a copy of an object with only non-object keys\n",
       " * we need this to avoid circular references\n",
       " * http://stackoverflow.com/a/24161582/3208463\n",
       " */\n",
       "function simpleKeys (original) {\n",
       "  return Object.keys(original).reduce(function (obj, key) {\n",
       "    if (typeof original[key] !== 'object')\n",
       "        obj[key] = original[key]\n",
       "    return obj;\n",
       "  }, {});\n",
       "}\n",
       "\n",
       "mpl.figure.prototype.mouse_event = function(event, name) {\n",
       "    var canvas_pos = mpl.findpos(event)\n",
       "\n",
       "    if (name === 'button_press')\n",
       "    {\n",
       "        this.canvas.focus();\n",
       "        this.canvas_div.focus();\n",
       "    }\n",
       "\n",
       "    var x = canvas_pos.x * mpl.ratio;\n",
       "    var y = canvas_pos.y * mpl.ratio;\n",
       "\n",
       "    this.send_message(name, {x: x, y: y, button: event.button,\n",
       "                             step: event.step,\n",
       "                             guiEvent: simpleKeys(event)});\n",
       "\n",
       "    /* This prevents the web browser from automatically changing to\n",
       "     * the text insertion cursor when the button is pressed.  We want\n",
       "     * to control all of the cursor setting manually through the\n",
       "     * 'cursor' event from matplotlib */\n",
       "    event.preventDefault();\n",
       "    return false;\n",
       "}\n",
       "\n",
       "mpl.figure.prototype._key_event_extra = function(event, name) {\n",
       "    // Handle any extra behaviour associated with a key event\n",
       "}\n",
       "\n",
       "mpl.figure.prototype.key_event = function(event, name) {\n",
       "\n",
       "    // Prevent repeat events\n",
       "    if (name == 'key_press')\n",
       "    {\n",
       "        if (event.which === this._key)\n",
       "            return;\n",
       "        else\n",
       "            this._key = event.which;\n",
       "    }\n",
       "    if (name == 'key_release')\n",
       "        this._key = null;\n",
       "\n",
       "    var value = '';\n",
       "    if (event.ctrlKey && event.which != 17)\n",
       "        value += \"ctrl+\";\n",
       "    if (event.altKey && event.which != 18)\n",
       "        value += \"alt+\";\n",
       "    if (event.shiftKey && event.which != 16)\n",
       "        value += \"shift+\";\n",
       "\n",
       "    value += 'k';\n",
       "    value += event.which.toString();\n",
       "\n",
       "    this._key_event_extra(event, name);\n",
       "\n",
       "    this.send_message(name, {key: value,\n",
       "                             guiEvent: simpleKeys(event)});\n",
       "    return false;\n",
       "}\n",
       "\n",
       "mpl.figure.prototype.toolbar_button_onclick = function(name) {\n",
       "    if (name == 'download') {\n",
       "        this.handle_save(this, null);\n",
       "    } else {\n",
       "        this.send_message(\"toolbar_button\", {name: name});\n",
       "    }\n",
       "};\n",
       "\n",
       "mpl.figure.prototype.toolbar_button_onmouseover = function(tooltip) {\n",
       "    this.message.textContent = tooltip;\n",
       "};\n",
       "mpl.toolbar_items = [[\"Home\", \"Reset original view\", \"fa fa-home icon-home\", \"home\"], [\"Back\", \"Back to  previous view\", \"fa fa-arrow-left icon-arrow-left\", \"back\"], [\"Forward\", \"Forward to next view\", \"fa fa-arrow-right icon-arrow-right\", \"forward\"], [\"\", \"\", \"\", \"\"], [\"Pan\", \"Pan axes with left mouse, zoom with right\", \"fa fa-arrows icon-move\", \"pan\"], [\"Zoom\", \"Zoom to rectangle\", \"fa fa-square-o icon-check-empty\", \"zoom\"], [\"\", \"\", \"\", \"\"], [\"Download\", \"Download plot\", \"fa fa-floppy-o icon-save\", \"download\"]];\n",
       "\n",
       "mpl.extensions = [\"eps\", \"jpeg\", \"pdf\", \"png\", \"ps\", \"raw\", \"svg\", \"tif\"];\n",
       "\n",
       "mpl.default_extension = \"png\";var comm_websocket_adapter = function(comm) {\n",
       "    // Create a \"websocket\"-like object which calls the given IPython comm\n",
       "    // object with the appropriate methods. Currently this is a non binary\n",
       "    // socket, so there is still some room for performance tuning.\n",
       "    var ws = {};\n",
       "\n",
       "    ws.close = function() {\n",
       "        comm.close()\n",
       "    };\n",
       "    ws.send = function(m) {\n",
       "        //console.log('sending', m);\n",
       "        comm.send(m);\n",
       "    };\n",
       "    // Register the callback with on_msg.\n",
       "    comm.on_msg(function(msg) {\n",
       "        //console.log('receiving', msg['content']['data'], msg);\n",
       "        // Pass the mpl event to the overriden (by mpl) onmessage function.\n",
       "        ws.onmessage(msg['content']['data'])\n",
       "    });\n",
       "    return ws;\n",
       "}\n",
       "\n",
       "mpl.mpl_figure_comm = function(comm, msg) {\n",
       "    // This is the function which gets called when the mpl process\n",
       "    // starts-up an IPython Comm through the \"matplotlib\" channel.\n",
       "\n",
       "    var id = msg.content.data.id;\n",
       "    // Get hold of the div created by the display call when the Comm\n",
       "    // socket was opened in Python.\n",
       "    var element = $(\"#\" + id);\n",
       "    var ws_proxy = comm_websocket_adapter(comm)\n",
       "\n",
       "    function ondownload(figure, format) {\n",
       "        window.open(figure.imageObj.src);\n",
       "    }\n",
       "\n",
       "    var fig = new mpl.figure(id, ws_proxy,\n",
       "                           ondownload,\n",
       "                           element.get(0));\n",
       "\n",
       "    // Call onopen now - mpl needs it, as it is assuming we've passed it a real\n",
       "    // web socket which is closed, not our websocket->open comm proxy.\n",
       "    ws_proxy.onopen();\n",
       "\n",
       "    fig.parent_element = element.get(0);\n",
       "    fig.cell_info = mpl.find_output_cell(\"<div id='\" + id + \"'></div>\");\n",
       "    if (!fig.cell_info) {\n",
       "        console.error(\"Failed to find cell for figure\", id, fig);\n",
       "        return;\n",
       "    }\n",
       "\n",
       "    var output_index = fig.cell_info[2]\n",
       "    var cell = fig.cell_info[0];\n",
       "\n",
       "};\n",
       "\n",
       "mpl.figure.prototype.handle_close = function(fig, msg) {\n",
       "    var width = fig.canvas.width/mpl.ratio\n",
       "    fig.root.unbind('remove')\n",
       "\n",
       "    // Update the output cell to use the data from the current canvas.\n",
       "    fig.push_to_output();\n",
       "    var dataURL = fig.canvas.toDataURL();\n",
       "    // Re-enable the keyboard manager in IPython - without this line, in FF,\n",
       "    // the notebook keyboard shortcuts fail.\n",
       "    IPython.keyboard_manager.enable()\n",
       "    $(fig.parent_element).html('<img src=\"' + dataURL + '\" width=\"' + width + '\">');\n",
       "    fig.close_ws(fig, msg);\n",
       "}\n",
       "\n",
       "mpl.figure.prototype.close_ws = function(fig, msg){\n",
       "    fig.send_message('closing', msg);\n",
       "    // fig.ws.close()\n",
       "}\n",
       "\n",
       "mpl.figure.prototype.push_to_output = function(remove_interactive) {\n",
       "    // Turn the data on the canvas into data in the output cell.\n",
       "    var width = this.canvas.width/mpl.ratio\n",
       "    var dataURL = this.canvas.toDataURL();\n",
       "    this.cell_info[1]['text/html'] = '<img src=\"' + dataURL + '\" width=\"' + width + '\">';\n",
       "}\n",
       "\n",
       "mpl.figure.prototype.updated_canvas_event = function() {\n",
       "    // Tell IPython that the notebook contents must change.\n",
       "    IPython.notebook.set_dirty(true);\n",
       "    this.send_message(\"ack\", {});\n",
       "    var fig = this;\n",
       "    // Wait a second, then push the new image to the DOM so\n",
       "    // that it is saved nicely (might be nice to debounce this).\n",
       "    setTimeout(function () { fig.push_to_output() }, 1000);\n",
       "}\n",
       "\n",
       "mpl.figure.prototype._init_toolbar = function() {\n",
       "    var fig = this;\n",
       "\n",
       "    var nav_element = $('<div/>')\n",
       "    nav_element.attr('style', 'width: 100%');\n",
       "    this.root.append(nav_element);\n",
       "\n",
       "    // Define a callback function for later on.\n",
       "    function toolbar_event(event) {\n",
       "        return fig.toolbar_button_onclick(event['data']);\n",
       "    }\n",
       "    function toolbar_mouse_event(event) {\n",
       "        return fig.toolbar_button_onmouseover(event['data']);\n",
       "    }\n",
       "\n",
       "    for(var toolbar_ind in mpl.toolbar_items){\n",
       "        var name = mpl.toolbar_items[toolbar_ind][0];\n",
       "        var tooltip = mpl.toolbar_items[toolbar_ind][1];\n",
       "        var image = mpl.toolbar_items[toolbar_ind][2];\n",
       "        var method_name = mpl.toolbar_items[toolbar_ind][3];\n",
       "\n",
       "        if (!name) { continue; };\n",
       "\n",
       "        var button = $('<button class=\"btn btn-default\" href=\"#\" title=\"' + name + '\"><i class=\"fa ' + image + ' fa-lg\"></i></button>');\n",
       "        button.click(method_name, toolbar_event);\n",
       "        button.mouseover(tooltip, toolbar_mouse_event);\n",
       "        nav_element.append(button);\n",
       "    }\n",
       "\n",
       "    // Add the status bar.\n",
       "    var status_bar = $('<span class=\"mpl-message\" style=\"text-align:right; float: right;\"/>');\n",
       "    nav_element.append(status_bar);\n",
       "    this.message = status_bar[0];\n",
       "\n",
       "    // Add the close button to the window.\n",
       "    var buttongrp = $('<div class=\"btn-group inline pull-right\"></div>');\n",
       "    var button = $('<button class=\"btn btn-mini btn-primary\" href=\"#\" title=\"Stop Interaction\"><i class=\"fa fa-power-off icon-remove icon-large\"></i></button>');\n",
       "    button.click(function (evt) { fig.handle_close(fig, {}); } );\n",
       "    button.mouseover('Stop Interaction', toolbar_mouse_event);\n",
       "    buttongrp.append(button);\n",
       "    var titlebar = this.root.find($('.ui-dialog-titlebar'));\n",
       "    titlebar.prepend(buttongrp);\n",
       "}\n",
       "\n",
       "mpl.figure.prototype._root_extra_style = function(el){\n",
       "    var fig = this\n",
       "    el.on(\"remove\", function(){\n",
       "\tfig.close_ws(fig, {});\n",
       "    });\n",
       "}\n",
       "\n",
       "mpl.figure.prototype._canvas_extra_style = function(el){\n",
       "    // this is important to make the div 'focusable\n",
       "    el.attr('tabindex', 0)\n",
       "    // reach out to IPython and tell the keyboard manager to turn it's self\n",
       "    // off when our div gets focus\n",
       "\n",
       "    // location in version 3\n",
       "    if (IPython.notebook.keyboard_manager) {\n",
       "        IPython.notebook.keyboard_manager.register_events(el);\n",
       "    }\n",
       "    else {\n",
       "        // location in version 2\n",
       "        IPython.keyboard_manager.register_events(el);\n",
       "    }\n",
       "\n",
       "}\n",
       "\n",
       "mpl.figure.prototype._key_event_extra = function(event, name) {\n",
       "    var manager = IPython.notebook.keyboard_manager;\n",
       "    if (!manager)\n",
       "        manager = IPython.keyboard_manager;\n",
       "\n",
       "    // Check for shift+enter\n",
       "    if (event.shiftKey && event.which == 13) {\n",
       "        this.canvas_div.blur();\n",
       "        // select the cell after this one\n",
       "        var index = IPython.notebook.find_cell_index(this.cell_info[0]);\n",
       "        IPython.notebook.select(index + 1);\n",
       "    }\n",
       "}\n",
       "\n",
       "mpl.figure.prototype.handle_save = function(fig, msg) {\n",
       "    fig.ondownload(fig, null);\n",
       "}\n",
       "\n",
       "\n",
       "mpl.find_output_cell = function(html_output) {\n",
       "    // Return the cell and output element which can be found *uniquely* in the notebook.\n",
       "    // Note - this is a bit hacky, but it is done because the \"notebook_saving.Notebook\"\n",
       "    // IPython event is triggered only after the cells have been serialised, which for\n",
       "    // our purposes (turning an active figure into a static one), is too late.\n",
       "    var cells = IPython.notebook.get_cells();\n",
       "    var ncells = cells.length;\n",
       "    for (var i=0; i<ncells; i++) {\n",
       "        var cell = cells[i];\n",
       "        if (cell.cell_type === 'code'){\n",
       "            for (var j=0; j<cell.output_area.outputs.length; j++) {\n",
       "                var data = cell.output_area.outputs[j];\n",
       "                if (data.data) {\n",
       "                    // IPython >= 3 moved mimebundle to data attribute of output\n",
       "                    data = data.data;\n",
       "                }\n",
       "                if (data['text/html'] == html_output) {\n",
       "                    return [cell, data, j];\n",
       "                }\n",
       "            }\n",
       "        }\n",
       "    }\n",
       "}\n",
       "\n",
       "// Register the function which deals with the matplotlib target/channel.\n",
       "// The kernel may be null if the page has been refreshed.\n",
       "if (IPython.notebook.kernel != null) {\n",
       "    IPython.notebook.kernel.comm_manager.register_target('matplotlib', mpl.mpl_figure_comm);\n",
       "}\n"
      ],
      "text/plain": [
       "<IPython.core.display.Javascript object>"
      ]
     },
     "metadata": {},
     "output_type": "display_data"
    },
    {
     "data": {
      "text/html": [
       "<img src=\"data:image/png;base64,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\" width=\"640\">"
      ],
      "text/plain": [
       "<IPython.core.display.HTML object>"
      ]
     },
     "metadata": {},
     "output_type": "display_data"
    },
    {
     "data": {
      "text/plain": [
       "[<matplotlib.lines.Line2D at 0x11ef875c0>]"
      ]
     },
     "execution_count": 403,
     "metadata": {},
     "output_type": "execute_result"
    }
   ],
   "source": [
    "fig=plt.figure()\n",
    "ax=fig.gca()\n",
    "\n",
    "ax.step(stack[:,0],stack[:,1],color='b',label=\"PCON (MOON)\")"
   ]
  },
  {
   "cell_type": "code",
   "execution_count": null,
   "metadata": {},
   "outputs": [],
   "source": []
  }
 ],
 "metadata": {
  "kernelspec": {
   "display_name": "Python 3",
   "language": "python",
   "name": "python3"
  },
  "language_info": {
   "codemirror_mode": {
    "name": "ipython",
    "version": 3
   },
   "file_extension": ".py",
   "mimetype": "text/x-python",
   "name": "python",
   "nbconvert_exporter": "python",
   "pygments_lexer": "ipython3",
   "version": "3.6.8"
  }
 },
 "nbformat": 4,
 "nbformat_minor": 2
}
