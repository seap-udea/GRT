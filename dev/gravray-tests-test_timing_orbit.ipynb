{
 "cells": [
  {
   "cell_type": "markdown",
   "metadata": {},
   "source": [
    "# Test of GravRay Orbit"
   ]
  },
  {
   "cell_type": "code",
   "execution_count": 21,
   "metadata": {},
   "outputs": [
    {
     "data": {
      "application/javascript": [
       "IPython.notebook.kernel.execute('FILE=\"' + IPython.notebook.notebook_name + '\"')"
      ],
      "text/plain": [
       "<IPython.core.display.Javascript object>"
      ]
     },
     "metadata": {},
     "output_type": "display_data"
    },
    {
     "name": "stdout",
     "output_type": "stream",
     "text": [
      "The autoreload extension is already loaded. To reload it, use:\n",
      "  %reload_ext autoreload\n"
     ]
    }
   ],
   "source": [
    "from gravray import *\n",
    "from gravray.util import *\n",
    "from gravray.spice import *\n",
    "from gravray.orbit import *"
   ]
  },
  {
   "cell_type": "code",
   "execution_count": 22,
   "metadata": {},
   "outputs": [
    {
     "data": {
      "application/javascript": [
       "IPython.notebook.kernel.execute('FILE=\"' + IPython.notebook.notebook_name + '\"')"
      ],
      "text/plain": [
       "<IPython.core.display.Javascript object>"
      ]
     },
     "metadata": {},
     "output_type": "display_data"
    }
   ],
   "source": [
    "%%javascript\n",
    "IPython.notebook.kernel.execute('FILE=\"' + IPython.notebook.notebook_name + '\"')"
   ]
  },
  {
   "cell_type": "code",
   "execution_count": 23,
   "metadata": {},
   "outputs": [
    {
     "name": "stdout",
     "output_type": "stream",
     "text": [
      "The autoreload extension is already loaded. To reload it, use:\n",
      "  %reload_ext autoreload\n"
     ]
    }
   ],
   "source": [
    "%load_ext autoreload\n",
    "%autoreload 2"
   ]
  },
  {
   "cell_type": "markdown",
   "metadata": {},
   "source": [
    "# Test Orbit Class\n",
    "\n",
    "Test suite of the Orbit submodule of GravRay."
   ]
  },
  {
   "cell_type": "code",
   "execution_count": 24,
   "metadata": {},
   "outputs": [],
   "source": [
    "Spice.loadKernels()"
   ]
  },
  {
   "cell_type": "code",
   "execution_count": 39,
   "metadata": {},
   "outputs": [],
   "source": [
    "TIMING=1\n",
    "TEST=1"
   ]
  },
  {
   "cell_type": "code",
   "execution_count": 40,
   "metadata": {},
   "outputs": [],
   "source": [
    "import unittest\n",
    "class Test(unittest.TestCase):\n",
    "    \n",
    "    #Orbit\n",
    "    orbit=KeplerianOrbit(1.0)\n",
    "\n",
    "    #Involved bodies\n",
    "    earth=Body(\"EARTH\")\n",
    "    moon=Body(\"MOON\")\n",
    "    \n",
    "    #Chelyabinsk impact\n",
    "    #Time\n",
    "    tdb_chely=Spice.str2t(\"02/15/2013 3:20:34 UTC\")\n",
    "    #Location\n",
    "    chely=Location(earth,61.1*Angle.Deg,54.8*Angle.Deg,23.3*Const.km)\n",
    "    #Ray\n",
    "    ray_chely=GrtRay(chely,101.1*Angle.Deg,15.9*Angle.Deg,-18.6*Const.km)\n",
    "    \n",
    "    #Moon impact\n",
    "    tdb_moon=Spice.str2t(\"2000 JAN 02 12:00:00 UTC\")\n",
    "    #Location\n",
    "    crater=Location(moon,45.6452*Angle.Deg,41.1274*Angle.Deg,10.0*Const.km)\n",
    "    #Ray\n",
    "    ray_crater=GrtRay(crater,1.6502*Angle.Deg,56.981*Angle.Deg,-4.466*Const.km)\n",
    "    \n",
    "    #Arbitray impact\n",
    "    tdb_arb=Spice.str2t(\"2000 JAN 01 12:00:00 UTC\")\n",
    "    site=Location(earth,25.0*Angle.Deg,53.0*Angle.Deg,100.0*Const.km)\n",
    "    ray_site=GrtRay(site,40.0*Angle.Deg,20.0*Angle.Deg,-20.0*Const.km)\n",
    "\n",
    "    def timing_update_ray(self):\n",
    "        self.ray_chely.updateRay(self.tdb_chely)\n",
    "\n",
    "    def timing_propagate_ray_earth(self):\n",
    "        self.ray_chely.propagateRay(self.tdb_chely)\n",
    "\n",
    "    def timing_propagate_ray_moon(self):\n",
    "        self.ray_crater.propagateRay(self.tdb_moon)\n",
    "\n",
    "    def timing_set_by_state_hyperbola(self):\n",
    "        state=[-1.02,0.74,1.25,-0.98,-0.56,0.56]\n",
    "        self.orbit.setState(state,0.0)\n",
    "     \n",
    "    def timing_set_by_elements_ellipse(self):\n",
    "        mu=1\n",
    "        q=1.3\n",
    "        e=0.6\n",
    "        i=45.0\n",
    "        w=30.0\n",
    "        W=60.0\n",
    "        M=20.0\n",
    "        self.orbit.setElements([q,e,i*Angle.Deg,W*Angle.Deg,w*Angle.Deg,M*Angle.Deg],0.0)\n",
    "\n",
    "    def timing_set_by_elements_hyperbola(self):\n",
    "        mu=1\n",
    "        q=1.3\n",
    "        e=1.6\n",
    "        i=45.0\n",
    "        w=30.0\n",
    "        W=60.0\n",
    "        M=20.0\n",
    "        self.orbit.setElements([q,e,i*Angle.Deg,W*Angle.Deg,w*Angle.Deg,M*Angle.Deg],0.0)\n",
    "\n",
    "    def timing_set_bound_ellipse(self):\n",
    "        mu=1\n",
    "        q=0.8\n",
    "        e=0.6\n",
    "        i=45.0\n",
    "        w=30.0\n",
    "        W=60.0\n",
    "        M=20.0\n",
    "        self.orbit.setElements([q,e,i*Angle.Deg,W*Angle.Deg,w*Angle.Deg,M*Angle.Deg],0.0)\n",
    "\n",
    "    #\"\"\" START COMMENT\n",
    "    def test_update_by_time(self):\n",
    "        self.ray_chely.propagateRay(self.tdb_chely)\n",
    "        t=self.ray_chely.states[0][0]\n",
    "        mu=self.ray_chely.states[0][1]\n",
    "        state=deepcopy(self.ray_chely.states[0][3])\n",
    "        orbit=KeplerianOrbit(mu)\n",
    "        orbit.setState(state,t)\n",
    "        Md,deltat,state=orbit.calcStateByTime(414068235.2925538)\n",
    "        self.assertEqual(np.isclose([Md,deltat],\n",
    "                                    [-790.1856733717548,-102198.707446203],rtol=1e-5).tolist(),[True]*2)\n",
    "        self.assertEqual(np.isclose(state,\n",
    "                                    [ 1.33667947e+09,-6.32323959e+08,2.41440625e+08,\n",
    "                                     -1.30172709e+04,6.13849049e+03,-2.27590686e+03],\n",
    "                                    rtol=1e-5).tolist(),[True]*6)\n",
    "        \n",
    "    def test_update_by_distance(self):\n",
    "        self.ray_chely.propagateRay(self.tdb_chely)\n",
    "        t=self.ray_chely.states[0][0]\n",
    "        mu=self.ray_chely.states[0][1]\n",
    "        state=deepcopy(self.ray_chely.states[0][3])\n",
    "        orbit=KeplerianOrbit(mu)\n",
    "        orbit.setState(state,t)\n",
    "        Md,deltat,state=orbit.calcStateByDistance(self.earth.rhill,direction=-1)        \n",
    "        self.assertEqual(np.isclose([Md,deltat],\n",
    "                                    [-790.1856733717548,-102198.707446203],rtol=1e-5).tolist(),[True]*2)\n",
    "        self.assertEqual(np.isclose(state,\n",
    "                                    [ 1.33667947e+09,-6.32323959e+08,2.41440625e+08,\n",
    "                                     -1.30172709e+04,6.13849049e+03,-2.27590686e+03],\n",
    "                                    rtol=1e-5).tolist(),[True]*6)\n",
    "        \n",
    "    def test_ray_detjacobian_chely(self):\n",
    "        self.ray_chely.propagateRay(self.tdb_chely)\n",
    "        detJ=self.ray_chely.calcJacobianDeterminant()\n",
    "        self.assertEqual(np.isclose([detJ],[-5.369756753915885e-13],rtol=1e-5).tolist(),[True])\n",
    "\n",
    "        #Numerical Jacobian\n",
    "        def Rimp2Ehel(X):\n",
    "            global tdb\n",
    "            lon,lat,alt,A,h,v=X\n",
    "            site=Location(self.earth,lon,lat,alt)\n",
    "            ray=GrtRay(site,A,h,v)\n",
    "            ray.propagateRay(self.tdb_chely)\n",
    "            hel=ray.terminal\n",
    "            return hel.celements\n",
    "        X=self.ray_chely.Rimp\n",
    "        dX=np.abs(X*1e-5)\n",
    "        y,Jhi=Jacobians.computeNumericalJacobian(Rimp2Ehel,X,dX)\n",
    "        detJnum=np.linalg.det(Jhi)\n",
    "\n",
    "    def test_by_elements_ellipse(self):\n",
    "        self.timing_set_by_elements_ellipse()\n",
    "        self.assertAlmostEqual(self.orbit.celements[0],3.25,7)\n",
    "        self.assertEqual(np.isclose(self.orbit.state,\n",
    "                                    [-1.35375627,0.1389311,1.24185287,\n",
    "                                     -0.52685483,-0.69924506,0.10664714],\n",
    "                                    rtol=1e-5).tolist(),\n",
    "                          [True]*6)\n",
    "        self.assertEqual(np.isclose(self.orbit.secondary,\n",
    "                                    [0.17067698,3.25,0.8,2.6,0.72188531,0.69201272],\n",
    "                                    rtol=1e-5).tolist(),\n",
    "                          [True]*6)\n",
    "        \n",
    "    def test_by_elements_hyperbola(self):\n",
    "        self.timing_set_by_elements_hyperbola()\n",
    "        self.assertAlmostEqual(self.orbit.celements[0],-2.16666667,7)\n",
    "        self.assertEqual(np.isclose(self.orbit.state,\n",
    "                                    [-1.01844517,0.74222555,1.25311217,\n",
    "                                     -0.97533765,-0.56564603,0.56184417],\n",
    "                                    rtol=1e-5).tolist(),\n",
    "                         [True]*6)\n",
    "\n",
    "    def test_set_uelements(self):\n",
    "        self.orbit.setUelements([1.26566637,0.40546511,-1.09861229,-1.60943791,-2.39789527,-2.83321334],0.0)\n",
    "        self.assertEqual(\n",
    "            np.isclose(self.orbit.elements,\n",
    "                       [0.78,0.6,0.78539816,1.04719755,0.52359878,0.34906585],\n",
    "                       rtol=1e-5).tolist(),\n",
    "            [True]*6\n",
    "        )\n",
    "\n",
    "    def test_uelements(self):\n",
    "        mu=1\n",
    "        q=0.78\n",
    "        e=0.6\n",
    "        i=45.0\n",
    "        W=60.0\n",
    "        w=30.0\n",
    "        M=20.0\n",
    "        self.orbit.setElements([q,e,i*Angle.Deg,W*Angle.Deg,w*Angle.Deg,M*Angle.Deg],0.0)\n",
    "        self.orbit.calcUelements()\n",
    "        self.assertEqual(\n",
    "            np.isclose(self.orbit.uelements,\n",
    "                       [1.26566637,0.40546511,-1.09861229,-1.60943791,-2.39789527,-2.83321334],\n",
    "                       rtol=1e-5).tolist(),\n",
    "            [True]*6\n",
    "        )\n",
    "        \n",
    "    def test_update_state(self):\n",
    "        self.timing_set_by_elements_ellipse()\n",
    "        M,dt,state=self.orbit.calcStateByTime(10.0)\n",
    "        self.assertEqual(\n",
    "            np.isclose(state,\n",
    "                       [-1.86891304,-4.32426264,-0.54360515,0.1505539,-0.19731752,-0.22904226],\n",
    "                       rtol=1e-5).tolist(),\n",
    "            [True]*6\n",
    "        )\n",
    "    \n",
    "    def test_keplerian_jacobian(self):\n",
    "        self.timing_set_by_elements_ellipse()\n",
    "        Jck=Jacobians.calcKeplerianJacobians(self.orbit.mu,self.orbit.celements,self.orbit.state)\n",
    "        self.assertEqual(np.isclose(Jck.flatten(),\n",
    "                                    [-0.41654039,-1.23208195,1.07547613,-0.1389311,-0.53730042,-3.08685343,\n",
    "                                      0.04274803,-5.63319668,-0.62092643,-1.35375627,-1.7177267,-4.09689136,\n",
    "                                      0.38210857,-1.74958408,1.24185287,0.,-0.39354754,0.62484781,\n",
    "                                      0.08105459,0.6202556,0.09235913,0.69924506,0.45673547,1.26843361,\n",
    "                                      0.10757616,-0.91335224,-0.05332357,-0.52685483,-0.43785039,-0.13017475,\n",
    "                                     -0.01640725,-0.99383322,0.10664714,0.,-0.61446971,-1.1635831],\n",
    "                                    rtol=1e-5).tolist(),\n",
    "                          [True]*36)\n",
    "\n",
    "    def test_map_jacobian(self):\n",
    "        mu=1\n",
    "        q=0.78\n",
    "        e=0.6\n",
    "        i=45.0\n",
    "        W=60.0\n",
    "        w=30.0\n",
    "        M=20.0\n",
    "        self.orbit.setElements([q,e,i*Angle.Deg,W*Angle.Deg,w*Angle.Deg,M*Angle.Deg],0.0)\n",
    "        self.orbit.calcUelements()\n",
    "        JEe,JeE=Jacobians.calcMapJacobian(self.orbit.elements,[1,1,np.pi,2*np.pi,2*np.pi,2*np.pi])\n",
    "        self.assertEqual(np.isclose(np.diag(JEe),\n",
    "                                    [5.82750583,4.16666667,1.69765273,1.14591559,2.08348289,3.03330597],\n",
    "                                    rtol=1e-5).tolist(),\n",
    "                          [True]*6)\n",
    "        \n",
    "    def test_state_chely(self):\n",
    "        self.ray_chely.updateRay(self.tdb_chely)\n",
    "\n",
    "        self.assertEqual(np.isclose(self.ray_chely.stateBody,\n",
    "                                    [1.78729411e+06,3.23767769e+06,5.20762055e+06,\n",
    "                                     1.23526608e+04,-1.33886204e+04,-2.17876404e+03],\n",
    "                                    rtol=1e-5).tolist(),\n",
    "                         [True]*6)\n",
    "        self.assertEqual(np.isclose(self.ray_chely.stateEcl,\n",
    "                                    [-8.82111395e+05,-1.22185261e+06,6.20687075e+06, \n",
    "                                     -1.53985024e+04,8.07537430e+03,-5.85361851e+03],\n",
    "                                    rtol=1e-5).tolist(),\n",
    "                         [True]*6)\n",
    "\n",
    "    def test_propagate_chely(self):\n",
    "        self.timing_propagate_ray_earth()\n",
    "        E=np.copy(self.ray_chely.terminal.elements)\n",
    "        Util.transformElements(E,[1/Const.au,Angle.Rad],implicit=True)\n",
    "        self.assertEqual(np.isclose(E,\n",
    "                                    [0.73858152,0.54966804,4.0415789,\n",
    "                                     326.57255584,106.8634198,21.32354715],\n",
    "                                    rtol=1e-5).tolist(),\n",
    "                         [True]*6)\n",
    "\n",
    "    def test_propagate_moon(self):\n",
    "        self.timing_propagate_ray_moon()\n",
    "        E=np.copy(self.ray_crater.terminal.elements)\n",
    "        Util.transformElements(E,[1/Const.au,Angle.Rad],implicit=True)\n",
    "        self.assertEqual(np.isclose(E,\n",
    "                                    [9.28278830e-01,4.62067544e-02,6.82258090e+00,\n",
    "                                     2.82254946e+02,2.81138672e+02,2.59270699e+02],\n",
    "                                    rtol=1e-5).tolist(),\n",
    "                         [True]*6)        \n",
    "\n",
    "    def test_ray_jacobian(self):\n",
    "        self.ray_chely.updateRay(self.tdb_chely)\n",
    "        Jcl,Jel=Jacobians.calcImpactJacobian(self.ray_chely.body,\n",
    "                                             self.ray_chely.Rimp,\n",
    "                                             self.ray_chely.stateBody)        \n",
    "        self.assertEqual(\n",
    "            np.isclose(Jel.flatten(),\n",
    "                       [+3.58981963e+06,1.26210772e+06,-1.37484659e-01,0.00000000e+00,0.00000000e+00,0.00000000e+00,\n",
    "                        -8.17426203e+05,6.12568420e+06,-1.88278200e-01,0.00000000e+00,0.00000000e+00,0.00000000e+00,\n",
    "                        +3.49265604e+05,1.36445068e+06,9.72445005e-01,0.00000000e+00,0.00000000e+00,0.00000000e+00,\n",
    "                        -9.73737363e+03,-9.00420338e+02,4.06904053e-05,6.80383044e+03,7.11968399e+03,8.41911908e-01,\n",
    "                        -1.41203876e+04,-4.14362932e+03,-9.26548041e-06,1.60363241e+04,1.32400724e+03,-4.37355872e-01,\n",
    "                        +6.13527450e+03,-4.47105670e+03,3.95890614e-06,4.06677244e+03,-1.71323409e+04,3.16076227e-01],\n",
    "                       rtol=1e-5).tolist(),\n",
    "                       [True]*36)\n",
    "    #\"\"\"\n",
    "    #END COMMENT"
   ]
  },
  {
   "cell_type": "code",
   "execution_count": 41,
   "metadata": {},
   "outputs": [
    {
     "name": "stderr",
     "output_type": "stream",
     "text": [
      "..............\n",
      "----------------------------------------------------------------------\n",
      "Ran 14 tests in 0.236s\n",
      "\n",
      "OK\n"
     ]
    },
    {
     "name": "stdout",
     "output_type": "stream",
     "text": [
      "Timing set by elements hyperbola:\n",
      "100 loops, best of 3: 86 µs per loop\n",
      "Timing set by elements ellipse:\n",
      "100 loops, best of 3: 88.1 µs per loop\n",
      "Timing set by state hyperbola:\n",
      "100 loops, best of 3: 77 µs per loop\n",
      "Timing update state:\n",
      "1000 loops, best of 3: 27 µs per loop\n",
      "Timing update ray:\n",
      "100 loops, best of 3: 287 µs per loop\n",
      "Timing propagate ray earth:\n",
      "100 loops, best of 3: 631 µs per loop\n",
      "Timing propagate ray moon:\n",
      "100 loops, best of 3: 1.01 ms per loop\n"
     ]
    }
   ],
   "source": [
    "from gravray import *\n",
    "from gravray.util import *\n",
    "from gravray.spice import *\n",
    "from gravray.orbit import *\n",
    "if __name__=='__main__':\n",
    "    #Testing\n",
    "    if TEST:unittest.main(argv=['first-arg-is-ignored'],exit=False)\n",
    "\n",
    "    if TIMING:\n",
    "        print(\"Timing set by elements hyperbola:\")\n",
    "        %timeit -n 100 Test().timing_set_by_elements_hyperbola()\n",
    "\n",
    "        print(\"Timing set by elements ellipse:\")\n",
    "        %timeit -n 100 Test().timing_set_by_elements_ellipse()\n",
    "\n",
    "        print(\"Timing set by state hyperbola:\")\n",
    "        %timeit -n 100 Test().timing_set_by_state_hyperbola()\n",
    "\n",
    "        print(\"Timing update state:\")\n",
    "        t=Test()\n",
    "        %timeit -n 1000 t.orbit.calcStateByTime(10.0)\n",
    "\n",
    "        #Timing\n",
    "        print(\"Timing update ray:\")\n",
    "        %timeit -n 100 Test().timing_update_ray()\n",
    "\n",
    "        print(\"Timing propagate ray earth:\")\n",
    "        %timeit -n 100 Test().timing_propagate_ray_earth()\n",
    "\n",
    "        print(\"Timing propagate ray moon:\")\n",
    "        %timeit -n 100 Test().timing_propagate_ray_moon()"
   ]
  },
  {
   "cell_type": "markdown",
   "metadata": {},
   "source": [
    "--End--"
   ]
  },
  {
   "cell_type": "markdown",
   "metadata": {},
   "source": [
    "# Convert"
   ]
  },
  {
   "cell_type": "code",
   "execution_count": null,
   "metadata": {},
   "outputs": [],
   "source": [
    "!make -C .. DEVFILES=dev/{FILE} convert"
   ]
  },
  {
   "cell_type": "code",
   "execution_count": null,
   "metadata": {},
   "outputs": [],
   "source": []
  }
 ],
 "metadata": {
  "kernelspec": {
   "display_name": "Python 3",
   "language": "python",
   "name": "python3"
  },
  "language_info": {
   "codemirror_mode": {
    "name": "ipython",
    "version": 3
   },
   "file_extension": ".py",
   "mimetype": "text/x-python",
   "name": "python",
   "nbconvert_exporter": "python",
   "pygments_lexer": "ipython3",
   "version": "3.6.8"
  }
 },
 "nbformat": 4,
 "nbformat_minor": 2
}
