{
 "cells": [
  {
   "cell_type": "code",
   "execution_count": null,
   "metadata": {},
   "outputs": [],
   "source": [
    "class Util(object):\n",
    "    \n",
    "    def fin2Inf(x,scale=1):\n",
    "        \"\"\"\n",
    "        Map variable x from the interval [0,scale] to a new variable t in the interval [-inf,+inf].\n",
    "        x = 0 correspond to t->-inf\n",
    "        x = 1 correspond to t->+inf\n",
    "        \"\"\"\n",
    "        u=x/scale\n",
    "        t=np.log(u/(1-u))\n",
    "        return t\n",
    "\n",
    "    def inf2Fin(t,scale=1):\n",
    "        \"\"\"\n",
    "        Map variable t from the interval (-inf,inf) to a new variable x in the interval [0,scale].\n",
    "        t->-inf correspond to x = 0\n",
    "        t->+inf correspond to x = 1\n",
    "        \"\"\"\n",
    "        x=scale/(1+np.exp(-t))\n",
    "        return x\n",
    "    \n",
    "    def genIndex(probs):\n",
    "        \"\"\"\n",
    "        Given a set of (normalized) randomly generate the index n following the probabilities.\n",
    "        For instance if we have 3 events with probabilities 0.1, 0.7, 0.2, genSample will generate\n",
    "        a number in the set (0,1,2) with those probabilities.\n",
    "        \n",
    "        Parameters:\n",
    "            probs: Probabilities, numpy array (N), adimensional\n",
    "            NOTE: It should be normalized, ie. sum(probs)=1\n",
    "            \n",
    "        Return:\n",
    "            n: Index [0,1,2,... len(probs)-1], integer\n",
    "        \"\"\"\n",
    "        cond=(np.random.rand()-np.cumsum(probs))<0\n",
    "        isort=np.arange(len(probs))\n",
    "        n=isort[cond][0] if sum(cond)>0 else isort[0]\n",
    "        return n"
   ]
  }
 ],
 "metadata": {
  "kernelspec": {
   "display_name": "Python 3",
   "language": "python",
   "name": "python3"
  },
  "language_info": {
   "codemirror_mode": {
    "name": "ipython",
    "version": 3
   },
   "file_extension": ".py",
   "mimetype": "text/x-python",
   "name": "python",
   "nbconvert_exporter": "python",
   "pygments_lexer": "ipython3",
   "version": "3.6.8"
  }
 },
 "nbformat": 4,
 "nbformat_minor": 2
}
