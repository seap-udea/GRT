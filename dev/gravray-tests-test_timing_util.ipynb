{
 "cells": [
  {
   "cell_type": "code",
   "execution_count": null,
   "metadata": {},
   "outputs": [],
   "source": [
    "from grt import *"
   ]
  },
  {
   "cell_type": "markdown",
   "metadata": {},
   "source": [
    "# Test Util Class"
   ]
  },
  {
   "cell_type": "markdown",
   "metadata": {},
   "source": [
    "In this file we aim at testing the Util class in grt.Util"
   ]
  },
  {
   "cell_type": "code",
   "execution_count": 8,
   "metadata": {},
   "outputs": [],
   "source": [
    "#Unitary test\n",
    "class Test(unittest.TestCase):\n",
    "\n",
    "    probs=np.array([0.1,0.2,0.40,0.3])\n",
    "\n",
    "    #\"\"\"\n",
    "    def test_gen_index(self):\n",
    "        N=10000\n",
    "        M=len(self.probs)\n",
    "        ns=np.array([Util.genIndex(self.probs) for i in range(N)]+[M])\n",
    "        h,nx=np.histogram(ns,4)\n",
    "        self.assertEqual(np.isclose(h/N,\n",
    "                                    self.probs,\n",
    "                                    rtol=1e-1).tolist(),\n",
    "                         [True]*M)\n",
    "\n",
    "    def test_fin2inf(self):\n",
    "        self.assertAlmostEqual(Util.fin2Inf(0.001,scale=1),-6.906754778648554,13)\n",
    "        self.assertAlmostEqual(Util.fin2Inf(0.78,scale=1),1.265666373331276,13)\n",
    "        self.assertAlmostEqual(Util.fin2Inf(np.pi,scale=2*np.pi),0.0,13)\n",
    "\n",
    "    def test_inf2fin(self):\n",
    "        self.assertAlmostEqual(Util.inf2Fin(-3.0,scale=1),0.04742587317756678,13)\n",
    "        self.assertAlmostEqual(Util.inf2Fin(+3.0,scale=1),0.9525741268224334,13)\n",
    "        self.assertAlmostEqual(Util.inf2Fin(+3.0,scale=10.0),9.525741268224333,13)\n",
    "\n",
    "    #\"\"\" \n",
    "    \n",
    "    def timing_fin2inf(self):\n",
    "        Util.fin2Inf(0.78,scale=1)\n",
    "    def timing_inf2fin(self):\n",
    "        Util.inf2Fin(-5.4,scale=1)\n",
    "    def timing_gen_index(self):\n",
    "        Util.genIndex(self.probs)"
   ]
  },
  {
   "cell_type": "code",
   "execution_count": 9,
   "metadata": {},
   "outputs": [
    {
     "name": "stderr",
     "output_type": "stream",
     "text": [
      "..."
     ]
    },
    {
     "name": "stdout",
     "output_type": "stream",
     "text": [
      "[0.1012 0.2068 0.3948 0.2973]\n",
      "Timing fin2inf:\n",
      "1000 loops, best of 3: 8.69 µs per loop\n",
      "Timing inf2fin:\n",
      "1000 loops, best of 3: 10.5 µs per loop\n",
      "Timing genindex:\n"
     ]
    },
    {
     "name": "stderr",
     "output_type": "stream",
     "text": [
      "\n",
      "----------------------------------------------------------------------\n",
      "Ran 3 tests in 0.449s\n",
      "\n",
      "OK\n"
     ]
    },
    {
     "name": "stdout",
     "output_type": "stream",
     "text": [
      "1000 loops, best of 3: 47.3 µs per loop\n"
     ]
    }
   ],
   "source": [
    "if __name__=='__main__':\n",
    "    #Testing\n",
    "    unittest.main(argv=['first-arg-is-ignored'],exit=False)\n",
    "    \n",
    "    #Timing\n",
    "    #\"\"\"\n",
    "    print(\"Timing fin2inf:\")\n",
    "    %timeit -n 1000 Test().timing_fin2inf()\n",
    "\n",
    "    print(\"Timing inf2fin:\")\n",
    "    %timeit -n 1000 Test().timing_inf2fin()\n",
    "\n",
    "    print(\"Timing genindex:\")\n",
    "    %timeit -n 1000 Test().timing_gen_index()\n",
    "    #\"\"\""
   ]
  },
  {
   "cell_type": "code",
   "execution_count": null,
   "metadata": {},
   "outputs": [],
   "source": []
  }
 ],
 "metadata": {
  "kernelspec": {
   "display_name": "Python 3",
   "language": "python",
   "name": "python3"
  },
  "language_info": {
   "codemirror_mode": {
    "name": "ipython",
    "version": 3
   },
   "file_extension": ".py",
   "mimetype": "text/x-python",
   "name": "python",
   "nbconvert_exporter": "python",
   "pygments_lexer": "ipython3",
   "version": "3.6.8"
  }
 },
 "nbformat": 4,
 "nbformat_minor": 2
}
