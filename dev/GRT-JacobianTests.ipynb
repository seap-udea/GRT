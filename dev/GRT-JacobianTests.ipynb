{
 "cells": [
  {
   "cell_type": "markdown",
   "metadata": {},
   "source": [
    "# GRT Jacobian Tests\n",
    "\n",
    "In this Notebook we will test the calculation of the Jacobians."
   ]
  },
  {
   "cell_type": "code",
   "execution_count": 1,
   "metadata": {},
   "outputs": [
    {
     "name": "stdout",
     "output_type": "stream",
     "text": [
      "The autoreload extension is already loaded. To reload it, use:\n",
      "  %reload_ext autoreload\n",
      "The autoreload extension is already loaded. To reload it, use:\n",
      "  %reload_ext autoreload\n",
      "The autoreload extension is already loaded. To reload it, use:\n",
      "  %reload_ext autoreload\n",
      "The autoreload extension is already loaded. To reload it, use:\n",
      "  %reload_ext autoreload\n"
     ]
    }
   ],
   "source": [
    "from gravray import *\n",
    "from gravray.util import *\n",
    "from gravray.sampling import *\n",
    "from gravray.spice import *\n",
    "from gravray.orbit import *\n",
    "from gravray.stats import *"
   ]
  },
  {
   "cell_type": "markdown",
   "metadata": {},
   "source": [
    "## Initialization"
   ]
  },
  {
   "cell_type": "code",
   "execution_count": 144,
   "metadata": {},
   "outputs": [],
   "source": [
    "#Preparation\n",
    "Spice.loadKernels()"
   ]
  },
  {
   "cell_type": "markdown",
   "metadata": {},
   "source": [
    "## Single ray"
   ]
  },
  {
   "cell_type": "code",
   "execution_count": 3,
   "metadata": {},
   "outputs": [
    {
     "name": "stdout",
     "output_type": "stream",
     "text": [
      "State Body: [ 1.78729411e+06  3.23767769e+06  5.20762055e+06  1.23526608e+04\n",
      " -1.33886204e+04 -2.17876404e+03]\n",
      "State Ecliptic: [-8.82111395e+05 -1.22185261e+06  6.20687075e+06 -1.53985024e+04\n",
      "  8.07537430e+03 -5.85361851e+03]\n",
      "Terminal elements: [  0.73858102   0.54966922   4.04158232 326.57255475 106.86339209\n",
      "  21.32411541]\n",
      "Geocentric elements: [6077673.8684861595, 4.229093602118369, 1.803342061748524, 5.880003588638919, 1.9707249679347572, -0.9128197428263376, 398600436233000.0, 414170434.0]\n"
     ]
    }
   ],
   "source": [
    "#Parameters\n",
    "body=\"EARTH\"\n",
    "lon=+61.1*Angle.Deg #deg\n",
    "lat=+54.8*Angle.Deg #deg\n",
    "alt=23.3*Const.km #m\n",
    "#Location\n",
    "earth=Body(body)\n",
    "chelyabinsk=Location(earth,lon,lat,alt)\n",
    "#Ray\n",
    "A=101.1*Angle.Deg\n",
    "h=15.9*Angle.Deg\n",
    "v=-18.6*Const.kms\n",
    "ray=GrtRay(chelyabinsk,A,h,v)\n",
    "#Time\n",
    "tdb=Spice.str2t(\"02/15/2013 03:20:34 UTC\")\n",
    "#Propagate ray\n",
    "ray.updateRay(tdb)\n",
    "print(\"State Body:\",ray.stateBody)\n",
    "print(\"State Ecliptic:\",ray.stateEcl)\n",
    "ray.propagateRay()\n",
    "#Show elements\n",
    "print(\"Terminal elements:\",Const.transformElements(ray.terminal.elements,[1/Const.au,Angle.Rad]))\n",
    "print(\"Geocentric elements:\",ray.conics[0])"
   ]
  },
  {
   "cell_type": "markdown",
   "metadata": {},
   "source": [
    "Jacobians:\n",
    "\n",
    "p(Rimp) = p(Ehel) |dEhel/dehel| x |dehel/dXSoI| x |dXSoI/degeo| x |degeo/dXgeo| x |dXgeo/dRimp|"
   ]
  },
  {
   "cell_type": "markdown",
   "metadata": {},
   "source": [
    "### dXgeo/dRimp"
   ]
  },
  {
   "cell_type": "code",
   "execution_count": 146,
   "metadata": {},
   "outputs": [
    {
     "name": "stdout",
     "output_type": "stream",
     "text": [
      "Body to Local: [[-3.23767769e+06 -2.52801038e+06  2.78579584e-01  0.00000000e+00\n",
      "   0.00000000e+00  0.00000000e+00]\n",
      " [ 1.78729411e+06 -4.57948291e+06  5.04646045e-01  0.00000000e+00\n",
      "   0.00000000e+00  0.00000000e+00]\n",
      " [ 0.00000000e+00  3.69000654e+06  8.17144898e-01  0.00000000e+00\n",
      "   0.00000000e+00  0.00000000e+00]\n",
      " [ 1.33886204e+04  1.38595563e+03 -3.66988960e-05 -9.94719861e+03\n",
      "  -8.97352124e+03 -6.76780178e-01]\n",
      " [ 1.23526608e+04  1.72353048e+03  2.02588790e-05 -1.08932417e+04\n",
      "  -5.90893448e+03  7.26806242e-01]\n",
      " [ 0.00000000e+00 -5.75146402e+03  0.00000000e+00  1.01185455e+04\n",
      "  -1.51828986e+04  1.17137852e-01]]\n",
      "Ecliptic to Local: [[ 3.58981963e+06  1.26210772e+06 -1.37484659e-01  0.00000000e+00\n",
      "   0.00000000e+00  0.00000000e+00]\n",
      " [-8.17426203e+05  6.12568420e+06 -1.88278200e-01  0.00000000e+00\n",
      "   0.00000000e+00  0.00000000e+00]\n",
      " [ 3.49265604e+05  1.36445068e+06  9.72445005e-01  0.00000000e+00\n",
      "   0.00000000e+00  0.00000000e+00]\n",
      " [-9.73737363e+03 -9.00420338e+02  4.06904053e-05  6.80383044e+03\n",
      "   7.11968399e+03  8.41911908e-01]\n",
      " [-1.41203876e+04 -4.14362932e+03 -9.26548041e-06  1.60363241e+04\n",
      "   1.32400724e+03 -4.37355872e-01]\n",
      " [ 6.13527450e+03 -4.47105670e+03  3.95890614e-06  4.06677244e+03\n",
      "  -1.71323409e+04  3.16076227e-01]]\n"
     ]
    },
    {
     "data": {
      "text/plain": [
       "-7.87694899143873e+21"
      ]
     },
     "execution_count": 146,
     "metadata": {},
     "output_type": "execute_result"
    }
   ],
   "source": [
    "# Analytical\n",
    "ray.updateRay(tdb)\n",
    "ray.calcJacobiansEcliptic()\n",
    "print(\"Body to Local:\",ray.Jcl)\n",
    "print(\"Ecliptic to Local:\",ray.Jel)\n",
    "JEL=np.copy(ray.Jel)\n",
    "np.linalg.det(JEL)"
   ]
  },
  {
   "cell_type": "code",
   "execution_count": 5,
   "metadata": {},
   "outputs": [],
   "source": [
    "def Rimp2Xgeo(X):\n",
    "    lon,lat,alt,A,h,v=X\n",
    "    earth=Body(body)\n",
    "    site=Location(earth,lon,lat,alt)\n",
    "    ray=GrtRay(site,A,h,v)\n",
    "    tdb=Spice.str2t(\"02/15/2013 03:20:34 UTC\")\n",
    "    ray.updateRay(tdb)\n",
    "    return ray.stateEcl"
   ]
  },
  {
   "cell_type": "code",
   "execution_count": 6,
   "metadata": {},
   "outputs": [
    {
     "data": {
      "text/plain": [
       "array([-8.82111395e+05, -1.22185261e+06,  6.20687075e+06, -1.53985024e+04,\n",
       "        8.07537430e+03, -5.85361851e+03])"
      ]
     },
     "execution_count": 6,
     "metadata": {},
     "output_type": "execute_result"
    }
   ],
   "source": [
    "X=[lon,lat,alt,A,h,v]\n",
    "dX=[1e-3]*6\n",
    "Rimp2Xgeo(X)"
   ]
  },
  {
   "cell_type": "code",
   "execution_count": 7,
   "metadata": {},
   "outputs": [],
   "source": [
    "Jel=Util.computeJacobian(Rimp2Xgeo,X,dX)"
   ]
  },
  {
   "cell_type": "code",
   "execution_count": 8,
   "metadata": {},
   "outputs": [
    {
     "name": "stdout",
     "output_type": "stream",
     "text": [
      "Jacobian for lon:\n",
      "\tJ numerical: [3589819.033004809, -817426.0667483322, 349265.5461872928, -9737.37200333835, -14120.385243092642, 6135.273475984832]\n",
      "\tJ analytical: [3589819.631308648, -817426.2029859358, 349265.60439829534, -9737.373626236189, -14120.387596492252, 6135.274498531617]\n",
      "Jacobian for lat:\n",
      "\tJ numerical: [1262107.5144698843, 6125683.171393466, 1364450.4274674691, -900.4317124527006, -4143.64281410144, -4470.970716573902]\n",
      "\tJ analytical: [1262107.723430389, 6125684.19526756, 1364450.6760201682, -900.4203382811412, -4143.629317692705, -4471.056702098458]\n",
      "Jacobian for alt:\n",
      "\tJ numerical: [-0.13748457422479987, -0.1882781507447362, 0.9724446572363377, 4.042794898850843e-05, -1.1348674888722599e-05, 1.7721504264045507e-06]\n",
      "\tJ analytical: [-0.137484658676238, -0.1882782001630745, 0.9724450051144443, 4.0690405280935404e-05, -9.265480414855458e-06, 3.958906143837841e-06]\n",
      "Jacobian for A:\n",
      "\tJ numerical: [0.0, 0.0, 0.0, 6803.857126707044, 16036.359548899327, 4066.5749698932814]\n",
      "\tJ analytical: [0.0, 0.0, 0.0, 6803.83043808704, 16036.324120806066, 4066.7724420087306]\n",
      "Jacobian for h:\n",
      "\tJ numerical: [0.0, 0.0, 0.0, 7119.640587028698, 1323.8075438894157, -17132.37100282049]\n",
      "\tJ analytical: [0.0, 0.0, 0.0, 7119.683988594182, 1324.0072382364615, -17132.340900637402]\n",
      "Jacobian for v:\n",
      "\tJ numerical: [0.0, 0.0, 0.0, 0.8419119076279458, -0.4373558708721248, 0.31607622713636374]\n",
      "\tJ analytical: [0.0, 0.0, 0.0, 0.8419119077069468, -0.4373558715342404, 0.3160762270335671]\n"
     ]
    }
   ],
   "source": [
    "for i,comp in enumerate([\"lon\",\"lat\",\"alt\",\"A\",\"h\",\"v\"]):\n",
    "    print(f\"Jacobian for {comp}:\")\n",
    "    print(\"\\tJ numerical:\",Jel[:,i].tolist())\n",
    "    print(\"\\tJ analytical:\",ray.Jel[:,i].tolist())"
   ]
  },
  {
   "cell_type": "code",
   "execution_count": 145,
   "metadata": {},
   "outputs": [
    {
     "data": {
      "text/plain": [
       "-7.876940899535282e+21"
      ]
     },
     "execution_count": 145,
     "metadata": {},
     "output_type": "execute_result"
    }
   ],
   "source": [
    "np.linalg.det(Jel)"
   ]
  },
  {
   "cell_type": "markdown",
   "metadata": {},
   "source": [
    "### degeo/dXgeo"
   ]
  },
  {
   "cell_type": "code",
   "execution_count": 126,
   "metadata": {},
   "outputs": [
    {
     "name": "stdout",
     "output_type": "stream",
     "text": [
      "State: [-8.82111395e+05 -1.22185261e+06  6.20687075e+06 -1.53985024e+04\n",
      "  8.07537430e+03 -5.85361851e+03]\n",
      "Jck: [[ 4.68669482e-01 -9.48681250e+05 -2.43524664e+06  1.22185261e+06\n",
      "  -5.83709488e+06 -1.99156616e+06]\n",
      " [ 6.49175412e-01 -2.80155205e+04 -5.70918719e+06 -8.82111395e+05\n",
      "   2.57298420e+06  1.04442898e+06]\n",
      " [-3.29773645e+00  1.68044959e+06 -1.46997488e+06  0.00000000e+00\n",
      "  -3.23054973e+05 -7.57078072e+05]\n",
      " [-4.09064444e-03  1.03994389e+03  2.29664921e+03 -8.07537430e+03\n",
      "   7.10034509e+03  1.74520507e+02]\n",
      " [ 2.14524011e-03 -3.68678573e+02  5.38425966e+03 -1.53985024e+04\n",
      "   1.31383924e+03  2.41736291e+02]\n",
      " [-1.55502603e-03 -2.90933472e+02  1.38631405e+03  0.00000000e+00\n",
      "  -1.68656255e+04 -1.22799256e+03]]\n",
      "Jkc: [[-2.39847920e-02 -3.32224261e-02  1.68766104e-01 -2.73705943e+02\n",
      "   1.43538500e+02 -1.04047142e+02]\n",
      " [-2.77316470e-07 -8.18444442e-08  7.77291689e-07 -4.97371345e-04\n",
      "   2.43518216e-04 -1.21817851e-04]\n",
      " [-5.87924982e-08 -1.37833011e-07 -3.54886005e-08  1.12614910e-06\n",
      "   2.64014161e-06  6.79771342e-07]\n",
      " [-2.09697885e-08 -4.91615288e-08 -1.26578810e-08 -2.22352664e-05\n",
      "  -5.21283125e-05 -1.34217547e-05]\n",
      " [ 3.20582653e-08 -2.44080113e-08 -1.32376235e-08  2.85291869e-05\n",
      "  -1.10194354e-05 -6.27052213e-05]\n",
      " [-4.10596904e-07  2.41084166e-07 -2.56119954e-07  7.38770371e-05\n",
      "  -8.51340395e-05  2.08260268e-04]]\n"
     ]
    }
   ],
   "source": [
    "# degeo/dXgeo\n",
    "geo_aelements=ray.conics[0]\n",
    "geo_mu=geo_aelements[-2]\n",
    "geo_elements=np.array(geo_aelements[:6])\n",
    "geo=KeplerianOrbit(geo_mu)\n",
    "geo.setElements(geo_elements,0)\n",
    "geo.calcJacobians()\n",
    "print(\"State:\",geo.state)\n",
    "print(\"Jck:\",geo.Jck)\n",
    "print(\"Jkc:\",geo.Jkc)\n",
    "JKC_GEO=np.copy(geo.Jkc)"
   ]
  },
  {
   "cell_type": "code",
   "execution_count": 128,
   "metadata": {},
   "outputs": [],
   "source": [
    "def egeo2Xgeo(X,mu=1):\n",
    "    a,e,i,W,w,M=X\n",
    "    q=a*(1-e)\n",
    "    orbit=KeplerianOrbit(mu)\n",
    "    orbit.setElements([q,e,i,W,w,M],0)\n",
    "    return orbit.state"
   ]
  },
  {
   "cell_type": "code",
   "execution_count": 129,
   "metadata": {},
   "outputs": [
    {
     "data": {
      "text/plain": [
       "array([-8.82111395e+05, -1.22185261e+06,  6.20687075e+06, -1.53985024e+04,\n",
       "        8.07537430e+03, -5.85361851e+03])"
      ]
     },
     "execution_count": 129,
     "metadata": {},
     "output_type": "execute_result"
    }
   ],
   "source": [
    "a=geo_elements[0]/(1-geo_elements[1])\n",
    "X=[a]+geo_elements[1:].tolist()\n",
    "dX=[1e-6]*6\n",
    "args=dict(mu=geo_mu)\n",
    "egeo2Xgeo(X,**args)"
   ]
  },
  {
   "cell_type": "code",
   "execution_count": 130,
   "metadata": {},
   "outputs": [
    {
     "data": {
      "text/plain": [
       "array([[ 4.68804501e-01, -9.48681250e+05, -2.43524664e+06,\n",
       "         1.22185261e+06, -5.83709488e+06, -1.99156616e+06],\n",
       "       [ 6.49248250e-01, -2.80155207e+04, -5.70918719e+06,\n",
       "        -8.82111395e+05,  2.57298420e+06,  1.04442898e+06],\n",
       "       [-3.29734758e+00,  1.68044959e+06, -1.46997488e+06,\n",
       "         0.00000000e+00, -3.23054972e+05, -7.57078072e+05],\n",
       "       [-4.08908818e-03,  1.03994389e+03,  2.29664921e+03,\n",
       "        -8.07537430e+03,  7.10034509e+03,  1.74520507e+02],\n",
       "       [ 2.14504325e-03, -3.68678573e+02,  5.38425966e+03,\n",
       "        -1.53985024e+04,  1.31383924e+03,  2.41736291e+02],\n",
       "       [-1.55478119e-03, -2.90933471e+02,  1.38631405e+03,\n",
       "         0.00000000e+00, -1.68656255e+04, -1.22799256e+03]])"
      ]
     },
     "execution_count": 130,
     "metadata": {},
     "output_type": "execute_result"
    }
   ],
   "source": [
    "Jck=Util.computeJacobian(egeo2Xgeo,X,dX,N=6,**args)\n",
    "Jck"
   ]
  },
  {
   "cell_type": "code",
   "execution_count": 131,
   "metadata": {},
   "outputs": [
    {
     "name": "stdout",
     "output_type": "stream",
     "text": [
      "Jacobian for a:\n",
      "\tJ numerical: [0.4688045009970665, 0.6492482498288155, -3.2973475754261017, -0.004089088179171085, 0.0021450432541314512, -0.0015547811926808208]\n",
      "\tJ analytical: [0.46866948168866973, 0.6491754118019047, -3.297736449054449, -0.004090644444246504, 0.0021452401074557015, -0.0015550260258418197]\n",
      "Jacobian for e:\n",
      "\tJ numerical: [-948681.2498653308, -28015.520656481385, 1680449.5924152434, 1039.9438942840789, -368.6785730678821, -290.93347120578983]\n",
      "\tJ analytical: [-948681.2498987756, -28015.520495045937, 1680449.5918342883, 1039.943894881852, -368.6785728447588, -290.93347167540077]\n",
      "Jacobian for i:\n",
      "\tJ numerical: [-2435246.642213315, -5709187.18772009, -1469974.8754501343, 2296.649211530166, 5384.259658057999, 1386.3140511602978]\n",
      "\tJ analytical: [-2435246.6425018953, -5709187.188169952, -1469974.8753572349, 2296.649211928477, 5384.259658804754, 1386.3140513666594]\n",
      "Jacobian for W:\n",
      "\tJ numerical: [1221852.6074429974, -882111.39512714, 0.0, -8075.374301370175, -15398.50243489127, 0.0]\n",
      "\tJ analytical: [1221852.6071166978, -882111.3949584933, 0.0, -8075.374299561118, -15398.502432853114, 0.0]\n",
      "Jacobian for w:\n",
      "\tJ numerical: [-5837094.882852398, 2572984.1962456703, -323054.9721047282, 7100.345091203053, 1313.8392419023148, -16865.625481841562]\n",
      "\tJ analytical: [-5837094.883225011, 2572984.1963978205, -323054.972612432, 7100.3450927371505, 1313.8392423478244, -16865.625483153297]\n",
      "Jacobian for M:\n",
      "\tJ numerical: [-1991566.157550551, 1044428.9784645662, -757078.0720561743, 174.52050724386936, 241.73629071810865, -1227.992561780411]\n",
      "\tJ analytical: [-1991566.1575205834, 1044428.9783664068, -757078.0715215036, 174.5205071397982, 241.736290748318, -1227.9925618982184]\n"
     ]
    }
   ],
   "source": [
    "Jany=geo.Jck\n",
    "Jnum=Jck\n",
    "for i,comp in enumerate([\"a\",\"e\",\"i\",\"W\",\"w\",\"M\"]):\n",
    "    print(f\"Jacobian for {comp}:\")\n",
    "    print(\"\\tJ numerical:\",Jnum[:,i].tolist())\n",
    "    print(\"\\tJ analytical:\",Jany[:,i].tolist())"
   ]
  },
  {
   "cell_type": "markdown",
   "metadata": {},
   "source": [
    "### degeo/dRimp\n",
    "\n",
    "Composed"
   ]
  },
  {
   "cell_type": "code",
   "execution_count": 132,
   "metadata": {},
   "outputs": [],
   "source": [
    "def Rimp2egeo(X):\n",
    "    lon,lat,alt,A,h,v=X\n",
    "    earth=Body(body)\n",
    "    site=Location(earth,lon,lat,alt)\n",
    "    ray=GrtRay(site,A,h,v)\n",
    "    tdb=Spice.str2t(\"02/15/2013 03:20:34 UTC\")\n",
    "    ray.updateRay(tdb)\n",
    "    ray.propagateRay()\n",
    "    aelements=ray.conics[0]\n",
    "    mu=geo_aelements[-2]\n",
    "    elements=np.array(aelements[:6])\n",
    "    celements=np.copy(elements)\n",
    "    celements[0]=celements[0]/(1-celements[1])\n",
    "    return celements"
   ]
  },
  {
   "cell_type": "code",
   "execution_count": 133,
   "metadata": {},
   "outputs": [
    {
     "data": {
      "text/plain": [
       "array([-1.88216095e+06,  4.22909360e+00,  1.80334206e+00,  5.88000359e+00,\n",
       "        1.97072497e+00, -9.12819743e-01])"
      ]
     },
     "execution_count": 133,
     "metadata": {},
     "output_type": "execute_result"
    }
   ],
   "source": [
    "lon=+61.1*Angle.Deg #deg\n",
    "lat=+54.8*Angle.Deg #deg\n",
    "alt=23.3*Const.km #m\n",
    "A=101.1*Angle.Deg\n",
    "h=15.9*Angle.Deg\n",
    "v=-18.6*Const.kms\n",
    "\n",
    "X=[lon,lat,alt,A,h,v]\n",
    "dX=[1e-8]*6\n",
    "Rimp2egeo(X)"
   ]
  },
  {
   "cell_type": "code",
   "execution_count": 134,
   "metadata": {},
   "outputs": [
    {
     "data": {
      "text/plain": [
       "array([[ 1.92783773e+01,  1.13370898e+05,  1.51339918e-01,\n",
       "         1.64635596e+04,  2.39036279e+04, -3.26265581e+02],\n",
       "       [ 8.88622509e-05,  1.92720773e-01,  7.10542736e-07,\n",
       "         2.57209365e-02, -1.13170553e+00, -5.63993297e-04],\n",
       "       [-1.54783630e-01, -9.81921389e-01, -3.33066907e-08,\n",
       "         5.27647925e-02, -1.33260070e-04,  1.11022302e-08],\n",
       "       [ 8.30752001e-01, -4.88479923e-02, -4.44089210e-08,\n",
       "        -1.04181468e+00,  2.63149502e-03, -1.33226763e-07],\n",
       "       [-3.76497922e-01,  1.73202863e-01,  2.22044605e-08,\n",
       "        -2.37598641e-01,  1.26281927e+00,  9.03721542e-06],\n",
       "       [-2.94542168e-05, -3.56827567e-02, -3.44169138e-07,\n",
       "        -1.56852864e-02, -3.15471586e+00,  1.65212288e-04]])"
      ]
     },
     "execution_count": 134,
     "metadata": {},
     "output_type": "execute_result"
    }
   ],
   "source": [
    "Jkl=Util.computeJacobian(Rimp2egeo,X,dX,N=6)\n",
    "Jkl"
   ]
  },
  {
   "cell_type": "code",
   "execution_count": 135,
   "metadata": {},
   "outputs": [
    {
     "data": {
      "text/plain": [
       "0.0003408722631640826"
      ]
     },
     "execution_count": 135,
     "metadata": {},
     "output_type": "execute_result"
    }
   ],
   "source": [
    "np.linalg.det(Jkl)"
   ]
  },
  {
   "cell_type": "code",
   "execution_count": 137,
   "metadata": {},
   "outputs": [
    {
     "data": {
      "text/plain": [
       "0.0003506354890956949"
      ]
     },
     "execution_count": 137,
     "metadata": {},
     "output_type": "execute_result"
    }
   ],
   "source": [
    "np.linalg.det(JKC_GEO)*np.linalg.det(JEL)"
   ]
  },
  {
   "cell_type": "markdown",
   "metadata": {},
   "source": [
    "### dXSoI/degeo"
   ]
  },
  {
   "cell_type": "code",
   "execution_count": 138,
   "metadata": {},
   "outputs": [],
   "source": [
    "from gravray.orbit import *"
   ]
  },
  {
   "cell_type": "code",
   "execution_count": 143,
   "metadata": {},
   "outputs": [
    {
     "name": "stdout",
     "output_type": "stream",
     "text": [
      "SoI State =  [ 1.33514266e+09 -6.31599250e+08  2.41171932e+08 -1.30172897e+04\n",
      "  6.13849935e+03 -2.27591024e+03]\n",
      "SoI celements =  [-1.88216095e+06  4.22909360e+00  1.80334206e+00  5.88000359e+00\n",
      "  1.97072497e+00 -7.90185673e+02]\n",
      "Jck =  [[-7.09366889e+02 -2.16541035e+07 -9.46230655e+07  6.31599250e+08\n",
      "  -3.61418489e+08 -1.68359187e+06]\n",
      " [ 3.35571329e+02 -1.25027151e+07 -2.21834119e+08  1.33514266e+09\n",
      "  -2.15614856e+08  7.93923150e+05]\n",
      " [-1.28135658e+02  8.44323435e+07 -5.71168137e+07  0.00000000e+00\n",
      "   1.43616654e+09 -2.94354976e+05]\n",
      " [-3.45807028e-03  1.98623638e+02  8.92946380e+02 -6.13849935e+03\n",
      "   3.45172355e+03 -2.05352775e-02]\n",
      " [ 1.63070522e-03  1.22629700e+02  2.09342164e+03 -1.30172897e+04\n",
      "   2.13099490e+03  9.71436708e-03]\n",
      " [-6.04600325e-04 -8.05329044e+02  5.39004436e+02  0.00000000e+00\n",
      "  -1.39948289e+04 -3.70936583e-03]]\n",
      "Jkc =  [[ 2.82221480e-06 -1.33506989e-06  5.09787470e-07 -2.31380263e+02\n",
      "   1.09110854e+02 -4.04539442e+01]\n",
      " [-1.22443110e-07 -7.55961205e-08  4.96451734e-07 -1.30663381e-02\n",
      "  -7.53297162e-03  5.09035238e-02]\n",
      " [-4.87850840e-08 -1.14371650e-07 -2.94478787e-08 -5.00638526e-03\n",
      "  -1.17369592e-02 -3.02197749e-03]\n",
      " [-8.15313747e-09 -1.91141986e-08 -4.92143466e-09 -8.63965494e-04\n",
      "  -2.02547892e-03 -5.21510859e-04]\n",
      " [ 5.16702030e-09 -5.48177967e-11 -2.97023353e-08  5.69049967e-04\n",
      "  -2.32626214e-05 -3.11532973e-03]\n",
      " [-4.46298301e-07  2.41987415e-07 -2.00483026e-07  1.00646552e-01\n",
      "  -4.42959143e-02  5.30246345e-03]]\n"
     ]
    }
   ],
   "source": [
    "soi_aelements=ray.conics[1]\n",
    "soi_mu=soi_aelements[-2]\n",
    "soi_elements=np.array(soi_aelements[:6])\n",
    "soi=KeplerianOrbit(soi_mu)\n",
    "soi.setElements(soi_elements,0)\n",
    "print(\"SoI State = \",soi.state)\n",
    "print(\"SoI celements = \",soi.celements)\n",
    "soi.calcJacobians()\n",
    "print(\"Jck = \",soi.Jck)\n",
    "print(\"Jkc = \",soi.Jkc)\n",
    "JCK_SOI=np.copy(soi.Jck)"
   ]
  },
  {
   "cell_type": "code",
   "execution_count": 21,
   "metadata": {},
   "outputs": [],
   "source": [
    "def egeo2Xgeo(X,mu=1):\n",
    "    a,e,i,W,w,M=X\n",
    "    q=a*(1-e)\n",
    "    orbit=KeplerianOrbit(mu)\n",
    "    orbit.setElements([q,e,i,W,w,M],0)\n",
    "    return orbit.state"
   ]
  },
  {
   "cell_type": "code",
   "execution_count": 22,
   "metadata": {},
   "outputs": [
    {
     "data": {
      "text/plain": [
       "array([ 1.33514266e+09, -6.31599250e+08,  2.41171932e+08, -1.30172897e+04,\n",
       "        6.13849935e+03, -2.27591024e+03])"
      ]
     },
     "execution_count": 22,
     "metadata": {},
     "output_type": "execute_result"
    }
   ],
   "source": [
    "X=np.copy(soi.celements)\n",
    "dX=[1e-3]*6\n",
    "args=dict(mu=soi_mu)\n",
    "egeo2Xgeo(X,**args)"
   ]
  },
  {
   "cell_type": "code",
   "execution_count": 23,
   "metadata": {},
   "outputs": [
    {
     "data": {
      "text/plain": [
       "array([-1.88216095e+06,  4.22909360e+00,  1.80334206e+00,  5.88000359e+00,\n",
       "        1.97072497e+00, -7.90185673e+02])"
      ]
     },
     "execution_count": 23,
     "metadata": {},
     "output_type": "execute_result"
    }
   ],
   "source": [
    "soi.celements"
   ]
  },
  {
   "cell_type": "code",
   "execution_count": 24,
   "metadata": {},
   "outputs": [
    {
     "data": {
      "text/plain": [
       "array([-1.88216095e+06,  4.22909360e+00,  1.80334206e+00,  5.88000359e+00,\n",
       "        1.97072497e+00, -7.90185673e+02])"
      ]
     },
     "execution_count": 24,
     "metadata": {},
     "output_type": "execute_result"
    }
   ],
   "source": [
    "X"
   ]
  },
  {
   "cell_type": "code",
   "execution_count": 25,
   "metadata": {},
   "outputs": [
    {
     "data": {
      "text/plain": [
       "array([[-7.09366918e+02, -2.16541036e+07, -9.46230497e+07,\n",
       "         6.31599145e+08, -3.61418428e+08, -1.68359187e+06],\n",
       "       [ 3.35571408e+02, -1.25027163e+07, -2.21834082e+08,\n",
       "         1.33514243e+09, -2.15614820e+08,  7.93923150e+05],\n",
       "       [-1.28135681e+02,  8.44323486e+07, -5.71168042e+07,\n",
       "        -2.98023224e-05,  1.43616630e+09, -2.94354976e+05],\n",
       "       [-3.45806984e-03,  1.98623639e+02,  8.92946231e+02,\n",
       "        -6.13849832e+03,  3.45172297e+03, -2.05352781e-02],\n",
       "       [ 1.63070536e-03,  1.22629713e+02,  2.09342130e+03,\n",
       "        -1.30172875e+04,  2.13099454e+03,  9.71436702e-03],\n",
       "       [-6.04600245e-04, -8.05329094e+02,  5.39004346e+02,\n",
       "         4.54747351e-10, -1.39948266e+04, -3.70936596e-03]])"
      ]
     },
     "execution_count": 25,
     "metadata": {},
     "output_type": "execute_result"
    }
   ],
   "source": [
    "Jsk=Util.computeJacobian(egeo2Xgeo,X,dX,N=6,**args)\n",
    "Jsk"
   ]
  },
  {
   "cell_type": "code",
   "execution_count": 26,
   "metadata": {},
   "outputs": [
    {
     "name": "stdout",
     "output_type": "stream",
     "text": [
      "Jacobian for a:\n",
      "\tJ numerical: [-709.3669176101685, 335.57140827178955, -128.13568115234375, -0.0034580698411446065, 0.001630705355637474, -0.0006046002454240806]\n",
      "\tJ analytical: [-709.3668891596213, 335.57132923629536, -128.13565838617563, -0.0034580702828349444, 0.0016307052171732688, -0.0006046003252553279]\n",
      "Jacobian for e:\n",
      "\tJ numerical: [-21654103.624343872, -12502716.339230537, 84432348.58614206, 198.62363917036419, 122.62971255086086, -805.3290937423299]\n",
      "\tJ analytical: [-21654103.483045492, -12502715.0840171, 84432343.47683838, 198.62363788326863, 122.62970032729076, -805.329044135356]\n",
      "Jacobian for i:\n",
      "\tJ numerical: [-94623049.68380928, -221834081.82615042, -57116804.20285463, 892.9462311407406, 2093.4212960564764, 539.0043463835354]\n",
      "\tJ analytical: [-94623065.45423755, -221834118.79861742, -57116813.722043455, 892.9463799666311, 2093.421644959422, 539.0044362174394]\n",
      "Jacobian for W:\n",
      "\tJ numerical: [631599145.1780796, 1335142432.5506687, -2.9802322387695312e-05, -6138.498324919055, -13017.28749935046, 4.547473508864641e-10]\n",
      "\tJ analytical: [631599250.4443468, 1335142655.0739884, 0.0, -6138.499348000454, -13017.28966889456, 0.0]\n",
      "Jacobian for w:\n",
      "\tJ numerical: [-361418428.40635777, -215614819.6479082, 1436166301.6282916, 3451.7229733282875, 2130.9945404577775, -13994.826615718921]\n",
      "\tJ analytical: [-361418488.64268565, -215614855.5837915, 1436166540.989524, 3451.7235486165773, 2130.9948956237317, -13994.828948191634]\n",
      "Jacobian for M:\n",
      "\tJ numerical: [-1683591.8737649918, 793923.1501221657, -294354.9757897854, -0.02053527805401245, 0.009714367024571402, -0.003709365955728572]\n",
      "\tJ analytical: [-1683591.8739670091, 793923.1501731637, -294354.9758517924, -0.02053527747396605, 0.009714367083497072, -0.0037093658295592473]\n"
     ]
    }
   ],
   "source": [
    "Jany=soi.Jck\n",
    "Jnum=Jsk\n",
    "for i,comp in enumerate([\"a\",\"e\",\"i\",\"W\",\"w\",\"M\"]):\n",
    "    print(f\"Jacobian for {comp}:\")\n",
    "    print(\"\\tJ numerical:\",Jnum[:,i].tolist())\n",
    "    print(\"\\tJ analytical:\",Jany[:,i].tolist())"
   ]
  },
  {
   "cell_type": "code",
   "execution_count": 27,
   "metadata": {},
   "outputs": [
    {
     "data": {
      "text/plain": [
       "-2.2464766684822025e+25"
      ]
     },
     "execution_count": 27,
     "metadata": {},
     "output_type": "execute_result"
    }
   ],
   "source": [
    "np.linalg.det(Jsk)"
   ]
  },
  {
   "cell_type": "markdown",
   "metadata": {},
   "source": [
    "### dehel/dXSoI"
   ]
  },
  {
   "cell_type": "code",
   "execution_count": 28,
   "metadata": {},
   "outputs": [
    {
     "name": "stdout",
     "output_type": "stream",
     "text": [
      "[2.45353314e+11 5.49669222e-01 7.05389185e-02 5.69976633e+00\n",
      " 1.86511804e+00 3.72176024e-01]\n"
     ]
    },
    {
     "data": {
      "text/plain": [
       "array([[-4.63083553e+00,  3.20779936e+00,  8.91263190e-03,\n",
       "        -2.76497054e+07, -1.67426303e+07, -2.06349992e+06],\n",
       "       [-7.04262342e-12,  1.78749803e-13, -2.63580119e-13,\n",
       "        -4.94181576e-05, -1.13930475e-05, -2.59533869e-06],\n",
       "       [-1.24372606e-13, -1.88424499e-13,  3.19534184e-12,\n",
       "         1.19042720e-06,  1.80349723e-06, -3.05840810e-05],\n",
       "       [-3.72952926e-12, -5.65023687e-12,  9.58178919e-11,\n",
       "        -3.79239828e-07, -5.74548344e-07,  9.74331031e-06],\n",
       "       [-8.02363391e-13,  1.98722941e-11, -9.49161607e-11,\n",
       "        -4.82852550e-05, -1.05403021e-04, -1.78624700e-05],\n",
       "       [ 9.11928673e-12, -8.65837341e-12, -1.55620352e-13,\n",
       "         8.27731981e-05,  5.93535376e-05,  6.72177813e-06]])"
      ]
     },
     "execution_count": 28,
     "metadata": {},
     "output_type": "execute_result"
    }
   ],
   "source": [
    "#dehel/dXSoI\n",
    "hel_aelements=ray.conics[2]\n",
    "hel_mu=hel_aelements[-2]\n",
    "hel_elements=np.array(hel_aelements[:6])\n",
    "hel=KeplerianOrbit(hel_mu)\n",
    "hel.setElements(hel_elements,0)\n",
    "hel.calcJacobians()\n",
    "print(hel.celements)\n",
    "JKC_SOI=np.copy(hel.Jkc)\n",
    "hel.Jkc"
   ]
  },
  {
   "cell_type": "code",
   "execution_count": 29,
   "metadata": {},
   "outputs": [],
   "source": [
    "def XSoI2ehel(X,mu=1):\n",
    "    orbit=KeplerianOrbit(mu)\n",
    "    orbit.setState(X,0)\n",
    "    return orbit.celements"
   ]
  },
  {
   "cell_type": "code",
   "execution_count": 30,
   "metadata": {},
   "outputs": [
    {
     "data": {
      "text/plain": [
       "array([2.45353314e+11, 5.49669222e-01, 7.05389185e-02, 5.69976633e+00,\n",
       "       1.86511804e+00, 3.72176024e-01])"
      ]
     },
     "execution_count": 30,
     "metadata": {},
     "output_type": "execute_result"
    }
   ],
   "source": [
    "X=np.copy(hel.state)\n",
    "dX=1e-6*np.abs(X)\n",
    "args=dict(mu=hel_mu)\n",
    "XSoI2ehel(X,**args)"
   ]
  },
  {
   "cell_type": "code",
   "execution_count": 31,
   "metadata": {},
   "outputs": [
    {
     "data": {
      "text/plain": [
       "array([[-4.63083553e+00,  3.20779936e+00,  8.91271548e-03,\n",
       "        -2.76497054e+07, -1.67426303e+07, -2.06349994e+06],\n",
       "       [-7.04262342e-12,  1.78749803e-13, -2.63580066e-13,\n",
       "        -4.94181576e-05, -1.13930475e-05, -2.59533870e-06],\n",
       "       [-1.24372605e-13, -1.88424499e-13,  3.19534180e-12,\n",
       "         1.19042720e-06,  1.80349723e-06, -3.05840810e-05],\n",
       "       [-3.72952926e-12, -5.65023687e-12,  9.58178918e-11,\n",
       "        -3.79239823e-07, -5.74548352e-07,  9.74331030e-06],\n",
       "       [-8.02363392e-13,  1.98722941e-11, -9.49161611e-11,\n",
       "        -4.82852550e-05, -1.05403021e-04, -1.78624699e-05],\n",
       "       [ 9.11928673e-12, -8.65837341e-12, -1.55620488e-13,\n",
       "         8.27731981e-05,  5.93535376e-05,  6.72177811e-06]])"
      ]
     },
     "execution_count": 31,
     "metadata": {},
     "output_type": "execute_result"
    }
   ],
   "source": [
    "Jkc=Util.computeJacobian(XSoI2ehel,X,dX,N=6,**args)\n",
    "Jkc"
   ]
  },
  {
   "cell_type": "code",
   "execution_count": 32,
   "metadata": {},
   "outputs": [
    {
     "name": "stdout",
     "output_type": "stream",
     "text": [
      "Jacobian for a:\n",
      "\tJ numerical: [-4.630835530267583, -7.042623419604562e-12, -1.2437260547885655e-13, -3.72952925736321e-12, -8.023633916550607e-13, 9.119286726785078e-12]\n",
      "\tJ analytical: [-4.630835530205663, -7.0426234195356236e-12, -1.2437260550898445e-13, -3.72952925693729e-12, -8.023633914578409e-13, 9.119286726793469e-12]\n",
      "Jacobian for e:\n",
      "\tJ numerical: [3.2077993555770665, 1.7874980297533247e-13, -1.8842449902643194e-13, -5.650236871866014e-12, 1.9872294094374604e-11, -8.658373409125542e-12]\n",
      "\tJ analytical: [3.2077993553568054, 1.7874980272966839e-13, -1.8842449892304537e-13, -5.650236871547289e-12, 1.9872294094192657e-11, -8.658373408239716e-12]\n",
      "Jacobian for i:\n",
      "\tJ numerical: [0.008912715475943028, -2.6358006596284397e-13, 3.1953418008887808e-12, 9.581789180032997e-11, -9.491616113662525e-11, -1.5562048782077091e-13]\n",
      "\tJ analytical: [0.008912631902059872, -2.6358011911928413e-13, 3.1953418380279232e-12, 9.581789190691436e-11, -9.491616073728448e-11, -1.5562035160798993e-13]\n",
      "Jacobian for W:\n",
      "\tJ numerical: [-27649705.38898088, -4.941815763991851e-05, 1.1904272013929254e-06, -3.7923982256695043e-07, -4.828525499833131e-05, 8.27731981233053e-05]\n",
      "\tJ analytical: [-27649705.387182955, -4.9418157636099656e-05, 1.1904272014159041e-06, -3.792398280382854e-07, -4.8285255007957455e-05, 8.277319812159487e-05]\n",
      "Jacobian for w:\n",
      "\tJ numerical: [-16742630.258141516, -1.1393047529165695e-05, 1.803497225333499e-06, -5.745483519863699e-07, -0.00010540302137840243, 5.9353537553665595e-05]\n",
      "\tJ analytical: [-16742630.256100249, -1.1393047528876758e-05, 1.803497225238709e-06, -5.745483442864803e-07, -0.00010540302137977528, 5.935353755187736e-05]\n",
      "Jacobian for M:\n",
      "\tJ numerical: [-2063499.936335634, -2.5953386958660618e-06, -3.058408100643505e-05, 9.743310296267857e-06, -1.7862469919637094e-05, 6.721778112416317e-06]\n",
      "\tJ analytical: [-2063499.916894211, -2.595338688898642e-06, -3.058408100597387e-05, 9.74331030710598e-06, -1.786247002180962e-05, 6.721778131404099e-06]\n"
     ]
    }
   ],
   "source": [
    "Jany=hel.Jkc\n",
    "Jnum=Jkc\n",
    "for i,comp in enumerate([\"a\",\"e\",\"i\",\"W\",\"w\",\"M\"]):\n",
    "    print(f\"Jacobian for {comp}:\")\n",
    "    print(\"\\tJ numerical:\",Jnum[:,i].tolist())\n",
    "    print(\"\\tJ analytical:\",Jany[:,i].tolist())"
   ]
  },
  {
   "cell_type": "markdown",
   "metadata": {},
   "source": [
    "## dehel/degeo\n",
    "\n",
    "Combined"
   ]
  },
  {
   "cell_type": "code",
   "execution_count": 33,
   "metadata": {},
   "outputs": [
    {
     "data": {
      "text/plain": [
       "-1.5314356135953121e-09"
      ]
     },
     "execution_count": 33,
     "metadata": {},
     "output_type": "execute_result"
    }
   ],
   "source": [
    "np.linalg.det(JCK_SOI)*np.linalg.det(JKC_SOI)"
   ]
  },
  {
   "cell_type": "code",
   "execution_count": 35,
   "metadata": {},
   "outputs": [],
   "source": [
    "def egeo2ehel(X,mu_geo=1,mu_hel=1,body=None,tpos=0):\n",
    "    ageo,egeo,igeo,Wgeo,wgeo,Mgeo=X\n",
    "    geo=KeplerianOrbit(mu_geo)\n",
    "    qgeo=ageo*(1-egeo)\n",
    "    geo.setElements([qgeo,egeo,igeo,Wgeo,wgeo,Mgeo],0)\n",
    "    body.updateBody(tpos)\n",
    "    state=geo.state+body.stateHelio\n",
    "    hel=KeplerianOrbit(mu_hel)\n",
    "    hel.setState(state,0)\n",
    "    return hel.celements"
   ]
  },
  {
   "cell_type": "code",
   "execution_count": 36,
   "metadata": {},
   "outputs": [
    {
     "data": {
      "text/plain": [
       "array([2.45353314e+11, 5.49669222e-01, 7.05389185e-02, 5.69976633e+00,\n",
       "       1.86511804e+00, 3.72176024e-01])"
      ]
     },
     "execution_count": 36,
     "metadata": {},
     "output_type": "execute_result"
    }
   ],
   "source": [
    "a=soi_elements[0]/(1-soi_elements[1])\n",
    "X=np.array([a]+soi_elements[1:].tolist())\n",
    "dX=np.abs(X*1e-6)\n",
    "args=dict(mu_geo=geo_mu,mu_hel=hel_mu,tpos=hel_aelements[-1],body=earth)\n",
    "egeo2ehel(X,**args)"
   ]
  },
  {
   "cell_type": "code",
   "execution_count": 37,
   "metadata": {},
   "outputs": [
    {
     "data": {
      "text/plain": [
       "array([[ 7.39201876e+04, -5.82230951e+09, -6.11252491e+10,\n",
       "         3.89029404e+11, -1.01244450e+11,  1.07533644e+07],\n",
       "       [ 1.58971464e-07, -8.99462652e-03, -6.87353198e-02,\n",
       "         4.47450469e-01, -1.56406775e-01,  1.29901698e-05],\n",
       "       [ 1.69310954e-08,  2.53626972e-02, -1.17754278e-02,\n",
       "        -3.11142096e-02,  4.40645872e-01, -7.74244966e-07],\n",
       "       [-1.70444312e-08,  2.49178622e-04, -1.56223261e-04,\n",
       "        -9.24144550e-05,  1.28729436e-03, -2.64452568e-05],\n",
       "       [ 2.52920909e-08, -1.63760452e-02, -2.72308183e-01,\n",
       "         1.69448624e+00, -2.81608627e-01,  4.51008573e-05],\n",
       "       [-2.02865884e-07,  1.82036210e-02,  2.02853792e-01,\n",
       "        -1.28652584e+00,  3.16469646e-01, -2.33295549e-05]])"
      ]
     },
     "execution_count": 37,
     "metadata": {},
     "output_type": "execute_result"
    }
   ],
   "source": [
    "Jee=Util.computeJacobian(egeo2ehel,X,dX,N=6,**args)\n",
    "Jee"
   ]
  },
  {
   "cell_type": "code",
   "execution_count": 38,
   "metadata": {},
   "outputs": [
    {
     "data": {
      "text/plain": [
       "-1.531428660447717e-09"
      ]
     },
     "execution_count": 38,
     "metadata": {},
     "output_type": "execute_result"
    }
   ],
   "source": [
    "np.linalg.det(Jee)"
   ]
  },
  {
   "cell_type": "markdown",
   "metadata": {},
   "source": [
    "## degeoSoIdegeo"
   ]
  },
  {
   "cell_type": "code",
   "execution_count": 87,
   "metadata": {},
   "outputs": [],
   "source": [
    "def egeo2egeoSoI(X,mu=1,body=None):\n",
    "    a,e,i,W,w,Mo=X\n",
    "    q=a*(1-e)\n",
    "    #Find the M at SoI\n",
    "    n=np.sqrt(mu/np.abs(a)**3)\n",
    "    fd=np.arccos((q*(1+e)/body.rhill-1)/e)\n",
    "    Hd=2*np.arctanh(np.sqrt((e-1)/(e+1))*np.tan(fd/2))\n",
    "    Md=e*np.sinh(Hd)-Hd\n",
    "    \n",
    "    asoi=a\n",
    "    esoi=e\n",
    "    isoi=i\n",
    "    Wsoi=W\n",
    "    wsoi=w\n",
    "    return np.array([asoi,esoi,isoi,Wsoi,wsoi,-Md])"
   ]
  },
  {
   "cell_type": "code",
   "execution_count": 88,
   "metadata": {},
   "outputs": [
    {
     "data": {
      "text/plain": [
       "array([ 6.07767387e+06,  4.22909360e+00,  1.80334206e+00,  5.88000359e+00,\n",
       "        1.97072497e+00, -9.12819743e-01])"
      ]
     },
     "execution_count": 88,
     "metadata": {},
     "output_type": "execute_result"
    }
   ],
   "source": [
    "geo.elements"
   ]
  },
  {
   "cell_type": "code",
   "execution_count": 89,
   "metadata": {},
   "outputs": [
    {
     "data": {
      "text/plain": [
       "array([-1.88216095e+06,  4.22909360e+00,  1.80334206e+00,  5.88000359e+00,\n",
       "        1.97072497e+00, -7.90185673e+02])"
      ]
     },
     "execution_count": 89,
     "metadata": {},
     "output_type": "execute_result"
    }
   ],
   "source": [
    "X=np.copy(geo.elements)\n",
    "X[0]=X[0]/(1-X[1])\n",
    "dX=np.abs(X*1e-6)\n",
    "args=dict(mu=geo_mu,body=earth)\n",
    "egeo2egeoSoI(X,**args)"
   ]
  },
  {
   "cell_type": "code",
   "execution_count": 78,
   "metadata": {},
   "outputs": [
    {
     "data": {
      "text/plain": [
       "array([[ 1.00000000e+00,  0.00000000e+00,  0.00000000e+00,\n",
       "         0.00000000e+00,  0.00000000e+00,  0.00000000e+00],\n",
       "       [ 0.00000000e+00,  1.00000000e+00,  0.00000000e+00,\n",
       "         0.00000000e+00,  0.00000000e+00,  0.00000000e+00],\n",
       "       [ 0.00000000e+00,  0.00000000e+00,  1.00000000e+00,\n",
       "         0.00000000e+00,  0.00000000e+00,  0.00000000e+00],\n",
       "       [ 0.00000000e+00,  0.00000000e+00,  0.00000000e+00,\n",
       "         1.00000000e+00,  0.00000000e+00,  0.00000000e+00],\n",
       "       [ 0.00000000e+00,  0.00000000e+00,  0.00000000e+00,\n",
       "         0.00000000e+00,  1.00000000e+00,  0.00000000e+00],\n",
       "       [-4.21930055e-04, -2.31147739e-01,  0.00000000e+00,\n",
       "         0.00000000e+00,  0.00000000e+00,  0.00000000e+00]])"
      ]
     },
     "execution_count": 78,
     "metadata": {},
     "output_type": "execute_result"
    }
   ],
   "source": [
    "Jsg=Util.computeJacobian(egeo2egeoSoI,X,dX,N=6,**args)\n",
    "Jsg"
   ]
  },
  {
   "cell_type": "code",
   "execution_count": 79,
   "metadata": {},
   "outputs": [
    {
     "data": {
      "text/plain": [
       "0.0"
      ]
     },
     "execution_count": 79,
     "metadata": {},
     "output_type": "execute_result"
    }
   ],
   "source": [
    "np.linalg.det(Jsg)"
   ]
  },
  {
   "cell_type": "markdown",
   "metadata": {},
   "source": [
    "## dEheldehel"
   ]
  },
  {
   "cell_type": "code",
   "execution_count": 114,
   "metadata": {},
   "outputs": [
    {
     "name": "stdout",
     "output_type": "stream",
     "text": [
      "[1.10490149e+11 5.49669222e-01 7.05389185e-02 5.69976633e+00\n",
      " 1.86511804e+00 3.72176024e-01]\n"
     ]
    }
   ],
   "source": [
    "#dehel/dXSoI\n",
    "hel_aelements=ray.conics[2]\n",
    "hel_mu=hel_aelements[-2]\n",
    "hel_elements=np.array(hel_aelements[:6])\n",
    "hel=KeplerianOrbit(hel_mu)\n",
    "hel.setElements(hel_elements,0)\n",
    "print(hel.elements)"
   ]
  },
  {
   "cell_type": "code",
   "execution_count": 115,
   "metadata": {},
   "outputs": [
    {
     "name": "stdout",
     "output_type": "stream",
     "text": [
      "[ 1.03860642  0.19933431 -3.77361143  2.27927487 -0.86237799 -2.76520495]\n",
      "[[ 5.17922462  0.          0.          0.          0.          0.        ]\n",
      " [ 0.          4.03986591  0.          0.          0.          0.        ]\n",
      " [ 0.          0.         14.50219233  0.          0.          0.        ]\n",
      " [ 0.          0.          0.         -0.21545809  0.          0.        ]\n",
      " [ 0.          0.          0.          0.          1.31956676  0.        ]\n",
      " [ 0.          0.          0.          0.          0.          3.04798752]]\n"
     ]
    }
   ],
   "source": [
    "#dEhel/dehel\n",
    "helE=Const.transformElements(hel.elements,[1/Const.au,1.0])\n",
    "hel.elements=helE\n",
    "hel.calcUelements()\n",
    "hel.uelements\n",
    "hel.calcJacobiansMap()\n",
    "print(hel.uelements)\n",
    "JEE=np.copy(hel.JEe)\n",
    "print(hel.JEe)"
   ]
  },
  {
   "cell_type": "code",
   "execution_count": 116,
   "metadata": {},
   "outputs": [
    {
     "data": {
      "text/plain": [
       "-262.94971623862756"
      ]
     },
     "execution_count": 116,
     "metadata": {},
     "output_type": "execute_result"
    }
   ],
   "source": [
    "np.linalg.det(JEE)"
   ]
  },
  {
   "cell_type": "markdown",
   "metadata": {},
   "source": [
    "## Summarizing"
   ]
  },
  {
   "cell_type": "code",
   "execution_count": 117,
   "metadata": {},
   "outputs": [],
   "source": [
    "def Rimp2Ehel(X):\n",
    "    lon,lat,alt,A,h,v=X\n",
    "    #Definition\n",
    "    earth=Body(body)\n",
    "    site=Location(earth,lon,lat,alt)\n",
    "    ray=GrtRay(site,A,h,v)\n",
    "    #Propagate\n",
    "    tdb=Spice.str2t(\"02/15/2013 03:20:34 UTC\")\n",
    "    ray.updateRay(tdb)\n",
    "    ray.propagateRay()\n",
    "    #Final elements\n",
    "    hel=ray.terminal\n",
    "    #\"\"\"\n",
    "    helE=Const.transformElements(hel.elements,[1/Const.au,1.0])\n",
    "    hel.elements=helE\n",
    "    hel.calcUelements()\n",
    "    #\"\"\"\n",
    "    return hel.uelements"
   ]
  },
  {
   "cell_type": "code",
   "execution_count": 118,
   "metadata": {},
   "outputs": [
    {
     "data": {
      "text/plain": [
       "array([ 1.03860642,  0.19933431, -3.77361143,  2.27927487, -0.86237799,\n",
       "       -2.76520495])"
      ]
     },
     "execution_count": 118,
     "metadata": {},
     "output_type": "execute_result"
    }
   ],
   "source": [
    "X=np.array([lon,lat,alt,A,h,v])\n",
    "dX=np.abs(X*1e-6)\n",
    "Rimp2Ehel(X)"
   ]
  },
  {
   "cell_type": "code",
   "execution_count": 119,
   "metadata": {},
   "outputs": [
    {
     "data": {
      "text/plain": [
       "array([[ 2.03243905e+00,  1.79192479e-01, -4.71071060e-08,\n",
       "        -2.32352388e+00, -2.99120053e-01,  8.19588930e-05],\n",
       "       [ 1.78255203e+00,  1.37095118e-01,  7.60461669e-08,\n",
       "        -1.73863576e+00, -7.37570557e-01, -1.84522237e-04],\n",
       "       [-2.75437649e+00,  1.39611114e+00,  2.56569587e-07,\n",
       "        -1.04363003e+00,  7.65849224e+00, -2.32089230e-04],\n",
       "       [-1.01512145e-03,  7.23436896e-04,  2.28229453e-10,\n",
       "        -4.11566922e-04,  2.67711408e-03,  3.53841210e-09],\n",
       "       [ 1.18633848e+00,  1.00888442e-01, -8.29546017e-09,\n",
       "        -1.30637516e+00, -2.53770588e-01,  5.68755308e-06],\n",
       "       [-3.48245782e+00, -2.83019775e-01, -5.33288435e-08,\n",
       "         3.63647013e+00,  1.06045068e+00,  1.52616364e-04]])"
      ]
     },
     "execution_count": 119,
     "metadata": {},
     "output_type": "execute_result"
    }
   ],
   "source": [
    "Jhl=Util.computeJacobian(Rimp2Ehel,X,dX,N=6)\n",
    "Jhl"
   ]
  },
  {
   "cell_type": "code",
   "execution_count": 120,
   "metadata": {},
   "outputs": [
    {
     "data": {
      "text/plain": [
       "7.2131940667282455e-22"
      ]
     },
     "execution_count": 120,
     "metadata": {},
     "output_type": "execute_result"
    }
   ],
   "source": [
    "np.linalg.det(Jhl)"
   ]
  },
  {
   "cell_type": "code",
   "execution_count": 121,
   "metadata": {},
   "outputs": [
    {
     "data": {
      "text/plain": [
       "1.4119760147125552e-10"
      ]
     },
     "execution_count": 121,
     "metadata": {},
     "output_type": "execute_result"
    }
   ],
   "source": [
    "np.linalg.det(JKC_SOI)*np.linalg.det(JCK_SOI)*np.linalg.det(JKC)*np.linalg.det(JEL)*np.linalg.det(JEE)"
   ]
  },
  {
   "cell_type": "code",
   "execution_count": 122,
   "metadata": {},
   "outputs": [
    {
     "data": {
      "text/plain": [
       "1.4119760147126358e-10"
      ]
     },
     "execution_count": 122,
     "metadata": {},
     "output_type": "execute_result"
    }
   ],
   "source": [
    "np.linalg.det(JKC_SOI)*np.linalg.det(JEL)*np.linalg.det(JEE)"
   ]
  },
  {
   "cell_type": "code",
   "execution_count": 123,
   "metadata": {},
   "outputs": [
    {
     "data": {
      "text/plain": [
       "-2.2464779625568697e+25"
      ]
     },
     "execution_count": 123,
     "metadata": {},
     "output_type": "execute_result"
    }
   ],
   "source": [
    "np.linalg.det(JCK_SOI)"
   ]
  },
  {
   "cell_type": "code",
   "execution_count": 124,
   "metadata": {},
   "outputs": [
    {
     "data": {
      "text/plain": [
       "-4.451412462830372e-26"
      ]
     },
     "execution_count": 124,
     "metadata": {},
     "output_type": "execute_result"
    }
   ],
   "source": [
    "np.linalg.det(JKC)"
   ]
  },
  {
   "cell_type": "code",
   "execution_count": 125,
   "metadata": {},
   "outputs": [
    {
     "data": {
      "text/plain": [
       "-4.451412462830625e-26"
      ]
     },
     "execution_count": 125,
     "metadata": {},
     "output_type": "execute_result"
    }
   ],
   "source": [
    "1/np.linalg.det(JCK_SOI)"
   ]
  },
  {
   "cell_type": "code",
   "execution_count": null,
   "metadata": {},
   "outputs": [],
   "source": []
  }
 ],
 "metadata": {
  "kernelspec": {
   "display_name": "Python 3",
   "language": "python",
   "name": "python3"
  },
  "language_info": {
   "codemirror_mode": {
    "name": "ipython",
    "version": 3
   },
   "file_extension": ".py",
   "mimetype": "text/x-python",
   "name": "python",
   "nbconvert_exporter": "python",
   "pygments_lexer": "ipython3",
   "version": "3.6.8"
  }
 },
 "nbformat": 4,
 "nbformat_minor": 2
}
