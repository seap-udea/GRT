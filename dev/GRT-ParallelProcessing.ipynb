{
 "cells": [
  {
   "cell_type": "markdown",
   "metadata": {},
   "source": [
    "# GRT Parallel Processing\n",
    "\n",
    "In this notebook we will test the parallel processing for GRT"
   ]
  },
  {
   "cell_type": "code",
   "execution_count": 36,
   "metadata": {},
   "outputs": [
    {
     "name": "stdout",
     "output_type": "stream",
     "text": [
      "Number of processors:  4\n"
     ]
    }
   ],
   "source": [
    "from gravray import *\n",
    "from gravray.util import *\n",
    "from gravray.sampling import *\n",
    "from gravray.spice import *\n",
    "from gravray.orbit import *\n",
    "from gravray.stats import *\n",
    "\n",
    "from tqdm import tqdm\n",
    "import pandas as pd\n",
    "import multiprocessing as mp\n",
    "import psutil\n",
    "from itertools import product as cartesian\n",
    "\n",
    "Spice.loadKernels()\n",
    "NP=mp.cpu_count()\n",
    "print(\"Number of processors: \",NP)"
   ]
  },
  {
   "cell_type": "code",
   "execution_count": 23,
   "metadata": {},
   "outputs": [],
   "source": [
    "#import ray\n",
    "#np=psutil.cpu_count(logical=False)\n",
    "#ray.init(num_cpus=2)"
   ]
  },
  {
   "cell_type": "markdown",
   "metadata": {},
   "source": [
    "## Common data"
   ]
  },
  {
   "cell_type": "code",
   "execution_count": 24,
   "metadata": {},
   "outputs": [],
   "source": [
    "body=\"EARTH\"\n",
    "earth=Body(body)"
   ]
  },
  {
   "cell_type": "markdown",
   "metadata": {},
   "source": [
    "## Parallel function"
   ]
  },
  {
   "cell_type": "code",
   "execution_count": 99,
   "metadata": {},
   "outputs": [],
   "source": [
    "def rayProcessing(initial):\n",
    "    t=initial[0]\n",
    "    site=initial[1]\n",
    "    direction=initial[2]\n",
    "    #print(f\"Processing ray at {t}\")\n",
    "    ray=GrtRay(site,direction[0],direction[1],direction[2])\n",
    "    ray.updateRay(t)\n",
    "    ray.propagateRay(t)\n",
    "    raydf=ray.packRay()\n",
    "    raydf[\"detJ\"]=ray.calcJacobianDeterminant()\n",
    "    return raydf"
   ]
  },
  {
   "cell_type": "markdown",
   "metadata": {},
   "source": [
    "## Input data"
   ]
  },
  {
   "cell_type": "code",
   "execution_count": 84,
   "metadata": {},
   "outputs": [],
   "source": [
    "ts=[Spice.str2t(\"02/15/2013 03:20:34 UTC\")]\n",
    "siteprops=[[61.1*Angle.Deg,54.8*Angle.Deg,23.3*Const.km]]\n",
    "sites=[]\n",
    "for siteprop in siteprops:\n",
    "    sites+=[Location(earth,siteprop[0],siteprop[1],siteprop[2])]\n",
    "directions=[[101.1*Angle.Deg,15.9*Angle.Deg,-18.6*Const.km/Const.s]]\n",
    "\n",
    "#List of conditions\n",
    "initials=list(cartesian(*[ts,sites,directions]))"
   ]
  },
  {
   "cell_type": "code",
   "execution_count": 85,
   "metadata": {},
   "outputs": [
    {
     "name": "stdout",
     "output_type": "stream",
     "text": [
      "Processing ray at 414170434.0\n"
     ]
    },
    {
     "data": {
      "text/html": [
       "<div>\n",
       "<style scoped>\n",
       "    .dataframe tbody tr th:only-of-type {\n",
       "        vertical-align: middle;\n",
       "    }\n",
       "\n",
       "    .dataframe tbody tr th {\n",
       "        vertical-align: top;\n",
       "    }\n",
       "\n",
       "    .dataframe thead th {\n",
       "        text-align: right;\n",
       "    }\n",
       "</style>\n",
       "<table border=\"1\" class=\"dataframe\">\n",
       "  <thead>\n",
       "    <tr style=\"text-align: right;\">\n",
       "      <th></th>\n",
       "      <th>et</th>\n",
       "      <th>lon</th>\n",
       "      <th>lat</th>\n",
       "      <th>alt</th>\n",
       "      <th>A</th>\n",
       "      <th>h</th>\n",
       "      <th>v</th>\n",
       "      <th>ximp</th>\n",
       "      <th>yimp</th>\n",
       "      <th>zimp</th>\n",
       "      <th>...</th>\n",
       "      <th>vzhel</th>\n",
       "      <th>q</th>\n",
       "      <th>e</th>\n",
       "      <th>i</th>\n",
       "      <th>W</th>\n",
       "      <th>w</th>\n",
       "      <th>M</th>\n",
       "      <th>a</th>\n",
       "      <th>n</th>\n",
       "      <th>detJ</th>\n",
       "    </tr>\n",
       "  </thead>\n",
       "  <tbody>\n",
       "    <tr>\n",
       "      <th>0</th>\n",
       "      <td>414170434.0</td>\n",
       "      <td>61.1</td>\n",
       "      <td>54.8</td>\n",
       "      <td>23300.0</td>\n",
       "      <td>101.1</td>\n",
       "      <td>15.9</td>\n",
       "      <td>-18600.0</td>\n",
       "      <td>-1.232675e+11</td>\n",
       "      <td>8.134799e+10</td>\n",
       "      <td>-3.528140e+06</td>\n",
       "      <td>...</td>\n",
       "      <td>-2274.5822</td>\n",
       "      <td>0.738582</td>\n",
       "      <td>0.549668</td>\n",
       "      <td>4.041579</td>\n",
       "      <td>326.572556</td>\n",
       "      <td>106.86342</td>\n",
       "      <td>21.323547</td>\n",
       "      <td>1.640082</td>\n",
       "      <td>9.479146e-08</td>\n",
       "      <td>-4.509452e-13</td>\n",
       "    </tr>\n",
       "  </tbody>\n",
       "</table>\n",
       "<p>1 rows × 28 columns</p>\n",
       "</div>"
      ],
      "text/plain": [
       "            et   lon   lat      alt      A     h        v          ximp  \\\n",
       "0  414170434.0  61.1  54.8  23300.0  101.1  15.9 -18600.0 -1.232675e+11   \n",
       "\n",
       "           yimp          zimp      ...           vzhel         q         e  \\\n",
       "0  8.134799e+10 -3.528140e+06      ...      -2274.5822  0.738582  0.549668   \n",
       "\n",
       "          i           W          w          M         a             n  \\\n",
       "0  4.041579  326.572556  106.86342  21.323547  1.640082  9.479146e-08   \n",
       "\n",
       "           detJ  \n",
       "0 -4.509452e-13  \n",
       "\n",
       "[1 rows x 28 columns]"
      ]
     },
     "execution_count": 85,
     "metadata": {},
     "output_type": "execute_result"
    }
   ],
   "source": [
    "#Test\n",
    "for initial in initials:\n",
    "    r=rayProcessing(initial)\n",
    "r    "
   ]
  },
  {
   "cell_type": "code",
   "execution_count": 151,
   "metadata": {},
   "outputs": [
    {
     "name": "stdout",
     "output_type": "stream",
     "text": [
      "Preparing times...\n",
      "Preparing sites...\n",
      "Elapsed time since last call: 1.94788 ms\n",
      "Preparing directions...\n",
      "Elapsed time since last call: 50.9129 ms\n",
      "Preparing initial conditions...\n",
      "Elapsed time since last call: 3.21778 s\n",
      "Number of initial conditions: 5000000 = 100*1*50000\n"
     ]
    }
   ],
   "source": [
    "#Times\n",
    "print(\"Preparing times...\")\n",
    "tini=Spice.str2t(\"02/15/2013 03:20:34\")\n",
    "tend=tini+Const.Year\n",
    "ts=np.linspace(tini,tend,100)\n",
    "\n",
    "#Sites\n",
    "print(\"Preparing sites...\")\n",
    "elTime(0)\n",
    "H=23.3*Const.km\n",
    "siteprops=[[61.1*Angle.Deg,54.8*Angle.Deg,H]]\n",
    "sites=[]\n",
    "for siteprop in siteprops:\n",
    "    sites+=[Location(earth,siteprop[0],siteprop[1],siteprop[2])]\n",
    "elTime()\n",
    "\n",
    "#Directions\n",
    "print(\"Preparing directions...\")\n",
    "elTime(0)\n",
    "points=Sample(1000)\n",
    "points.genUnitHemisphere()\n",
    "points.pp[:,1]-=np.pi/2\n",
    "speeds=np.linspace(11.2,72.0,50)*Const.km/Const.s\n",
    "directions=list(cartesian(*[points.pp[:,1:],speeds]))\n",
    "elTime()\n",
    "\n",
    "#Initial conditions\n",
    "print(\"Preparing initial conditions...\")\n",
    "elTime(0)\n",
    "initials=list(cartesian(*[ts,sites,directions]))\n",
    "elTime()\n",
    "\n",
    "Ninitials=len(initials)\n",
    "print(f\"Number of initial conditions: {len(initials)} = {len(ts)}*{len(sites)}*{len(directions)}\")"
   ]
  },
  {
   "cell_type": "code",
   "execution_count": null,
   "metadata": {},
   "outputs": [],
   "source": [
    "points.pp[:,1]"
   ]
  },
  {
   "cell_type": "markdown",
   "metadata": {},
   "source": [
    "## Parallel processing"
   ]
  },
  {
   "cell_type": "code",
   "execution_count": 114,
   "metadata": {},
   "outputs": [
    {
     "name": "stdout",
     "output_type": "stream",
     "text": [
      "100 loops, best of 3: 28.2 ms per loop\n"
     ]
    }
   ],
   "source": [
    "%timeit -n 100 rayProcessing(initials[0])"
   ]
  },
  {
   "cell_type": "code",
   "execution_count": 143,
   "metadata": {},
   "outputs": [],
   "source": [
    "raydfs=pd.DataFrame()\n",
    "def joinResults(raydf):\n",
    "    global raydfs\n",
    "    raydfs=pd.concat((raydfs,raydf))"
   ]
  },
  {
   "cell_type": "code",
   "execution_count": null,
   "metadata": {},
   "outputs": [
    {
     "name": "stderr",
     "output_type": "stream",
     "text": [
      "100%|██████████| 5000000/5000000 [06:09<00:00, 13519.77it/s]\n"
     ]
    }
   ],
   "source": [
    "pool=mp.Pool(NP)\n",
    "elTime(0)\n",
    "#R=[pool.apply_async(rayProcessing,args=(initial,),callback=joinResults) for initial in initials]\n",
    "for initial in tqdm(initials):\n",
    "    pool.apply_async(rayProcessing,args=(initial,),callback=joinResults)\n",
    "pool.close()\n",
    "pool.join()\n",
    "elTime()"
   ]
  },
  {
   "cell_type": "code",
   "execution_count": null,
   "metadata": {},
   "outputs": [],
   "source": [
    "print(\"Number of results:\",len(raydfs))"
   ]
  },
  {
   "cell_type": "code",
   "execution_count": null,
   "metadata": {},
   "outputs": [],
   "source": [
    "raydfs.to_csv(\"rays_parallel.csv\")"
   ]
  }
 ],
 "metadata": {
  "kernelspec": {
   "display_name": "Python 3",
   "language": "python",
   "name": "python3"
  },
  "language_info": {
   "codemirror_mode": {
    "name": "ipython",
    "version": 3
   },
   "file_extension": ".py",
   "mimetype": "text/x-python",
   "name": "python",
   "nbconvert_exporter": "python",
   "pygments_lexer": "ipython3",
   "version": "3.6.8"
  }
 },
 "nbformat": 4,
 "nbformat_minor": 2
}
