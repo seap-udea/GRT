{
 "cells": [
  {
   "cell_type": "markdown",
   "metadata": {},
   "source": [
    "# GRT CNEOS Database Analysis\n",
    "\n",
    "In this notebook we analyse the CNEOS database"
   ]
  },
  {
   "cell_type": "code",
   "execution_count": 1,
   "metadata": {},
   "outputs": [
    {
     "data": {
      "application/javascript": [
       "IPython.notebook.kernel.execute('FILE=\"' + IPython.notebook.notebook_name + '\"')"
      ],
      "text/plain": [
       "<IPython.core.display.Javascript object>"
      ]
     },
     "metadata": {},
     "output_type": "display_data"
    },
    {
     "data": {
      "application/javascript": [
       "IPython.notebook.kernel.execute('FILE=\"' + IPython.notebook.notebook_name + '\"')"
      ],
      "text/plain": [
       "<IPython.core.display.Javascript object>"
      ]
     },
     "metadata": {},
     "output_type": "display_data"
    },
    {
     "data": {
      "application/javascript": [
       "IPython.notebook.kernel.execute('FILE=\"' + IPython.notebook.notebook_name + '\"')"
      ],
      "text/plain": [
       "<IPython.core.display.Javascript object>"
      ]
     },
     "metadata": {},
     "output_type": "display_data"
    },
    {
     "name": "stdout",
     "output_type": "stream",
     "text": [
      "The autoreload extension is already loaded. To reload it, use:\n",
      "  %reload_ext autoreload\n"
     ]
    },
    {
     "data": {
      "application/javascript": [
       "IPython.notebook.kernel.execute('FILE=\"' + IPython.notebook.notebook_name + '\"')"
      ],
      "text/plain": [
       "<IPython.core.display.Javascript object>"
      ]
     },
     "metadata": {},
     "output_type": "display_data"
    },
    {
     "data": {
      "application/javascript": [
       "IPython.notebook.kernel.execute('FILE=\"' + IPython.notebook.notebook_name + '\"')"
      ],
      "text/plain": [
       "<IPython.core.display.Javascript object>"
      ]
     },
     "metadata": {},
     "output_type": "display_data"
    },
    {
     "data": {
      "application/javascript": [
       "IPython.notebook.kernel.execute('FILE=\"' + IPython.notebook.notebook_name + '\"')"
      ],
      "text/plain": [
       "<IPython.core.display.Javascript object>"
      ]
     },
     "metadata": {},
     "output_type": "display_data"
    },
    {
     "name": "stdout",
     "output_type": "stream",
     "text": [
      "The autoreload extension is already loaded. To reload it, use:\n",
      "  %reload_ext autoreload\n"
     ]
    },
    {
     "data": {
      "application/javascript": [
       "IPython.notebook.kernel.execute('FILE=\"' + IPython.notebook.notebook_name + '\"')"
      ],
      "text/plain": [
       "<IPython.core.display.Javascript object>"
      ]
     },
     "metadata": {},
     "output_type": "display_data"
    },
    {
     "name": "stdout",
     "output_type": "stream",
     "text": [
      "The autoreload extension is already loaded. To reload it, use:\n",
      "  %reload_ext autoreload\n"
     ]
    }
   ],
   "source": [
    "from gravray import *\n",
    "from gravray.util import *\n",
    "from gravray.stats import *\n",
    "from gravray.spice import *\n",
    "from gravray.plot import *\n",
    "from gravray.sampling import *\n",
    "from gravray.orbit import *\n",
    "\n",
    "from tqdm import tqdm"
   ]
  },
  {
   "cell_type": "code",
   "execution_count": 2,
   "metadata": {},
   "outputs": [],
   "source": [
    "%matplotlib nbagg"
   ]
  },
  {
   "cell_type": "markdown",
   "metadata": {},
   "source": [
    "## Initialize"
   ]
  },
  {
   "cell_type": "code",
   "execution_count": 8,
   "metadata": {},
   "outputs": [],
   "source": [
    "Spice.loadKernels()\n",
    "earth=Body(\"EARTH\")"
   ]
  },
  {
   "cell_type": "markdown",
   "metadata": {},
   "source": [
    "## Load database"
   ]
  },
  {
   "cell_type": "code",
   "execution_count": 95,
   "metadata": {},
   "outputs": [
    {
     "name": "stdout",
     "output_type": "stream",
     "text": [
      "Number of events: 609\n"
     ]
    },
    {
     "data": {
      "text/html": [
       "<div>\n",
       "<style scoped>\n",
       "    .dataframe tbody tr th:only-of-type {\n",
       "        vertical-align: middle;\n",
       "    }\n",
       "\n",
       "    .dataframe tbody tr th {\n",
       "        vertical-align: top;\n",
       "    }\n",
       "\n",
       "    .dataframe thead th {\n",
       "        text-align: right;\n",
       "    }\n",
       "</style>\n",
       "<table border=\"1\" class=\"dataframe\">\n",
       "  <thead>\n",
       "    <tr style=\"text-align: right;\">\n",
       "      <th></th>\n",
       "      <th>Peak Brightness Date/Time (UT)</th>\n",
       "      <th>Latitude (deg.)</th>\n",
       "      <th>Longitude (deg.)</th>\n",
       "      <th>Altitude (km)</th>\n",
       "      <th>Velocity (km/s)</th>\n",
       "      <th>vx</th>\n",
       "      <th>vy</th>\n",
       "      <th>vz</th>\n",
       "      <th>Total Radiated Energy (J)</th>\n",
       "      <th>Calculated Total Impact Energy (kt)</th>\n",
       "    </tr>\n",
       "  </thead>\n",
       "  <tbody>\n",
       "    <tr>\n",
       "      <th>0</th>\n",
       "      <td>2013-02-15 03:20:33</td>\n",
       "      <td>54.8N</td>\n",
       "      <td>61.1E</td>\n",
       "      <td>23.3</td>\n",
       "      <td>18.6</td>\n",
       "      <td>12.8</td>\n",
       "      <td>-13.3</td>\n",
       "      <td>-2.4</td>\n",
       "      <td>3.750000e+14</td>\n",
       "      <td>440.0</td>\n",
       "    </tr>\n",
       "    <tr>\n",
       "      <th>1</th>\n",
       "      <td>2018-12-18 23:48:20</td>\n",
       "      <td>56.9N</td>\n",
       "      <td>172.4E</td>\n",
       "      <td>25.6</td>\n",
       "      <td>32.0</td>\n",
       "      <td>6.3</td>\n",
       "      <td>-3.0</td>\n",
       "      <td>-31.2</td>\n",
       "      <td>1.300000e+14</td>\n",
       "      <td>173.0</td>\n",
       "    </tr>\n",
       "    <tr>\n",
       "      <th>2</th>\n",
       "      <td>2010-12-25 23:24:00</td>\n",
       "      <td>38.0N</td>\n",
       "      <td>158.0E</td>\n",
       "      <td>26.0</td>\n",
       "      <td>18.1</td>\n",
       "      <td>18.0</td>\n",
       "      <td>-2.0</td>\n",
       "      <td>-4.0</td>\n",
       "      <td>2.000000e+13</td>\n",
       "      <td>33.0</td>\n",
       "    </tr>\n",
       "    <tr>\n",
       "      <th>3</th>\n",
       "      <td>2009-10-08 02:57:00</td>\n",
       "      <td>4.2S</td>\n",
       "      <td>120.6E</td>\n",
       "      <td>19.1</td>\n",
       "      <td>19.2</td>\n",
       "      <td>14.0</td>\n",
       "      <td>-16.0</td>\n",
       "      <td>-6.0</td>\n",
       "      <td>2.000000e+13</td>\n",
       "      <td>33.0</td>\n",
       "    </tr>\n",
       "    <tr>\n",
       "      <th>4</th>\n",
       "      <td>1994-02-01 22:38:09</td>\n",
       "      <td>2.7N</td>\n",
       "      <td>164.1E</td>\n",
       "      <td>NaN</td>\n",
       "      <td>NaN</td>\n",
       "      <td>NaN</td>\n",
       "      <td>NaN</td>\n",
       "      <td>NaN</td>\n",
       "      <td>1.820000e+13</td>\n",
       "      <td>30.0</td>\n",
       "    </tr>\n",
       "  </tbody>\n",
       "</table>\n",
       "</div>"
      ],
      "text/plain": [
       "  Peak Brightness Date/Time (UT) Latitude (deg.) Longitude (deg.)  \\\n",
       "0            2013-02-15 03:20:33           54.8N            61.1E   \n",
       "1            2018-12-18 23:48:20           56.9N           172.4E   \n",
       "2            2010-12-25 23:24:00           38.0N           158.0E   \n",
       "3            2009-10-08 02:57:00            4.2S           120.6E   \n",
       "4            1994-02-01 22:38:09            2.7N           164.1E   \n",
       "\n",
       "   Altitude (km)  Velocity (km/s)    vx    vy    vz  \\\n",
       "0           23.3             18.6  12.8 -13.3  -2.4   \n",
       "1           25.6             32.0   6.3  -3.0 -31.2   \n",
       "2           26.0             18.1  18.0  -2.0  -4.0   \n",
       "3           19.1             19.2  14.0 -16.0  -6.0   \n",
       "4            NaN              NaN   NaN   NaN   NaN   \n",
       "\n",
       "   Total Radiated Energy (J)  Calculated Total Impact Energy (kt)  \n",
       "0               3.750000e+14                                440.0  \n",
       "1               1.300000e+14                                173.0  \n",
       "2               2.000000e+13                                 33.0  \n",
       "3               2.000000e+13                                 33.0  \n",
       "4               1.820000e+13                                 30.0  "
      ]
     },
     "execution_count": 95,
     "metadata": {},
     "output_type": "execute_result"
    }
   ],
   "source": [
    "data=pd.read_csv(\"data/cneos_fireball_data.csv\")\n",
    "#cond=data[\"Calculated Total Impact Energy (kt)\"]>=0\n",
    "#datadir=data[cond].dropna().sort_values(by=\"Calculated Total Impact Energy (kt)\",ascending=[False]).reset_index(drop=True)\n",
    "datadir=data.dropna(subset=[\"Latitude (deg.)\"]).sort_values(by=\"Calculated Total Impact Energy (kt)\",ascending=[False]).reset_index(drop=True)\n",
    "print(\"Number of events:\",len(datadir))\n",
    "datadir.head(5)"
   ]
  },
  {
   "cell_type": "code",
   "execution_count": 112,
   "metadata": {},
   "outputs": [
    {
     "name": "stderr",
     "output_type": "stream",
     "text": [
      "100%|██████████| 609/609 [00:04<00:00, 140.48it/s]\n"
     ]
    }
   ],
   "source": [
    "datadir[\"Aloc\"]=0\n",
    "datadir[\"hloc\"]=0\n",
    "datadir[\"vimp\"]=0\n",
    "datadir[\"Name\"]=\"\"\n",
    "for i,ind in enumerate(tqdm(datadir.index)):\n",
    "    bolide=datadir.loc[ind]\n",
    "    dateandtime=datetime.strptime(bolide[\"Peak Brightness Date/Time (UT)\"],\n",
    "                                  \"%Y-%m-%d %H:%M:%S\").strftime(\"%m/%d/%Y %H:%M:%S UTC\")\n",
    "    datename=datetime.strptime(bolide[\"Peak Brightness Date/Time (UT)\"],\n",
    "                                \"%Y-%m-%d %H:%M:%S\").strftime(\"CNEOS-%Y-%m-%d\")\n",
    "\n",
    "    #Position\n",
    "    lat=bolide[\"Latitude (deg.)\"]\n",
    "    lon=bolide[\"Longitude (deg.)\"]\n",
    "    alt=bolide[\"Altitude (km)\"]\n",
    "    \n",
    "    if \"N\" in lat:\n",
    "        lat=+float(lat.replace(\"N\",\"\"))\n",
    "    elif \"S\" in lat:\n",
    "        lat=-float(lat.replace(\"S\",\"\"))\n",
    "    if \"E\" in lon:\n",
    "        lon=+float(lon.replace(\"E\",\"\"))\n",
    "    elif \"W\" in lon:\n",
    "        lon=-float(lon.replace(\"W\",\"\"))\n",
    "    datadir.loc[ind,\"lat\"]=lat\n",
    "    datadir.loc[ind,\"lon\"]=lon\n",
    "           \n",
    "    if np.isnan(alt):\n",
    "        alt=33.33\n",
    "        datadir.loc[ind,\"Altitude (km)\"]=alt\n",
    "\n",
    "    if np.isnan(bolide[\"Velocity (km/s)\"]):\n",
    "        datadir.loc[ind,\"Velocity (km/s)\"]=-1\n",
    "\n",
    "    #Location\n",
    "    location=Location(earth,lon*Angle.Deg,lat*Angle.Deg,alt*Const.km)\n",
    "    \n",
    "    #Convert speed into Aloc, hloc, vimp\n",
    "    if np.isnan(bolide[\"vx\"]):\n",
    "        bolide[[\"vx\",\"vy\",\"vz\"]]=[0,0,0]\n",
    "        datadir.loc[ind,[\"vx\",\"vy\",\"vz\"]]=[0,0,0]\n",
    "        \n",
    "    vbod=-np.array(bolide[[\"vx\",\"vy\",\"vz\"]].values).astype(\"float64\")\n",
    "    \n",
    "    Aloc,hloc,vimp=location.vbod2loc(vbod)\n",
    "\n",
    "    datadir.loc[ind,\"Ephemeris Date\"]=dateandtime\n",
    "    datadir.loc[ind,\"Name\"]=datename\n",
    "    datadir.loc[ind,\"Aloc\"]=Aloc*Angle.Rad\n",
    "    datadir.loc[ind,\"hloc\"]=hloc*Angle.Rad\n",
    "    datadir.loc[ind,\"vimp\"]=vimp"
   ]
  },
  {
   "cell_type": "code",
   "execution_count": 113,
   "metadata": {},
   "outputs": [],
   "source": [
    "datadir.to_csv(\"data/cneos_fireball_data_location.csv\",index=False)"
   ]
  },
  {
   "cell_type": "code",
   "execution_count": 108,
   "metadata": {},
   "outputs": [
    {
     "data": {
      "text/html": [
       "<div>\n",
       "<style scoped>\n",
       "    .dataframe tbody tr th:only-of-type {\n",
       "        vertical-align: middle;\n",
       "    }\n",
       "\n",
       "    .dataframe tbody tr th {\n",
       "        vertical-align: top;\n",
       "    }\n",
       "\n",
       "    .dataframe thead th {\n",
       "        text-align: right;\n",
       "    }\n",
       "</style>\n",
       "<table border=\"1\" class=\"dataframe\">\n",
       "  <thead>\n",
       "    <tr style=\"text-align: right;\">\n",
       "      <th></th>\n",
       "      <th>Peak Brightness Date/Time (UT)</th>\n",
       "      <th>Latitude (deg.)</th>\n",
       "      <th>Longitude (deg.)</th>\n",
       "      <th>Altitude (km)</th>\n",
       "      <th>Velocity (km/s)</th>\n",
       "      <th>vx</th>\n",
       "      <th>vy</th>\n",
       "      <th>vz</th>\n",
       "      <th>Total Radiated Energy (J)</th>\n",
       "      <th>Calculated Total Impact Energy (kt)</th>\n",
       "      <th>Aloc</th>\n",
       "      <th>hloc</th>\n",
       "      <th>vimp</th>\n",
       "      <th>Name</th>\n",
       "      <th>Ephemeris Date</th>\n",
       "    </tr>\n",
       "  </thead>\n",
       "  <tbody>\n",
       "    <tr>\n",
       "      <th>0</th>\n",
       "      <td>2013-02-15 03:20:33</td>\n",
       "      <td>54.8N</td>\n",
       "      <td>61.1E</td>\n",
       "      <td>23.30</td>\n",
       "      <td>18.6</td>\n",
       "      <td>12.8</td>\n",
       "      <td>-13.3</td>\n",
       "      <td>-2.4</td>\n",
       "      <td>3.750000e+14</td>\n",
       "      <td>440.0</td>\n",
       "      <td>99.896113</td>\n",
       "      <td>15.924142</td>\n",
       "      <td>-18.614242</td>\n",
       "      <td>CNEOS-2013-02-15</td>\n",
       "      <td>02/15/2013 03:20:33 UTC</td>\n",
       "    </tr>\n",
       "    <tr>\n",
       "      <th>1</th>\n",
       "      <td>2018-12-18 23:48:20</td>\n",
       "      <td>56.9N</td>\n",
       "      <td>172.4E</td>\n",
       "      <td>25.60</td>\n",
       "      <td>32.0</td>\n",
       "      <td>6.3</td>\n",
       "      <td>-3.0</td>\n",
       "      <td>-31.2</td>\n",
       "      <td>1.300000e+14</td>\n",
       "      <td>173.0</td>\n",
       "      <td>349.433476</td>\n",
       "      <td>68.586703</td>\n",
       "      <td>-31.970768</td>\n",
       "      <td>CNEOS-2018-12-18</td>\n",
       "      <td>12/18/2018 23:48:20 UTC</td>\n",
       "    </tr>\n",
       "    <tr>\n",
       "      <th>2</th>\n",
       "      <td>2010-12-25 23:24:00</td>\n",
       "      <td>38.0N</td>\n",
       "      <td>158.0E</td>\n",
       "      <td>26.00</td>\n",
       "      <td>18.1</td>\n",
       "      <td>18.0</td>\n",
       "      <td>-2.0</td>\n",
       "      <td>-4.0</td>\n",
       "      <td>2.000000e+13</td>\n",
       "      <td>33.0</td>\n",
       "      <td>147.196052</td>\n",
       "      <td>60.888747</td>\n",
       "      <td>-18.547237</td>\n",
       "      <td>CNEOS-2010-12-25</td>\n",
       "      <td>12/25/2010 23:24:00 UTC</td>\n",
       "    </tr>\n",
       "    <tr>\n",
       "      <th>3</th>\n",
       "      <td>2009-10-08 02:57:00</td>\n",
       "      <td>4.2S</td>\n",
       "      <td>120.6E</td>\n",
       "      <td>19.10</td>\n",
       "      <td>19.2</td>\n",
       "      <td>14.0</td>\n",
       "      <td>-16.0</td>\n",
       "      <td>-6.0</td>\n",
       "      <td>2.000000e+13</td>\n",
       "      <td>33.0</td>\n",
       "      <td>27.463598</td>\n",
       "      <td>67.457494</td>\n",
       "      <td>-22.090722</td>\n",
       "      <td>CNEOS-2009-10-08</td>\n",
       "      <td>10/08/2009 02:57:00 UTC</td>\n",
       "    </tr>\n",
       "    <tr>\n",
       "      <th>4</th>\n",
       "      <td>1994-02-01 22:38:09</td>\n",
       "      <td>2.7N</td>\n",
       "      <td>164.1E</td>\n",
       "      <td>33.33</td>\n",
       "      <td>-1.0</td>\n",
       "      <td>0.0</td>\n",
       "      <td>0.0</td>\n",
       "      <td>0.0</td>\n",
       "      <td>1.820000e+13</td>\n",
       "      <td>30.0</td>\n",
       "      <td>0.000000</td>\n",
       "      <td>0.000000</td>\n",
       "      <td>-0.000000</td>\n",
       "      <td>CNEOS-1994-02-01</td>\n",
       "      <td>02/01/1994 22:38:09 UTC</td>\n",
       "    </tr>\n",
       "  </tbody>\n",
       "</table>\n",
       "</div>"
      ],
      "text/plain": [
       "  Peak Brightness Date/Time (UT) Latitude (deg.) Longitude (deg.)  \\\n",
       "0            2013-02-15 03:20:33           54.8N            61.1E   \n",
       "1            2018-12-18 23:48:20           56.9N           172.4E   \n",
       "2            2010-12-25 23:24:00           38.0N           158.0E   \n",
       "3            2009-10-08 02:57:00            4.2S           120.6E   \n",
       "4            1994-02-01 22:38:09            2.7N           164.1E   \n",
       "\n",
       "   Altitude (km)  Velocity (km/s)    vx    vy    vz  \\\n",
       "0          23.30             18.6  12.8 -13.3  -2.4   \n",
       "1          25.60             32.0   6.3  -3.0 -31.2   \n",
       "2          26.00             18.1  18.0  -2.0  -4.0   \n",
       "3          19.10             19.2  14.0 -16.0  -6.0   \n",
       "4          33.33             -1.0   0.0   0.0   0.0   \n",
       "\n",
       "   Total Radiated Energy (J)  Calculated Total Impact Energy (kt)        Aloc  \\\n",
       "0               3.750000e+14                                440.0   99.896113   \n",
       "1               1.300000e+14                                173.0  349.433476   \n",
       "2               2.000000e+13                                 33.0  147.196052   \n",
       "3               2.000000e+13                                 33.0   27.463598   \n",
       "4               1.820000e+13                                 30.0    0.000000   \n",
       "\n",
       "        hloc       vimp              Name           Ephemeris Date  \n",
       "0  15.924142 -18.614242  CNEOS-2013-02-15  02/15/2013 03:20:33 UTC  \n",
       "1  68.586703 -31.970768  CNEOS-2018-12-18  12/18/2018 23:48:20 UTC  \n",
       "2  60.888747 -18.547237  CNEOS-2010-12-25  12/25/2010 23:24:00 UTC  \n",
       "3  67.457494 -22.090722  CNEOS-2009-10-08  10/08/2009 02:57:00 UTC  \n",
       "4   0.000000  -0.000000  CNEOS-1994-02-01  02/01/1994 22:38:09 UTC  "
      ]
     },
     "execution_count": 108,
     "metadata": {},
     "output_type": "execute_result"
    }
   ],
   "source": [
    "datadir.head(5)"
   ]
  },
  {
   "cell_type": "code",
   "execution_count": null,
   "metadata": {},
   "outputs": [],
   "source": []
  }
 ],
 "metadata": {
  "kernelspec": {
   "display_name": "Python 3",
   "language": "python",
   "name": "python3"
  },
  "language_info": {
   "codemirror_mode": {
    "name": "ipython",
    "version": 3
   },
   "file_extension": ".py",
   "mimetype": "text/x-python",
   "name": "python",
   "nbconvert_exporter": "python",
   "pygments_lexer": "ipython3",
   "version": "3.6.8"
  }
 },
 "nbformat": 4,
 "nbformat_minor": 2
}
