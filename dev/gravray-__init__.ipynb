{
 "cells": [
  {
   "cell_type": "code",
   "execution_count": 1,
   "metadata": {},
   "outputs": [],
   "source": [
    "import spiceypy as spy\n",
    "import numpy as np\n",
    "import unittest\n",
    "from copy import deepcopy"
   ]
  },
  {
   "cell_type": "code",
   "execution_count": 2,
   "metadata": {},
   "outputs": [],
   "source": [
    "#################################################################################                                                                                           \n",
    "#Global variables\n",
    "#################################################################################\n",
    "import os\n",
    "try:\n",
    "    ROOTDIR=os.path.abspath(os.path.dirname(__file__))\n",
    "except:\n",
    "    ROOTDIR=os.path.abspath('')"
   ]
  },
  {
   "cell_type": "code",
   "execution_count": 3,
   "metadata": {},
   "outputs": [],
   "source": [
    "#################################################################################                                                                                           \n",
    "#This code is used only for development purposes                                                                                           \n",
    "#################################################################################\n",
    "from IPython.display import HTML, Image\n",
    "import IPython.core.autocall as autocall\n",
    "\n",
    "try:\n",
    "    cfg=get_ipython().config\n",
    "except NameError:\n",
    "    def Image(url=\"\",filename=\"\",f=\"\"):\n",
    "        pass\n",
    "    class get_ipython(object):\n",
    "        def run_line_magic(self,x,y):\n",
    "            pass\n",
    "        def magic(self,command):\n",
    "            pass"
   ]
  },
  {
   "cell_type": "code",
   "execution_count": 4,
   "metadata": {},
   "outputs": [
    {
     "name": "stdout",
     "output_type": "stream",
     "text": [
      "Root directory:/Users/jzuluaga/GoogleDrive/ColaboratoryProjects/GRT2/GRT/dev\n"
     ]
    }
   ],
   "source": [
    "#################################################################################                                                                                           \n",
    "#Test\n",
    "#################################################################################\n",
    "if __name__==\"__main__\":\n",
    "    print(f\"Root directory:{_ROOTDIR}\")"
   ]
  },
  {
   "cell_type": "markdown",
   "metadata": {},
   "source": [
    "--End--"
   ]
  }
 ],
 "metadata": {
  "kernelspec": {
   "display_name": "Python 3",
   "language": "python",
   "name": "python3"
  },
  "language_info": {
   "codemirror_mode": {
    "name": "ipython",
    "version": 3
   },
   "file_extension": ".py",
   "mimetype": "text/x-python",
   "name": "python",
   "nbconvert_exporter": "python",
   "pygments_lexer": "ipython3",
   "version": "3.6.8"
  }
 },
 "nbformat": 4,
 "nbformat_minor": 2
}
