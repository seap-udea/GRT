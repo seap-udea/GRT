{
 "cells": [
  {
   "cell_type": "code",
   "execution_count": 7,
   "metadata": {},
   "outputs": [
    {
     "ename": "ModuleNotFoundError",
     "evalue": "No module named 'gravray.stats'",
     "output_type": "error",
     "traceback": [
      "\u001b[0;31m---------------------------------------------------------------------------\u001b[0m",
      "\u001b[0;31mModuleNotFoundError\u001b[0m                       Traceback (most recent call last)",
      "\u001b[0;32m<ipython-input-7-dba51e822b92>\u001b[0m in \u001b[0;36m<module>\u001b[0;34m()\u001b[0m\n\u001b[1;32m      1\u001b[0m \u001b[0;32mfrom\u001b[0m \u001b[0mgravray\u001b[0m \u001b[0;32mimport\u001b[0m \u001b[0;34m*\u001b[0m\u001b[0;34m\u001b[0m\u001b[0;34m\u001b[0m\u001b[0m\n\u001b[1;32m      2\u001b[0m \u001b[0;32mfrom\u001b[0m \u001b[0mgravray\u001b[0m\u001b[0;34m.\u001b[0m\u001b[0mutil\u001b[0m \u001b[0;32mimport\u001b[0m \u001b[0;34m*\u001b[0m\u001b[0;34m\u001b[0m\u001b[0;34m\u001b[0m\u001b[0m\n\u001b[0;32m----> 3\u001b[0;31m \u001b[0;32mfrom\u001b[0m \u001b[0mgravray\u001b[0m\u001b[0;34m.\u001b[0m\u001b[0mstats\u001b[0m \u001b[0;32mimport\u001b[0m \u001b[0;34m*\u001b[0m\u001b[0;34m\u001b[0m\u001b[0;34m\u001b[0m\u001b[0m\n\u001b[0m",
      "\u001b[0;31mModuleNotFoundError\u001b[0m: No module named 'gravray.stats'"
     ]
    }
   ],
   "source": [
    "from gravray import *\n",
    "from gravray.util import *\n",
    "from gravray.stats import *"
   ]
  },
  {
   "cell_type": "code",
   "execution_count": 3,
   "metadata": {},
   "outputs": [
    {
     "name": "stdout",
     "output_type": "stream",
     "text": [
      "The autoreload extension is already loaded. To reload it, use:\n",
      "  %reload_ext autoreload\n"
     ]
    }
   ],
   "source": [
    "%load_ext autoreload\n",
    "%autoreload 2"
   ]
  },
  {
   "cell_type": "markdown",
   "metadata": {},
   "source": [
    "# Test Statistics Class\n",
    "\n",
    "Test suite of the Statistics submodule of GravRay."
   ]
  },
  {
   "cell_type": "code",
   "execution_count": 5,
   "metadata": {},
   "outputs": [],
   "source": [
    "#Unitary test\n",
    "class Test(unittest.TestCase):\n",
    "\n",
    "    mnd=MultiNormal()\n",
    "    \n",
    "    #\"\"\"\n",
    "    def test_rvs(self):\n",
    "        self.timing_set_unflatten()\n",
    "        r=self.mnd.rvs(1)\n",
    "        print(r)\n",
    "    \n",
    "    def test_pdf(self):\n",
    "        self.timing_set_unflatten()\n",
    "        p=self.mnd.pdf(self.mnd.locs[0])\n",
    "        self.assertAlmostEqual(p,0.09989816167966402,7)\n",
    "        \n",
    "    \n",
    "    def test_set_unflatten(self):\n",
    "        self.timing_set_unflatten()\n",
    "        self.assertEqual(self.mnd.M,2)\n",
    "        self.assertEqual(self.mnd.N,10*self.mnd.M-1)\n",
    "        \n",
    "        self.assertEqual(np.isclose(self.mnd.aweights,\n",
    "                                    [0.6,0.4],\n",
    "                                    rtol=1e-5).tolist(),\n",
    "                         [True]*2)\n",
    "        self.assertEqual(np.isclose(self.mnd.params,\n",
    "                                    [0.6, \n",
    "                                     0.5, 0.5, -2.0, \n",
    "                                     2.0, 0.3, -2.6, \n",
    "                                     1.3, 0.7, 0.5, \n",
    "                                     0.4, 0.9, 1.6, \n",
    "                                     -0.6981317007977318, -1.5009831567151235, 0.0, \n",
    "                                     1.3962634015954636, -1.9024088846738192, 0.0],\n",
    "                                    rtol=1e-5).tolist(),\n",
    "                         [True]*self.mnd.N)\n",
    "\n",
    "        self.assertEqual(np.isclose(self.mnd.covs[0].flatten(),\n",
    "                                    [1.09550921,-0.70848654,-0.01073505,\n",
    "                                     -0.70848654,0.84565862,-0.01279353,\n",
    "                                     -0.01073505,-0.01279353,0.48883217],\n",
    "                                    rtol=1e-5).tolist(),\n",
    "                         [True]*9)\n",
    "\n",
    "        self.assertEqual(np.isclose(self.mnd.covs[1].flatten(),\n",
    "                                    [2.30773378,-0.37870341,0.53051967,\n",
    "                                     -0.37870341,0.22677563,-0.09354493,\n",
    "                                     0.53051967,-0.09354493,0.99549059],\n",
    "                                    rtol=1e-5).tolist(),\n",
    "                         [True]*9)\n",
    "\n",
    "    def test_set_flatten(self):\n",
    "        self.timing_set_flatten()\n",
    "        self.assertEqual(self.mnd.M,2)\n",
    "        self.assertEqual(self.mnd.N,10*self.mnd.M-1)\n",
    "        self.assertEqual(np.isclose(self.mnd.params,\n",
    "                                    [0.6, \n",
    "                                     0.5, 0.5, -2.0, \n",
    "                                     2.0, 0.3, -2.6, \n",
    "                                     1.3, 0.7, 0.5, \n",
    "                                     0.4, 0.9, 1.6, \n",
    "                                     -0.6981317007977318, -1.5009831567151235, 0.0, \n",
    "                                     1.3962634015954636, -1.9024088846738192, 0.0],\n",
    "                                    rtol=1e-5).tolist(),\n",
    "                         [True]*self.mnd.N)\n",
    "\n",
    "        self.assertEqual(np.isclose(self.mnd.covs[0].flatten(),\n",
    "                                    [1.09550921,-0.70848654,-0.01073505,\n",
    "                                     -0.70848654,0.84565862,-0.01279353,\n",
    "                                     -0.01073505,-0.01279353,0.48883217],\n",
    "                                    rtol=1e-5).tolist(),\n",
    "                         [True]*9)\n",
    "\n",
    "        self.assertEqual(np.isclose(self.mnd.covs[1].flatten(),\n",
    "                                    [2.30773378,-0.37870341,0.53051967,\n",
    "                                     -0.37870341,0.22677563,-0.09354493,\n",
    "                                     0.53051967,-0.09354493,0.99549059],\n",
    "                                    rtol=1e-5).tolist(),\n",
    "                         [True]*9)\n",
    "\n",
    "    #\"\"\" \n",
    "    \n",
    "    def timing_set_unflatten(self):\n",
    "        weights=[0.6]\n",
    "        locs=[\n",
    "            [0.5,0.5,-2.0],\n",
    "            [2.0,0.3,-2.6]\n",
    "        ]\n",
    "        scales=[\n",
    "            [1.3,0.7,0.5],\n",
    "            [0.4,0.9,1.6]\n",
    "        ]\n",
    "        angles=[\n",
    "            [-40.0*Angle.Deg,-86.0*Angle.Deg,0.0*Angle.Deg],\n",
    "            [+80.0*Angle.Deg,-109.0*Angle.Deg,0.0*Angle.Deg]\n",
    "        ]\n",
    "        self.mnd.setUnflatten(weights,locs,scales,angles)\n",
    "        \n",
    "    def timing_set_flatten(self):\n",
    "        params=[\n",
    "            #weights\n",
    "            0.6,\n",
    "            #locs\n",
    "            0.5, 0.5, -2.0,\n",
    "            2.0, 0.3, -2.6, \n",
    "            #scales\n",
    "            1.3, 0.7, 0.5,\n",
    "            0.4, 0.9, 1.6, \n",
    "            #Angles\n",
    "            -40.0*Angle.Deg,-86.0*Angle.Deg,0.0*Angle.Deg,\n",
    "            +80.0*Angle.Deg,-109.0*Angle.Deg,0.0*Angle.Deg\n",
    "        ]\n",
    "        self.mnd.setFlatten(params)"
   ]
  },
  {
   "cell_type": "code",
   "execution_count": 6,
   "metadata": {},
   "outputs": [
    {
     "name": "stderr",
     "output_type": "stream",
     "text": [
      "....\n",
      "----------------------------------------------------------------------\n",
      "Ran 4 tests in 0.091s\n",
      "\n",
      "OK\n"
     ]
    },
    {
     "name": "stdout",
     "output_type": "stream",
     "text": [
      "[array([ 2.36752718,  0.80199202, -0.21656207])]\n",
      "Timing set unflatten:\n",
      "100 loops, best of 3: 669 µs per loop\n",
      "Timing set flatten:\n",
      "100 loops, best of 3: 585 µs per loop\n",
      "Timing PDF:\n",
      "100 loops, best of 3: 478 µs per loop\n",
      "Timing RVS:\n",
      "100 loops, best of 3: 663 µs per loop\n"
     ]
    }
   ],
   "source": [
    "if __name__=='__main__':\n",
    "    #Testing\n",
    "    unittest.main(argv=['first-arg-is-ignored'],exit=False)\n",
    "    \n",
    "    #Timing\n",
    "    #\"\"\"\n",
    "    print(\"Timing set unflatten:\")\n",
    "    %timeit -n 100 Test().timing_set_unflatten()\n",
    "\n",
    "    print(\"Timing set flatten:\")\n",
    "    %timeit -n 100 Test().timing_set_flatten()\n",
    "    \n",
    "    print(\"Timing PDF:\")\n",
    "    t=Test()\n",
    "    %timeit -n 100 t.mnd.pdf([0,0,0])\n",
    "\n",
    "    print(\"Timing RVS:\")\n",
    "    t=Test()\n",
    "    %timeit -n 100 t.mnd.rvs(1)\n",
    "    #\"\"\""
   ]
  },
  {
   "cell_type": "code",
   "execution_count": null,
   "metadata": {},
   "outputs": [],
   "source": []
  }
 ],
 "metadata": {
  "kernelspec": {
   "display_name": "Python 3",
   "language": "python",
   "name": "python3"
  },
  "language_info": {
   "codemirror_mode": {
    "name": "ipython",
    "version": 3
   },
   "file_extension": ".py",
   "mimetype": "text/x-python",
   "name": "python",
   "nbconvert_exporter": "python",
   "pygments_lexer": "ipython3",
   "version": "3.6.8"
  }
 },
 "nbformat": 4,
 "nbformat_minor": 2
}
