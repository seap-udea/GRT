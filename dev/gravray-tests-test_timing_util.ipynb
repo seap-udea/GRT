{
 "cells": [
  {
   "cell_type": "code",
   "execution_count": 9,
   "metadata": {},
   "outputs": [],
   "source": [
    "from gravray import *\n",
    "from gravray.util import *"
   ]
  },
  {
   "cell_type": "code",
   "execution_count": 8,
   "metadata": {},
   "outputs": [],
   "source": [
    "%load_ext autoreload\n",
    "%autoreload 2"
   ]
  },
  {
   "cell_type": "markdown",
   "metadata": {},
   "source": [
    "# Test Util Class\n",
    "\n",
    "Test suite of the Util submodule of GravRay."
   ]
  },
  {
   "cell_type": "code",
   "execution_count": 13,
   "metadata": {},
   "outputs": [],
   "source": [
    "import unittest\n",
    "class Test(unittest.TestCase):\n",
    "\n",
    "    probs=np.array([0.1,0.2,0.40,0.3])\n",
    "\n",
    "    #\"\"\"\n",
    "    def test_gen_index(self):\n",
    "        N=10000\n",
    "        M=len(self.probs)\n",
    "        ns=np.array([Util.genIndex(self.probs) for i in range(N)]+[M])\n",
    "        h,nx=np.histogram(ns,4)\n",
    "        self.assertEqual(np.isclose(h/N,\n",
    "                                    self.probs,\n",
    "                                    rtol=1e-1).tolist(),\n",
    "                         [True]*M)\n",
    "\n",
    "    def test_fin2inf(self):\n",
    "        self.assertAlmostEqual(Util.fin2Inf(0.001,scale=1),-6.906754778648554,13)\n",
    "        self.assertAlmostEqual(Util.fin2Inf(0.78,scale=1),1.265666373331276,13)\n",
    "        self.assertAlmostEqual(Util.fin2Inf(np.pi,scale=2*np.pi),0.0,13)\n",
    "\n",
    "    def test_inf2fin(self):\n",
    "        self.assertAlmostEqual(Util.inf2Fin(-3.0,scale=1),0.04742587317756678,13)\n",
    "        self.assertAlmostEqual(Util.inf2Fin(+3.0,scale=1),0.9525741268224334,13)\n",
    "        self.assertAlmostEqual(Util.inf2Fin(+3.0,scale=10.0),9.525741268224333,13)\n",
    "\n",
    "    #\"\"\" \n",
    "    \n",
    "    def timing_fin2inf(self):\n",
    "        Util.fin2Inf(0.78,scale=1)\n",
    "    def timing_inf2fin(self):\n",
    "        Util.inf2Fin(-5.4,scale=1)\n",
    "    def timing_gen_index(self):\n",
    "        Util.genIndex(self.probs)\n",
    "        \n",
    "    def test_calc_trig(self):\n",
    "        self.assertEqual(np.isclose(Angle.calcTrig(30.0*Angle.Deg),\n",
    "                                    [np.sqrt(3)/2,1./2],\n",
    "                                    rtol=1e-17).tolist(),\n",
    "                          [True,True])\n",
    "\n",
    "    def test_dms(self):\n",
    "        dms=Angle.dms(293.231241241)\n",
    "        self.assertEqual(np.isclose(dms,\n",
    "                                    (1.0,293.0,13.0,52.46846760007429),\n",
    "                                    rtol=1e-5).tolist(),\n",
    "                         [True]*4)\n",
    "\n",
    "    def test_dms_negative(self):\n",
    "        dms=Angle.dms(-293.231241241)\n",
    "        self.assertEqual(np.isclose(dms,\n",
    "                                    (-1.0,293.0,13.0,52.46846760007429),\n",
    "                                    rtol=1e-5).tolist(),\n",
    "                         [True]*4)\n",
    "        \n",
    "    def test_dec(self):\n",
    "        dec=Angle.dec((1,5,40,3.4567))\n",
    "        self.assertAlmostEqual(dec,5.66762686,5)\n",
    "\n",
    "    def test_dec_negative(self):\n",
    "        dec=Angle.dec((-1,5,40,3.4567))\n",
    "        self.assertAlmostEqual(dec,-5.66762686,5)\n",
    "\n",
    "    def timing_calc_trig(self):\n",
    "        Angle.calcTrig(30.0*Angle.Deg)\n",
    "        \n",
    "    #Test Elements\n",
    "    state=np.array([-2.75666323e+07,1.44279062e+08,3.02263967e+04,\n",
    "                    -2.97849475e+01,-5.48211971e+00,1.84565202e-05])\n",
    "    elements=np.array([Const.au,0.5,10.0,30.0,60.0,120.0])\n",
    "    \n",
    "    def test_year(self):\n",
    "        self.assertEqual(Const.Year,31556736.0)\n",
    "        \n",
    "    def test_au(self):\n",
    "        self.assertEqual(Const.au,1.4959787070000000e11)\n",
    "\n",
    "    def test_transform_state(self):\n",
    "        state=Const.transformState(self.state,[Const.km,Const.kms])\n",
    "        self.assertEqual(np.isclose(state,\n",
    "                                    [-2.75666323e+10,1.44279062e+11,3.02263967e+07,\n",
    "                                     -2.97849475e+04,-5.48211971e+03,1.84565202e-02],\n",
    "                                    rtol=1e-5).tolist(),\n",
    "                          [True]*6)\n",
    "        \n",
    "    def test_transform_elements(self):\n",
    "        elements=Const.transformElements(self.elements,[1/Const.au,Angle.Deg])\n",
    "        self.assertEqual(np.isclose(elements,\n",
    "                                    [1.,0.5,0.17453293,0.52359878,1.04719755,2.0943951],\n",
    "                                    rtol=1e-5).tolist(),\n",
    "                          [True]*6)\n",
    "    \n",
    "    def timing_trans_state(self):\n",
    "        Const.transformState(self.state,[Const.km,Const.kms])\n",
    "        \n",
    "    def timing_trans_elements(self):\n",
    "        Const.transformElements(self.elements,[1/Const.au,Angle.Deg])"
   ]
  },
  {
   "cell_type": "code",
   "execution_count": 14,
   "metadata": {},
   "outputs": [
    {
     "name": "stderr",
     "output_type": "stream",
     "text": [
      "............\n",
      "----------------------------------------------------------------------\n",
      "Ran 12 tests in 0.486s\n",
      "\n",
      "OK\n"
     ]
    },
    {
     "name": "stdout",
     "output_type": "stream",
     "text": [
      "Timing fin2inf:\n",
      "1000 loops, best of 3: 8.37 µs per loop\n",
      "Timing inf2fin:\n",
      "1000 loops, best of 3: 8.24 µs per loop\n",
      "Timing genindex:\n",
      "1000 loops, best of 3: 48 µs per loop\n",
      "Trigonometric functions:\n",
      "1000 loops, best of 3: 9.95 µs per loop\n",
      "Timing year constant:\n",
      "1000 loops, best of 3: 47.7 ns per loop\n",
      "Timing elements transformation:\n",
      "1000 loops, best of 3: 25 µs per loop\n",
      "Timing state transformation:\n",
      "1000 loops, best of 3: 21.5 µs per loop\n"
     ]
    }
   ],
   "source": [
    "if __name__=='__main__':\n",
    "    #Testing\n",
    "    unittest.main(argv=['first-arg-is-ignored'],exit=False)\n",
    "    \n",
    "    #Timing Util\n",
    "    #\"\"\"\n",
    "    print(\"Timing fin2inf:\")\n",
    "    %timeit -n 1000 Test().timing_fin2inf()\n",
    "\n",
    "    print(\"Timing inf2fin:\")\n",
    "    %timeit -n 1000 Test().timing_inf2fin()\n",
    "\n",
    "    print(\"Timing genindex:\")\n",
    "    %timeit -n 1000 Test().timing_gen_index()\n",
    "    #\"\"\"\n",
    "    \n",
    "    #Timing Trigonometric\n",
    "    print(\"Trigonometric functions:\")\n",
    "    %timeit -n 1000 Test().timing_calc_trig()\n",
    "\n",
    "    #Timing Constants\n",
    "    print(\"Timing year constant:\")\n",
    "    %timeit -n 1000 Const.Year\n",
    "    \n",
    "    print(\"Timing elements transformation:\")\n",
    "    %timeit -n 1000 Test().timing_trans_elements()\n",
    "    \n",
    "    print(\"Timing state transformation:\")        \n",
    "    %timeit -n 1000 Test().timing_trans_state()"
   ]
  },
  {
   "cell_type": "code",
   "execution_count": null,
   "metadata": {},
   "outputs": [],
   "source": [
    "--End--"
   ]
  }
 ],
 "metadata": {
  "kernelspec": {
   "display_name": "Python 3",
   "language": "python",
   "name": "python3"
  },
  "language_info": {
   "codemirror_mode": {
    "name": "ipython",
    "version": 3
   },
   "file_extension": ".py",
   "mimetype": "text/x-python",
   "name": "python",
   "nbconvert_exporter": "python",
   "pygments_lexer": "ipython3",
   "version": "3.6.8"
  }
 },
 "nbformat": 4,
 "nbformat_minor": 2
}
