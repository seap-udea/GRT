{
 "cells": [
  {
   "cell_type": "markdown",
   "metadata": {},
   "source": [
    "# GRT Integration Tests\n",
    "\n",
    "In this Notebook we will test the integration of all components of GravRay in an actual physical test of functionalities."
   ]
  },
  {
   "cell_type": "code",
   "execution_count": 1,
   "metadata": {},
   "outputs": [
    {
     "data": {
      "application/javascript": [
       "IPython.notebook.kernel.execute('FILE=\"' + IPython.notebook.notebook_name + '\"')"
      ],
      "text/plain": [
       "<IPython.core.display.Javascript object>"
      ]
     },
     "metadata": {},
     "output_type": "display_data"
    },
    {
     "data": {
      "application/javascript": [
       "IPython.notebook.kernel.execute('FILE=\"' + IPython.notebook.notebook_name + '\"')"
      ],
      "text/plain": [
       "<IPython.core.display.Javascript object>"
      ]
     },
     "metadata": {},
     "output_type": "display_data"
    },
    {
     "data": {
      "application/javascript": [
       "IPython.notebook.kernel.execute('FILE=\"' + IPython.notebook.notebook_name + '\"')"
      ],
      "text/plain": [
       "<IPython.core.display.Javascript object>"
      ]
     },
     "metadata": {},
     "output_type": "display_data"
    },
    {
     "name": "stdout",
     "output_type": "stream",
     "text": [
      "The autoreload extension is already loaded. To reload it, use:\n",
      "  %reload_ext autoreload\n"
     ]
    },
    {
     "data": {
      "application/javascript": [
       "IPython.notebook.kernel.execute('FILE=\"' + IPython.notebook.notebook_name + '\"')"
      ],
      "text/plain": [
       "<IPython.core.display.Javascript object>"
      ]
     },
     "metadata": {},
     "output_type": "display_data"
    },
    {
     "name": "stdout",
     "output_type": "stream",
     "text": [
      "The autoreload extension is already loaded. To reload it, use:\n",
      "  %reload_ext autoreload\n"
     ]
    },
    {
     "data": {
      "application/javascript": [
       "IPython.notebook.kernel.execute('FILE=\"' + IPython.notebook.notebook_name + '\"')"
      ],
      "text/plain": [
       "<IPython.core.display.Javascript object>"
      ]
     },
     "metadata": {},
     "output_type": "display_data"
    },
    {
     "name": "stdout",
     "output_type": "stream",
     "text": [
      "The autoreload extension is already loaded. To reload it, use:\n",
      "  %reload_ext autoreload\n"
     ]
    },
    {
     "data": {
      "application/javascript": [
       "IPython.notebook.kernel.execute('FILE=\"' + IPython.notebook.notebook_name + '\"')"
      ],
      "text/plain": [
       "<IPython.core.display.Javascript object>"
      ]
     },
     "metadata": {},
     "output_type": "display_data"
    },
    {
     "name": "stdout",
     "output_type": "stream",
     "text": [
      "The autoreload extension is already loaded. To reload it, use:\n",
      "  %reload_ext autoreload\n"
     ]
    }
   ],
   "source": [
    "from gravray import *\n",
    "from gravray.util import *\n",
    "from gravray.sampling import *\n",
    "from gravray.spice import *\n",
    "from gravray.orbit import *\n",
    "from gravray.stats import *"
   ]
  },
  {
   "cell_type": "code",
   "execution_count": 2,
   "metadata": {},
   "outputs": [
    {
     "name": "stdout",
     "output_type": "stream",
     "text": [
      "Number of processors:  4\n"
     ]
    }
   ],
   "source": [
    "import multiprocessing as mp\n",
    "print(\"Number of processors: \", mp.cpu_count())"
   ]
  },
  {
   "cell_type": "markdown",
   "metadata": {},
   "source": [
    "## NEOs Distribution "
   ]
  },
  {
   "cell_type": "code",
   "execution_count": null,
   "metadata": {},
   "outputs": [],
   "source": [
    "NEOs=MultiNormal()\n",
    "weights=[0.6]\n",
    "locs=[\n",
    "    [0.5,0.5,-2.0],\n",
    "    [2.0,0.3,-2.6]\n",
    "]\n",
    "scales=[\n",
    "    [1.3,0.7,0.5],\n",
    "    [0.4,0.9,1.6]\n",
    "]\n",
    "angles=[\n",
    "    [-40.0*Angle.Deg,-86.0*Angle.Deg,0.0*Angle.Deg],\n",
    "    [+80.0*Angle.Deg,-109.0*Angle.Deg,0.0*Angle.Deg]\n",
    "]\n",
    "NEOs.setUnflatten(weights,locs,scales,angles)"
   ]
  },
  {
   "cell_type": "markdown",
   "metadata": {},
   "source": [
    "## Single ray"
   ]
  },
  {
   "cell_type": "code",
   "execution_count": null,
   "metadata": {},
   "outputs": [],
   "source": [
    "#Preparation\n",
    "Spice.loadKernels()"
   ]
  },
  {
   "cell_type": "code",
   "execution_count": null,
   "metadata": {},
   "outputs": [],
   "source": [
    "#Parameters\n",
    "body=\"EARTH\"\n",
    "lon=+61.1*Angle.Deg #deg\n",
    "lat=+54.8*Angle.Deg #deg\n",
    "alt=23.3*Const.km #m"
   ]
  },
  {
   "cell_type": "code",
   "execution_count": null,
   "metadata": {},
   "outputs": [],
   "source": [
    "#Location\n",
    "earth=Body(body)\n",
    "chelyabinsk=Location(earth,lon,lat,alt)"
   ]
  },
  {
   "cell_type": "code",
   "execution_count": null,
   "metadata": {},
   "outputs": [],
   "source": [
    "#Ray\n",
    "A=101.1*Angle.Deg\n",
    "h=15.9*Angle.Deg\n",
    "v=-18.6*Const.kms\n",
    "ray=GrtRay(chelyabinsk,A,h,v)"
   ]
  },
  {
   "cell_type": "code",
   "execution_count": null,
   "metadata": {},
   "outputs": [],
   "source": [
    "#Time\n",
    "tdb=Spice.str2t(\"02/15/2013 03:20:34 UTC\")"
   ]
  },
  {
   "cell_type": "code",
   "execution_count": null,
   "metadata": {},
   "outputs": [],
   "source": [
    "#Propagate ray\n",
    "ray.updateRay(tdb)\n",
    "ray.propagateRay()\n",
    "Const.transformElements(ray.terminal.elements,[1/Const.au,Angle.Rad])"
   ]
  },
  {
   "cell_type": "markdown",
   "metadata": {},
   "source": [
    "Jacobians:\n",
    "\n",
    "p(Rimp) = p(Ehel) |dEhel/dehel| x |dehel/dXSoI| x |dXSoI/degeo| x |degeo/dXgeo| x |dXgeo/dRimp|"
   ]
  },
  {
   "cell_type": "code",
   "execution_count": null,
   "metadata": {},
   "outputs": [],
   "source": [
    "# dXgeo/dRimp\n",
    "ray.calcJacobiansBody()\n",
    "dXgeodRimp=ray.Jcl\n",
    "dXgeodRimp"
   ]
  },
  {
   "cell_type": "code",
   "execution_count": null,
   "metadata": {},
   "outputs": [],
   "source": [
    "# degeo/dXgeo\n",
    "geo_aelements=ray.conics[0]\n",
    "geo_mu=geo_aelements[-1]\n",
    "geo_elements=np.array(geo_aelements[:6])\n",
    "geo=KeplerianOrbit(geo_mu)\n",
    "geo.setElements(geo_elements,0)\n",
    "geo.calcJacobians()\n",
    "degeodXgeo=geo.Jck\n",
    "\n",
    "#dXSoI/degeo\n",
    "soi_aelements=ray.conics[1]\n",
    "soi_mu=soi_aelements[-1]\n",
    "soi_elements=np.array(soi_aelements[:6])\n",
    "soi=KeplerianOrbit(soi_mu)\n",
    "soi.setElements(soi_elements,0)\n",
    "soi.calcJacobians()\n",
    "dXSoIdegeo=geo.Jkc\n",
    "\n",
    "#dehel/dXSoI\n",
    "hel_aelements=ray.conics[2]\n",
    "hel_mu=hel_aelements[-1]\n",
    "hel_elements=np.array(hel_aelements[:6])\n",
    "hel=KeplerianOrbit(hel_mu)\n",
    "hel.setElements(hel_elements,0)\n",
    "hel.calcJacobians()\n",
    "deheldXSoI=hel.Jck\n",
    "\n",
    "#dEhel/dehel\n",
    "Const.transformElements(hel.elements,[1/Const.au,1.0],implicit=True)\n",
    "hel.calcUelements()\n",
    "hel.calcJacobiansMap()\n",
    "dEheldehel=hel.JEe\n",
    "\n"
   ]
  },
  {
   "cell_type": "code",
   "execution_count": null,
   "metadata": {},
   "outputs": [],
   "source": [
    "#Compute probability\n",
    "pEhel=NEOs.pdf(hel.uelements[:3])\n",
    "pEhel"
   ]
  },
  {
   "cell_type": "code",
   "execution_count": null,
   "metadata": {},
   "outputs": [],
   "source": [
    "#|dEhel/dehel| x |dehel/dXSoI| x |dXSoI/degeo| x |degeo/dXgeo| x |dXgeo/dRimp|\n",
    "pRimp=pEhel*np.abs(np.linalg.det(dEheldehel))*\\\n",
    "            np.abs(np.linalg.det(deheldXSoI))*\\\n",
    "            np.abs(np.linalg.det(dXSoIdegeo))*\\\n",
    "            np.abs(np.linalg.det(degeodXgeo))*\\\n",
    "            np.abs(np.linalg.det(dXgeodRimp))\n",
    "pRimp"
   ]
  },
  {
   "cell_type": "code",
   "execution_count": null,
   "metadata": {},
   "outputs": [],
   "source": []
  }
 ],
 "metadata": {
  "kernelspec": {
   "display_name": "Python 3",
   "language": "python",
   "name": "python3"
  },
  "language_info": {
   "codemirror_mode": {
    "name": "ipython",
    "version": 3
   },
   "file_extension": ".py",
   "mimetype": "text/x-python",
   "name": "python",
   "nbconvert_exporter": "python",
   "pygments_lexer": "ipython3",
   "version": "3.6.8"
  }
 },
 "nbformat": 4,
 "nbformat_minor": 2
}
