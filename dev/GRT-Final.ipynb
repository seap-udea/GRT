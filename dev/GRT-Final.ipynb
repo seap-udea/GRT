{
 "cells": [
  {
   "cell_type": "markdown",
   "metadata": {},
   "source": [
    "# GRT Final\n",
    "\n",
    "This is the final development notebook of the GRT project.  In this notebook converge all the lessons learned during development."
   ]
  },
  {
   "cell_type": "code",
   "execution_count": 41,
   "metadata": {},
   "outputs": [],
   "source": [
    "import os\n",
    "NTH=4\n",
    "os.environ[\"OMP_NUM_THREADS\"]=\"%d\"%NTH"
   ]
  },
  {
   "cell_type": "code",
   "execution_count": 42,
   "metadata": {},
   "outputs": [],
   "source": [
    "from gravray import *\n",
    "from gravray.util import *\n",
    "from gravray.stats import *\n",
    "from gravray.spice import *\n",
    "from gravray.plot import *\n",
    "from gravray.sampling import *\n",
    "from gravray.orbit import *\n",
    "\n",
    "import skmonaco\n",
    "import multiprocessing as mp"
   ]
  },
  {
   "cell_type": "code",
   "execution_count": 43,
   "metadata": {},
   "outputs": [],
   "source": [
    "%matplotlib nbagg"
   ]
  },
  {
   "cell_type": "markdown",
   "metadata": {},
   "source": [
    "## Initialize"
   ]
  },
  {
   "cell_type": "code",
   "execution_count": 45,
   "metadata": {},
   "outputs": [
    {
     "name": "stdout",
     "output_type": "stream",
     "text": [
      "Available number of processors:  1\n"
     ]
    }
   ],
   "source": [
    "dt=elTime(0)\n",
    "Spice.loadKernels()\n",
    "cneos=pd.read_csv(\"data/cneos_fireball_data_location.csv\")\n",
    "cneos.set_index(\"Name\",inplace=True)\n",
    "earth=Body(\"EARTH\")\n",
    "NP=int(mp.cpu_count()/NTH)\n",
    "print(\"Available number of processors: \",NP)"
   ]
  },
  {
   "cell_type": "markdown",
   "metadata": {},
   "source": [
    "## Example conditions"
   ]
  },
  {
   "cell_type": "code",
   "execution_count": 6,
   "metadata": {},
   "outputs": [
    {
     "name": "stdout",
     "output_type": "stream",
     "text": [
      "Impact conditions:\n",
      "\tDate: 02/15/2013 03:20:34\n",
      "\tlon. 61.54, lat. 55.1, alt. 23.3 km\n",
      "\tAloc = 103.5, hloc = 55.1, vimp = -18.6 km/s\n"
     ]
    }
   ],
   "source": [
    "#Site \n",
    "lon=59.8703**Angle.Deg #rad\n",
    "lat=55.0958*Angle.Deg #rad\n",
    "alt=23.3*Const.km #m\n",
    "\n",
    "#Time\n",
    "datestring=\"02/15/2013 03:20:34\"\n",
    "fmt=\"%m/%d/%Y %H:%M:%S\"\n",
    "t=Spice.str2tdb(datestring)\n",
    "\n",
    "#Population\n",
    "weights=[0.6]\n",
    "locs=[\n",
    "    [0.5,0.5,-2.0],\n",
    "    [2.0,0.3,-2.6]\n",
    "]\n",
    "scales=[\n",
    "    [1.3,0.7,0.5],\n",
    "    [0.4,0.9,1.6]\n",
    "]\n",
    "angles=[\n",
    "    [-40.0*Angle.Deg,-86.0*Angle.Deg,0.0*Angle.Deg],\n",
    "    [+80.0*Angle.Deg,-109.0*Angle.Deg,0.0*Angle.Deg]\n",
    "]\n",
    "ranges=[\n",
    "    [Util.fin2Inf(1e-2,360.0),Util.fin2Inf(360.0-1e-2,360.0)],\n",
    "    [Util.fin2Inf(1e-2,360.0),Util.fin2Inf(360.0-1e-2,360.0)]\n",
    "]\n",
    "NEOs=MultiVariate([1,1,1,0,0])\n",
    "NEOs.setUnflatten(weights,locs,scales,angles,ranges)\n",
    "\n",
    "#Direction\n",
    "Aloc=103.5*Angle.Deg\n",
    "hloc=18.55*Angle.Deg\n",
    "vimp=-18.6*Const.km/Const.s\n",
    "\n",
    "Rdir=np.array([[Aloc],[hloc],[vimp]])\n",
    "\n",
    "#Input conditions\n",
    "print(f\"Impact conditions:\")\n",
    "print(f\"\\tDate: {datestring}\")\n",
    "print(f\"\\tlon. {lon*Angle.Rad:.4g}, lat. {lat*Angle.Rad:.4g}, alt. {alt/Const.km:.4g} km\")\n",
    "print(f\"\\tAloc = {Aloc*Angle.Rad:.4g}, hloc = {lat*Angle.Rad:.4g}, vimp = {vimp/Const.km} km/s\")"
   ]
  },
  {
   "cell_type": "markdown",
   "metadata": {},
   "source": [
    "## Test routines"
   ]
  },
  {
   "cell_type": "code",
   "execution_count": 7,
   "metadata": {},
   "outputs": [
    {
     "name": "stdout",
     "output_type": "stream",
     "text": [
      "Impact conditions: np.array([[1.806415775814131],[0.32375857624494814],[-18600.0]])\n",
      "Terminal elements: [  0.72231578   0.5297087    5.18079402 326.57568287 103.0150748\n",
      "  24.56944643]\n",
      "Unbound terminal elements: [ 0.89757661  0.11897496 -3.518794    2.27937803 -0.91414209 -2.61391129]\n"
     ]
    },
    {
     "data": {
      "text/plain": [
       "(5.228572267234881e-26,\n",
       " 5.586619321805399e-05,\n",
       " -9.359098886202953e-22,\n",
       " [1.806415775814131, 0.32375857624494814, -18600.0])"
      ]
     },
     "execution_count": 7,
     "metadata": {},
     "output_type": "execute_result"
    }
   ],
   "source": [
    "prob=GrtProb(t,earth,NEOs,verbose=True)\n",
    "prob.setLocation(lon,lat,alt)\n",
    "p=prob.calcPdir([Aloc,hloc,vimp])\n",
    "p,prob.ph,prob.detJ,prob.Rdir"
   ]
  },
  {
   "cell_type": "code",
   "execution_count": 8,
   "metadata": {},
   "outputs": [
    {
     "data": {
      "text/plain": [
       "(array([5.22857227e-26]),\n",
       " array([5.58661932e-05]),\n",
       " array([-9.35909889e-22]),\n",
       " array([[  0.72231578,   0.5297087 ,   5.18079402, 326.57568287,\n",
       "         103.0150748 ,  24.56944643]]),\n",
       " array([[ 1.80641578e+00,  3.23758576e-01, -1.86000000e+04]]))"
      ]
     },
     "execution_count": 8,
     "metadata": {},
     "output_type": "execute_result"
    }
   ],
   "source": [
    "prob=GrtProb(t,earth,NEOs,verbose=False)\n",
    "prob.setLocation(lon,lat,alt)\n",
    "p=prob.calcPsky(np.array([[Aloc],[hloc],[vimp]]))\n",
    "p,prob.phs,prob.detJs,prob.selements,prob.Rsky"
   ]
  },
  {
   "cell_type": "code",
   "execution_count": 9,
   "metadata": {},
   "outputs": [
    {
     "data": {
      "text/plain": [
       "(array([5.22857227e-26]),\n",
       " array([5.58661932e-05]),\n",
       " array([-9.35909889e-22]),\n",
       " array([[  0.72231578,   0.5297087 ,   5.18079402, 326.57568287,\n",
       "         103.0150748 ,  24.56944643]]),\n",
       " array([[ 1.07403440e+00,  9.61603114e-01,  2.33000000e+04,\n",
       "          1.80641578e+00,  3.23758576e-01, -1.86000000e+04]]))"
      ]
     },
     "execution_count": 9,
     "metadata": {},
     "output_type": "execute_result"
    }
   ],
   "source": [
    "prob=GrtProb(t,earth,NEOs,verbose=False)\n",
    "p=prob.calcPimp(np.array([[lon],[lat],[alt],[Aloc],[hloc],[vimp]]))\n",
    "p,prob.phs,prob.detJs,prob.selements,prob.Rimp"
   ]
  },
  {
   "cell_type": "markdown",
   "metadata": {},
   "source": [
    "## Test integrations"
   ]
  },
  {
   "cell_type": "markdown",
   "metadata": {},
   "source": [
    "### One dimensional integation (quad)"
   ]
  },
  {
   "cell_type": "code",
   "execution_count": 10,
   "metadata": {},
   "outputs": [
    {
     "name": "stdout",
     "output_type": "stream",
     "text": [
      "Integral in one direction (integrator 'quad'): 3.539251483977331e-23 3.2858412673551106e-23 21\n"
     ]
    }
   ],
   "source": [
    "pint=MultiQuad(prob.calcPsky,[\"A\",\"h\",\"v\"],integrator=\"quad\")\n",
    "i,di=pint.integrate({\"A\":[np.pi],\"h\":[np.pi/4],\"v\":np.array([-43.3,-11.1])*Const.km/Const.s})\n",
    "print(f\"Integral in one direction (integrator '{pint.nintegrator}'):\",i,di,pint.fun_calls)"
   ]
  },
  {
   "cell_type": "markdown",
   "metadata": {},
   "source": [
    "### Two dimensional"
   ]
  },
  {
   "cell_type": "code",
   "execution_count": 11,
   "metadata": {},
   "outputs": [
    {
     "name": "stdout",
     "output_type": "stream",
     "text": [
      "Elapsed time since last call: 133.912 ms\n",
      "Integral in two directions (integrator 'fixed_quad'): 1.060624924834944e-25 None 5\n"
     ]
    }
   ],
   "source": [
    "pint=MultiQuad(prob.calcPsky,[\"A\",\"h\",\"v\"],integrator=\"fixed_quad\")\n",
    "dt=elTime(0)\n",
    "i,di=pint.integrate({\"A\":[0,2*np.pi],\"h\":[0,np.pi/2],\"v\":np.array([-18.6])*Const.km/Const.s})\n",
    "dt=elTime(1)\n",
    "print(f\"Integral in two directions (integrator '{pint.nintegrator}'):\",i,di,pint.fun_calls)"
   ]
  },
  {
   "cell_type": "markdown",
   "metadata": {},
   "source": [
    "### Three dimensional (approximate)"
   ]
  },
  {
   "cell_type": "code",
   "execution_count": 12,
   "metadata": {},
   "outputs": [
    {
     "name": "stdout",
     "output_type": "stream",
     "text": [
      "Elapsed time since last call: 592.452 ms\n",
      "2.0715599473990289e-22 None 37\n",
      "Integral in three directions (integrator 'fixed_quad'): 2.0715599473990289e-22 None 37\n"
     ]
    }
   ],
   "source": [
    "prob=GrtProb(t,earth,NEOs,verbose=False)\n",
    "prob.setLocation(lon,lat,alt)\n",
    "pint=MultiQuad(prob.calcPsky,[\"A\",\"h\",\"v\"],integrator=\"fixed_quad\",opt=dict(n=37))\n",
    "dt=elTime(0)\n",
    "i,di=pint.integrate({\"A\":[0,2*np.pi],\"h\":[0,np.pi/2],\"v\":np.array([-72.2,-11.1])*Const.km/Const.s})\n",
    "dt=elTime(1)\n",
    "print(i,di,pint.fun_calls)\n",
    "print(f\"Integral in three directions (integrator '{pint.nintegrator}'):\",i,di,pint.fun_calls)"
   ]
  },
  {
   "cell_type": "code",
   "execution_count": 13,
   "metadata": {},
   "outputs": [
    {
     "name": "stdout",
     "output_type": "stream",
     "text": [
      "Elapsed time since last call: 504.775 ms\n",
      "Integral in three directions (integrator 'dobrodeev_1978'): 1.6894810998515917e-21\n"
     ]
    }
   ],
   "source": [
    "nint=MultiCube(prob.calcPsky,[\"A\",\"h\",\"v\"])\n",
    "dt=elTime(0)\n",
    "i=nint.integrate({\"A\":[0,2*np.pi],\"h\":[0,np.pi/2],\"v\":np.array([-72.2,-11.1])*Const.km/Const.s})\n",
    "dt=elTime(1)\n",
    "print(f\"Integral in three directions (integrator '{nint.nscheme}'):\",i)"
   ]
  },
  {
   "cell_type": "markdown",
   "metadata": {},
   "source": [
    "### Three dimensional (exhaustive)"
   ]
  },
  {
   "cell_type": "code",
   "execution_count": 18,
   "metadata": {},
   "outputs": [],
   "source": [
    "prob=GrtProb(t,earth,NEOs,verbose=False)\n",
    "prob.setLocation(lon,lat,alt)\n",
    "NCALLS=0\n",
    "def fquad(*X):\n",
    "    global NCALLS\n",
    "    A,h,v=X\n",
    "    p=prob.calcPdir([A,h,v])\n",
    "    NCALLS+=1\n",
    "    if (NCALLS%10000)==0:\n",
    "        print(f\"{NCALLS} calls... \")\n",
    "        dt=elTime(1)\n",
    "    return p"
   ]
  },
  {
   "cell_type": "code",
   "execution_count": null,
   "metadata": {},
   "outputs": [],
   "source": [
    "print(datetime.now())\n",
    "dt=elTime(0)\n",
    "#i=integrate.nquad(fquad,[[0,2*np.pi],[0,np.pi/2],np.array([-72.2,-11.1])*Const.km/Const.s],full_output=True)\n",
    "dt=elTime(1)\n",
    "print(datetime.now())\n",
    "print(f\"Integral in three directions (exhaustive):\",i)"
   ]
  },
  {
   "cell_type": "markdown",
   "metadata": {},
   "source": [
    "### Two dimensional (Monte Carlo)"
   ]
  },
  {
   "cell_type": "code",
   "execution_count": 46,
   "metadata": {},
   "outputs": [],
   "source": [
    "NCALLS=0\n",
    "def fmc2(X):\n",
    "    global NCALLS\n",
    "    A,h=X\n",
    "    v=-18.6*Const.km/Const.s\n",
    "    p=prob.calcPdir([A,h,v])\n",
    "    NCALLS+=1\n",
    "    if (NCALLS%1000)==0:\n",
    "        print(f\"{NCALLS} calls... \")\n",
    "        dt=elTime(1)\n",
    "    return p"
   ]
  },
  {
   "cell_type": "code",
   "execution_count": null,
   "metadata": {},
   "outputs": [
    {
     "name": "stdout",
     "output_type": "stream",
     "text": [
      "Integrating with 1000 points in batches of 1000 points\n"
     ]
    }
   ],
   "source": [
    "NCALLS=0\n",
    "N=int(1000/NP)*NP\n",
    "B=int(N/NP)\n",
    "print(f\"Integrating with {N} points in batches of {B} points\")\n",
    "dt=elTime(0)\n",
    "integ=skmonaco.mcquad(fmc2,npoints=N,\n",
    "                      xl=[0.0,0.0],\n",
    "                      xu=[2*np.pi,np.pi/2],\n",
    "                      nprocs=NP,batch_size=B)\n",
    "dt=elTime(1)\n",
    "print(\"Two dimensional simple MC: \",integ)"
   ]
  },
  {
   "cell_type": "code",
   "execution_count": 38,
   "metadata": {},
   "outputs": [
    {
     "name": "stdout",
     "output_type": "stream",
     "text": [
      "Integrating with 999 points\n",
      "Elapsed time since last call: 15.8231 s\n",
      "Two dimensional MISER MC:  (9.630383939904805e-26, 1.1156840588569277e-26)\n"
     ]
    }
   ],
   "source": [
    "NCALLS=0\n",
    "N=int(1000/NP)*NP\n",
    "print(f\"Integrating with {N} points\")\n",
    "dt=elTime(0)\n",
    "integ=skmonaco.mcmiser(fmc2,npoints=N,\n",
    "                       xl=[0.0,0.0],\n",
    "                       xu=[2*np.pi,np.pi/2],\n",
    "                       nprocs=NP)\n",
    "dt=elTime(1)\n",
    "print(\"Two dimensional MISER MC: \",integ)"
   ]
  },
  {
   "cell_type": "markdown",
   "metadata": {},
   "source": [
    "### Three dimensional (Monte Carlo)"
   ]
  },
  {
   "cell_type": "code",
   "execution_count": 24,
   "metadata": {},
   "outputs": [],
   "source": [
    "NCALLSF=0\n",
    "def fmc3(X):\n",
    "    global NCALLSF\n",
    "    A,h,v=X\n",
    "    p=prob.calcPdir([A,h,v])\n",
    "    NCALLSF+=1\n",
    "    if (NCALLSF%1000)==0:\n",
    "        print(f\"{NCALLSF} calls... \",)\n",
    "        dt=elTime(1)\n",
    "    return p"
   ]
  },
  {
   "cell_type": "code",
   "execution_count": 39,
   "metadata": {},
   "outputs": [
    {
     "name": "stdout",
     "output_type": "stream",
     "text": [
      "100 calls... \n",
      "Elapsed time since last call: 1.63707 s\n",
      "200 calls... \n",
      "Elapsed time since last call: 1.32001 s\n",
      "300 calls... \n",
      "Elapsed time since last call: 2.03979 s\n",
      "400 calls... \n",
      "Elapsed time since last call: 2.16939 s\n",
      "500 calls... \n",
      "Elapsed time since last call: 1.74412 s\n",
      "600 calls... \n",
      "Elapsed time since last call: 1.78554 s\n",
      "700 calls... \n",
      "Elapsed time since last call: 1.63134 s\n",
      "800 calls... \n",
      "Elapsed time since last call: 1.44536 s\n",
      "900 calls... \n",
      "Elapsed time since last call: 1.51156 s\n",
      "1000 calls... \n",
      "Elapsed time since last call: 1.97176 s\n",
      "1100 calls... \n",
      "Elapsed time since last call: 1.71927 s\n",
      "1200 calls... \n",
      "Elapsed time since last call: 1.50401 s\n"
     ]
    },
    {
     "name": "stderr",
     "output_type": "stream",
     "text": [
      "Process Process-19:\n",
      "  File \"/Users/jzuluaga/anaconda/lib/python3.6/multiprocessing/process.py\", line 93, in run\n",
      "    self._target(*self._args, **self._kwargs)\n",
      "Traceback (most recent call last):\n",
      "  File \"/Users/jzuluaga/anaconda/lib/python3.6/multiprocessing/process.py\", line 258, in _bootstrap\n",
      "    self.run()\n",
      "  File \"/Users/jzuluaga/anaconda/lib/python3.6/site-packages/skmonaco/mp.py\", line 19, in fun\n",
      "    q_out.put((i,f(x)))\n",
      "  File \"/Users/jzuluaga/anaconda/lib/python3.6/site-packages/skmonaco/uniform.py\", line 41, in func\n",
      "    xl,xu,args=self.args,rng=self.rng,seed=seed)\n",
      "  File \"_mc.pyx\", line 89, in skmonaco._mc.integrate_uniform (skmonaco/_mc.c:2677)\n"
     ]
    },
    {
     "ename": "KeyboardInterrupt",
     "evalue": "",
     "output_type": "error",
     "traceback": [
      "\u001b[0;31m---------------------------------------------------------------------------\u001b[0m",
      "\u001b[0;31mKeyboardInterrupt\u001b[0m                         Traceback (most recent call last)",
      "\u001b[0;32m<ipython-input-39-39fcc4dd74d6>\u001b[0m in \u001b[0;36m<module>\u001b[0;34m()\u001b[0m\n\u001b[1;32m      5\u001b[0m                       \u001b[0mxl\u001b[0m\u001b[0;34m=\u001b[0m\u001b[0;34m[\u001b[0m\u001b[0;36m0.0\u001b[0m\u001b[0;34m,\u001b[0m\u001b[0;36m0.0\u001b[0m\u001b[0;34m,\u001b[0m\u001b[0;34m-\u001b[0m\u001b[0;36m72.2\u001b[0m\u001b[0;34m*\u001b[0m\u001b[0mConst\u001b[0m\u001b[0;34m.\u001b[0m\u001b[0mkm\u001b[0m\u001b[0;34m/\u001b[0m\u001b[0mConst\u001b[0m\u001b[0;34m.\u001b[0m\u001b[0ms\u001b[0m\u001b[0;34m]\u001b[0m\u001b[0;34m,\u001b[0m\u001b[0;34m\u001b[0m\u001b[0;34m\u001b[0m\u001b[0m\n\u001b[1;32m      6\u001b[0m                       \u001b[0mxu\u001b[0m\u001b[0;34m=\u001b[0m\u001b[0;34m[\u001b[0m\u001b[0;36m2\u001b[0m\u001b[0;34m*\u001b[0m\u001b[0mnp\u001b[0m\u001b[0;34m.\u001b[0m\u001b[0mpi\u001b[0m\u001b[0;34m,\u001b[0m\u001b[0mnp\u001b[0m\u001b[0;34m.\u001b[0m\u001b[0mpi\u001b[0m\u001b[0;34m/\u001b[0m\u001b[0;36m2\u001b[0m\u001b[0;34m,\u001b[0m\u001b[0;34m-\u001b[0m\u001b[0;36m11.1\u001b[0m\u001b[0;34m*\u001b[0m\u001b[0mConst\u001b[0m\u001b[0;34m.\u001b[0m\u001b[0mkm\u001b[0m\u001b[0;34m/\u001b[0m\u001b[0mConst\u001b[0m\u001b[0;34m.\u001b[0m\u001b[0ms\u001b[0m\u001b[0;34m]\u001b[0m\u001b[0;34m,\u001b[0m\u001b[0;34m\u001b[0m\u001b[0;34m\u001b[0m\u001b[0m\n\u001b[0;32m----> 7\u001b[0;31m                       nprocs=NP)\n\u001b[0m\u001b[1;32m      8\u001b[0m \u001b[0mdt\u001b[0m\u001b[0;34m=\u001b[0m\u001b[0melTime\u001b[0m\u001b[0;34m(\u001b[0m\u001b[0;36m1\u001b[0m\u001b[0;34m)\u001b[0m\u001b[0;34m\u001b[0m\u001b[0;34m\u001b[0m\u001b[0m\n\u001b[1;32m      9\u001b[0m \u001b[0mprint\u001b[0m\u001b[0;34m(\u001b[0m\u001b[0;34m\"Three dimensional simple MC: \"\u001b[0m\u001b[0;34m,\u001b[0m\u001b[0minteg\u001b[0m\u001b[0;34m,\u001b[0m\u001b[0mNCALLSF\u001b[0m\u001b[0;34m)\u001b[0m\u001b[0;34m\u001b[0m\u001b[0;34m\u001b[0m\u001b[0m\n",
      "\u001b[0;32m/Users/jzuluaga/anaconda/lib/python3.6/site-packages/skmonaco/uniform.py\u001b[0m in \u001b[0;36mmcquad\u001b[0;34m(f, npoints, xl, xu, args, rng, nprocs, seed, batch_size)\u001b[0m\n\u001b[1;32m    127\u001b[0m     \"\"\"\n\u001b[1;32m    128\u001b[0m     return _MC_Integrator(f,npoints,args=args,\n\u001b[0;32m--> 129\u001b[0;31m             xl=xl,xu=xu,rng=rng,nprocs=nprocs,seed=seed,batch_size=batch_size).run()\n\u001b[0m\u001b[1;32m    130\u001b[0m \u001b[0;34m\u001b[0m\u001b[0m\n",
      "\u001b[0;32m/Users/jzuluaga/anaconda/lib/python3.6/site-packages/skmonaco/mc_base.py\u001b[0m in \u001b[0;36mrun\u001b[0;34m(self)\u001b[0m\n\u001b[1;32m     67\u001b[0m             \u001b[0;32mreturn\u001b[0m \u001b[0mself\u001b[0m\u001b[0;34m.\u001b[0m\u001b[0mrun_serial\u001b[0m\u001b[0;34m(\u001b[0m\u001b[0;34m)\u001b[0m\u001b[0;34m\u001b[0m\u001b[0;34m\u001b[0m\u001b[0m\n\u001b[1;32m     68\u001b[0m         \u001b[0;32melse\u001b[0m\u001b[0;34m:\u001b[0m\u001b[0;34m\u001b[0m\u001b[0;34m\u001b[0m\u001b[0m\n\u001b[0;32m---> 69\u001b[0;31m             \u001b[0;32mreturn\u001b[0m \u001b[0mself\u001b[0m\u001b[0;34m.\u001b[0m\u001b[0mrun_parallel\u001b[0m\u001b[0;34m(\u001b[0m\u001b[0;34m)\u001b[0m\u001b[0;34m\u001b[0m\u001b[0;34m\u001b[0m\u001b[0m\n\u001b[0m\u001b[1;32m     70\u001b[0m \u001b[0;34m\u001b[0m\u001b[0m\n",
      "\u001b[0;32m/Users/jzuluaga/anaconda/lib/python3.6/site-packages/skmonaco/mc_base.py\u001b[0m in \u001b[0;36mrun_parallel\u001b[0;34m(self)\u001b[0m\n\u001b[1;32m     56\u001b[0m     \u001b[0;32mdef\u001b[0m \u001b[0mrun_parallel\u001b[0m\u001b[0;34m(\u001b[0m\u001b[0mself\u001b[0m\u001b[0;34m)\u001b[0m\u001b[0;34m:\u001b[0m\u001b[0;34m\u001b[0m\u001b[0;34m\u001b[0m\u001b[0m\n\u001b[1;32m     57\u001b[0m         \u001b[0mf\u001b[0m \u001b[0;34m=\u001b[0m \u001b[0mself\u001b[0m\u001b[0;34m.\u001b[0m\u001b[0mmake_integrator\u001b[0m\u001b[0;34m(\u001b[0m\u001b[0;34m)\u001b[0m\u001b[0;34m\u001b[0m\u001b[0;34m\u001b[0m\u001b[0m\n\u001b[0;32m---> 58\u001b[0;31m         \u001b[0mres\u001b[0m \u001b[0;34m=\u001b[0m \u001b[0mmp\u001b[0m\u001b[0;34m.\u001b[0m\u001b[0mparmap\u001b[0m\u001b[0;34m(\u001b[0m\u001b[0mf\u001b[0m\u001b[0;34m,\u001b[0m\u001b[0mrange\u001b[0m\u001b[0;34m(\u001b[0m\u001b[0mself\u001b[0m\u001b[0;34m.\u001b[0m\u001b[0mnbatches\u001b[0m\u001b[0;34m)\u001b[0m\u001b[0;34m,\u001b[0m\u001b[0mnprocs\u001b[0m\u001b[0;34m=\u001b[0m\u001b[0mself\u001b[0m\u001b[0;34m.\u001b[0m\u001b[0mnprocs\u001b[0m\u001b[0;34m)\u001b[0m\u001b[0;34m\u001b[0m\u001b[0;34m\u001b[0m\u001b[0m\n\u001b[0m\u001b[1;32m     59\u001b[0m         \u001b[0msumm\u001b[0m\u001b[0;34m,\u001b[0m \u001b[0msum2s\u001b[0m \u001b[0;34m=\u001b[0m \u001b[0mzip\u001b[0m\u001b[0;34m(\u001b[0m\u001b[0;34m*\u001b[0m\u001b[0mres\u001b[0m\u001b[0;34m)\u001b[0m\u001b[0;34m\u001b[0m\u001b[0;34m\u001b[0m\u001b[0m\n\u001b[1;32m     60\u001b[0m         \u001b[0msumm\u001b[0m \u001b[0;34m=\u001b[0m \u001b[0mnp\u001b[0m\u001b[0;34m.\u001b[0m\u001b[0marray\u001b[0m\u001b[0;34m(\u001b[0m\u001b[0msumm\u001b[0m\u001b[0;34m)\u001b[0m\u001b[0;34m.\u001b[0m\u001b[0msum\u001b[0m\u001b[0;34m(\u001b[0m\u001b[0maxis\u001b[0m\u001b[0;34m=\u001b[0m\u001b[0;36m0\u001b[0m\u001b[0;34m)\u001b[0m\u001b[0;34m\u001b[0m\u001b[0;34m\u001b[0m\u001b[0m\n",
      "\u001b[0;32m/Users/jzuluaga/anaconda/lib/python3.6/site-packages/skmonaco/mp.py\u001b[0m in \u001b[0;36mparmap\u001b[0;34m(f, X, nprocs)\u001b[0m\n\u001b[1;32m     34\u001b[0m     \u001b[0msent\u001b[0m \u001b[0;34m=\u001b[0m \u001b[0;34m[\u001b[0m\u001b[0mq_in\u001b[0m\u001b[0;34m.\u001b[0m\u001b[0mput\u001b[0m\u001b[0;34m(\u001b[0m\u001b[0;34m(\u001b[0m\u001b[0mi\u001b[0m\u001b[0;34m,\u001b[0m\u001b[0mx\u001b[0m\u001b[0;34m)\u001b[0m\u001b[0;34m)\u001b[0m \u001b[0;32mfor\u001b[0m \u001b[0mi\u001b[0m\u001b[0;34m,\u001b[0m\u001b[0mx\u001b[0m \u001b[0;32min\u001b[0m \u001b[0menumerate\u001b[0m\u001b[0;34m(\u001b[0m\u001b[0mX\u001b[0m\u001b[0;34m)\u001b[0m\u001b[0;34m]\u001b[0m\u001b[0;34m\u001b[0m\u001b[0;34m\u001b[0m\u001b[0m\n\u001b[1;32m     35\u001b[0m     \u001b[0;34m[\u001b[0m\u001b[0mq_in\u001b[0m\u001b[0;34m.\u001b[0m\u001b[0mput\u001b[0m\u001b[0;34m(\u001b[0m\u001b[0;34m(\u001b[0m\u001b[0;32mNone\u001b[0m\u001b[0;34m,\u001b[0m\u001b[0;32mNone\u001b[0m\u001b[0;34m)\u001b[0m\u001b[0;34m)\u001b[0m \u001b[0;32mfor\u001b[0m \u001b[0m_\u001b[0m \u001b[0;32min\u001b[0m \u001b[0mrange\u001b[0m\u001b[0;34m(\u001b[0m\u001b[0mnprocs\u001b[0m\u001b[0;34m)\u001b[0m\u001b[0;34m]\u001b[0m\u001b[0;34m\u001b[0m\u001b[0;34m\u001b[0m\u001b[0m\n\u001b[0;32m---> 36\u001b[0;31m     \u001b[0mres\u001b[0m \u001b[0;34m=\u001b[0m \u001b[0;34m[\u001b[0m\u001b[0mq_out\u001b[0m\u001b[0;34m.\u001b[0m\u001b[0mget\u001b[0m\u001b[0;34m(\u001b[0m\u001b[0;34m)\u001b[0m \u001b[0;32mfor\u001b[0m \u001b[0m_\u001b[0m \u001b[0;32min\u001b[0m \u001b[0mrange\u001b[0m\u001b[0;34m(\u001b[0m\u001b[0mlen\u001b[0m\u001b[0;34m(\u001b[0m\u001b[0msent\u001b[0m\u001b[0;34m)\u001b[0m\u001b[0;34m)\u001b[0m\u001b[0;34m]\u001b[0m\u001b[0;34m\u001b[0m\u001b[0;34m\u001b[0m\u001b[0m\n\u001b[0m\u001b[1;32m     37\u001b[0m \u001b[0;34m\u001b[0m\u001b[0m\n\u001b[1;32m     38\u001b[0m     \u001b[0;34m[\u001b[0m\u001b[0mp\u001b[0m\u001b[0;34m.\u001b[0m\u001b[0mjoin\u001b[0m\u001b[0;34m(\u001b[0m\u001b[0;34m)\u001b[0m \u001b[0;32mfor\u001b[0m \u001b[0mp\u001b[0m \u001b[0;32min\u001b[0m \u001b[0mproc\u001b[0m\u001b[0;34m]\u001b[0m\u001b[0;34m\u001b[0m\u001b[0;34m\u001b[0m\u001b[0m\n",
      "\u001b[0;32m/Users/jzuluaga/anaconda/lib/python3.6/site-packages/skmonaco/mp.py\u001b[0m in \u001b[0;36m<listcomp>\u001b[0;34m(.0)\u001b[0m\n\u001b[1;32m     34\u001b[0m     \u001b[0msent\u001b[0m \u001b[0;34m=\u001b[0m \u001b[0;34m[\u001b[0m\u001b[0mq_in\u001b[0m\u001b[0;34m.\u001b[0m\u001b[0mput\u001b[0m\u001b[0;34m(\u001b[0m\u001b[0;34m(\u001b[0m\u001b[0mi\u001b[0m\u001b[0;34m,\u001b[0m\u001b[0mx\u001b[0m\u001b[0;34m)\u001b[0m\u001b[0;34m)\u001b[0m \u001b[0;32mfor\u001b[0m \u001b[0mi\u001b[0m\u001b[0;34m,\u001b[0m\u001b[0mx\u001b[0m \u001b[0;32min\u001b[0m \u001b[0menumerate\u001b[0m\u001b[0;34m(\u001b[0m\u001b[0mX\u001b[0m\u001b[0;34m)\u001b[0m\u001b[0;34m]\u001b[0m\u001b[0;34m\u001b[0m\u001b[0;34m\u001b[0m\u001b[0m\n\u001b[1;32m     35\u001b[0m     \u001b[0;34m[\u001b[0m\u001b[0mq_in\u001b[0m\u001b[0;34m.\u001b[0m\u001b[0mput\u001b[0m\u001b[0;34m(\u001b[0m\u001b[0;34m(\u001b[0m\u001b[0;32mNone\u001b[0m\u001b[0;34m,\u001b[0m\u001b[0;32mNone\u001b[0m\u001b[0;34m)\u001b[0m\u001b[0;34m)\u001b[0m \u001b[0;32mfor\u001b[0m \u001b[0m_\u001b[0m \u001b[0;32min\u001b[0m \u001b[0mrange\u001b[0m\u001b[0;34m(\u001b[0m\u001b[0mnprocs\u001b[0m\u001b[0;34m)\u001b[0m\u001b[0;34m]\u001b[0m\u001b[0;34m\u001b[0m\u001b[0;34m\u001b[0m\u001b[0m\n\u001b[0;32m---> 36\u001b[0;31m     \u001b[0mres\u001b[0m \u001b[0;34m=\u001b[0m \u001b[0;34m[\u001b[0m\u001b[0mq_out\u001b[0m\u001b[0;34m.\u001b[0m\u001b[0mget\u001b[0m\u001b[0;34m(\u001b[0m\u001b[0;34m)\u001b[0m \u001b[0;32mfor\u001b[0m \u001b[0m_\u001b[0m \u001b[0;32min\u001b[0m \u001b[0mrange\u001b[0m\u001b[0;34m(\u001b[0m\u001b[0mlen\u001b[0m\u001b[0;34m(\u001b[0m\u001b[0msent\u001b[0m\u001b[0;34m)\u001b[0m\u001b[0;34m)\u001b[0m\u001b[0;34m]\u001b[0m\u001b[0;34m\u001b[0m\u001b[0;34m\u001b[0m\u001b[0m\n\u001b[0m\u001b[1;32m     37\u001b[0m \u001b[0;34m\u001b[0m\u001b[0m\n\u001b[1;32m     38\u001b[0m     \u001b[0;34m[\u001b[0m\u001b[0mp\u001b[0m\u001b[0;34m.\u001b[0m\u001b[0mjoin\u001b[0m\u001b[0;34m(\u001b[0m\u001b[0;34m)\u001b[0m \u001b[0;32mfor\u001b[0m \u001b[0mp\u001b[0m \u001b[0;32min\u001b[0m \u001b[0mproc\u001b[0m\u001b[0;34m]\u001b[0m\u001b[0;34m\u001b[0m\u001b[0;34m\u001b[0m\u001b[0m\n",
      "\u001b[0;32m/Users/jzuluaga/anaconda/lib/python3.6/multiprocessing/queues.py\u001b[0m in \u001b[0;36mget\u001b[0;34m(self, block, timeout)\u001b[0m\n\u001b[1;32m     92\u001b[0m         \u001b[0;32mif\u001b[0m \u001b[0mblock\u001b[0m \u001b[0;32mand\u001b[0m \u001b[0mtimeout\u001b[0m \u001b[0;32mis\u001b[0m \u001b[0;32mNone\u001b[0m\u001b[0;34m:\u001b[0m\u001b[0;34m\u001b[0m\u001b[0;34m\u001b[0m\u001b[0m\n\u001b[1;32m     93\u001b[0m             \u001b[0;32mwith\u001b[0m \u001b[0mself\u001b[0m\u001b[0;34m.\u001b[0m\u001b[0m_rlock\u001b[0m\u001b[0;34m:\u001b[0m\u001b[0;34m\u001b[0m\u001b[0;34m\u001b[0m\u001b[0m\n\u001b[0;32m---> 94\u001b[0;31m                 \u001b[0mres\u001b[0m \u001b[0;34m=\u001b[0m \u001b[0mself\u001b[0m\u001b[0;34m.\u001b[0m\u001b[0m_recv_bytes\u001b[0m\u001b[0;34m(\u001b[0m\u001b[0;34m)\u001b[0m\u001b[0;34m\u001b[0m\u001b[0;34m\u001b[0m\u001b[0m\n\u001b[0m\u001b[1;32m     95\u001b[0m             \u001b[0mself\u001b[0m\u001b[0;34m.\u001b[0m\u001b[0m_sem\u001b[0m\u001b[0;34m.\u001b[0m\u001b[0mrelease\u001b[0m\u001b[0;34m(\u001b[0m\u001b[0;34m)\u001b[0m\u001b[0;34m\u001b[0m\u001b[0;34m\u001b[0m\u001b[0m\n\u001b[1;32m     96\u001b[0m         \u001b[0;32melse\u001b[0m\u001b[0;34m:\u001b[0m\u001b[0;34m\u001b[0m\u001b[0;34m\u001b[0m\u001b[0m\n",
      "\u001b[0;32m/Users/jzuluaga/anaconda/lib/python3.6/multiprocessing/connection.py\u001b[0m in \u001b[0;36mrecv_bytes\u001b[0;34m(self, maxlength)\u001b[0m\n\u001b[1;32m    214\u001b[0m         \u001b[0;32mif\u001b[0m \u001b[0mmaxlength\u001b[0m \u001b[0;32mis\u001b[0m \u001b[0;32mnot\u001b[0m \u001b[0;32mNone\u001b[0m \u001b[0;32mand\u001b[0m \u001b[0mmaxlength\u001b[0m \u001b[0;34m<\u001b[0m \u001b[0;36m0\u001b[0m\u001b[0;34m:\u001b[0m\u001b[0;34m\u001b[0m\u001b[0;34m\u001b[0m\u001b[0m\n\u001b[1;32m    215\u001b[0m             \u001b[0;32mraise\u001b[0m \u001b[0mValueError\u001b[0m\u001b[0;34m(\u001b[0m\u001b[0;34m\"negative maxlength\"\u001b[0m\u001b[0;34m)\u001b[0m\u001b[0;34m\u001b[0m\u001b[0;34m\u001b[0m\u001b[0m\n\u001b[0;32m--> 216\u001b[0;31m         \u001b[0mbuf\u001b[0m \u001b[0;34m=\u001b[0m \u001b[0mself\u001b[0m\u001b[0;34m.\u001b[0m\u001b[0m_recv_bytes\u001b[0m\u001b[0;34m(\u001b[0m\u001b[0mmaxlength\u001b[0m\u001b[0;34m)\u001b[0m\u001b[0;34m\u001b[0m\u001b[0;34m\u001b[0m\u001b[0m\n\u001b[0m\u001b[1;32m    217\u001b[0m         \u001b[0;32mif\u001b[0m \u001b[0mbuf\u001b[0m \u001b[0;32mis\u001b[0m \u001b[0;32mNone\u001b[0m\u001b[0;34m:\u001b[0m\u001b[0;34m\u001b[0m\u001b[0;34m\u001b[0m\u001b[0m\n\u001b[1;32m    218\u001b[0m             \u001b[0mself\u001b[0m\u001b[0;34m.\u001b[0m\u001b[0m_bad_message_length\u001b[0m\u001b[0;34m(\u001b[0m\u001b[0;34m)\u001b[0m\u001b[0;34m\u001b[0m\u001b[0;34m\u001b[0m\u001b[0m\n",
      "\u001b[0;32m/Users/jzuluaga/anaconda/lib/python3.6/multiprocessing/connection.py\u001b[0m in \u001b[0;36m_recv_bytes\u001b[0;34m(self, maxsize)\u001b[0m\n\u001b[1;32m    405\u001b[0m \u001b[0;34m\u001b[0m\u001b[0m\n\u001b[1;32m    406\u001b[0m     \u001b[0;32mdef\u001b[0m \u001b[0m_recv_bytes\u001b[0m\u001b[0;34m(\u001b[0m\u001b[0mself\u001b[0m\u001b[0;34m,\u001b[0m \u001b[0mmaxsize\u001b[0m\u001b[0;34m=\u001b[0m\u001b[0;32mNone\u001b[0m\u001b[0;34m)\u001b[0m\u001b[0;34m:\u001b[0m\u001b[0;34m\u001b[0m\u001b[0;34m\u001b[0m\u001b[0m\n\u001b[0;32m--> 407\u001b[0;31m         \u001b[0mbuf\u001b[0m \u001b[0;34m=\u001b[0m \u001b[0mself\u001b[0m\u001b[0;34m.\u001b[0m\u001b[0m_recv\u001b[0m\u001b[0;34m(\u001b[0m\u001b[0;36m4\u001b[0m\u001b[0;34m)\u001b[0m\u001b[0;34m\u001b[0m\u001b[0;34m\u001b[0m\u001b[0m\n\u001b[0m\u001b[1;32m    408\u001b[0m         \u001b[0msize\u001b[0m\u001b[0;34m,\u001b[0m \u001b[0;34m=\u001b[0m \u001b[0mstruct\u001b[0m\u001b[0;34m.\u001b[0m\u001b[0munpack\u001b[0m\u001b[0;34m(\u001b[0m\u001b[0;34m\"!i\"\u001b[0m\u001b[0;34m,\u001b[0m \u001b[0mbuf\u001b[0m\u001b[0;34m.\u001b[0m\u001b[0mgetvalue\u001b[0m\u001b[0;34m(\u001b[0m\u001b[0;34m)\u001b[0m\u001b[0;34m)\u001b[0m\u001b[0;34m\u001b[0m\u001b[0;34m\u001b[0m\u001b[0m\n\u001b[1;32m    409\u001b[0m         \u001b[0;32mif\u001b[0m \u001b[0mmaxsize\u001b[0m \u001b[0;32mis\u001b[0m \u001b[0;32mnot\u001b[0m \u001b[0;32mNone\u001b[0m \u001b[0;32mand\u001b[0m \u001b[0msize\u001b[0m \u001b[0;34m>\u001b[0m \u001b[0mmaxsize\u001b[0m\u001b[0;34m:\u001b[0m\u001b[0;34m\u001b[0m\u001b[0;34m\u001b[0m\u001b[0m\n",
      "\u001b[0;32m/Users/jzuluaga/anaconda/lib/python3.6/multiprocessing/connection.py\u001b[0m in \u001b[0;36m_recv\u001b[0;34m(self, size, read)\u001b[0m\n\u001b[1;32m    377\u001b[0m         \u001b[0mremaining\u001b[0m \u001b[0;34m=\u001b[0m \u001b[0msize\u001b[0m\u001b[0;34m\u001b[0m\u001b[0;34m\u001b[0m\u001b[0m\n\u001b[1;32m    378\u001b[0m         \u001b[0;32mwhile\u001b[0m \u001b[0mremaining\u001b[0m \u001b[0;34m>\u001b[0m \u001b[0;36m0\u001b[0m\u001b[0;34m:\u001b[0m\u001b[0;34m\u001b[0m\u001b[0;34m\u001b[0m\u001b[0m\n\u001b[0;32m--> 379\u001b[0;31m             \u001b[0mchunk\u001b[0m \u001b[0;34m=\u001b[0m \u001b[0mread\u001b[0m\u001b[0;34m(\u001b[0m\u001b[0mhandle\u001b[0m\u001b[0;34m,\u001b[0m \u001b[0mremaining\u001b[0m\u001b[0;34m)\u001b[0m\u001b[0;34m\u001b[0m\u001b[0;34m\u001b[0m\u001b[0m\n\u001b[0m\u001b[1;32m    380\u001b[0m             \u001b[0mn\u001b[0m \u001b[0;34m=\u001b[0m \u001b[0mlen\u001b[0m\u001b[0;34m(\u001b[0m\u001b[0mchunk\u001b[0m\u001b[0;34m)\u001b[0m\u001b[0;34m\u001b[0m\u001b[0;34m\u001b[0m\u001b[0m\n\u001b[1;32m    381\u001b[0m             \u001b[0;32mif\u001b[0m \u001b[0mn\u001b[0m \u001b[0;34m==\u001b[0m \u001b[0;36m0\u001b[0m\u001b[0;34m:\u001b[0m\u001b[0;34m\u001b[0m\u001b[0;34m\u001b[0m\u001b[0m\n",
      "\u001b[0;31mKeyboardInterrupt\u001b[0m: "
     ]
    },
    {
     "name": "stderr",
     "output_type": "stream",
     "text": [
      "  File \"_mc.pyx\", line 36, in skmonaco._mc.run_integral (skmonaco/_mc.c:1546)\n",
      "  File \"_core.pyx\", line 40, in skmonaco._core.mc_kernel_noargs (skmonaco/_core.c:1757)\n",
      "  File \"<ipython-input-24-b10eacf2e845>\", line 5, in fmc3\n",
      "    p=prob.calcPdir([A,h,v])\n",
      "  File \"/Users/jzuluaga/GoogleDrive/ColaboratoryProjects/GRT2/GRT/gravray/orbit.py\", line 811, in calcPdir\n",
      "    detJ=ray.calcJacobianDeterminant()*                     (1-ray.terminal.elements[1])*                     Jacobians.calcDetMapJacobian(ray.terminal.elements,\n",
      "  File \"/Users/jzuluaga/GoogleDrive/ColaboratoryProjects/GRT2/GRT/gravray/orbit.py\", line 709, in calcJacobianDeterminant\n",
      "    y,Jhx=Jacobians.computeNumericalJacobian(Xbody2Xhel,X,dX)\n",
      "  File \"/Users/jzuluaga/GoogleDrive/ColaboratoryProjects/GRT2/GRT/gravray/orbit.py\", line 349, in computeNumericalJacobian\n",
      "    dyidxj=(yi(x[j]+dx[j])-yi(x[j]-dx[j]))/(2*dx[j])\n",
      "  File \"/Users/jzuluaga/GoogleDrive/ColaboratoryProjects/GRT2/GRT/gravray/orbit.py\", line 348, in <lambda>\n",
      "    yi=lambda t:jfun(pre+[t]+pos,**args)[i]\n",
      "KeyboardInterrupt\n"
     ]
    }
   ],
   "source": [
    "NCALLSF=0\n",
    "N=int(10000/NP)*NP\n",
    "dt=elTime(0)\n",
    "integ=skmonaco.mcquad(fmc3,npoints=N,\n",
    "                      xl=[0.0,0.0,-72.2*Const.km/Const.s],\n",
    "                      xu=[2*np.pi,np.pi/2,-11.1*Const.km/Const.s],\n",
    "                      nprocs=NP)\n",
    "dt=elTime(1)\n",
    "print(\"Three dimensional simple MC: \",integ,NCALLSF)"
   ]
  },
  {
   "cell_type": "code",
   "execution_count": null,
   "metadata": {},
   "outputs": [],
   "source": [
    "NCALLSF=0\n",
    "N=int(10000/NP)*NP\n",
    "dt=elTime(0)\n",
    "integ=skmonaco.mcmiser(fmc3,npoints=N,\n",
    "                      xl=[0.0,0.0,-72.2*Const.km/Const.s],\n",
    "                      xu=[2*np.pi,np.pi/2,-11.1*Const.km/Const.s],\n",
    "                      nprocs=NP)\n",
    "dt=elTime(1)\n",
    "print(\"Three dimensional MISER MC: \",integ,NCALLSF)"
   ]
  },
  {
   "cell_type": "markdown",
   "metadata": {},
   "source": [
    "--End--"
   ]
  },
  {
   "cell_type": "code",
   "execution_count": 1,
   "metadata": {},
   "outputs": [
    {
     "data": {
      "text/plain": [
       "1"
      ]
     },
     "execution_count": 1,
     "metadata": {},
     "output_type": "execute_result"
    }
   ],
   "source": [
    "\"\"\"\n",
    "pint=MultiQuad(prob.calcPsky,[\"A\",\"h\",\"v\"],integrator=\"quad\")\n",
    "dt=elTime(0)\n",
    "i,di=pint.integrate({\"A\":[0,2*np.pi],\"h\":[0,np.pi/2],\"v\":np.array([-18.6])*Const.km/Const.s})\n",
    "dt=elTime(1)\n",
    "print(f\"Integral in three directions (integrator '{pint.nintegrator}'):\",i,di,pint.fun_calls)\n",
    "pint=MultiQuad(prob.calcPsky,[\"A\",\"h\",\"v\"],integrator=\"quad\")\n",
    "dt=elTime(0)\n",
    "i,di=pint.integrate({\"A\":[0,2*np.pi],\"h\":[0,np.pi/2],\"v\":np.array([-18.6])*Const.km/Const.s})\n",
    "dt=elTime(1)\n",
    "print(i,di,pint.fun_calls)\n",
    "pint=MultiQuad(prob.calcPsky,[\"A\",\"h\",\"v\"],integrator=\"quad\")\n",
    "dt=elTime(0)\n",
    "i,di=pint.integrate({\"A\":[0,2*np.pi],\"h\":[0,np.pi/2],\"v\":np.array([-72.2,-11.1])*Const.km/Const.s})\n",
    "dt=elTime(1)\n",
    "print(i,di,pint.fun_calls)\n",
    "\"\"\"\n",
    "1"
   ]
  }
 ],
 "metadata": {
  "kernelspec": {
   "display_name": "Python 3",
   "language": "python",
   "name": "python3"
  },
  "language_info": {
   "codemirror_mode": {
    "name": "ipython",
    "version": 3
   },
   "file_extension": ".py",
   "mimetype": "text/x-python",
   "name": "python",
   "nbconvert_exporter": "python",
   "pygments_lexer": "ipython3",
   "version": "3.6.8"
  }
 },
 "nbformat": 4,
 "nbformat_minor": 2
}
