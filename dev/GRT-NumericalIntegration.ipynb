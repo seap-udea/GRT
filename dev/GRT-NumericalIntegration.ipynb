{
 "cells": [
  {
   "cell_type": "markdown",
   "metadata": {},
   "source": [
    "# GRT Integration Multidimensional\n",
    "\n",
    "In this notebook we perform a full analysis using the tools of gravray"
   ]
  },
  {
   "cell_type": "code",
   "execution_count": 1,
   "metadata": {},
   "outputs": [
    {
     "data": {
      "application/javascript": [
       "IPython.notebook.kernel.execute('FILE=\"' + IPython.notebook.notebook_name + '\"')"
      ],
      "text/plain": [
       "<IPython.core.display.Javascript object>"
      ]
     },
     "metadata": {},
     "output_type": "display_data"
    },
    {
     "data": {
      "application/javascript": [
       "IPython.notebook.kernel.execute('FILE=\"' + IPython.notebook.notebook_name + '\"')"
      ],
      "text/plain": [
       "<IPython.core.display.Javascript object>"
      ]
     },
     "metadata": {},
     "output_type": "display_data"
    },
    {
     "data": {
      "application/javascript": [
       "IPython.notebook.kernel.execute('FILE=\"' + IPython.notebook.notebook_name + '\"')"
      ],
      "text/plain": [
       "<IPython.core.display.Javascript object>"
      ]
     },
     "metadata": {},
     "output_type": "display_data"
    },
    {
     "name": "stdout",
     "output_type": "stream",
     "text": [
      "The autoreload extension is already loaded. To reload it, use:\n",
      "  %reload_ext autoreload\n"
     ]
    },
    {
     "data": {
      "application/javascript": [
       "IPython.notebook.kernel.execute('FILE=\"' + IPython.notebook.notebook_name + '\"')"
      ],
      "text/plain": [
       "<IPython.core.display.Javascript object>"
      ]
     },
     "metadata": {},
     "output_type": "display_data"
    },
    {
     "data": {
      "application/javascript": [
       "IPython.notebook.kernel.execute('FILE=\"' + IPython.notebook.notebook_name + '\"')"
      ],
      "text/plain": [
       "<IPython.core.display.Javascript object>"
      ]
     },
     "metadata": {},
     "output_type": "display_data"
    },
    {
     "data": {
      "application/javascript": [
       "IPython.notebook.kernel.execute('FILE=\"' + IPython.notebook.notebook_name + '\"')"
      ],
      "text/plain": [
       "<IPython.core.display.Javascript object>"
      ]
     },
     "metadata": {},
     "output_type": "display_data"
    },
    {
     "name": "stdout",
     "output_type": "stream",
     "text": [
      "The autoreload extension is already loaded. To reload it, use:\n",
      "  %reload_ext autoreload\n"
     ]
    },
    {
     "data": {
      "application/javascript": [
       "IPython.notebook.kernel.execute('FILE=\"' + IPython.notebook.notebook_name + '\"')"
      ],
      "text/plain": [
       "<IPython.core.display.Javascript object>"
      ]
     },
     "metadata": {},
     "output_type": "display_data"
    },
    {
     "name": "stdout",
     "output_type": "stream",
     "text": [
      "The autoreload extension is already loaded. To reload it, use:\n",
      "  %reload_ext autoreload\n"
     ]
    }
   ],
   "source": [
    "from gravray import *\n",
    "from gravray.util import *\n",
    "from gravray.stats import *\n",
    "from gravray.spice import *\n",
    "from gravray.plot import *\n",
    "from gravray.sampling import *\n",
    "from gravray.orbit import *\n",
    "\n",
    "from tqdm import tqdm"
   ]
  },
  {
   "cell_type": "code",
   "execution_count": 5,
   "metadata": {},
   "outputs": [],
   "source": [
    "# https://pypi.org/project/quadpy/\n",
    "import quadpy\n",
    "import numpy"
   ]
  },
  {
   "cell_type": "code",
   "execution_count": 6,
   "metadata": {},
   "outputs": [
    {
     "data": {
      "text/plain": [
       "0.022921002763062442"
      ]
     },
     "execution_count": 6,
     "metadata": {},
     "output_type": "execute_result"
    }
   ],
   "source": [
    "def f(x):\n",
    "    return numpy.sin(x[0]) * numpy.sin(x[1])\n",
    "triangle = numpy.array([[0.0, 0.0], [1.0, 0.0], [0.7, 0.5]])\n",
    "val = quadpy.triangle.strang_fix_cowper_09().integrate(f, triangle)\n",
    "val"
   ]
  },
  {
   "cell_type": "code",
   "execution_count": 7,
   "metadata": {},
   "outputs": [
    {
     "data": {
      "image/png": "[encoded data removed]",
      "text/plain": [
       "<Figure size 432x288 with 1 Axes>"
      ]
     },
     "metadata": {
      "needs_background": "light"
     },
     "output_type": "display_data"
    }
   ],
   "source": [
    "fig=plt.figure()\n",
    "scheme = quadpy.line_segment.gauss_patterson(5)\n",
    "val = scheme.integrate(lambda x: numpy.exp(x), [0.0, 1.0])\n",
    "scheme.show()\n"
   ]
  },
  {
   "cell_type": "code",
   "execution_count": 8,
   "metadata": {},
   "outputs": [
    {
     "data": {
      "text/plain": [
       "1.5707963267948966"
      ]
     },
     "execution_count": 8,
     "metadata": {},
     "output_type": "execute_result"
    }
   ],
   "source": [
    "scheme = quadpy.e2r2.rabinowitz_richter_3()\n",
    "val = scheme.integrate(lambda x: x[0]**2)\n",
    "val"
   ]
  },
  {
   "cell_type": "code",
   "execution_count": 9,
   "metadata": {},
   "outputs": [
    {
     "data": {
      "text/plain": [
       "0.2003088022615092"
      ]
     },
     "execution_count": 9,
     "metadata": {},
     "output_type": "execute_result"
    }
   ],
   "source": [
    "dim = 4\n",
    "scheme = quadpy.ncube.stroud_cn_3_3(dim)\n",
    "scheme.integrate(\n",
    "    lambda x: numpy.exp(-(x[0]**2+x[1]**2+x[2]**2+x[3]**2)),\n",
    "    quadpy.ncube.ncube_points([0.0, 1.0], [0.1, 0.9], [-1.0, 1.0], [-1.0, -0.5])\n",
    "    )"
   ]
  },
  {
   "cell_type": "code",
   "execution_count": 10,
   "metadata": {},
   "outputs": [],
   "source": [
    "NFUNS=0\n",
    "def fun(x):\n",
    "    global NFUNS\n",
    "    y=numpy.exp(np.sin(x[0])*x[1]*x[2])\n",
    "    NFUNS+=1\n",
    "    return y"
   ]
  },
  {
   "cell_type": "code",
   "execution_count": 12,
   "metadata": {},
   "outputs": [
    {
     "data": {
      "text/plain": [
       "2.0305719732666216"
      ]
     },
     "execution_count": 12,
     "metadata": {},
     "output_type": "execute_result"
    }
   ],
   "source": [
    "dim = 3\n",
    "lim=1\n",
    "#scheme = quadpy.ncube.stroud_cn_3_3(dim)\n",
    "#scheme = quadpy.ncube.dobrodeev_1978(dim) #*\n",
    "#scheme = quadpy.ncube.hammer_stroud_2n(dim)\n",
    "scheme = quadpy.ncube.phillips(dim) #**\n",
    "#scheme = quadpy.ncube.stroud_cn_5_9(dim) #\n",
    "scheme.integrate(fun,quadpy.ncube.ncube_points([-lim, lim],[0.0, lim],[0.0, lim]))"
   ]
  },
  {
   "cell_type": "code",
   "execution_count": 13,
   "metadata": {},
   "outputs": [],
   "source": [
    "NFUNS=0\n",
    "def fun(x):\n",
    "    global NFUNS\n",
    "    NFUNS+=1\n",
    "    print(\"Call\")\n",
    "    return x[0]**2*np.sin(x[1])*np.tan(x[2]**3)"
   ]
  },
  {
   "cell_type": "code",
   "execution_count": 14,
   "metadata": {},
   "outputs": [
    {
     "name": "stdout",
     "output_type": "stream",
     "text": [
      "Call\n"
     ]
    },
    {
     "data": {
      "text/plain": [
       "-0.7232941981410311"
      ]
     },
     "execution_count": 14,
     "metadata": {},
     "output_type": "execute_result"
    }
   ],
   "source": [
    "dim = 3\n",
    "scheme = quadpy.ncube.stroud_cn_3_3(dim)\n",
    "#scheme = quadpy.ncube.dobrodeev_1978(dim) #*\n",
    "#scheme = quadpy.ncube.hammer_stroud_2n(dim)\n",
    "#scheme = quadpy.ncube.phillips(dim) #**\n",
    "#scheme = quadpy.ncube.stroud_cn_5_9(dim) #\n",
    "scheme.integrate(fun,quadpy.ncube.ncube_points([0.0, 1.0],[0.0,np.pi/2],[0.0,2*np.pi]))"
   ]
  },
  {
   "cell_type": "code",
   "execution_count": null,
   "metadata": {},
   "outputs": [],
   "source": []
  }
 ],
 "metadata": {
  "kernelspec": {
   "display_name": "Python 3",
   "language": "python",
   "name": "python3"
  },
  "language_info": {
   "codemirror_mode": {
    "name": "ipython",
    "version": 3
   },
   "file_extension": ".py",
   "mimetype": "text/x-python",
   "name": "python",
   "nbconvert_exporter": "python",
   "pygments_lexer": "ipython3",
   "version": "3.6.8"
  }
 },
 "nbformat": 4,
 "nbformat_minor": 2
}
