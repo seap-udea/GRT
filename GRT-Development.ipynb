{
 "cells": [
  {
   "cell_type": "markdown",
   "metadata": {},
   "source": [
    "# GRT Development\n",
    "\n",
    "This notebook develops some of the key ideas and tools of the new version of GRT"
   ]
  },
  {
   "cell_type": "code",
   "execution_count": 74,
   "metadata": {},
   "outputs": [],
   "source": [
    "import spiceypy as spy\n",
    "from matplotlib import pyplot as plt\n",
    "import pandas as pd\n",
    "from time import time,strftime\n",
    "import numpy as np\n",
    "%matplotlib nbagg\n",
    "TIME=time()\n",
    "\n",
    "import tarfile\n",
    "\n",
    "BDIR=f\"./\"\n",
    "DATADIR=f\"{BDIR}/data/\"\n",
    "KERDIR=f\"{BDIR}/util/kernels/\"\n",
    "FIGDIR=f\"{BDIR}/papers/paper1/figures/\""
   ]
  },
  {
   "cell_type": "code",
   "execution_count": 2,
   "metadata": {},
   "outputs": [],
   "source": [
    "%matplotlib nbagg"
   ]
  },
  {
   "cell_type": "markdown",
   "metadata": {},
   "source": [
    "## Classes and Routines"
   ]
  },
  {
   "cell_type": "markdown",
   "metadata": {},
   "source": [
    "### Routines"
   ]
  },
  {
   "cell_type": "code",
   "execution_count": 3,
   "metadata": {},
   "outputs": [],
   "source": [
    "def elTime(verbose=True):\n",
    "    global TIME\n",
    "    t=time()\n",
    "    dt=t-TIME\n",
    "    if verbose:print(\"%.3f s, %.3f min, %g h\"%(dt,dt/60.0,dt/3600.0))\n",
    "    TIME=t\n",
    "\n",
    "def str2t(date):\n",
    "    et=spy.str2et(date)\n",
    "    dt=spy.deltet(et,\"ET\")\n",
    "    t=et-dt\n",
    "    return t\n",
    "spy.str2t=str2t\n",
    "\n",
    "class Observer(object):\n",
    "    \"\"\"\n",
    "    lon: longitude, float, radians\n",
    "    lat: laritude, float, radians\n",
    "    alt: float, km\n",
    "    et: TDB in seconds\n",
    "    \"\"\"\n",
    "    _RE=6378.1366 #km, Earth's equatorial radius\n",
    "    _RP=6356.7519 #km, Earth's polar radius\n",
    "    _FE=0.0033528131084554717 #Elipticity\n",
    "\n",
    "    def __init__(self,lon,lat,alt):\n",
    "        self.lon=lon\n",
    "        self.lat=lat\n",
    "        self.alt=alt\n",
    "        self._positionBody=spy.georec(lon,lat,alt,self._RE,self._FE) \n",
    "        self._rho=((self._positionBody[:2]**2).sum())**0.5 #Distance to Earth's axis\n",
    "\n",
    "        #Minus sign is because local reference frame is: x=North, y=West, z=Up\n",
    "        #ERROR: This is probably a mistake\n",
    "        self._velocityLocal=np.array([0,-2*np.pi*self._rho/DAY,0]) \n",
    "        self._calcMatrices()\n",
    "        self._velocityBody=spy.mxv(self._loc2bod,self._velocityLocal)\n",
    "    \n",
    "    def _calcMatrices(self):\n",
    "        uz=spy.surfnm(self._RE,self._RE,self._RP,self._positionBody)\n",
    "        uy=spy.ucrss(np.array([0,0,1]),uz)\n",
    "        ux=spy.ucrss(uz,uy)\n",
    "        self._loc2bod=np.array(np.vstack((ux,uy,uz)).transpose().tolist())\n",
    "        self._bod2loc=np.linalg.inv(self._loc2bod)\n",
    "        self._bod2ecl=None\n",
    "        self._ecl2bod=None\n",
    "        \n",
    "    def updateOrientationPosition(self,et):\n",
    "        self._et=et\n",
    "        self._bod2ecl=spy.pxform(\"ITRF93\",\"ECLIPJ2000\",et)\n",
    "        self._ecl2bod=np.linalg.inv(self._bod2ecl)\n",
    "        self._stateEarth=spy.spkezr(\"EARTH\",et,\"ECLIPJ2000\",\"NONE\",\"SSB\")[0]\n",
    "        self._positionEcl=spy.mxv(self._bod2ecl,self._positionBody)\n",
    "        self._positionEcl=self._positionEcl+self._stateEarth[:3]\n",
    "        \n",
    "    def _checkOrientation(self):\n",
    "        if self._ecl2bod is None:\n",
    "            raise AssertionError(\"You must update orientation, eg. observer.updateOrientation(et)\")\n",
    "        \n",
    "    def ecl2loc(self,eclon,eclat):\n",
    "        \"\"\"\n",
    "        Parameters:\n",
    "            eclon: Ecliptic longitude, float, radians\n",
    "            eclat: Ecliptic latitude, float, radians\n",
    "        Return:\n",
    "            A: Azimuth (0,2 pi), float, radians\n",
    "            h: Elevation (-pi,pi), float, radians\n",
    "        \"\"\"\n",
    "        self._checkOrientation()\n",
    "        ecx,ecy,ecz=spy.latrec(1,eclon,eclat)\n",
    "        x,y,z=spy.mxv(self._bod2loc,spy.mxv(self._ecl2bod,[ecx,ecy,ecz]))\n",
    "        r,A,h=spy.reclat([x,y,z])\n",
    "        A=2*np.pi+A if A<0 else A\n",
    "        return A,h\n",
    "\n",
    "    def loc2ecl(self,A,h):\n",
    "        \"\"\"\n",
    "        Parameters:\n",
    "            A: Azimuth (0,2 pi), float, radians\n",
    "            h: Elevation (-pi,pi), float, radians\n",
    "        Return:\n",
    "            eclon: Ecliptic longitude (0,2pi), float, radians\n",
    "            eclat: Ecliptic latitude (-pi,pi), float, radians\n",
    "        \"\"\"\n",
    "        self._checkOrientation()\n",
    "        x,y,z=spy.latrec(1,A,h)\n",
    "        ecx,ecy,ecz=spy.mxv(self._bod2ecl,spy.mxv(self._loc2bod,[x,y,z]))\n",
    "        r,eclon,eclat=spy.reclat([ecx,ecy,ecz])\n",
    "        eclon=2*np.pi+eclon if eclon<0 else eclon\n",
    "        return eclon,eclat\n",
    "\n",
    "    def vBod2vloc(self,vBod):\n",
    "        \"\"\"\n",
    "        Parameters:\n",
    "            vBod: Velocity in the body-fixed system, np.array, km/s\n",
    "        Return:\n",
    "            A: Azimuth (0,2 pi), float, radians\n",
    "            h: Elevation (-pi,pi), float, radians\n",
    "            vloc: Impact speed in the local reference frame, (-infty,infty), float, km/s\n",
    "        \"\"\"\n",
    "        vLoc=spy.mxv(self._bod2loc,vBod)\n",
    "        vloc,A,h=spy.reclat(vLoc)\n",
    "        A=2*np.pi+A if A<0 else A\n",
    "        return A,h,vloc\n",
    "    \n",
    "    def vloc2vBod(self,A,h,vloc):\n",
    "        \"\"\"\n",
    "        Answer the question: what is the velocity (in the rotating geocentric reference frame) \n",
    "        of a particle GOING to A,h at a speed vloc. \n",
    "        \n",
    "        It is VERY important to take into account that if a particle is COMING from A,h, you \n",
    "        need to specify its velocity as (A,h,-vloc).\n",
    "\n",
    "        Parameters:\n",
    "            A: Azimuth (0,2 pi), float, radians\n",
    "            h: Elevation (-pi,pi), float, radians\n",
    "            vloc: Impact speed in the local reference frame, (-infty,infty), float, km/s\n",
    "        Return:\n",
    "            vBod: Velocity in the body-fixed system, np.array, km/s\n",
    "        \"\"\"\n",
    "        self._checkOrientation()\n",
    "        vLoc=spy.latrec(vloc,A,h)\n",
    "        vBod=spy.mxv(self._loc2bod,vLoc)\n",
    "        return vBod\n",
    "    \n",
    "    def vloc2vRot(self,A,h,vloc):\n",
    "        \"\"\"\n",
    "        Answer the question: what is the velocity (in the non-rotating geocentric reference frame) \n",
    "        of a particle GOING from A,h at a speed vloc\n",
    "\n",
    "        It is VERY important to take into account that if a particle is COMING from A,h, you \n",
    "        need to specify its velocity as (A,h,-vloc).\n",
    "\n",
    "        Parameters:\n",
    "            A: Azimuth (0,2 pi), float, radians\n",
    "            h: Elevation (-pi,pi), float, radians\n",
    "            vloc: Impact speed in the local reference frame, (-infty,infty), float, km/s\n",
    "        Return:\n",
    "            vRot: Velocity in the inertial system, body axes, np.array, km/s\n",
    "        \"\"\"\n",
    "        self._checkOrientation()\n",
    "        vLoc=spy.latrec(vloc,A,h)+self._velocityLocal\n",
    "        vRot=spy.mxv(self._loc2bod,vLoc)\n",
    "        return vRot\n",
    "        \n",
    "    def vloc2vEcl(self,A,h,vloc):\n",
    "        \"\"\"\n",
    "        Answer the question: what is the velocity (in the heliocentric reference frame) \n",
    "        of a particle GOING from A,h to a speed vloc\n",
    "\n",
    "        It is VERY importante to take into account that if a particle is COMING from A,h, you \n",
    "        need to specify its velocity as (A,h,-vloc) or (360-A,h,vloc).\n",
    "\n",
    "        Parameters:\n",
    "            A: Azimuth (0,2 pi), float, radians\n",
    "            h: Elevation (-pi,pi), float, radians\n",
    "            vloc: Impact speed in the local reference frame, (-infty,infty), float, km/s\n",
    "        Return:\n",
    "            vEcl: Velocity in the inertial ecliptic system, np.array, km/s\n",
    "        \"\"\"\n",
    "        vRot=self.vloc2vRot(A,h,vloc)\n",
    "        vEcl=spy.mxv(self._bod2ecl,vRot)+self._stateEarth[3:]\n",
    "        return vEcl\n",
    "\n",
    "    def helioState(self,A,h,vloc):\n",
    "        \"\"\"\n",
    "        Answer the question: what is the heliocentric state of a particle COMING from A,h to a speed vloc\n",
    "\n",
    "        Parameters:\n",
    "            A: Azimuth (0,2 pi), float, radians\n",
    "            h: Elevation (-pi,pi), float, radians\n",
    "            vloc: Impact speed in the local reference frame, (-infty,infty), float, km/s\n",
    "        Return:\n",
    "            geostate: State vector with respect to sun, np.array (6), (km,km,km,km/s,km/s,km/s)\n",
    "        \"\"\"\n",
    "        vEcl=self.vloc2vEcl(A,h,vloc)\n",
    "        state=np.concatenate((self._positionEcl,vEcl))\n",
    "        return state\n",
    "\n",
    "    def geoState(self,A,h,vloc):\n",
    "        \"\"\"\n",
    "        Answer the question: what is the heliocentric state of a particle COMING from A,h to a speed vloc\n",
    "\n",
    "        Parameters:\n",
    "            A: Azimuth (0,2 pi), float, radians\n",
    "            h: Elevation (-pi,pi), float, radians\n",
    "            vloc: Impact speed in the local reference frame, (-infty,infty), float, km/s\n",
    "        Return:\n",
    "            geostate: State vector with respect to geocenter, np.array (6), (km,km,km,km/s,km/s,km/s)\n",
    "        \"\"\"\n",
    "        return self.helioState(A,h,vloc)-self._stateEarth\n",
    "\n",
    "    \n",
    "    def vecl2vEcl(self,eclon,eclat,vloc):\n",
    "        \"\"\"\n",
    "        Parameters:\n",
    "            eclon: Ecliptic longitude (0,2 pi), float, radians\n",
    "            eclat: Ecliptic latitude (-pi,pi), float, radians\n",
    "            vloc: Impact speed in the local reference frame, (0,infty), float, km/s\n",
    "        Return:\n",
    "            vEcl: Velocity in the ecliptic system, np.array, km/s\n",
    "        \"\"\"\n",
    "        self._checkOrientation()\n",
    "        A,h=self.ecl2loc(eclon,eclat)\n",
    "        vEcl=self.vloc2vEcl(vloc,A,h)\n",
    "        return vEcl\n",
    "     \n",
    "class Angle(object):\n",
    "    \"\"\"\n",
    "    Routines related to angles\n",
    "    \"\"\"\n",
    "    def dms(value):\n",
    "        \"\"\"\n",
    "        Parameters:\n",
    "            dec: Angle in decimal, float, degree\n",
    "        Return:\n",
    "            dms: Angle in dms, tuple/list/array(4), (sign,deg,min,sec)\n",
    "        \"\"\"\n",
    "        sgn=np.sign(value)\n",
    "        val=np.abs(value)\n",
    "        deg=np.floor(val)\n",
    "        rem=(val-deg)*60\n",
    "        min=np.floor(rem)\n",
    "        sec=(rem-min)*60\n",
    "        return (sgn,deg,min,sec)\n",
    "    def dec(dms):\n",
    "        \"\"\"\n",
    "        Parameters:\n",
    "            dms: Angle in dms, tuple/list/array(4), (sign,deg,min,sec)\n",
    "        Return:\n",
    "            dec: Angle in decimal, float, degree\n",
    "        \"\"\"\n",
    "        return dms[0]*(dms[1]+dms[2]/60.0+dms[3]/3600.0)\n",
    "    \n",
    "\n",
    "    \n",
    "def zappalaDistance(E1,E2):\n",
    "    \"\"\"                                                                                                                                                                              \n",
    "    Zappala (1990), Nervorny & Vokrouhlicky (2006)                                                                                                                                   \n",
    "    am=(a+at)/2                                                                                                                                                                      \n",
    "    d2c=1/np.sqrt(am)*(ka*((at-a)/am)**2+ke*(et-e)**2+ki*(sinit-np.sin(i*DEG))**2+kO*(Omega-Ot)**2+kw*(omega-ot)**2)\n",
    "    Parameters:\n",
    "        E1: Elements 1, np.array(5), [q(UL),e,i(rad),W(rad),w(rad)]\n",
    "        E2: Elements 1, np.array(5), [q(UL),e,i(rad),W(rad),w(rad)]\n",
    "    Return:\n",
    "        DZ: Zappala distance (when [q]=AU, DZ<0.1 is a good match), float\n",
    "    \"\"\"\n",
    "    #Coefficients\n",
    "    ka=5./4\n",
    "    ke=ki=2\n",
    "    kw=kW=1e-4\n",
    "    #Elements\n",
    "    q1,e1,i1,W1,w1=E1[:5]\n",
    "    q2,e2,i2,W2,w2=E2[:5]\n",
    "    #Derived elements\n",
    "    sini1=np.sin(i1)\n",
    "    sini2=np.sin(i2)\n",
    "    a1=np.abs(q1/(1-e1))\n",
    "    a2=np.abs(q2/(1-e2))\n",
    "    am=(a1+a2)/2\n",
    "    anm=1/np.sqrt(np.abs(am))\n",
    "    varpi1=W1+w1\n",
    "    varpi2=W2+w2\n",
    "    \"\"\"\n",
    "    print(\"Reference:\",E1[:5])\n",
    "    print(\"Comparison:\",E2[:5])\n",
    "    print(f\"Derived reference: a={a1:g},sini={sini1:g},varpi={varpi1:g}\")\n",
    "    print(f\"Derived comparison: a={a2:g},sini={sini2:g},varpi={varpi2:g}\")\n",
    "    print(f\"Average: am={am:g},1/sqrt(am)={anm:g}\")\n",
    "    #\"\"\"\n",
    "    #Zappala metric (Zuluaga & Sucerquia, 2018)\n",
    "    DZ=anm*(ka*(a1-am)**2/am**2+ke*(e1-e2)**2+ki*(sini1-sini2)**2+kW*(W1-W2)**2+kw*(varpi1-varpi2)**2)**0.5\n",
    "\n",
    "    return DZ\n",
    "\n",
    "from copy import deepcopy\n",
    "GLOBAL_OBS=None\n",
    "def rayOscelt(lon,lat,alt,A,h,vimp,et):\n",
    "    \"\"\"\n",
    "    Compute the orbital elements of a particle impacting on lon, lat, alt at time et\n",
    "    going towards A, h at speed vimp.\n",
    "    \n",
    "    Parameters:\n",
    "        lon: Longitude, float, degrees\n",
    "        lat: Latitude, float, degrees\n",
    "        alt: Altitude, float, km\n",
    "        A: Azimuth, float, degrees\n",
    "        h: Elevation, float, degrees\n",
    "        vimp: Impact speed, float (negative), km/s\n",
    "    \"\"\"\n",
    "    #Prepare observer structure\n",
    "    global GLOBAL_OBS\n",
    "    if (GLOBAL_OBS is None) or \\\n",
    "            np.isclose([lon,lat,alt],[GLOBAL_OBS.lon*RAD,GLOBAL_OBS.lat*RAD,GLOBAL_OBS.alt],rtol=1e-5).sum()<3:\n",
    "        #print(\"New observer\")\n",
    "        obs=Observer(lon*DEG,lat*DEG,alt)\n",
    "        obs._RP=obs._RE;obs._calcMatrices() #Correction for error in GravRay\n",
    "        obs.updateOrientationPosition(et)\n",
    "        GLOBAL_OBS=deepcopy(obs)\n",
    "    else:\n",
    "        #print(\"Old observer\")\n",
    "        obs=GLOBAL_OBS\n",
    "        if np.isclose(et,GLOBAL_OBS._et,rtol=1e-10)==False:\n",
    "            #print(\"New time\")\n",
    "            obs.updateOrientationPosition(et)\n",
    "            \n",
    "    #Simple estimation\n",
    "    heliostate=obs.helioState(A*DEG,h*DEG,vimp)\n",
    "    E_sim=spy.oscelt(heliostate,et,MUSUN)\n",
    "    #Geocentric conic:\n",
    "    geostate=obs.geoState(A*DEG,h*DEG,vimp)\n",
    "    rt=spy.vnorm(geostate[:3])\n",
    "    q,e,i,Omega,omega,Mo,eto,mu=spy.oscelt(geostate,et,MUEARTH)\n",
    "    a=q/(1-e)\n",
    "    n=np.sqrt(MUEARTH/np.abs(a)**3)\n",
    "    etp=eto-Mo/n\n",
    "    #SoI:\n",
    "    r=1e6\n",
    "    fd=np.arccos((q*(1+e)/r-1)/e)\n",
    "    #See: https://space.stackexchange.com/questions/27602/what-is-hyperbolic-eccentric-anomaly-f\n",
    "    Hd=2*np.arctanh(np.sqrt((e-1)/(e+1))*np.tan(fd/2))\n",
    "    Md=e*np.sinh(Hd)-Hd\n",
    "    deltat=Md/n\n",
    "    #Heliocentric conic:\n",
    "    earthpos=spy.spkezr(\"EARTH\",etp-deltat,\"ECLIPJ2000\",\"NONE\",\"SSB\")[0]\n",
    "    geostatet=spy.conics([q,e,i,Omega,omega,Mo,eto,MUEARTH],etp-deltat)\n",
    "    soipos=geostatet+earthpos\n",
    "    E_pcon=spy.oscelt(soipos,etp+deltat,MUSUN)\n",
    "    return E_sim,E_pcon "
   ]
  },
  {
   "cell_type": "markdown",
   "metadata": {},
   "source": [
    "## Constants"
   ]
  },
  {
   "cell_type": "code",
   "execution_count": 6,
   "metadata": {},
   "outputs": [],
   "source": [
    "#Numerical\n",
    "DEG=np.pi/180\n",
    "RAD=1/DEG\n",
    "\n",
    "#Phsyical\n",
    "ELEV=80.0 #km, Reference elevation\n",
    "AU=1.4959787070000000e8 #km, value assumed in DE430\n",
    "\n",
    "#Source: DE421\n",
    "#https://naif.jpl.nasa.gov/pub/naif/generic_kernels/spk/planets/a_old_versions/de421_announcement.pdf\n",
    "MUSUN=132712440040.944000 #km^3/s^2\n",
    "MUEARTH=398600.436233 #km^3/s^2\n",
    "MUMOON=4902.800076 #km^3/s^2\n",
    "MUEARTHMOON=403503.236310 #km^3/s^2\n",
    "\n",
    "#Time constants\n",
    "DAY=86400\n",
    "YEAR=365.24*DAY\n",
    "\n",
    "#Kernels\n",
    "kernels=[\n",
    "    #Time\n",
    "    \"naif0012.tls\",\n",
    "    #Object properties\n",
    "    \"pck00010.tpc\",\n",
    "    #Planetary positions\n",
    "    #\"de421.bsp\",\n",
    "    \"de430.bsp\",\n",
    "    #Earth reference system\n",
    "    #\"earth_720101_070426.bpc\",\"earth_070425_370426_predict.bpc\",\"earth_latest_high_prec_20190910.bpc\"\n",
    "    \"earth_latest_high_prec_20161205.bpc\"\n",
    "    ]\n",
    "for kernel in kernels:spy.furnsh(f\"{KERDIR}/{kernel}\")"
   ]
  },
  {
   "cell_type": "markdown",
   "metadata": {},
   "source": [
    "### Chelyabinsk"
   ]
  },
  {
   "cell_type": "code",
   "execution_count": 7,
   "metadata": {},
   "outputs": [
    {
     "name": "stdout",
     "output_type": "stream",
     "text": [
      "414170434.0\n",
      "0.7784401174063338 0.6627485942828372 5.072134791174499 326.57268408157256 118.00326540853665\n"
     ]
    }
   ],
   "source": [
    "et=spy.str2t(\"02/15/2013 03:20:34 UTC\")\n",
    "print(et)\n",
    "Esim,Epcon=rayOscelt(63.5,54.4,80.0,96.0,17.0,-19.0,et)\n",
    "Epcon[0]/=AU;Epcon[2:5]*=RAD\n",
    "q,e,i,W,w=Epcon[:5]\n",
    "print(q,e,i,W,w)"
   ]
  },
  {
   "cell_type": "markdown",
   "metadata": {},
   "source": [
    "## Data Reading"
   ]
  },
  {
   "cell_type": "code",
   "execution_count": 5,
   "metadata": {},
   "outputs": [
    {
     "data": {
      "text/html": [
       "<div>\n",
       "<style scoped>\n",
       "    .dataframe tbody tr th:only-of-type {\n",
       "        vertical-align: middle;\n",
       "    }\n",
       "\n",
       "    .dataframe tbody tr th {\n",
       "        vertical-align: top;\n",
       "    }\n",
       "\n",
       "    .dataframe thead th {\n",
       "        text-align: right;\n",
       "    }\n",
       "</style>\n",
       "<table border=\"1\" class=\"dataframe\">\n",
       "  <thead>\n",
       "    <tr style=\"text-align: right;\">\n",
       "      <th></th>\n",
       "      <th>N</th>\n",
       "      <th>ET</th>\n",
       "      <th>lat</th>\n",
       "      <th>lon</th>\n",
       "      <th>h</th>\n",
       "      <th>Az</th>\n",
       "      <th>vimp</th>\n",
       "      <th>xobs</th>\n",
       "      <th>yobs</th>\n",
       "      <th>zobs</th>\n",
       "      <th>vxobs</th>\n",
       "      <th>vyobs</th>\n",
       "      <th>vzobs</th>\n",
       "      <th>q</th>\n",
       "      <th>e</th>\n",
       "      <th>i</th>\n",
       "      <th>Omega</th>\n",
       "      <th>omega</th>\n",
       "      <th>M</th>\n",
       "      <th>qapex</th>\n",
       "    </tr>\n",
       "  </thead>\n",
       "  <tbody>\n",
       "    <tr>\n",
       "      <th>count</th>\n",
       "      <td>5974.000000</td>\n",
       "      <td>5974.0</td>\n",
       "      <td>5974.000000</td>\n",
       "      <td>5974.000000</td>\n",
       "      <td>5974.000000</td>\n",
       "      <td>5974.000000</td>\n",
       "      <td>5974.000000</td>\n",
       "      <td>5.974000e+03</td>\n",
       "      <td>5.974000e+03</td>\n",
       "      <td>5974.000000</td>\n",
       "      <td>5974.000000</td>\n",
       "      <td>5974.000000</td>\n",
       "      <td>5974.000000</td>\n",
       "      <td>5974.000000</td>\n",
       "      <td>5974.000000</td>\n",
       "      <td>5974.000000</td>\n",
       "      <td>5974.000000</td>\n",
       "      <td>5974.000000</td>\n",
       "      <td>5974.000000</td>\n",
       "      <td>5974.000000</td>\n",
       "    </tr>\n",
       "    <tr>\n",
       "      <th>mean</th>\n",
       "      <td>119.981085</td>\n",
       "      <td>4320000.0</td>\n",
       "      <td>-6.889885</td>\n",
       "      <td>10.433316</td>\n",
       "      <td>27.753223</td>\n",
       "      <td>140.701547</td>\n",
       "      <td>19.749785</td>\n",
       "      <td>-1.305854e+08</td>\n",
       "      <td>7.087333e+07</td>\n",
       "      <td>29237.551994</td>\n",
       "      <td>-15.100936</td>\n",
       "      <td>-26.386871</td>\n",
       "      <td>-0.013976</td>\n",
       "      <td>0.730253</td>\n",
       "      <td>0.678064</td>\n",
       "      <td>16.258746</td>\n",
       "      <td>244.268289</td>\n",
       "      <td>181.305184</td>\n",
       "      <td>106.988654</td>\n",
       "      <td>91.079647</td>\n",
       "    </tr>\n",
       "    <tr>\n",
       "      <th>std</th>\n",
       "      <td>68.988857</td>\n",
       "      <td>0.0</td>\n",
       "      <td>37.183886</td>\n",
       "      <td>104.274433</td>\n",
       "      <td>18.095077</td>\n",
       "      <td>103.532831</td>\n",
       "      <td>7.127716</td>\n",
       "      <td>3.727003e+03</td>\n",
       "      <td>3.874595e+03</td>\n",
       "      <td>3499.729155</td>\n",
       "      <td>11.967398</td>\n",
       "      <td>11.976818</td>\n",
       "      <td>12.520490</td>\n",
       "      <td>0.266964</td>\n",
       "      <td>0.594659</td>\n",
       "      <td>15.424432</td>\n",
       "      <td>90.495582</td>\n",
       "      <td>107.044110</td>\n",
       "      <td>308.615991</td>\n",
       "      <td>38.688669</td>\n",
       "    </tr>\n",
       "    <tr>\n",
       "      <th>min</th>\n",
       "      <td>1.000000</td>\n",
       "      <td>4320000.0</td>\n",
       "      <td>-79.912800</td>\n",
       "      <td>-170.750000</td>\n",
       "      <td>6.603600</td>\n",
       "      <td>1.650200</td>\n",
       "      <td>12.207000</td>\n",
       "      <td>-1.305917e+08</td>\n",
       "      <td>7.086738e+07</td>\n",
       "      <td>23630.154203</td>\n",
       "      <td>-57.597944</td>\n",
       "      <td>-69.054618</td>\n",
       "      <td>-43.036799</td>\n",
       "      <td>0.004617</td>\n",
       "      <td>0.008124</td>\n",
       "      <td>0.007101</td>\n",
       "      <td>9.861022</td>\n",
       "      <td>0.032613</td>\n",
       "      <td>-2660.811059</td>\n",
       "      <td>1.216421</td>\n",
       "    </tr>\n",
       "    <tr>\n",
       "      <th>25%</th>\n",
       "      <td>60.000000</td>\n",
       "      <td>4320000.0</td>\n",
       "      <td>-35.081700</td>\n",
       "      <td>-65.969200</td>\n",
       "      <td>12.313000</td>\n",
       "      <td>45.644000</td>\n",
       "      <td>15.054000</td>\n",
       "      <td>-1.305877e+08</td>\n",
       "      <td>7.086986e+07</td>\n",
       "      <td>26579.098588</td>\n",
       "      <td>-23.787571</td>\n",
       "      <td>-35.124090</td>\n",
       "      <td>-9.472926</td>\n",
       "      <td>0.538887</td>\n",
       "      <td>0.325325</td>\n",
       "      <td>6.195231</td>\n",
       "      <td>151.275722</td>\n",
       "      <td>101.232632</td>\n",
       "      <td>54.195378</td>\n",
       "      <td>61.317929</td>\n",
       "    </tr>\n",
       "    <tr>\n",
       "      <th>50%</th>\n",
       "      <td>120.000000</td>\n",
       "      <td>4320000.0</td>\n",
       "      <td>-7.025380</td>\n",
       "      <td>22.296400</td>\n",
       "      <td>20.200000</td>\n",
       "      <td>126.730000</td>\n",
       "      <td>18.084000</td>\n",
       "      <td>-1.305861e+08</td>\n",
       "      <td>7.087380e+07</td>\n",
       "      <td>28992.350411</td>\n",
       "      <td>-15.019644</td>\n",
       "      <td>-26.622098</td>\n",
       "      <td>0.131079</td>\n",
       "      <td>0.834616</td>\n",
       "      <td>0.519911</td>\n",
       "      <td>12.468160</td>\n",
       "      <td>330.680227</td>\n",
       "      <td>179.568742</td>\n",
       "      <td>162.136520</td>\n",
       "      <td>91.450623</td>\n",
       "    </tr>\n",
       "    <tr>\n",
       "      <th>75%</th>\n",
       "      <td>180.000000</td>\n",
       "      <td>4320000.0</td>\n",
       "      <td>14.262600</td>\n",
       "      <td>89.986500</td>\n",
       "      <td>42.401000</td>\n",
       "      <td>239.630000</td>\n",
       "      <td>22.955000</td>\n",
       "      <td>-1.305823e+08</td>\n",
       "      <td>7.087632e+07</td>\n",
       "      <td>32027.254251</td>\n",
       "      <td>-6.259532</td>\n",
       "      <td>-17.644177</td>\n",
       "      <td>9.414311</td>\n",
       "      <td>0.963237</td>\n",
       "      <td>0.803654</td>\n",
       "      <td>21.599853</td>\n",
       "      <td>331.327782</td>\n",
       "      <td>266.409039</td>\n",
       "      <td>268.962938</td>\n",
       "      <td>118.503866</td>\n",
       "    </tr>\n",
       "    <tr>\n",
       "      <th>max</th>\n",
       "      <td>240.000000</td>\n",
       "      <td>4320000.0</td>\n",
       "      <td>70.195900</td>\n",
       "      <td>175.522000</td>\n",
       "      <td>62.009000</td>\n",
       "      <td>340.080000</td>\n",
       "      <td>43.039000</td>\n",
       "      <td>-1.305793e+08</td>\n",
       "      <td>7.087982e+07</td>\n",
       "      <td>35687.726464</td>\n",
       "      <td>28.618088</td>\n",
       "      <td>16.615438</td>\n",
       "      <td>43.101787</td>\n",
       "      <td>1.006849</td>\n",
       "      <td>4.738611</td>\n",
       "      <td>175.063778</td>\n",
       "      <td>358.669588</td>\n",
       "      <td>359.987995</td>\n",
       "      <td>359.992376</td>\n",
       "      <td>178.260480</td>\n",
       "    </tr>\n",
       "  </tbody>\n",
       "</table>\n",
       "</div>"
      ],
      "text/plain": [
       "                 N         ET          lat          lon            h  \\\n",
       "count  5974.000000     5974.0  5974.000000  5974.000000  5974.000000   \n",
       "mean    119.981085  4320000.0    -6.889885    10.433316    27.753223   \n",
       "std      68.988857        0.0    37.183886   104.274433    18.095077   \n",
       "min       1.000000  4320000.0   -79.912800  -170.750000     6.603600   \n",
       "25%      60.000000  4320000.0   -35.081700   -65.969200    12.313000   \n",
       "50%     120.000000  4320000.0    -7.025380    22.296400    20.200000   \n",
       "75%     180.000000  4320000.0    14.262600    89.986500    42.401000   \n",
       "max     240.000000  4320000.0    70.195900   175.522000    62.009000   \n",
       "\n",
       "                Az         vimp          xobs          yobs          zobs  \\\n",
       "count  5974.000000  5974.000000  5.974000e+03  5.974000e+03   5974.000000   \n",
       "mean    140.701547    19.749785 -1.305854e+08  7.087333e+07  29237.551994   \n",
       "std     103.532831     7.127716  3.727003e+03  3.874595e+03   3499.729155   \n",
       "min       1.650200    12.207000 -1.305917e+08  7.086738e+07  23630.154203   \n",
       "25%      45.644000    15.054000 -1.305877e+08  7.086986e+07  26579.098588   \n",
       "50%     126.730000    18.084000 -1.305861e+08  7.087380e+07  28992.350411   \n",
       "75%     239.630000    22.955000 -1.305823e+08  7.087632e+07  32027.254251   \n",
       "max     340.080000    43.039000 -1.305793e+08  7.087982e+07  35687.726464   \n",
       "\n",
       "             vxobs        vyobs        vzobs            q            e  \\\n",
       "count  5974.000000  5974.000000  5974.000000  5974.000000  5974.000000   \n",
       "mean    -15.100936   -26.386871    -0.013976     0.730253     0.678064   \n",
       "std      11.967398    11.976818    12.520490     0.266964     0.594659   \n",
       "min     -57.597944   -69.054618   -43.036799     0.004617     0.008124   \n",
       "25%     -23.787571   -35.124090    -9.472926     0.538887     0.325325   \n",
       "50%     -15.019644   -26.622098     0.131079     0.834616     0.519911   \n",
       "75%      -6.259532   -17.644177     9.414311     0.963237     0.803654   \n",
       "max      28.618088    16.615438    43.101787     1.006849     4.738611   \n",
       "\n",
       "                 i        Omega        omega            M        qapex  \n",
       "count  5974.000000  5974.000000  5974.000000  5974.000000  5974.000000  \n",
       "mean     16.258746   244.268289   181.305184   106.988654    91.079647  \n",
       "std      15.424432    90.495582   107.044110   308.615991    38.688669  \n",
       "min       0.007101     9.861022     0.032613 -2660.811059     1.216421  \n",
       "25%       6.195231   151.275722   101.232632    54.195378    61.317929  \n",
       "50%      12.468160   330.680227   179.568742   162.136520    91.450623  \n",
       "75%      21.599853   331.327782   266.409039   268.962938   118.503866  \n",
       "max     175.063778   358.669588   359.987995   359.992376   178.260480  "
      ]
     },
     "execution_count": 5,
     "metadata": {},
     "output_type": "execute_result"
    }
   ],
   "source": [
    "tar=tarfile.open(f\"{BDIR}/../grt-YearTest.tgz\", \"r:*\")\n",
    "fname=tar.getnames()[50]\n",
    "data=np.loadtxt(tar.extractfile(fname))\n",
    "columns=[\"N\",\"ET\",\"lat\",\"lon\",\"h\",\"Az\",\"vimp\",\"xobs\",\"yobs\",\"zobs\",\"vxobs\",\"vyobs\",\"vzobs\",\"q\",\"e\",\"i\",\"Omega\",\"omega\",\"M\",\"qapex\"]\n",
    "data=pd.DataFrame(data,columns=columns)\n",
    "data.describe()"
   ]
  },
  {
   "cell_type": "markdown",
   "metadata": {},
   "source": [
    "## Asymptotic orbit determination"
   ]
  },
  {
   "cell_type": "markdown",
   "metadata": {},
   "source": [
    "## Numerical determination\n",
    "\n",
    "In this section we read the information about the results of determining the asymptotic orbit using the numerical integration procedure in the original GRT."
   ]
  },
  {
   "cell_type": "markdown",
   "metadata": {},
   "source": [
    "## Simple determination\n",
    "\n",
    "Here we will attempt to determine the orbital elements starting only on the location of the "
   ]
  },
  {
   "cell_type": "code",
   "execution_count": 449,
   "metadata": {
    "scrolled": true
   },
   "outputs": [
    {
     "data": {
      "text/plain": [
       "(-16.4228, -29.9483, 1.6502, 56.981, 12.207, 4320000.0, '2000 FEB 20 11:58:56')"
      ]
     },
     "execution_count": 449,
     "metadata": {},
     "output_type": "execute_result"
    }
   ],
   "source": [
    "iev=100\n",
    "event=data.iloc[iev]\n",
    "obs=Observer(event[\"lon\"]*DEG,event[\"lat\"]*DEG,ELEV)\n",
    "obs._RP=obs._RE;obs._calcMatrices() #Correcçtion for error in GravRay\n",
    "obs.updateOrientationPosition(event[\"ET\"])\n",
    "event[\"lat\"],event[\"lon\"],event[\"Az\"],event[\"h\"],event[\"vimp\"],event[\"ET\"],spy.et2utc(event[\"ET\"],\"C\",0)"
   ]
  },
  {
   "cell_type": "code",
   "execution_count": 450,
   "metadata": {},
   "outputs": [
    {
     "data": {
      "text/plain": [
       "(array([-1.30582607e+08,  7.08678075e+07,  3.03545799e+04]),\n",
       " array([-21.15994001, -18.55652399,  -7.13746505]),\n",
       " array([-1.30582607e+08,  7.08678075e+07,  3.03545799e+04]),\n",
       " array([-21.15990113, -18.55669163,  -7.13767917]))"
      ]
     },
     "execution_count": 450,
     "metadata": {},
     "output_type": "execute_result"
    }
   ],
   "source": [
    "#Comparison\n",
    "opt=(event[\"Az\"])*DEG,event[\"h\"]*DEG,-event[\"vimp\"]\n",
    "#opt=(360-event[\"Az\"])*DEG,-event[\"h\"]*DEG,event[\"vimp\"]\n",
    "obs._positionEcl,obs.vloc2vEcl(*opt),\\\n",
    "event[[\"xobs\",\"yobs\",\"zobs\"]].values,event[[\"vxobs\",\"vyobs\",\"vzobs\"]].values"
   ]
  },
  {
   "cell_type": "code",
   "execution_count": 451,
   "metadata": {},
   "outputs": [
    {
     "name": "stdout",
     "output_type": "stream",
     "text": [
      "q=0.8600572458010401 AU,e=0.1294093814540304,i=7.450907416751878,W=331.6998734666597,w=78.89875965056892\n",
      "M=72.28317106246105,a=0.9879008887523714 AU\n"
     ]
    }
   ],
   "source": [
    "#Numerically determined\n",
    "q,e,i,Omega,omega,M=event[[\"q\",\"e\",\"i\",\"Omega\",\"omega\",\"M\"]].values\n",
    "print(f\"q={q} AU,e={e},i={i},W={Omega},w={omega}\\nM={M},a={q/(1-e)} AU\")"
   ]
  },
  {
   "cell_type": "code",
   "execution_count": 453,
   "metadata": {},
   "outputs": [
    {
     "name": "stdout",
     "output_type": "stream",
     "text": [
      "q=0.6208004537398066 AU,e=0.3397801182292079,i=15.131354585297741,W=331.55439362800547,w=61.37840100362403\n",
      "M=80.32341393146227,f=118.57675434604417,a=0.9402934853684538 AU,P=0.9118328486813002 yr\n"
     ]
    }
   ],
   "source": [
    "#Simply determined\n",
    "heliostate=obs.helioState(event[\"Az\"]*DEG,event[\"h\"]*DEG,-event[\"vimp\"])\n",
    "q,e,i,Omega,omega,M,et,mu,f,a,P=spy.oscltx(heliostate,event[\"ET\"],MUSUN)\n",
    "print(f\"q={q/AU} AU,e={e},i={i*RAD},W={Omega*RAD},w={omega*RAD}\\nM={M*RAD},f={f*RAD},a={a/AU} AU,P={P/YEAR} yr\")"
   ]
  },
  {
   "cell_type": "markdown",
   "metadata": {},
   "source": [
    "## Patched conics determination\n",
    "\n",
    "Here we will attempt to determine the orbital elements using a patched conics determination"
   ]
  },
  {
   "cell_type": "markdown",
   "metadata": {},
   "source": [
    "### Geocentric elements"
   ]
  },
  {
   "cell_type": "code",
   "execution_count": 577,
   "metadata": {},
   "outputs": [
    {
     "name": "stdout",
     "output_type": "stream",
     "text": [
      "q=0.3416301537782395 AU,e=1.1416531613707535,i=106.80420976777597,W=117.0222726259595,w=279.59907043009747\n",
      "M=-9.1351513664671,f=101.40219314631362,a=-2.4117368823423555 AU, n=0.00033092781581773895 rad/s,\n",
      "r = 6456.440295582877 km, tp = 4320481.79228639 s\n"
     ]
    }
   ],
   "source": [
    "geostate=obs.geoState(event[\"Az\"]*DEG,event[\"h\"]*DEG,-event[\"vimp\"])\n",
    "rt=spy.vnorm(geostate[:3])\n",
    "q,e,i,Omega,omega,Mo,eto,mu=spy.oscelt(geostate,event[\"ET\"],MUEARTH)\n",
    "a=q/(1-e)\n",
    "n=np.sqrt(MUEARTH/np.abs(a)**3)\n",
    "etp=eto-Mo/n\n",
    "print(f\"q={q/obs._RE} AU,e={e},i={i*RAD},W={Omega*RAD},w={omega*RAD}\\nM={Mo*RAD},\\\n",
    "f={f*RAD},a={a/obs._RE} AU, n={n} rad/s,\\nr = {rt} km, tp = {tp} s\")"
   ]
  },
  {
   "cell_type": "code",
   "execution_count": 578,
   "metadata": {},
   "outputs": [
    {
     "name": "stdout",
     "output_type": "stream",
     "text": [
      "f=150.6726073138603,H=272.1774367984908,M=3509.317755306966,deltat=185083.1099750669 s\n"
     ]
    }
   ],
   "source": [
    "r=1e6\n",
    "fd=np.arccos((q*(1+e)/r-1)/e)\n",
    "Hd=2*np.arctanh(np.sqrt((e-1)/(e+1))*np.tan(fd/2))\n",
    "Md=e*np.sinh(Hd)-Hd\n",
    "deltat=Md/n\n",
    "print(f\"f={fd*RAD},H={Hd*RAD},M={Md*RAD},deltat={deltat} s\")"
   ]
  },
  {
   "cell_type": "code",
   "execution_count": 579,
   "metadata": {},
   "outputs": [
    {
     "data": {
      "text/plain": [
       "(2178.9637874766177,\n",
       " 1000000.0000000293,\n",
       " array([ 3053.67473812, -5668.3582563 ,   480.00683585,    -6.320487  ,\n",
       "            7.64918578,    -7.13638064]))"
      ]
     },
     "execution_count": 579,
     "metadata": {},
     "output_type": "execute_result"
    }
   ],
   "source": [
    "geostatet=spy.conics([q,e,i,Omega,omega,Mo,eto,MUEARTH],etp-deltat)\n",
    "q,spy.vnorm(geostatet[:3]),geostate"
   ]
  },
  {
   "cell_type": "code",
   "execution_count": 581,
   "metadata": {},
   "outputs": [
    {
     "name": "stdout",
     "output_type": "stream",
     "text": [
      "Patched Conics: q=0.8563731463836756 AU,e=0.12977516363439923,i=7.5579937986248416,W=331.68568171473754,w=78.4364980970789\n",
      "M=84.41076286489864,f=99.27970560631498,a=0.9840826308293207 AU,P=0.9762643769210295 yr\n",
      "Numerical: q=0.8600572458010401 AU,e=0.1294093814540304,i=7.450907416751878,W=331.6998734666597,w=78.89875965056892\n",
      "M=72.28317106246105,a=0.9879008887523714 AU\n"
     ]
    }
   ],
   "source": [
    "#Patched conics\n",
    "earthpos=spy.spkezr(\"EARTH\",etp-deltat,\"ECLIPJ2000\",\"NONE\",\"SSB\")[0]\n",
    "soipos=geostatet+earthpos\n",
    "q,e,i,Omega,omega,M,et,mu,f,a,P=spy.oscltx(soipos,etp+deltat,MUSUN)\n",
    "print(f\"Patched Conics: q={q/AU} AU,e={e},i={i*RAD},W={Omega*RAD},w={omega*RAD}\\nM={M*RAD},f={f*RAD},a={a/AU} AU,P={P/YEAR} yr\")\n",
    "#Numerically determined\n",
    "q,e,i,Omega,omega,M=event[[\"q\",\"e\",\"i\",\"Omega\",\"omega\",\"M\"]].values\n",
    "print(f\"Numerical: q={q} AU,e={e},i={i},W={Omega},w={omega}\\nM={M},a={q/(1-e)} AU\")"
   ]
  },
  {
   "cell_type": "markdown",
   "metadata": {},
   "source": [
    "### Studying speeds"
   ]
  },
  {
   "cell_type": "code",
   "execution_count": 392,
   "metadata": {},
   "outputs": [],
   "source": [
    "#Zero-observer\n",
    "#et=spy.str2et(\"2000 JAN 01 12:00:00 UTC\")\n",
    "et=spy.str2et(\"2000 MAR 22 12:00:00 UTC\")\n",
    "sim=Observer(0*DEG,0*DEG,0)\n",
    "sim.updateOrientationPosition(et)"
   ]
  },
  {
   "cell_type": "code",
   "execution_count": 393,
   "metadata": {},
   "outputs": [
    {
     "data": {
      "text/plain": [
       "(array([ 0.        , -0.46383118,  0.        ]),\n",
       " array([ 0.        , -0.46383118,  0.        ]),\n",
       " array([[0., 0., 1.],\n",
       "        [0., 1., 0.],\n",
       "        [1., 0., 0.]]),\n",
       " array([[ 9.99986620e-01, -5.17301033e-03, -7.88447915e-06],\n",
       "        [ 4.74931696e-03,  9.17476861e-01,  3.97760799e-01],\n",
       "        [-2.05038689e-03, -3.97755514e-01,  9.17489154e-01]]))"
      ]
     },
     "execution_count": 393,
     "metadata": {},
     "output_type": "execute_result"
    }
   ],
   "source": [
    "sim._velocityLocal,sim._velocityBody,sim._loc2bod,sim._bod2ecl"
   ]
  },
  {
   "cell_type": "code",
   "execution_count": 394,
   "metadata": {},
   "outputs": [
    {
     "data": {
      "text/plain": [
       "array([-1.49976941e+08, -6.16003355e+06,  2.93325853e+04,  6.50583742e-01,\n",
       "       -2.98798520e+01, -2.35420741e-04])"
      ]
     },
     "execution_count": 394,
     "metadata": {},
     "output_type": "execute_result"
    }
   ],
   "source": [
    "sim._stateEarth"
   ]
  },
  {
   "cell_type": "code",
   "execution_count": 420,
   "metadata": {},
   "outputs": [
    {
     "name": "stdout",
     "output_type": "stream",
     "text": [
      "Earth heliograme: [ 6.50583742e-01 -2.98798520e+01 -2.35420741e-04]\n",
      "In the rotating geoframe: [-0.         -9.17060074 -3.98749069]\n",
      "In the non-rotating geoframe: [ 0.         -9.63443193 -3.98749069]\n",
      "In the helioframe: [  0.7004542  -40.30528784   0.17343355]\n"
     ]
    }
   ],
   "source": [
    "A=(90.0-23.5)\n",
    "h=0.0\n",
    "vimp=-10\n",
    "vdir=A*DEG,h*DEG,vimp\n",
    "print(\"Earth heliograme:\",sim._stateEarth[3:])\n",
    "print(\"In the rotating geoframe:\",sim.vloc2vBod(*vdir))\n",
    "print(\"In the non-rotating geoframe:\",sim.vloc2vRot(*vdir))\n",
    "print(\"In the helioframe:\",sim.vloc2vEcl(*vdir))"
   ]
  },
  {
   "cell_type": "markdown",
   "metadata": {},
   "source": [
    "Here, we have a mistake.  If a particle in the rotating reference frame have a y-component of -9.17 km/s (going towards the west) it is because in the inertial reference frame have a y-componente of -8.8 km/s.  This is because the rotation velocity of the Earth is toward East.  Therefore to the inertial velocity -8.8 km/s you have to add the rotational velocity 0.4 km/s.\n",
    "\n",
    "In the original GravRay we have a mistake equivalent to have assumed that the Earth was rotating clockwise."
   ]
  },
  {
   "cell_type": "markdown",
   "metadata": {},
   "source": [
    "### Observer class"
   ]
  },
  {
   "cell_type": "code",
   "execution_count": 398,
   "metadata": {},
   "outputs": [],
   "source": []
  },
  {
   "cell_type": "markdown",
   "metadata": {},
   "source": [
    "## Test routines"
   ]
  },
  {
   "cell_type": "code",
   "execution_count": 407,
   "metadata": {},
   "outputs": [
    {
     "data": {
      "text/plain": [
       "array([ True,  True])"
      ]
     },
     "execution_count": 407,
     "metadata": {},
     "output_type": "execute_result"
    }
   ],
   "source": [
    "np.isclose([1,2],[1,2])"
   ]
  },
  {
   "cell_type": "code",
   "execution_count": 139,
   "metadata": {},
   "outputs": [
    {
     "name": "stderr",
     "output_type": "stream",
     "text": [
      "...............\n",
      "----------------------------------------------------------------------\n",
      "Ran 15 tests in 0.038s\n",
      "\n",
      "OK\n"
     ]
    }
   ],
   "source": [
    "import unittest\n",
    "class Test(unittest.TestCase):\n",
    "    \n",
    "    #Zero-observer\n",
    "    et=spy.str2et(\"2000 JAN 01 12:00:00 UTC\")\n",
    "    observer=Observer(0*DEG,0*DEG,0)\n",
    "    observer.updateOrientationPosition(et)\n",
    "\n",
    "    #Chelyabinsk impact\n",
    "    etchely=spy.str2et(\"02/15/2013 3:20:34 UTC\")\n",
    "    chely=Observer(61.1*DEG,54.8*DEG,23.3)\n",
    "    chely.updateOrientationPosition(etchely)\n",
    "    \n",
    "    #Arbitrary impact\n",
    "    etarb=4320000.0 #Feb. 20/2000, 12:00:00 TDB\n",
    "    arb=Observer(-29.9483*DEG,-16.4228*DEG,80.0)\n",
    "    arb._RP=arb._RE;arb._calcMatrices() #Error in GravRay\n",
    "    arb.updateOrientationPosition(etarb)\n",
    "\n",
    "    def test_earthpos(self):\n",
    "        self.assertEqual(np.isclose(self.arb._stateEarth,\n",
    "                                    np.array([-1.30585661e+08,7.08734759e+07,2.98745730e+04,\n",
    "                                              -1.48394530e+01,-2.62057098e+01,-1.08440413e-03]),\n",
    "                                    rtol=1e-5).tolist(),\n",
    "                         [True]*6)\n",
    "    \n",
    "    def test_vrot(self):\n",
    "        vrot=self.observer.vloc2vRot(90*DEG,0*DEG,10.0)\n",
    "        self.assertAlmostEqual(vrot[0],0,5)\n",
    "        self.assertAlmostEqual(vrot[1],9.53616882e+00,5)\n",
    "        self.assertAlmostEqual(vrot[2],0,5)\n",
    "        \n",
    "    def test_arb_position(self):\n",
    "        self.assertTrue(np.isclose(self.arb._positionEcl[0],-1.30582607e+08,rtol=1e-7,atol=0,equal_nan=False))\n",
    "        self.assertTrue(np.isclose(self.arb._positionEcl[1],7.08678075e+07,rtol=1e-7,atol=0,equal_nan=False))\n",
    "        self.assertTrue(np.isclose(self.arb._positionEcl[2],3.03545799e+04,rtol=1e-7,atol=0,equal_nan=False))\n",
    "        \n",
    "    def test_arb_velocity(self):\n",
    "        vecl=self.arb.vloc2vEcl(1.6502*DEG,56.981*DEG,-12.207)\n",
    "        self.assertTrue(np.isclose(vecl[0],-21.15990113,rtol=1e-4,atol=0,equal_nan=False))\n",
    "        self.assertTrue(np.isclose(vecl[1],-18.55669163,rtol=1e-4,atol=0,equal_nan=False))\n",
    "        self.assertTrue(np.isclose(vecl[2],-7.13767917,rtol=1e-4,atol=0,equal_nan=False))\n",
    "    \n",
    "    def test_et(self):\n",
    "        self.assertAlmostEqual(self.et,64.2,1)\n",
    "        \n",
    "    def test_ellipsoid(self):\n",
    "        self.assertAlmostEqual(self.observer._RE,6378.1366,4)\n",
    "        self.assertAlmostEqual(self.observer._RP,6356.7519,4)\n",
    "        self.assertAlmostEqual(self.observer._FE,0.0033528131084554717,7)\n",
    "    \n",
    "    def test_position(self):\n",
    "        self.assertEqual(self.observer._positionBody[0],self.observer._RE)\n",
    "        \n",
    "    def test_velocity_local(self):\n",
    "        self.assertAlmostEqual(self.observer._velocityLocal[0],0,5)\n",
    "        self.assertAlmostEqual(self.observer._velocityLocal[1],-0.46383118,5)\n",
    "        self.assertAlmostEqual(self.observer._velocityLocal[2],0,5)\n",
    "        \n",
    "    def test_ecl2loc_sun(self):\n",
    "        #Position of the Sun\n",
    "        eclon=Angle.dec((+1,280,22,21.9))\n",
    "        eclat=Angle.dec((-1,0,0,2.7))\n",
    "        A,h=self.observer.ecl2loc(eclon*DEG,eclat*DEG)\n",
    "        self.assertAlmostEqual(A*RAD,178.07231644928592,5)\n",
    "        self.assertAlmostEqual(h*RAD,66.95277694576103,5)\n",
    "    \n",
    "    def test_ecl2loc_Betelgeuse(self):\n",
    "        #Betelgeuse\n",
    "        eclon=Angle.dec((+1,88,45,16.6))\n",
    "        eclat=Angle.dec((-1,16,1,37.2))\n",
    "        A,h=self.observer.ecl2loc(eclon*DEG,eclat*DEG)\n",
    "        self.assertAlmostEqual(A*RAD,57.27518638612843,5)\n",
    "        self.assertAlmostEqual(h*RAD,-76.20677246845091,5)\n",
    "    \n",
    "    def test_loc2ecl_sun(self):\n",
    "        A=Angle.dec((+1,57,16,30.7))\n",
    "        h=Angle.dec((-1,76,12,24.4))\n",
    "        eclon,eclat=self.observer.loc2ecl(A*DEG,h*DEG)\n",
    "        self.assertAlmostEqual(eclon*RAD,88.75461469860417,5)\n",
    "        self.assertAlmostEqual(eclat*RAD,-16.027004471139914,5)\n",
    "        \n",
    "    def test_chely_et(self):\n",
    "        self.assertAlmostEqual(self.etchely,414170501.185,3)\n",
    "        \n",
    "    def test_chely_vbod2vloc(self):\n",
    "        vBod=np.array([12.8,-13.3,-2.4])\n",
    "        A,h,vloc=self.chely.vBod2vloc(-vBod)\n",
    "        self.assertAlmostEqual(A*RAD,99.8961127649985,5)\n",
    "        self.assertAlmostEqual(h*RAD,15.92414245029081,5)\n",
    "\n",
    "    def test_chely_vloc2vbod(self):\n",
    "        vBod=self.chely.vloc2vBod(279.9*DEG,-15.9*DEG,18.6)\n",
    "        self.assertAlmostEqual(vBod[0],12.8,1)\n",
    "        self.assertAlmostEqual(vBod[1],-13.3,1)\n",
    "        self.assertAlmostEqual(vBod[2],-2.4,1)\n",
    "        \n",
    "    def test_chely_elements(self):\n",
    "        et=spy.str2t(\"02/15/2013 03:20:34 UTC\")\n",
    "        Esim,Epcon=rayOscelt(63.5,54.4,80.0,96.0,17.0,-19.0,et)\n",
    "        Epcon[0]/=AU;Epcon[2:5]*=RAD\n",
    "        q,e,i,W,w=Epcon[:5]\n",
    "        self.assertEqual(np.isclose([q,e,i,W,w],\n",
    "                                    [0.78,0.66,5.07,326.57,118.00],\n",
    "                                     atol=1e-1).tolist(),\n",
    "                         [True]*5)\n",
    "        \n",
    "if __name__=='__main__':\n",
    "    unittest.main(argv=['first-arg-is-ignored'],exit=False)"
   ]
  },
  {
   "cell_type": "markdown",
   "metadata": {},
   "source": [
    "## Comparison Procedure"
   ]
  },
  {
   "cell_type": "code",
   "execution_count": 604,
   "metadata": {},
   "outputs": [
    {
     "data": {
      "text/plain": [
       "(128111599.22365727,\n",
       " 0.12977516363439923,\n",
       " 0.13191187663131676,\n",
       " 5.789007227644121,\n",
       " 1.3689751455282937,\n",
       " 1.4732457361126428,\n",
       " 4505564.902261457,\n",
       " 132712440040.944)"
      ]
     },
     "execution_count": 604,
     "metadata": {},
     "output_type": "execute_result"
    }
   ],
   "source": [
    "iev=100\n",
    "event=data.iloc[iev]\n",
    "#Elements\n",
    "q_num,e_num,i_num,W_num,w_num,M_num=event[[\"q\",\"e\",\"i\",\"Omega\",\"omega\",\"M\"]].values\n",
    "q_num*=AU;i_num*=DEG;W_num*=DEG;w_num*=DEG;M_num*=DEG\n",
    "#Build observer\n",
    "obs=Observer(event[\"lon\"]*DEG,event[\"lat\"]*DEG,ELEV)\n",
    "obs._RP=obs._RE;obs._calcMatrices() #Correcçtion for error in GravRay\n",
    "obs.updateOrientationPosition(event[\"ET\"])\n",
    "#Simply determined\n",
    "heliostate=obs.helioState(event[\"Az\"]*DEG,event[\"h\"]*DEG,-event[\"vimp\"])\n",
    "q_sim,e_sim,i_sim,W_sim,w_sim,M_sim,et,mu=spy.oscelt(heliostate,event[\"ET\"],MUSUN)\n",
    "#Patched conics\n",
    "#Geocentric conic:\n",
    "geostate=obs.geoState(event[\"Az\"]*DEG,event[\"h\"]*DEG,-event[\"vimp\"])\n",
    "rt=spy.vnorm(geostate[:3])\n",
    "q,e,i,Omega,omega,Mo,eto,mu=spy.oscelt(geostate,event[\"ET\"],MUEARTH)\n",
    "a=q/(1-e)\n",
    "n=np.sqrt(MUEARTH/np.abs(a)**3)\n",
    "etp=eto-Mo/n\n",
    "#SoI:\n",
    "r=1e6\n",
    "fd=np.arccos((q*(1+e)/r-1)/e)\n",
    "Hd=2*np.arctanh(np.sqrt((e-1)/(e+1))*np.tan(fd/2))\n",
    "Md=e*np.sinh(Hd)-Hd\n",
    "deltat=Md/n\n",
    "#Heliocentric conic:\n",
    "earthpos=spy.spkezr(\"EARTH\",etp-deltat,\"ECLIPJ2000\",\"NONE\",\"SSB\")[0]\n",
    "geostatet=spy.conics([q,e,i,Omega,omega,Mo,eto,MUEARTH],etp-deltat)\n",
    "soipos=geostatet+earthpos\n",
    "q_pcon,e_pcon,i_pcon,W_pcon,w_pcon,M_pcon,et,mu=spy.oscelt(soipos,etp+deltat,MUSUN)\n",
    "q_pcon,e_pcon,i_pcon,W_pcon,w_pcon,M_pcon,et,mu"
   ]
  },
  {
   "cell_type": "code",
   "execution_count": 606,
   "metadata": {},
   "outputs": [
    {
     "data": {
      "text/plain": [
       "(128111599.22365727,\n",
       " 0.12977516363439923,\n",
       " 0.13191187663131676,\n",
       " 5.789007227644121,\n",
       " 1.3689751455282937,\n",
       " 1.4732457361126428,\n",
       " 4505564.902261457,\n",
       " 132712440040.944)"
      ]
     },
     "execution_count": 606,
     "metadata": {},
     "output_type": "execute_result"
    }
   ],
   "source": [
    "q_pcon,e_pcon,i_pcon,W_pcon,w_pcon,M_pcon,et,mu=patchedOscelt(obs,\n",
    "                                                              event[\"Az\"],event[\"h\"],-event[\"vimp\"],\n",
    "                                                              event[\"ET\"])\n",
    "q_pcon,e_pcon,i_pcon,W_pcon,w_pcon,M_pcon,et,mu"
   ]
  },
  {
   "cell_type": "code",
   "execution_count": 599,
   "metadata": {},
   "outputs": [],
   "source": [
    "def patchedOscelt(observer,A,h,vimp,et):\n",
    "    #Geocentric conic:\n",
    "    geostate=observer.geoState(A*DEG,h*DEG,vimp)\n",
    "    rt=spy.vnorm(geostate[:3])\n",
    "    q,e,i,Omega,omega,Mo,eto,mu=spy.oscelt(geostate,et,MUEARTH)\n",
    "    a=q/(1-e)\n",
    "    n=np.sqrt(MUEARTH/np.abs(a)**3)\n",
    "    etp=eto-Mo/n\n",
    "    #SoI:\n",
    "    r=1e6\n",
    "    fd=np.arccos((q*(1+e)/r-1)/e)\n",
    "    Hd=2*np.arctanh(np.sqrt((e-1)/(e+1))*np.tan(fd/2))\n",
    "    Md=e*np.sinh(Hd)-Hd\n",
    "    deltat=Md/n\n",
    "    #Heliocentric conic:\n",
    "    earthpos=spy.spkezr(\"EARTH\",etp-deltat,\"ECLIPJ2000\",\"NONE\",\"SSB\")[0]\n",
    "    geostatet=spy.conics([q,e,i,Omega,omega,Mo,eto,MUEARTH],etp-deltat)\n",
    "    soipos=geostatet+earthpos\n",
    "    return spy.oscelt(soipos,etp+deltat,MUSUN)"
   ]
  },
  {
   "cell_type": "code",
   "execution_count": null,
   "metadata": {},
   "outputs": [],
   "source": []
  },
  {
   "cell_type": "code",
   "execution_count": 6,
   "metadata": {},
   "outputs": [],
   "source": [
    "from copy import deepcopy\n",
    "GLOBAL_OBS=None\n",
    "def rayOscelt(lon,lat,alt,A,h,vimp,et):\n",
    "    \"\"\"\n",
    "    \"\"\"\n",
    "    #Prepare observer structure\n",
    "    global GLOBAL_OBS\n",
    "    if (GLOBAL_OBS is None) or \\\n",
    "            np.isclose([lon,lat,alt],[GLOBAL_OBS.lon*RAD,GLOBAL_OBS.lat*RAD,GLOBAL_OBS.alt],rtol=1e-5).sum()<3:\n",
    "        #print(\"New observer\")\n",
    "        obs=Observer(lon*DEG,lat*DEG,alt)\n",
    "        obs._RP=obs._RE;obs._calcMatrices() #Correction for error in GravRay\n",
    "        obs.updateOrientationPosition(et)\n",
    "        GLOBAL_OBS=deepcopy(obs)\n",
    "    else:\n",
    "        #print(\"Old observer\")\n",
    "        obs=GLOBAL_OBS\n",
    "        if np.isclose(et,GLOBAL_OBS._et,rtol=1e-10)==False:\n",
    "            #print(\"New time\")\n",
    "            obs.updateOrientationPosition(et)\n",
    "            \n",
    "    #Simple estimation\n",
    "    heliostate=obs.helioState(A*DEG,h*DEG,vimp)\n",
    "    E_sim=spy.oscelt(heliostate,event[\"ET\"],MUSUN)\n",
    "    #Geocentric conic:\n",
    "    geostate=obs.geoState(A*DEG,h*DEG,vimp)\n",
    "    rt=spy.vnorm(geostate[:3])\n",
    "    q,e,i,Omega,omega,Mo,eto,mu=spy.oscelt(geostate,et,MUEARTH)\n",
    "    a=q/(1-e)\n",
    "    n=np.sqrt(MUEARTH/np.abs(a)**3)\n",
    "    etp=eto-Mo/n\n",
    "    #SoI:\n",
    "    r=1e6\n",
    "    fd=np.arccos((q*(1+e)/r-1)/e)\n",
    "    #See: https://space.stackexchange.com/questions/27602/what-is-hyperbolic-eccentric-anomaly-f\n",
    "    Hd=2*np.arctanh(np.sqrt((e-1)/(e+1))*np.tan(fd/2))\n",
    "    Md=e*np.sinh(Hd)-Hd\n",
    "    deltat=Md/n\n",
    "    #Heliocentric conic:\n",
    "    earthpos=spy.spkezr(\"EARTH\",etp-deltat,\"ECLIPJ2000\",\"NONE\",\"SSB\")[0]\n",
    "    geostatet=spy.conics([q,e,i,Omega,omega,Mo,eto,MUEARTH],etp-deltat)\n",
    "    soipos=geostatet+earthpos\n",
    "    E_pcon=spy.oscelt(soipos,etp+deltat,MUSUN)\n",
    "    return E_sim,E_pcon "
   ]
  },
  {
   "cell_type": "code",
   "execution_count": 164,
   "metadata": {},
   "outputs": [],
   "source": [
    "iev=100\n",
    "event=data.iloc[iev]\n",
    "E_sim,E_pcon=rayOscelt(event[\"lon\"],event[\"lat\"],80.0,event[\"Az\"],event[\"h\"],-event[\"vimp\"],event[\"ET\"])"
   ]
  },
  {
   "cell_type": "code",
   "execution_count": 148,
   "metadata": {},
   "outputs": [
    {
     "name": "stdout",
     "output_type": "stream",
     "text": [
      "1000 loops, best of 3: 732 µs per loop\n"
     ]
    }
   ],
   "source": [
    "%timeit -n 1000 rayOscelt(event[\"lon\"],event[\"lat\"],80.0,event[\"Az\"],event[\"h\"],-event[\"vimp\"],event[\"ET\"])"
   ]
  },
  {
   "cell_type": "markdown",
   "metadata": {},
   "source": [
    "In C++ the numerical determination takes 75-86 msec.  In Python it takes 0.5-0.6 msec (without the simple estimation).  This implies an improvement in a factor of ~200 using even python"
   ]
  },
  {
   "cell_type": "markdown",
   "metadata": {},
   "source": [
    "## Systematic comparison"
   ]
  },
  {
   "cell_type": "code",
   "execution_count": 10,
   "metadata": {},
   "outputs": [],
   "source": [
    "def zappalaDistance(E1,E2):\n",
    "    \"\"\"                                                                                                                                                                              \n",
    "    Zappala (1990), Nervorny & Vokrouhlicky (2006)                                                                                                                                   \n",
    "    am=(a+at)/2                                                                                                                                                                      \n",
    "    d2c=1/np.sqrt(am)*(ka*((at-a)/am)**2+ke*(et-e)**2+ki*(sinit-np.sin(i*DEG))**2+kO*(Omega-Ot)**2+kw*(omega-ot)**2)\n",
    "    Parameters:\n",
    "        E1: [q(UL),e,i(rad),W(rad),w(rad)]\n",
    "    \n",
    "    \"\"\"\n",
    "    ka=5./4\n",
    "    ke=ki=2\n",
    "    kw=kW=1e-4\n",
    "    #Elements\n",
    "    q1,e1,i1,W1,w1=E1[:5]\n",
    "    q2,e2,i2,W2,w2=E2[:5]\n",
    "    #Derived elements\n",
    "    sini1=np.sin(i1)\n",
    "    sini2=np.sin(i2)\n",
    "    a1=q1/(1-e1)\n",
    "    a2=q2/(1-e2)\n",
    "    am=(a1+a2)/2\n",
    "    anm=1/np.sqrt(np.abs(am))\n",
    "    varpi1=W1+w1\n",
    "    varpi2=W2+w2\n",
    "    \"\"\"\n",
    "    print(\"Reference:\",E1[:5])\n",
    "    print(\"Comparison:\",E2[:5])\n",
    "    print(f\"Derived reference: a={a1:g},sini={sini1:g},varpi={varpi1:g}\")\n",
    "    print(f\"Derived comparison: a={a2:g},sini={sini2:g},varpi={varpi2:g}\")\n",
    "    print(f\"Average: am={am:g},1/sqrt(am)={anm:g}\")\n",
    "    \"\"\"\n",
    "    #Metric (Zuluaga & Sucerquia, 2018)\n",
    "    DZ=anm*(ka*(a1-am)**2/am**2+ke*(e1-e2)**2+ki*(sini1-sini2)**2+kW*(W1-W2)**2+kw*(varpi1-varpi2)**2)**0.5\n",
    "\n",
    "    return DZ"
   ]
  },
  {
   "cell_type": "code",
   "execution_count": 41,
   "metadata": {},
   "outputs": [
    {
     "data": {
      "text/html": [
       "<div>\n",
       "<style scoped>\n",
       "    .dataframe tbody tr th:only-of-type {\n",
       "        vertical-align: middle;\n",
       "    }\n",
       "\n",
       "    .dataframe tbody tr th {\n",
       "        vertical-align: top;\n",
       "    }\n",
       "\n",
       "    .dataframe thead th {\n",
       "        text-align: right;\n",
       "    }\n",
       "</style>\n",
       "<table border=\"1\" class=\"dataframe\">\n",
       "  <thead>\n",
       "    <tr style=\"text-align: right;\">\n",
       "      <th></th>\n",
       "      <th>N</th>\n",
       "      <th>ET</th>\n",
       "      <th>lat</th>\n",
       "      <th>lon</th>\n",
       "      <th>h</th>\n",
       "      <th>Az</th>\n",
       "      <th>vimp</th>\n",
       "      <th>xobs</th>\n",
       "      <th>yobs</th>\n",
       "      <th>zobs</th>\n",
       "      <th>vxobs</th>\n",
       "      <th>vyobs</th>\n",
       "      <th>vzobs</th>\n",
       "      <th>q</th>\n",
       "      <th>e</th>\n",
       "      <th>i</th>\n",
       "      <th>Omega</th>\n",
       "      <th>omega</th>\n",
       "      <th>M</th>\n",
       "      <th>qapex</th>\n",
       "    </tr>\n",
       "  </thead>\n",
       "  <tbody>\n",
       "    <tr>\n",
       "      <th>count</th>\n",
       "      <td>5974.000000</td>\n",
       "      <td>5974.0</td>\n",
       "      <td>5974.000000</td>\n",
       "      <td>5974.000000</td>\n",
       "      <td>5974.000000</td>\n",
       "      <td>5974.000000</td>\n",
       "      <td>5974.000000</td>\n",
       "      <td>5.974000e+03</td>\n",
       "      <td>5.974000e+03</td>\n",
       "      <td>5974.000000</td>\n",
       "      <td>5974.000000</td>\n",
       "      <td>5974.000000</td>\n",
       "      <td>5974.000000</td>\n",
       "      <td>5974.000000</td>\n",
       "      <td>5974.000000</td>\n",
       "      <td>5974.000000</td>\n",
       "      <td>5974.000000</td>\n",
       "      <td>5974.000000</td>\n",
       "      <td>5974.000000</td>\n",
       "      <td>5974.000000</td>\n",
       "    </tr>\n",
       "    <tr>\n",
       "      <th>mean</th>\n",
       "      <td>119.981085</td>\n",
       "      <td>4320000.0</td>\n",
       "      <td>-6.889885</td>\n",
       "      <td>10.433316</td>\n",
       "      <td>27.753223</td>\n",
       "      <td>140.701547</td>\n",
       "      <td>19.749785</td>\n",
       "      <td>-1.305854e+08</td>\n",
       "      <td>7.087333e+07</td>\n",
       "      <td>29237.551994</td>\n",
       "      <td>-15.100936</td>\n",
       "      <td>-26.386871</td>\n",
       "      <td>-0.013976</td>\n",
       "      <td>0.730253</td>\n",
       "      <td>0.678064</td>\n",
       "      <td>16.258746</td>\n",
       "      <td>244.268289</td>\n",
       "      <td>181.305184</td>\n",
       "      <td>106.988654</td>\n",
       "      <td>91.079647</td>\n",
       "    </tr>\n",
       "    <tr>\n",
       "      <th>std</th>\n",
       "      <td>68.988857</td>\n",
       "      <td>0.0</td>\n",
       "      <td>37.183886</td>\n",
       "      <td>104.274433</td>\n",
       "      <td>18.095077</td>\n",
       "      <td>103.532831</td>\n",
       "      <td>7.127716</td>\n",
       "      <td>3.727003e+03</td>\n",
       "      <td>3.874595e+03</td>\n",
       "      <td>3499.729155</td>\n",
       "      <td>11.967398</td>\n",
       "      <td>11.976818</td>\n",
       "      <td>12.520490</td>\n",
       "      <td>0.266964</td>\n",
       "      <td>0.594659</td>\n",
       "      <td>15.424432</td>\n",
       "      <td>90.495582</td>\n",
       "      <td>107.044110</td>\n",
       "      <td>308.615991</td>\n",
       "      <td>38.688669</td>\n",
       "    </tr>\n",
       "    <tr>\n",
       "      <th>min</th>\n",
       "      <td>1.000000</td>\n",
       "      <td>4320000.0</td>\n",
       "      <td>-79.912800</td>\n",
       "      <td>-170.750000</td>\n",
       "      <td>6.603600</td>\n",
       "      <td>1.650200</td>\n",
       "      <td>12.207000</td>\n",
       "      <td>-1.305917e+08</td>\n",
       "      <td>7.086738e+07</td>\n",
       "      <td>23630.154203</td>\n",
       "      <td>-57.597944</td>\n",
       "      <td>-69.054618</td>\n",
       "      <td>-43.036799</td>\n",
       "      <td>0.004617</td>\n",
       "      <td>0.008124</td>\n",
       "      <td>0.007101</td>\n",
       "      <td>9.861022</td>\n",
       "      <td>0.032613</td>\n",
       "      <td>-2660.811059</td>\n",
       "      <td>1.216421</td>\n",
       "    </tr>\n",
       "    <tr>\n",
       "      <th>25%</th>\n",
       "      <td>60.000000</td>\n",
       "      <td>4320000.0</td>\n",
       "      <td>-35.081700</td>\n",
       "      <td>-65.969200</td>\n",
       "      <td>12.313000</td>\n",
       "      <td>45.644000</td>\n",
       "      <td>15.054000</td>\n",
       "      <td>-1.305877e+08</td>\n",
       "      <td>7.086986e+07</td>\n",
       "      <td>26579.098588</td>\n",
       "      <td>-23.787571</td>\n",
       "      <td>-35.124090</td>\n",
       "      <td>-9.472926</td>\n",
       "      <td>0.538887</td>\n",
       "      <td>0.325325</td>\n",
       "      <td>6.195231</td>\n",
       "      <td>151.275722</td>\n",
       "      <td>101.232632</td>\n",
       "      <td>54.195378</td>\n",
       "      <td>61.317929</td>\n",
       "    </tr>\n",
       "    <tr>\n",
       "      <th>50%</th>\n",
       "      <td>120.000000</td>\n",
       "      <td>4320000.0</td>\n",
       "      <td>-7.025380</td>\n",
       "      <td>22.296400</td>\n",
       "      <td>20.200000</td>\n",
       "      <td>126.730000</td>\n",
       "      <td>18.084000</td>\n",
       "      <td>-1.305861e+08</td>\n",
       "      <td>7.087380e+07</td>\n",
       "      <td>28992.350411</td>\n",
       "      <td>-15.019644</td>\n",
       "      <td>-26.622098</td>\n",
       "      <td>0.131079</td>\n",
       "      <td>0.834616</td>\n",
       "      <td>0.519911</td>\n",
       "      <td>12.468160</td>\n",
       "      <td>330.680227</td>\n",
       "      <td>179.568742</td>\n",
       "      <td>162.136520</td>\n",
       "      <td>91.450623</td>\n",
       "    </tr>\n",
       "    <tr>\n",
       "      <th>75%</th>\n",
       "      <td>180.000000</td>\n",
       "      <td>4320000.0</td>\n",
       "      <td>14.262600</td>\n",
       "      <td>89.986500</td>\n",
       "      <td>42.401000</td>\n",
       "      <td>239.630000</td>\n",
       "      <td>22.955000</td>\n",
       "      <td>-1.305823e+08</td>\n",
       "      <td>7.087632e+07</td>\n",
       "      <td>32027.254251</td>\n",
       "      <td>-6.259532</td>\n",
       "      <td>-17.644177</td>\n",
       "      <td>9.414311</td>\n",
       "      <td>0.963237</td>\n",
       "      <td>0.803654</td>\n",
       "      <td>21.599853</td>\n",
       "      <td>331.327782</td>\n",
       "      <td>266.409039</td>\n",
       "      <td>268.962938</td>\n",
       "      <td>118.503866</td>\n",
       "    </tr>\n",
       "    <tr>\n",
       "      <th>max</th>\n",
       "      <td>240.000000</td>\n",
       "      <td>4320000.0</td>\n",
       "      <td>70.195900</td>\n",
       "      <td>175.522000</td>\n",
       "      <td>62.009000</td>\n",
       "      <td>340.080000</td>\n",
       "      <td>43.039000</td>\n",
       "      <td>-1.305793e+08</td>\n",
       "      <td>7.087982e+07</td>\n",
       "      <td>35687.726464</td>\n",
       "      <td>28.618088</td>\n",
       "      <td>16.615438</td>\n",
       "      <td>43.101787</td>\n",
       "      <td>1.006849</td>\n",
       "      <td>4.738611</td>\n",
       "      <td>175.063778</td>\n",
       "      <td>358.669588</td>\n",
       "      <td>359.987995</td>\n",
       "      <td>359.992376</td>\n",
       "      <td>178.260480</td>\n",
       "    </tr>\n",
       "  </tbody>\n",
       "</table>\n",
       "</div>"
      ],
      "text/plain": [
       "                 N         ET          lat          lon            h  \\\n",
       "count  5974.000000     5974.0  5974.000000  5974.000000  5974.000000   \n",
       "mean    119.981085  4320000.0    -6.889885    10.433316    27.753223   \n",
       "std      68.988857        0.0    37.183886   104.274433    18.095077   \n",
       "min       1.000000  4320000.0   -79.912800  -170.750000     6.603600   \n",
       "25%      60.000000  4320000.0   -35.081700   -65.969200    12.313000   \n",
       "50%     120.000000  4320000.0    -7.025380    22.296400    20.200000   \n",
       "75%     180.000000  4320000.0    14.262600    89.986500    42.401000   \n",
       "max     240.000000  4320000.0    70.195900   175.522000    62.009000   \n",
       "\n",
       "                Az         vimp          xobs          yobs          zobs  \\\n",
       "count  5974.000000  5974.000000  5.974000e+03  5.974000e+03   5974.000000   \n",
       "mean    140.701547    19.749785 -1.305854e+08  7.087333e+07  29237.551994   \n",
       "std     103.532831     7.127716  3.727003e+03  3.874595e+03   3499.729155   \n",
       "min       1.650200    12.207000 -1.305917e+08  7.086738e+07  23630.154203   \n",
       "25%      45.644000    15.054000 -1.305877e+08  7.086986e+07  26579.098588   \n",
       "50%     126.730000    18.084000 -1.305861e+08  7.087380e+07  28992.350411   \n",
       "75%     239.630000    22.955000 -1.305823e+08  7.087632e+07  32027.254251   \n",
       "max     340.080000    43.039000 -1.305793e+08  7.087982e+07  35687.726464   \n",
       "\n",
       "             vxobs        vyobs        vzobs            q            e  \\\n",
       "count  5974.000000  5974.000000  5974.000000  5974.000000  5974.000000   \n",
       "mean    -15.100936   -26.386871    -0.013976     0.730253     0.678064   \n",
       "std      11.967398    11.976818    12.520490     0.266964     0.594659   \n",
       "min     -57.597944   -69.054618   -43.036799     0.004617     0.008124   \n",
       "25%     -23.787571   -35.124090    -9.472926     0.538887     0.325325   \n",
       "50%     -15.019644   -26.622098     0.131079     0.834616     0.519911   \n",
       "75%      -6.259532   -17.644177     9.414311     0.963237     0.803654   \n",
       "max      28.618088    16.615438    43.101787     1.006849     4.738611   \n",
       "\n",
       "                 i        Omega        omega            M        qapex  \n",
       "count  5974.000000  5974.000000  5974.000000  5974.000000  5974.000000  \n",
       "mean     16.258746   244.268289   181.305184   106.988654    91.079647  \n",
       "std      15.424432    90.495582   107.044110   308.615991    38.688669  \n",
       "min       0.007101     9.861022     0.032613 -2660.811059     1.216421  \n",
       "25%       6.195231   151.275722   101.232632    54.195378    61.317929  \n",
       "50%      12.468160   330.680227   179.568742   162.136520    91.450623  \n",
       "75%      21.599853   331.327782   266.409039   268.962938   118.503866  \n",
       "max     175.063778   358.669588   359.987995   359.992376   178.260480  "
      ]
     },
     "execution_count": 41,
     "metadata": {},
     "output_type": "execute_result"
    }
   ],
   "source": [
    "tar=tarfile.open(f\"{BDIR}/../grt-YearTest.tgz\", \"r:*\")\n",
    "fname=tar.getnames()[50]\n",
    "data=np.loadtxt(tar.extractfile(fname))\n",
    "columns=[\"N\",\"ET\",\"lat\",\"lon\",\"h\",\"Az\",\"vimp\",\"xobs\",\"yobs\",\"zobs\",\"vxobs\",\"vyobs\",\"vzobs\",\"q\",\"e\",\"i\",\"Omega\",\"omega\",\"M\",\"qapex\"]\n",
    "data=pd.DataFrame(data,columns=columns)\n",
    "data.describe()"
   ]
  },
  {
   "cell_type": "code",
   "execution_count": 151,
   "metadata": {},
   "outputs": [
    {
     "name": "stderr",
     "output_type": "stream",
     "text": [
      "100%|██████████| 5974/5974 [01:39<00:00, 59.94it/s]\n"
     ]
    }
   ],
   "source": [
    "from tqdm import tqdm\n",
    "DZpcons=[]\n",
    "DZsims=[]\n",
    "data[\"DZpcon\"]=0\n",
    "data[\"DZsim\"]=0\n",
    "sim_elements=[\"q_sim\",\"e_sim\",\"i_sim\",\"W_sim\",\"w_sim\",\"M_sim\"]\n",
    "pcon_elements=[\"q_pcon\",\"e_pcon\",\"i_pcon\",\"W_pcon\",\"w_pcon\",\"M_pcon\"]\n",
    "for i,element in enumerate(sim_elements):\n",
    "    data[element]=0\n",
    "    data[pcon_elements[i]]=0\n",
    "for index in tqdm(data.index):\n",
    "    event=data.loc[index]\n",
    "    E_num=event[[\"q\",\"e\",\"i\",\"Omega\",\"omega\",\"M\"]].values\n",
    "    E_num[2:]*=DEG\n",
    "    E_sim,E_pcon=rayOscelt(event[\"lon\"],event[\"lat\"],80.0,event[\"Az\"],event[\"h\"],-event[\"vimp\"],event[\"ET\"])\n",
    "    for E in E_sim,E_pcon:E[0]/=AU;\n",
    "    data[pcon_elements[i]]=0\n",
    "    data.loc[index,\"DZpcon\"]=zappalaDistance(E_num,E_pcon)\n",
    "    data.loc[index,\"DZsim\"]=zappalaDistance(E_num,E_sim)\n",
    "    E_sim[2:]*=RAD\n",
    "    E_pcon[2:]*=RAD\n",
    "    for i,element in enumerate(sim_elements):\n",
    "        data.loc[index,element]=E_sim[i]\n",
    "        data.loc[index,pcon_elements[i]]=E_pcon[i]\n",
    "    #print(f\"Patched conics: {DZpcon:g}, Simple approximation: {DZsim:g}\")"
   ]
  },
  {
   "cell_type": "code",
   "execution_count": 153,
   "metadata": {},
   "outputs": [
    {
     "data": {
      "text/html": [
       "<div>\n",
       "<style scoped>\n",
       "    .dataframe tbody tr th:only-of-type {\n",
       "        vertical-align: middle;\n",
       "    }\n",
       "\n",
       "    .dataframe tbody tr th {\n",
       "        vertical-align: top;\n",
       "    }\n",
       "\n",
       "    .dataframe thead th {\n",
       "        text-align: right;\n",
       "    }\n",
       "</style>\n",
       "<table border=\"1\" class=\"dataframe\">\n",
       "  <thead>\n",
       "    <tr style=\"text-align: right;\">\n",
       "      <th></th>\n",
       "      <th>DZpcon</th>\n",
       "      <th>DZsim</th>\n",
       "      <th>e</th>\n",
       "      <th>e_sim</th>\n",
       "      <th>e_pcon</th>\n",
       "    </tr>\n",
       "  </thead>\n",
       "  <tbody>\n",
       "    <tr>\n",
       "      <th>count</th>\n",
       "      <td>5974.000000</td>\n",
       "      <td>5974.000000</td>\n",
       "      <td>5974.000000</td>\n",
       "      <td>5974.000000</td>\n",
       "      <td>5974.000000</td>\n",
       "    </tr>\n",
       "    <tr>\n",
       "      <th>mean</th>\n",
       "      <td>0.016930</td>\n",
       "      <td>0.287523</td>\n",
       "      <td>0.678064</td>\n",
       "      <td>0.862319</td>\n",
       "      <td>0.683169</td>\n",
       "    </tr>\n",
       "    <tr>\n",
       "      <th>std</th>\n",
       "      <td>0.034537</td>\n",
       "      <td>0.131507</td>\n",
       "      <td>0.594659</td>\n",
       "      <td>0.628655</td>\n",
       "      <td>0.597578</td>\n",
       "    </tr>\n",
       "    <tr>\n",
       "      <th>min</th>\n",
       "      <td>0.000856</td>\n",
       "      <td>0.020201</td>\n",
       "      <td>0.008124</td>\n",
       "      <td>0.002053</td>\n",
       "      <td>0.008957</td>\n",
       "    </tr>\n",
       "    <tr>\n",
       "      <th>25%</th>\n",
       "      <td>0.010545</td>\n",
       "      <td>0.190716</td>\n",
       "      <td>0.325325</td>\n",
       "      <td>0.487567</td>\n",
       "      <td>0.329974</td>\n",
       "    </tr>\n",
       "    <tr>\n",
       "      <th>50%</th>\n",
       "      <td>0.014118</td>\n",
       "      <td>0.273329</td>\n",
       "      <td>0.519911</td>\n",
       "      <td>0.694887</td>\n",
       "      <td>0.524848</td>\n",
       "    </tr>\n",
       "    <tr>\n",
       "      <th>75%</th>\n",
       "      <td>0.018372</td>\n",
       "      <td>0.369654</td>\n",
       "      <td>0.803654</td>\n",
       "      <td>1.021418</td>\n",
       "      <td>0.809222</td>\n",
       "    </tr>\n",
       "    <tr>\n",
       "      <th>max</th>\n",
       "      <td>2.158798</td>\n",
       "      <td>2.208257</td>\n",
       "      <td>4.738611</td>\n",
       "      <td>4.991815</td>\n",
       "      <td>4.751105</td>\n",
       "    </tr>\n",
       "  </tbody>\n",
       "</table>\n",
       "</div>"
      ],
      "text/plain": [
       "            DZpcon        DZsim            e        e_sim       e_pcon\n",
       "count  5974.000000  5974.000000  5974.000000  5974.000000  5974.000000\n",
       "mean      0.016930     0.287523     0.678064     0.862319     0.683169\n",
       "std       0.034537     0.131507     0.594659     0.628655     0.597578\n",
       "min       0.000856     0.020201     0.008124     0.002053     0.008957\n",
       "25%       0.010545     0.190716     0.325325     0.487567     0.329974\n",
       "50%       0.014118     0.273329     0.519911     0.694887     0.524848\n",
       "75%       0.018372     0.369654     0.803654     1.021418     0.809222\n",
       "max       2.158798     2.208257     4.738611     4.991815     4.751105"
      ]
     },
     "execution_count": 153,
     "metadata": {},
     "output_type": "execute_result"
    }
   ],
   "source": [
    "data[[\"DZpcon\",\"DZsim\",\"e\",\"e_sim\",\"e_pcon\"]].describe()"
   ]
  },
  {
   "cell_type": "code",
   "execution_count": 154,
   "metadata": {},
   "outputs": [
    {
     "data": {
      "text/html": [
       "<div>\n",
       "<style scoped>\n",
       "    .dataframe tbody tr th:only-of-type {\n",
       "        vertical-align: middle;\n",
       "    }\n",
       "\n",
       "    .dataframe tbody tr th {\n",
       "        vertical-align: top;\n",
       "    }\n",
       "\n",
       "    .dataframe thead th {\n",
       "        text-align: right;\n",
       "    }\n",
       "</style>\n",
       "<table border=\"1\" class=\"dataframe\">\n",
       "  <thead>\n",
       "    <tr style=\"text-align: right;\">\n",
       "      <th></th>\n",
       "      <th>DZpcon</th>\n",
       "      <th>q</th>\n",
       "      <th>q_pcon</th>\n",
       "      <th>e</th>\n",
       "      <th>e_pcon</th>\n",
       "      <th>i</th>\n",
       "      <th>i_pcon</th>\n",
       "      <th>Omega</th>\n",
       "      <th>W_pcon</th>\n",
       "      <th>omega</th>\n",
       "      <th>w_pcon</th>\n",
       "    </tr>\n",
       "  </thead>\n",
       "  <tbody>\n",
       "    <tr>\n",
       "      <th>1474</th>\n",
       "      <td>2.158798</td>\n",
       "      <td>0.016877</td>\n",
       "      <td>0.025713</td>\n",
       "      <td>0.527252</td>\n",
       "      <td>0.951372</td>\n",
       "      <td>57.067709</td>\n",
       "      <td>54.042178</td>\n",
       "      <td>139.847971</td>\n",
       "      <td>151.503868</td>\n",
       "      <td>160.715483</td>\n",
       "      <td>176.399796</td>\n",
       "    </tr>\n",
       "    <tr>\n",
       "      <th>5275</th>\n",
       "      <td>0.679097</td>\n",
       "      <td>0.044634</td>\n",
       "      <td>0.053040</td>\n",
       "      <td>0.866663</td>\n",
       "      <td>0.943639</td>\n",
       "      <td>92.181199</td>\n",
       "      <td>90.188444</td>\n",
       "      <td>147.611547</td>\n",
       "      <td>151.510124</td>\n",
       "      <td>188.811122</td>\n",
       "      <td>198.258603</td>\n",
       "    </tr>\n",
       "    <tr>\n",
       "      <th>4015</th>\n",
       "      <td>0.600337</td>\n",
       "      <td>0.096738</td>\n",
       "      <td>0.104527</td>\n",
       "      <td>0.674379</td>\n",
       "      <td>0.812383</td>\n",
       "      <td>6.020665</td>\n",
       "      <td>6.019212</td>\n",
       "      <td>149.988782</td>\n",
       "      <td>151.390075</td>\n",
       "      <td>186.879973</td>\n",
       "      <td>185.145701</td>\n",
       "    </tr>\n",
       "    <tr>\n",
       "      <th>2107</th>\n",
       "      <td>0.581695</td>\n",
       "      <td>0.087156</td>\n",
       "      <td>0.096889</td>\n",
       "      <td>0.702529</td>\n",
       "      <td>0.822261</td>\n",
       "      <td>3.306270</td>\n",
       "      <td>3.309817</td>\n",
       "      <td>151.064288</td>\n",
       "      <td>151.362422</td>\n",
       "      <td>174.833879</td>\n",
       "      <td>179.694104</td>\n",
       "    </tr>\n",
       "    <tr>\n",
       "      <th>2781</th>\n",
       "      <td>0.495592</td>\n",
       "      <td>0.097212</td>\n",
       "      <td>0.106778</td>\n",
       "      <td>0.701729</td>\n",
       "      <td>0.808338</td>\n",
       "      <td>19.827119</td>\n",
       "      <td>19.627998</td>\n",
       "      <td>149.448069</td>\n",
       "      <td>151.488004</td>\n",
       "      <td>181.706937</td>\n",
       "      <td>184.758338</td>\n",
       "    </tr>\n",
       "    <tr>\n",
       "      <th>3338</th>\n",
       "      <td>0.469054</td>\n",
       "      <td>0.071980</td>\n",
       "      <td>0.083537</td>\n",
       "      <td>0.773614</td>\n",
       "      <td>0.845498</td>\n",
       "      <td>9.047496</td>\n",
       "      <td>8.916927</td>\n",
       "      <td>149.689107</td>\n",
       "      <td>151.441196</td>\n",
       "      <td>172.093446</td>\n",
       "      <td>177.714938</td>\n",
       "    </tr>\n",
       "    <tr>\n",
       "      <th>34</th>\n",
       "      <td>0.454219</td>\n",
       "      <td>0.096432</td>\n",
       "      <td>0.104738</td>\n",
       "      <td>0.714017</td>\n",
       "      <td>0.810415</td>\n",
       "      <td>17.462891</td>\n",
       "      <td>17.570545</td>\n",
       "      <td>149.176380</td>\n",
       "      <td>151.476921</td>\n",
       "      <td>190.587877</td>\n",
       "      <td>183.336679</td>\n",
       "    </tr>\n",
       "    <tr>\n",
       "      <th>672</th>\n",
       "      <td>0.266840</td>\n",
       "      <td>0.079356</td>\n",
       "      <td>0.090214</td>\n",
       "      <td>0.806693</td>\n",
       "      <td>0.841194</td>\n",
       "      <td>17.364095</td>\n",
       "      <td>17.053206</td>\n",
       "      <td>149.893103</td>\n",
       "      <td>151.480929</td>\n",
       "      <td>183.365399</td>\n",
       "      <td>188.151272</td>\n",
       "    </tr>\n",
       "    <tr>\n",
       "      <th>358</th>\n",
       "      <td>0.233240</td>\n",
       "      <td>0.906751</td>\n",
       "      <td>0.876462</td>\n",
       "      <td>3.792993</td>\n",
       "      <td>3.699038</td>\n",
       "      <td>1.286220</td>\n",
       "      <td>1.392040</td>\n",
       "      <td>143.521795</td>\n",
       "      <td>151.090379</td>\n",
       "      <td>335.515198</td>\n",
       "      <td>328.710485</td>\n",
       "    </tr>\n",
       "    <tr>\n",
       "      <th>5921</th>\n",
       "      <td>0.172161</td>\n",
       "      <td>0.311437</td>\n",
       "      <td>0.271939</td>\n",
       "      <td>0.524334</td>\n",
       "      <td>0.570495</td>\n",
       "      <td>15.395040</td>\n",
       "      <td>10.393353</td>\n",
       "      <td>151.427750</td>\n",
       "      <td>151.460622</td>\n",
       "      <td>176.508079</td>\n",
       "      <td>177.719708</td>\n",
       "    </tr>\n",
       "    <tr>\n",
       "      <th>1312</th>\n",
       "      <td>0.158704</td>\n",
       "      <td>0.083387</td>\n",
       "      <td>0.086997</td>\n",
       "      <td>0.869486</td>\n",
       "      <td>0.838990</td>\n",
       "      <td>25.487715</td>\n",
       "      <td>26.266201</td>\n",
       "      <td>329.935591</td>\n",
       "      <td>331.535763</td>\n",
       "      <td>0.562007</td>\n",
       "      <td>359.217574</td>\n",
       "    </tr>\n",
       "    <tr>\n",
       "      <th>357</th>\n",
       "      <td>0.134960</td>\n",
       "      <td>0.882823</td>\n",
       "      <td>0.901620</td>\n",
       "      <td>2.198686</td>\n",
       "      <td>2.238329</td>\n",
       "      <td>3.944012</td>\n",
       "      <td>0.860927</td>\n",
       "      <td>30.559969</td>\n",
       "      <td>150.834478</td>\n",
       "      <td>91.664614</td>\n",
       "      <td>330.747269</td>\n",
       "    </tr>\n",
       "    <tr>\n",
       "      <th>39</th>\n",
       "      <td>0.125947</td>\n",
       "      <td>0.092233</td>\n",
       "      <td>0.096634</td>\n",
       "      <td>0.861386</td>\n",
       "      <td>0.830245</td>\n",
       "      <td>140.569550</td>\n",
       "      <td>139.697335</td>\n",
       "      <td>150.233801</td>\n",
       "      <td>151.525180</td>\n",
       "      <td>187.089212</td>\n",
       "      <td>188.140509</td>\n",
       "    </tr>\n",
       "    <tr>\n",
       "      <th>356</th>\n",
       "      <td>0.109366</td>\n",
       "      <td>0.862002</td>\n",
       "      <td>0.910864</td>\n",
       "      <td>1.793005</td>\n",
       "      <td>1.857337</td>\n",
       "      <td>1.111827</td>\n",
       "      <td>0.629359</td>\n",
       "      <td>41.393969</td>\n",
       "      <td>150.588149</td>\n",
       "      <td>82.640693</td>\n",
       "      <td>331.675516</td>\n",
       "    </tr>\n",
       "    <tr>\n",
       "      <th>5011</th>\n",
       "      <td>0.102794</td>\n",
       "      <td>0.092968</td>\n",
       "      <td>0.097770</td>\n",
       "      <td>0.851138</td>\n",
       "      <td>0.823368</td>\n",
       "      <td>16.196579</td>\n",
       "      <td>16.698212</td>\n",
       "      <td>329.667705</td>\n",
       "      <td>331.556149</td>\n",
       "      <td>7.203331</td>\n",
       "      <td>4.732904</td>\n",
       "    </tr>\n",
       "    <tr>\n",
       "      <th>652</th>\n",
       "      <td>0.100214</td>\n",
       "      <td>0.075785</td>\n",
       "      <td>0.076240</td>\n",
       "      <td>0.875228</td>\n",
       "      <td>0.857758</td>\n",
       "      <td>23.704231</td>\n",
       "      <td>24.414269</td>\n",
       "      <td>330.495605</td>\n",
       "      <td>331.534380</td>\n",
       "      <td>358.007150</td>\n",
       "      <td>358.317519</td>\n",
       "    </tr>\n",
       "    <tr>\n",
       "      <th>2206</th>\n",
       "      <td>0.093836</td>\n",
       "      <td>0.347543</td>\n",
       "      <td>0.354934</td>\n",
       "      <td>0.563099</td>\n",
       "      <td>0.602998</td>\n",
       "      <td>9.023088</td>\n",
       "      <td>9.004126</td>\n",
       "      <td>330.416630</td>\n",
       "      <td>331.571041</td>\n",
       "      <td>46.398785</td>\n",
       "      <td>44.841368</td>\n",
       "    </tr>\n",
       "    <tr>\n",
       "      <th>1928</th>\n",
       "      <td>0.093638</td>\n",
       "      <td>0.342721</td>\n",
       "      <td>0.350331</td>\n",
       "      <td>0.568615</td>\n",
       "      <td>0.607939</td>\n",
       "      <td>9.078106</td>\n",
       "      <td>9.082669</td>\n",
       "      <td>150.810030</td>\n",
       "      <td>151.458317</td>\n",
       "      <td>226.017925</td>\n",
       "      <td>224.660048</td>\n",
       "    </tr>\n",
       "    <tr>\n",
       "      <th>3025</th>\n",
       "      <td>0.090006</td>\n",
       "      <td>0.942876</td>\n",
       "      <td>0.949385</td>\n",
       "      <td>4.353045</td>\n",
       "      <td>4.386712</td>\n",
       "      <td>1.894642</td>\n",
       "      <td>1.971259</td>\n",
       "      <td>145.508140</td>\n",
       "      <td>151.180681</td>\n",
       "      <td>347.194717</td>\n",
       "      <td>341.394514</td>\n",
       "    </tr>\n",
       "    <tr>\n",
       "      <th>3260</th>\n",
       "      <td>0.082346</td>\n",
       "      <td>0.178449</td>\n",
       "      <td>0.180002</td>\n",
       "      <td>0.696934</td>\n",
       "      <td>0.693150</td>\n",
       "      <td>40.247983</td>\n",
       "      <td>40.100672</td>\n",
       "      <td>331.358065</td>\n",
       "      <td>331.527321</td>\n",
       "      <td>0.212849</td>\n",
       "      <td>359.887835</td>\n",
       "    </tr>\n",
       "    <tr>\n",
       "      <th>2724</th>\n",
       "      <td>0.082202</td>\n",
       "      <td>0.075242</td>\n",
       "      <td>0.075606</td>\n",
       "      <td>0.872784</td>\n",
       "      <td>0.858813</td>\n",
       "      <td>34.112942</td>\n",
       "      <td>35.015826</td>\n",
       "      <td>330.640604</td>\n",
       "      <td>331.525756</td>\n",
       "      <td>357.993453</td>\n",
       "      <td>358.431959</td>\n",
       "    </tr>\n",
       "    <tr>\n",
       "      <th>2102</th>\n",
       "      <td>0.081354</td>\n",
       "      <td>0.199577</td>\n",
       "      <td>0.199959</td>\n",
       "      <td>0.666609</td>\n",
       "      <td>0.664827</td>\n",
       "      <td>1.947281</td>\n",
       "      <td>1.937409</td>\n",
       "      <td>331.612165</td>\n",
       "      <td>331.767071</td>\n",
       "      <td>0.136244</td>\n",
       "      <td>359.859280</td>\n",
       "    </tr>\n",
       "    <tr>\n",
       "      <th>5186</th>\n",
       "      <td>0.080412</td>\n",
       "      <td>0.322835</td>\n",
       "      <td>0.334343</td>\n",
       "      <td>0.505852</td>\n",
       "      <td>0.534463</td>\n",
       "      <td>9.237570</td>\n",
       "      <td>9.246249</td>\n",
       "      <td>330.253400</td>\n",
       "      <td>331.591487</td>\n",
       "      <td>335.334049</td>\n",
       "      <td>334.688594</td>\n",
       "    </tr>\n",
       "    <tr>\n",
       "      <th>1297</th>\n",
       "      <td>0.079468</td>\n",
       "      <td>0.567358</td>\n",
       "      <td>0.578792</td>\n",
       "      <td>0.248274</td>\n",
       "      <td>0.263644</td>\n",
       "      <td>5.180384</td>\n",
       "      <td>5.248334</td>\n",
       "      <td>330.807892</td>\n",
       "      <td>331.708485</td>\n",
       "      <td>358.256541</td>\n",
       "      <td>0.711015</td>\n",
       "    </tr>\n",
       "    <tr>\n",
       "      <th>1929</th>\n",
       "      <td>0.079297</td>\n",
       "      <td>0.320254</td>\n",
       "      <td>0.327781</td>\n",
       "      <td>0.609795</td>\n",
       "      <td>0.640866</td>\n",
       "      <td>10.969150</td>\n",
       "      <td>10.939590</td>\n",
       "      <td>150.930024</td>\n",
       "      <td>151.466845</td>\n",
       "      <td>222.397351</td>\n",
       "      <td>224.370657</td>\n",
       "    </tr>\n",
       "    <tr>\n",
       "      <th>3975</th>\n",
       "      <td>0.078998</td>\n",
       "      <td>0.561116</td>\n",
       "      <td>0.576687</td>\n",
       "      <td>0.253135</td>\n",
       "      <td>0.265409</td>\n",
       "      <td>35.864326</td>\n",
       "      <td>35.809651</td>\n",
       "      <td>330.767845</td>\n",
       "      <td>331.531644</td>\n",
       "      <td>359.804974</td>\n",
       "      <td>1.772152</td>\n",
       "    </tr>\n",
       "    <tr>\n",
       "      <th>3976</th>\n",
       "      <td>0.076653</td>\n",
       "      <td>0.568919</td>\n",
       "      <td>0.585824</td>\n",
       "      <td>0.249365</td>\n",
       "      <td>0.258016</td>\n",
       "      <td>38.693227</td>\n",
       "      <td>38.600581</td>\n",
       "      <td>330.806401</td>\n",
       "      <td>331.529333</td>\n",
       "      <td>357.899308</td>\n",
       "      <td>0.682786</td>\n",
       "    </tr>\n",
       "    <tr>\n",
       "      <th>5656</th>\n",
       "      <td>0.076426</td>\n",
       "      <td>0.449481</td>\n",
       "      <td>0.452599</td>\n",
       "      <td>0.385733</td>\n",
       "      <td>0.373935</td>\n",
       "      <td>4.441229</td>\n",
       "      <td>4.545414</td>\n",
       "      <td>331.067680</td>\n",
       "      <td>331.745555</td>\n",
       "      <td>359.426634</td>\n",
       "      <td>0.135124</td>\n",
       "    </tr>\n",
       "    <tr>\n",
       "      <th>355</th>\n",
       "      <td>0.076004</td>\n",
       "      <td>0.875455</td>\n",
       "      <td>0.917184</td>\n",
       "      <td>1.586030</td>\n",
       "      <td>1.631153</td>\n",
       "      <td>0.495192</td>\n",
       "      <td>0.457215</td>\n",
       "      <td>53.091839</td>\n",
       "      <td>150.243540</td>\n",
       "      <td>71.229676</td>\n",
       "      <td>332.502510</td>\n",
       "    </tr>\n",
       "    <tr>\n",
       "      <th>5895</th>\n",
       "      <td>0.074465</td>\n",
       "      <td>0.493889</td>\n",
       "      <td>0.503905</td>\n",
       "      <td>0.324334</td>\n",
       "      <td>0.326917</td>\n",
       "      <td>4.824731</td>\n",
       "      <td>4.920179</td>\n",
       "      <td>330.611792</td>\n",
       "      <td>331.699437</td>\n",
       "      <td>1.723070</td>\n",
       "      <td>358.666457</td>\n",
       "    </tr>\n",
       "    <tr>\n",
       "      <th>...</th>\n",
       "      <td>...</td>\n",
       "      <td>...</td>\n",
       "      <td>...</td>\n",
       "      <td>...</td>\n",
       "      <td>...</td>\n",
       "      <td>...</td>\n",
       "      <td>...</td>\n",
       "      <td>...</td>\n",
       "      <td>...</td>\n",
       "      <td>...</td>\n",
       "      <td>...</td>\n",
       "    </tr>\n",
       "    <tr>\n",
       "      <th>2649</th>\n",
       "      <td>0.054268</td>\n",
       "      <td>0.981046</td>\n",
       "      <td>0.993202</td>\n",
       "      <td>0.310108</td>\n",
       "      <td>0.317862</td>\n",
       "      <td>8.512912</td>\n",
       "      <td>8.587112</td>\n",
       "      <td>151.230610</td>\n",
       "      <td>151.509840</td>\n",
       "      <td>0.595825</td>\n",
       "      <td>359.965872</td>\n",
       "    </tr>\n",
       "    <tr>\n",
       "      <th>1924</th>\n",
       "      <td>0.053767</td>\n",
       "      <td>0.422465</td>\n",
       "      <td>0.432188</td>\n",
       "      <td>0.477378</td>\n",
       "      <td>0.499955</td>\n",
       "      <td>3.969459</td>\n",
       "      <td>3.981522</td>\n",
       "      <td>151.122130</td>\n",
       "      <td>151.394916</td>\n",
       "      <td>227.884906</td>\n",
       "      <td>226.121606</td>\n",
       "    </tr>\n",
       "    <tr>\n",
       "      <th>2198</th>\n",
       "      <td>0.053639</td>\n",
       "      <td>0.520324</td>\n",
       "      <td>0.528762</td>\n",
       "      <td>0.354890</td>\n",
       "      <td>0.380979</td>\n",
       "      <td>7.423122</td>\n",
       "      <td>7.424624</td>\n",
       "      <td>330.705494</td>\n",
       "      <td>331.591104</td>\n",
       "      <td>46.184419</td>\n",
       "      <td>45.908746</td>\n",
       "    </tr>\n",
       "    <tr>\n",
       "      <th>387</th>\n",
       "      <td>0.053379</td>\n",
       "      <td>0.990145</td>\n",
       "      <td>0.993079</td>\n",
       "      <td>1.003664</td>\n",
       "      <td>1.015516</td>\n",
       "      <td>6.399821</td>\n",
       "      <td>6.385336</td>\n",
       "      <td>151.510609</td>\n",
       "      <td>151.426914</td>\n",
       "      <td>359.236747</td>\n",
       "      <td>359.095191</td>\n",
       "    </tr>\n",
       "    <tr>\n",
       "      <th>3098</th>\n",
       "      <td>0.053103</td>\n",
       "      <td>0.894959</td>\n",
       "      <td>0.906523</td>\n",
       "      <td>1.002749</td>\n",
       "      <td>1.013799</td>\n",
       "      <td>12.312926</td>\n",
       "      <td>12.267098</td>\n",
       "      <td>151.276589</td>\n",
       "      <td>151.459893</td>\n",
       "      <td>326.493486</td>\n",
       "      <td>325.819498</td>\n",
       "    </tr>\n",
       "    <tr>\n",
       "      <th>1116</th>\n",
       "      <td>0.053094</td>\n",
       "      <td>0.799289</td>\n",
       "      <td>0.804580</td>\n",
       "      <td>3.083000</td>\n",
       "      <td>3.106129</td>\n",
       "      <td>10.531340</td>\n",
       "      <td>10.457325</td>\n",
       "      <td>151.643016</td>\n",
       "      <td>151.453255</td>\n",
       "      <td>318.572593</td>\n",
       "      <td>318.562330</td>\n",
       "    </tr>\n",
       "    <tr>\n",
       "      <th>349</th>\n",
       "      <td>0.053026</td>\n",
       "      <td>0.924868</td>\n",
       "      <td>0.939803</td>\n",
       "      <td>0.981988</td>\n",
       "      <td>0.993298</td>\n",
       "      <td>0.291907</td>\n",
       "      <td>0.264297</td>\n",
       "      <td>333.627064</td>\n",
       "      <td>333.681972</td>\n",
       "      <td>151.642049</td>\n",
       "      <td>150.982904</td>\n",
       "    </tr>\n",
       "    <tr>\n",
       "      <th>268</th>\n",
       "      <td>0.052920</td>\n",
       "      <td>0.470720</td>\n",
       "      <td>0.480352</td>\n",
       "      <td>0.414210</td>\n",
       "      <td>0.438001</td>\n",
       "      <td>11.215151</td>\n",
       "      <td>11.242648</td>\n",
       "      <td>150.876356</td>\n",
       "      <td>151.465512</td>\n",
       "      <td>227.596347</td>\n",
       "      <td>226.009231</td>\n",
       "    </tr>\n",
       "    <tr>\n",
       "      <th>2204</th>\n",
       "      <td>0.052804</td>\n",
       "      <td>0.390450</td>\n",
       "      <td>0.400423</td>\n",
       "      <td>0.519144</td>\n",
       "      <td>0.539794</td>\n",
       "      <td>8.414389</td>\n",
       "      <td>8.436903</td>\n",
       "      <td>330.425774</td>\n",
       "      <td>331.575969</td>\n",
       "      <td>48.141383</td>\n",
       "      <td>45.312619</td>\n",
       "    </tr>\n",
       "    <tr>\n",
       "      <th>2200</th>\n",
       "      <td>0.052760</td>\n",
       "      <td>0.475088</td>\n",
       "      <td>0.484524</td>\n",
       "      <td>0.408608</td>\n",
       "      <td>0.432537</td>\n",
       "      <td>7.702427</td>\n",
       "      <td>7.718057</td>\n",
       "      <td>330.592052</td>\n",
       "      <td>331.585152</td>\n",
       "      <td>47.769655</td>\n",
       "      <td>45.812493</td>\n",
       "    </tr>\n",
       "    <tr>\n",
       "      <th>2108</th>\n",
       "      <td>0.052627</td>\n",
       "      <td>0.079017</td>\n",
       "      <td>0.077741</td>\n",
       "      <td>0.862112</td>\n",
       "      <td>0.854849</td>\n",
       "      <td>5.280958</td>\n",
       "      <td>5.340174</td>\n",
       "      <td>151.070045</td>\n",
       "      <td>151.418795</td>\n",
       "      <td>178.575184</td>\n",
       "      <td>179.581646</td>\n",
       "    </tr>\n",
       "    <tr>\n",
       "      <th>1925</th>\n",
       "      <td>0.052400</td>\n",
       "      <td>0.402147</td>\n",
       "      <td>0.412086</td>\n",
       "      <td>0.504030</td>\n",
       "      <td>0.524982</td>\n",
       "      <td>5.030655</td>\n",
       "      <td>5.044987</td>\n",
       "      <td>151.011664</td>\n",
       "      <td>151.418662</td>\n",
       "      <td>227.760611</td>\n",
       "      <td>225.702527</td>\n",
       "    </tr>\n",
       "    <tr>\n",
       "      <th>4529</th>\n",
       "      <td>0.052281</td>\n",
       "      <td>0.980739</td>\n",
       "      <td>0.985659</td>\n",
       "      <td>0.981011</td>\n",
       "      <td>0.992850</td>\n",
       "      <td>11.598533</td>\n",
       "      <td>11.581035</td>\n",
       "      <td>151.400537</td>\n",
       "      <td>151.459465</td>\n",
       "      <td>10.475483</td>\n",
       "      <td>10.058474</td>\n",
       "    </tr>\n",
       "    <tr>\n",
       "      <th>2752</th>\n",
       "      <td>0.052255</td>\n",
       "      <td>0.423949</td>\n",
       "      <td>0.436718</td>\n",
       "      <td>0.389655</td>\n",
       "      <td>0.409087</td>\n",
       "      <td>10.022699</td>\n",
       "      <td>10.047601</td>\n",
       "      <td>330.491689</td>\n",
       "      <td>331.575073</td>\n",
       "      <td>338.062204</td>\n",
       "      <td>338.370961</td>\n",
       "    </tr>\n",
       "    <tr>\n",
       "      <th>5611</th>\n",
       "      <td>0.052232</td>\n",
       "      <td>0.985269</td>\n",
       "      <td>0.991056</td>\n",
       "      <td>0.984666</td>\n",
       "      <td>0.995809</td>\n",
       "      <td>29.811961</td>\n",
       "      <td>29.715788</td>\n",
       "      <td>331.386893</td>\n",
       "      <td>331.534154</td>\n",
       "      <td>175.062028</td>\n",
       "      <td>174.626348</td>\n",
       "    </tr>\n",
       "    <tr>\n",
       "      <th>3034</th>\n",
       "      <td>0.051980</td>\n",
       "      <td>0.987941</td>\n",
       "      <td>0.991845</td>\n",
       "      <td>1.007895</td>\n",
       "      <td>1.020083</td>\n",
       "      <td>6.549478</td>\n",
       "      <td>6.541080</td>\n",
       "      <td>151.426835</td>\n",
       "      <td>151.418392</td>\n",
       "      <td>4.497906</td>\n",
       "      <td>4.217484</td>\n",
       "    </tr>\n",
       "    <tr>\n",
       "      <th>4761</th>\n",
       "      <td>0.051836</td>\n",
       "      <td>0.976108</td>\n",
       "      <td>0.988848</td>\n",
       "      <td>0.673127</td>\n",
       "      <td>0.683369</td>\n",
       "      <td>0.027442</td>\n",
       "      <td>0.023544</td>\n",
       "      <td>340.291860</td>\n",
       "      <td>5.751726</td>\n",
       "      <td>163.462770</td>\n",
       "      <td>137.379558</td>\n",
       "    </tr>\n",
       "    <tr>\n",
       "      <th>3940</th>\n",
       "      <td>0.051731</td>\n",
       "      <td>0.895791</td>\n",
       "      <td>0.900876</td>\n",
       "      <td>1.003080</td>\n",
       "      <td>1.013199</td>\n",
       "      <td>38.149060</td>\n",
       "      <td>38.047920</td>\n",
       "      <td>331.365941</td>\n",
       "      <td>331.527795</td>\n",
       "      <td>215.913467</td>\n",
       "      <td>215.366340</td>\n",
       "    </tr>\n",
       "    <tr>\n",
       "      <th>5188</th>\n",
       "      <td>0.051726</td>\n",
       "      <td>0.290046</td>\n",
       "      <td>0.306066</td>\n",
       "      <td>0.566701</td>\n",
       "      <td>0.575355</td>\n",
       "      <td>11.257644</td>\n",
       "      <td>11.185506</td>\n",
       "      <td>330.433911</td>\n",
       "      <td>331.575780</td>\n",
       "      <td>331.941209</td>\n",
       "      <td>333.356265</td>\n",
       "    </tr>\n",
       "    <tr>\n",
       "      <th>2227</th>\n",
       "      <td>0.051680</td>\n",
       "      <td>0.841236</td>\n",
       "      <td>0.850581</td>\n",
       "      <td>1.006262</td>\n",
       "      <td>1.016503</td>\n",
       "      <td>14.245134</td>\n",
       "      <td>14.215559</td>\n",
       "      <td>331.151363</td>\n",
       "      <td>331.548666</td>\n",
       "      <td>136.411681</td>\n",
       "      <td>135.622599</td>\n",
       "    </tr>\n",
       "    <tr>\n",
       "      <th>1865</th>\n",
       "      <td>0.051329</td>\n",
       "      <td>0.947871</td>\n",
       "      <td>0.960982</td>\n",
       "      <td>0.986331</td>\n",
       "      <td>0.996751</td>\n",
       "      <td>12.710131</td>\n",
       "      <td>12.504807</td>\n",
       "      <td>151.891084</td>\n",
       "      <td>151.471899</td>\n",
       "      <td>339.366957</td>\n",
       "      <td>339.288331</td>\n",
       "    </tr>\n",
       "    <tr>\n",
       "      <th>4435</th>\n",
       "      <td>0.051139</td>\n",
       "      <td>0.950244</td>\n",
       "      <td>0.955666</td>\n",
       "      <td>1.006585</td>\n",
       "      <td>1.017692</td>\n",
       "      <td>23.025246</td>\n",
       "      <td>22.969681</td>\n",
       "      <td>331.379896</td>\n",
       "      <td>331.534837</td>\n",
       "      <td>202.838107</td>\n",
       "      <td>202.287647</td>\n",
       "    </tr>\n",
       "    <tr>\n",
       "      <th>436</th>\n",
       "      <td>0.050892</td>\n",
       "      <td>0.897889</td>\n",
       "      <td>0.903343</td>\n",
       "      <td>1.002463</td>\n",
       "      <td>1.012632</td>\n",
       "      <td>30.214753</td>\n",
       "      <td>30.146275</td>\n",
       "      <td>151.357707</td>\n",
       "      <td>151.492453</td>\n",
       "      <td>35.470890</td>\n",
       "      <td>34.908735</td>\n",
       "    </tr>\n",
       "    <tr>\n",
       "      <th>4287</th>\n",
       "      <td>0.050755</td>\n",
       "      <td>0.521479</td>\n",
       "      <td>0.531077</td>\n",
       "      <td>0.347793</td>\n",
       "      <td>0.371771</td>\n",
       "      <td>14.828816</td>\n",
       "      <td>14.841278</td>\n",
       "      <td>330.742533</td>\n",
       "      <td>331.572644</td>\n",
       "      <td>44.989893</td>\n",
       "      <td>44.155410</td>\n",
       "    </tr>\n",
       "    <tr>\n",
       "      <th>5783</th>\n",
       "      <td>0.050330</td>\n",
       "      <td>0.990057</td>\n",
       "      <td>0.993242</td>\n",
       "      <td>0.978366</td>\n",
       "      <td>0.990463</td>\n",
       "      <td>0.280720</td>\n",
       "      <td>0.268493</td>\n",
       "      <td>334.228098</td>\n",
       "      <td>333.885152</td>\n",
       "      <td>177.372167</td>\n",
       "      <td>177.474299</td>\n",
       "    </tr>\n",
       "    <tr>\n",
       "      <th>4286</th>\n",
       "      <td>0.050134</td>\n",
       "      <td>0.539753</td>\n",
       "      <td>0.548896</td>\n",
       "      <td>0.329090</td>\n",
       "      <td>0.353366</td>\n",
       "      <td>13.560921</td>\n",
       "      <td>13.563312</td>\n",
       "      <td>330.802442</td>\n",
       "      <td>331.579880</td>\n",
       "      <td>44.197945</td>\n",
       "      <td>44.439490</td>\n",
       "    </tr>\n",
       "    <tr>\n",
       "      <th>1732</th>\n",
       "      <td>0.050053</td>\n",
       "      <td>0.014672</td>\n",
       "      <td>0.016123</td>\n",
       "      <td>0.973220</td>\n",
       "      <td>0.969853</td>\n",
       "      <td>39.344050</td>\n",
       "      <td>37.587770</td>\n",
       "      <td>330.958506</td>\n",
       "      <td>331.525629</td>\n",
       "      <td>356.781812</td>\n",
       "      <td>356.461284</td>\n",
       "    </tr>\n",
       "    <tr>\n",
       "      <th>2201</th>\n",
       "      <td>0.050022</td>\n",
       "      <td>0.453544</td>\n",
       "      <td>0.463463</td>\n",
       "      <td>0.436693</td>\n",
       "      <td>0.458243</td>\n",
       "      <td>7.851018</td>\n",
       "      <td>7.871507</td>\n",
       "      <td>330.541678</td>\n",
       "      <td>331.582708</td>\n",
       "      <td>48.128800</td>\n",
       "      <td>45.728310</td>\n",
       "    </tr>\n",
       "    <tr>\n",
       "      <th>1772</th>\n",
       "      <td>0.049929</td>\n",
       "      <td>0.610743</td>\n",
       "      <td>0.615584</td>\n",
       "      <td>1.003361</td>\n",
       "      <td>1.009966</td>\n",
       "      <td>21.906627</td>\n",
       "      <td>21.957158</td>\n",
       "      <td>330.978549</td>\n",
       "      <td>331.537661</td>\n",
       "      <td>104.793522</td>\n",
       "      <td>104.059549</td>\n",
       "    </tr>\n",
       "    <tr>\n",
       "      <th>5183</th>\n",
       "      <td>0.049770</td>\n",
       "      <td>0.368177</td>\n",
       "      <td>0.378377</td>\n",
       "      <td>0.457758</td>\n",
       "      <td>0.475189</td>\n",
       "      <td>6.746282</td>\n",
       "      <td>6.799007</td>\n",
       "      <td>330.316264</td>\n",
       "      <td>331.624955</td>\n",
       "      <td>340.041678</td>\n",
       "      <td>337.081010</td>\n",
       "    </tr>\n",
       "  </tbody>\n",
       "</table>\n",
       "<p>100 rows × 11 columns</p>\n",
       "</div>"
      ],
      "text/plain": [
       "        DZpcon         q    q_pcon         e    e_pcon           i  \\\n",
       "1474  2.158798  0.016877  0.025713  0.527252  0.951372   57.067709   \n",
       "5275  0.679097  0.044634  0.053040  0.866663  0.943639   92.181199   \n",
       "4015  0.600337  0.096738  0.104527  0.674379  0.812383    6.020665   \n",
       "2107  0.581695  0.087156  0.096889  0.702529  0.822261    3.306270   \n",
       "2781  0.495592  0.097212  0.106778  0.701729  0.808338   19.827119   \n",
       "3338  0.469054  0.071980  0.083537  0.773614  0.845498    9.047496   \n",
       "34    0.454219  0.096432  0.104738  0.714017  0.810415   17.462891   \n",
       "672   0.266840  0.079356  0.090214  0.806693  0.841194   17.364095   \n",
       "358   0.233240  0.906751  0.876462  3.792993  3.699038    1.286220   \n",
       "5921  0.172161  0.311437  0.271939  0.524334  0.570495   15.395040   \n",
       "1312  0.158704  0.083387  0.086997  0.869486  0.838990   25.487715   \n",
       "357   0.134960  0.882823  0.901620  2.198686  2.238329    3.944012   \n",
       "39    0.125947  0.092233  0.096634  0.861386  0.830245  140.569550   \n",
       "356   0.109366  0.862002  0.910864  1.793005  1.857337    1.111827   \n",
       "5011  0.102794  0.092968  0.097770  0.851138  0.823368   16.196579   \n",
       "652   0.100214  0.075785  0.076240  0.875228  0.857758   23.704231   \n",
       "2206  0.093836  0.347543  0.354934  0.563099  0.602998    9.023088   \n",
       "1928  0.093638  0.342721  0.350331  0.568615  0.607939    9.078106   \n",
       "3025  0.090006  0.942876  0.949385  4.353045  4.386712    1.894642   \n",
       "3260  0.082346  0.178449  0.180002  0.696934  0.693150   40.247983   \n",
       "2724  0.082202  0.075242  0.075606  0.872784  0.858813   34.112942   \n",
       "2102  0.081354  0.199577  0.199959  0.666609  0.664827    1.947281   \n",
       "5186  0.080412  0.322835  0.334343  0.505852  0.534463    9.237570   \n",
       "1297  0.079468  0.567358  0.578792  0.248274  0.263644    5.180384   \n",
       "1929  0.079297  0.320254  0.327781  0.609795  0.640866   10.969150   \n",
       "3975  0.078998  0.561116  0.576687  0.253135  0.265409   35.864326   \n",
       "3976  0.076653  0.568919  0.585824  0.249365  0.258016   38.693227   \n",
       "5656  0.076426  0.449481  0.452599  0.385733  0.373935    4.441229   \n",
       "355   0.076004  0.875455  0.917184  1.586030  1.631153    0.495192   \n",
       "5895  0.074465  0.493889  0.503905  0.324334  0.326917    4.824731   \n",
       "...        ...       ...       ...       ...       ...         ...   \n",
       "2649  0.054268  0.981046  0.993202  0.310108  0.317862    8.512912   \n",
       "1924  0.053767  0.422465  0.432188  0.477378  0.499955    3.969459   \n",
       "2198  0.053639  0.520324  0.528762  0.354890  0.380979    7.423122   \n",
       "387   0.053379  0.990145  0.993079  1.003664  1.015516    6.399821   \n",
       "3098  0.053103  0.894959  0.906523  1.002749  1.013799   12.312926   \n",
       "1116  0.053094  0.799289  0.804580  3.083000  3.106129   10.531340   \n",
       "349   0.053026  0.924868  0.939803  0.981988  0.993298    0.291907   \n",
       "268   0.052920  0.470720  0.480352  0.414210  0.438001   11.215151   \n",
       "2204  0.052804  0.390450  0.400423  0.519144  0.539794    8.414389   \n",
       "2200  0.052760  0.475088  0.484524  0.408608  0.432537    7.702427   \n",
       "2108  0.052627  0.079017  0.077741  0.862112  0.854849    5.280958   \n",
       "1925  0.052400  0.402147  0.412086  0.504030  0.524982    5.030655   \n",
       "4529  0.052281  0.980739  0.985659  0.981011  0.992850   11.598533   \n",
       "2752  0.052255  0.423949  0.436718  0.389655  0.409087   10.022699   \n",
       "5611  0.052232  0.985269  0.991056  0.984666  0.995809   29.811961   \n",
       "3034  0.051980  0.987941  0.991845  1.007895  1.020083    6.549478   \n",
       "4761  0.051836  0.976108  0.988848  0.673127  0.683369    0.027442   \n",
       "3940  0.051731  0.895791  0.900876  1.003080  1.013199   38.149060   \n",
       "5188  0.051726  0.290046  0.306066  0.566701  0.575355   11.257644   \n",
       "2227  0.051680  0.841236  0.850581  1.006262  1.016503   14.245134   \n",
       "1865  0.051329  0.947871  0.960982  0.986331  0.996751   12.710131   \n",
       "4435  0.051139  0.950244  0.955666  1.006585  1.017692   23.025246   \n",
       "436   0.050892  0.897889  0.903343  1.002463  1.012632   30.214753   \n",
       "4287  0.050755  0.521479  0.531077  0.347793  0.371771   14.828816   \n",
       "5783  0.050330  0.990057  0.993242  0.978366  0.990463    0.280720   \n",
       "4286  0.050134  0.539753  0.548896  0.329090  0.353366   13.560921   \n",
       "1732  0.050053  0.014672  0.016123  0.973220  0.969853   39.344050   \n",
       "2201  0.050022  0.453544  0.463463  0.436693  0.458243    7.851018   \n",
       "1772  0.049929  0.610743  0.615584  1.003361  1.009966   21.906627   \n",
       "5183  0.049770  0.368177  0.378377  0.457758  0.475189    6.746282   \n",
       "\n",
       "          i_pcon       Omega      W_pcon       omega      w_pcon  \n",
       "1474   54.042178  139.847971  151.503868  160.715483  176.399796  \n",
       "5275   90.188444  147.611547  151.510124  188.811122  198.258603  \n",
       "4015    6.019212  149.988782  151.390075  186.879973  185.145701  \n",
       "2107    3.309817  151.064288  151.362422  174.833879  179.694104  \n",
       "2781   19.627998  149.448069  151.488004  181.706937  184.758338  \n",
       "3338    8.916927  149.689107  151.441196  172.093446  177.714938  \n",
       "34     17.570545  149.176380  151.476921  190.587877  183.336679  \n",
       "672    17.053206  149.893103  151.480929  183.365399  188.151272  \n",
       "358     1.392040  143.521795  151.090379  335.515198  328.710485  \n",
       "5921   10.393353  151.427750  151.460622  176.508079  177.719708  \n",
       "1312   26.266201  329.935591  331.535763    0.562007  359.217574  \n",
       "357     0.860927   30.559969  150.834478   91.664614  330.747269  \n",
       "39    139.697335  150.233801  151.525180  187.089212  188.140509  \n",
       "356     0.629359   41.393969  150.588149   82.640693  331.675516  \n",
       "5011   16.698212  329.667705  331.556149    7.203331    4.732904  \n",
       "652    24.414269  330.495605  331.534380  358.007150  358.317519  \n",
       "2206    9.004126  330.416630  331.571041   46.398785   44.841368  \n",
       "1928    9.082669  150.810030  151.458317  226.017925  224.660048  \n",
       "3025    1.971259  145.508140  151.180681  347.194717  341.394514  \n",
       "3260   40.100672  331.358065  331.527321    0.212849  359.887835  \n",
       "2724   35.015826  330.640604  331.525756  357.993453  358.431959  \n",
       "2102    1.937409  331.612165  331.767071    0.136244  359.859280  \n",
       "5186    9.246249  330.253400  331.591487  335.334049  334.688594  \n",
       "1297    5.248334  330.807892  331.708485  358.256541    0.711015  \n",
       "1929   10.939590  150.930024  151.466845  222.397351  224.370657  \n",
       "3975   35.809651  330.767845  331.531644  359.804974    1.772152  \n",
       "3976   38.600581  330.806401  331.529333  357.899308    0.682786  \n",
       "5656    4.545414  331.067680  331.745555  359.426634    0.135124  \n",
       "355     0.457215   53.091839  150.243540   71.229676  332.502510  \n",
       "5895    4.920179  330.611792  331.699437    1.723070  358.666457  \n",
       "...          ...         ...         ...         ...         ...  \n",
       "2649    8.587112  151.230610  151.509840    0.595825  359.965872  \n",
       "1924    3.981522  151.122130  151.394916  227.884906  226.121606  \n",
       "2198    7.424624  330.705494  331.591104   46.184419   45.908746  \n",
       "387     6.385336  151.510609  151.426914  359.236747  359.095191  \n",
       "3098   12.267098  151.276589  151.459893  326.493486  325.819498  \n",
       "1116   10.457325  151.643016  151.453255  318.572593  318.562330  \n",
       "349     0.264297  333.627064  333.681972  151.642049  150.982904  \n",
       "268    11.242648  150.876356  151.465512  227.596347  226.009231  \n",
       "2204    8.436903  330.425774  331.575969   48.141383   45.312619  \n",
       "2200    7.718057  330.592052  331.585152   47.769655   45.812493  \n",
       "2108    5.340174  151.070045  151.418795  178.575184  179.581646  \n",
       "1925    5.044987  151.011664  151.418662  227.760611  225.702527  \n",
       "4529   11.581035  151.400537  151.459465   10.475483   10.058474  \n",
       "2752   10.047601  330.491689  331.575073  338.062204  338.370961  \n",
       "5611   29.715788  331.386893  331.534154  175.062028  174.626348  \n",
       "3034    6.541080  151.426835  151.418392    4.497906    4.217484  \n",
       "4761    0.023544  340.291860    5.751726  163.462770  137.379558  \n",
       "3940   38.047920  331.365941  331.527795  215.913467  215.366340  \n",
       "5188   11.185506  330.433911  331.575780  331.941209  333.356265  \n",
       "2227   14.215559  331.151363  331.548666  136.411681  135.622599  \n",
       "1865   12.504807  151.891084  151.471899  339.366957  339.288331  \n",
       "4435   22.969681  331.379896  331.534837  202.838107  202.287647  \n",
       "436    30.146275  151.357707  151.492453   35.470890   34.908735  \n",
       "4287   14.841278  330.742533  331.572644   44.989893   44.155410  \n",
       "5783    0.268493  334.228098  333.885152  177.372167  177.474299  \n",
       "4286   13.563312  330.802442  331.579880   44.197945   44.439490  \n",
       "1732   37.587770  330.958506  331.525629  356.781812  356.461284  \n",
       "2201    7.871507  330.541678  331.582708   48.128800   45.728310  \n",
       "1772   21.957158  330.978549  331.537661  104.793522  104.059549  \n",
       "5183    6.799007  330.316264  331.624955  340.041678  337.081010  \n",
       "\n",
       "[100 rows x 11 columns]"
      ]
     },
     "execution_count": 154,
     "metadata": {},
     "output_type": "execute_result"
    }
   ],
   "source": [
    "data.sort_values(by=\"DZpcon\",ascending=False)[[\"DZpcon\",\n",
    "                                               \"q\",\"q_pcon\",\"e\",\"e_pcon\",\"i\",\"i_pcon\",\n",
    "                                               \"Omega\",\"W_pcon\",\"omega\",\"w_pcon\"]].head(100)"
   ]
  },
  {
   "cell_type": "code",
   "execution_count": 75,
   "metadata": {},
   "outputs": [],
   "source": [
    "sort_data=data.sort_values(by=\"DZpcon\",ascending=False)[[\"DZpcon\",\n",
    "                                                         \"q\",\"q_pcon\",\"e\",\"e_pcon\",\"i\",\"i_pcon\",\n",
    "                                                         \"Omega\",\"W_pcon\",\"omega\",\"w_pcon\"]]"
   ]
  },
  {
   "cell_type": "code",
   "execution_count": 159,
   "metadata": {},
   "outputs": [
    {
     "data": {
      "text/plain": [
       "(5974, 16, 5680)"
      ]
     },
     "execution_count": 159,
     "metadata": {},
     "output_type": "execute_result"
    }
   ],
   "source": [
    "len(data),(data[\"DZpcon\"]>0.1).sum(),(data[\"DZsim\"]>0.1).sum()"
   ]
  },
  {
   "cell_type": "code",
   "execution_count": 94,
   "metadata": {},
   "outputs": [],
   "source": [
    "def zappalaDistance(E1,E2):\n",
    "    \"\"\"                                                                                                                                                                              \n",
    "    Zappala (1990), Nervorny & Vokrouhlicky (2006)                                                                                                                                   \n",
    "    am=(a+at)/2                                                                                                                                                                      \n",
    "    d2c=1/np.sqrt(am)*(ka*((at-a)/am)**2+ke*(et-e)**2+ki*(sinit-np.sin(i*DEG))**2+kO*(Omega-Ot)**2+kw*(omega-ot)**2)\n",
    "    Parameters:\n",
    "        E1: [q(UL),e,i(rad),W(rad),w(rad)]\n",
    "    \n",
    "    \"\"\"\n",
    "    ka=5./4\n",
    "    ke=ki=2\n",
    "    kw=kW=1e-4\n",
    "    #Elements\n",
    "    q1,e1,i1,W1,w1=E1[:5]\n",
    "    q2,e2,i2,W2,w2=E2[:5]\n",
    "    #Derived elements\n",
    "    sini1=np.sin(i1)\n",
    "    sini2=np.sin(i2)\n",
    "    a1=np.abs(q1/(1-e1))\n",
    "    a2=np.abs(q2/(1-e2))\n",
    "    am=(a1+a2)/2\n",
    "    anm=1/np.sqrt(np.abs(am))\n",
    "    varpi1=W1+w1\n",
    "    varpi2=W2+w2\n",
    "    \"\"\"\n",
    "    print(\"Reference:\",E1[:5])\n",
    "    print(\"Comparison:\",E2[:5])\n",
    "    print(f\"Derived reference: a={a1:g},sini={sini1:g},varpi={varpi1:g}\")\n",
    "    print(f\"Derived comparison: a={a2:g},sini={sini2:g},varpi={varpi2:g}\")\n",
    "    print(f\"Average: am={am:g},1/sqrt(am)={anm:g}\")\n",
    "    #\"\"\"\n",
    "    #Metric (Zuluaga & Sucerquia, 2018)\n",
    "    DZ=anm*(ka*(a1-am)**2/am**2+ke*(e1-e2)**2+ki*(sini1-sini2)**2+kW*(W1-W2)**2+kw*(varpi1-varpi2)**2)**0.5\n",
    "\n",
    "    return DZ"
   ]
  },
  {
   "cell_type": "code",
   "execution_count": 91,
   "metadata": {},
   "outputs": [
    {
     "name": "stdout",
     "output_type": "stream",
     "text": [
      "Reference: [  0.98586762   0.99349446   5.97355373 331.55818135 186.43354859]\n",
      "Comparison: [  0.99026818   1.00577883   5.95345928 331.62496599 186.04676179]\n",
      "Derived reference: a=151.543,sini=-0.304708,varpi=517.992\n",
      "Derived comparison: a=171.361,sini=-0.323784,varpi=517.672\n",
      "Average: am=161.452,1/sqrt(am)=0.0787006\n"
     ]
    },
    {
     "data": {
      "text/plain": [
       "0.005967290586121318"
      ]
     },
     "execution_count": 91,
     "metadata": {},
     "output_type": "execute_result"
    }
   ],
   "source": [
    "zappalaDistance(sort_data[[\"q\",\"e\",\"i\",\"Omega\",\"omega\"]].iloc[0].values,\n",
    "                sort_data[[\"q_pcon\",\"e_pcon\",\"i_pcon\",\"W_pcon\",\"w_pcon\"]].iloc[0].values)"
   ]
  },
  {
   "cell_type": "markdown",
   "metadata": {},
   "source": [
    "### Test Chelyabinsk"
   ]
  },
  {
   "cell_type": "code",
   "execution_count": 146,
   "metadata": {},
   "outputs": [
    {
     "name": "stdout",
     "output_type": "stream",
     "text": [
      "0.7800912010958441 0.6657384288180141 5.014260229541216 326.57335661766507 118.36851018829839\n"
     ]
    }
   ],
   "source": [
    "#Zuluaga & Ferrin (2013)\n",
    "et=spy.str2et(\"02/15/2013 03:20:34 UTC\")\n",
    "Esim,Epcon=rayOscelt(63.5,54.4,80.0,96.0,17.0,-19.0,et)\n",
    "Epcon[0]/=AU;Epcon[2:5]*=RAD\n",
    "q,e,i,W,w=Epcon[:5]\n",
    "print(q,e,i,W,w)"
   ]
  },
  {
   "cell_type": "code",
   "execution_count": 150,
   "metadata": {},
   "outputs": [
    {
     "name": "stdout",
     "output_type": "stream",
     "text": [
      "0.7442325002224244 0.589106931814524 4.300367832565317 326.57239205199164 109.645303527889\n"
     ]
    }
   ],
   "source": [
    "#CNEOS\n",
    "et=spy.str2et(\"02/15/2013 03:20:33 UTC\")\n",
    "Esim,Epcon=rayOscelt(61.1,54.8,23.3,99.9,15.9,-18.6,et)\n",
    "Epcon[0]/=AU;Epcon[2:5]*=RAD\n",
    "q,e,i,W,w=Epcon[:5]\n",
    "print(q,e,i,W,w)"
   ]
  },
  {
   "cell_type": "code",
   "execution_count": 169,
   "metadata": {},
   "outputs": [],
   "source": [
    "selcols=[\"h\",\"Az\",\n",
    "         \"DZpcon\",\"DZsim\",\n",
    "         \"q\",\"q_pcon\",\"q_sim\",\n",
    "         \"e\",\"e_pcon\",\"e_sim\",\n",
    "         \"i\",\"i_pcon\",\"i_sim\",\n",
    "         \"Omega\",\"W_pcon\",\"W_sim\",\n",
    "         \"omega\",\"w_pcon\",\"w_sim\"]\n",
    "np.savetxt(f\"{BDIR}/../grt-YearTest/grtcomp.data\",data[selcols].values)"
   ]
  },
  {
   "cell_type": "code",
   "execution_count": 167,
   "metadata": {},
   "outputs": [
    {
     "data": {
      "text/plain": [
       "Index(['N', 'ET', 'lat', 'lon', 'h', 'Az', 'vimp', 'xobs', 'yobs', 'zobs',\n",
       "       'vxobs', 'vyobs', 'vzobs', 'q', 'e', 'i', 'Omega', 'omega', 'M',\n",
       "       'qapex', 'DZpcon', 'DZsim', 'q_sim', 'q_pcon', 'e_sim', 'e_pcon',\n",
       "       'i_sim', 'i_pcon', 'W_sim', 'W_pcon', 'w_sim', 'w_pcon', 'M_sim',\n",
       "       'M_pcon'],\n",
       "      dtype='object')"
      ]
     },
     "execution_count": 167,
     "metadata": {},
     "output_type": "execute_result"
    }
   ],
   "source": [
    "data.columns"
   ]
  },
  {
   "cell_type": "markdown",
   "metadata": {},
   "source": [
    "### Save analysis"
   ]
  },
  {
   "cell_type": "code",
   "execution_count": 10,
   "metadata": {},
   "outputs": [],
   "source": [
    "tar=tarfile.open(f\"{BDIR}/../grt-YearTest.tgz\", \"r:*\")"
   ]
  },
  {
   "cell_type": "code",
   "execution_count": 26,
   "metadata": {},
   "outputs": [
    {
     "name": "stdout",
     "output_type": "stream",
     "text": [
      "Reading file 0...\n"
     ]
    },
    {
     "name": "stderr",
     "output_type": "stream",
     "text": [
      "100%|██████████| 1000/1000 [00:13<00:00, 72.74it/s]\n"
     ]
    },
    {
     "name": "stdout",
     "output_type": "stream",
     "text": [
      "\tSaving grtcomp-0000-ET0000000000.data...\n",
      "\tLarge distances: 7/1000\n",
      "\tDZ Statistics: (min,mean,std,max)=0.000135037,0.0104723,0.0220602,0.355166\n",
      "Reading file 1...\n"
     ]
    },
    {
     "name": "stderr",
     "output_type": "stream",
     "text": [
      "100%|██████████| 1000/1000 [00:13<00:00, 74.76it/s]\n"
     ]
    },
    {
     "name": "stdout",
     "output_type": "stream",
     "text": [
      "\tSaving grtcomp-0001-ET0000086400.data...\n",
      "\tLarge distances: 3/1000\n",
      "\tDZ Statistics: (min,mean,std,max)=0.000231969,0.0109362,0.0170917,0.292181\n",
      "Reading file 2...\n"
     ]
    },
    {
     "name": "stderr",
     "output_type": "stream",
     "text": [
      "100%|██████████| 1000/1000 [00:13<00:00, 72.40it/s]\n"
     ]
    },
    {
     "name": "stdout",
     "output_type": "stream",
     "text": [
      "\tSaving grtcomp-0002-ET0000172800.data...\n",
      "\tLarge distances: 5/1000\n",
      "\tDZ Statistics: (min,mean,std,max)=0.000219126,0.0114909,0.0284337,0.750846\n",
      "Reading file 3...\n"
     ]
    },
    {
     "name": "stderr",
     "output_type": "stream",
     "text": [
      "100%|██████████| 1000/1000 [00:14<00:00, 75.58it/s]\n"
     ]
    },
    {
     "name": "stdout",
     "output_type": "stream",
     "text": [
      "\tSaving grtcomp-0003-ET0000259200.data...\n",
      "\tLarge distances: 2/1000\n",
      "\tDZ Statistics: (min,mean,std,max)=0.000313804,0.0098146,0.012126,0.155946\n",
      "Reading file 4...\n"
     ]
    },
    {
     "name": "stderr",
     "output_type": "stream",
     "text": [
      "100%|██████████| 1000/1000 [00:13<00:00, 72.34it/s]\n"
     ]
    },
    {
     "name": "stdout",
     "output_type": "stream",
     "text": [
      "\tSaving grtcomp-0004-ET0000345600.data...\n",
      "\tLarge distances: 4/1000\n",
      "\tDZ Statistics: (min,mean,std,max)=7.39344e-05,0.0102749,0.014818,0.209482\n",
      "Reading file 5...\n"
     ]
    },
    {
     "name": "stderr",
     "output_type": "stream",
     "text": [
      "100%|██████████| 1000/1000 [00:13<00:00, 75.90it/s]\n"
     ]
    },
    {
     "name": "stdout",
     "output_type": "stream",
     "text": [
      "\tSaving grtcomp-0005-ET0000432000.data...\n",
      "\tLarge distances: 3/1000\n",
      "\tDZ Statistics: (min,mean,std,max)=0.000257952,0.0108104,0.0173314,0.371344\n",
      "Reading file 6...\n"
     ]
    },
    {
     "name": "stderr",
     "output_type": "stream",
     "text": [
      "100%|██████████| 1000/1000 [00:13<00:00, 71.95it/s]\n"
     ]
    },
    {
     "name": "stdout",
     "output_type": "stream",
     "text": [
      "\tSaving grtcomp-0006-ET0000518400.data...\n",
      "\tLarge distances: 3/1000\n",
      "\tDZ Statistics: (min,mean,std,max)=0.000204093,0.0118237,0.0452619,1.33738\n",
      "Reading file 7...\n"
     ]
    },
    {
     "name": "stderr",
     "output_type": "stream",
     "text": [
      "100%|██████████| 1000/1000 [00:14<00:00, 70.60it/s]\n"
     ]
    },
    {
     "name": "stdout",
     "output_type": "stream",
     "text": [
      "\tSaving grtcomp-0007-ET0000604800.data...\n",
      "\tLarge distances: 2/1000\n",
      "\tDZ Statistics: (min,mean,std,max)=5.81013e-05,0.0107324,0.0135361,0.198353\n",
      "Reading file 8...\n"
     ]
    },
    {
     "name": "stderr",
     "output_type": "stream",
     "text": [
      "100%|██████████| 1000/1000 [00:15<00:00, 65.23it/s]\n"
     ]
    },
    {
     "name": "stdout",
     "output_type": "stream",
     "text": [
      "\tSaving grtcomp-0008-ET0000691200.data...\n",
      "\tLarge distances: 2/1000\n",
      "\tDZ Statistics: (min,mean,std,max)=0.000167307,0.0104923,0.0131034,0.213162\n",
      "Reading file 9...\n"
     ]
    },
    {
     "name": "stderr",
     "output_type": "stream",
     "text": [
      "100%|██████████| 1000/1000 [00:13<00:00, 71.48it/s]\n"
     ]
    },
    {
     "name": "stdout",
     "output_type": "stream",
     "text": [
      "\tSaving grtcomp-0009-ET0000777600.data...\n",
      "\tLarge distances: 7/1000\n",
      "\tDZ Statistics: (min,mean,std,max)=0.000333551,0.0115361,0.0237509,0.443066\n",
      "Reading file 10...\n"
     ]
    },
    {
     "name": "stderr",
     "output_type": "stream",
     "text": [
      "100%|██████████| 1000/1000 [00:12<00:00, 78.91it/s]\n"
     ]
    },
    {
     "name": "stdout",
     "output_type": "stream",
     "text": [
      "\tSaving grtcomp-0010-ET0000864000.data...\n",
      "\tLarge distances: 3/1000\n",
      "\tDZ Statistics: (min,mean,std,max)=0.000188837,0.011016,0.0208179,0.553939\n",
      "Reading file 11...\n"
     ]
    },
    {
     "name": "stderr",
     "output_type": "stream",
     "text": [
      "100%|██████████| 1000/1000 [00:13<00:00, 75.10it/s]\n"
     ]
    },
    {
     "name": "stdout",
     "output_type": "stream",
     "text": [
      "\tSaving grtcomp-0011-ET0000950400.data...\n",
      "\tLarge distances: 3/1000\n",
      "\tDZ Statistics: (min,mean,std,max)=0.000233621,0.0114601,0.0257819,0.594527\n",
      "Reading file 12...\n"
     ]
    },
    {
     "name": "stderr",
     "output_type": "stream",
     "text": [
      "100%|██████████| 1000/1000 [00:13<00:00, 74.11it/s]\n"
     ]
    },
    {
     "name": "stdout",
     "output_type": "stream",
     "text": [
      "\tSaving grtcomp-0012-ET0001036800.data...\n",
      "\tLarge distances: 1/1000\n",
      "\tDZ Statistics: (min,mean,std,max)=0.00040139,0.0112668,0.0175434,0.439232\n",
      "Reading file 13...\n"
     ]
    },
    {
     "name": "stderr",
     "output_type": "stream",
     "text": [
      "100%|██████████| 1000/1000 [00:14<00:00, 71.38it/s]\n"
     ]
    },
    {
     "name": "stdout",
     "output_type": "stream",
     "text": [
      "\tSaving grtcomp-0013-ET0001123200.data...\n",
      "\tLarge distances: 2/1000\n",
      "\tDZ Statistics: (min,mean,std,max)=0.000139075,0.0121802,0.0161488,0.286197\n",
      "Reading file 14...\n"
     ]
    },
    {
     "name": "stderr",
     "output_type": "stream",
     "text": [
      "100%|██████████| 1000/1000 [00:13<00:00, 72.25it/s]\n"
     ]
    },
    {
     "name": "stdout",
     "output_type": "stream",
     "text": [
      "\tSaving grtcomp-0014-ET0001209600.data...\n",
      "\tLarge distances: 7/1000\n",
      "\tDZ Statistics: (min,mean,std,max)=0.00010859,0.0128515,0.0335721,0.920152\n",
      "Reading file 15...\n"
     ]
    },
    {
     "name": "stderr",
     "output_type": "stream",
     "text": [
      "100%|██████████| 1000/1000 [00:14<00:00, 68.97it/s]\n"
     ]
    },
    {
     "name": "stdout",
     "output_type": "stream",
     "text": [
      "\tSaving grtcomp-0015-ET0001296000.data...\n",
      "\tLarge distances: 6/1000\n",
      "\tDZ Statistics: (min,mean,std,max)=0.000326215,0.0126501,0.0271425,0.582202\n",
      "Reading file 16...\n"
     ]
    },
    {
     "name": "stderr",
     "output_type": "stream",
     "text": [
      "100%|██████████| 1000/1000 [00:14<00:00, 68.96it/s]\n"
     ]
    },
    {
     "name": "stdout",
     "output_type": "stream",
     "text": [
      "\tSaving grtcomp-0016-ET0001382400.data...\n",
      "\tLarge distances: 7/1000\n",
      "\tDZ Statistics: (min,mean,std,max)=0.000455518,0.0121546,0.0160598,0.229696\n",
      "Reading file 17...\n"
     ]
    },
    {
     "name": "stderr",
     "output_type": "stream",
     "text": [
      "100%|██████████| 1000/1000 [00:14<00:00, 68.18it/s]\n"
     ]
    },
    {
     "name": "stdout",
     "output_type": "stream",
     "text": [
      "\tSaving grtcomp-0017-ET0001468800.data...\n",
      "\tLarge distances: 3/1000\n",
      "\tDZ Statistics: (min,mean,std,max)=0.000333244,0.0118183,0.0128301,0.18258\n",
      "Reading file 18...\n"
     ]
    },
    {
     "name": "stderr",
     "output_type": "stream",
     "text": [
      "100%|██████████| 1000/1000 [00:13<00:00, 71.68it/s]\n"
     ]
    },
    {
     "name": "stdout",
     "output_type": "stream",
     "text": [
      "\tSaving grtcomp-0018-ET0001555200.data...\n",
      "\tLarge distances: 5/1000\n",
      "\tDZ Statistics: (min,mean,std,max)=0.000406802,0.0120851,0.0178502,0.324472\n",
      "Reading file 19...\n"
     ]
    },
    {
     "name": "stderr",
     "output_type": "stream",
     "text": [
      "100%|██████████| 1000/1000 [00:13<00:00, 74.92it/s]\n"
     ]
    },
    {
     "name": "stdout",
     "output_type": "stream",
     "text": [
      "\tSaving grtcomp-0019-ET0001641600.data...\n",
      "\tLarge distances: 4/1000\n",
      "\tDZ Statistics: (min,mean,std,max)=0.000245775,0.0124435,0.022865,0.449412\n",
      "Reading file 20...\n"
     ]
    },
    {
     "name": "stderr",
     "output_type": "stream",
     "text": [
      "100%|██████████| 1000/1000 [00:13<00:00, 77.93it/s]\n"
     ]
    },
    {
     "name": "stdout",
     "output_type": "stream",
     "text": [
      "\tSaving grtcomp-0020-ET0001728000.data...\n",
      "\tLarge distances: 4/1000\n",
      "\tDZ Statistics: (min,mean,std,max)=0.000528945,0.0123443,0.012362,0.142459\n",
      "Reading file 21...\n"
     ]
    },
    {
     "name": "stderr",
     "output_type": "stream",
     "text": [
      "100%|██████████| 1000/1000 [00:12<00:00, 77.63it/s]\n"
     ]
    },
    {
     "name": "stdout",
     "output_type": "stream",
     "text": [
      "\tSaving grtcomp-0021-ET0001814400.data...\n",
      "\tLarge distances: 9/1000\n",
      "\tDZ Statistics: (min,mean,std,max)=0.000756428,0.0134301,0.0201146,0.423703\n",
      "Reading file 22...\n"
     ]
    },
    {
     "name": "stderr",
     "output_type": "stream",
     "text": [
      "100%|██████████| 1000/1000 [00:13<00:00, 76.70it/s]\n"
     ]
    },
    {
     "name": "stdout",
     "output_type": "stream",
     "text": [
      "\tSaving grtcomp-0022-ET0001900800.data...\n",
      "\tLarge distances: 4/1000\n",
      "\tDZ Statistics: (min,mean,std,max)=0.00078511,0.0136323,0.0220638,0.535103\n",
      "Reading file 23...\n"
     ]
    },
    {
     "name": "stderr",
     "output_type": "stream",
     "text": [
      "100%|██████████| 1000/1000 [00:13<00:00, 75.26it/s]\n"
     ]
    },
    {
     "name": "stdout",
     "output_type": "stream",
     "text": [
      "\tSaving grtcomp-0023-ET0001987200.data...\n",
      "\tLarge distances: 2/1000\n",
      "\tDZ Statistics: (min,mean,std,max)=0.000528198,0.0124396,0.0131601,0.191999\n",
      "Reading file 24...\n"
     ]
    },
    {
     "name": "stderr",
     "output_type": "stream",
     "text": [
      "100%|██████████| 1000/1000 [00:14<00:00, 70.68it/s]\n"
     ]
    },
    {
     "name": "stdout",
     "output_type": "stream",
     "text": [
      "\tSaving grtcomp-0024-ET0002073600.data...\n",
      "\tLarge distances: 3/1000\n",
      "\tDZ Statistics: (min,mean,std,max)=0.00105225,0.0139817,0.0254809,0.581521\n",
      "Reading file 25...\n"
     ]
    },
    {
     "name": "stderr",
     "output_type": "stream",
     "text": [
      "100%|██████████| 1000/1000 [00:13<00:00, 75.82it/s]\n"
     ]
    },
    {
     "name": "stdout",
     "output_type": "stream",
     "text": [
      "\tSaving grtcomp-0025-ET0002160000.data...\n",
      "\tLarge distances: 4/1000\n",
      "\tDZ Statistics: (min,mean,std,max)=0.000900905,0.0123839,0.0124587,0.217268\n",
      "Reading file 26...\n"
     ]
    },
    {
     "name": "stderr",
     "output_type": "stream",
     "text": [
      "100%|██████████| 1000/1000 [00:13<00:00, 75.35it/s]\n"
     ]
    },
    {
     "name": "stdout",
     "output_type": "stream",
     "text": [
      "\tSaving grtcomp-0026-ET0002246400.data...\n",
      "\tLarge distances: 6/1000\n",
      "\tDZ Statistics: (min,mean,std,max)=0.000247661,0.0134726,0.0205829,0.486811\n",
      "Reading file 27...\n"
     ]
    },
    {
     "name": "stderr",
     "output_type": "stream",
     "text": [
      "100%|██████████| 1000/1000 [00:13<00:00, 74.47it/s]\n"
     ]
    },
    {
     "name": "stdout",
     "output_type": "stream",
     "text": [
      "\tSaving grtcomp-0027-ET0002332800.data...\n",
      "\tLarge distances: 5/1000\n",
      "\tDZ Statistics: (min,mean,std,max)=0.000321695,0.0137167,0.016691,0.3071\n",
      "Reading file 28...\n"
     ]
    },
    {
     "name": "stderr",
     "output_type": "stream",
     "text": [
      "100%|██████████| 1000/1000 [00:12<00:00, 77.86it/s]\n"
     ]
    },
    {
     "name": "stdout",
     "output_type": "stream",
     "text": [
      "\tSaving grtcomp-0028-ET0002419200.data...\n",
      "\tLarge distances: 3/1000\n",
      "\tDZ Statistics: (min,mean,std,max)=0.000865587,0.0132594,0.0138006,0.266463\n",
      "Reading file 29...\n"
     ]
    },
    {
     "name": "stderr",
     "output_type": "stream",
     "text": [
      "100%|██████████| 1000/1000 [00:12<00:00, 81.64it/s]\n"
     ]
    },
    {
     "name": "stdout",
     "output_type": "stream",
     "text": [
      "\tSaving grtcomp-0029-ET0002505600.data...\n",
      "\tLarge distances: 3/1000\n",
      "\tDZ Statistics: (min,mean,std,max)=0.000551647,0.0131858,0.0119691,0.153021\n",
      "Reading file 30...\n"
     ]
    },
    {
     "name": "stderr",
     "output_type": "stream",
     "text": [
      "100%|██████████| 1000/1000 [00:12<00:00, 82.67it/s]\n"
     ]
    },
    {
     "name": "stdout",
     "output_type": "stream",
     "text": [
      "\tSaving grtcomp-0030-ET0002592000.data...\n",
      "\tLarge distances: 4/1000\n",
      "\tDZ Statistics: (min,mean,std,max)=0.000645813,0.0131642,0.0124783,0.172967\n"
     ]
    },
    {
     "name": "stderr",
     "output_type": "stream",
     "text": [
      "\r",
      "  0%|          | 0/1000 [00:00<?, ?it/s]"
     ]
    },
    {
     "name": "stdout",
     "output_type": "stream",
     "text": [
      "Reading file 31...\n"
     ]
    },
    {
     "name": "stderr",
     "output_type": "stream",
     "text": [
      "100%|██████████| 1000/1000 [00:12<00:00, 81.81it/s]\n"
     ]
    },
    {
     "name": "stdout",
     "output_type": "stream",
     "text": [
      "\tSaving grtcomp-0031-ET0002678400.data...\n",
      "\tLarge distances: 3/1000\n",
      "\tDZ Statistics: (min,mean,std,max)=0.000864467,0.0141449,0.0189353,0.48686\n",
      "Reading file 32...\n"
     ]
    },
    {
     "name": "stderr",
     "output_type": "stream",
     "text": [
      "100%|██████████| 1000/1000 [00:12<00:00, 82.72it/s]\n"
     ]
    },
    {
     "name": "stdout",
     "output_type": "stream",
     "text": [
      "\tSaving grtcomp-0032-ET0002764800.data...\n",
      "\tLarge distances: 2/1000\n",
      "\tDZ Statistics: (min,mean,std,max)=0.000643821,0.013349,0.0106423,0.154875\n",
      "Reading file 33...\n"
     ]
    },
    {
     "name": "stderr",
     "output_type": "stream",
     "text": [
      "100%|██████████| 1000/1000 [00:12<00:00, 82.64it/s]\n"
     ]
    },
    {
     "name": "stdout",
     "output_type": "stream",
     "text": [
      "\tSaving grtcomp-0033-ET0002851200.data...\n",
      "\tLarge distances: 2/1000\n",
      "\tDZ Statistics: (min,mean,std,max)=0.000833513,0.0149263,0.0272391,0.588748\n",
      "Reading file 34...\n"
     ]
    },
    {
     "name": "stderr",
     "output_type": "stream",
     "text": [
      "100%|██████████| 1000/1000 [00:12<00:00, 81.70it/s]\n"
     ]
    },
    {
     "name": "stdout",
     "output_type": "stream",
     "text": [
      "\tSaving grtcomp-0034-ET0002937600.data...\n",
      "\tLarge distances: 1/1000\n",
      "\tDZ Statistics: (min,mean,std,max)=0.000654403,0.0138291,0.0114332,0.135665\n",
      "Reading file 35...\n"
     ]
    },
    {
     "name": "stderr",
     "output_type": "stream",
     "text": [
      "100%|██████████| 1000/1000 [00:12<00:00, 82.55it/s]\n"
     ]
    },
    {
     "name": "stdout",
     "output_type": "stream",
     "text": [
      "\tSaving grtcomp-0035-ET0003024000.data...\n",
      "\tLarge distances: 1/1000\n",
      "\tDZ Statistics: (min,mean,std,max)=0.00090858,0.0139473,0.0116831,0.15801\n",
      "Reading file 36...\n"
     ]
    },
    {
     "name": "stderr",
     "output_type": "stream",
     "text": [
      "100%|██████████| 1000/1000 [00:12<00:00, 81.64it/s]\n"
     ]
    },
    {
     "name": "stdout",
     "output_type": "stream",
     "text": [
      "\tSaving grtcomp-0036-ET0003110400.data...\n",
      "\tLarge distances: 4/1000\n",
      "\tDZ Statistics: (min,mean,std,max)=0.000648298,0.014762,0.0146625,0.223641\n",
      "Reading file 37...\n"
     ]
    },
    {
     "name": "stderr",
     "output_type": "stream",
     "text": [
      "100%|██████████| 1000/1000 [00:12<00:00, 81.93it/s]\n"
     ]
    },
    {
     "name": "stdout",
     "output_type": "stream",
     "text": [
      "\tSaving grtcomp-0037-ET0003196800.data...\n",
      "\tLarge distances: 2/1000\n",
      "\tDZ Statistics: (min,mean,std,max)=0.000548451,0.0149071,0.0230572,0.641238\n",
      "Reading file 38...\n"
     ]
    },
    {
     "name": "stderr",
     "output_type": "stream",
     "text": [
      "100%|██████████| 1000/1000 [00:12<00:00, 82.43it/s]\n"
     ]
    },
    {
     "name": "stdout",
     "output_type": "stream",
     "text": [
      "\tSaving grtcomp-0038-ET0003283200.data...\n",
      "\tLarge distances: 5/1000\n",
      "\tDZ Statistics: (min,mean,std,max)=0.000833431,0.0152758,0.0242664,0.655866\n",
      "Reading file 39...\n"
     ]
    },
    {
     "name": "stderr",
     "output_type": "stream",
     "text": [
      "100%|██████████| 1000/1000 [00:12<00:00, 81.70it/s]\n"
     ]
    },
    {
     "name": "stdout",
     "output_type": "stream",
     "text": [
      "\tSaving grtcomp-0039-ET0003369600.data...\n",
      "\tLarge distances: 6/1000\n",
      "\tDZ Statistics: (min,mean,std,max)=0.000755488,0.0148541,0.0164843,0.330812\n",
      "Reading file 40...\n"
     ]
    },
    {
     "name": "stderr",
     "output_type": "stream",
     "text": [
      "100%|██████████| 1000/1000 [00:12<00:00, 82.68it/s]\n"
     ]
    },
    {
     "name": "stdout",
     "output_type": "stream",
     "text": [
      "\tSaving grtcomp-0040-ET0003456000.data...\n",
      "\tLarge distances: 2/1000\n",
      "\tDZ Statistics: (min,mean,std,max)=0.0011453,0.0166404,0.0503579,1.5705\n",
      "Reading file 41...\n"
     ]
    },
    {
     "name": "stderr",
     "output_type": "stream",
     "text": [
      "100%|██████████| 1000/1000 [00:12<00:00, 82.52it/s]\n"
     ]
    },
    {
     "name": "stdout",
     "output_type": "stream",
     "text": [
      "\tSaving grtcomp-0041-ET0003542400.data...\n",
      "\tLarge distances: 7/1000\n",
      "\tDZ Statistics: (min,mean,std,max)=0.000625284,0.0179856,0.0502067,1.22205\n",
      "Reading file 42...\n"
     ]
    },
    {
     "name": "stderr",
     "output_type": "stream",
     "text": [
      "100%|██████████| 1000/1000 [00:12<00:00, 82.59it/s]\n"
     ]
    },
    {
     "name": "stdout",
     "output_type": "stream",
     "text": [
      "\tSaving grtcomp-0042-ET0003628800.data...\n",
      "\tLarge distances: 4/1000\n",
      "\tDZ Statistics: (min,mean,std,max)=0.000643499,0.0163195,0.031063,0.701963\n",
      "Reading file 43...\n"
     ]
    },
    {
     "name": "stderr",
     "output_type": "stream",
     "text": [
      "100%|██████████| 1000/1000 [00:11<00:00, 83.79it/s]\n"
     ]
    },
    {
     "name": "stdout",
     "output_type": "stream",
     "text": [
      "\tSaving grtcomp-0043-ET0003715200.data...\n",
      "\tLarge distances: 2/1000\n",
      "\tDZ Statistics: (min,mean,std,max)=0.000870882,0.0153865,0.0156545,0.391173\n",
      "Reading file 44...\n"
     ]
    },
    {
     "name": "stderr",
     "output_type": "stream",
     "text": [
      "100%|██████████| 1000/1000 [00:12<00:00, 83.24it/s]\n"
     ]
    },
    {
     "name": "stdout",
     "output_type": "stream",
     "text": [
      "\tSaving grtcomp-0044-ET0003801600.data...\n",
      "\tLarge distances: 2/1000\n",
      "\tDZ Statistics: (min,mean,std,max)=0.000926931,0.0158002,0.0223952,0.637875\n",
      "Reading file 45...\n"
     ]
    },
    {
     "name": "stderr",
     "output_type": "stream",
     "text": [
      "100%|██████████| 1000/1000 [00:13<00:00, 76.25it/s]\n"
     ]
    },
    {
     "name": "stdout",
     "output_type": "stream",
     "text": [
      "\tSaving grtcomp-0045-ET0003888000.data...\n",
      "\tLarge distances: 3/1000\n",
      "\tDZ Statistics: (min,mean,std,max)=0.00137685,0.0161157,0.0228281,0.542024\n",
      "Reading file 46...\n"
     ]
    },
    {
     "name": "stderr",
     "output_type": "stream",
     "text": [
      "100%|██████████| 1000/1000 [00:12<00:00, 77.07it/s]\n"
     ]
    },
    {
     "name": "stdout",
     "output_type": "stream",
     "text": [
      "\tSaving grtcomp-0046-ET0003974400.data...\n",
      "\tLarge distances: 2/1000\n",
      "\tDZ Statistics: (min,mean,std,max)=0.00114344,0.0155019,0.0200659,0.565607\n",
      "Reading file 47...\n"
     ]
    },
    {
     "name": "stderr",
     "output_type": "stream",
     "text": [
      "100%|██████████| 1000/1000 [00:14<00:00, 70.51it/s]\n"
     ]
    },
    {
     "name": "stdout",
     "output_type": "stream",
     "text": [
      "\tSaving grtcomp-0047-ET0004060800.data...\n",
      "\tLarge distances: 1/1000\n",
      "\tDZ Statistics: (min,mean,std,max)=0.00111404,0.0162909,0.0205124,0.579296\n",
      "Reading file 48...\n"
     ]
    },
    {
     "name": "stderr",
     "output_type": "stream",
     "text": [
      "100%|██████████| 1000/1000 [00:12<00:00, 78.70it/s]\n"
     ]
    },
    {
     "name": "stdout",
     "output_type": "stream",
     "text": [
      "\tSaving grtcomp-0048-ET0004147200.data...\n",
      "\tLarge distances: 2/1000\n",
      "\tDZ Statistics: (min,mean,std,max)=0.0011422,0.0161924,0.0203781,0.571256\n",
      "Reading file 49...\n"
     ]
    },
    {
     "name": "stderr",
     "output_type": "stream",
     "text": [
      "100%|██████████| 1000/1000 [00:12<00:00, 81.20it/s]\n"
     ]
    },
    {
     "name": "stdout",
     "output_type": "stream",
     "text": [
      "\tSaving grtcomp-0049-ET0004233600.data...\n",
      "\tLarge distances: 2/1000\n",
      "\tDZ Statistics: (min,mean,std,max)=0.00109662,0.0164682,0.0194953,0.523699\n"
     ]
    },
    {
     "name": "stderr",
     "output_type": "stream",
     "text": [
      "\r",
      "  0%|          | 0/1000 [00:00<?, ?it/s]"
     ]
    },
    {
     "name": "stdout",
     "output_type": "stream",
     "text": [
      "Reading file 50...\n"
     ]
    },
    {
     "name": "stderr",
     "output_type": "stream",
     "text": [
      "100%|██████████| 1000/1000 [00:12<00:00, 82.43it/s]\n"
     ]
    },
    {
     "name": "stdout",
     "output_type": "stream",
     "text": [
      "\tSaving grtcomp-0050-ET0004320000.data...\n",
      "\tLarge distances: 3/1000\n",
      "\tDZ Statistics: (min,mean,std,max)=0.00131802,0.0163939,0.021586,0.600337\n",
      "Reading file 51...\n"
     ]
    },
    {
     "name": "stderr",
     "output_type": "stream",
     "text": [
      "100%|██████████| 1000/1000 [00:12<00:00, 83.02it/s]\n"
     ]
    },
    {
     "name": "stdout",
     "output_type": "stream",
     "text": [
      "\tSaving grtcomp-0051-ET0004406400.data...\n",
      "\tLarge distances: 3/1000\n",
      "\tDZ Statistics: (min,mean,std,max)=0.00138748,0.0167819,0.0165434,0.409865\n",
      "Reading file 52...\n"
     ]
    },
    {
     "name": "stderr",
     "output_type": "stream",
     "text": [
      "100%|██████████| 1000/1000 [00:12<00:00, 82.29it/s]\n"
     ]
    },
    {
     "name": "stdout",
     "output_type": "stream",
     "text": [
      "\tSaving grtcomp-0052-ET0004492800.data...\n",
      "\tLarge distances: 1/1000\n",
      "\tDZ Statistics: (min,mean,std,max)=0.00125847,0.0166149,0.0110298,0.122595\n"
     ]
    },
    {
     "name": "stderr",
     "output_type": "stream",
     "text": [
      "\r",
      "  0%|          | 0/1000 [00:00<?, ?it/s]"
     ]
    },
    {
     "name": "stdout",
     "output_type": "stream",
     "text": [
      "Reading file 53...\n"
     ]
    },
    {
     "name": "stderr",
     "output_type": "stream",
     "text": [
      "100%|██████████| 1000/1000 [00:12<00:00, 81.90it/s]\n"
     ]
    },
    {
     "name": "stdout",
     "output_type": "stream",
     "text": [
      "\tSaving grtcomp-0053-ET0004579200.data...\n",
      "\tLarge distances: 1/1000\n",
      "\tDZ Statistics: (min,mean,std,max)=0.00112979,0.0160186,0.0101504,0.112339\n"
     ]
    },
    {
     "name": "stderr",
     "output_type": "stream",
     "text": [
      "\r",
      "  0%|          | 0/1000 [00:00<?, ?it/s]"
     ]
    },
    {
     "name": "stdout",
     "output_type": "stream",
     "text": [
      "Reading file 54...\n"
     ]
    },
    {
     "name": "stderr",
     "output_type": "stream",
     "text": [
      "100%|██████████| 1000/1000 [00:12<00:00, 82.27it/s]\n"
     ]
    },
    {
     "name": "stdout",
     "output_type": "stream",
     "text": [
      "\tSaving grtcomp-0054-ET0004665600.data...\n",
      "\tLarge distances: 3/1000\n",
      "\tDZ Statistics: (min,mean,std,max)=0.00142683,0.0170631,0.0169445,0.318944\n",
      "Reading file 55...\n"
     ]
    },
    {
     "name": "stderr",
     "output_type": "stream",
     "text": [
      "100%|██████████| 1000/1000 [00:12<00:00, 82.01it/s]\n"
     ]
    },
    {
     "name": "stdout",
     "output_type": "stream",
     "text": [
      "\tSaving grtcomp-0055-ET0004752000.data...\n",
      "\tLarge distances: 2/1000\n",
      "\tDZ Statistics: (min,mean,std,max)=0.000777042,0.0168771,0.020958,0.59449\n",
      "Reading file 56...\n"
     ]
    },
    {
     "name": "stderr",
     "output_type": "stream",
     "text": [
      "100%|██████████| 1000/1000 [00:12<00:00, 81.82it/s]\n"
     ]
    },
    {
     "name": "stdout",
     "output_type": "stream",
     "text": [
      "\tSaving grtcomp-0056-ET0004838400.data...\n",
      "\tLarge distances: 5/1000\n",
      "\tDZ Statistics: (min,mean,std,max)=0.000909133,0.0182753,0.019491,0.344772\n",
      "Reading file 57...\n"
     ]
    },
    {
     "name": "stderr",
     "output_type": "stream",
     "text": [
      "100%|██████████| 1000/1000 [00:12<00:00, 82.01it/s]\n"
     ]
    },
    {
     "name": "stdout",
     "output_type": "stream",
     "text": [
      "\tSaving grtcomp-0057-ET0004924800.data...\n",
      "\tLarge distances: 2/1000\n",
      "\tDZ Statistics: (min,mean,std,max)=0.000899839,0.0165094,0.0114399,0.185706\n",
      "Reading file 58...\n"
     ]
    },
    {
     "name": "stderr",
     "output_type": "stream",
     "text": [
      "100%|██████████| 1000/1000 [00:12<00:00, 83.06it/s]\n"
     ]
    },
    {
     "name": "stdout",
     "output_type": "stream",
     "text": [
      "\tSaving grtcomp-0058-ET0005011200.data...\n",
      "\tLarge distances: 2/1000\n",
      "\tDZ Statistics: (min,mean,std,max)=0.000826503,0.0171278,0.0203447,0.540904\n"
     ]
    },
    {
     "name": "stderr",
     "output_type": "stream",
     "text": [
      "\r",
      "  0%|          | 0/1000 [00:00<?, ?it/s]"
     ]
    },
    {
     "name": "stdout",
     "output_type": "stream",
     "text": [
      "Reading file 59...\n"
     ]
    },
    {
     "name": "stderr",
     "output_type": "stream",
     "text": [
      "100%|██████████| 1000/1000 [00:12<00:00, 82.58it/s]\n"
     ]
    },
    {
     "name": "stdout",
     "output_type": "stream",
     "text": [
      "\tSaving grtcomp-0059-ET0005097600.data...\n",
      "\tLarge distances: 4/1000\n",
      "\tDZ Statistics: (min,mean,std,max)=0.000911965,0.0178436,0.0229896,0.592717\n",
      "Reading file 60...\n"
     ]
    },
    {
     "name": "stderr",
     "output_type": "stream",
     "text": [
      "100%|██████████| 1000/1000 [00:12<00:00, 78.43it/s]\n"
     ]
    },
    {
     "name": "stdout",
     "output_type": "stream",
     "text": [
      "\tSaving grtcomp-0060-ET0005184000.data...\n",
      "\tLarge distances: 1/1000\n",
      "\tDZ Statistics: (min,mean,std,max)=0.00118245,0.0176226,0.0179995,0.478138\n",
      "Reading file 61...\n"
     ]
    },
    {
     "name": "stderr",
     "output_type": "stream",
     "text": [
      "100%|██████████| 1000/1000 [00:12<00:00, 82.16it/s]\n"
     ]
    },
    {
     "name": "stdout",
     "output_type": "stream",
     "text": [
      "\tSaving grtcomp-0061-ET0005270400.data...\n",
      "\tLarge distances: 1/1000\n",
      "\tDZ Statistics: (min,mean,std,max)=0.000865414,0.0170844,0.0112091,0.109466\n",
      "Reading file 62...\n"
     ]
    },
    {
     "name": "stderr",
     "output_type": "stream",
     "text": [
      "100%|██████████| 1000/1000 [00:12<00:00, 82.83it/s]\n"
     ]
    },
    {
     "name": "stdout",
     "output_type": "stream",
     "text": [
      "\tSaving grtcomp-0062-ET0005356800.data...\n",
      "\tLarge distances: 1/1000\n",
      "\tDZ Statistics: (min,mean,std,max)=0.000765639,0.0180748,0.017874,0.46582\n"
     ]
    },
    {
     "name": "stderr",
     "output_type": "stream",
     "text": [
      "\r",
      "  0%|          | 0/1000 [00:00<?, ?it/s]"
     ]
    },
    {
     "name": "stdout",
     "output_type": "stream",
     "text": [
      "Reading file 63...\n"
     ]
    },
    {
     "name": "stderr",
     "output_type": "stream",
     "text": [
      "100%|██████████| 1000/1000 [00:12<00:00, 82.66it/s]\n"
     ]
    },
    {
     "name": "stdout",
     "output_type": "stream",
     "text": [
      "\tSaving grtcomp-0063-ET0005443200.data...\n",
      "\tLarge distances: 0/1000\n",
      "\tDZ Statistics: (min,mean,std,max)=0.000778594,0.0172525,0.0100558,0.0709839\n",
      "Reading file 64...\n"
     ]
    },
    {
     "name": "stderr",
     "output_type": "stream",
     "text": [
      "100%|██████████| 1000/1000 [00:12<00:00, 81.00it/s]\n"
     ]
    },
    {
     "name": "stdout",
     "output_type": "stream",
     "text": [
      "\tSaving grtcomp-0064-ET0005529600.data...\n",
      "\tLarge distances: 2/1000\n",
      "\tDZ Statistics: (min,mean,std,max)=0.00069674,0.0173088,0.0134027,0.229563\n",
      "Reading file 65...\n"
     ]
    },
    {
     "name": "stderr",
     "output_type": "stream",
     "text": [
      "100%|██████████| 1000/1000 [00:12<00:00, 83.21it/s]\n"
     ]
    },
    {
     "name": "stdout",
     "output_type": "stream",
     "text": [
      "\tSaving grtcomp-0065-ET0005616000.data...\n",
      "\tLarge distances: 3/1000\n",
      "\tDZ Statistics: (min,mean,std,max)=0.00103465,0.0181805,0.0177271,0.40596\n"
     ]
    },
    {
     "name": "stderr",
     "output_type": "stream",
     "text": [
      "\r",
      "  0%|          | 0/1000 [00:00<?, ?it/s]"
     ]
    },
    {
     "name": "stdout",
     "output_type": "stream",
     "text": [
      "Reading file 66...\n"
     ]
    },
    {
     "name": "stderr",
     "output_type": "stream",
     "text": [
      "100%|██████████| 1000/1000 [00:12<00:00, 82.66it/s]\n"
     ]
    },
    {
     "name": "stdout",
     "output_type": "stream",
     "text": [
      "\tSaving grtcomp-0066-ET0005702400.data...\n",
      "\tLarge distances: 4/1000\n",
      "\tDZ Statistics: (min,mean,std,max)=0.00065124,0.0189098,0.0231268,0.627869\n",
      "Reading file 67...\n"
     ]
    },
    {
     "name": "stderr",
     "output_type": "stream",
     "text": [
      "100%|██████████| 1000/1000 [00:12<00:00, 80.34it/s]\n"
     ]
    },
    {
     "name": "stdout",
     "output_type": "stream",
     "text": [
      "\tSaving grtcomp-0067-ET0005788800.data...\n",
      "\tLarge distances: 1/1000\n",
      "\tDZ Statistics: (min,mean,std,max)=0.00104532,0.0183244,0.0220816,0.631592\n",
      "Reading file 68...\n"
     ]
    },
    {
     "name": "stderr",
     "output_type": "stream",
     "text": [
      "100%|██████████| 1000/1000 [00:12<00:00, 82.23it/s]\n"
     ]
    },
    {
     "name": "stdout",
     "output_type": "stream",
     "text": [
      "\tSaving grtcomp-0068-ET0005875200.data...\n",
      "\tLarge distances: 2/1000\n",
      "\tDZ Statistics: (min,mean,std,max)=0.000575846,0.0181809,0.0118433,0.138783\n",
      "Reading file 69...\n"
     ]
    },
    {
     "name": "stderr",
     "output_type": "stream",
     "text": [
      "100%|██████████| 1000/1000 [00:12<00:00, 82.67it/s]\n"
     ]
    },
    {
     "name": "stdout",
     "output_type": "stream",
     "text": [
      "\tSaving grtcomp-0069-ET0005961600.data...\n",
      "\tLarge distances: 1/1000\n",
      "\tDZ Statistics: (min,mean,std,max)=0.000545791,0.0186961,0.0224107,0.638794\n",
      "Reading file 70...\n"
     ]
    },
    {
     "name": "stderr",
     "output_type": "stream",
     "text": [
      "100%|██████████| 1000/1000 [00:12<00:00, 83.32it/s]\n"
     ]
    },
    {
     "name": "stdout",
     "output_type": "stream",
     "text": [
      "\tSaving grtcomp-0070-ET0006048000.data...\n",
      "\tLarge distances: 0/1000\n",
      "\tDZ Statistics: (min,mean,std,max)=0.00137165,0.0182091,0.0108165,0.0757311\n",
      "Reading file 71...\n"
     ]
    },
    {
     "name": "stderr",
     "output_type": "stream",
     "text": [
      "100%|██████████| 1000/1000 [00:12<00:00, 84.97it/s]\n"
     ]
    },
    {
     "name": "stdout",
     "output_type": "stream",
     "text": [
      "\tSaving grtcomp-0071-ET0006134400.data...\n",
      "\tLarge distances: 1/1000\n",
      "\tDZ Statistics: (min,mean,std,max)=0.000969541,0.0186254,0.0122631,0.157163\n",
      "Reading file 72...\n"
     ]
    },
    {
     "name": "stderr",
     "output_type": "stream",
     "text": [
      "100%|██████████| 1000/1000 [00:12<00:00, 81.89it/s]\n"
     ]
    },
    {
     "name": "stdout",
     "output_type": "stream",
     "text": [
      "\tSaving grtcomp-0072-ET0006220800.data...\n",
      "\tLarge distances: 3/1000\n",
      "\tDZ Statistics: (min,mean,std,max)=0.000747668,0.0192423,0.0245881,0.622457\n",
      "Reading file 73...\n"
     ]
    },
    {
     "name": "stderr",
     "output_type": "stream",
     "text": [
      "100%|██████████| 1000/1000 [00:12<00:00, 81.61it/s]\n"
     ]
    },
    {
     "name": "stdout",
     "output_type": "stream",
     "text": [
      "\tSaving grtcomp-0073-ET0006307200.data...\n",
      "\tLarge distances: 2/1000\n",
      "\tDZ Statistics: (min,mean,std,max)=0.000697187,0.0191474,0.0169764,0.426429\n"
     ]
    },
    {
     "name": "stderr",
     "output_type": "stream",
     "text": [
      "\r",
      "  0%|          | 0/1000 [00:00<?, ?it/s]"
     ]
    },
    {
     "name": "stdout",
     "output_type": "stream",
     "text": [
      "Reading file 74...\n"
     ]
    },
    {
     "name": "stderr",
     "output_type": "stream",
     "text": [
      "100%|██████████| 1000/1000 [00:12<00:00, 82.20it/s]\n"
     ]
    },
    {
     "name": "stdout",
     "output_type": "stream",
     "text": [
      "\tSaving grtcomp-0074-ET0006393600.data...\n",
      "\tLarge distances: 2/1000\n",
      "\tDZ Statistics: (min,mean,std,max)=0.00111455,0.018549,0.0189873,0.500503\n",
      "Reading file 75...\n"
     ]
    },
    {
     "name": "stderr",
     "output_type": "stream",
     "text": [
      "100%|██████████| 1000/1000 [00:12<00:00, 83.04it/s]\n"
     ]
    },
    {
     "name": "stdout",
     "output_type": "stream",
     "text": [
      "\tSaving grtcomp-0075-ET0006480000.data...\n",
      "\tLarge distances: 1/1000\n",
      "\tDZ Statistics: (min,mean,std,max)=0.000619814,0.0196758,0.0200289,0.530788\n"
     ]
    },
    {
     "name": "stderr",
     "output_type": "stream",
     "text": [
      "\r",
      "  0%|          | 0/1000 [00:00<?, ?it/s]"
     ]
    },
    {
     "name": "stdout",
     "output_type": "stream",
     "text": [
      "Reading file 76...\n"
     ]
    },
    {
     "name": "stderr",
     "output_type": "stream",
     "text": [
      "100%|██████████| 1000/1000 [00:12<00:00, 82.11it/s]\n"
     ]
    },
    {
     "name": "stdout",
     "output_type": "stream",
     "text": [
      "\tSaving grtcomp-0076-ET0006566400.data...\n",
      "\tLarge distances: 4/1000\n",
      "\tDZ Statistics: (min,mean,std,max)=0.000599693,0.0193574,0.0276333,0.570324\n"
     ]
    },
    {
     "name": "stderr",
     "output_type": "stream",
     "text": [
      "100%|██████████| 1000/1000 [00:12<00:00, 82.78it/s]\n"
     ]
    },
    {
     "name": "stdout",
     "output_type": "stream",
     "text": [
      "Reading file 77...\n",
      "\tSaving grtcomp-0077-ET0006652800.data...\n",
      "\tLarge distances: 3/1000\n",
      "\tDZ Statistics: (min,mean,std,max)=0.000587506,0.0209301,0.0281416,0.603787\n"
     ]
    },
    {
     "name": "stderr",
     "output_type": "stream",
     "text": [
      "\r",
      "  0%|          | 0/1000 [00:00<?, ?it/s]"
     ]
    },
    {
     "name": "stdout",
     "output_type": "stream",
     "text": [
      "Reading file 78...\n"
     ]
    },
    {
     "name": "stderr",
     "output_type": "stream",
     "text": [
      "100%|██████████| 1000/1000 [00:12<00:00, 83.33it/s]\n"
     ]
    },
    {
     "name": "stdout",
     "output_type": "stream",
     "text": [
      "\tSaving grtcomp-0078-ET0006739200.data...\n",
      "\tLarge distances: 3/1000\n",
      "\tDZ Statistics: (min,mean,std,max)=0.00152843,0.0195925,0.027574,0.785348\n",
      "Reading file 79...\n"
     ]
    },
    {
     "name": "stderr",
     "output_type": "stream",
     "text": [
      "100%|██████████| 1000/1000 [00:12<00:00, 82.79it/s]\n"
     ]
    },
    {
     "name": "stdout",
     "output_type": "stream",
     "text": [
      "\tSaving grtcomp-0079-ET0006825600.data...\n",
      "\tLarge distances: 11/1000\n",
      "\tDZ Statistics: (min,mean,std,max)=0.000522913,0.0199789,0.0154411,0.156169\n"
     ]
    },
    {
     "name": "stderr",
     "output_type": "stream",
     "text": [
      "\r",
      "  0%|          | 0/1000 [00:00<?, ?it/s]"
     ]
    },
    {
     "name": "stdout",
     "output_type": "stream",
     "text": [
      "Reading file 80...\n"
     ]
    },
    {
     "name": "stderr",
     "output_type": "stream",
     "text": [
      "100%|██████████| 1000/1000 [00:12<00:00, 83.03it/s]\n"
     ]
    },
    {
     "name": "stdout",
     "output_type": "stream",
     "text": [
      "\tSaving grtcomp-0080-ET0006912000.data...\n",
      "\tLarge distances: 5/1000\n",
      "\tDZ Statistics: (min,mean,std,max)=0.000379726,0.0203243,0.0248146,0.692168\n",
      "Reading file 81...\n"
     ]
    },
    {
     "name": "stderr",
     "output_type": "stream",
     "text": [
      "100%|██████████| 1000/1000 [00:12<00:00, 82.47it/s]\n"
     ]
    },
    {
     "name": "stdout",
     "output_type": "stream",
     "text": [
      "\tSaving grtcomp-0081-ET0006998400.data...\n",
      "\tLarge distances: 3/1000\n",
      "\tDZ Statistics: (min,mean,std,max)=0.000227964,0.0196246,0.0126894,0.107606\n",
      "Reading file 82...\n"
     ]
    },
    {
     "name": "stderr",
     "output_type": "stream",
     "text": [
      "100%|██████████| 1000/1000 [00:12<00:00, 83.08it/s]\n"
     ]
    },
    {
     "name": "stdout",
     "output_type": "stream",
     "text": [
      "\tSaving grtcomp-0082-ET0007084800.data...\n",
      "\tLarge distances: 2/1000\n",
      "\tDZ Statistics: (min,mean,std,max)=0.000443576,0.0191088,0.0128778,0.165669\n",
      "Reading file 83...\n"
     ]
    },
    {
     "name": "stderr",
     "output_type": "stream",
     "text": [
      "100%|██████████| 1000/1000 [00:12<00:00, 86.48it/s]\n"
     ]
    },
    {
     "name": "stdout",
     "output_type": "stream",
     "text": [
      "\tSaving grtcomp-0083-ET0007171200.data...\n",
      "\tLarge distances: 4/1000\n",
      "\tDZ Statistics: (min,mean,std,max)=0.000995203,0.019945,0.0232984,0.599841\n",
      "Reading file 84...\n"
     ]
    },
    {
     "name": "stderr",
     "output_type": "stream",
     "text": [
      "100%|██████████| 1000/1000 [00:13<00:00, 72.58it/s]\n"
     ]
    },
    {
     "name": "stdout",
     "output_type": "stream",
     "text": [
      "\tSaving grtcomp-0084-ET0007257600.data...\n",
      "\tLarge distances: 0/1000\n",
      "\tDZ Statistics: (min,mean,std,max)=0.000832032,0.0189958,0.011393,0.0688515\n",
      "Reading file 85...\n"
     ]
    },
    {
     "name": "stderr",
     "output_type": "stream",
     "text": [
      "100%|██████████| 1000/1000 [00:12<00:00, 80.86it/s]\n"
     ]
    },
    {
     "name": "stdout",
     "output_type": "stream",
     "text": [
      "\tSaving grtcomp-0085-ET0007344000.data...\n",
      "\tLarge distances: 0/1000\n",
      "\tDZ Statistics: (min,mean,std,max)=0.000916351,0.0192396,0.0105194,0.0808357\n",
      "Reading file 86...\n"
     ]
    },
    {
     "name": "stderr",
     "output_type": "stream",
     "text": [
      "100%|██████████| 1000/1000 [00:12<00:00, 80.84it/s]\n"
     ]
    },
    {
     "name": "stdout",
     "output_type": "stream",
     "text": [
      "\tSaving grtcomp-0086-ET0007430400.data...\n",
      "\tLarge distances: 1/1000\n",
      "\tDZ Statistics: (min,mean,std,max)=0.000449678,0.0193154,0.0133236,0.216884\n"
     ]
    },
    {
     "name": "stderr",
     "output_type": "stream",
     "text": [
      "\r",
      "  0%|          | 0/1000 [00:00<?, ?it/s]"
     ]
    },
    {
     "name": "stdout",
     "output_type": "stream",
     "text": [
      "Reading file 87...\n"
     ]
    },
    {
     "name": "stderr",
     "output_type": "stream",
     "text": [
      "100%|██████████| 1000/1000 [00:12<00:00, 82.45it/s]\n"
     ]
    },
    {
     "name": "stdout",
     "output_type": "stream",
     "text": [
      "\tSaving grtcomp-0087-ET0007516800.data...\n",
      "\tLarge distances: 2/1000\n",
      "\tDZ Statistics: (min,mean,std,max)=0.000573943,0.0196459,0.0199215,0.488228\n"
     ]
    },
    {
     "name": "stderr",
     "output_type": "stream",
     "text": [
      "\r",
      "  0%|          | 0/1000 [00:00<?, ?it/s]"
     ]
    },
    {
     "name": "stdout",
     "output_type": "stream",
     "text": [
      "Reading file 88...\n"
     ]
    },
    {
     "name": "stderr",
     "output_type": "stream",
     "text": [
      "100%|██████████| 1000/1000 [00:12<00:00, 82.43it/s]\n"
     ]
    },
    {
     "name": "stdout",
     "output_type": "stream",
     "text": [
      "\tSaving grtcomp-0088-ET0007603200.data...\n",
      "\tLarge distances: 1/1000\n",
      "\tDZ Statistics: (min,mean,std,max)=0.000535612,0.0197061,0.0124628,0.126485\n",
      "Reading file 89...\n"
     ]
    },
    {
     "name": "stderr",
     "output_type": "stream",
     "text": [
      "100%|██████████| 1000/1000 [00:12<00:00, 82.84it/s]\n"
     ]
    },
    {
     "name": "stdout",
     "output_type": "stream",
     "text": [
      "\tSaving grtcomp-0089-ET0007689600.data...\n",
      "\tLarge distances: 3/1000\n",
      "\tDZ Statistics: (min,mean,std,max)=0.000651049,0.0197438,0.0141504,0.206485\n",
      "Reading file 90...\n"
     ]
    },
    {
     "name": "stderr",
     "output_type": "stream",
     "text": [
      "100%|██████████| 1000/1000 [00:12<00:00, 82.95it/s]\n"
     ]
    },
    {
     "name": "stdout",
     "output_type": "stream",
     "text": [
      "\tSaving grtcomp-0090-ET0007776000.data...\n",
      "\tLarge distances: 1/1000\n",
      "\tDZ Statistics: (min,mean,std,max)=0.00114085,0.019584,0.0145151,0.273114\n",
      "Reading file 91...\n"
     ]
    },
    {
     "name": "stderr",
     "output_type": "stream",
     "text": [
      "100%|██████████| 1000/1000 [00:12<00:00, 82.39it/s]\n"
     ]
    },
    {
     "name": "stdout",
     "output_type": "stream",
     "text": [
      "\tSaving grtcomp-0091-ET0007862400.data...\n",
      "\tLarge distances: 3/1000\n",
      "\tDZ Statistics: (min,mean,std,max)=0.000691895,0.0209871,0.0326733,0.889016\n",
      "Reading file 92...\n"
     ]
    },
    {
     "name": "stderr",
     "output_type": "stream",
     "text": [
      "100%|██████████| 1000/1000 [00:12<00:00, 82.49it/s]\n"
     ]
    },
    {
     "name": "stdout",
     "output_type": "stream",
     "text": [
      "\tSaving grtcomp-0092-ET0007948800.data...\n",
      "\tLarge distances: 1/1000\n",
      "\tDZ Statistics: (min,mean,std,max)=0.000724813,0.019237,0.0121306,0.115783\n"
     ]
    },
    {
     "name": "stderr",
     "output_type": "stream",
     "text": [
      "\r",
      "  0%|          | 0/1000 [00:00<?, ?it/s]"
     ]
    },
    {
     "name": "stdout",
     "output_type": "stream",
     "text": [
      "Reading file 93...\n"
     ]
    },
    {
     "name": "stderr",
     "output_type": "stream",
     "text": [
      "100%|██████████| 1000/1000 [00:12<00:00, 82.47it/s]\n"
     ]
    },
    {
     "name": "stdout",
     "output_type": "stream",
     "text": [
      "\tSaving grtcomp-0093-ET0008035200.data...\n",
      "\tLarge distances: 1/1000\n",
      "\tDZ Statistics: (min,mean,std,max)=0.00063425,0.0200467,0.0124512,0.111352\n",
      "Reading file 94...\n"
     ]
    },
    {
     "name": "stderr",
     "output_type": "stream",
     "text": [
      "100%|██████████| 1000/1000 [00:12<00:00, 79.90it/s]\n"
     ]
    },
    {
     "name": "stdout",
     "output_type": "stream",
     "text": [
      "\tSaving grtcomp-0094-ET0008121600.data...\n",
      "\tLarge distances: 3/1000\n",
      "\tDZ Statistics: (min,mean,std,max)=0.000352026,0.020814,0.0283052,0.661194\n",
      "Reading file 95...\n"
     ]
    },
    {
     "name": "stderr",
     "output_type": "stream",
     "text": [
      "100%|██████████| 1000/1000 [00:12<00:00, 79.78it/s]\n"
     ]
    },
    {
     "name": "stdout",
     "output_type": "stream",
     "text": [
      "\tSaving grtcomp-0095-ET0008208000.data...\n",
      "\tLarge distances: 0/1000\n",
      "\tDZ Statistics: (min,mean,std,max)=0.000830019,0.0199521,0.0119104,0.0805044\n",
      "Reading file 96...\n"
     ]
    },
    {
     "name": "stderr",
     "output_type": "stream",
     "text": [
      "100%|██████████| 1000/1000 [00:12<00:00, 80.16it/s]\n"
     ]
    },
    {
     "name": "stdout",
     "output_type": "stream",
     "text": [
      "\tSaving grtcomp-0096-ET0008294400.data...\n",
      "\tLarge distances: 1/1000\n",
      "\tDZ Statistics: (min,mean,std,max)=0.000699277,0.0200137,0.0124942,0.123993\n",
      "Reading file 97...\n"
     ]
    },
    {
     "name": "stderr",
     "output_type": "stream",
     "text": [
      "100%|██████████| 1000/1000 [00:12<00:00, 81.00it/s]\n"
     ]
    },
    {
     "name": "stdout",
     "output_type": "stream",
     "text": [
      "\tSaving grtcomp-0097-ET0008380800.data...\n",
      "\tLarge distances: 1/1000\n",
      "\tDZ Statistics: (min,mean,std,max)=0.000452134,0.0203885,0.0162394,0.359678\n",
      "Reading file 98...\n"
     ]
    },
    {
     "name": "stderr",
     "output_type": "stream",
     "text": [
      "100%|██████████| 1000/1000 [00:12<00:00, 81.89it/s]\n"
     ]
    },
    {
     "name": "stdout",
     "output_type": "stream",
     "text": [
      "\tSaving grtcomp-0098-ET0008467200.data...\n",
      "\tLarge distances: 2/1000\n",
      "\tDZ Statistics: (min,mean,std,max)=0.000415148,0.020506,0.0229004,0.615893\n",
      "Reading file 99...\n"
     ]
    },
    {
     "name": "stderr",
     "output_type": "stream",
     "text": [
      "100%|██████████| 1000/1000 [00:12<00:00, 82.51it/s]\n"
     ]
    },
    {
     "name": "stdout",
     "output_type": "stream",
     "text": [
      "\tSaving grtcomp-0099-ET0008553600.data...\n",
      "\tLarge distances: 4/1000\n",
      "\tDZ Statistics: (min,mean,std,max)=0.000683967,0.0214411,0.0273825,0.554438\n",
      "Reading file 100...\n"
     ]
    },
    {
     "name": "stderr",
     "output_type": "stream",
     "text": [
      "100%|██████████| 1000/1000 [00:12<00:00, 82.84it/s]\n"
     ]
    },
    {
     "name": "stdout",
     "output_type": "stream",
     "text": [
      "\tSaving grtcomp-0100-ET0008640000.data...\n",
      "\tLarge distances: 0/1000\n",
      "\tDZ Statistics: (min,mean,std,max)=0.000697823,0.0198004,0.0116979,0.0820472\n",
      "Reading file 101...\n"
     ]
    },
    {
     "name": "stderr",
     "output_type": "stream",
     "text": [
      "100%|██████████| 1000/1000 [00:12<00:00, 82.74it/s]\n"
     ]
    },
    {
     "name": "stdout",
     "output_type": "stream",
     "text": [
      "\tSaving grtcomp-0101-ET0008726400.data...\n",
      "\tLarge distances: 0/1000\n",
      "\tDZ Statistics: (min,mean,std,max)=0.00091512,0.0197658,0.0116688,0.0903771\n",
      "Reading file 102...\n"
     ]
    },
    {
     "name": "stderr",
     "output_type": "stream",
     "text": [
      "100%|██████████| 1000/1000 [00:12<00:00, 82.70it/s]\n"
     ]
    },
    {
     "name": "stdout",
     "output_type": "stream",
     "text": [
      "\tSaving grtcomp-0102-ET0008812800.data...\n",
      "\tLarge distances: 1/1000\n",
      "\tDZ Statistics: (min,mean,std,max)=0.00085849,0.0198184,0.0119038,0.151611\n",
      "Reading file 103...\n"
     ]
    },
    {
     "name": "stderr",
     "output_type": "stream",
     "text": [
      "100%|██████████| 1000/1000 [00:12<00:00, 82.77it/s]\n"
     ]
    },
    {
     "name": "stdout",
     "output_type": "stream",
     "text": [
      "\tSaving grtcomp-0103-ET0008899200.data...\n",
      "\tLarge distances: 0/1000\n",
      "\tDZ Statistics: (min,mean,std,max)=0.000715943,0.0196897,0.0116163,0.0801385\n",
      "Reading file 104...\n"
     ]
    },
    {
     "name": "stderr",
     "output_type": "stream",
     "text": [
      "100%|██████████| 1000/1000 [00:12<00:00, 82.35it/s]\n"
     ]
    },
    {
     "name": "stdout",
     "output_type": "stream",
     "text": [
      "\tSaving grtcomp-0104-ET0008985600.data...\n",
      "\tLarge distances: 2/1000\n",
      "\tDZ Statistics: (min,mean,std,max)=0.000608713,0.0202611,0.014309,0.189398\n",
      "Reading file 105...\n"
     ]
    },
    {
     "name": "stderr",
     "output_type": "stream",
     "text": [
      "100%|██████████| 1000/1000 [00:12<00:00, 81.71it/s]\n"
     ]
    },
    {
     "name": "stdout",
     "output_type": "stream",
     "text": [
      "\tSaving grtcomp-0105-ET0009072000.data...\n",
      "\tLarge distances: 2/1000\n",
      "\tDZ Statistics: (min,mean,std,max)=0.000667987,0.0209169,0.014456,0.165552\n",
      "Reading file 106...\n"
     ]
    },
    {
     "name": "stderr",
     "output_type": "stream",
     "text": [
      "100%|██████████| 1000/1000 [00:12<00:00, 83.11it/s]\n"
     ]
    },
    {
     "name": "stdout",
     "output_type": "stream",
     "text": [
      "\tSaving grtcomp-0106-ET0009158400.data...\n",
      "\tLarge distances: 5/1000\n",
      "\tDZ Statistics: (min,mean,std,max)=0.000492014,0.0208013,0.0180458,0.395887\n",
      "Reading file 107...\n"
     ]
    },
    {
     "name": "stderr",
     "output_type": "stream",
     "text": [
      "100%|██████████| 1000/1000 [00:12<00:00, 83.92it/s]\n"
     ]
    },
    {
     "name": "stdout",
     "output_type": "stream",
     "text": [
      "\tSaving grtcomp-0107-ET0009244800.data...\n",
      "\tLarge distances: 3/1000\n",
      "\tDZ Statistics: (min,mean,std,max)=0.00081747,0.0205932,0.0154061,0.271038\n",
      "Reading file 108...\n"
     ]
    },
    {
     "name": "stderr",
     "output_type": "stream",
     "text": [
      "100%|██████████| 1000/1000 [00:14<00:00, 71.29it/s]\n"
     ]
    },
    {
     "name": "stdout",
     "output_type": "stream",
     "text": [
      "\tSaving grtcomp-0108-ET0009331200.data...\n",
      "\tLarge distances: 5/1000\n",
      "\tDZ Statistics: (min,mean,std,max)=0.000704548,0.0200943,0.0143812,0.200867\n",
      "Reading file 109...\n"
     ]
    },
    {
     "name": "stderr",
     "output_type": "stream",
     "text": [
      "100%|██████████| 1000/1000 [00:14<00:00, 83.16it/s]\n"
     ]
    },
    {
     "name": "stdout",
     "output_type": "stream",
     "text": [
      "\tSaving grtcomp-0109-ET0009417600.data...\n",
      "\tLarge distances: 2/1000\n",
      "\tDZ Statistics: (min,mean,std,max)=0.000664588,0.0202125,0.013101,0.138077\n",
      "Reading file 110...\n"
     ]
    },
    {
     "name": "stderr",
     "output_type": "stream",
     "text": [
      "100%|██████████| 1000/1000 [00:12<00:00, 82.97it/s]\n"
     ]
    },
    {
     "name": "stdout",
     "output_type": "stream",
     "text": [
      "\tSaving grtcomp-0110-ET0009504000.data...\n",
      "\tLarge distances: 5/1000\n",
      "\tDZ Statistics: (min,mean,std,max)=0.000437213,0.0206565,0.0156616,0.256928\n",
      "Reading file 111...\n"
     ]
    },
    {
     "name": "stderr",
     "output_type": "stream",
     "text": [
      "100%|██████████| 1000/1000 [00:12<00:00, 82.67it/s]\n"
     ]
    },
    {
     "name": "stdout",
     "output_type": "stream",
     "text": [
      "\tSaving grtcomp-0111-ET0009590400.data...\n",
      "\tLarge distances: 1/1000\n",
      "\tDZ Statistics: (min,mean,std,max)=0.000869357,0.0207417,0.012601,0.144314\n",
      "Reading file 112...\n"
     ]
    },
    {
     "name": "stderr",
     "output_type": "stream",
     "text": [
      "100%|██████████| 1000/1000 [00:13<00:00, 75.88it/s]\n"
     ]
    },
    {
     "name": "stdout",
     "output_type": "stream",
     "text": [
      "\tSaving grtcomp-0112-ET0009676800.data...\n",
      "\tLarge distances: 4/1000\n",
      "\tDZ Statistics: (min,mean,std,max)=0.000575595,0.0201426,0.0146763,0.188549\n",
      "Reading file 113...\n"
     ]
    },
    {
     "name": "stderr",
     "output_type": "stream",
     "text": [
      "100%|██████████| 1000/1000 [00:11<00:00, 83.39it/s]\n"
     ]
    },
    {
     "name": "stdout",
     "output_type": "stream",
     "text": [
      "\tSaving grtcomp-0113-ET0009763200.data...\n",
      "\tLarge distances: 2/1000\n",
      "\tDZ Statistics: (min,mean,std,max)=0.000826283,0.01959,0.012588,0.123147\n",
      "Reading file 114...\n"
     ]
    },
    {
     "name": "stderr",
     "output_type": "stream",
     "text": [
      "100%|██████████| 1000/1000 [00:12<00:00, 81.79it/s]\n"
     ]
    },
    {
     "name": "stdout",
     "output_type": "stream",
     "text": [
      "\tSaving grtcomp-0114-ET0009849600.data...\n",
      "\tLarge distances: 6/1000\n",
      "\tDZ Statistics: (min,mean,std,max)=0.000956239,0.0204283,0.0200031,0.480919\n",
      "Reading file 115...\n"
     ]
    },
    {
     "name": "stderr",
     "output_type": "stream",
     "text": [
      "100%|██████████| 1000/1000 [00:11<00:00, 83.38it/s]\n"
     ]
    },
    {
     "name": "stdout",
     "output_type": "stream",
     "text": [
      "\tSaving grtcomp-0115-ET0009936000.data...\n",
      "\tLarge distances: 1/1000\n",
      "\tDZ Statistics: (min,mean,std,max)=0.000915215,0.020559,0.0125927,0.146653\n",
      "Reading file 116...\n"
     ]
    },
    {
     "name": "stderr",
     "output_type": "stream",
     "text": [
      "100%|██████████| 1000/1000 [00:12<00:00, 82.55it/s]\n"
     ]
    },
    {
     "name": "stdout",
     "output_type": "stream",
     "text": [
      "\tSaving grtcomp-0116-ET0010022400.data...\n",
      "\tLarge distances: 2/1000\n",
      "\tDZ Statistics: (min,mean,std,max)=0.000477065,0.019831,0.0133143,0.198285\n",
      "Reading file 117...\n"
     ]
    },
    {
     "name": "stderr",
     "output_type": "stream",
     "text": [
      "100%|██████████| 1000/1000 [00:12<00:00, 82.41it/s]\n"
     ]
    },
    {
     "name": "stdout",
     "output_type": "stream",
     "text": [
      "\tSaving grtcomp-0117-ET0010108800.data...\n",
      "\tLarge distances: 4/1000\n",
      "\tDZ Statistics: (min,mean,std,max)=0.000353333,0.0211957,0.027365,0.692731\n"
     ]
    },
    {
     "name": "stderr",
     "output_type": "stream",
     "text": [
      "\r",
      "  0%|          | 0/1000 [00:00<?, ?it/s]"
     ]
    },
    {
     "name": "stdout",
     "output_type": "stream",
     "text": [
      "Reading file 118...\n"
     ]
    },
    {
     "name": "stderr",
     "output_type": "stream",
     "text": [
      "100%|██████████| 1000/1000 [00:12<00:00, 81.41it/s]\n"
     ]
    },
    {
     "name": "stdout",
     "output_type": "stream",
     "text": [
      "\tSaving grtcomp-0118-ET0010195200.data...\n",
      "\tLarge distances: 3/1000\n",
      "\tDZ Statistics: (min,mean,std,max)=0.000461045,0.0203069,0.0149157,0.270315\n",
      "Reading file 119...\n"
     ]
    },
    {
     "name": "stderr",
     "output_type": "stream",
     "text": [
      "100%|██████████| 1000/1000 [00:12<00:00, 79.44it/s]\n"
     ]
    },
    {
     "name": "stdout",
     "output_type": "stream",
     "text": [
      "\tSaving grtcomp-0119-ET0010281600.data...\n",
      "\tLarge distances: 1/1000\n",
      "\tDZ Statistics: (min,mean,std,max)=0.000717985,0.0193921,0.0120322,0.152226\n"
     ]
    },
    {
     "name": "stderr",
     "output_type": "stream",
     "text": [
      "\r",
      "  0%|          | 0/1000 [00:00<?, ?it/s]"
     ]
    },
    {
     "name": "stdout",
     "output_type": "stream",
     "text": [
      "Reading file 120...\n"
     ]
    },
    {
     "name": "stderr",
     "output_type": "stream",
     "text": [
      "100%|██████████| 1000/1000 [00:13<00:00, 71.91it/s]\n"
     ]
    },
    {
     "name": "stdout",
     "output_type": "stream",
     "text": [
      "\tSaving grtcomp-0120-ET0010368000.data...\n",
      "\tLarge distances: 1/1000\n",
      "\tDZ Statistics: (min,mean,std,max)=0.000437091,0.0192008,0.012157,0.101045\n",
      "Reading file 121...\n"
     ]
    },
    {
     "name": "stderr",
     "output_type": "stream",
     "text": [
      "100%|██████████| 1000/1000 [00:16<00:00, 68.59it/s]\n"
     ]
    },
    {
     "name": "stdout",
     "output_type": "stream",
     "text": [
      "\tSaving grtcomp-0121-ET0010454400.data...\n",
      "\tLarge distances: 2/1000\n",
      "\tDZ Statistics: (min,mean,std,max)=0.000964311,0.0202919,0.0163557,0.330161\n",
      "Reading file 122...\n"
     ]
    },
    {
     "name": "stderr",
     "output_type": "stream",
     "text": [
      "100%|██████████| 1000/1000 [00:15<00:00, 63.77it/s]\n"
     ]
    },
    {
     "name": "stdout",
     "output_type": "stream",
     "text": [
      "\tSaving grtcomp-0122-ET0010540800.data...\n",
      "\tLarge distances: 2/1000\n",
      "\tDZ Statistics: (min,mean,std,max)=0.000751591,0.0199903,0.0212719,0.586176\n",
      "Reading file 123...\n"
     ]
    },
    {
     "name": "stderr",
     "output_type": "stream",
     "text": [
      "100%|██████████| 1000/1000 [00:15<00:00, 64.29it/s]\n"
     ]
    },
    {
     "name": "stdout",
     "output_type": "stream",
     "text": [
      "\tSaving grtcomp-0123-ET0010627200.data...\n",
      "\tLarge distances: 3/1000\n",
      "\tDZ Statistics: (min,mean,std,max)=0.00133117,0.0203389,0.0170616,0.363502\n",
      "Reading file 124...\n"
     ]
    },
    {
     "name": "stderr",
     "output_type": "stream",
     "text": [
      "100%|██████████| 1000/1000 [00:12<00:00, 82.75it/s]\n"
     ]
    },
    {
     "name": "stdout",
     "output_type": "stream",
     "text": [
      "\tSaving grtcomp-0124-ET0010713600.data...\n",
      "\tLarge distances: 2/1000\n",
      "\tDZ Statistics: (min,mean,std,max)=0.000898855,0.0197726,0.0162972,0.30033\n",
      "Reading file 125...\n"
     ]
    },
    {
     "name": "stderr",
     "output_type": "stream",
     "text": [
      "100%|██████████| 1000/1000 [00:12<00:00, 82.19it/s]\n"
     ]
    },
    {
     "name": "stdout",
     "output_type": "stream",
     "text": [
      "\tSaving grtcomp-0125-ET0010800000.data...\n",
      "\tLarge distances: 1/1000\n",
      "\tDZ Statistics: (min,mean,std,max)=0.00110309,0.019483,0.0114482,0.102427\n"
     ]
    },
    {
     "name": "stderr",
     "output_type": "stream",
     "text": [
      "\r",
      "  0%|          | 0/1000 [00:00<?, ?it/s]"
     ]
    },
    {
     "name": "stdout",
     "output_type": "stream",
     "text": [
      "Reading file 126...\n"
     ]
    },
    {
     "name": "stderr",
     "output_type": "stream",
     "text": [
      "100%|██████████| 1000/1000 [00:12<00:00, 82.57it/s]\n"
     ]
    },
    {
     "name": "stdout",
     "output_type": "stream",
     "text": [
      "\tSaving grtcomp-0126-ET0010886400.data...\n",
      "\tLarge distances: 2/1000\n",
      "\tDZ Statistics: (min,mean,std,max)=0.000540521,0.0199388,0.0135731,0.228699\n",
      "Reading file 127...\n"
     ]
    },
    {
     "name": "stderr",
     "output_type": "stream",
     "text": [
      "100%|██████████| 1000/1000 [00:11<00:00, 83.57it/s]\n"
     ]
    },
    {
     "name": "stdout",
     "output_type": "stream",
     "text": [
      "\tSaving grtcomp-0127-ET0010972800.data...\n",
      "\tLarge distances: 1/1000\n",
      "\tDZ Statistics: (min,mean,std,max)=0.000972717,0.0194688,0.0125683,0.189778\n",
      "Reading file 128...\n"
     ]
    },
    {
     "name": "stderr",
     "output_type": "stream",
     "text": [
      "100%|██████████| 1000/1000 [00:12<00:00, 83.29it/s]\n"
     ]
    },
    {
     "name": "stdout",
     "output_type": "stream",
     "text": [
      "\tSaving grtcomp-0128-ET0011059200.data...\n",
      "\tLarge distances: 4/1000\n",
      "\tDZ Statistics: (min,mean,std,max)=0.000912882,0.0200288,0.0132252,0.153035\n",
      "Reading file 129...\n"
     ]
    },
    {
     "name": "stderr",
     "output_type": "stream",
     "text": [
      "100%|██████████| 1000/1000 [00:11<00:00, 83.49it/s]\n"
     ]
    },
    {
     "name": "stdout",
     "output_type": "stream",
     "text": [
      "\tSaving grtcomp-0129-ET0011145600.data...\n",
      "\tLarge distances: 2/1000\n",
      "\tDZ Statistics: (min,mean,std,max)=0.000870665,0.0198219,0.0126704,0.191855\n",
      "Reading file 130...\n"
     ]
    },
    {
     "name": "stderr",
     "output_type": "stream",
     "text": [
      "100%|██████████| 1000/1000 [00:12<00:00, 83.09it/s]\n"
     ]
    },
    {
     "name": "stdout",
     "output_type": "stream",
     "text": [
      "\tSaving grtcomp-0130-ET0011232000.data...\n",
      "\tLarge distances: 3/1000\n",
      "\tDZ Statistics: (min,mean,std,max)=0.000796424,0.0194292,0.0130963,0.13122\n",
      "Reading file 131...\n"
     ]
    },
    {
     "name": "stderr",
     "output_type": "stream",
     "text": [
      "100%|██████████| 1000/1000 [00:12<00:00, 82.61it/s]\n"
     ]
    },
    {
     "name": "stdout",
     "output_type": "stream",
     "text": [
      "\tSaving grtcomp-0131-ET0011318400.data...\n",
      "\tLarge distances: 3/1000\n",
      "\tDZ Statistics: (min,mean,std,max)=0.00101068,0.019143,0.0129542,0.147428\n",
      "Reading file 132...\n"
     ]
    },
    {
     "name": "stderr",
     "output_type": "stream",
     "text": [
      "100%|██████████| 1000/1000 [00:12<00:00, 80.90it/s]\n"
     ]
    },
    {
     "name": "stdout",
     "output_type": "stream",
     "text": [
      "\tSaving grtcomp-0132-ET0011404800.data...\n",
      "\tLarge distances: 0/1000\n",
      "\tDZ Statistics: (min,mean,std,max)=0.000757197,0.0187881,0.0107434,0.0861272\n",
      "Reading file 133...\n"
     ]
    },
    {
     "name": "stderr",
     "output_type": "stream",
     "text": [
      "100%|██████████| 1000/1000 [00:12<00:00, 82.50it/s]\n"
     ]
    },
    {
     "name": "stdout",
     "output_type": "stream",
     "text": [
      "\tSaving grtcomp-0133-ET0011491200.data...\n",
      "\tLarge distances: 1/1000\n",
      "\tDZ Statistics: (min,mean,std,max)=0.000503879,0.0187513,0.0120482,0.187145\n",
      "Reading file 134...\n"
     ]
    },
    {
     "name": "stderr",
     "output_type": "stream",
     "text": [
      "100%|██████████| 1000/1000 [00:12<00:00, 81.39it/s]\n"
     ]
    },
    {
     "name": "stdout",
     "output_type": "stream",
     "text": [
      "\tSaving grtcomp-0134-ET0011577600.data...\n",
      "\tLarge distances: 0/1000\n",
      "\tDZ Statistics: (min,mean,std,max)=0.000878568,0.0192146,0.0111125,0.0920032\n",
      "Reading file 135...\n"
     ]
    },
    {
     "name": "stderr",
     "output_type": "stream",
     "text": [
      "100%|██████████| 1000/1000 [00:12<00:00, 82.74it/s]\n"
     ]
    },
    {
     "name": "stdout",
     "output_type": "stream",
     "text": [
      "\tSaving grtcomp-0135-ET0011664000.data...\n",
      "\tLarge distances: 4/1000\n",
      "\tDZ Statistics: (min,mean,std,max)=0.00101139,0.0195232,0.0232571,0.624417\n",
      "Reading file 136...\n"
     ]
    },
    {
     "name": "stderr",
     "output_type": "stream",
     "text": [
      "100%|██████████| 1000/1000 [00:12<00:00, 80.70it/s]\n"
     ]
    },
    {
     "name": "stdout",
     "output_type": "stream",
     "text": [
      "\tSaving grtcomp-0136-ET0011750400.data...\n",
      "\tLarge distances: 3/1000\n",
      "\tDZ Statistics: (min,mean,std,max)=0.00160637,0.0203823,0.0263123,0.637631\n",
      "Reading file 137...\n"
     ]
    },
    {
     "name": "stderr",
     "output_type": "stream",
     "text": [
      "100%|██████████| 1000/1000 [00:12<00:00, 81.77it/s]\n"
     ]
    },
    {
     "name": "stdout",
     "output_type": "stream",
     "text": [
      "\tSaving grtcomp-0137-ET0011836800.data...\n",
      "\tLarge distances: 1/1000\n",
      "\tDZ Statistics: (min,mean,std,max)=0.00100474,0.0186,0.014264,0.318041\n"
     ]
    },
    {
     "name": "stderr",
     "output_type": "stream",
     "text": [
      "\r",
      "  0%|          | 0/1000 [00:00<?, ?it/s]"
     ]
    },
    {
     "name": "stdout",
     "output_type": "stream",
     "text": [
      "Reading file 138...\n"
     ]
    },
    {
     "name": "stderr",
     "output_type": "stream",
     "text": [
      "100%|██████████| 1000/1000 [00:12<00:00, 82.03it/s]\n"
     ]
    },
    {
     "name": "stdout",
     "output_type": "stream",
     "text": [
      "\tSaving grtcomp-0138-ET0011923200.data...\n",
      "\tLarge distances: 2/1000\n",
      "\tDZ Statistics: (min,mean,std,max)=0.000944162,0.0195497,0.0245309,0.706847\n",
      "Reading file 139...\n"
     ]
    },
    {
     "name": "stderr",
     "output_type": "stream",
     "text": [
      "100%|██████████| 1000/1000 [00:12<00:00, 82.96it/s]\n"
     ]
    },
    {
     "name": "stdout",
     "output_type": "stream",
     "text": [
      "\tSaving grtcomp-0139-ET0012009600.data...\n",
      "\tLarge distances: 0/1000\n",
      "\tDZ Statistics: (min,mean,std,max)=0.00086601,0.0183565,0.0112472,0.0861735\n",
      "Reading file 140...\n"
     ]
    },
    {
     "name": "stderr",
     "output_type": "stream",
     "text": [
      "100%|██████████| 1000/1000 [00:12<00:00, 81.84it/s]\n"
     ]
    },
    {
     "name": "stdout",
     "output_type": "stream",
     "text": [
      "\tSaving grtcomp-0140-ET0012096000.data...\n",
      "\tLarge distances: 4/1000\n",
      "\tDZ Statistics: (min,mean,std,max)=0.000964738,0.0196015,0.0212078,0.500398\n",
      "Reading file 141...\n"
     ]
    },
    {
     "name": "stderr",
     "output_type": "stream",
     "text": [
      "100%|██████████| 1000/1000 [00:14<00:00, 67.03it/s]\n"
     ]
    },
    {
     "name": "stdout",
     "output_type": "stream",
     "text": [
      "\tSaving grtcomp-0141-ET0012182400.data...\n",
      "\tLarge distances: 3/1000\n",
      "\tDZ Statistics: (min,mean,std,max)=0.00118564,0.0185494,0.0128492,0.193646\n",
      "Reading file 142...\n"
     ]
    },
    {
     "name": "stderr",
     "output_type": "stream",
     "text": [
      "100%|██████████| 1000/1000 [00:12<00:00, 81.46it/s]\n"
     ]
    },
    {
     "name": "stdout",
     "output_type": "stream",
     "text": [
      "\tSaving grtcomp-0142-ET0012268800.data...\n",
      "\tLarge distances: 1/1000\n",
      "\tDZ Statistics: (min,mean,std,max)=0.00124006,0.0186848,0.0126923,0.230301\n",
      "Reading file 143...\n"
     ]
    },
    {
     "name": "stderr",
     "output_type": "stream",
     "text": [
      "100%|██████████| 1000/1000 [00:12<00:00, 79.93it/s]\n"
     ]
    },
    {
     "name": "stdout",
     "output_type": "stream",
     "text": [
      "\tSaving grtcomp-0143-ET0012355200.data...\n",
      "\tLarge distances: 1/1000\n",
      "\tDZ Statistics: (min,mean,std,max)=0.0012994,0.018142,0.0120231,0.188938\n",
      "Reading file 144...\n"
     ]
    },
    {
     "name": "stderr",
     "output_type": "stream",
     "text": [
      "100%|██████████| 1000/1000 [00:12<00:00, 83.48it/s]\n"
     ]
    },
    {
     "name": "stdout",
     "output_type": "stream",
     "text": [
      "\tSaving grtcomp-0144-ET0012441600.data...\n",
      "\tLarge distances: 4/1000\n",
      "\tDZ Statistics: (min,mean,std,max)=0.00117267,0.0191021,0.0207308,0.525062\n"
     ]
    },
    {
     "name": "stderr",
     "output_type": "stream",
     "text": [
      "\r",
      "  0%|          | 0/1000 [00:00<?, ?it/s]"
     ]
    },
    {
     "name": "stdout",
     "output_type": "stream",
     "text": [
      "Reading file 145...\n"
     ]
    },
    {
     "name": "stderr",
     "output_type": "stream",
     "text": [
      "100%|██████████| 1000/1000 [00:12<00:00, 80.40it/s]\n"
     ]
    },
    {
     "name": "stdout",
     "output_type": "stream",
     "text": [
      "\tSaving grtcomp-0145-ET0012528000.data...\n",
      "\tLarge distances: 1/1000\n",
      "\tDZ Statistics: (min,mean,std,max)=0.00109921,0.0182266,0.0123165,0.230953\n"
     ]
    },
    {
     "name": "stderr",
     "output_type": "stream",
     "text": [
      "\r",
      "  0%|          | 0/1000 [00:00<?, ?it/s]"
     ]
    },
    {
     "name": "stdout",
     "output_type": "stream",
     "text": [
      "Reading file 146...\n"
     ]
    },
    {
     "name": "stderr",
     "output_type": "stream",
     "text": [
      "100%|██████████| 1000/1000 [00:12<00:00, 82.00it/s]\n"
     ]
    },
    {
     "name": "stdout",
     "output_type": "stream",
     "text": [
      "\tSaving grtcomp-0146-ET0012614400.data...\n",
      "\tLarge distances: 4/1000\n",
      "\tDZ Statistics: (min,mean,std,max)=0.00126349,0.0191018,0.0219872,0.574578\n",
      "Reading file 147...\n"
     ]
    },
    {
     "name": "stderr",
     "output_type": "stream",
     "text": [
      "100%|██████████| 1000/1000 [00:12<00:00, 82.48it/s]\n"
     ]
    },
    {
     "name": "stdout",
     "output_type": "stream",
     "text": [
      "\tSaving grtcomp-0147-ET0012700800.data...\n",
      "\tLarge distances: 5/1000\n",
      "\tDZ Statistics: (min,mean,std,max)=0.00130564,0.0186056,0.0248274,0.658526\n",
      "Reading file 148...\n"
     ]
    },
    {
     "name": "stderr",
     "output_type": "stream",
     "text": [
      "100%|██████████| 1000/1000 [00:12<00:00, 81.69it/s]\n"
     ]
    },
    {
     "name": "stdout",
     "output_type": "stream",
     "text": [
      "\tSaving grtcomp-0148-ET0012787200.data...\n",
      "\tLarge distances: 2/1000\n",
      "\tDZ Statistics: (min,mean,std,max)=0.00188746,0.018122,0.0120047,0.132481\n",
      "Reading file 149...\n"
     ]
    },
    {
     "name": "stderr",
     "output_type": "stream",
     "text": [
      "100%|██████████| 1000/1000 [00:12<00:00, 82.55it/s]\n"
     ]
    },
    {
     "name": "stdout",
     "output_type": "stream",
     "text": [
      "\tSaving grtcomp-0149-ET0012873600.data...\n",
      "\tLarge distances: 2/1000\n",
      "\tDZ Statistics: (min,mean,std,max)=0.00127928,0.0176365,0.0112724,0.124688\n"
     ]
    },
    {
     "name": "stderr",
     "output_type": "stream",
     "text": [
      "\r",
      "  0%|          | 0/1000 [00:00<?, ?it/s]"
     ]
    },
    {
     "name": "stdout",
     "output_type": "stream",
     "text": [
      "Reading file 150...\n"
     ]
    },
    {
     "name": "stderr",
     "output_type": "stream",
     "text": [
      "100%|██████████| 1000/1000 [00:12<00:00, 81.79it/s]\n"
     ]
    },
    {
     "name": "stdout",
     "output_type": "stream",
     "text": [
      "\tSaving grtcomp-0150-ET0012960000.data...\n",
      "\tLarge distances: 1/1000\n",
      "\tDZ Statistics: (min,mean,std,max)=0.00161633,0.0173854,0.0114266,0.112821\n",
      "Reading file 151...\n"
     ]
    },
    {
     "name": "stderr",
     "output_type": "stream",
     "text": [
      "100%|██████████| 1000/1000 [00:12<00:00, 80.05it/s]\n"
     ]
    },
    {
     "name": "stdout",
     "output_type": "stream",
     "text": [
      "\tSaving grtcomp-0151-ET0013046400.data...\n",
      "\tLarge distances: 3/1000\n",
      "\tDZ Statistics: (min,mean,std,max)=0.00176214,0.0180459,0.0137412,0.229153\n",
      "Reading file 152...\n"
     ]
    },
    {
     "name": "stderr",
     "output_type": "stream",
     "text": [
      "100%|██████████| 1000/1000 [00:12<00:00, 81.77it/s]\n"
     ]
    },
    {
     "name": "stdout",
     "output_type": "stream",
     "text": [
      "\tSaving grtcomp-0152-ET0013132800.data...\n",
      "\tLarge distances: 3/1000\n",
      "\tDZ Statistics: (min,mean,std,max)=0.00121598,0.0176803,0.012923,0.133787\n",
      "Reading file 153...\n"
     ]
    },
    {
     "name": "stderr",
     "output_type": "stream",
     "text": [
      "100%|██████████| 1000/1000 [00:12<00:00, 82.06it/s]\n"
     ]
    },
    {
     "name": "stdout",
     "output_type": "stream",
     "text": [
      "\tSaving grtcomp-0153-ET0013219200.data...\n",
      "\tLarge distances: 1/1000\n",
      "\tDZ Statistics: (min,mean,std,max)=0.00137711,0.0172571,0.0111927,0.101695\n",
      "Reading file 154...\n"
     ]
    },
    {
     "name": "stderr",
     "output_type": "stream",
     "text": [
      "100%|██████████| 1000/1000 [00:12<00:00, 81.66it/s]\n"
     ]
    },
    {
     "name": "stdout",
     "output_type": "stream",
     "text": [
      "\tSaving grtcomp-0154-ET0013305600.data...\n",
      "\tLarge distances: 6/1000\n",
      "\tDZ Statistics: (min,mean,std,max)=0.00189017,0.0179907,0.0222292,0.509382\n",
      "Reading file 155...\n"
     ]
    },
    {
     "name": "stderr",
     "output_type": "stream",
     "text": [
      "100%|██████████| 1000/1000 [00:12<00:00, 82.74it/s]\n"
     ]
    },
    {
     "name": "stdout",
     "output_type": "stream",
     "text": [
      "\tSaving grtcomp-0155-ET0013392000.data...\n",
      "\tLarge distances: 4/1000\n",
      "\tDZ Statistics: (min,mean,std,max)=0.00155093,0.0180887,0.0188886,0.330309\n",
      "Reading file 156...\n"
     ]
    },
    {
     "name": "stderr",
     "output_type": "stream",
     "text": [
      "100%|██████████| 1000/1000 [00:12<00:00, 81.18it/s]\n"
     ]
    },
    {
     "name": "stdout",
     "output_type": "stream",
     "text": [
      "\tSaving grtcomp-0156-ET0013478400.data...\n",
      "\tLarge distances: 1/1000\n",
      "\tDZ Statistics: (min,mean,std,max)=0.0017235,0.0172043,0.0122422,0.173314\n"
     ]
    },
    {
     "name": "stderr",
     "output_type": "stream",
     "text": [
      "\r",
      "  0%|          | 0/1000 [00:00<?, ?it/s]"
     ]
    },
    {
     "name": "stdout",
     "output_type": "stream",
     "text": [
      "Reading file 157...\n"
     ]
    },
    {
     "name": "stderr",
     "output_type": "stream",
     "text": [
      "100%|██████████| 1000/1000 [00:12<00:00, 82.89it/s]\n"
     ]
    },
    {
     "name": "stdout",
     "output_type": "stream",
     "text": [
      "\tSaving grtcomp-0157-ET0013564800.data...\n",
      "\tLarge distances: 4/1000\n",
      "\tDZ Statistics: (min,mean,std,max)=0.00166651,0.0171115,0.0164078,0.309695\n",
      "Reading file 158...\n"
     ]
    },
    {
     "name": "stderr",
     "output_type": "stream",
     "text": [
      "100%|██████████| 1000/1000 [00:12<00:00, 79.80it/s]\n"
     ]
    },
    {
     "name": "stdout",
     "output_type": "stream",
     "text": [
      "\tSaving grtcomp-0158-ET0013651200.data...\n",
      "\tLarge distances: 3/1000\n",
      "\tDZ Statistics: (min,mean,std,max)=0.00177061,0.017059,0.0125922,0.178741\n",
      "Reading file 159...\n"
     ]
    },
    {
     "name": "stderr",
     "output_type": "stream",
     "text": [
      "100%|██████████| 1000/1000 [00:14<00:00, 70.46it/s]\n"
     ]
    },
    {
     "name": "stdout",
     "output_type": "stream",
     "text": [
      "\tSaving grtcomp-0159-ET0013737600.data...\n",
      "\tLarge distances: 2/1000\n",
      "\tDZ Statistics: (min,mean,std,max)=0.00181174,0.0167581,0.0127577,0.207148\n",
      "Reading file 160...\n"
     ]
    },
    {
     "name": "stderr",
     "output_type": "stream",
     "text": [
      "100%|██████████| 1000/1000 [00:13<00:00, 72.07it/s]\n"
     ]
    },
    {
     "name": "stdout",
     "output_type": "stream",
     "text": [
      "\tSaving grtcomp-0160-ET0013824000.data...\n",
      "\tLarge distances: 2/1000\n",
      "\tDZ Statistics: (min,mean,std,max)=0.00184944,0.0181707,0.0517456,1.58617\n"
     ]
    },
    {
     "name": "stderr",
     "output_type": "stream",
     "text": [
      "\r",
      "  0%|          | 0/1000 [00:00<?, ?it/s]"
     ]
    },
    {
     "name": "stdout",
     "output_type": "stream",
     "text": [
      "Reading file 161...\n"
     ]
    },
    {
     "name": "stderr",
     "output_type": "stream",
     "text": [
      "100%|██████████| 1000/1000 [00:13<00:00, 73.56it/s]\n"
     ]
    },
    {
     "name": "stdout",
     "output_type": "stream",
     "text": [
      "\tSaving grtcomp-0161-ET0013910400.data...\n",
      "\tLarge distances: 5/1000\n",
      "\tDZ Statistics: (min,mean,std,max)=0.00163069,0.0172112,0.0195464,0.41559\n",
      "Reading file 162...\n"
     ]
    },
    {
     "name": "stderr",
     "output_type": "stream",
     "text": [
      "100%|██████████| 1000/1000 [00:12<00:00, 82.16it/s]\n"
     ]
    },
    {
     "name": "stdout",
     "output_type": "stream",
     "text": [
      "\tSaving grtcomp-0162-ET0013996800.data...\n",
      "\tLarge distances: 6/1000\n",
      "\tDZ Statistics: (min,mean,std,max)=0.00161312,0.0169788,0.014405,0.185566\n",
      "Reading file 163...\n"
     ]
    },
    {
     "name": "stderr",
     "output_type": "stream",
     "text": [
      "100%|██████████| 1000/1000 [00:12<00:00, 79.61it/s]\n"
     ]
    },
    {
     "name": "stdout",
     "output_type": "stream",
     "text": [
      "\tSaving grtcomp-0163-ET0014083200.data...\n",
      "\tLarge distances: 2/1000\n",
      "\tDZ Statistics: (min,mean,std,max)=0.00095125,0.0157047,0.0115766,0.190483\n",
      "Reading file 164...\n"
     ]
    },
    {
     "name": "stderr",
     "output_type": "stream",
     "text": [
      "100%|██████████| 1000/1000 [00:12<00:00, 77.85it/s]\n"
     ]
    },
    {
     "name": "stdout",
     "output_type": "stream",
     "text": [
      "\tSaving grtcomp-0164-ET0014169600.data...\n",
      "\tLarge distances: 3/1000\n",
      "\tDZ Statistics: (min,mean,std,max)=0.00161264,0.0157469,0.0152644,0.246465\n",
      "Reading file 165...\n"
     ]
    },
    {
     "name": "stderr",
     "output_type": "stream",
     "text": [
      "100%|██████████| 1000/1000 [00:12<00:00, 80.88it/s]\n"
     ]
    },
    {
     "name": "stdout",
     "output_type": "stream",
     "text": [
      "\tSaving grtcomp-0165-ET0014256000.data...\n",
      "\tLarge distances: 3/1000\n",
      "\tDZ Statistics: (min,mean,std,max)=0.00177921,0.0158663,0.0215786,0.455163\n",
      "Reading file 166...\n"
     ]
    },
    {
     "name": "stderr",
     "output_type": "stream",
     "text": [
      "100%|██████████| 1000/1000 [00:12<00:00, 80.35it/s]\n"
     ]
    },
    {
     "name": "stdout",
     "output_type": "stream",
     "text": [
      "\tSaving grtcomp-0166-ET0014342400.data...\n",
      "\tLarge distances: 4/1000\n",
      "\tDZ Statistics: (min,mean,std,max)=0.00179924,0.0165329,0.0266806,0.581951\n",
      "Reading file 167...\n"
     ]
    },
    {
     "name": "stderr",
     "output_type": "stream",
     "text": [
      "100%|██████████| 1000/1000 [00:12<00:00, 81.38it/s]\n"
     ]
    },
    {
     "name": "stdout",
     "output_type": "stream",
     "text": [
      "\tSaving grtcomp-0167-ET0014428800.data...\n",
      "\tLarge distances: 2/1000\n",
      "\tDZ Statistics: (min,mean,std,max)=0.00225738,0.0155737,0.010978,0.13673\n",
      "Reading file 168...\n"
     ]
    },
    {
     "name": "stderr",
     "output_type": "stream",
     "text": [
      "100%|██████████| 1000/1000 [00:13<00:00, 74.31it/s]\n"
     ]
    },
    {
     "name": "stdout",
     "output_type": "stream",
     "text": [
      "\tSaving grtcomp-0168-ET0014515200.data...\n",
      "\tLarge distances: 2/1000\n",
      "\tDZ Statistics: (min,mean,std,max)=0.00171414,0.015439,0.020411,0.494866\n",
      "Reading file 169...\n"
     ]
    },
    {
     "name": "stderr",
     "output_type": "stream",
     "text": [
      "100%|██████████| 1000/1000 [00:15<00:00, 63.86it/s]\n"
     ]
    },
    {
     "name": "stdout",
     "output_type": "stream",
     "text": [
      "\tSaving grtcomp-0169-ET0014601600.data...\n",
      "\tLarge distances: 4/1000\n",
      "\tDZ Statistics: (min,mean,std,max)=0.00176736,0.0151996,0.0134604,0.240722\n",
      "Reading file 170...\n"
     ]
    },
    {
     "name": "stderr",
     "output_type": "stream",
     "text": [
      "100%|██████████| 1000/1000 [00:14<00:00, 68.86it/s]\n"
     ]
    },
    {
     "name": "stdout",
     "output_type": "stream",
     "text": [
      "\tSaving grtcomp-0170-ET0014688000.data...\n",
      "\tLarge distances: 3/1000\n",
      "\tDZ Statistics: (min,mean,std,max)=0.00208993,0.0155997,0.0178492,0.38729\n",
      "Reading file 171...\n"
     ]
    },
    {
     "name": "stderr",
     "output_type": "stream",
     "text": [
      "100%|██████████| 1000/1000 [00:14<00:00, 70.41it/s]\n"
     ]
    },
    {
     "name": "stdout",
     "output_type": "stream",
     "text": [
      "\tSaving grtcomp-0171-ET0014774400.data...\n",
      "\tLarge distances: 5/1000\n",
      "\tDZ Statistics: (min,mean,std,max)=0.00229449,0.0160216,0.0238527,0.531663\n",
      "Reading file 172...\n"
     ]
    },
    {
     "name": "stderr",
     "output_type": "stream",
     "text": [
      "100%|██████████| 1000/1000 [00:13<00:00, 75.37it/s]\n"
     ]
    },
    {
     "name": "stdout",
     "output_type": "stream",
     "text": [
      "\tSaving grtcomp-0172-ET0014860800.data...\n",
      "\tLarge distances: 4/1000\n",
      "\tDZ Statistics: (min,mean,std,max)=0.00218761,0.0152957,0.0217579,0.543384\n",
      "Reading file 173...\n"
     ]
    },
    {
     "name": "stderr",
     "output_type": "stream",
     "text": [
      "100%|██████████| 1000/1000 [00:13<00:00, 78.14it/s]\n"
     ]
    },
    {
     "name": "stdout",
     "output_type": "stream",
     "text": [
      "\tSaving grtcomp-0173-ET0014947200.data...\n",
      "\tLarge distances: 2/1000\n",
      "\tDZ Statistics: (min,mean,std,max)=0.00209352,0.0148669,0.0173902,0.470904\n",
      "Reading file 174...\n"
     ]
    },
    {
     "name": "stderr",
     "output_type": "stream",
     "text": [
      "100%|██████████| 1000/1000 [00:13<00:00, 71.94it/s]\n"
     ]
    },
    {
     "name": "stdout",
     "output_type": "stream",
     "text": [
      "\tSaving grtcomp-0174-ET0015033600.data...\n",
      "\tLarge distances: 3/1000\n",
      "\tDZ Statistics: (min,mean,std,max)=0.00229578,0.0142415,0.0164302,0.39811\n",
      "Reading file 175...\n"
     ]
    },
    {
     "name": "stderr",
     "output_type": "stream",
     "text": [
      "100%|██████████| 1000/1000 [00:16<00:00, 50.81it/s]\n"
     ]
    },
    {
     "name": "stdout",
     "output_type": "stream",
     "text": [
      "\tSaving grtcomp-0175-ET0015120000.data...\n",
      "\tLarge distances: 0/1000\n",
      "\tDZ Statistics: (min,mean,std,max)=0.00139197,0.013695,0.00963412,0.0986917\n",
      "Reading file 176...\n"
     ]
    },
    {
     "name": "stderr",
     "output_type": "stream",
     "text": [
      "100%|██████████| 1000/1000 [00:17<00:00, 58.34it/s]\n"
     ]
    },
    {
     "name": "stdout",
     "output_type": "stream",
     "text": [
      "\tSaving grtcomp-0176-ET0015206400.data...\n",
      "\tLarge distances: 2/1000\n",
      "\tDZ Statistics: (min,mean,std,max)=0.00195405,0.0139916,0.0110181,0.169332\n",
      "Reading file 177...\n"
     ]
    },
    {
     "name": "stderr",
     "output_type": "stream",
     "text": [
      "100%|██████████| 1000/1000 [00:14<00:00, 69.45it/s]\n"
     ]
    },
    {
     "name": "stdout",
     "output_type": "stream",
     "text": [
      "\tSaving grtcomp-0177-ET0015292800.data...\n",
      "\tLarge distances: 3/1000\n",
      "\tDZ Statistics: (min,mean,std,max)=0.000908659,0.0141446,0.0157433,0.371624\n",
      "Reading file 178...\n"
     ]
    },
    {
     "name": "stderr",
     "output_type": "stream",
     "text": [
      "100%|██████████| 1000/1000 [00:14<00:00, 73.63it/s]\n"
     ]
    },
    {
     "name": "stdout",
     "output_type": "stream",
     "text": [
      "\tSaving grtcomp-0178-ET0015379200.data...\n",
      "\tLarge distances: 3/1000\n",
      "\tDZ Statistics: (min,mean,std,max)=0.00103447,0.0148891,0.0487526,1.52011\n",
      "Reading file 179...\n"
     ]
    },
    {
     "name": "stderr",
     "output_type": "stream",
     "text": [
      "100%|██████████| 1000/1000 [00:14<00:00, 70.80it/s]\n"
     ]
    },
    {
     "name": "stdout",
     "output_type": "stream",
     "text": [
      "\tSaving grtcomp-0179-ET0015465600.data...\n",
      "\tLarge distances: 4/1000\n",
      "\tDZ Statistics: (min,mean,std,max)=0.000899442,0.0156266,0.0382214,1.07471\n",
      "Reading file 180...\n"
     ]
    },
    {
     "name": "stderr",
     "output_type": "stream",
     "text": [
      "100%|██████████| 1000/1000 [00:18<00:00, 55.53it/s]\n"
     ]
    },
    {
     "name": "stdout",
     "output_type": "stream",
     "text": [
      "\tSaving grtcomp-0180-ET0015552000.data...\n",
      "\tLarge distances: 4/1000\n",
      "\tDZ Statistics: (min,mean,std,max)=0.00203817,0.014696,0.0344573,1.01294\n",
      "Reading file 181...\n"
     ]
    },
    {
     "name": "stderr",
     "output_type": "stream",
     "text": [
      "100%|██████████| 1000/1000 [00:14<00:00, 69.54it/s]\n"
     ]
    },
    {
     "name": "stdout",
     "output_type": "stream",
     "text": [
      "\tSaving grtcomp-0181-ET0015638400.data...\n",
      "\tLarge distances: 4/1000\n",
      "\tDZ Statistics: (min,mean,std,max)=0.00183729,0.0135505,0.0169611,0.389477\n",
      "Reading file 182...\n"
     ]
    },
    {
     "name": "stderr",
     "output_type": "stream",
     "text": [
      "100%|██████████| 1000/1000 [00:13<00:00, 76.58it/s]\n"
     ]
    },
    {
     "name": "stdout",
     "output_type": "stream",
     "text": [
      "\tSaving grtcomp-0182-ET0015724800.data...\n",
      "\tLarge distances: 2/1000\n",
      "\tDZ Statistics: (min,mean,std,max)=0.00140777,0.0146518,0.051558,1.30606\n",
      "Reading file 183...\n"
     ]
    },
    {
     "name": "stderr",
     "output_type": "stream",
     "text": [
      "100%|██████████| 1000/1000 [00:12<00:00, 77.55it/s]\n"
     ]
    },
    {
     "name": "stdout",
     "output_type": "stream",
     "text": [
      "\tSaving grtcomp-0183-ET0015811200.data...\n",
      "\tLarge distances: 1/1000\n",
      "\tDZ Statistics: (min,mean,std,max)=0.00146465,0.0130155,0.00960885,0.110126\n",
      "Reading file 184...\n"
     ]
    },
    {
     "name": "stderr",
     "output_type": "stream",
     "text": [
      "100%|██████████| 1000/1000 [00:13<00:00, 76.87it/s]\n"
     ]
    },
    {
     "name": "stdout",
     "output_type": "stream",
     "text": [
      "\tSaving grtcomp-0184-ET0015897600.data...\n",
      "\tLarge distances: 4/1000\n",
      "\tDZ Statistics: (min,mean,std,max)=0.00154411,0.0140142,0.0372579,1.02439\n",
      "Reading file 185...\n"
     ]
    },
    {
     "name": "stderr",
     "output_type": "stream",
     "text": [
      "100%|██████████| 1000/1000 [00:13<00:00, 72.88it/s]\n"
     ]
    },
    {
     "name": "stdout",
     "output_type": "stream",
     "text": [
      "\tSaving grtcomp-0185-ET0015984000.data...\n",
      "\tLarge distances: 1/1000\n",
      "\tDZ Statistics: (min,mean,std,max)=0.00178857,0.0133695,0.0338963,1.04878\n",
      "Reading file 186...\n"
     ]
    },
    {
     "name": "stderr",
     "output_type": "stream",
     "text": [
      "100%|██████████| 1000/1000 [00:14<00:00, 69.09it/s]\n"
     ]
    },
    {
     "name": "stdout",
     "output_type": "stream",
     "text": [
      "\tSaving grtcomp-0186-ET0016070400.data...\n",
      "\tLarge distances: 3/1000\n",
      "\tDZ Statistics: (min,mean,std,max)=0.00161304,0.0131743,0.012582,0.1663\n",
      "Reading file 187...\n"
     ]
    },
    {
     "name": "stderr",
     "output_type": "stream",
     "text": [
      "100%|██████████| 1000/1000 [00:23<00:00, 42.47it/s]\n"
     ]
    },
    {
     "name": "stdout",
     "output_type": "stream",
     "text": [
      "\tSaving grtcomp-0187-ET0016156800.data...\n",
      "\tLarge distances: 2/1000\n",
      "\tDZ Statistics: (min,mean,std,max)=0.00117427,0.012376,0.0146988,0.354425\n",
      "Reading file 188...\n"
     ]
    },
    {
     "name": "stderr",
     "output_type": "stream",
     "text": [
      "100%|██████████| 1000/1000 [00:18<00:00, 55.15it/s]\n"
     ]
    },
    {
     "name": "stdout",
     "output_type": "stream",
     "text": [
      "\tSaving grtcomp-0188-ET0016243200.data...\n",
      "\tLarge distances: 5/1000\n",
      "\tDZ Statistics: (min,mean,std,max)=0.00152329,0.0141112,0.037466,0.800801\n",
      "Reading file 189...\n"
     ]
    },
    {
     "name": "stderr",
     "output_type": "stream",
     "text": [
      "100%|██████████| 1000/1000 [00:18<00:00, 55.16it/s]\n"
     ]
    },
    {
     "name": "stdout",
     "output_type": "stream",
     "text": [
      "\tSaving grtcomp-0189-ET0016329600.data...\n",
      "\tLarge distances: 5/1000\n",
      "\tDZ Statistics: (min,mean,std,max)=0.00130349,0.0146646,0.0370476,0.612395\n",
      "Reading file 190...\n"
     ]
    },
    {
     "name": "stderr",
     "output_type": "stream",
     "text": [
      "100%|██████████| 1000/1000 [00:14<00:00, 67.70it/s]\n"
     ]
    },
    {
     "name": "stdout",
     "output_type": "stream",
     "text": [
      "\tSaving grtcomp-0190-ET0016416000.data...\n",
      "\tLarge distances: 2/1000\n",
      "\tDZ Statistics: (min,mean,std,max)=0.00107665,0.0124852,0.0134161,0.241237\n",
      "Reading file 191...\n"
     ]
    },
    {
     "name": "stderr",
     "output_type": "stream",
     "text": [
      "100%|██████████| 1000/1000 [00:12<00:00, 81.50it/s]\n"
     ]
    },
    {
     "name": "stdout",
     "output_type": "stream",
     "text": [
      "\tSaving grtcomp-0191-ET0016502400.data...\n",
      "\tLarge distances: 2/1000\n",
      "\tDZ Statistics: (min,mean,std,max)=0.00184008,0.0121927,0.0123911,0.218677\n",
      "Reading file 192...\n"
     ]
    },
    {
     "name": "stderr",
     "output_type": "stream",
     "text": [
      "100%|██████████| 1000/1000 [00:15<00:00, 65.01it/s]\n"
     ]
    },
    {
     "name": "stdout",
     "output_type": "stream",
     "text": [
      "\tSaving grtcomp-0192-ET0016588800.data...\n",
      "\tLarge distances: 1/1000\n",
      "\tDZ Statistics: (min,mean,std,max)=0.00143893,0.0118142,0.0108476,0.196259\n",
      "Reading file 193...\n"
     ]
    },
    {
     "name": "stderr",
     "output_type": "stream",
     "text": [
      "100%|██████████| 1000/1000 [00:13<00:00, 73.85it/s]\n"
     ]
    },
    {
     "name": "stdout",
     "output_type": "stream",
     "text": [
      "\tSaving grtcomp-0193-ET0016675200.data...\n",
      "\tLarge distances: 4/1000\n",
      "\tDZ Statistics: (min,mean,std,max)=0.00188771,0.0120061,0.0122825,0.161834\n",
      "Reading file 194...\n"
     ]
    },
    {
     "name": "stderr",
     "output_type": "stream",
     "text": [
      "100%|██████████| 1000/1000 [00:12<00:00, 81.79it/s]\n"
     ]
    },
    {
     "name": "stdout",
     "output_type": "stream",
     "text": [
      "\tSaving grtcomp-0194-ET0016761600.data...\n",
      "\tLarge distances: 3/1000\n",
      "\tDZ Statistics: (min,mean,std,max)=0.00172285,0.0120662,0.0210643,0.573199\n",
      "Reading file 195...\n"
     ]
    },
    {
     "name": "stderr",
     "output_type": "stream",
     "text": [
      "100%|██████████| 1000/1000 [00:12<00:00, 82.23it/s]\n"
     ]
    },
    {
     "name": "stdout",
     "output_type": "stream",
     "text": [
      "\tSaving grtcomp-0195-ET0016848000.data...\n",
      "\tLarge distances: 2/1000\n",
      "\tDZ Statistics: (min,mean,std,max)=0.00108421,0.011507,0.0185653,0.497355\n",
      "Reading file 196...\n"
     ]
    },
    {
     "name": "stderr",
     "output_type": "stream",
     "text": [
      "100%|██████████| 1000/1000 [00:12<00:00, 82.70it/s]\n"
     ]
    },
    {
     "name": "stdout",
     "output_type": "stream",
     "text": [
      "\tSaving grtcomp-0196-ET0016934400.data...\n",
      "\tLarge distances: 5/1000\n",
      "\tDZ Statistics: (min,mean,std,max)=0.000542145,0.0119081,0.0150415,0.236383\n",
      "Reading file 197...\n"
     ]
    },
    {
     "name": "stderr",
     "output_type": "stream",
     "text": [
      "100%|██████████| 1000/1000 [00:12<00:00, 81.76it/s]\n"
     ]
    },
    {
     "name": "stdout",
     "output_type": "stream",
     "text": [
      "\tSaving grtcomp-0197-ET0017020800.data...\n",
      "\tLarge distances: 2/1000\n",
      "\tDZ Statistics: (min,mean,std,max)=0.000656347,0.0116256,0.0207199,0.56543\n",
      "Reading file 198...\n"
     ]
    },
    {
     "name": "stderr",
     "output_type": "stream",
     "text": [
      "100%|██████████| 1000/1000 [00:12<00:00, 82.71it/s]\n"
     ]
    },
    {
     "name": "stdout",
     "output_type": "stream",
     "text": [
      "\tSaving grtcomp-0198-ET0017107200.data...\n",
      "\tLarge distances: 2/1000\n",
      "\tDZ Statistics: (min,mean,std,max)=0.000718596,0.0111041,0.0129307,0.201912\n",
      "Reading file 199...\n"
     ]
    },
    {
     "name": "stderr",
     "output_type": "stream",
     "text": [
      "100%|██████████| 1000/1000 [00:12<00:00, 82.49it/s]\n"
     ]
    },
    {
     "name": "stdout",
     "output_type": "stream",
     "text": [
      "\tSaving grtcomp-0199-ET0017193600.data...\n",
      "\tLarge distances: 4/1000\n",
      "\tDZ Statistics: (min,mean,std,max)=0.00103834,0.01139,0.0179883,0.443099\n",
      "Reading file 200...\n"
     ]
    },
    {
     "name": "stderr",
     "output_type": "stream",
     "text": [
      "100%|██████████| 1000/1000 [00:12<00:00, 85.19it/s]\n"
     ]
    },
    {
     "name": "stdout",
     "output_type": "stream",
     "text": [
      "\tSaving grtcomp-0200-ET0017280000.data...\n",
      "\tLarge distances: 2/1000\n",
      "\tDZ Statistics: (min,mean,std,max)=0.00130324,0.0104984,0.0104212,0.155328\n",
      "Reading file 201...\n"
     ]
    },
    {
     "name": "stderr",
     "output_type": "stream",
     "text": [
      "100%|██████████| 1000/1000 [00:12<00:00, 82.06it/s]\n"
     ]
    },
    {
     "name": "stdout",
     "output_type": "stream",
     "text": [
      "\tSaving grtcomp-0201-ET0017366400.data...\n",
      "\tLarge distances: 4/1000\n",
      "\tDZ Statistics: (min,mean,std,max)=0.00189505,0.0111032,0.0124644,0.142971\n",
      "Reading file 202...\n"
     ]
    },
    {
     "name": "stderr",
     "output_type": "stream",
     "text": [
      "100%|██████████| 1000/1000 [00:13<00:00, 73.80it/s]\n"
     ]
    },
    {
     "name": "stdout",
     "output_type": "stream",
     "text": [
      "\tSaving grtcomp-0202-ET0017452800.data...\n",
      "\tLarge distances: 1/1000\n",
      "\tDZ Statistics: (min,mean,std,max)=0.00101374,0.0103655,0.0106452,0.122875\n",
      "Reading file 203...\n"
     ]
    },
    {
     "name": "stderr",
     "output_type": "stream",
     "text": [
      "100%|██████████| 1000/1000 [00:14<00:00, 70.94it/s]\n"
     ]
    },
    {
     "name": "stdout",
     "output_type": "stream",
     "text": [
      "\tSaving grtcomp-0203-ET0017539200.data...\n",
      "\tLarge distances: 5/1000\n",
      "\tDZ Statistics: (min,mean,std,max)=0.00132057,0.0114518,0.0216712,0.572072\n",
      "Reading file 204...\n"
     ]
    },
    {
     "name": "stderr",
     "output_type": "stream",
     "text": [
      "100%|██████████| 1000/1000 [00:12<00:00, 78.61it/s]\n"
     ]
    },
    {
     "name": "stdout",
     "output_type": "stream",
     "text": [
      "\tSaving grtcomp-0204-ET0017625600.data...\n",
      "\tLarge distances: 4/1000\n",
      "\tDZ Statistics: (min,mean,std,max)=0.000774873,0.0105364,0.0128933,0.180259\n"
     ]
    },
    {
     "name": "stderr",
     "output_type": "stream",
     "text": [
      "\r",
      "  0%|          | 0/1000 [00:00<?, ?it/s]"
     ]
    },
    {
     "name": "stdout",
     "output_type": "stream",
     "text": [
      "Reading file 205...\n"
     ]
    },
    {
     "name": "stderr",
     "output_type": "stream",
     "text": [
      "100%|██████████| 1000/1000 [00:12<00:00, 81.82it/s]\n"
     ]
    },
    {
     "name": "stdout",
     "output_type": "stream",
     "text": [
      "\tSaving grtcomp-0205-ET0017712000.data...\n",
      "\tLarge distances: 4/1000\n",
      "\tDZ Statistics: (min,mean,std,max)=0.000281659,0.010899,0.0156585,0.270323\n",
      "Reading file 206...\n"
     ]
    },
    {
     "name": "stderr",
     "output_type": "stream",
     "text": [
      "100%|██████████| 1000/1000 [00:12<00:00, 82.44it/s]\n"
     ]
    },
    {
     "name": "stdout",
     "output_type": "stream",
     "text": [
      "\tSaving grtcomp-0206-ET0017798400.data...\n",
      "\tLarge distances: 1/1000\n",
      "\tDZ Statistics: (min,mean,std,max)=0.000576475,0.0104576,0.0123974,0.179354\n",
      "Reading file 207...\n"
     ]
    },
    {
     "name": "stderr",
     "output_type": "stream",
     "text": [
      "100%|██████████| 1000/1000 [00:12<00:00, 81.79it/s]\n"
     ]
    },
    {
     "name": "stdout",
     "output_type": "stream",
     "text": [
      "\tSaving grtcomp-0207-ET0017884800.data...\n",
      "\tLarge distances: 4/1000\n",
      "\tDZ Statistics: (min,mean,std,max)=0.000199616,0.0106092,0.0173671,0.337987\n",
      "Reading file 208...\n"
     ]
    },
    {
     "name": "stderr",
     "output_type": "stream",
     "text": [
      "100%|██████████| 1000/1000 [00:12<00:00, 81.55it/s]\n"
     ]
    },
    {
     "name": "stdout",
     "output_type": "stream",
     "text": [
      "\tSaving grtcomp-0208-ET0017971200.data...\n",
      "\tLarge distances: 2/1000\n",
      "\tDZ Statistics: (min,mean,std,max)=0.000521934,0.0101922,0.0199379,0.539477\n",
      "Reading file 209...\n"
     ]
    },
    {
     "name": "stderr",
     "output_type": "stream",
     "text": [
      "100%|██████████| 1000/1000 [00:12<00:00, 83.31it/s]\n"
     ]
    },
    {
     "name": "stdout",
     "output_type": "stream",
     "text": [
      "\tSaving grtcomp-0209-ET0018057600.data...\n",
      "\tLarge distances: 5/1000\n",
      "\tDZ Statistics: (min,mean,std,max)=0.000375919,0.010476,0.0213118,0.461108\n",
      "Reading file 210...\n"
     ]
    },
    {
     "name": "stderr",
     "output_type": "stream",
     "text": [
      "100%|██████████| 1000/1000 [00:12<00:00, 79.18it/s]\n"
     ]
    },
    {
     "name": "stdout",
     "output_type": "stream",
     "text": [
      "\tSaving grtcomp-0210-ET0018144000.data...\n",
      "\tLarge distances: 2/1000\n",
      "\tDZ Statistics: (min,mean,std,max)=0.000349358,0.009881,0.0141388,0.249041\n",
      "Reading file 211...\n"
     ]
    },
    {
     "name": "stderr",
     "output_type": "stream",
     "text": [
      "100%|██████████| 1000/1000 [00:12<00:00, 82.24it/s]\n"
     ]
    },
    {
     "name": "stdout",
     "output_type": "stream",
     "text": [
      "\tSaving grtcomp-0211-ET0018230400.data...\n",
      "\tLarge distances: 3/1000\n",
      "\tDZ Statistics: (min,mean,std,max)=0.000350353,0.00975252,0.0119057,0.127677\n",
      "Reading file 212...\n"
     ]
    },
    {
     "name": "stderr",
     "output_type": "stream",
     "text": [
      "100%|██████████| 1000/1000 [00:12<00:00, 77.17it/s]\n"
     ]
    },
    {
     "name": "stdout",
     "output_type": "stream",
     "text": [
      "\tSaving grtcomp-0212-ET0018316800.data...\n",
      "\tLarge distances: 3/1000\n",
      "\tDZ Statistics: (min,mean,std,max)=0.000329671,0.0105835,0.020459,0.390615\n",
      "Reading file 213...\n"
     ]
    },
    {
     "name": "stderr",
     "output_type": "stream",
     "text": [
      "100%|██████████| 1000/1000 [00:12<00:00, 82.24it/s]\n"
     ]
    },
    {
     "name": "stdout",
     "output_type": "stream",
     "text": [
      "\tSaving grtcomp-0213-ET0018403200.data...\n",
      "\tLarge distances: 1/1000\n",
      "\tDZ Statistics: (min,mean,std,max)=0.000273867,0.00949148,0.0122065,0.207638\n",
      "Reading file 214...\n"
     ]
    },
    {
     "name": "stderr",
     "output_type": "stream",
     "text": [
      "100%|██████████| 1000/1000 [00:11<00:00, 82.76it/s]\n"
     ]
    },
    {
     "name": "stdout",
     "output_type": "stream",
     "text": [
      "\tSaving grtcomp-0214-ET0018489600.data...\n",
      "\tLarge distances: 2/1000\n",
      "\tDZ Statistics: (min,mean,std,max)=0.000192585,0.00942027,0.0124284,0.172969\n",
      "Reading file 215...\n"
     ]
    },
    {
     "name": "stderr",
     "output_type": "stream",
     "text": [
      "100%|██████████| 1000/1000 [00:12<00:00, 82.64it/s]\n"
     ]
    },
    {
     "name": "stdout",
     "output_type": "stream",
     "text": [
      "\tSaving grtcomp-0215-ET0018576000.data...\n",
      "\tLarge distances: 2/1000\n",
      "\tDZ Statistics: (min,mean,std,max)=0.000114597,0.00989678,0.0160315,0.375933\n",
      "Reading file 216...\n"
     ]
    },
    {
     "name": "stderr",
     "output_type": "stream",
     "text": [
      "100%|██████████| 1000/1000 [00:12<00:00, 82.70it/s]\n"
     ]
    },
    {
     "name": "stdout",
     "output_type": "stream",
     "text": [
      "\tSaving grtcomp-0216-ET0018662400.data...\n",
      "\tLarge distances: 0/1000\n",
      "\tDZ Statistics: (min,mean,std,max)=0.000155389,0.00911309,0.00970567,0.0682545\n",
      "Reading file 217...\n"
     ]
    },
    {
     "name": "stderr",
     "output_type": "stream",
     "text": [
      "100%|██████████| 1000/1000 [00:12<00:00, 83.04it/s]\n"
     ]
    },
    {
     "name": "stdout",
     "output_type": "stream",
     "text": [
      "\tSaving grtcomp-0217-ET0018748800.data...\n",
      "\tLarge distances: 0/1000\n",
      "\tDZ Statistics: (min,mean,std,max)=0.000135186,0.00964125,0.0117491,0.0884599\n",
      "Reading file 218...\n"
     ]
    },
    {
     "name": "stderr",
     "output_type": "stream",
     "text": [
      "100%|██████████| 1000/1000 [00:12<00:00, 83.04it/s]\n"
     ]
    },
    {
     "name": "stdout",
     "output_type": "stream",
     "text": [
      "\tSaving grtcomp-0218-ET0018835200.data...\n",
      "\tLarge distances: 3/1000\n",
      "\tDZ Statistics: (min,mean,std,max)=5.04117e-05,0.0104396,0.0154244,0.317735\n",
      "Reading file 219...\n"
     ]
    },
    {
     "name": "stderr",
     "output_type": "stream",
     "text": [
      "100%|██████████| 1000/1000 [00:11<00:00, 83.53it/s]\n"
     ]
    },
    {
     "name": "stdout",
     "output_type": "stream",
     "text": [
      "\tSaving grtcomp-0219-ET0018921600.data...\n",
      "\tLarge distances: 0/1000\n",
      "\tDZ Statistics: (min,mean,std,max)=0.000271659,0.00976782,0.0111644,0.0993927\n",
      "Reading file 220...\n"
     ]
    },
    {
     "name": "stderr",
     "output_type": "stream",
     "text": [
      "100%|██████████| 1000/1000 [00:12<00:00, 82.51it/s]\n"
     ]
    },
    {
     "name": "stdout",
     "output_type": "stream",
     "text": [
      "\tSaving grtcomp-0220-ET0019008000.data...\n",
      "\tLarge distances: 1/1000\n",
      "\tDZ Statistics: (min,mean,std,max)=0.000362458,0.0102697,0.0140067,0.281136\n",
      "Reading file 221...\n"
     ]
    },
    {
     "name": "stderr",
     "output_type": "stream",
     "text": [
      "100%|██████████| 1000/1000 [00:12<00:00, 82.31it/s]\n"
     ]
    },
    {
     "name": "stdout",
     "output_type": "stream",
     "text": [
      "\tSaving grtcomp-0221-ET0019094400.data...\n",
      "\tLarge distances: 4/1000\n",
      "\tDZ Statistics: (min,mean,std,max)=0.000111375,0.0102308,0.0185009,0.418772\n",
      "Reading file 222...\n"
     ]
    },
    {
     "name": "stderr",
     "output_type": "stream",
     "text": [
      "100%|██████████| 1000/1000 [00:12<00:00, 82.01it/s]\n"
     ]
    },
    {
     "name": "stdout",
     "output_type": "stream",
     "text": [
      "\tSaving grtcomp-0222-ET0019180800.data...\n",
      "\tLarge distances: 4/1000\n",
      "\tDZ Statistics: (min,mean,std,max)=0.000444383,0.0107519,0.0189573,0.434407\n",
      "Reading file 223...\n"
     ]
    },
    {
     "name": "stderr",
     "output_type": "stream",
     "text": [
      "100%|██████████| 1000/1000 [00:12<00:00, 82.70it/s]\n"
     ]
    },
    {
     "name": "stdout",
     "output_type": "stream",
     "text": [
      "\tSaving grtcomp-0223-ET0019267200.data...\n",
      "\tLarge distances: 3/1000\n",
      "\tDZ Statistics: (min,mean,std,max)=0.000789596,0.0107397,0.0127476,0.134082\n",
      "Reading file 224...\n"
     ]
    },
    {
     "name": "stderr",
     "output_type": "stream",
     "text": [
      "100%|██████████| 1000/1000 [00:12<00:00, 83.14it/s]\n"
     ]
    },
    {
     "name": "stdout",
     "output_type": "stream",
     "text": [
      "\tSaving grtcomp-0224-ET0019353600.data...\n",
      "\tLarge distances: 3/1000\n",
      "\tDZ Statistics: (min,mean,std,max)=0.000692898,0.0103353,0.0135488,0.242585\n",
      "Reading file 225...\n"
     ]
    },
    {
     "name": "stderr",
     "output_type": "stream",
     "text": [
      "100%|██████████| 1000/1000 [00:12<00:00, 82.99it/s]\n"
     ]
    },
    {
     "name": "stdout",
     "output_type": "stream",
     "text": [
      "\tSaving grtcomp-0225-ET0019440000.data...\n",
      "\tLarge distances: 4/1000\n",
      "\tDZ Statistics: (min,mean,std,max)=0.000504256,0.0108155,0.0134389,0.144795\n",
      "Reading file 226...\n"
     ]
    },
    {
     "name": "stderr",
     "output_type": "stream",
     "text": [
      "100%|██████████| 1000/1000 [00:12<00:00, 82.56it/s]\n"
     ]
    },
    {
     "name": "stdout",
     "output_type": "stream",
     "text": [
      "\tSaving grtcomp-0226-ET0019526400.data...\n",
      "\tLarge distances: 1/1000\n",
      "\tDZ Statistics: (min,mean,std,max)=0.000255507,0.00993013,0.010482,0.115713\n",
      "Reading file 227...\n"
     ]
    },
    {
     "name": "stderr",
     "output_type": "stream",
     "text": [
      "100%|██████████| 1000/1000 [00:12<00:00, 82.71it/s]\n"
     ]
    },
    {
     "name": "stdout",
     "output_type": "stream",
     "text": [
      "\tSaving grtcomp-0227-ET0019612800.data...\n",
      "\tLarge distances: 2/1000\n",
      "\tDZ Statistics: (min,mean,std,max)=0.000612953,0.0114605,0.0148287,0.270819\n",
      "Reading file 228...\n"
     ]
    },
    {
     "name": "stderr",
     "output_type": "stream",
     "text": [
      "100%|██████████| 1000/1000 [00:12<00:00, 82.72it/s]\n"
     ]
    },
    {
     "name": "stdout",
     "output_type": "stream",
     "text": [
      "\tSaving grtcomp-0228-ET0019699200.data...\n",
      "\tLarge distances: 2/1000\n",
      "\tDZ Statistics: (min,mean,std,max)=0.000701084,0.0110788,0.0185725,0.477787\n"
     ]
    },
    {
     "name": "stderr",
     "output_type": "stream",
     "text": [
      "\r",
      "  0%|          | 0/1000 [00:00<?, ?it/s]"
     ]
    },
    {
     "name": "stdout",
     "output_type": "stream",
     "text": [
      "Reading file 229...\n"
     ]
    },
    {
     "name": "stderr",
     "output_type": "stream",
     "text": [
      "100%|██████████| 1000/1000 [00:13<00:00, 74.22it/s]\n"
     ]
    },
    {
     "name": "stdout",
     "output_type": "stream",
     "text": [
      "\tSaving grtcomp-0229-ET0019785600.data...\n",
      "\tLarge distances: 2/1000\n",
      "\tDZ Statistics: (min,mean,std,max)=0.000889948,0.0116548,0.0224313,0.539434\n",
      "Reading file 230...\n"
     ]
    },
    {
     "name": "stderr",
     "output_type": "stream",
     "text": [
      "100%|██████████| 1000/1000 [00:12<00:00, 81.18it/s]\n"
     ]
    },
    {
     "name": "stdout",
     "output_type": "stream",
     "text": [
      "\tSaving grtcomp-0230-ET0019872000.data...\n",
      "\tLarge distances: 2/1000\n",
      "\tDZ Statistics: (min,mean,std,max)=0.00143876,0.0110962,0.0118973,0.126241\n",
      "Reading file 231...\n"
     ]
    },
    {
     "name": "stderr",
     "output_type": "stream",
     "text": [
      "100%|██████████| 1000/1000 [00:11<00:00, 83.81it/s]\n"
     ]
    },
    {
     "name": "stdout",
     "output_type": "stream",
     "text": [
      "\tSaving grtcomp-0231-ET0019958400.data...\n",
      "\tLarge distances: 3/1000\n",
      "\tDZ Statistics: (min,mean,std,max)=0.00124944,0.0115563,0.0156158,0.303798\n",
      "Reading file 232...\n"
     ]
    },
    {
     "name": "stderr",
     "output_type": "stream",
     "text": [
      "100%|██████████| 1000/1000 [00:12<00:00, 80.33it/s]\n"
     ]
    },
    {
     "name": "stdout",
     "output_type": "stream",
     "text": [
      "\tSaving grtcomp-0232-ET0020044800.data...\n",
      "\tLarge distances: 1/1000\n",
      "\tDZ Statistics: (min,mean,std,max)=0.00105163,0.0118815,0.0195249,0.515529\n",
      "Reading file 233...\n"
     ]
    },
    {
     "name": "stderr",
     "output_type": "stream",
     "text": [
      "100%|██████████| 1000/1000 [00:12<00:00, 81.81it/s]\n"
     ]
    },
    {
     "name": "stdout",
     "output_type": "stream",
     "text": [
      "\tSaving grtcomp-0233-ET0020131200.data...\n",
      "\tLarge distances: 4/1000\n",
      "\tDZ Statistics: (min,mean,std,max)=0.00165291,0.0120481,0.0171047,0.32676\n",
      "Reading file 234...\n"
     ]
    },
    {
     "name": "stderr",
     "output_type": "stream",
     "text": [
      "100%|██████████| 1000/1000 [00:12<00:00, 85.08it/s]\n"
     ]
    },
    {
     "name": "stdout",
     "output_type": "stream",
     "text": [
      "\tSaving grtcomp-0234-ET0020217600.data...\n",
      "\tLarge distances: 3/1000\n",
      "\tDZ Statistics: (min,mean,std,max)=0.00102865,0.0121464,0.0145641,0.239564\n",
      "Reading file 235...\n"
     ]
    },
    {
     "name": "stderr",
     "output_type": "stream",
     "text": [
      "100%|██████████| 1000/1000 [00:12<00:00, 82.97it/s]\n"
     ]
    },
    {
     "name": "stdout",
     "output_type": "stream",
     "text": [
      "\tSaving grtcomp-0235-ET0020304000.data...\n",
      "\tLarge distances: 2/1000\n",
      "\tDZ Statistics: (min,mean,std,max)=0.00137048,0.0120209,0.020946,0.588152\n",
      "Reading file 236...\n"
     ]
    },
    {
     "name": "stderr",
     "output_type": "stream",
     "text": [
      "100%|██████████| 1000/1000 [00:12<00:00, 82.41it/s]\n"
     ]
    },
    {
     "name": "stdout",
     "output_type": "stream",
     "text": [
      "\tSaving grtcomp-0236-ET0020390400.data...\n",
      "\tLarge distances: 2/1000\n",
      "\tDZ Statistics: (min,mean,std,max)=0.000650407,0.0121899,0.0159058,0.348551\n",
      "Reading file 237...\n"
     ]
    },
    {
     "name": "stderr",
     "output_type": "stream",
     "text": [
      "100%|██████████| 1000/1000 [00:11<00:00, 83.60it/s]\n"
     ]
    },
    {
     "name": "stdout",
     "output_type": "stream",
     "text": [
      "\tSaving grtcomp-0237-ET0020476800.data...\n",
      "\tLarge distances: 3/1000\n",
      "\tDZ Statistics: (min,mean,std,max)=0.00114347,0.0130077,0.0218543,0.545142\n",
      "Reading file 238...\n"
     ]
    },
    {
     "name": "stderr",
     "output_type": "stream",
     "text": [
      "100%|██████████| 1000/1000 [00:12<00:00, 81.34it/s]\n"
     ]
    },
    {
     "name": "stdout",
     "output_type": "stream",
     "text": [
      "\tSaving grtcomp-0238-ET0020563200.data...\n",
      "\tLarge distances: 4/1000\n",
      "\tDZ Statistics: (min,mean,std,max)=0.00144382,0.0130705,0.0225768,0.554721\n",
      "Reading file 239...\n"
     ]
    },
    {
     "name": "stderr",
     "output_type": "stream",
     "text": [
      "100%|██████████| 1000/1000 [00:12<00:00, 82.07it/s]\n"
     ]
    },
    {
     "name": "stdout",
     "output_type": "stream",
     "text": [
      "\tSaving grtcomp-0239-ET0020649600.data...\n",
      "\tLarge distances: 2/1000\n",
      "\tDZ Statistics: (min,mean,std,max)=0.000762399,0.0121419,0.0133756,0.260523\n"
     ]
    },
    {
     "name": "stderr",
     "output_type": "stream",
     "text": [
      "\r",
      "  0%|          | 0/1000 [00:00<?, ?it/s]"
     ]
    },
    {
     "name": "stdout",
     "output_type": "stream",
     "text": [
      "Reading file 240...\n"
     ]
    },
    {
     "name": "stderr",
     "output_type": "stream",
     "text": [
      "100%|██████████| 1000/1000 [00:12<00:00, 81.48it/s]\n"
     ]
    },
    {
     "name": "stdout",
     "output_type": "stream",
     "text": [
      "\tSaving grtcomp-0240-ET0020736000.data...\n",
      "\tLarge distances: 4/1000\n",
      "\tDZ Statistics: (min,mean,std,max)=0.000532654,0.0125943,0.0150435,0.258696\n",
      "Reading file 241...\n"
     ]
    },
    {
     "name": "stderr",
     "output_type": "stream",
     "text": [
      "100%|██████████| 1000/1000 [00:12<00:00, 81.56it/s]\n"
     ]
    },
    {
     "name": "stdout",
     "output_type": "stream",
     "text": [
      "\tSaving grtcomp-0241-ET0020822400.data...\n",
      "\tLarge distances: 2/1000\n",
      "\tDZ Statistics: (min,mean,std,max)=0.00208484,0.0121805,0.0119074,0.189032\n",
      "Reading file 242...\n"
     ]
    },
    {
     "name": "stderr",
     "output_type": "stream",
     "text": [
      "100%|██████████| 1000/1000 [00:12<00:00, 82.01it/s]\n"
     ]
    },
    {
     "name": "stdout",
     "output_type": "stream",
     "text": [
      "\tSaving grtcomp-0242-ET0020908800.data...\n",
      "\tLarge distances: 4/1000\n",
      "\tDZ Statistics: (min,mean,std,max)=0.00111554,0.0126328,0.0157946,0.246475\n"
     ]
    },
    {
     "name": "stderr",
     "output_type": "stream",
     "text": [
      "\r",
      "  0%|          | 0/1000 [00:00<?, ?it/s]"
     ]
    },
    {
     "name": "stdout",
     "output_type": "stream",
     "text": [
      "Reading file 243...\n"
     ]
    },
    {
     "name": "stderr",
     "output_type": "stream",
     "text": [
      "100%|██████████| 1000/1000 [00:12<00:00, 82.32it/s]\n"
     ]
    },
    {
     "name": "stdout",
     "output_type": "stream",
     "text": [
      "\tSaving grtcomp-0243-ET0020995200.data...\n",
      "\tLarge distances: 3/1000\n",
      "\tDZ Statistics: (min,mean,std,max)=0.00107133,0.0128455,0.0143423,0.236424\n",
      "Reading file 244...\n"
     ]
    },
    {
     "name": "stderr",
     "output_type": "stream",
     "text": [
      "100%|██████████| 1000/1000 [00:12<00:00, 82.20it/s]\n"
     ]
    },
    {
     "name": "stdout",
     "output_type": "stream",
     "text": [
      "\tSaving grtcomp-0244-ET0021081600.data...\n",
      "\tLarge distances: 4/1000\n",
      "\tDZ Statistics: (min,mean,std,max)=0.00158749,0.0140458,0.0230968,0.558805\n"
     ]
    },
    {
     "name": "stderr",
     "output_type": "stream",
     "text": [
      "\r",
      "  0%|          | 0/1000 [00:00<?, ?it/s]"
     ]
    },
    {
     "name": "stdout",
     "output_type": "stream",
     "text": [
      "Reading file 245...\n"
     ]
    },
    {
     "name": "stderr",
     "output_type": "stream",
     "text": [
      "100%|██████████| 1000/1000 [00:12<00:00, 82.83it/s]\n"
     ]
    },
    {
     "name": "stdout",
     "output_type": "stream",
     "text": [
      "\tSaving grtcomp-0245-ET0021168000.data...\n",
      "\tLarge distances: 0/1000\n",
      "\tDZ Statistics: (min,mean,std,max)=0.00132549,0.0125441,0.0104684,0.0938822\n",
      "Reading file 246...\n"
     ]
    },
    {
     "name": "stderr",
     "output_type": "stream",
     "text": [
      "100%|██████████| 1000/1000 [00:12<00:00, 81.89it/s]\n"
     ]
    },
    {
     "name": "stdout",
     "output_type": "stream",
     "text": [
      "\tSaving grtcomp-0246-ET0021254400.data...\n",
      "\tLarge distances: 5/1000\n",
      "\tDZ Statistics: (min,mean,std,max)=0.00131632,0.0133378,0.0154138,0.212466\n",
      "Reading file 247...\n"
     ]
    },
    {
     "name": "stderr",
     "output_type": "stream",
     "text": [
      "100%|██████████| 1000/1000 [00:13<00:00, 76.89it/s]\n"
     ]
    },
    {
     "name": "stdout",
     "output_type": "stream",
     "text": [
      "\tSaving grtcomp-0247-ET0021340800.data...\n",
      "\tLarge distances: 6/1000\n",
      "\tDZ Statistics: (min,mean,std,max)=0.00112017,0.0141469,0.0157002,0.220413\n",
      "Reading file 248...\n"
     ]
    },
    {
     "name": "stderr",
     "output_type": "stream",
     "text": [
      "100%|██████████| 1000/1000 [00:14<00:00, 70.42it/s]\n"
     ]
    },
    {
     "name": "stdout",
     "output_type": "stream",
     "text": [
      "\tSaving grtcomp-0248-ET0021427200.data...\n",
      "\tLarge distances: 3/1000\n",
      "\tDZ Statistics: (min,mean,std,max)=0.000912064,0.0136569,0.0164407,0.291176\n",
      "Reading file 249...\n"
     ]
    },
    {
     "name": "stderr",
     "output_type": "stream",
     "text": [
      "100%|██████████| 1000/1000 [00:13<00:00, 74.20it/s]\n"
     ]
    },
    {
     "name": "stdout",
     "output_type": "stream",
     "text": [
      "\tSaving grtcomp-0249-ET0021513600.data...\n",
      "\tLarge distances: 3/1000\n",
      "\tDZ Statistics: (min,mean,std,max)=0.00113169,0.0140015,0.0197984,0.514244\n",
      "Reading file 250...\n"
     ]
    },
    {
     "name": "stderr",
     "output_type": "stream",
     "text": [
      "100%|██████████| 1000/1000 [00:12<00:00, 79.77it/s]\n"
     ]
    },
    {
     "name": "stdout",
     "output_type": "stream",
     "text": [
      "\tSaving grtcomp-0250-ET0021600000.data...\n",
      "\tLarge distances: 1/1000\n",
      "\tDZ Statistics: (min,mean,std,max)=0.0013106,0.013222,0.0103801,0.102341\n",
      "Reading file 251...\n"
     ]
    },
    {
     "name": "stderr",
     "output_type": "stream",
     "text": [
      "100%|██████████| 1000/1000 [00:12<00:00, 80.37it/s]\n"
     ]
    },
    {
     "name": "stdout",
     "output_type": "stream",
     "text": [
      "\tSaving grtcomp-0251-ET0021686400.data...\n",
      "\tLarge distances: 2/1000\n",
      "\tDZ Statistics: (min,mean,std,max)=0.000851615,0.0135603,0.0138526,0.235004\n",
      "Reading file 252...\n"
     ]
    },
    {
     "name": "stderr",
     "output_type": "stream",
     "text": [
      "100%|██████████| 1000/1000 [00:14<00:00, 69.31it/s]\n"
     ]
    },
    {
     "name": "stdout",
     "output_type": "stream",
     "text": [
      "\tSaving grtcomp-0252-ET0021772800.data...\n",
      "\tLarge distances: 5/1000\n",
      "\tDZ Statistics: (min,mean,std,max)=0.00120219,0.0148414,0.0244046,0.588522\n",
      "Reading file 253...\n"
     ]
    },
    {
     "name": "stderr",
     "output_type": "stream",
     "text": [
      "100%|██████████| 1000/1000 [00:13<00:00, 73.04it/s]\n"
     ]
    },
    {
     "name": "stdout",
     "output_type": "stream",
     "text": [
      "\tSaving grtcomp-0253-ET0021859200.data...\n",
      "\tLarge distances: 1/1000\n",
      "\tDZ Statistics: (min,mean,std,max)=0.00121244,0.0135301,0.0147466,0.360066\n",
      "Reading file 254...\n"
     ]
    },
    {
     "name": "stderr",
     "output_type": "stream",
     "text": [
      "100%|██████████| 1000/1000 [00:12<00:00, 83.24it/s]\n"
     ]
    },
    {
     "name": "stdout",
     "output_type": "stream",
     "text": [
      "\tSaving grtcomp-0254-ET0021945600.data...\n",
      "\tLarge distances: 4/1000\n",
      "\tDZ Statistics: (min,mean,std,max)=0.000801557,0.014771,0.0240428,0.506741\n",
      "Reading file 255...\n"
     ]
    },
    {
     "name": "stderr",
     "output_type": "stream",
     "text": [
      "100%|██████████| 1000/1000 [00:12<00:00, 81.39it/s]\n"
     ]
    },
    {
     "name": "stdout",
     "output_type": "stream",
     "text": [
      "\tSaving grtcomp-0255-ET0022032000.data...\n",
      "\tLarge distances: 5/1000\n",
      "\tDZ Statistics: (min,mean,std,max)=0.00128429,0.0148668,0.0182788,0.414636\n",
      "Reading file 256...\n"
     ]
    },
    {
     "name": "stderr",
     "output_type": "stream",
     "text": [
      "100%|██████████| 1000/1000 [00:12<00:00, 82.27it/s]\n"
     ]
    },
    {
     "name": "stdout",
     "output_type": "stream",
     "text": [
      "\tSaving grtcomp-0256-ET0022118400.data...\n",
      "\tLarge distances: 4/1000\n",
      "\tDZ Statistics: (min,mean,std,max)=0.00139726,0.0150382,0.0246354,0.595711\n",
      "Reading file 257...\n"
     ]
    },
    {
     "name": "stderr",
     "output_type": "stream",
     "text": [
      "100%|██████████| 1000/1000 [00:12<00:00, 82.75it/s]\n"
     ]
    },
    {
     "name": "stdout",
     "output_type": "stream",
     "text": [
      "\tSaving grtcomp-0257-ET0022204800.data...\n",
      "\tLarge distances: 3/1000\n",
      "\tDZ Statistics: (min,mean,std,max)=0.000748565,0.0149582,0.021975,0.592731\n",
      "Reading file 258...\n"
     ]
    },
    {
     "name": "stderr",
     "output_type": "stream",
     "text": [
      "100%|██████████| 1000/1000 [00:12<00:00, 84.36it/s]\n"
     ]
    },
    {
     "name": "stdout",
     "output_type": "stream",
     "text": [
      "\tSaving grtcomp-0258-ET0022291200.data...\n",
      "\tLarge distances: 2/1000\n",
      "\tDZ Statistics: (min,mean,std,max)=0.000728865,0.0143374,0.0187309,0.451495\n",
      "Reading file 259...\n"
     ]
    },
    {
     "name": "stderr",
     "output_type": "stream",
     "text": [
      "100%|██████████| 1000/1000 [00:12<00:00, 83.04it/s]\n"
     ]
    },
    {
     "name": "stdout",
     "output_type": "stream",
     "text": [
      "\tSaving grtcomp-0259-ET0022377600.data...\n",
      "\tLarge distances: 2/1000\n",
      "\tDZ Statistics: (min,mean,std,max)=0.000707549,0.0146537,0.0176844,0.461816\n",
      "Reading file 260...\n"
     ]
    },
    {
     "name": "stderr",
     "output_type": "stream",
     "text": [
      "100%|██████████| 1000/1000 [00:12<00:00, 81.23it/s]\n"
     ]
    },
    {
     "name": "stdout",
     "output_type": "stream",
     "text": [
      "\tSaving grtcomp-0260-ET0022464000.data...\n",
      "\tLarge distances: 3/1000\n",
      "\tDZ Statistics: (min,mean,std,max)=0.00161043,0.014273,0.0139812,0.279464\n"
     ]
    },
    {
     "name": "stderr",
     "output_type": "stream",
     "text": [
      "\r",
      "  0%|          | 0/1000 [00:00<?, ?it/s]"
     ]
    },
    {
     "name": "stdout",
     "output_type": "stream",
     "text": [
      "Reading file 261...\n"
     ]
    },
    {
     "name": "stderr",
     "output_type": "stream",
     "text": [
      "100%|██████████| 1000/1000 [00:12<00:00, 82.65it/s]\n"
     ]
    },
    {
     "name": "stdout",
     "output_type": "stream",
     "text": [
      "\tSaving grtcomp-0261-ET0022550400.data...\n",
      "\tLarge distances: 3/1000\n",
      "\tDZ Statistics: (min,mean,std,max)=0.000901459,0.0143901,0.012225,0.164389\n",
      "Reading file 262...\n"
     ]
    },
    {
     "name": "stderr",
     "output_type": "stream",
     "text": [
      "100%|██████████| 1000/1000 [00:11<00:00, 83.40it/s]\n"
     ]
    },
    {
     "name": "stdout",
     "output_type": "stream",
     "text": [
      "\tSaving grtcomp-0262-ET0022636800.data...\n",
      "\tLarge distances: 4/1000\n",
      "\tDZ Statistics: (min,mean,std,max)=0.000889976,0.0155497,0.0155502,0.265997\n",
      "Reading file 263...\n"
     ]
    },
    {
     "name": "stderr",
     "output_type": "stream",
     "text": [
      "100%|██████████| 1000/1000 [00:12<00:00, 82.51it/s]\n"
     ]
    },
    {
     "name": "stdout",
     "output_type": "stream",
     "text": [
      "\tSaving grtcomp-0263-ET0022723200.data...\n",
      "\tLarge distances: 4/1000\n",
      "\tDZ Statistics: (min,mean,std,max)=0.000522361,0.0148637,0.0124005,0.184333\n",
      "Reading file 264...\n"
     ]
    },
    {
     "name": "stderr",
     "output_type": "stream",
     "text": [
      "100%|██████████| 1000/1000 [00:12<00:00, 82.38it/s]\n"
     ]
    },
    {
     "name": "stdout",
     "output_type": "stream",
     "text": [
      "\tSaving grtcomp-0264-ET0022809600.data...\n",
      "\tLarge distances: 8/1000\n",
      "\tDZ Statistics: (min,mean,std,max)=0.00111107,0.0160675,0.0138593,0.136313\n",
      "Reading file 265...\n"
     ]
    },
    {
     "name": "stderr",
     "output_type": "stream",
     "text": [
      "100%|██████████| 1000/1000 [00:12<00:00, 82.57it/s]\n"
     ]
    },
    {
     "name": "stdout",
     "output_type": "stream",
     "text": [
      "\tSaving grtcomp-0265-ET0022896000.data...\n",
      "\tLarge distances: 32/1000\n",
      "\tDZ Statistics: (min,mean,std,max)=0.00117792,0.0190925,0.0218463,0.194901\n",
      "Reading file 266...\n"
     ]
    },
    {
     "name": "stderr",
     "output_type": "stream",
     "text": [
      "100%|██████████| 1000/1000 [00:12<00:00, 80.15it/s]\n"
     ]
    },
    {
     "name": "stdout",
     "output_type": "stream",
     "text": [
      "\tSaving grtcomp-0266-ET0022982400.data...\n",
      "\tLarge distances: 11/1000\n",
      "\tDZ Statistics: (min,mean,std,max)=0.000806404,0.0173496,0.0166178,0.182611\n",
      "Reading file 267...\n"
     ]
    },
    {
     "name": "stderr",
     "output_type": "stream",
     "text": [
      "100%|██████████| 1000/1000 [00:12<00:00, 82.71it/s]\n"
     ]
    },
    {
     "name": "stdout",
     "output_type": "stream",
     "text": [
      "\tSaving grtcomp-0267-ET0023068800.data...\n",
      "\tLarge distances: 2/1000\n",
      "\tDZ Statistics: (min,mean,std,max)=0.000749801,0.0155378,0.0144837,0.273036\n"
     ]
    },
    {
     "name": "stderr",
     "output_type": "stream",
     "text": [
      "\r",
      "  0%|          | 0/1000 [00:00<?, ?it/s]"
     ]
    },
    {
     "name": "stdout",
     "output_type": "stream",
     "text": [
      "Reading file 268...\n"
     ]
    },
    {
     "name": "stderr",
     "output_type": "stream",
     "text": [
      "100%|██████████| 1000/1000 [00:12<00:00, 80.88it/s]\n"
     ]
    },
    {
     "name": "stdout",
     "output_type": "stream",
     "text": [
      "\tSaving grtcomp-0268-ET0023155200.data...\n",
      "\tLarge distances: 0/1000\n",
      "\tDZ Statistics: (min,mean,std,max)=0.00121811,0.0161872,0.0127008,0.0982884\n",
      "Reading file 269...\n"
     ]
    },
    {
     "name": "stderr",
     "output_type": "stream",
     "text": [
      "100%|██████████| 1000/1000 [00:12<00:00, 82.82it/s]\n"
     ]
    },
    {
     "name": "stdout",
     "output_type": "stream",
     "text": [
      "\tSaving grtcomp-0269-ET0023241600.data...\n",
      "\tLarge distances: 3/1000\n",
      "\tDZ Statistics: (min,mean,std,max)=0.000260083,0.0158979,0.0122168,0.133026\n",
      "Reading file 270...\n"
     ]
    },
    {
     "name": "stderr",
     "output_type": "stream",
     "text": [
      "100%|██████████| 1000/1000 [00:12<00:00, 82.29it/s]\n"
     ]
    },
    {
     "name": "stdout",
     "output_type": "stream",
     "text": [
      "\tSaving grtcomp-0270-ET0023328000.data...\n",
      "\tLarge distances: 3/1000\n",
      "\tDZ Statistics: (min,mean,std,max)=0.00120215,0.0159349,0.0134871,0.245059\n",
      "Reading file 271...\n"
     ]
    },
    {
     "name": "stderr",
     "output_type": "stream",
     "text": [
      "100%|██████████| 1000/1000 [00:12<00:00, 83.03it/s]\n"
     ]
    },
    {
     "name": "stdout",
     "output_type": "stream",
     "text": [
      "\tSaving grtcomp-0271-ET0023414400.data...\n",
      "\tLarge distances: 0/1000\n",
      "\tDZ Statistics: (min,mean,std,max)=0.000699999,0.0153724,0.0111185,0.0988826\n",
      "Reading file 272...\n"
     ]
    },
    {
     "name": "stderr",
     "output_type": "stream",
     "text": [
      "100%|██████████| 1000/1000 [00:12<00:00, 82.52it/s]\n"
     ]
    },
    {
     "name": "stdout",
     "output_type": "stream",
     "text": [
      "\tSaving grtcomp-0272-ET0023500800.data...\n",
      "\tLarge distances: 3/1000\n",
      "\tDZ Statistics: (min,mean,std,max)=0.000882015,0.0165825,0.0259011,0.570761\n",
      "Reading file 273...\n"
     ]
    },
    {
     "name": "stderr",
     "output_type": "stream",
     "text": [
      "100%|██████████| 1000/1000 [00:12<00:00, 83.18it/s]\n"
     ]
    },
    {
     "name": "stdout",
     "output_type": "stream",
     "text": [
      "\tSaving grtcomp-0273-ET0023587200.data...\n",
      "\tLarge distances: 2/1000\n",
      "\tDZ Statistics: (min,mean,std,max)=0.00137951,0.0159639,0.0119387,0.140566\n",
      "Reading file 274...\n"
     ]
    },
    {
     "name": "stderr",
     "output_type": "stream",
     "text": [
      "100%|██████████| 1000/1000 [00:12<00:00, 82.61it/s]\n"
     ]
    },
    {
     "name": "stdout",
     "output_type": "stream",
     "text": [
      "\tSaving grtcomp-0274-ET0023673600.data...\n",
      "\tLarge distances: 1/1000\n",
      "\tDZ Statistics: (min,mean,std,max)=0.000744567,0.01571,0.0118738,0.103571\n",
      "Reading file 275...\n"
     ]
    },
    {
     "name": "stderr",
     "output_type": "stream",
     "text": [
      "100%|██████████| 1000/1000 [00:12<00:00, 82.62it/s]\n"
     ]
    },
    {
     "name": "stdout",
     "output_type": "stream",
     "text": [
      "\tSaving grtcomp-0275-ET0023760000.data...\n",
      "\tLarge distances: 2/1000\n",
      "\tDZ Statistics: (min,mean,std,max)=0.000553487,0.0159645,0.0112193,0.111079\n",
      "Reading file 276...\n"
     ]
    },
    {
     "name": "stderr",
     "output_type": "stream",
     "text": [
      "100%|██████████| 1000/1000 [00:12<00:00, 81.40it/s]\n"
     ]
    },
    {
     "name": "stdout",
     "output_type": "stream",
     "text": [
      "\tSaving grtcomp-0276-ET0023846400.data...\n",
      "\tLarge distances: 4/1000\n",
      "\tDZ Statistics: (min,mean,std,max)=0.000695285,0.0172346,0.028489,0.822036\n",
      "Reading file 277...\n"
     ]
    },
    {
     "name": "stderr",
     "output_type": "stream",
     "text": [
      "100%|██████████| 1000/1000 [00:12<00:00, 82.02it/s]\n"
     ]
    },
    {
     "name": "stdout",
     "output_type": "stream",
     "text": [
      "\tSaving grtcomp-0277-ET0023932800.data...\n",
      "\tLarge distances: 0/1000\n",
      "\tDZ Statistics: (min,mean,std,max)=0.00075179,0.0161979,0.011001,0.0958739\n",
      "Reading file 278...\n"
     ]
    },
    {
     "name": "stderr",
     "output_type": "stream",
     "text": [
      "100%|██████████| 1000/1000 [00:12<00:00, 84.50it/s]\n"
     ]
    },
    {
     "name": "stdout",
     "output_type": "stream",
     "text": [
      "\tSaving grtcomp-0278-ET0024019200.data...\n",
      "\tLarge distances: 3/1000\n",
      "\tDZ Statistics: (min,mean,std,max)=0.000709688,0.0162945,0.0199918,0.478594\n",
      "Reading file 279...\n"
     ]
    },
    {
     "name": "stderr",
     "output_type": "stream",
     "text": [
      "100%|██████████| 1000/1000 [00:12<00:00, 80.14it/s]\n"
     ]
    },
    {
     "name": "stdout",
     "output_type": "stream",
     "text": [
      "\tSaving grtcomp-0279-ET0024105600.data...\n",
      "\tLarge distances: 0/1000\n",
      "\tDZ Statistics: (min,mean,std,max)=0.000629893,0.015806,0.0107824,0.0799096\n",
      "Reading file 280...\n"
     ]
    },
    {
     "name": "stderr",
     "output_type": "stream",
     "text": [
      "100%|██████████| 1000/1000 [00:12<00:00, 82.88it/s]\n"
     ]
    },
    {
     "name": "stdout",
     "output_type": "stream",
     "text": [
      "\tSaving grtcomp-0280-ET0024192000.data...\n",
      "\tLarge distances: 3/1000\n",
      "\tDZ Statistics: (min,mean,std,max)=0.00067986,0.016684,0.0133179,0.209809\n",
      "Reading file 281...\n"
     ]
    },
    {
     "name": "stderr",
     "output_type": "stream",
     "text": [
      "100%|██████████| 1000/1000 [00:12<00:00, 82.25it/s]\n"
     ]
    },
    {
     "name": "stdout",
     "output_type": "stream",
     "text": [
      "\tSaving grtcomp-0281-ET0024278400.data...\n",
      "\tLarge distances: 2/1000\n",
      "\tDZ Statistics: (min,mean,std,max)=0.00073532,0.0167243,0.0140363,0.198484\n",
      "Reading file 282...\n"
     ]
    },
    {
     "name": "stderr",
     "output_type": "stream",
     "text": [
      "100%|██████████| 1000/1000 [00:12<00:00, 82.72it/s]\n"
     ]
    },
    {
     "name": "stdout",
     "output_type": "stream",
     "text": [
      "\tSaving grtcomp-0282-ET0024364800.data...\n",
      "\tLarge distances: 4/1000\n",
      "\tDZ Statistics: (min,mean,std,max)=0.000623842,0.0164937,0.0144567,0.262234\n",
      "Reading file 283...\n"
     ]
    },
    {
     "name": "stderr",
     "output_type": "stream",
     "text": [
      "100%|██████████| 1000/1000 [00:12<00:00, 82.65it/s]\n"
     ]
    },
    {
     "name": "stdout",
     "output_type": "stream",
     "text": [
      "\tSaving grtcomp-0283-ET0024451200.data...\n",
      "\tLarge distances: 3/1000\n",
      "\tDZ Statistics: (min,mean,std,max)=0.000964405,0.0166627,0.0136924,0.180925\n",
      "Reading file 284...\n"
     ]
    },
    {
     "name": "stderr",
     "output_type": "stream",
     "text": [
      "100%|██████████| 1000/1000 [00:12<00:00, 81.85it/s]\n"
     ]
    },
    {
     "name": "stdout",
     "output_type": "stream",
     "text": [
      "\tSaving grtcomp-0284-ET0024537600.data...\n",
      "\tLarge distances: 3/1000\n",
      "\tDZ Statistics: (min,mean,std,max)=0.000724964,0.0161218,0.0124826,0.154637\n",
      "Reading file 285...\n"
     ]
    },
    {
     "name": "stderr",
     "output_type": "stream",
     "text": [
      "100%|██████████| 1000/1000 [00:12<00:00, 80.06it/s]\n"
     ]
    },
    {
     "name": "stdout",
     "output_type": "stream",
     "text": [
      "\tSaving grtcomp-0285-ET0024624000.data...\n",
      "\tLarge distances: 3/1000\n",
      "\tDZ Statistics: (min,mean,std,max)=0.000711274,0.0167835,0.0128058,0.160416\n"
     ]
    },
    {
     "name": "stderr",
     "output_type": "stream",
     "text": [
      "\r",
      "  0%|          | 0/1000 [00:00<?, ?it/s]"
     ]
    },
    {
     "name": "stdout",
     "output_type": "stream",
     "text": [
      "Reading file 286...\n"
     ]
    },
    {
     "name": "stderr",
     "output_type": "stream",
     "text": [
      "100%|██████████| 1000/1000 [00:12<00:00, 82.31it/s]\n"
     ]
    },
    {
     "name": "stdout",
     "output_type": "stream",
     "text": [
      "\tSaving grtcomp-0286-ET0024710400.data...\n",
      "\tLarge distances: 2/1000\n",
      "\tDZ Statistics: (min,mean,std,max)=0.000737227,0.0167566,0.017337,0.451093\n",
      "Reading file 287...\n"
     ]
    },
    {
     "name": "stderr",
     "output_type": "stream",
     "text": [
      "100%|██████████| 1000/1000 [00:12<00:00, 80.89it/s]\n"
     ]
    },
    {
     "name": "stdout",
     "output_type": "stream",
     "text": [
      "\tSaving grtcomp-0287-ET0024796800.data...\n",
      "\tLarge distances: 1/1000\n",
      "\tDZ Statistics: (min,mean,std,max)=0.000867643,0.0172889,0.0123747,0.120565\n",
      "Reading file 288...\n"
     ]
    },
    {
     "name": "stderr",
     "output_type": "stream",
     "text": [
      "100%|██████████| 1000/1000 [00:12<00:00, 82.57it/s]\n"
     ]
    },
    {
     "name": "stdout",
     "output_type": "stream",
     "text": [
      "\tSaving grtcomp-0288-ET0024883200.data...\n",
      "\tLarge distances: 3/1000\n",
      "\tDZ Statistics: (min,mean,std,max)=0.000514916,0.0171634,0.0216107,0.590725\n",
      "Reading file 289...\n"
     ]
    },
    {
     "name": "stderr",
     "output_type": "stream",
     "text": [
      "100%|██████████| 1000/1000 [00:12<00:00, 82.28it/s]\n"
     ]
    },
    {
     "name": "stdout",
     "output_type": "stream",
     "text": [
      "\tSaving grtcomp-0289-ET0024969600.data...\n",
      "\tLarge distances: 0/1000\n",
      "\tDZ Statistics: (min,mean,std,max)=0.000608868,0.0167558,0.0114382,0.0922991\n"
     ]
    },
    {
     "name": "stderr",
     "output_type": "stream",
     "text": [
      "\r",
      "  0%|          | 0/1000 [00:00<?, ?it/s]"
     ]
    },
    {
     "name": "stdout",
     "output_type": "stream",
     "text": [
      "Reading file 290...\n"
     ]
    },
    {
     "name": "stderr",
     "output_type": "stream",
     "text": [
      "100%|██████████| 1000/1000 [00:12<00:00, 82.56it/s]\n"
     ]
    },
    {
     "name": "stdout",
     "output_type": "stream",
     "text": [
      "\tSaving grtcomp-0290-ET0025056000.data...\n",
      "\tLarge distances: 4/1000\n",
      "\tDZ Statistics: (min,mean,std,max)=0.000846212,0.017297,0.0196444,0.434976\n",
      "Reading file 291...\n"
     ]
    },
    {
     "name": "stderr",
     "output_type": "stream",
     "text": [
      "100%|██████████| 1000/1000 [00:12<00:00, 81.76it/s]\n"
     ]
    },
    {
     "name": "stdout",
     "output_type": "stream",
     "text": [
      "\tSaving grtcomp-0291-ET0025142400.data...\n",
      "\tLarge distances: 1/1000\n",
      "\tDZ Statistics: (min,mean,std,max)=0.000988942,0.0166907,0.0132729,0.270752\n",
      "Reading file 292...\n"
     ]
    },
    {
     "name": "stderr",
     "output_type": "stream",
     "text": [
      "100%|██████████| 1000/1000 [00:11<00:00, 83.65it/s]\n"
     ]
    },
    {
     "name": "stdout",
     "output_type": "stream",
     "text": [
      "\tSaving grtcomp-0292-ET0025228800.data...\n",
      "\tLarge distances: 4/1000\n",
      "\tDZ Statistics: (min,mean,std,max)=0.000917901,0.017435,0.0134313,0.173368\n",
      "Reading file 293...\n"
     ]
    },
    {
     "name": "stderr",
     "output_type": "stream",
     "text": [
      "100%|██████████| 1000/1000 [00:12<00:00, 85.06it/s]\n"
     ]
    },
    {
     "name": "stdout",
     "output_type": "stream",
     "text": [
      "\tSaving grtcomp-0293-ET0025315200.data...\n",
      "\tLarge distances: 5/1000\n",
      "\tDZ Statistics: (min,mean,std,max)=0.000881252,0.0177488,0.013866,0.160961\n",
      "Reading file 294...\n"
     ]
    },
    {
     "name": "stderr",
     "output_type": "stream",
     "text": [
      "100%|██████████| 1000/1000 [00:12<00:00, 83.13it/s]\n"
     ]
    },
    {
     "name": "stdout",
     "output_type": "stream",
     "text": [
      "\tSaving grtcomp-0294-ET0025401600.data...\n",
      "\tLarge distances: 4/1000\n",
      "\tDZ Statistics: (min,mean,std,max)=0.000660896,0.0184356,0.0278189,0.596435\n",
      "Reading file 295...\n"
     ]
    },
    {
     "name": "stderr",
     "output_type": "stream",
     "text": [
      "100%|██████████| 1000/1000 [00:12<00:00, 82.73it/s]\n"
     ]
    },
    {
     "name": "stdout",
     "output_type": "stream",
     "text": [
      "\tSaving grtcomp-0295-ET0025488000.data...\n",
      "\tLarge distances: 3/1000\n",
      "\tDZ Statistics: (min,mean,std,max)=0.000783015,0.0174346,0.0224752,0.605321\n",
      "Reading file 296...\n"
     ]
    },
    {
     "name": "stderr",
     "output_type": "stream",
     "text": [
      "100%|██████████| 1000/1000 [00:12<00:00, 82.43it/s]\n"
     ]
    },
    {
     "name": "stdout",
     "output_type": "stream",
     "text": [
      "\tSaving grtcomp-0296-ET0025574400.data...\n",
      "\tLarge distances: 4/1000\n",
      "\tDZ Statistics: (min,mean,std,max)=0.000982988,0.0172356,0.0129615,0.140829\n",
      "Reading file 297...\n"
     ]
    },
    {
     "name": "stderr",
     "output_type": "stream",
     "text": [
      "100%|██████████| 1000/1000 [00:12<00:00, 83.27it/s]\n"
     ]
    },
    {
     "name": "stdout",
     "output_type": "stream",
     "text": [
      "\tSaving grtcomp-0297-ET0025660800.data...\n",
      "\tLarge distances: 3/1000\n",
      "\tDZ Statistics: (min,mean,std,max)=0.000650184,0.0177706,0.019487,0.499715\n",
      "Reading file 298...\n"
     ]
    },
    {
     "name": "stderr",
     "output_type": "stream",
     "text": [
      "100%|██████████| 1000/1000 [00:12<00:00, 83.00it/s]\n"
     ]
    },
    {
     "name": "stdout",
     "output_type": "stream",
     "text": [
      "\tSaving grtcomp-0298-ET0025747200.data...\n",
      "\tLarge distances: 1/1000\n",
      "\tDZ Statistics: (min,mean,std,max)=0.000410133,0.0167238,0.0126096,0.212042\n",
      "Reading file 299...\n"
     ]
    },
    {
     "name": "stderr",
     "output_type": "stream",
     "text": [
      "100%|██████████| 1000/1000 [00:12<00:00, 82.01it/s]\n"
     ]
    },
    {
     "name": "stdout",
     "output_type": "stream",
     "text": [
      "\tSaving grtcomp-0299-ET0025833600.data...\n",
      "\tLarge distances: 1/1000\n",
      "\tDZ Statistics: (min,mean,std,max)=0.000565323,0.0169328,0.0133637,0.25897\n",
      "Reading file 300...\n"
     ]
    },
    {
     "name": "stderr",
     "output_type": "stream",
     "text": [
      "100%|██████████| 1000/1000 [00:12<00:00, 81.44it/s]\n"
     ]
    },
    {
     "name": "stdout",
     "output_type": "stream",
     "text": [
      "\tSaving grtcomp-0300-ET0025920000.data...\n",
      "\tLarge distances: 2/1000\n",
      "\tDZ Statistics: (min,mean,std,max)=0.000627711,0.0172775,0.0214068,0.596163\n",
      "Reading file 301...\n"
     ]
    },
    {
     "name": "stderr",
     "output_type": "stream",
     "text": [
      "100%|██████████| 1000/1000 [00:12<00:00, 77.94it/s]\n"
     ]
    },
    {
     "name": "stdout",
     "output_type": "stream",
     "text": [
      "\tSaving grtcomp-0301-ET0026006400.data...\n",
      "\tLarge distances: 2/1000\n",
      "\tDZ Statistics: (min,mean,std,max)=0.000721188,0.0171217,0.0135454,0.250233\n",
      "Reading file 302...\n"
     ]
    },
    {
     "name": "stderr",
     "output_type": "stream",
     "text": [
      "100%|██████████| 1000/1000 [00:14<00:00, 71.41it/s]\n"
     ]
    },
    {
     "name": "stdout",
     "output_type": "stream",
     "text": [
      "\tSaving grtcomp-0302-ET0026092800.data...\n",
      "\tLarge distances: 1/1000\n",
      "\tDZ Statistics: (min,mean,std,max)=0.000467992,0.0165856,0.013917,0.314268\n",
      "Reading file 303...\n"
     ]
    },
    {
     "name": "stderr",
     "output_type": "stream",
     "text": [
      "100%|██████████| 1000/1000 [00:13<00:00, 74.80it/s]\n"
     ]
    },
    {
     "name": "stdout",
     "output_type": "stream",
     "text": [
      "\tSaving grtcomp-0303-ET0026179200.data...\n",
      "\tLarge distances: 4/1000\n",
      "\tDZ Statistics: (min,mean,std,max)=0.000322463,0.0183392,0.0239333,0.603948\n",
      "Reading file 304...\n"
     ]
    },
    {
     "name": "stderr",
     "output_type": "stream",
     "text": [
      "100%|██████████| 1000/1000 [00:12<00:00, 82.06it/s]\n"
     ]
    },
    {
     "name": "stdout",
     "output_type": "stream",
     "text": [
      "\tSaving grtcomp-0304-ET0026265600.data...\n",
      "\tLarge distances: 2/1000\n",
      "\tDZ Statistics: (min,mean,std,max)=0.000549631,0.0180816,0.0284698,0.601352\n",
      "Reading file 305...\n"
     ]
    },
    {
     "name": "stderr",
     "output_type": "stream",
     "text": [
      "100%|██████████| 1000/1000 [00:12<00:00, 81.67it/s]\n"
     ]
    },
    {
     "name": "stdout",
     "output_type": "stream",
     "text": [
      "\tSaving grtcomp-0305-ET0026352000.data...\n",
      "\tLarge distances: 2/1000\n",
      "\tDZ Statistics: (min,mean,std,max)=0.000177071,0.0164249,0.0115132,0.107003\n",
      "Reading file 306...\n"
     ]
    },
    {
     "name": "stderr",
     "output_type": "stream",
     "text": [
      "100%|██████████| 1000/1000 [00:12<00:00, 85.37it/s]\n"
     ]
    },
    {
     "name": "stdout",
     "output_type": "stream",
     "text": [
      "\tSaving grtcomp-0306-ET0026438400.data...\n",
      "\tLarge distances: 2/1000\n",
      "\tDZ Statistics: (min,mean,std,max)=0.00017999,0.0162023,0.0122957,0.226269\n",
      "Reading file 307...\n"
     ]
    },
    {
     "name": "stderr",
     "output_type": "stream",
     "text": [
      "100%|██████████| 1000/1000 [00:12<00:00, 82.75it/s]\n"
     ]
    },
    {
     "name": "stdout",
     "output_type": "stream",
     "text": [
      "\tSaving grtcomp-0307-ET0026524800.data...\n",
      "\tLarge distances: 1/1000\n",
      "\tDZ Statistics: (min,mean,std,max)=0.000525355,0.0168278,0.0123592,0.2073\n",
      "Reading file 308...\n"
     ]
    },
    {
     "name": "stderr",
     "output_type": "stream",
     "text": [
      "100%|██████████| 1000/1000 [00:12<00:00, 83.06it/s]\n"
     ]
    },
    {
     "name": "stdout",
     "output_type": "stream",
     "text": [
      "\tSaving grtcomp-0308-ET0026611200.data...\n",
      "\tLarge distances: 2/1000\n",
      "\tDZ Statistics: (min,mean,std,max)=0.000275865,0.0166025,0.0130961,0.24898\n",
      "Reading file 309...\n"
     ]
    },
    {
     "name": "stderr",
     "output_type": "stream",
     "text": [
      "100%|██████████| 1000/1000 [00:12<00:00, 82.67it/s]\n"
     ]
    },
    {
     "name": "stdout",
     "output_type": "stream",
     "text": [
      "\tSaving grtcomp-0309-ET0026697600.data...\n",
      "\tLarge distances: 2/1000\n",
      "\tDZ Statistics: (min,mean,std,max)=0.000422406,0.0179059,0.0233665,0.604858\n",
      "Reading file 310...\n"
     ]
    },
    {
     "name": "stderr",
     "output_type": "stream",
     "text": [
      "100%|██████████| 1000/1000 [00:12<00:00, 82.73it/s]\n"
     ]
    },
    {
     "name": "stdout",
     "output_type": "stream",
     "text": [
      "\tSaving grtcomp-0310-ET0026784000.data...\n",
      "\tLarge distances: 3/1000\n",
      "\tDZ Statistics: (min,mean,std,max)=0.000224793,0.0170735,0.0186514,0.476577\n",
      "Reading file 311...\n"
     ]
    },
    {
     "name": "stderr",
     "output_type": "stream",
     "text": [
      "100%|██████████| 1000/1000 [00:12<00:00, 82.94it/s]\n"
     ]
    },
    {
     "name": "stdout",
     "output_type": "stream",
     "text": [
      "\tSaving grtcomp-0311-ET0026870400.data...\n",
      "\tLarge distances: 2/1000\n",
      "\tDZ Statistics: (min,mean,std,max)=0.000584148,0.0177177,0.0266341,0.570668\n"
     ]
    },
    {
     "name": "stderr",
     "output_type": "stream",
     "text": [
      "\r",
      "  0%|          | 0/1000 [00:00<?, ?it/s]"
     ]
    },
    {
     "name": "stdout",
     "output_type": "stream",
     "text": [
      "Reading file 312...\n"
     ]
    },
    {
     "name": "stderr",
     "output_type": "stream",
     "text": [
      "100%|██████████| 1000/1000 [00:13<00:00, 76.35it/s]\n"
     ]
    },
    {
     "name": "stdout",
     "output_type": "stream",
     "text": [
      "\tSaving grtcomp-0312-ET0026956800.data...\n",
      "\tLarge distances: 7/1000\n",
      "\tDZ Statistics: (min,mean,std,max)=0.000429911,0.0189225,0.0346917,0.604273\n",
      "Reading file 313...\n"
     ]
    },
    {
     "name": "stderr",
     "output_type": "stream",
     "text": [
      "100%|██████████| 1000/1000 [00:11<00:00, 83.37it/s]\n"
     ]
    },
    {
     "name": "stdout",
     "output_type": "stream",
     "text": [
      "\tSaving grtcomp-0313-ET0027043200.data...\n",
      "\tLarge distances: 4/1000\n",
      "\tDZ Statistics: (min,mean,std,max)=0.000445054,0.0182202,0.019755,0.335941\n",
      "Reading file 314...\n"
     ]
    },
    {
     "name": "stderr",
     "output_type": "stream",
     "text": [
      "100%|██████████| 1000/1000 [00:12<00:00, 82.42it/s]\n"
     ]
    },
    {
     "name": "stdout",
     "output_type": "stream",
     "text": [
      "\tSaving grtcomp-0314-ET0027129600.data...\n",
      "\tLarge distances: 2/1000\n",
      "\tDZ Statistics: (min,mean,std,max)=0.000442074,0.0165761,0.01534,0.310794\n",
      "Reading file 315...\n"
     ]
    },
    {
     "name": "stderr",
     "output_type": "stream",
     "text": [
      "100%|██████████| 1000/1000 [00:12<00:00, 81.16it/s]\n"
     ]
    },
    {
     "name": "stdout",
     "output_type": "stream",
     "text": [
      "\tSaving grtcomp-0315-ET0027216000.data...\n",
      "\tLarge distances: 0/1000\n",
      "\tDZ Statistics: (min,mean,std,max)=0.000358263,0.0168217,0.0118078,0.0839589\n",
      "Reading file 316...\n"
     ]
    },
    {
     "name": "stderr",
     "output_type": "stream",
     "text": [
      "100%|██████████| 1000/1000 [00:12<00:00, 82.98it/s]\n"
     ]
    },
    {
     "name": "stdout",
     "output_type": "stream",
     "text": [
      "\tSaving grtcomp-0316-ET0027302400.data...\n",
      "\tLarge distances: 2/1000\n",
      "\tDZ Statistics: (min,mean,std,max)=0.000309067,0.0172643,0.0222281,0.600282\n",
      "Reading file 317...\n"
     ]
    },
    {
     "name": "stderr",
     "output_type": "stream",
     "text": [
      "100%|██████████| 1000/1000 [00:11<00:00, 83.57it/s]\n"
     ]
    },
    {
     "name": "stdout",
     "output_type": "stream",
     "text": [
      "\tSaving grtcomp-0317-ET0027388800.data...\n",
      "\tLarge distances: 0/1000\n",
      "\tDZ Statistics: (min,mean,std,max)=0.000246784,0.0163318,0.0112749,0.0933595\n",
      "Reading file 318...\n"
     ]
    },
    {
     "name": "stderr",
     "output_type": "stream",
     "text": [
      "100%|██████████| 1000/1000 [00:12<00:00, 82.20it/s]\n"
     ]
    },
    {
     "name": "stdout",
     "output_type": "stream",
     "text": [
      "\tSaving grtcomp-0318-ET0027475200.data...\n",
      "\tLarge distances: 3/1000\n",
      "\tDZ Statistics: (min,mean,std,max)=0.000471519,0.0173628,0.0146693,0.280143\n",
      "Reading file 319...\n"
     ]
    },
    {
     "name": "stderr",
     "output_type": "stream",
     "text": [
      "100%|██████████| 1000/1000 [00:12<00:00, 83.27it/s]\n"
     ]
    },
    {
     "name": "stdout",
     "output_type": "stream",
     "text": [
      "\tSaving grtcomp-0319-ET0027561600.data...\n",
      "\tLarge distances: 5/1000\n",
      "\tDZ Statistics: (min,mean,std,max)=0.000218967,0.0176079,0.0214249,0.527877\n",
      "Reading file 320...\n"
     ]
    },
    {
     "name": "stderr",
     "output_type": "stream",
     "text": [
      "100%|██████████| 1000/1000 [00:12<00:00, 79.81it/s]\n"
     ]
    },
    {
     "name": "stdout",
     "output_type": "stream",
     "text": [
      "\tSaving grtcomp-0320-ET0027648000.data...\n",
      "\tLarge distances: 1/1000\n",
      "\tDZ Statistics: (min,mean,std,max)=0.000547433,0.0167303,0.0129225,0.250816\n",
      "Reading file 321...\n"
     ]
    },
    {
     "name": "stderr",
     "output_type": "stream",
     "text": [
      "100%|██████████| 1000/1000 [00:14<00:00, 70.83it/s]\n"
     ]
    },
    {
     "name": "stdout",
     "output_type": "stream",
     "text": [
      "\tSaving grtcomp-0321-ET0027734400.data...\n",
      "\tLarge distances: 4/1000\n",
      "\tDZ Statistics: (min,mean,std,max)=0.000611942,0.0172244,0.0219505,0.601072\n",
      "Reading file 322...\n"
     ]
    },
    {
     "name": "stderr",
     "output_type": "stream",
     "text": [
      "100%|██████████| 1000/1000 [00:13<00:00, 85.63it/s]\n"
     ]
    },
    {
     "name": "stdout",
     "output_type": "stream",
     "text": [
      "\tSaving grtcomp-0322-ET0027820800.data...\n",
      "\tLarge distances: 6/1000\n",
      "\tDZ Statistics: (min,mean,std,max)=0.000634326,0.0176106,0.022647,0.564209\n",
      "Reading file 323...\n"
     ]
    },
    {
     "name": "stderr",
     "output_type": "stream",
     "text": [
      "100%|██████████| 1000/1000 [00:14<00:00, 36.22it/s]\n"
     ]
    },
    {
     "name": "stdout",
     "output_type": "stream",
     "text": [
      "\tSaving grtcomp-0323-ET0027907200.data...\n",
      "\tLarge distances: 2/1000\n",
      "\tDZ Statistics: (min,mean,std,max)=0.000432669,0.0174557,0.0263504,0.577013\n",
      "Reading file 324...\n"
     ]
    },
    {
     "name": "stderr",
     "output_type": "stream",
     "text": [
      "100%|██████████| 1000/1000 [00:15<00:00, 63.61it/s]\n"
     ]
    },
    {
     "name": "stdout",
     "output_type": "stream",
     "text": [
      "\tSaving grtcomp-0324-ET0027993600.data...\n",
      "\tLarge distances: 2/1000\n",
      "\tDZ Statistics: (min,mean,std,max)=0.000605176,0.0161208,0.0126103,0.225111\n",
      "Reading file 325...\n"
     ]
    },
    {
     "name": "stderr",
     "output_type": "stream",
     "text": [
      "100%|██████████| 1000/1000 [00:13<00:00, 71.69it/s]\n"
     ]
    },
    {
     "name": "stdout",
     "output_type": "stream",
     "text": [
      "\tSaving grtcomp-0325-ET0028080000.data...\n",
      "\tLarge distances: 2/1000\n",
      "\tDZ Statistics: (min,mean,std,max)=0.00046591,0.0175278,0.0189306,0.50904\n",
      "Reading file 326...\n"
     ]
    },
    {
     "name": "stderr",
     "output_type": "stream",
     "text": [
      "100%|██████████| 1000/1000 [00:14<00:00, 69.64it/s]\n"
     ]
    },
    {
     "name": "stdout",
     "output_type": "stream",
     "text": [
      "\tSaving grtcomp-0326-ET0028166400.data...\n",
      "\tLarge distances: 3/1000\n",
      "\tDZ Statistics: (min,mean,std,max)=0.000306943,0.0165989,0.0147327,0.257755\n",
      "Reading file 327...\n"
     ]
    },
    {
     "name": "stderr",
     "output_type": "stream",
     "text": [
      "100%|██████████| 1000/1000 [00:12<00:00, 77.44it/s]\n"
     ]
    },
    {
     "name": "stdout",
     "output_type": "stream",
     "text": [
      "\tSaving grtcomp-0327-ET0028252800.data...\n",
      "\tLarge distances: 4/1000\n",
      "\tDZ Statistics: (min,mean,std,max)=0.000508002,0.0173132,0.0223585,0.478512\n",
      "Reading file 328...\n"
     ]
    },
    {
     "name": "stderr",
     "output_type": "stream",
     "text": [
      "100%|██████████| 1000/1000 [00:12<00:00, 82.39it/s]\n"
     ]
    },
    {
     "name": "stdout",
     "output_type": "stream",
     "text": [
      "\tSaving grtcomp-0328-ET0028339200.data...\n",
      "\tLarge distances: 1/1000\n",
      "\tDZ Statistics: (min,mean,std,max)=0.000425587,0.0162099,0.0112065,0.16204\n",
      "Reading file 329...\n"
     ]
    },
    {
     "name": "stderr",
     "output_type": "stream",
     "text": [
      "100%|██████████| 1000/1000 [00:11<00:00, 83.44it/s]\n"
     ]
    },
    {
     "name": "stdout",
     "output_type": "stream",
     "text": [
      "\tSaving grtcomp-0329-ET0028425600.data...\n",
      "\tLarge distances: 2/1000\n",
      "\tDZ Statistics: (min,mean,std,max)=0.000531178,0.0157236,0.0104111,0.135958\n",
      "Reading file 330...\n"
     ]
    },
    {
     "name": "stderr",
     "output_type": "stream",
     "text": [
      "100%|██████████| 1000/1000 [00:12<00:00, 84.91it/s]\n"
     ]
    },
    {
     "name": "stdout",
     "output_type": "stream",
     "text": [
      "\tSaving grtcomp-0330-ET0028512000.data...\n",
      "\tLarge distances: 4/1000\n",
      "\tDZ Statistics: (min,mean,std,max)=0.000343035,0.0160316,0.012996,0.184448\n",
      "Reading file 331...\n"
     ]
    },
    {
     "name": "stderr",
     "output_type": "stream",
     "text": [
      "100%|██████████| 1000/1000 [00:12<00:00, 82.26it/s]\n"
     ]
    },
    {
     "name": "stdout",
     "output_type": "stream",
     "text": [
      "\tSaving grtcomp-0331-ET0028598400.data...\n",
      "\tLarge distances: 6/1000\n",
      "\tDZ Statistics: (min,mean,std,max)=0.000441437,0.0175006,0.0232674,0.557737\n",
      "Reading file 332...\n"
     ]
    },
    {
     "name": "stderr",
     "output_type": "stream",
     "text": [
      "100%|██████████| 1000/1000 [00:12<00:00, 83.32it/s]\n"
     ]
    },
    {
     "name": "stdout",
     "output_type": "stream",
     "text": [
      "\tSaving grtcomp-0332-ET0028684800.data...\n",
      "\tLarge distances: 1/1000\n",
      "\tDZ Statistics: (min,mean,std,max)=0.00057358,0.0159433,0.0175207,0.481208\n",
      "Reading file 333...\n"
     ]
    },
    {
     "name": "stderr",
     "output_type": "stream",
     "text": [
      "100%|██████████| 1000/1000 [00:12<00:00, 81.34it/s]\n"
     ]
    },
    {
     "name": "stdout",
     "output_type": "stream",
     "text": [
      "\tSaving grtcomp-0333-ET0028771200.data...\n",
      "\tLarge distances: 2/1000\n",
      "\tDZ Statistics: (min,mean,std,max)=0.000606975,0.0161966,0.0151427,0.303731\n",
      "Reading file 334...\n"
     ]
    },
    {
     "name": "stderr",
     "output_type": "stream",
     "text": [
      "100%|██████████| 1000/1000 [00:11<00:00, 83.54it/s]\n"
     ]
    },
    {
     "name": "stdout",
     "output_type": "stream",
     "text": [
      "\tSaving grtcomp-0334-ET0028857600.data...\n",
      "\tLarge distances: 5/1000\n",
      "\tDZ Statistics: (min,mean,std,max)=0.000588574,0.0167331,0.0380505,1.03098\n",
      "Reading file 335...\n"
     ]
    },
    {
     "name": "stderr",
     "output_type": "stream",
     "text": [
      "100%|██████████| 1000/1000 [00:12<00:00, 82.31it/s]\n"
     ]
    },
    {
     "name": "stdout",
     "output_type": "stream",
     "text": [
      "\tSaving grtcomp-0335-ET0028944000.data...\n",
      "\tLarge distances: 2/1000\n",
      "\tDZ Statistics: (min,mean,std,max)=0.000496014,0.0154879,0.012492,0.248417\n"
     ]
    },
    {
     "name": "stderr",
     "output_type": "stream",
     "text": [
      "\r",
      "  0%|          | 0/1000 [00:00<?, ?it/s]"
     ]
    },
    {
     "name": "stdout",
     "output_type": "stream",
     "text": [
      "Reading file 336...\n"
     ]
    },
    {
     "name": "stderr",
     "output_type": "stream",
     "text": [
      "100%|██████████| 1000/1000 [00:12<00:00, 81.08it/s]\n"
     ]
    },
    {
     "name": "stdout",
     "output_type": "stream",
     "text": [
      "\tSaving grtcomp-0336-ET0029030400.data...\n",
      "\tLarge distances: 4/1000\n",
      "\tDZ Statistics: (min,mean,std,max)=0.000634014,0.0164945,0.0218721,0.539431\n",
      "Reading file 337...\n"
     ]
    },
    {
     "name": "stderr",
     "output_type": "stream",
     "text": [
      "100%|██████████| 1000/1000 [00:12<00:00, 83.15it/s]\n"
     ]
    },
    {
     "name": "stdout",
     "output_type": "stream",
     "text": [
      "\tSaving grtcomp-0337-ET0029116800.data...\n",
      "\tLarge distances: 4/1000\n",
      "\tDZ Statistics: (min,mean,std,max)=0.000552861,0.0156156,0.0128436,0.184112\n",
      "Reading file 338...\n"
     ]
    },
    {
     "name": "stderr",
     "output_type": "stream",
     "text": [
      "100%|██████████| 1000/1000 [00:12<00:00, 83.82it/s]\n"
     ]
    },
    {
     "name": "stdout",
     "output_type": "stream",
     "text": [
      "\tSaving grtcomp-0338-ET0029203200.data...\n",
      "\tLarge distances: 4/1000\n",
      "\tDZ Statistics: (min,mean,std,max)=0.000566091,0.0160403,0.0232228,0.614968\n",
      "Reading file 339...\n"
     ]
    },
    {
     "name": "stderr",
     "output_type": "stream",
     "text": [
      "100%|██████████| 1000/1000 [00:12<00:00, 82.69it/s]\n"
     ]
    },
    {
     "name": "stdout",
     "output_type": "stream",
     "text": [
      "\tSaving grtcomp-0339-ET0029289600.data...\n",
      "\tLarge distances: 2/1000\n",
      "\tDZ Statistics: (min,mean,std,max)=0.000603641,0.0155813,0.014536,0.33378\n",
      "Reading file 340...\n"
     ]
    },
    {
     "name": "stderr",
     "output_type": "stream",
     "text": [
      "100%|██████████| 1000/1000 [00:12<00:00, 82.04it/s]\n"
     ]
    },
    {
     "name": "stdout",
     "output_type": "stream",
     "text": [
      "\tSaving grtcomp-0340-ET0029376000.data...\n",
      "\tLarge distances: 0/1000\n",
      "\tDZ Statistics: (min,mean,std,max)=0.00045925,0.015003,0.0101465,0.0786762\n",
      "Reading file 341...\n"
     ]
    },
    {
     "name": "stderr",
     "output_type": "stream",
     "text": [
      "100%|██████████| 1000/1000 [00:12<00:00, 85.11it/s]\n"
     ]
    },
    {
     "name": "stdout",
     "output_type": "stream",
     "text": [
      "\tSaving grtcomp-0341-ET0029462400.data...\n",
      "\tLarge distances: 2/1000\n",
      "\tDZ Statistics: (min,mean,std,max)=0.000785667,0.0151577,0.0117756,0.209545\n"
     ]
    },
    {
     "name": "stderr",
     "output_type": "stream",
     "text": [
      "\r",
      "  0%|          | 0/1000 [00:00<?, ?it/s]"
     ]
    },
    {
     "name": "stdout",
     "output_type": "stream",
     "text": [
      "Reading file 342...\n"
     ]
    },
    {
     "name": "stderr",
     "output_type": "stream",
     "text": [
      "100%|██████████| 1000/1000 [00:12<00:00, 83.01it/s]\n"
     ]
    },
    {
     "name": "stdout",
     "output_type": "stream",
     "text": [
      "\tSaving grtcomp-0342-ET0029548800.data...\n",
      "\tLarge distances: 1/1000\n",
      "\tDZ Statistics: (min,mean,std,max)=0.000695464,0.0156221,0.0165148,0.417815\n",
      "Reading file 343...\n"
     ]
    },
    {
     "name": "stderr",
     "output_type": "stream",
     "text": [
      "100%|██████████| 1000/1000 [00:12<00:00, 81.91it/s]\n"
     ]
    },
    {
     "name": "stdout",
     "output_type": "stream",
     "text": [
      "\tSaving grtcomp-0343-ET0029635200.data...\n",
      "\tLarge distances: 5/1000\n",
      "\tDZ Statistics: (min,mean,std,max)=0.000985729,0.0159475,0.0197668,0.50576\n",
      "Reading file 344...\n"
     ]
    },
    {
     "name": "stderr",
     "output_type": "stream",
     "text": [
      "100%|██████████| 1000/1000 [00:12<00:00, 78.34it/s]\n"
     ]
    },
    {
     "name": "stdout",
     "output_type": "stream",
     "text": [
      "\tSaving grtcomp-0344-ET0029721600.data...\n",
      "\tLarge distances: 2/1000\n",
      "\tDZ Statistics: (min,mean,std,max)=0.000970257,0.0148643,0.0114823,0.179195\n",
      "Reading file 345...\n"
     ]
    },
    {
     "name": "stderr",
     "output_type": "stream",
     "text": [
      "100%|██████████| 1000/1000 [00:12<00:00, 83.03it/s]\n"
     ]
    },
    {
     "name": "stdout",
     "output_type": "stream",
     "text": [
      "\tSaving grtcomp-0345-ET0029808000.data...\n",
      "\tLarge distances: 3/1000\n",
      "\tDZ Statistics: (min,mean,std,max)=0.000575815,0.0153366,0.0125056,0.164193\n",
      "Reading file 346...\n"
     ]
    },
    {
     "name": "stderr",
     "output_type": "stream",
     "text": [
      "100%|██████████| 1000/1000 [00:12<00:00, 80.70it/s]\n"
     ]
    },
    {
     "name": "stdout",
     "output_type": "stream",
     "text": [
      "\tSaving grtcomp-0346-ET0029894400.data...\n",
      "\tLarge distances: 2/1000\n",
      "\tDZ Statistics: (min,mean,std,max)=0.000795063,0.0151155,0.0170489,0.429868\n",
      "Reading file 347...\n"
     ]
    },
    {
     "name": "stderr",
     "output_type": "stream",
     "text": [
      "100%|██████████| 1000/1000 [00:12<00:00, 82.42it/s]\n"
     ]
    },
    {
     "name": "stdout",
     "output_type": "stream",
     "text": [
      "\tSaving grtcomp-0347-ET0029980800.data...\n",
      "\tLarge distances: 2/1000\n",
      "\tDZ Statistics: (min,mean,std,max)=0.000813654,0.0150965,0.0234611,0.600125\n",
      "Reading file 348...\n"
     ]
    },
    {
     "name": "stderr",
     "output_type": "stream",
     "text": [
      "100%|██████████| 1000/1000 [00:12<00:00, 82.21it/s]\n"
     ]
    },
    {
     "name": "stdout",
     "output_type": "stream",
     "text": [
      "\tSaving grtcomp-0348-ET0030067200.data...\n",
      "\tLarge distances: 6/1000\n",
      "\tDZ Statistics: (min,mean,std,max)=0.000901069,0.0160576,0.0233152,0.570151\n",
      "Reading file 349...\n"
     ]
    },
    {
     "name": "stderr",
     "output_type": "stream",
     "text": [
      "100%|██████████| 1000/1000 [00:12<00:00, 84.51it/s]\n"
     ]
    },
    {
     "name": "stdout",
     "output_type": "stream",
     "text": [
      "\tSaving grtcomp-0349-ET0030153600.data...\n",
      "\tLarge distances: 1/1000\n",
      "\tDZ Statistics: (min,mean,std,max)=0.000868351,0.0142122,0.0102332,0.162097\n",
      "Reading file 350...\n"
     ]
    },
    {
     "name": "stderr",
     "output_type": "stream",
     "text": [
      "100%|██████████| 1000/1000 [00:13<00:00, 71.53it/s]\n"
     ]
    },
    {
     "name": "stdout",
     "output_type": "stream",
     "text": [
      "\tSaving grtcomp-0350-ET0030240000.data...\n",
      "\tLarge distances: 2/1000\n",
      "\tDZ Statistics: (min,mean,std,max)=0.000573395,0.01442,0.0130299,0.218774\n",
      "Reading file 351...\n"
     ]
    },
    {
     "name": "stderr",
     "output_type": "stream",
     "text": [
      "100%|██████████| 1000/1000 [00:14<00:00, 70.64it/s]\n"
     ]
    },
    {
     "name": "stdout",
     "output_type": "stream",
     "text": [
      "\tSaving grtcomp-0351-ET0030326400.data...\n",
      "\tLarge distances: 4/1000\n",
      "\tDZ Statistics: (min,mean,std,max)=0.000543668,0.0147717,0.0188994,0.486373\n",
      "Reading file 352...\n"
     ]
    },
    {
     "name": "stderr",
     "output_type": "stream",
     "text": [
      "100%|██████████| 1000/1000 [00:12<00:00, 80.60it/s]\n"
     ]
    },
    {
     "name": "stdout",
     "output_type": "stream",
     "text": [
      "\tSaving grtcomp-0352-ET0030412800.data...\n",
      "\tLarge distances: 1/1000\n",
      "\tDZ Statistics: (min,mean,std,max)=0.000399199,0.0136763,0.00974263,0.110832\n",
      "Reading file 353...\n"
     ]
    },
    {
     "name": "stderr",
     "output_type": "stream",
     "text": [
      "100%|██████████| 1000/1000 [00:12<00:00, 82.90it/s]\n"
     ]
    },
    {
     "name": "stdout",
     "output_type": "stream",
     "text": [
      "\tSaving grtcomp-0353-ET0030499200.data...\n",
      "\tLarge distances: 5/1000\n",
      "\tDZ Statistics: (min,mean,std,max)=0.000724488,0.0142357,0.0147836,0.295722\n",
      "Reading file 354...\n"
     ]
    },
    {
     "name": "stderr",
     "output_type": "stream",
     "text": [
      "100%|██████████| 1000/1000 [00:12<00:00, 81.99it/s]\n"
     ]
    },
    {
     "name": "stdout",
     "output_type": "stream",
     "text": [
      "\tSaving grtcomp-0354-ET0030585600.data...\n",
      "\tLarge distances: 1/1000\n",
      "\tDZ Statistics: (min,mean,std,max)=0.000227305,0.0142824,0.0109969,0.118445\n",
      "Reading file 355...\n"
     ]
    },
    {
     "name": "stderr",
     "output_type": "stream",
     "text": [
      "100%|██████████| 1000/1000 [00:12<00:00, 81.41it/s]\n"
     ]
    },
    {
     "name": "stdout",
     "output_type": "stream",
     "text": [
      "\tSaving grtcomp-0355-ET0030672000.data...\n",
      "\tLarge distances: 1/1000\n",
      "\tDZ Statistics: (min,mean,std,max)=0.00104498,0.0138951,0.0106854,0.151473\n",
      "Reading file 356...\n"
     ]
    },
    {
     "name": "stderr",
     "output_type": "stream",
     "text": [
      "100%|██████████| 1000/1000 [00:11<00:00, 83.39it/s]\n"
     ]
    },
    {
     "name": "stdout",
     "output_type": "stream",
     "text": [
      "\tSaving grtcomp-0356-ET0030758400.data...\n",
      "\tLarge distances: 4/1000\n",
      "\tDZ Statistics: (min,mean,std,max)=0.000824115,0.0138312,0.0166896,0.350473\n",
      "Reading file 357...\n"
     ]
    },
    {
     "name": "stderr",
     "output_type": "stream",
     "text": [
      "100%|██████████| 1000/1000 [00:12<00:00, 80.71it/s]\n"
     ]
    },
    {
     "name": "stdout",
     "output_type": "stream",
     "text": [
      "\tSaving grtcomp-0357-ET0030844800.data...\n",
      "\tLarge distances: 3/1000\n",
      "\tDZ Statistics: (min,mean,std,max)=0.000688264,0.0139166,0.0172871,0.378889\n",
      "Reading file 358...\n"
     ]
    },
    {
     "name": "stderr",
     "output_type": "stream",
     "text": [
      "100%|██████████| 1000/1000 [00:12<00:00, 82.46it/s]\n"
     ]
    },
    {
     "name": "stdout",
     "output_type": "stream",
     "text": [
      "\tSaving grtcomp-0358-ET0030931200.data...\n",
      "\tLarge distances: 3/1000\n",
      "\tDZ Statistics: (min,mean,std,max)=0.000937333,0.013733,0.0259892,0.609781\n",
      "Reading file 359...\n"
     ]
    },
    {
     "name": "stderr",
     "output_type": "stream",
     "text": [
      "100%|██████████| 1000/1000 [00:11<00:00, 83.36it/s]\n"
     ]
    },
    {
     "name": "stdout",
     "output_type": "stream",
     "text": [
      "\tSaving grtcomp-0359-ET0031017600.data...\n",
      "\tLarge distances: 3/1000\n",
      "\tDZ Statistics: (min,mean,std,max)=0.000519756,0.0136966,0.0182124,0.427689\n",
      "Reading file 360...\n"
     ]
    },
    {
     "name": "stderr",
     "output_type": "stream",
     "text": [
      "100%|██████████| 1000/1000 [00:12<00:00, 82.25it/s]\n"
     ]
    },
    {
     "name": "stdout",
     "output_type": "stream",
     "text": [
      "\tSaving grtcomp-0360-ET0031104000.data...\n",
      "\tLarge distances: 3/1000\n",
      "\tDZ Statistics: (min,mean,std,max)=0.000562565,0.0127119,0.0133644,0.270945\n",
      "Reading file 361...\n"
     ]
    },
    {
     "name": "stderr",
     "output_type": "stream",
     "text": [
      "100%|██████████| 1000/1000 [00:12<00:00, 82.35it/s]\n"
     ]
    },
    {
     "name": "stdout",
     "output_type": "stream",
     "text": [
      "\tSaving grtcomp-0361-ET0031190400.data...\n",
      "\tLarge distances: 4/1000\n",
      "\tDZ Statistics: (min,mean,std,max)=0.000820128,0.0133689,0.01856,0.303255\n",
      "Reading file 362...\n"
     ]
    },
    {
     "name": "stderr",
     "output_type": "stream",
     "text": [
      "100%|██████████| 1000/1000 [00:12<00:00, 82.07it/s]\n"
     ]
    },
    {
     "name": "stdout",
     "output_type": "stream",
     "text": [
      "\tSaving grtcomp-0362-ET0031276800.data...\n",
      "\tLarge distances: 7/1000\n",
      "\tDZ Statistics: (min,mean,std,max)=0.000790738,0.0148078,0.0295975,0.594391\n",
      "Reading file 363...\n"
     ]
    },
    {
     "name": "stderr",
     "output_type": "stream",
     "text": [
      "100%|██████████| 1000/1000 [00:12<00:00, 82.61it/s]\n"
     ]
    },
    {
     "name": "stdout",
     "output_type": "stream",
     "text": [
      "\tSaving grtcomp-0363-ET0031363200.data...\n",
      "\tLarge distances: 6/1000\n",
      "\tDZ Statistics: (min,mean,std,max)=0.000496735,0.0139207,0.0208305,0.31483\n",
      "Reading file 364...\n"
     ]
    },
    {
     "name": "stderr",
     "output_type": "stream",
     "text": [
      "100%|██████████| 1000/1000 [00:12<00:00, 83.27it/s]\n"
     ]
    },
    {
     "name": "stdout",
     "output_type": "stream",
     "text": [
      "\tSaving grtcomp-0364-ET0031449600.data...\n",
      "\tLarge distances: 1/1000\n",
      "\tDZ Statistics: (min,mean,std,max)=0.000408291,0.0123081,0.00989474,0.112271\n",
      "Mismatches: 1036/365000 = 0.283836%\n"
     ]
    }
   ],
   "source": [
    "from tqdm import tqdm\n",
    "import random\n",
    "\n",
    "#Read data\n",
    "adata=None\n",
    "ierr=0\n",
    "Nsel=1000\n",
    "for ntar in range(len(tar.getnames())):\n",
    "                  \n",
    "    print(f\"Reading file {ntar}...\")\n",
    "    fname=tar.getnames()[ntar]\n",
    "    data=np.loadtxt(tar.extractfile(fname))\n",
    "    columns=[\"N\",\"ET\",\"lat\",\"lon\",\"h\",\"Az\",\"vimp\",\n",
    "             \"xobs\",\"yobs\",\"zobs\",\"vxobs\",\"vyobs\",\"vzobs\",\n",
    "             \"q\",\"e\",\"i\",\"Omega\",\"omega\",\"M\",\"qapex\"]\n",
    "    data=pd.DataFrame(data,columns=columns)\n",
    "\n",
    "    #Initialize extracolumns\n",
    "    data[\"DZpcon\"]=0\n",
    "    data[\"DZsim\"]=0\n",
    "    sim_elements=[\"q_sim\",\"e_sim\",\"i_sim\",\"W_sim\",\"w_sim\",\"M_sim\"]\n",
    "    pcon_elements=[\"q_pcon\",\"e_pcon\",\"i_pcon\",\"W_pcon\",\"w_pcon\",\"M_pcon\"]\n",
    "    for i,element in enumerate(sim_elements):\n",
    "        data[element]=0\n",
    "        data[pcon_elements[i]]=0\n",
    "        \n",
    "    #Compute distances\n",
    "    #for index in tqdm(data.index):\n",
    "    idata=pd.DataFrame([],columns=data.columns)\n",
    "    for index in tqdm(random.sample(data.index.values.tolist(),k=Nsel)):\n",
    "        event=data.loc[index]\n",
    "        E_num=event[[\"q\",\"e\",\"i\",\"Omega\",\"omega\",\"M\"]].values\n",
    "        E_num[2:]*=DEG\n",
    "        E_sim,E_pcon=rayOscelt(event[\"lon\"],event[\"lat\"],80.0,event[\"Az\"],event[\"h\"],-event[\"vimp\"],event[\"ET\"])\n",
    "        for E in E_sim,E_pcon:E[0]/=AU;\n",
    "        idata.loc[index]=data.loc[index]\n",
    "        idata[pcon_elements[i]]=0\n",
    "        idata.loc[index,\"DZpcon\"]=zappalaDistance(E_num,E_pcon)\n",
    "        idata.loc[index,\"DZsim\"]=zappalaDistance(E_num,E_sim)\n",
    "        E_sim[2:]*=RAD\n",
    "        E_pcon[2:]*=RAD\n",
    "        for i,element in enumerate(sim_elements):\n",
    "            idata.loc[index,element]=E_sim[i]\n",
    "            idata.loc[index,pcon_elements[i]]=E_pcon[i]\n",
    "        #print(f\"Patched conics: {DZpcon:g}, Simple approximation: {DZsim:g}\")\n",
    "        #break\n",
    "    selcols=[\"ET\",\"lon\",\"lat\",\"h\",\"Az\",\n",
    "             \"DZpcon\",\"DZsim\",\n",
    "             \"q\",\"q_pcon\",\"q_sim\",\n",
    "             \"e\",\"e_pcon\",\"e_sim\",\n",
    "             \"i\",\"i_pcon\",\"i_sim\",\n",
    "             \"Omega\",\"W_pcon\",\"W_sim\",\n",
    "             \"omega\",\"w_pcon\",\"w_sim\"]\n",
    "    fname=f\"grtcomp-{ntar:04d}-ET{np.int(event['ET']):010d}.data\"\n",
    "    print(f\"\\tSaving {fname}...\")\n",
    "    nlarge=(idata[\"DZpcon\"]>0.1).sum()\n",
    "    ierr+=nlarge\n",
    "    ndata=len(idata)\n",
    "    print(f\"\\tLarge distances: {nlarge}/{ndata}\")\n",
    "    print(f\"\\tDZ Statistics: (min,mean,std,max)={idata['DZpcon'].min():g},{idata['DZpcon'].mean():g},{idata['DZpcon'].std():g},{idata['DZpcon'].max():g}\")\n",
    "    np.savetxt(f\"{BDIR}/../grt-YearTest/{fname}\",idata[selcols].values)\n",
    "    if adata is None:\n",
    "          adata=pd.DataFrame([],columns=idata[selcols].columns)\n",
    "    adata=pd.concat((adata,idata[selcols]))\n",
    "    del(data,idata)\n",
    "    #if ntar>0:break\n",
    "\n",
    "print(f\"Mismatches: {ierr}/{(ntar+1)*Nsel} = {ierr/((ntar+1.0)*Nsel)*100:g}%\")"
   ]
  },
  {
   "cell_type": "code",
   "execution_count": 28,
   "metadata": {},
   "outputs": [],
   "source": [
    "np.savetxt(f\"{BDIR}/../grt-YearTest/grtcomp.data\",adata.values)"
   ]
  },
  {
   "cell_type": "code",
   "execution_count": 36,
   "metadata": {},
   "outputs": [
    {
     "data": {
      "text/html": [
       "<div>\n",
       "<style scoped>\n",
       "    .dataframe tbody tr th:only-of-type {\n",
       "        vertical-align: middle;\n",
       "    }\n",
       "\n",
       "    .dataframe tbody tr th {\n",
       "        vertical-align: top;\n",
       "    }\n",
       "\n",
       "    .dataframe thead th {\n",
       "        text-align: right;\n",
       "    }\n",
       "</style>\n",
       "<table border=\"1\" class=\"dataframe\">\n",
       "  <thead>\n",
       "    <tr style=\"text-align: right;\">\n",
       "      <th></th>\n",
       "      <th>DZpcon</th>\n",
       "      <th>DZsim</th>\n",
       "    </tr>\n",
       "  </thead>\n",
       "  <tbody>\n",
       "    <tr>\n",
       "      <th>count</th>\n",
       "      <td>365000.000000</td>\n",
       "      <td>365000.000000</td>\n",
       "    </tr>\n",
       "    <tr>\n",
       "      <th>mean</th>\n",
       "      <td>0.015711</td>\n",
       "      <td>0.286601</td>\n",
       "    </tr>\n",
       "    <tr>\n",
       "      <th>std</th>\n",
       "      <td>0.019188</td>\n",
       "      <td>0.128700</td>\n",
       "    </tr>\n",
       "    <tr>\n",
       "      <th>min</th>\n",
       "      <td>0.000050</td>\n",
       "      <td>0.002489</td>\n",
       "    </tr>\n",
       "    <tr>\n",
       "      <th>25%</th>\n",
       "      <td>0.007632</td>\n",
       "      <td>0.189846</td>\n",
       "    </tr>\n",
       "    <tr>\n",
       "      <th>50%</th>\n",
       "      <td>0.012905</td>\n",
       "      <td>0.273526</td>\n",
       "    </tr>\n",
       "    <tr>\n",
       "      <th>75%</th>\n",
       "      <td>0.019700</td>\n",
       "      <td>0.370109</td>\n",
       "    </tr>\n",
       "    <tr>\n",
       "      <th>max</th>\n",
       "      <td>1.586169</td>\n",
       "      <td>1.668066</td>\n",
       "    </tr>\n",
       "  </tbody>\n",
       "</table>\n",
       "</div>"
      ],
      "text/plain": [
       "              DZpcon          DZsim\n",
       "count  365000.000000  365000.000000\n",
       "mean        0.015711       0.286601\n",
       "std         0.019188       0.128700\n",
       "min         0.000050       0.002489\n",
       "25%         0.007632       0.189846\n",
       "50%         0.012905       0.273526\n",
       "75%         0.019700       0.370109\n",
       "max         1.586169       1.668066"
      ]
     },
     "execution_count": 36,
     "metadata": {},
     "output_type": "execute_result"
    }
   ],
   "source": [
    "adata[[\"DZpcon\",\"DZsim\"]].describe()"
   ]
  },
  {
   "cell_type": "code",
   "execution_count": 34,
   "metadata": {},
   "outputs": [
    {
     "data": {
      "text/plain": [
       "1036"
      ]
     },
     "execution_count": 34,
     "metadata": {},
     "output_type": "execute_result"
    }
   ],
   "source": [
    "(adata[\"DZpcon\"]>0.1).sum()"
   ]
  },
  {
   "cell_type": "code",
   "execution_count": 57,
   "metadata": {},
   "outputs": [],
   "source": [
    "def medHistogram(data,**args):\n",
    "    h,x=np.histogram(data,**args)\n",
    "    xm=(x[1:]+x[:-1])/2\n",
    "    return h,xm"
   ]
  },
  {
   "cell_type": "code",
   "execution_count": 77,
   "metadata": {},
   "outputs": [
    {
     "data": {
      "application/javascript": [
       "/* Put everything inside the global mpl namespace */\n",
       "window.mpl = {};\n",
       "\n",
       "\n",
       "mpl.get_websocket_type = function() {\n",
       "    if (typeof(WebSocket) !== 'undefined') {\n",
       "        return WebSocket;\n",
       "    } else if (typeof(MozWebSocket) !== 'undefined') {\n",
       "        return MozWebSocket;\n",
       "    } else {\n",
       "        alert('Your browser does not have WebSocket support.' +\n",
       "              'Please try Chrome, Safari or Firefox ≥ 6. ' +\n",
       "              'Firefox 4 and 5 are also supported but you ' +\n",
       "              'have to enable WebSockets in about:config.');\n",
       "    };\n",
       "}\n",
       "\n",
       "mpl.figure = function(figure_id, websocket, ondownload, parent_element) {\n",
       "    this.id = figure_id;\n",
       "\n",
       "    this.ws = websocket;\n",
       "\n",
       "    this.supports_binary = (this.ws.binaryType != undefined);\n",
       "\n",
       "    if (!this.supports_binary) {\n",
       "        var warnings = document.getElementById(\"mpl-warnings\");\n",
       "        if (warnings) {\n",
       "            warnings.style.display = 'block';\n",
       "            warnings.textContent = (\n",
       "                \"This browser does not support binary websocket messages. \" +\n",
       "                    \"Performance may be slow.\");\n",
       "        }\n",
       "    }\n",
       "\n",
       "    this.imageObj = new Image();\n",
       "\n",
       "    this.context = undefined;\n",
       "    this.message = undefined;\n",
       "    this.canvas = undefined;\n",
       "    this.rubberband_canvas = undefined;\n",
       "    this.rubberband_context = undefined;\n",
       "    this.format_dropdown = undefined;\n",
       "\n",
       "    this.image_mode = 'full';\n",
       "\n",
       "    this.root = $('<div/>');\n",
       "    this._root_extra_style(this.root)\n",
       "    this.root.attr('style', 'display: inline-block');\n",
       "\n",
       "    $(parent_element).append(this.root);\n",
       "\n",
       "    this._init_header(this);\n",
       "    this._init_canvas(this);\n",
       "    this._init_toolbar(this);\n",
       "\n",
       "    var fig = this;\n",
       "\n",
       "    this.waiting = false;\n",
       "\n",
       "    this.ws.onopen =  function () {\n",
       "            fig.send_message(\"supports_binary\", {value: fig.supports_binary});\n",
       "            fig.send_message(\"send_image_mode\", {});\n",
       "            if (mpl.ratio != 1) {\n",
       "                fig.send_message(\"set_dpi_ratio\", {'dpi_ratio': mpl.ratio});\n",
       "            }\n",
       "            fig.send_message(\"refresh\", {});\n",
       "        }\n",
       "\n",
       "    this.imageObj.onload = function() {\n",
       "            if (fig.image_mode == 'full') {\n",
       "                // Full images could contain transparency (where diff images\n",
       "                // almost always do), so we need to clear the canvas so that\n",
       "                // there is no ghosting.\n",
       "                fig.context.clearRect(0, 0, fig.canvas.width, fig.canvas.height);\n",
       "            }\n",
       "            fig.context.drawImage(fig.imageObj, 0, 0);\n",
       "        };\n",
       "\n",
       "    this.imageObj.onunload = function() {\n",
       "        this.ws.close();\n",
       "    }\n",
       "\n",
       "    this.ws.onmessage = this._make_on_message_function(this);\n",
       "\n",
       "    this.ondownload = ondownload;\n",
       "}\n",
       "\n",
       "mpl.figure.prototype._init_header = function() {\n",
       "    var titlebar = $(\n",
       "        '<div class=\"ui-dialog-titlebar ui-widget-header ui-corner-all ' +\n",
       "        'ui-helper-clearfix\"/>');\n",
       "    var titletext = $(\n",
       "        '<div class=\"ui-dialog-title\" style=\"width: 100%; ' +\n",
       "        'text-align: center; padding: 3px;\"/>');\n",
       "    titlebar.append(titletext)\n",
       "    this.root.append(titlebar);\n",
       "    this.header = titletext[0];\n",
       "}\n",
       "\n",
       "\n",
       "\n",
       "mpl.figure.prototype._canvas_extra_style = function(canvas_div) {\n",
       "\n",
       "}\n",
       "\n",
       "\n",
       "mpl.figure.prototype._root_extra_style = function(canvas_div) {\n",
       "\n",
       "}\n",
       "\n",
       "mpl.figure.prototype._init_canvas = function() {\n",
       "    var fig = this;\n",
       "\n",
       "    var canvas_div = $('<div/>');\n",
       "\n",
       "    canvas_div.attr('style', 'position: relative; clear: both; outline: 0');\n",
       "\n",
       "    function canvas_keyboard_event(event) {\n",
       "        return fig.key_event(event, event['data']);\n",
       "    }\n",
       "\n",
       "    canvas_div.keydown('key_press', canvas_keyboard_event);\n",
       "    canvas_div.keyup('key_release', canvas_keyboard_event);\n",
       "    this.canvas_div = canvas_div\n",
       "    this._canvas_extra_style(canvas_div)\n",
       "    this.root.append(canvas_div);\n",
       "\n",
       "    var canvas = $('<canvas/>');\n",
       "    canvas.addClass('mpl-canvas');\n",
       "    canvas.attr('style', \"left: 0; top: 0; z-index: 0; outline: 0\")\n",
       "\n",
       "    this.canvas = canvas[0];\n",
       "    this.context = canvas[0].getContext(\"2d\");\n",
       "\n",
       "    var backingStore = this.context.backingStorePixelRatio ||\n",
       "\tthis.context.webkitBackingStorePixelRatio ||\n",
       "\tthis.context.mozBackingStorePixelRatio ||\n",
       "\tthis.context.msBackingStorePixelRatio ||\n",
       "\tthis.context.oBackingStorePixelRatio ||\n",
       "\tthis.context.backingStorePixelRatio || 1;\n",
       "\n",
       "    mpl.ratio = (window.devicePixelRatio || 1) / backingStore;\n",
       "\n",
       "    var rubberband = $('<canvas/>');\n",
       "    rubberband.attr('style', \"position: absolute; left: 0; top: 0; z-index: 1;\")\n",
       "\n",
       "    var pass_mouse_events = true;\n",
       "\n",
       "    canvas_div.resizable({\n",
       "        start: function(event, ui) {\n",
       "            pass_mouse_events = false;\n",
       "        },\n",
       "        resize: function(event, ui) {\n",
       "            fig.request_resize(ui.size.width, ui.size.height);\n",
       "        },\n",
       "        stop: function(event, ui) {\n",
       "            pass_mouse_events = true;\n",
       "            fig.request_resize(ui.size.width, ui.size.height);\n",
       "        },\n",
       "    });\n",
       "\n",
       "    function mouse_event_fn(event) {\n",
       "        if (pass_mouse_events)\n",
       "            return fig.mouse_event(event, event['data']);\n",
       "    }\n",
       "\n",
       "    rubberband.mousedown('button_press', mouse_event_fn);\n",
       "    rubberband.mouseup('button_release', mouse_event_fn);\n",
       "    // Throttle sequential mouse events to 1 every 20ms.\n",
       "    rubberband.mousemove('motion_notify', mouse_event_fn);\n",
       "\n",
       "    rubberband.mouseenter('figure_enter', mouse_event_fn);\n",
       "    rubberband.mouseleave('figure_leave', mouse_event_fn);\n",
       "\n",
       "    canvas_div.on(\"wheel\", function (event) {\n",
       "        event = event.originalEvent;\n",
       "        event['data'] = 'scroll'\n",
       "        if (event.deltaY < 0) {\n",
       "            event.step = 1;\n",
       "        } else {\n",
       "            event.step = -1;\n",
       "        }\n",
       "        mouse_event_fn(event);\n",
       "    });\n",
       "\n",
       "    canvas_div.append(canvas);\n",
       "    canvas_div.append(rubberband);\n",
       "\n",
       "    this.rubberband = rubberband;\n",
       "    this.rubberband_canvas = rubberband[0];\n",
       "    this.rubberband_context = rubberband[0].getContext(\"2d\");\n",
       "    this.rubberband_context.strokeStyle = \"#000000\";\n",
       "\n",
       "    this._resize_canvas = function(width, height) {\n",
       "        // Keep the size of the canvas, canvas container, and rubber band\n",
       "        // canvas in synch.\n",
       "        canvas_div.css('width', width)\n",
       "        canvas_div.css('height', height)\n",
       "\n",
       "        canvas.attr('width', width * mpl.ratio);\n",
       "        canvas.attr('height', height * mpl.ratio);\n",
       "        canvas.attr('style', 'width: ' + width + 'px; height: ' + height + 'px;');\n",
       "\n",
       "        rubberband.attr('width', width);\n",
       "        rubberband.attr('height', height);\n",
       "    }\n",
       "\n",
       "    // Set the figure to an initial 600x600px, this will subsequently be updated\n",
       "    // upon first draw.\n",
       "    this._resize_canvas(600, 600);\n",
       "\n",
       "    // Disable right mouse context menu.\n",
       "    $(this.rubberband_canvas).bind(\"contextmenu\",function(e){\n",
       "        return false;\n",
       "    });\n",
       "\n",
       "    function set_focus () {\n",
       "        canvas.focus();\n",
       "        canvas_div.focus();\n",
       "    }\n",
       "\n",
       "    window.setTimeout(set_focus, 100);\n",
       "}\n",
       "\n",
       "mpl.figure.prototype._init_toolbar = function() {\n",
       "    var fig = this;\n",
       "\n",
       "    var nav_element = $('<div/>')\n",
       "    nav_element.attr('style', 'width: 100%');\n",
       "    this.root.append(nav_element);\n",
       "\n",
       "    // Define a callback function for later on.\n",
       "    function toolbar_event(event) {\n",
       "        return fig.toolbar_button_onclick(event['data']);\n",
       "    }\n",
       "    function toolbar_mouse_event(event) {\n",
       "        return fig.toolbar_button_onmouseover(event['data']);\n",
       "    }\n",
       "\n",
       "    for(var toolbar_ind in mpl.toolbar_items) {\n",
       "        var name = mpl.toolbar_items[toolbar_ind][0];\n",
       "        var tooltip = mpl.toolbar_items[toolbar_ind][1];\n",
       "        var image = mpl.toolbar_items[toolbar_ind][2];\n",
       "        var method_name = mpl.toolbar_items[toolbar_ind][3];\n",
       "\n",
       "        if (!name) {\n",
       "            // put a spacer in here.\n",
       "            continue;\n",
       "        }\n",
       "        var button = $('<button/>');\n",
       "        button.addClass('ui-button ui-widget ui-state-default ui-corner-all ' +\n",
       "                        'ui-button-icon-only');\n",
       "        button.attr('role', 'button');\n",
       "        button.attr('aria-disabled', 'false');\n",
       "        button.click(method_name, toolbar_event);\n",
       "        button.mouseover(tooltip, toolbar_mouse_event);\n",
       "\n",
       "        var icon_img = $('<span/>');\n",
       "        icon_img.addClass('ui-button-icon-primary ui-icon');\n",
       "        icon_img.addClass(image);\n",
       "        icon_img.addClass('ui-corner-all');\n",
       "\n",
       "        var tooltip_span = $('<span/>');\n",
       "        tooltip_span.addClass('ui-button-text');\n",
       "        tooltip_span.html(tooltip);\n",
       "\n",
       "        button.append(icon_img);\n",
       "        button.append(tooltip_span);\n",
       "\n",
       "        nav_element.append(button);\n",
       "    }\n",
       "\n",
       "    var fmt_picker_span = $('<span/>');\n",
       "\n",
       "    var fmt_picker = $('<select/>');\n",
       "    fmt_picker.addClass('mpl-toolbar-option ui-widget ui-widget-content');\n",
       "    fmt_picker_span.append(fmt_picker);\n",
       "    nav_element.append(fmt_picker_span);\n",
       "    this.format_dropdown = fmt_picker[0];\n",
       "\n",
       "    for (var ind in mpl.extensions) {\n",
       "        var fmt = mpl.extensions[ind];\n",
       "        var option = $(\n",
       "            '<option/>', {selected: fmt === mpl.default_extension}).html(fmt);\n",
       "        fmt_picker.append(option)\n",
       "    }\n",
       "\n",
       "    // Add hover states to the ui-buttons\n",
       "    $( \".ui-button\" ).hover(\n",
       "        function() { $(this).addClass(\"ui-state-hover\");},\n",
       "        function() { $(this).removeClass(\"ui-state-hover\");}\n",
       "    );\n",
       "\n",
       "    var status_bar = $('<span class=\"mpl-message\"/>');\n",
       "    nav_element.append(status_bar);\n",
       "    this.message = status_bar[0];\n",
       "}\n",
       "\n",
       "mpl.figure.prototype.request_resize = function(x_pixels, y_pixels) {\n",
       "    // Request matplotlib to resize the figure. Matplotlib will then trigger a resize in the client,\n",
       "    // which will in turn request a refresh of the image.\n",
       "    this.send_message('resize', {'width': x_pixels, 'height': y_pixels});\n",
       "}\n",
       "\n",
       "mpl.figure.prototype.send_message = function(type, properties) {\n",
       "    properties['type'] = type;\n",
       "    properties['figure_id'] = this.id;\n",
       "    this.ws.send(JSON.stringify(properties));\n",
       "}\n",
       "\n",
       "mpl.figure.prototype.send_draw_message = function() {\n",
       "    if (!this.waiting) {\n",
       "        this.waiting = true;\n",
       "        this.ws.send(JSON.stringify({type: \"draw\", figure_id: this.id}));\n",
       "    }\n",
       "}\n",
       "\n",
       "\n",
       "mpl.figure.prototype.handle_save = function(fig, msg) {\n",
       "    var format_dropdown = fig.format_dropdown;\n",
       "    var format = format_dropdown.options[format_dropdown.selectedIndex].value;\n",
       "    fig.ondownload(fig, format);\n",
       "}\n",
       "\n",
       "\n",
       "mpl.figure.prototype.handle_resize = function(fig, msg) {\n",
       "    var size = msg['size'];\n",
       "    if (size[0] != fig.canvas.width || size[1] != fig.canvas.height) {\n",
       "        fig._resize_canvas(size[0], size[1]);\n",
       "        fig.send_message(\"refresh\", {});\n",
       "    };\n",
       "}\n",
       "\n",
       "mpl.figure.prototype.handle_rubberband = function(fig, msg) {\n",
       "    var x0 = msg['x0'] / mpl.ratio;\n",
       "    var y0 = (fig.canvas.height - msg['y0']) / mpl.ratio;\n",
       "    var x1 = msg['x1'] / mpl.ratio;\n",
       "    var y1 = (fig.canvas.height - msg['y1']) / mpl.ratio;\n",
       "    x0 = Math.floor(x0) + 0.5;\n",
       "    y0 = Math.floor(y0) + 0.5;\n",
       "    x1 = Math.floor(x1) + 0.5;\n",
       "    y1 = Math.floor(y1) + 0.5;\n",
       "    var min_x = Math.min(x0, x1);\n",
       "    var min_y = Math.min(y0, y1);\n",
       "    var width = Math.abs(x1 - x0);\n",
       "    var height = Math.abs(y1 - y0);\n",
       "\n",
       "    fig.rubberband_context.clearRect(\n",
       "        0, 0, fig.canvas.width, fig.canvas.height);\n",
       "\n",
       "    fig.rubberband_context.strokeRect(min_x, min_y, width, height);\n",
       "}\n",
       "\n",
       "mpl.figure.prototype.handle_figure_label = function(fig, msg) {\n",
       "    // Updates the figure title.\n",
       "    fig.header.textContent = msg['label'];\n",
       "}\n",
       "\n",
       "mpl.figure.prototype.handle_cursor = function(fig, msg) {\n",
       "    var cursor = msg['cursor'];\n",
       "    switch(cursor)\n",
       "    {\n",
       "    case 0:\n",
       "        cursor = 'pointer';\n",
       "        break;\n",
       "    case 1:\n",
       "        cursor = 'default';\n",
       "        break;\n",
       "    case 2:\n",
       "        cursor = 'crosshair';\n",
       "        break;\n",
       "    case 3:\n",
       "        cursor = 'move';\n",
       "        break;\n",
       "    }\n",
       "    fig.rubberband_canvas.style.cursor = cursor;\n",
       "}\n",
       "\n",
       "mpl.figure.prototype.handle_message = function(fig, msg) {\n",
       "    fig.message.textContent = msg['message'];\n",
       "}\n",
       "\n",
       "mpl.figure.prototype.handle_draw = function(fig, msg) {\n",
       "    // Request the server to send over a new figure.\n",
       "    fig.send_draw_message();\n",
       "}\n",
       "\n",
       "mpl.figure.prototype.handle_image_mode = function(fig, msg) {\n",
       "    fig.image_mode = msg['mode'];\n",
       "}\n",
       "\n",
       "mpl.figure.prototype.updated_canvas_event = function() {\n",
       "    // Called whenever the canvas gets updated.\n",
       "    this.send_message(\"ack\", {});\n",
       "}\n",
       "\n",
       "// A function to construct a web socket function for onmessage handling.\n",
       "// Called in the figure constructor.\n",
       "mpl.figure.prototype._make_on_message_function = function(fig) {\n",
       "    return function socket_on_message(evt) {\n",
       "        if (evt.data instanceof Blob) {\n",
       "            /* FIXME: We get \"Resource interpreted as Image but\n",
       "             * transferred with MIME type text/plain:\" errors on\n",
       "             * Chrome.  But how to set the MIME type?  It doesn't seem\n",
       "             * to be part of the websocket stream */\n",
       "            evt.data.type = \"image/png\";\n",
       "\n",
       "            /* Free the memory for the previous frames */\n",
       "            if (fig.imageObj.src) {\n",
       "                (window.URL || window.webkitURL).revokeObjectURL(\n",
       "                    fig.imageObj.src);\n",
       "            }\n",
       "\n",
       "            fig.imageObj.src = (window.URL || window.webkitURL).createObjectURL(\n",
       "                evt.data);\n",
       "            fig.updated_canvas_event();\n",
       "            fig.waiting = false;\n",
       "            return;\n",
       "        }\n",
       "        else if (typeof evt.data === 'string' && evt.data.slice(0, 21) == \"data:image/png;base64\") {\n",
       "            fig.imageObj.src = evt.data;\n",
       "            fig.updated_canvas_event();\n",
       "            fig.waiting = false;\n",
       "            return;\n",
       "        }\n",
       "\n",
       "        var msg = JSON.parse(evt.data);\n",
       "        var msg_type = msg['type'];\n",
       "\n",
       "        // Call the  \"handle_{type}\" callback, which takes\n",
       "        // the figure and JSON message as its only arguments.\n",
       "        try {\n",
       "            var callback = fig[\"handle_\" + msg_type];\n",
       "        } catch (e) {\n",
       "            console.log(\"No handler for the '\" + msg_type + \"' message type: \", msg);\n",
       "            return;\n",
       "        }\n",
       "\n",
       "        if (callback) {\n",
       "            try {\n",
       "                // console.log(\"Handling '\" + msg_type + \"' message: \", msg);\n",
       "                callback(fig, msg);\n",
       "            } catch (e) {\n",
       "                console.log(\"Exception inside the 'handler_\" + msg_type + \"' callback:\", e, e.stack, msg);\n",
       "            }\n",
       "        }\n",
       "    };\n",
       "}\n",
       "\n",
       "// from http://stackoverflow.com/questions/1114465/getting-mouse-location-in-canvas\n",
       "mpl.findpos = function(e) {\n",
       "    //this section is from http://www.quirksmode.org/js/events_properties.html\n",
       "    var targ;\n",
       "    if (!e)\n",
       "        e = window.event;\n",
       "    if (e.target)\n",
       "        targ = e.target;\n",
       "    else if (e.srcElement)\n",
       "        targ = e.srcElement;\n",
       "    if (targ.nodeType == 3) // defeat Safari bug\n",
       "        targ = targ.parentNode;\n",
       "\n",
       "    // jQuery normalizes the pageX and pageY\n",
       "    // pageX,Y are the mouse positions relative to the document\n",
       "    // offset() returns the position of the element relative to the document\n",
       "    var x = e.pageX - $(targ).offset().left;\n",
       "    var y = e.pageY - $(targ).offset().top;\n",
       "\n",
       "    return {\"x\": x, \"y\": y};\n",
       "};\n",
       "\n",
       "/*\n",
       " * return a copy of an object with only non-object keys\n",
       " * we need this to avoid circular references\n",
       " * http://stackoverflow.com/a/24161582/3208463\n",
       " */\n",
       "function simpleKeys (original) {\n",
       "  return Object.keys(original).reduce(function (obj, key) {\n",
       "    if (typeof original[key] !== 'object')\n",
       "        obj[key] = original[key]\n",
       "    return obj;\n",
       "  }, {});\n",
       "}\n",
       "\n",
       "mpl.figure.prototype.mouse_event = function(event, name) {\n",
       "    var canvas_pos = mpl.findpos(event)\n",
       "\n",
       "    if (name === 'button_press')\n",
       "    {\n",
       "        this.canvas.focus();\n",
       "        this.canvas_div.focus();\n",
       "    }\n",
       "\n",
       "    var x = canvas_pos.x * mpl.ratio;\n",
       "    var y = canvas_pos.y * mpl.ratio;\n",
       "\n",
       "    this.send_message(name, {x: x, y: y, button: event.button,\n",
       "                             step: event.step,\n",
       "                             guiEvent: simpleKeys(event)});\n",
       "\n",
       "    /* This prevents the web browser from automatically changing to\n",
       "     * the text insertion cursor when the button is pressed.  We want\n",
       "     * to control all of the cursor setting manually through the\n",
       "     * 'cursor' event from matplotlib */\n",
       "    event.preventDefault();\n",
       "    return false;\n",
       "}\n",
       "\n",
       "mpl.figure.prototype._key_event_extra = function(event, name) {\n",
       "    // Handle any extra behaviour associated with a key event\n",
       "}\n",
       "\n",
       "mpl.figure.prototype.key_event = function(event, name) {\n",
       "\n",
       "    // Prevent repeat events\n",
       "    if (name == 'key_press')\n",
       "    {\n",
       "        if (event.which === this._key)\n",
       "            return;\n",
       "        else\n",
       "            this._key = event.which;\n",
       "    }\n",
       "    if (name == 'key_release')\n",
       "        this._key = null;\n",
       "\n",
       "    var value = '';\n",
       "    if (event.ctrlKey && event.which != 17)\n",
       "        value += \"ctrl+\";\n",
       "    if (event.altKey && event.which != 18)\n",
       "        value += \"alt+\";\n",
       "    if (event.shiftKey && event.which != 16)\n",
       "        value += \"shift+\";\n",
       "\n",
       "    value += 'k';\n",
       "    value += event.which.toString();\n",
       "\n",
       "    this._key_event_extra(event, name);\n",
       "\n",
       "    this.send_message(name, {key: value,\n",
       "                             guiEvent: simpleKeys(event)});\n",
       "    return false;\n",
       "}\n",
       "\n",
       "mpl.figure.prototype.toolbar_button_onclick = function(name) {\n",
       "    if (name == 'download') {\n",
       "        this.handle_save(this, null);\n",
       "    } else {\n",
       "        this.send_message(\"toolbar_button\", {name: name});\n",
       "    }\n",
       "};\n",
       "\n",
       "mpl.figure.prototype.toolbar_button_onmouseover = function(tooltip) {\n",
       "    this.message.textContent = tooltip;\n",
       "};\n",
       "mpl.toolbar_items = [[\"Home\", \"Reset original view\", \"fa fa-home icon-home\", \"home\"], [\"Back\", \"Back to  previous view\", \"fa fa-arrow-left icon-arrow-left\", \"back\"], [\"Forward\", \"Forward to next view\", \"fa fa-arrow-right icon-arrow-right\", \"forward\"], [\"\", \"\", \"\", \"\"], [\"Pan\", \"Pan axes with left mouse, zoom with right\", \"fa fa-arrows icon-move\", \"pan\"], [\"Zoom\", \"Zoom to rectangle\", \"fa fa-square-o icon-check-empty\", \"zoom\"], [\"\", \"\", \"\", \"\"], [\"Download\", \"Download plot\", \"fa fa-floppy-o icon-save\", \"download\"]];\n",
       "\n",
       "mpl.extensions = [\"eps\", \"jpeg\", \"pdf\", \"png\", \"ps\", \"raw\", \"svg\", \"tif\"];\n",
       "\n",
       "mpl.default_extension = \"png\";var comm_websocket_adapter = function(comm) {\n",
       "    // Create a \"websocket\"-like object which calls the given IPython comm\n",
       "    // object with the appropriate methods. Currently this is a non binary\n",
       "    // socket, so there is still some room for performance tuning.\n",
       "    var ws = {};\n",
       "\n",
       "    ws.close = function() {\n",
       "        comm.close()\n",
       "    };\n",
       "    ws.send = function(m) {\n",
       "        //console.log('sending', m);\n",
       "        comm.send(m);\n",
       "    };\n",
       "    // Register the callback with on_msg.\n",
       "    comm.on_msg(function(msg) {\n",
       "        //console.log('receiving', msg['content']['data'], msg);\n",
       "        // Pass the mpl event to the overriden (by mpl) onmessage function.\n",
       "        ws.onmessage(msg['content']['data'])\n",
       "    });\n",
       "    return ws;\n",
       "}\n",
       "\n",
       "mpl.mpl_figure_comm = function(comm, msg) {\n",
       "    // This is the function which gets called when the mpl process\n",
       "    // starts-up an IPython Comm through the \"matplotlib\" channel.\n",
       "\n",
       "    var id = msg.content.data.id;\n",
       "    // Get hold of the div created by the display call when the Comm\n",
       "    // socket was opened in Python.\n",
       "    var element = $(\"#\" + id);\n",
       "    var ws_proxy = comm_websocket_adapter(comm)\n",
       "\n",
       "    function ondownload(figure, format) {\n",
       "        window.open(figure.imageObj.src);\n",
       "    }\n",
       "\n",
       "    var fig = new mpl.figure(id, ws_proxy,\n",
       "                           ondownload,\n",
       "                           element.get(0));\n",
       "\n",
       "    // Call onopen now - mpl needs it, as it is assuming we've passed it a real\n",
       "    // web socket which is closed, not our websocket->open comm proxy.\n",
       "    ws_proxy.onopen();\n",
       "\n",
       "    fig.parent_element = element.get(0);\n",
       "    fig.cell_info = mpl.find_output_cell(\"<div id='\" + id + \"'></div>\");\n",
       "    if (!fig.cell_info) {\n",
       "        console.error(\"Failed to find cell for figure\", id, fig);\n",
       "        return;\n",
       "    }\n",
       "\n",
       "    var output_index = fig.cell_info[2]\n",
       "    var cell = fig.cell_info[0];\n",
       "\n",
       "};\n",
       "\n",
       "mpl.figure.prototype.handle_close = function(fig, msg) {\n",
       "    var width = fig.canvas.width/mpl.ratio\n",
       "    fig.root.unbind('remove')\n",
       "\n",
       "    // Update the output cell to use the data from the current canvas.\n",
       "    fig.push_to_output();\n",
       "    var dataURL = fig.canvas.toDataURL();\n",
       "    // Re-enable the keyboard manager in IPython - without this line, in FF,\n",
       "    // the notebook keyboard shortcuts fail.\n",
       "    IPython.keyboard_manager.enable()\n",
       "    $(fig.parent_element).html('<img src=\"' + dataURL + '\" width=\"' + width + '\">');\n",
       "    fig.close_ws(fig, msg);\n",
       "}\n",
       "\n",
       "mpl.figure.prototype.close_ws = function(fig, msg){\n",
       "    fig.send_message('closing', msg);\n",
       "    // fig.ws.close()\n",
       "}\n",
       "\n",
       "mpl.figure.prototype.push_to_output = function(remove_interactive) {\n",
       "    // Turn the data on the canvas into data in the output cell.\n",
       "    var width = this.canvas.width/mpl.ratio\n",
       "    var dataURL = this.canvas.toDataURL();\n",
       "    this.cell_info[1]['text/html'] = '<img src=\"' + dataURL + '\" width=\"' + width + '\">';\n",
       "}\n",
       "\n",
       "mpl.figure.prototype.updated_canvas_event = function() {\n",
       "    // Tell IPython that the notebook contents must change.\n",
       "    IPython.notebook.set_dirty(true);\n",
       "    this.send_message(\"ack\", {});\n",
       "    var fig = this;\n",
       "    // Wait a second, then push the new image to the DOM so\n",
       "    // that it is saved nicely (might be nice to debounce this).\n",
       "    setTimeout(function () { fig.push_to_output() }, 1000);\n",
       "}\n",
       "\n",
       "mpl.figure.prototype._init_toolbar = function() {\n",
       "    var fig = this;\n",
       "\n",
       "    var nav_element = $('<div/>')\n",
       "    nav_element.attr('style', 'width: 100%');\n",
       "    this.root.append(nav_element);\n",
       "\n",
       "    // Define a callback function for later on.\n",
       "    function toolbar_event(event) {\n",
       "        return fig.toolbar_button_onclick(event['data']);\n",
       "    }\n",
       "    function toolbar_mouse_event(event) {\n",
       "        return fig.toolbar_button_onmouseover(event['data']);\n",
       "    }\n",
       "\n",
       "    for(var toolbar_ind in mpl.toolbar_items){\n",
       "        var name = mpl.toolbar_items[toolbar_ind][0];\n",
       "        var tooltip = mpl.toolbar_items[toolbar_ind][1];\n",
       "        var image = mpl.toolbar_items[toolbar_ind][2];\n",
       "        var method_name = mpl.toolbar_items[toolbar_ind][3];\n",
       "\n",
       "        if (!name) { continue; };\n",
       "\n",
       "        var button = $('<button class=\"btn btn-default\" href=\"#\" title=\"' + name + '\"><i class=\"fa ' + image + ' fa-lg\"></i></button>');\n",
       "        button.click(method_name, toolbar_event);\n",
       "        button.mouseover(tooltip, toolbar_mouse_event);\n",
       "        nav_element.append(button);\n",
       "    }\n",
       "\n",
       "    // Add the status bar.\n",
       "    var status_bar = $('<span class=\"mpl-message\" style=\"text-align:right; float: right;\"/>');\n",
       "    nav_element.append(status_bar);\n",
       "    this.message = status_bar[0];\n",
       "\n",
       "    // Add the close button to the window.\n",
       "    var buttongrp = $('<div class=\"btn-group inline pull-right\"></div>');\n",
       "    var button = $('<button class=\"btn btn-mini btn-primary\" href=\"#\" title=\"Stop Interaction\"><i class=\"fa fa-power-off icon-remove icon-large\"></i></button>');\n",
       "    button.click(function (evt) { fig.handle_close(fig, {}); } );\n",
       "    button.mouseover('Stop Interaction', toolbar_mouse_event);\n",
       "    buttongrp.append(button);\n",
       "    var titlebar = this.root.find($('.ui-dialog-titlebar'));\n",
       "    titlebar.prepend(buttongrp);\n",
       "}\n",
       "\n",
       "mpl.figure.prototype._root_extra_style = function(el){\n",
       "    var fig = this\n",
       "    el.on(\"remove\", function(){\n",
       "\tfig.close_ws(fig, {});\n",
       "    });\n",
       "}\n",
       "\n",
       "mpl.figure.prototype._canvas_extra_style = function(el){\n",
       "    // this is important to make the div 'focusable\n",
       "    el.attr('tabindex', 0)\n",
       "    // reach out to IPython and tell the keyboard manager to turn it's self\n",
       "    // off when our div gets focus\n",
       "\n",
       "    // location in version 3\n",
       "    if (IPython.notebook.keyboard_manager) {\n",
       "        IPython.notebook.keyboard_manager.register_events(el);\n",
       "    }\n",
       "    else {\n",
       "        // location in version 2\n",
       "        IPython.keyboard_manager.register_events(el);\n",
       "    }\n",
       "\n",
       "}\n",
       "\n",
       "mpl.figure.prototype._key_event_extra = function(event, name) {\n",
       "    var manager = IPython.notebook.keyboard_manager;\n",
       "    if (!manager)\n",
       "        manager = IPython.keyboard_manager;\n",
       "\n",
       "    // Check for shift+enter\n",
       "    if (event.shiftKey && event.which == 13) {\n",
       "        this.canvas_div.blur();\n",
       "        // select the cell after this one\n",
       "        var index = IPython.notebook.find_cell_index(this.cell_info[0]);\n",
       "        IPython.notebook.select(index + 1);\n",
       "    }\n",
       "}\n",
       "\n",
       "mpl.figure.prototype.handle_save = function(fig, msg) {\n",
       "    fig.ondownload(fig, null);\n",
       "}\n",
       "\n",
       "\n",
       "mpl.find_output_cell = function(html_output) {\n",
       "    // Return the cell and output element which can be found *uniquely* in the notebook.\n",
       "    // Note - this is a bit hacky, but it is done because the \"notebook_saving.Notebook\"\n",
       "    // IPython event is triggered only after the cells have been serialised, which for\n",
       "    // our purposes (turning an active figure into a static one), is too late.\n",
       "    var cells = IPython.notebook.get_cells();\n",
       "    var ncells = cells.length;\n",
       "    for (var i=0; i<ncells; i++) {\n",
       "        var cell = cells[i];\n",
       "        if (cell.cell_type === 'code'){\n",
       "            for (var j=0; j<cell.output_area.outputs.length; j++) {\n",
       "                var data = cell.output_area.outputs[j];\n",
       "                if (data.data) {\n",
       "                    // IPython >= 3 moved mimebundle to data attribute of output\n",
       "                    data = data.data;\n",
       "                }\n",
       "                if (data['text/html'] == html_output) {\n",
       "                    return [cell, data, j];\n",
       "                }\n",
       "            }\n",
       "        }\n",
       "    }\n",
       "}\n",
       "\n",
       "// Register the function which deals with the matplotlib target/channel.\n",
       "// The kernel may be null if the page has been refreshed.\n",
       "if (IPython.notebook.kernel != null) {\n",
       "    IPython.notebook.kernel.comm_manager.register_target('matplotlib', mpl.mpl_figure_comm);\n",
       "}\n"
      ],
      "text/plain": [
       "<IPython.core.display.Javascript object>"
      ]
     },
     "metadata": {},
     "output_type": "display_data"
    },
    {
     "data": {
      "text/html": [
       "<img src=\"data:image/png;base64,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\" width=\"640\">"
      ],
      "text/plain": [
       "<IPython.core.display.HTML object>"
      ]
     },
     "metadata": {},
     "output_type": "display_data"
    }
   ],
   "source": [
    "fig=plt.figure()\n",
    "ax=fig.gca()\n",
    "\n",
    "hp,xp=medHistogram(np.log10(adata[\"DZpcon\"].values),bins=100,density=True)\n",
    "hs,xs=medHistogram(np.log10(adata[\"DZsim\"].values),bins=100,density=True)\n",
    "\n",
    "ax.step(xp,hp,color='b',label=\"PCON\")\n",
    "ax.step(xs,hs,color='r',label=\"SIM\")\n",
    "\n",
    "ax.set_xlabel(r\"$D_Z$\")\n",
    "\n",
    "xmin,xmax=ax.get_xlim()\n",
    "ymin,ymax=ax.get_ylim()\n",
    "\n",
    "ax.set_xlim((-3,0))\n",
    "ax.set_ylim((0,ymax))\n",
    "\n",
    "xts=ax.get_xticks()\n",
    "xtl=[]\n",
    "for xt in xts:\n",
    "    xtl+=[f\"{10**xt:.1g}\"]\n",
    "ax.set_xticklabels(xtl)\n",
    "ax.set_yticks([])\n",
    "\n",
    "ax.legend(loc='upper left')\n",
    "\n",
    "fig.savefig(f\"{FIGDIR}/fig-compare_NUM_SIM_PCON.png\")"
   ]
  },
  {
   "cell_type": "code",
   "execution_count": 82,
   "metadata": {},
   "outputs": [
    {
     "data": {
      "text/html": [
       "<div>\n",
       "<style scoped>\n",
       "    .dataframe tbody tr th:only-of-type {\n",
       "        vertical-align: middle;\n",
       "    }\n",
       "\n",
       "    .dataframe tbody tr th {\n",
       "        vertical-align: top;\n",
       "    }\n",
       "\n",
       "    .dataframe thead th {\n",
       "        text-align: right;\n",
       "    }\n",
       "</style>\n",
       "<table border=\"1\" class=\"dataframe\">\n",
       "  <thead>\n",
       "    <tr style=\"text-align: right;\">\n",
       "      <th></th>\n",
       "      <th>DZpcon</th>\n",
       "      <th>q</th>\n",
       "      <th>q_pcon</th>\n",
       "      <th>e</th>\n",
       "      <th>e_pcon</th>\n",
       "      <th>i</th>\n",
       "      <th>i_pcon</th>\n",
       "      <th>Omega</th>\n",
       "      <th>W_pcon</th>\n",
       "      <th>omega</th>\n",
       "      <th>w_pcon</th>\n",
       "    </tr>\n",
       "  </thead>\n",
       "  <tbody>\n",
       "    <tr>\n",
       "      <th>4093</th>\n",
       "      <td>1.586169</td>\n",
       "      <td>0.020495</td>\n",
       "      <td>0.022495</td>\n",
       "      <td>0.745823</td>\n",
       "      <td>0.957765</td>\n",
       "      <td>71.708171</td>\n",
       "      <td>66.017167</td>\n",
       "      <td>98.909082</td>\n",
       "      <td>78.660697</td>\n",
       "      <td>345.437834</td>\n",
       "      <td>357.457713</td>\n",
       "    </tr>\n",
       "    <tr>\n",
       "      <th>1474</th>\n",
       "      <td>1.570505</td>\n",
       "      <td>0.029980</td>\n",
       "      <td>0.036841</td>\n",
       "      <td>0.668394</td>\n",
       "      <td>0.930426</td>\n",
       "      <td>58.703667</td>\n",
       "      <td>59.169570</td>\n",
       "      <td>131.458720</td>\n",
       "      <td>141.445578</td>\n",
       "      <td>193.248382</td>\n",
       "      <td>176.032390</td>\n",
       "    </tr>\n",
       "    <tr>\n",
       "      <th>4096</th>\n",
       "      <td>1.520115</td>\n",
       "      <td>0.021420</td>\n",
       "      <td>0.023199</td>\n",
       "      <td>0.758908</td>\n",
       "      <td>0.956402</td>\n",
       "      <td>19.803366</td>\n",
       "      <td>17.684755</td>\n",
       "      <td>113.183395</td>\n",
       "      <td>95.808664</td>\n",
       "      <td>320.316126</td>\n",
       "      <td>357.473636</td>\n",
       "    </tr>\n",
       "    <tr>\n",
       "      <th>1726</th>\n",
       "      <td>1.337384</td>\n",
       "      <td>0.037475</td>\n",
       "      <td>0.040510</td>\n",
       "      <td>0.697630</td>\n",
       "      <td>0.923173</td>\n",
       "      <td>27.576285</td>\n",
       "      <td>26.060204</td>\n",
       "      <td>95.937518</td>\n",
       "      <td>106.920616</td>\n",
       "      <td>191.303908</td>\n",
       "      <td>175.842912</td>\n",
       "    </tr>\n",
       "    <tr>\n",
       "      <th>4094</th>\n",
       "      <td>1.306058</td>\n",
       "      <td>0.021055</td>\n",
       "      <td>0.021787</td>\n",
       "      <td>1.166800</td>\n",
       "      <td>0.959024</td>\n",
       "      <td>12.014117</td>\n",
       "      <td>11.811102</td>\n",
       "      <td>117.351642</td>\n",
       "      <td>99.631428</td>\n",
       "      <td>326.209887</td>\n",
       "      <td>357.485105</td>\n",
       "    </tr>\n",
       "    <tr>\n",
       "      <th>1472</th>\n",
       "      <td>1.222047</td>\n",
       "      <td>0.027963</td>\n",
       "      <td>0.035526</td>\n",
       "      <td>0.788113</td>\n",
       "      <td>0.932886</td>\n",
       "      <td>56.929579</td>\n",
       "      <td>58.741489</td>\n",
       "      <td>132.926900</td>\n",
       "      <td>142.453954</td>\n",
       "      <td>196.125174</td>\n",
       "      <td>176.068554</td>\n",
       "    </tr>\n",
       "    <tr>\n",
       "      <th>3994</th>\n",
       "      <td>1.074713</td>\n",
       "      <td>0.034989</td>\n",
       "      <td>0.034274</td>\n",
       "      <td>1.185732</td>\n",
       "      <td>0.940129</td>\n",
       "      <td>8.952256</td>\n",
       "      <td>9.551818</td>\n",
       "      <td>291.034417</td>\n",
       "      <td>276.648878</td>\n",
       "      <td>169.180941</td>\n",
       "      <td>186.177707</td>\n",
       "    </tr>\n",
       "    <tr>\n",
       "      <th>3992</th>\n",
       "      <td>1.048784</td>\n",
       "      <td>0.037601</td>\n",
       "      <td>0.035984</td>\n",
       "      <td>1.189980</td>\n",
       "      <td>0.937064</td>\n",
       "      <td>14.529080</td>\n",
       "      <td>15.453302</td>\n",
       "      <td>295.028854</td>\n",
       "      <td>282.387205</td>\n",
       "      <td>172.579145</td>\n",
       "      <td>186.223245</td>\n",
       "    </tr>\n",
       "    <tr>\n",
       "      <th>3279</th>\n",
       "      <td>1.030984</td>\n",
       "      <td>0.030258</td>\n",
       "      <td>0.020439</td>\n",
       "      <td>1.162073</td>\n",
       "      <td>0.964330</td>\n",
       "      <td>16.354519</td>\n",
       "      <td>18.397306</td>\n",
       "      <td>239.756329</td>\n",
       "      <td>248.778497</td>\n",
       "      <td>1.455958</td>\n",
       "      <td>5.986427</td>\n",
       "    </tr>\n",
       "    <tr>\n",
       "      <th>3992</th>\n",
       "      <td>1.024388</td>\n",
       "      <td>0.036690</td>\n",
       "      <td>0.035647</td>\n",
       "      <td>1.181915</td>\n",
       "      <td>0.937663</td>\n",
       "      <td>13.792276</td>\n",
       "      <td>14.521588</td>\n",
       "      <td>294.748980</td>\n",
       "      <td>281.432531</td>\n",
       "      <td>170.059420</td>\n",
       "      <td>186.208925</td>\n",
       "    </tr>\n",
       "    <tr>\n",
       "      <th>3995</th>\n",
       "      <td>1.012937</td>\n",
       "      <td>0.034843</td>\n",
       "      <td>0.034502</td>\n",
       "      <td>1.173159</td>\n",
       "      <td>0.939716</td>\n",
       "      <td>10.071044</td>\n",
       "      <td>10.585851</td>\n",
       "      <td>292.193235</td>\n",
       "      <td>277.607671</td>\n",
       "      <td>167.230008</td>\n",
       "      <td>186.177624</td>\n",
       "    </tr>\n",
       "    <tr>\n",
       "      <th>3995</th>\n",
       "      <td>0.964249</td>\n",
       "      <td>0.035416</td>\n",
       "      <td>0.035032</td>\n",
       "      <td>1.166226</td>\n",
       "      <td>0.938762</td>\n",
       "      <td>12.085684</td>\n",
       "      <td>12.594570</td>\n",
       "      <td>293.738954</td>\n",
       "      <td>279.521630</td>\n",
       "      <td>167.070373</td>\n",
       "      <td>186.187747</td>\n",
       "    </tr>\n",
       "    <tr>\n",
       "      <th>4096</th>\n",
       "      <td>0.920152</td>\n",
       "      <td>0.046693</td>\n",
       "      <td>0.054548</td>\n",
       "      <td>0.759821</td>\n",
       "      <td>0.897198</td>\n",
       "      <td>10.041819</td>\n",
       "      <td>9.229165</td>\n",
       "      <td>287.664473</td>\n",
       "      <td>295.181803</td>\n",
       "      <td>355.526126</td>\n",
       "      <td>355.743897</td>\n",
       "    </tr>\n",
       "    <tr>\n",
       "      <th>2107</th>\n",
       "      <td>0.889016</td>\n",
       "      <td>0.066035</td>\n",
       "      <td>0.076138</td>\n",
       "      <td>0.690169</td>\n",
       "      <td>0.859653</td>\n",
       "      <td>0.781925</td>\n",
       "      <td>0.807500</td>\n",
       "      <td>359.648855</td>\n",
       "      <td>12.816056</td>\n",
       "      <td>17.061562</td>\n",
       "      <td>357.847793</td>\n",
       "    </tr>\n",
       "    <tr>\n",
       "      <th>5115</th>\n",
       "      <td>0.822036</td>\n",
       "      <td>0.058264</td>\n",
       "      <td>0.049478</td>\n",
       "      <td>1.199967</td>\n",
       "      <td>0.906472</td>\n",
       "      <td>46.098210</td>\n",
       "      <td>46.309257</td>\n",
       "      <td>191.039477</td>\n",
       "      <td>190.389604</td>\n",
       "      <td>357.819484</td>\n",
       "      <td>356.877852</td>\n",
       "    </tr>\n",
       "    <tr>\n",
       "      <th>3988</th>\n",
       "      <td>0.800801</td>\n",
       "      <td>0.041349</td>\n",
       "      <td>0.037111</td>\n",
       "      <td>1.156348</td>\n",
       "      <td>0.935072</td>\n",
       "      <td>16.485527</td>\n",
       "      <td>18.113034</td>\n",
       "      <td>294.917362</td>\n",
       "      <td>285.249094</td>\n",
       "      <td>181.880554</td>\n",
       "      <td>186.280984</td>\n",
       "    </tr>\n",
       "    <tr>\n",
       "      <th>3335</th>\n",
       "      <td>0.785348</td>\n",
       "      <td>0.050632</td>\n",
       "      <td>0.061501</td>\n",
       "      <td>0.774645</td>\n",
       "      <td>0.885524</td>\n",
       "      <td>1.592146</td>\n",
       "      <td>1.501870</td>\n",
       "      <td>186.083250</td>\n",
       "      <td>178.953107</td>\n",
       "      <td>180.715650</td>\n",
       "      <td>177.451839</td>\n",
       "    </tr>\n",
       "    <tr>\n",
       "      <th>1726</th>\n",
       "      <td>0.750846</td>\n",
       "      <td>0.036834</td>\n",
       "      <td>0.043971</td>\n",
       "      <td>0.838353</td>\n",
       "      <td>0.916727</td>\n",
       "      <td>32.612686</td>\n",
       "      <td>29.737103</td>\n",
       "      <td>96.774424</td>\n",
       "      <td>102.842640</td>\n",
       "      <td>173.525586</td>\n",
       "      <td>175.753215</td>\n",
       "    </tr>\n",
       "    <tr>\n",
       "      <th>2723</th>\n",
       "      <td>0.706847</td>\n",
       "      <td>0.061147</td>\n",
       "      <td>0.070646</td>\n",
       "      <td>0.757084</td>\n",
       "      <td>0.870257</td>\n",
       "      <td>24.508283</td>\n",
       "      <td>23.538529</td>\n",
       "      <td>61.652670</td>\n",
       "      <td>57.680283</td>\n",
       "      <td>2.618441</td>\n",
       "      <td>359.545821</td>\n",
       "    </tr>\n",
       "    <tr>\n",
       "      <th>651</th>\n",
       "      <td>0.701963</td>\n",
       "      <td>0.083229</td>\n",
       "      <td>0.090787</td>\n",
       "      <td>0.683519</td>\n",
       "      <td>0.832387</td>\n",
       "      <td>18.559173</td>\n",
       "      <td>18.342543</td>\n",
       "      <td>319.306478</td>\n",
       "      <td>323.500175</td>\n",
       "      <td>1.862130</td>\n",
       "      <td>358.474044</td>\n",
       "    </tr>\n",
       "    <tr>\n",
       "      <th>2781</th>\n",
       "      <td>0.692731</td>\n",
       "      <td>0.074881</td>\n",
       "      <td>0.083270</td>\n",
       "      <td>0.713161</td>\n",
       "      <td>0.848269</td>\n",
       "      <td>39.530543</td>\n",
       "      <td>39.691897</td>\n",
       "      <td>221.043501</td>\n",
       "      <td>217.460104</td>\n",
       "      <td>172.753176</td>\n",
       "      <td>180.579818</td>\n",
       "    </tr>\n",
       "    <tr>\n",
       "      <th>2779</th>\n",
       "      <td>0.692168</td>\n",
       "      <td>0.088842</td>\n",
       "      <td>0.098183</td>\n",
       "      <td>0.669357</td>\n",
       "      <td>0.822611</td>\n",
       "      <td>19.459011</td>\n",
       "      <td>19.507273</td>\n",
       "      <td>181.437098</td>\n",
       "      <td>181.344218</td>\n",
       "      <td>183.407222</td>\n",
       "      <td>182.874406</td>\n",
       "    </tr>\n",
       "    <tr>\n",
       "      <th>3340</th>\n",
       "      <td>0.682328</td>\n",
       "      <td>0.077863</td>\n",
       "      <td>0.086786</td>\n",
       "      <td>0.703314</td>\n",
       "      <td>0.839400</td>\n",
       "      <td>12.691558</td>\n",
       "      <td>12.494968</td>\n",
       "      <td>139.444498</td>\n",
       "      <td>142.410546</td>\n",
       "      <td>176.107057</td>\n",
       "      <td>177.964494</td>\n",
       "    </tr>\n",
       "    <tr>\n",
       "      <th>671</th>\n",
       "      <td>0.661194</td>\n",
       "      <td>0.077180</td>\n",
       "      <td>0.087802</td>\n",
       "      <td>0.716747</td>\n",
       "      <td>0.843614</td>\n",
       "      <td>24.876839</td>\n",
       "      <td>24.780473</td>\n",
       "      <td>196.422031</td>\n",
       "      <td>195.098157</td>\n",
       "      <td>190.529669</td>\n",
       "      <td>185.783012</td>\n",
       "    </tr>\n",
       "    <tr>\n",
       "      <th>5002</th>\n",
       "      <td>0.658526</td>\n",
       "      <td>0.071874</td>\n",
       "      <td>0.079736</td>\n",
       "      <td>0.733721</td>\n",
       "      <td>0.856077</td>\n",
       "      <td>11.931104</td>\n",
       "      <td>11.522666</td>\n",
       "      <td>251.517305</td>\n",
       "      <td>246.206300</td>\n",
       "      <td>181.964554</td>\n",
       "      <td>183.174169</td>\n",
       "    </tr>\n",
       "    <tr>\n",
       "      <th>5657</th>\n",
       "      <td>0.657153</td>\n",
       "      <td>0.060684</td>\n",
       "      <td>0.062787</td>\n",
       "      <td>0.770562</td>\n",
       "      <td>0.883989</td>\n",
       "      <td>22.343326</td>\n",
       "      <td>21.122595</td>\n",
       "      <td>110.595538</td>\n",
       "      <td>105.319028</td>\n",
       "      <td>355.410030</td>\n",
       "      <td>359.234612</td>\n",
       "    </tr>\n",
       "    <tr>\n",
       "      <th>3347</th>\n",
       "      <td>0.655866</td>\n",
       "      <td>0.079617</td>\n",
       "      <td>0.088281</td>\n",
       "      <td>0.704903</td>\n",
       "      <td>0.836672</td>\n",
       "      <td>13.996863</td>\n",
       "      <td>13.755558</td>\n",
       "      <td>136.232881</td>\n",
       "      <td>139.388684</td>\n",
       "      <td>176.573012</td>\n",
       "      <td>178.060565</td>\n",
       "    </tr>\n",
       "    <tr>\n",
       "      <th>3341</th>\n",
       "      <td>0.641238</td>\n",
       "      <td>0.080161</td>\n",
       "      <td>0.088818</td>\n",
       "      <td>0.707108</td>\n",
       "      <td>0.835700</td>\n",
       "      <td>14.442671</td>\n",
       "      <td>14.181222</td>\n",
       "      <td>135.186631</td>\n",
       "      <td>138.380249</td>\n",
       "      <td>176.557987</td>\n",
       "      <td>178.093743</td>\n",
       "    </tr>\n",
       "    <tr>\n",
       "      <th>3999</th>\n",
       "      <td>0.638794</td>\n",
       "      <td>0.091425</td>\n",
       "      <td>0.100501</td>\n",
       "      <td>0.677889</td>\n",
       "      <td>0.819296</td>\n",
       "      <td>5.078813</td>\n",
       "      <td>5.091184</td>\n",
       "      <td>170.697142</td>\n",
       "      <td>170.333933</td>\n",
       "      <td>186.646257</td>\n",
       "      <td>184.384670</td>\n",
       "    </tr>\n",
       "    <tr>\n",
       "      <th>2106</th>\n",
       "      <td>0.637875</td>\n",
       "      <td>0.090269</td>\n",
       "      <td>0.097977</td>\n",
       "      <td>0.678482</td>\n",
       "      <td>0.820130</td>\n",
       "      <td>5.146718</td>\n",
       "      <td>5.133694</td>\n",
       "      <td>143.708125</td>\n",
       "      <td>145.384453</td>\n",
       "      <td>180.919776</td>\n",
       "      <td>179.819123</td>\n",
       "    </tr>\n",
       "    <tr>\n",
       "      <th>3261</th>\n",
       "      <td>0.637631</td>\n",
       "      <td>0.075574</td>\n",
       "      <td>0.082750</td>\n",
       "      <td>0.727589</td>\n",
       "      <td>0.850738</td>\n",
       "      <td>55.007887</td>\n",
       "      <td>54.067699</td>\n",
       "      <td>60.141476</td>\n",
       "      <td>55.754392</td>\n",
       "      <td>2.610690</td>\n",
       "      <td>3.025353</td>\n",
       "    </tr>\n",
       "    <tr>\n",
       "      <th>4000</th>\n",
       "      <td>0.631592</td>\n",
       "      <td>0.091943</td>\n",
       "      <td>0.100910</td>\n",
       "      <td>0.678492</td>\n",
       "      <td>0.818590</td>\n",
       "      <td>5.039281</td>\n",
       "      <td>5.052589</td>\n",
       "      <td>168.544935</td>\n",
       "      <td>168.345279</td>\n",
       "      <td>186.938394</td>\n",
       "      <td>184.470055</td>\n",
       "    </tr>\n",
       "    <tr>\n",
       "      <th>4003</th>\n",
       "      <td>0.627869</td>\n",
       "      <td>0.092200</td>\n",
       "      <td>0.101108</td>\n",
       "      <td>0.678839</td>\n",
       "      <td>0.818247</td>\n",
       "      <td>5.032174</td>\n",
       "      <td>5.045866</td>\n",
       "      <td>167.465534</td>\n",
       "      <td>167.350533</td>\n",
       "      <td>187.090290</td>\n",
       "      <td>184.512403</td>\n",
       "    </tr>\n",
       "    <tr>\n",
       "      <th>38</th>\n",
       "      <td>0.624417</td>\n",
       "      <td>0.061782</td>\n",
       "      <td>0.069210</td>\n",
       "      <td>0.772799</td>\n",
       "      <td>0.872730</td>\n",
       "      <td>73.740156</td>\n",
       "      <td>71.839759</td>\n",
       "      <td>239.816633</td>\n",
       "      <td>234.784526</td>\n",
       "      <td>182.852270</td>\n",
       "      <td>179.173916</td>\n",
       "    </tr>\n",
       "    <tr>\n",
       "      <th>2108</th>\n",
       "      <td>0.624056</td>\n",
       "      <td>0.091122</td>\n",
       "      <td>0.098494</td>\n",
       "      <td>0.679986</td>\n",
       "      <td>0.819166</td>\n",
       "      <td>5.805027</td>\n",
       "      <td>5.788747</td>\n",
       "      <td>141.374337</td>\n",
       "      <td>143.381137</td>\n",
       "      <td>182.190252</td>\n",
       "      <td>179.874142</td>\n",
       "    </tr>\n",
       "    <tr>\n",
       "      <th>995</th>\n",
       "      <td>0.622457</td>\n",
       "      <td>0.070873</td>\n",
       "      <td>0.081474</td>\n",
       "      <td>0.748941</td>\n",
       "      <td>0.856751</td>\n",
       "      <td>63.483837</td>\n",
       "      <td>63.292767</td>\n",
       "      <td>172.428898</td>\n",
       "      <td>173.453606</td>\n",
       "      <td>180.435021</td>\n",
       "      <td>187.833603</td>\n",
       "    </tr>\n",
       "    <tr>\n",
       "      <th>673</th>\n",
       "      <td>0.615893</td>\n",
       "      <td>0.080199</td>\n",
       "      <td>0.089769</td>\n",
       "      <td>0.719956</td>\n",
       "      <td>0.840267</td>\n",
       "      <td>25.891058</td>\n",
       "      <td>26.120586</td>\n",
       "      <td>200.700821</td>\n",
       "      <td>199.008943</td>\n",
       "      <td>177.809334</td>\n",
       "      <td>185.624588</td>\n",
       "    </tr>\n",
       "    <tr>\n",
       "      <th>4096</th>\n",
       "      <td>0.614968</td>\n",
       "      <td>0.070832</td>\n",
       "      <td>0.062297</td>\n",
       "      <td>1.031572</td>\n",
       "      <td>0.882016</td>\n",
       "      <td>23.521896</td>\n",
       "      <td>24.437902</td>\n",
       "      <td>68.858915</td>\n",
       "      <td>72.812159</td>\n",
       "      <td>175.395119</td>\n",
       "      <td>176.447950</td>\n",
       "    </tr>\n",
       "    <tr>\n",
       "      <th>1748</th>\n",
       "      <td>0.612395</td>\n",
       "      <td>0.030610</td>\n",
       "      <td>0.033227</td>\n",
       "      <td>0.890228</td>\n",
       "      <td>0.941772</td>\n",
       "      <td>60.766730</td>\n",
       "      <td>54.652961</td>\n",
       "      <td>112.988942</td>\n",
       "      <td>106.242069</td>\n",
       "      <td>5.534933</td>\n",
       "      <td>5.953170</td>\n",
       "    </tr>\n",
       "    <tr>\n",
       "      <th>5668</th>\n",
       "      <td>0.609781</td>\n",
       "      <td>0.065775</td>\n",
       "      <td>0.062014</td>\n",
       "      <td>1.021923</td>\n",
       "      <td>0.882684</td>\n",
       "      <td>26.055538</td>\n",
       "      <td>26.649192</td>\n",
       "      <td>266.479676</td>\n",
       "      <td>273.296615</td>\n",
       "      <td>4.720498</td>\n",
       "      <td>356.170869</td>\n",
       "    </tr>\n",
       "    <tr>\n",
       "      <th>3985</th>\n",
       "      <td>0.605321</td>\n",
       "      <td>0.101616</td>\n",
       "      <td>0.091630</td>\n",
       "      <td>0.963257</td>\n",
       "      <td>0.830388</td>\n",
       "      <td>30.716135</td>\n",
       "      <td>30.960900</td>\n",
       "      <td>208.274667</td>\n",
       "      <td>209.319842</td>\n",
       "      <td>358.791334</td>\n",
       "      <td>0.858839</td>\n",
       "    </tr>\n",
       "    <tr>\n",
       "      <th>649</th>\n",
       "      <td>0.605167</td>\n",
       "      <td>0.082951</td>\n",
       "      <td>0.090113</td>\n",
       "      <td>0.710947</td>\n",
       "      <td>0.833481</td>\n",
       "      <td>17.937679</td>\n",
       "      <td>17.967908</td>\n",
       "      <td>318.052864</td>\n",
       "      <td>322.492887</td>\n",
       "      <td>7.343574</td>\n",
       "      <td>358.488691</td>\n",
       "    </tr>\n",
       "    <tr>\n",
       "      <th>3981</th>\n",
       "      <td>0.604858</td>\n",
       "      <td>0.100665</td>\n",
       "      <td>0.091987</td>\n",
       "      <td>0.966253</td>\n",
       "      <td>0.829091</td>\n",
       "      <td>41.050446</td>\n",
       "      <td>41.162350</td>\n",
       "      <td>221.321544</td>\n",
       "      <td>223.396382</td>\n",
       "      <td>2.808933</td>\n",
       "      <td>359.830514</td>\n",
       "    </tr>\n",
       "    <tr>\n",
       "      <th>54</th>\n",
       "      <td>0.604273</td>\n",
       "      <td>0.094991</td>\n",
       "      <td>0.086296</td>\n",
       "      <td>0.965468</td>\n",
       "      <td>0.838873</td>\n",
       "      <td>7.490672</td>\n",
       "      <td>7.509422</td>\n",
       "      <td>45.130713</td>\n",
       "      <td>46.345587</td>\n",
       "      <td>183.747424</td>\n",
       "      <td>178.816200</td>\n",
       "    </tr>\n",
       "    <tr>\n",
       "      <th>3262</th>\n",
       "      <td>0.603948</td>\n",
       "      <td>0.104997</td>\n",
       "      <td>0.095607</td>\n",
       "      <td>0.962887</td>\n",
       "      <td>0.823428</td>\n",
       "      <td>8.396807</td>\n",
       "      <td>8.436512</td>\n",
       "      <td>36.711239</td>\n",
       "      <td>37.285546</td>\n",
       "      <td>182.194383</td>\n",
       "      <td>181.421799</td>\n",
       "    </tr>\n",
       "    <tr>\n",
       "      <th>2777</th>\n",
       "      <td>0.603787</td>\n",
       "      <td>0.088272</td>\n",
       "      <td>0.098285</td>\n",
       "      <td>0.695787</td>\n",
       "      <td>0.822388</td>\n",
       "      <td>19.194495</td>\n",
       "      <td>19.242698</td>\n",
       "      <td>178.203518</td>\n",
       "      <td>178.382837</td>\n",
       "      <td>187.945169</td>\n",
       "      <td>183.035377</td>\n",
       "    </tr>\n",
       "    <tr>\n",
       "      <th>3268</th>\n",
       "      <td>0.601352</td>\n",
       "      <td>0.107342</td>\n",
       "      <td>0.098639</td>\n",
       "      <td>0.953539</td>\n",
       "      <td>0.818399</td>\n",
       "      <td>153.667097</td>\n",
       "      <td>153.596218</td>\n",
       "      <td>36.670558</td>\n",
       "      <td>38.359029</td>\n",
       "      <td>181.081805</td>\n",
       "      <td>181.718099</td>\n",
       "    </tr>\n",
       "    <tr>\n",
       "      <th>54</th>\n",
       "      <td>0.601072</td>\n",
       "      <td>0.095053</td>\n",
       "      <td>0.085140</td>\n",
       "      <td>0.969243</td>\n",
       "      <td>0.840627</td>\n",
       "      <td>3.551379</td>\n",
       "      <td>3.588621</td>\n",
       "      <td>54.746345</td>\n",
       "      <td>55.384125</td>\n",
       "      <td>175.982282</td>\n",
       "      <td>178.750634</td>\n",
       "    </tr>\n",
       "    <tr>\n",
       "      <th>4015</th>\n",
       "      <td>0.600337</td>\n",
       "      <td>0.096738</td>\n",
       "      <td>0.104527</td>\n",
       "      <td>0.674379</td>\n",
       "      <td>0.812383</td>\n",
       "      <td>6.020665</td>\n",
       "      <td>6.019212</td>\n",
       "      <td>149.988782</td>\n",
       "      <td>151.390075</td>\n",
       "      <td>186.879973</td>\n",
       "      <td>185.145701</td>\n",
       "    </tr>\n",
       "    <tr>\n",
       "      <th>654</th>\n",
       "      <td>0.600282</td>\n",
       "      <td>0.102149</td>\n",
       "      <td>0.093865</td>\n",
       "      <td>0.953723</td>\n",
       "      <td>0.825640</td>\n",
       "      <td>41.771018</td>\n",
       "      <td>41.914087</td>\n",
       "      <td>48.218148</td>\n",
       "      <td>50.450289</td>\n",
       "      <td>183.128709</td>\n",
       "      <td>179.926943</td>\n",
       "    </tr>\n",
       "  </tbody>\n",
       "</table>\n",
       "</div>"
      ],
      "text/plain": [
       "        DZpcon         q    q_pcon         e    e_pcon           i  \\\n",
       "4093  1.586169  0.020495  0.022495  0.745823  0.957765   71.708171   \n",
       "1474  1.570505  0.029980  0.036841  0.668394  0.930426   58.703667   \n",
       "4096  1.520115  0.021420  0.023199  0.758908  0.956402   19.803366   \n",
       "1726  1.337384  0.037475  0.040510  0.697630  0.923173   27.576285   \n",
       "4094  1.306058  0.021055  0.021787  1.166800  0.959024   12.014117   \n",
       "1472  1.222047  0.027963  0.035526  0.788113  0.932886   56.929579   \n",
       "3994  1.074713  0.034989  0.034274  1.185732  0.940129    8.952256   \n",
       "3992  1.048784  0.037601  0.035984  1.189980  0.937064   14.529080   \n",
       "3279  1.030984  0.030258  0.020439  1.162073  0.964330   16.354519   \n",
       "3992  1.024388  0.036690  0.035647  1.181915  0.937663   13.792276   \n",
       "3995  1.012937  0.034843  0.034502  1.173159  0.939716   10.071044   \n",
       "3995  0.964249  0.035416  0.035032  1.166226  0.938762   12.085684   \n",
       "4096  0.920152  0.046693  0.054548  0.759821  0.897198   10.041819   \n",
       "2107  0.889016  0.066035  0.076138  0.690169  0.859653    0.781925   \n",
       "5115  0.822036  0.058264  0.049478  1.199967  0.906472   46.098210   \n",
       "3988  0.800801  0.041349  0.037111  1.156348  0.935072   16.485527   \n",
       "3335  0.785348  0.050632  0.061501  0.774645  0.885524    1.592146   \n",
       "1726  0.750846  0.036834  0.043971  0.838353  0.916727   32.612686   \n",
       "2723  0.706847  0.061147  0.070646  0.757084  0.870257   24.508283   \n",
       "651   0.701963  0.083229  0.090787  0.683519  0.832387   18.559173   \n",
       "2781  0.692731  0.074881  0.083270  0.713161  0.848269   39.530543   \n",
       "2779  0.692168  0.088842  0.098183  0.669357  0.822611   19.459011   \n",
       "3340  0.682328  0.077863  0.086786  0.703314  0.839400   12.691558   \n",
       "671   0.661194  0.077180  0.087802  0.716747  0.843614   24.876839   \n",
       "5002  0.658526  0.071874  0.079736  0.733721  0.856077   11.931104   \n",
       "5657  0.657153  0.060684  0.062787  0.770562  0.883989   22.343326   \n",
       "3347  0.655866  0.079617  0.088281  0.704903  0.836672   13.996863   \n",
       "3341  0.641238  0.080161  0.088818  0.707108  0.835700   14.442671   \n",
       "3999  0.638794  0.091425  0.100501  0.677889  0.819296    5.078813   \n",
       "2106  0.637875  0.090269  0.097977  0.678482  0.820130    5.146718   \n",
       "3261  0.637631  0.075574  0.082750  0.727589  0.850738   55.007887   \n",
       "4000  0.631592  0.091943  0.100910  0.678492  0.818590    5.039281   \n",
       "4003  0.627869  0.092200  0.101108  0.678839  0.818247    5.032174   \n",
       "38    0.624417  0.061782  0.069210  0.772799  0.872730   73.740156   \n",
       "2108  0.624056  0.091122  0.098494  0.679986  0.819166    5.805027   \n",
       "995   0.622457  0.070873  0.081474  0.748941  0.856751   63.483837   \n",
       "673   0.615893  0.080199  0.089769  0.719956  0.840267   25.891058   \n",
       "4096  0.614968  0.070832  0.062297  1.031572  0.882016   23.521896   \n",
       "1748  0.612395  0.030610  0.033227  0.890228  0.941772   60.766730   \n",
       "5668  0.609781  0.065775  0.062014  1.021923  0.882684   26.055538   \n",
       "3985  0.605321  0.101616  0.091630  0.963257  0.830388   30.716135   \n",
       "649   0.605167  0.082951  0.090113  0.710947  0.833481   17.937679   \n",
       "3981  0.604858  0.100665  0.091987  0.966253  0.829091   41.050446   \n",
       "54    0.604273  0.094991  0.086296  0.965468  0.838873    7.490672   \n",
       "3262  0.603948  0.104997  0.095607  0.962887  0.823428    8.396807   \n",
       "2777  0.603787  0.088272  0.098285  0.695787  0.822388   19.194495   \n",
       "3268  0.601352  0.107342  0.098639  0.953539  0.818399  153.667097   \n",
       "54    0.601072  0.095053  0.085140  0.969243  0.840627    3.551379   \n",
       "4015  0.600337  0.096738  0.104527  0.674379  0.812383    6.020665   \n",
       "654   0.600282  0.102149  0.093865  0.953723  0.825640   41.771018   \n",
       "\n",
       "          i_pcon       Omega      W_pcon       omega      w_pcon  \n",
       "4093   66.017167   98.909082   78.660697  345.437834  357.457713  \n",
       "1474   59.169570  131.458720  141.445578  193.248382  176.032390  \n",
       "4096   17.684755  113.183395   95.808664  320.316126  357.473636  \n",
       "1726   26.060204   95.937518  106.920616  191.303908  175.842912  \n",
       "4094   11.811102  117.351642   99.631428  326.209887  357.485105  \n",
       "1472   58.741489  132.926900  142.453954  196.125174  176.068554  \n",
       "3994    9.551818  291.034417  276.648878  169.180941  186.177707  \n",
       "3992   15.453302  295.028854  282.387205  172.579145  186.223245  \n",
       "3279   18.397306  239.756329  248.778497    1.455958    5.986427  \n",
       "3992   14.521588  294.748980  281.432531  170.059420  186.208925  \n",
       "3995   10.585851  292.193235  277.607671  167.230008  186.177624  \n",
       "3995   12.594570  293.738954  279.521630  167.070373  186.187747  \n",
       "4096    9.229165  287.664473  295.181803  355.526126  355.743897  \n",
       "2107    0.807500  359.648855   12.816056   17.061562  357.847793  \n",
       "5115   46.309257  191.039477  190.389604  357.819484  356.877852  \n",
       "3988   18.113034  294.917362  285.249094  181.880554  186.280984  \n",
       "3335    1.501870  186.083250  178.953107  180.715650  177.451839  \n",
       "1726   29.737103   96.774424  102.842640  173.525586  175.753215  \n",
       "2723   23.538529   61.652670   57.680283    2.618441  359.545821  \n",
       "651    18.342543  319.306478  323.500175    1.862130  358.474044  \n",
       "2781   39.691897  221.043501  217.460104  172.753176  180.579818  \n",
       "2779   19.507273  181.437098  181.344218  183.407222  182.874406  \n",
       "3340   12.494968  139.444498  142.410546  176.107057  177.964494  \n",
       "671    24.780473  196.422031  195.098157  190.529669  185.783012  \n",
       "5002   11.522666  251.517305  246.206300  181.964554  183.174169  \n",
       "5657   21.122595  110.595538  105.319028  355.410030  359.234612  \n",
       "3347   13.755558  136.232881  139.388684  176.573012  178.060565  \n",
       "3341   14.181222  135.186631  138.380249  176.557987  178.093743  \n",
       "3999    5.091184  170.697142  170.333933  186.646257  184.384670  \n",
       "2106    5.133694  143.708125  145.384453  180.919776  179.819123  \n",
       "3261   54.067699   60.141476   55.754392    2.610690    3.025353  \n",
       "4000    5.052589  168.544935  168.345279  186.938394  184.470055  \n",
       "4003    5.045866  167.465534  167.350533  187.090290  184.512403  \n",
       "38     71.839759  239.816633  234.784526  182.852270  179.173916  \n",
       "2108    5.788747  141.374337  143.381137  182.190252  179.874142  \n",
       "995    63.292767  172.428898  173.453606  180.435021  187.833603  \n",
       "673    26.120586  200.700821  199.008943  177.809334  185.624588  \n",
       "4096   24.437902   68.858915   72.812159  175.395119  176.447950  \n",
       "1748   54.652961  112.988942  106.242069    5.534933    5.953170  \n",
       "5668   26.649192  266.479676  273.296615    4.720498  356.170869  \n",
       "3985   30.960900  208.274667  209.319842  358.791334    0.858839  \n",
       "649    17.967908  318.052864  322.492887    7.343574  358.488691  \n",
       "3981   41.162350  221.321544  223.396382    2.808933  359.830514  \n",
       "54      7.509422   45.130713   46.345587  183.747424  178.816200  \n",
       "3262    8.436512   36.711239   37.285546  182.194383  181.421799  \n",
       "2777   19.242698  178.203518  178.382837  187.945169  183.035377  \n",
       "3268  153.596218   36.670558   38.359029  181.081805  181.718099  \n",
       "54      3.588621   54.746345   55.384125  175.982282  178.750634  \n",
       "4015    6.019212  149.988782  151.390075  186.879973  185.145701  \n",
       "654    41.914087   48.218148   50.450289  183.128709  179.926943  "
      ]
     },
     "execution_count": 82,
     "metadata": {},
     "output_type": "execute_result"
    }
   ],
   "source": [
    "comparison=[\"DZpcon\",\"q\",\"q_pcon\",\"e\",\"e_pcon\",\"i\",\"i_pcon\",\"Omega\",\"W_pcon\",\"omega\",\"w_pcon\"]\n",
    "adata.sort_values(by=\"DZpcon\",ascending=False)[comparison].head(50)"
   ]
  },
  {
   "cell_type": "code",
   "execution_count": null,
   "metadata": {},
   "outputs": [],
   "source": []
  }
 ],
 "metadata": {
  "kernelspec": {
   "display_name": "Python 3",
   "language": "python",
   "name": "python3"
  },
  "language_info": {
   "codemirror_mode": {
    "name": "ipython",
    "version": 3
   },
   "file_extension": ".py",
   "mimetype": "text/x-python",
   "name": "python",
   "nbconvert_exporter": "python",
   "pygments_lexer": "ipython3",
   "version": "3.6.8"
  }
 },
 "nbformat": 4,
 "nbformat_minor": 2
}
