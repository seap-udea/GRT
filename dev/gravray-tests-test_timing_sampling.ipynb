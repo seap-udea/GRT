{
 "cells": [
  {
   "cell_type": "code",
   "execution_count": null,
   "metadata": {},
   "outputs": [],
   "source": [
    "from gravray import *\n",
    "from gravray.sampling import *"
   ]
  },
  {
   "cell_type": "code",
   "execution_count": null,
   "metadata": {},
   "outputs": [],
   "source": [
    "%load_ext autoreload\n",
    "%autoreload 2\n",
    "%matplotlib nbagg"
   ]
  },
  {
   "cell_type": "markdown",
   "metadata": {},
   "source": [
    "# Test Sampling Class\n",
    "\n",
    "Test suite of the Sampling submodule of GravRay."
   ]
  },
  {
   "cell_type": "code",
   "execution_count": null,
   "metadata": {},
   "outputs": [],
   "source": [
    "#Unitary test\n",
    "import unittest\n",
    "class Test(unittest.TestCase):\n",
    "\n",
    "    s2d=Sample(1000)\n",
    "    s3d=Sample(1000)\n",
    "    \n",
    "    #\"\"\"\n",
    "    def test_dimensions(self):\n",
    "        self.timing_unit_circle()\n",
    "        self.assertEqual(self.s2d.dim,2)\n",
    "        self.timing_unit_hemisphere()\n",
    "        self.assertEqual(self.s3d.dim,3)\n",
    "\n",
    "    def test_distance(self):\n",
    "        self.timing_unit_circle()\n",
    "        self.s2d._calcDistances()\n",
    "        self.assertAlmostEqual(self.s2d.dstar,1.7,1)\n",
    "        self.timing_unit_sphere()\n",
    "        self.s3d._calcDistances()\n",
    "        self.assertAlmostEqual(self.s3d.dstar,3.4,1)\n",
    "        self.timing_unit_hemisphere()\n",
    "        self.s3d._calcDistances()\n",
    "        self.assertAlmostEqual(self.s3d.dstar,2.4,1)\n",
    "        \n",
    "    def test_polar(self):\n",
    "        self.timing_unit_hemisphere()\n",
    "        suma=0\n",
    "        for i,p in enumerate(self.s3d.pp):\n",
    "            r=np.array([np.sin(p[1])*np.cos(p[2]),np.sin(p[1])*np.sin(p[2]),np.cos(p[1])])\n",
    "            suma+=np.linalg.norm(r-self.s3d.ss[i])\n",
    "        self.assertAlmostEqual(suma,0,5)   \n",
    "    #\"\"\" \n",
    "    \n",
    "    def timing_unit_circle(self):\n",
    "        np.random.seed(10)\n",
    "        self.s2d.genUnitCircle()\n",
    "\n",
    "    def timing_unit_hemisphere(self):\n",
    "        np.random.seed(10)\n",
    "        self.s3d.genUnitHemisphere()\n",
    "\n",
    "    def timing_unit_cosine(self):\n",
    "        np.random.seed(10)\n",
    "        self.s3d.genCosineWeightedUnitHemisphere()\n",
    "\n",
    "    def timing_unit_sphere(self):\n",
    "        np.random.seed(10)\n",
    "        self.s3d.genUnitSphere()"
   ]
  },
  {
   "cell_type": "code",
   "execution_count": null,
   "metadata": {},
   "outputs": [],
   "source": [
    "if __name__=='__main__':\n",
    "    #Testing\n",
    "    unittest.main(argv=['first-arg-is-ignored'],exit=False)\n",
    "    \n",
    "    #Timing\n",
    "    #\"\"\"\n",
    "    print(\"Timing unit circle:\")\n",
    "    %timeit -n 10 Test().timing_unit_circle()\n",
    "    \n",
    "    print(\"Timing unit hemisphere:\")\n",
    "    %timeit -n 10 Test().timing_unit_hemisphere()\n",
    "\n",
    "    print(\"Timing unit hemisphere (cosine weighted):\")\n",
    "    %timeit -n 10 Test().timing_unit_cosine()\n",
    "\n",
    "    print(\"Timing unit sphere:\")\n",
    "    %timeit -n 10 Test().timing_unit_sphere()\n",
    "    #\"\"\""
   ]
  },
  {
   "cell_type": "markdown",
   "metadata": {},
   "source": [
    "--End--"
   ]
  },
  {
   "cell_type": "markdown",
   "metadata": {},
   "source": [
    "## Test graphical"
   ]
  },
  {
   "cell_type": "code",
   "execution_count": null,
   "metadata": {},
   "outputs": [],
   "source": [
    "%matplotlib nbagg"
   ]
  },
  {
   "cell_type": "code",
   "execution_count": null,
   "metadata": {},
   "outputs": [],
   "source": [
    "s=Sample(1000)\n",
    "s.genUnitCircle()\n",
    "s.purgeSample()\n",
    "s.plotSample(c='b')\n",
    "s.nb_samples"
   ]
  },
  {
   "cell_type": "code",
   "execution_count": null,
   "metadata": {},
   "outputs": [],
   "source": [
    "s=Sample(1000)\n",
    "s.genUnitHemisphere()\n",
    "s.purgeSample()\n",
    "s.updateSphereArgs(color='k')\n",
    "s.plotSample(c='b')\n",
    "s.nb_samples"
   ]
  },
  {
   "cell_type": "code",
   "execution_count": null,
   "metadata": {},
   "outputs": [],
   "source": [
    "s=Sample(1000)\n",
    "s.genUnitSphere()\n",
    "s.purgeSample()\n",
    "s.updateSphereArgs(color='k')\n",
    "s.plotSample(c='b')\n",
    "s.nb_samples"
   ]
  }
 ],
 "metadata": {
  "kernelspec": {
   "display_name": "Python 3",
   "language": "python",
   "name": "python3"
  },
  "language_info": {
   "codemirror_mode": {
    "name": "ipython",
    "version": 3
   },
   "file_extension": ".py",
   "mimetype": "text/x-python",
   "name": "python",
   "nbconvert_exporter": "python",
   "pygments_lexer": "ipython3",
   "version": "3.6.8"
  }
 },
 "nbformat": 4,
 "nbformat_minor": 2
}
