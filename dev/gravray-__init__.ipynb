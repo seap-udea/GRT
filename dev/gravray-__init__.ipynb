{
 "cells": [
  {
   "cell_type": "markdown",
   "metadata": {},
   "source": [
    "# GravRay Master File\n",
    "\n",
    "This is the master file"
   ]
  },
  {
   "cell_type": "code",
   "execution_count": 6,
   "metadata": {},
   "outputs": [],
   "source": [
    "#################################################################################\n",
    "#External basic modules\n",
    "#################################################################################\n",
    "import spiceypy as spy\n",
    "import numpy as np\n",
    "import math\n",
    "import unittest\n",
    "from copy import deepcopy\n",
    "from time import time,strftime\n",
    "import warnings\n",
    "warnings.filterwarnings('ignore')"
   ]
  },
  {
   "cell_type": "code",
   "execution_count": 13,
   "metadata": {},
   "outputs": [],
   "source": [
    "#################################################################################\n",
    "#This code is used only for development purposes in Jupyter\n",
    "#################################################################################\n",
    "\"\"\"\n",
    "For the developer:\n",
    "    The purpose of the get_ipython class is to provide some response in the python \n",
    "    script resulting from the conversion of this notebook.\n",
    "    \n",
    "    If you want to add another IPyhton function resulting from a magic command to the class, \n",
    "    please verify in the resulting python script the corresponding IPython command.\n",
    "    \n",
    "    For instance, the magic \"%matplotlib nbagg\" is converted into:\n",
    "    \n",
    "        get_ipython().magic('matplotlib nbagg',globals())\n",
    "        \n",
    "    So, the routinge \"magic\" should be add to the get_ipython() class.\n",
    "        \n",
    "\"\"\"\n",
    "from IPython.display import HTML, Image\n",
    "import IPython.core.autocall as autocall\n",
    "from IPython import get_ipython\n",
    "\n",
    "try:\n",
    "    cfg=get_ipython().config\n",
    "except AttributeError:\n",
    "    def Image(url=\"\",filename=\"\",f=\"\"):\n",
    "        pass\n",
    "    class get_ipython(object):\n",
    "        def run_line_magic(self,x,y):\n",
    "            pass\n",
    "        def run_cell_magic(self,x,y,z):\n",
    "            pass\n",
    "        def magic(self,command,scope=globals()):\n",
    "            import re\n",
    "            if \"timeit\" in command:\n",
    "                s=re.search(\"timeit\\s+-n\\s+(\\d+)\\s+(.+)\",command)\n",
    "                n=int(s.group(1))\n",
    "                expr=s.group(2)\n",
    "                timeIt(expr,scope=scope,n=n)"
   ]
  },
  {
   "cell_type": "code",
   "execution_count": 1,
   "metadata": {},
   "outputs": [
    {
     "data": {
      "application/javascript": [
       "IPython.notebook.kernel.execute('FILE=\"' + IPython.notebook.notebook_name + '\"')"
      ],
      "text/plain": [
       "<IPython.core.display.Javascript object>"
      ]
     },
     "metadata": {},
     "output_type": "display_data"
    }
   ],
   "source": [
    "%%javascript\n",
    "IPython.notebook.kernel.execute('FILE=\"' + IPython.notebook.notebook_name + '\"')"
   ]
  },
  {
   "cell_type": "code",
   "execution_count": 315,
   "metadata": {},
   "outputs": [],
   "source": [
    "#################################################################################\n",
    "#Global variables\n",
    "#################################################################################\n",
    "#Get name of script including path (FILE) and directory where the script is located (ROOTDIR)\n",
    "import os\n",
    "try:\n",
    "    FILE=__file__\n",
    "    ROOTDIR=os.path.abspath(os.path.dirname(FILE))\n",
    "except:\n",
    "    import IPython\n",
    "    ROOTDIR=os.path.abspath('')\n",
    "\n",
    "#Stores the time of start of the script when gravray is imported\n",
    "TIMESTART=time()\n",
    "#Stores the time of the last call of elTime\n",
    "TIME=time()\n",
    "#Stores the duration between elTime consecutive calls \n",
    "DTIME=-1\n",
    "DUTIME=[]"
   ]
  },
  {
   "cell_type": "code",
   "execution_count": 1,
   "metadata": {},
   "outputs": [],
   "source": [
    "#################################################################################\n",
    "#Common routines\n",
    "#################################################################################\n",
    "def tUnit(t):\n",
    "    for unit,base in dict(d=86400,h=3600,min=60,s=1e0,ms=1e-3,us=1e-6,ns=1e-9).items():\n",
    "        tu=t/base\n",
    "        if tu>1:break\n",
    "    return tu,unit,base\n",
    "\n",
    "def elTime(verbose=1,start=False):\n",
    "    \"\"\"\n",
    "    Compute the time elapsed since last call of this routine.  The displayed time \n",
    "    is preseneted in the more convenient unit, ns (nano seconds), us (micro seconds), \n",
    "    ms (miliseconds), s (seconds), min (minutes), h (hours), d (days)\n",
    "    \n",
    "    Parameters: None.\n",
    "    \n",
    "    Optional:\n",
    "        verbose: show the time in screen (default 1), integer or boolean.\n",
    "        start: compute time from program start (deault 0), integer or boolean.\n",
    "        \n",
    "    Return: None.\n",
    "    \n",
    "    Examples:\n",
    "        elTime(), basic usage (show output)\n",
    "        elTime(0), no output\n",
    "        elTime(start=True), measure elapsed time since program \n",
    "        print(DTIME,DUTIME), show values of elapsed time\n",
    "    \"\"\"\n",
    "    global TIMESTART,TIME,DTIME,DUTIME\n",
    "    t=time()\n",
    "    dt=t-TIME\n",
    "    if start:\n",
    "        dt=t-TIMESTART    \n",
    "        msg=\"since script start\"\n",
    "    else:\n",
    "        msg=\"since last call\"\n",
    "    dtu,unit,base=tUnit(dt)\n",
    "    if verbose:print(\"Elapsed time %s: %g %s\"%(msg,dtu,unit))\n",
    "    DTIME=dt\n",
    "    DUTIME=[dtu,unit]\n",
    "    TIME=time()\n",
    "    return dt,[dtu,unit] \n",
    "    \n",
    "def timeIt(expr,scope=globals(),n=10):\n",
    "    \"\"\"\n",
    "    Timing function. It imitates the behavior of %timeit magic function\n",
    "\n",
    "    Parameters:\n",
    "        expr: Expression to execute, string.\n",
    "    \n",
    "    Optional: \n",
    "        n: number of exectutions\n",
    "        \n",
    "    Return:\n",
    "        Time of execution as (time in seconds, (time in unit, unit, base of unit)), tuple\n",
    "        \n",
    "    Example:\n",
    "        def f(x):\n",
    "            suma=0\n",
    "            for n in range(10):\n",
    "                suma+=np.cosh(x**(n/10.))*np.log10(x**(n/10.))\n",
    "            return suma\n",
    "\n",
    "        timeIt(\"f(3)\",n=1000)\n",
    "            (4.2202472686767576e-05, (42.20247268676758, 'us', 1e-06))\n",
    "    \"\"\"\n",
    "    try:\n",
    "        exec(expr,scope)\n",
    "    except Exception as inst:\n",
    "        print(f\"I could not execute expression:\\n{expr}\\nError:\\n{inst}\")\n",
    "        return\n",
    "\n",
    "    r=range(n)\n",
    "    dt=0\n",
    "    cmd=\"elTime(0);\"+expr+\";elTime(0)\"\n",
    "    for i in r:\n",
    "        dts=[]\n",
    "        exec(cmd,scope);dts+=[DTIME];\n",
    "        exec(cmd,scope);dts+=[DTIME];\n",
    "        exec(cmd,scope);dts+=[DTIME];\n",
    "        exec(cmd,scope);dts+=[DTIME];\n",
    "        exec(cmd,scope);dts+=[DTIME];\n",
    "        dt+=min(dts)\n",
    "    texec=dt/n\n",
    "    tuexec=tUnit(texec)\n",
    "    print(f\"{n} loops, best of 5: {tuexec[0]} {tuexec[1]} per loop\")\n",
    "    return texec,tuexec\n",
    "\n",
    "def errorMsg(error,msg):\n",
    "    \"\"\"\n",
    "    Add a custom message msg to an error handle.\n",
    "    \n",
    "    Parameters:\n",
    "        error: error handle, handle (eg. except ValueError as error)\n",
    "        msg: message to add to error, string.\n",
    "    \n",
    "    Return: None.\n",
    "    \"\"\"\n",
    "    error.args=(error.args if error.args else tuple())+(msg,)\n",
    "    \n",
    "def stop():\n",
    "    raise AssertionError(\"Stop\")"
   ]
  },
  {
   "cell_type": "code",
   "execution_count": 317,
   "metadata": {},
   "outputs": [
    {
     "name": "stdout",
     "output_type": "stream",
     "text": [
      "Root directory:/Users/jzuluaga/GoogleDrive/ColaboratoryProjects/GRT2/GRT/dev\n",
      "File:gravray-__init__.ipynb\n",
      "Elapsed time since script start: 3.23758 s\n",
      "Timing test:\n",
      "1000 loops, best of 3: 2.98 µs per loop\n"
     ]
    }
   ],
   "source": [
    "#################################################################################\n",
    "#Program test\n",
    "#################################################################################\n",
    "if __name__==\"__main__\":\n",
    "    print(f\"Root directory:{ROOTDIR}\")\n",
    "    print(f\"File:{FILE}\")\n",
    "    elTime(start=True)\n",
    "    print(\"Timing test:\")\n",
    "    %timeit -n 1000 np.log10(np.pi)    "
   ]
  },
  {
   "cell_type": "markdown",
   "metadata": {},
   "source": [
    "--End--"
   ]
  },
  {
   "cell_type": "markdown",
   "metadata": {},
   "source": [
    "# Convert"
   ]
  },
  {
   "cell_type": "code",
   "execution_count": 2,
   "metadata": {},
   "outputs": [
    {
     "name": "stdout",
     "output_type": "stream",
     "text": [
      "Converting iPython Notebooks...\n",
      "Analysing file gravray-__init__.ipynb:\n",
      "\tDirectory: ./gravray\n",
      "\tFilename: __init__\n",
      "\tTarget object: ./gravray/__init__.py\n",
      "\tConverting from ipynb dev/gravray-__init__.ipynb to python ./gravray/__init__.py...\n",
      "\tTriming...\n",
      "\tProcessing magic commands...\n",
      "\tAdding header...\n",
      "Completed.\n"
     ]
    }
   ],
   "source": [
    "!make -C .. DEVFILES=dev/{FILE} convert"
   ]
  },
  {
   "cell_type": "code",
   "execution_count": null,
   "metadata": {},
   "outputs": [],
   "source": []
  }
 ],
 "metadata": {
  "kernelspec": {
   "display_name": "Python 3",
   "language": "python",
   "name": "python3"
  },
  "language_info": {
   "codemirror_mode": {
    "name": "ipython",
    "version": 3
   },
   "file_extension": ".py",
   "mimetype": "text/x-python",
   "name": "python",
   "nbconvert_exporter": "python",
   "pygments_lexer": "ipython3",
   "version": "3.6.8"
  }
 },
 "nbformat": 4,
 "nbformat_minor": 2
}
