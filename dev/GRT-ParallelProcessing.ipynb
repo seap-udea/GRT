{
 "cells": [
  {
   "cell_type": "markdown",
   "metadata": {},
   "source": [
    "# GRT Parallel Processing\n",
    "\n",
    "In this notebook we will test the parallel processing for GRT"
   ]
  },
  {
   "cell_type": "code",
   "execution_count": 1,
   "metadata": {},
   "outputs": [
    {
     "data": {
      "application/javascript": [
       "IPython.notebook.kernel.execute('FILE=\"' + IPython.notebook.notebook_name + '\"')"
      ],
      "text/plain": [
       "<IPython.core.display.Javascript object>"
      ]
     },
     "metadata": {},
     "output_type": "display_data"
    },
    {
     "data": {
      "application/javascript": [
       "IPython.notebook.kernel.execute('FILE=\"' + IPython.notebook.notebook_name + '\"')"
      ],
      "text/plain": [
       "<IPython.core.display.Javascript object>"
      ]
     },
     "metadata": {},
     "output_type": "display_data"
    },
    {
     "data": {
      "application/javascript": [
       "IPython.notebook.kernel.execute('FILE=\"' + IPython.notebook.notebook_name + '\"')"
      ],
      "text/plain": [
       "<IPython.core.display.Javascript object>"
      ]
     },
     "metadata": {},
     "output_type": "display_data"
    },
    {
     "name": "stdout",
     "output_type": "stream",
     "text": [
      "The autoreload extension is already loaded. To reload it, use:\n",
      "  %reload_ext autoreload\n"
     ]
    },
    {
     "data": {
      "application/javascript": [
       "IPython.notebook.kernel.execute('FILE=\"' + IPython.notebook.notebook_name + '\"')"
      ],
      "text/plain": [
       "<IPython.core.display.Javascript object>"
      ]
     },
     "metadata": {},
     "output_type": "display_data"
    },
    {
     "name": "stdout",
     "output_type": "stream",
     "text": [
      "The autoreload extension is already loaded. To reload it, use:\n",
      "  %reload_ext autoreload\n"
     ]
    },
    {
     "data": {
      "application/javascript": [
       "IPython.notebook.kernel.execute('FILE=\"' + IPython.notebook.notebook_name + '\"')"
      ],
      "text/plain": [
       "<IPython.core.display.Javascript object>"
      ]
     },
     "metadata": {},
     "output_type": "display_data"
    },
    {
     "name": "stdout",
     "output_type": "stream",
     "text": [
      "The autoreload extension is already loaded. To reload it, use:\n",
      "  %reload_ext autoreload\n"
     ]
    },
    {
     "data": {
      "application/javascript": [
       "IPython.notebook.kernel.execute('FILE=\"' + IPython.notebook.notebook_name + '\"')"
      ],
      "text/plain": [
       "<IPython.core.display.Javascript object>"
      ]
     },
     "metadata": {},
     "output_type": "display_data"
    },
    {
     "name": "stdout",
     "output_type": "stream",
     "text": [
      "The autoreload extension is already loaded. To reload it, use:\n",
      "  %reload_ext autoreload\n",
      "Number of processors:  4\n"
     ]
    }
   ],
   "source": [
    "from gravray import *\n",
    "from gravray.util import *\n",
    "from gravray.sampling import *\n",
    "from gravray.spice import *\n",
    "from gravray.orbit import *\n",
    "from gravray.stats import *\n",
    "\n",
    "from tqdm import tqdm\n",
    "import pandas as pd\n",
    "import multiprocessing as mp\n",
    "from itertools import product as cartesian\n",
    "\n",
    "def chunks(l, n):\n",
    "    for i in range(0, len(l), n):yield l[i:i+n]\n",
    "\n",
    "Spice.loadKernels()\n",
    "NP=mp.cpu_count()\n",
    "print(\"Number of processors: \",NP)"
   ]
  },
  {
   "cell_type": "code",
   "execution_count": 2,
   "metadata": {},
   "outputs": [
    {
     "name": "stdout",
     "output_type": "stream",
     "text": [
      "The autoreload extension is already loaded. To reload it, use:\n",
      "  %reload_ext autoreload\n"
     ]
    }
   ],
   "source": [
    "%load_ext autoreload\n",
    "%autoreload 2"
   ]
  },
  {
   "cell_type": "code",
   "execution_count": 3,
   "metadata": {},
   "outputs": [],
   "source": [
    "#import ray\n",
    "#np=psutil.cpu_count(logical=False)\n",
    "#ray.init(num_cpus=2)"
   ]
  },
  {
   "cell_type": "markdown",
   "metadata": {},
   "source": [
    "## Common data"
   ]
  },
  {
   "cell_type": "code",
   "execution_count": 4,
   "metadata": {},
   "outputs": [],
   "source": [
    "body=\"EARTH\"\n",
    "earth=Body(body)"
   ]
  },
  {
   "cell_type": "markdown",
   "metadata": {},
   "source": [
    "## Parallel function"
   ]
  },
  {
   "cell_type": "code",
   "execution_count": 54,
   "metadata": {},
   "outputs": [],
   "source": [
    "def rayProcessing(initial):\n",
    "    t=initial[0]\n",
    "    site=initial[1]\n",
    "    direction=initial[2]\n",
    "    ray=GrtRay(site,direction[0][0],direction[0][1],direction[1])\n",
    "    ray.updateRay(t)\n",
    "    try:\n",
    "        ray.propagateRay(t)\n",
    "        detJ=ray.calcJacobianDeterminant()\n",
    "    except AssertionError as e:\n",
    "        detJ=0\n",
    "    raydf=ray.packRay()\n",
    "    raydf[\"detJ\"]=detJ\n",
    "    return raydf\n",
    "    \n",
    "def rayProcessingMulti(initials):\n",
    "    print(f\"Processing {len(initials)} initial conditions\")\n",
    "    raydfs=[rayProcessing(initial) for initial in initials]\n",
    "    return raydfs"
   ]
  },
  {
   "cell_type": "markdown",
   "metadata": {},
   "source": [
    "## Test data"
   ]
  },
  {
   "cell_type": "code",
   "execution_count": 32,
   "metadata": {},
   "outputs": [
    {
     "data": {
      "text/plain": [
       "[            et   lon   lat      alt      A     h        v          ximp  \\\n",
       " 0  414170434.0  61.1  54.8  23300.0  101.1  15.9 -18600.0 -1.232675e+11   \n",
       " \n",
       "            yimp          zimp      ...           vzhel         q         e  \\\n",
       " 0  8.134799e+10 -3.528140e+06      ...      -2274.5822  0.738582  0.549668   \n",
       " \n",
       "           i           W          w          M         a             n  \\\n",
       " 0  4.041579  326.572556  106.86342  21.323547  1.640082  9.479146e-08   \n",
       " \n",
       "            detJ  \n",
       " 0 -4.509452e-13  \n",
       " \n",
       " [1 rows x 28 columns]]"
      ]
     },
     "execution_count": 32,
     "metadata": {},
     "output_type": "execute_result"
    }
   ],
   "source": [
    "ts=[Spice.str2t(\"02/15/2013 03:20:34 UTC\")]\n",
    "siteprops=[[61.1*Angle.Deg,54.8*Angle.Deg,23.3*Const.km]]\n",
    "sites=[]\n",
    "for siteprop in siteprops:\n",
    "    sites+=[Location(earth,siteprop[0],siteprop[1],siteprop[2])]\n",
    "directions=[[[101.1*Angle.Deg,15.9*Angle.Deg],-18.6*Const.km/Const.s]]\n",
    "\n",
    "#List of conditions\n",
    "initials=list(cartesian(*[ts,sites,directions]))\n",
    "rayProcessingMulti(initials)"
   ]
  },
  {
   "cell_type": "markdown",
   "metadata": {},
   "source": [
    "## Massive input data"
   ]
  },
  {
   "cell_type": "code",
   "execution_count": 33,
   "metadata": {},
   "outputs": [],
   "source": [
    "np.random.seed(17)"
   ]
  },
  {
   "cell_type": "code",
   "execution_count": 48,
   "metadata": {},
   "outputs": [
    {
     "name": "stdout",
     "output_type": "stream",
     "text": [
      "Preparing times...\n",
      "Preparing sites...\n",
      "Elapsed time since last call: 7.07817 ms\n",
      "Preparing directions...\n",
      "Elapsed time since last call: 721.216 us\n",
      "Preparing initial conditions...\n",
      "Elapsed time since last call: 3.06416 ms\n",
      "Number of initial conditions: 10000 = 10(ts)*10(sites)*100(dirs)\n"
     ]
    }
   ],
   "source": [
    "#Numbers\n",
    "Ntimes=10\n",
    "Nsites=10\n",
    "Npoints=10\n",
    "Nvels=10\n",
    "\n",
    "#Times\n",
    "print(\"Preparing times...\")\n",
    "tini=Spice.str2t(\"02/15/2013 03:20:34\")\n",
    "tend=tini+Const.Year\n",
    "ts=np.linspace(tini,tend,10)\n",
    "\n",
    "#Sites\n",
    "print(\"Preparing sites...\")\n",
    "elTime(0)\n",
    "H=23.3*Const.km\n",
    "points=Sample(Nsites)\n",
    "points.genUnitSphere()\n",
    "siteprops=np.zeros((Nsites,3))\n",
    "siteprops[:,:2]=points.pp[:,1:]\n",
    "siteprops[:,2]=H*np.ones(Nsites)\n",
    "sites=[]\n",
    "for siteprop in siteprops:\n",
    "    sites+=[Location(earth,siteprop[0],siteprop[1],siteprop[2])]\n",
    "elTime()\n",
    "\n",
    "#Directions\n",
    "print(\"Preparing directions...\")\n",
    "elTime(0)\n",
    "gpoints=Sample(Npoints)\n",
    "gpoints.genUnitHemisphere()\n",
    "speeds=-np.linspace(11.2,72.0,Nvels)*Const.km/Const.s\n",
    "directions=list(cartesian(*[gpoints.pp[:,1:].tolist(),speeds]))\n",
    "elTime()\n",
    "\n",
    "#Initial conditions\n",
    "print(\"Preparing initial conditions...\")\n",
    "elTime(0)\n",
    "initials=list(cartesian(*[ts,sites,directions]))\n",
    "elTime()\n",
    "\n",
    "Ninitials=len(initials)\n",
    "print(f\"Number of initial conditions: {Ninitials} = {len(ts)}(ts)*{len(sites)}(sites)*{len(directions)}(dirs)\")"
   ]
  },
  {
   "cell_type": "code",
   "execution_count": 49,
   "metadata": {},
   "outputs": [
    {
     "name": "stdout",
     "output_type": "stream",
     "text": [
      "Sequential processing of 10000 rays:\n",
      "Elapsed time since last call: 272.574 ms\n",
      "Total duration: 272.57394790649414 ms, Duration per ray: 27.257394790649414 ms\n",
      "Estimated total: 4.542899131774902 min\n"
     ]
    }
   ],
   "source": [
    "print(f\"Sequential processing of {Ninitials} rays:\")\n",
    "dt,dtu=elTime(0)\n",
    "tinitials=initials[:10]\n",
    "rays=rayProcessingMulti(tinitials)\n",
    "dt,dtu=elTime()\n",
    "tpray=dt/len(tinitials)\n",
    "tupray=tUnit(tpray)\n",
    "totrays=tpray*Ninitials\n",
    "toturays=tUnit(totrays)\n",
    "print(f\"Total duration: {dtu[0]} {dtu[1]}, Duration per ray: {tupray[0]} {tupray[1]}\")\n",
    "print(f\"Estimated total: {toturays[0]} {toturays[1]}\")\n"
   ]
  },
  {
   "cell_type": "markdown",
   "metadata": {},
   "source": [
    "## Prepare chunks"
   ]
  },
  {
   "cell_type": "code",
   "execution_count": 59,
   "metadata": {},
   "outputs": [
    {
     "name": "stdout",
     "output_type": "stream",
     "text": [
      "4 chunks containing 2500 initial conditions\n",
      "Estimated time per chunk: 1.1357247829437256 min\n"
     ]
    }
   ],
   "source": [
    "#Nchunk=np.int(Ninitials/100)\n",
    "Nchunk=2500\n",
    "cinitials=[initial for initial in chunks(initials,Nchunk)]\n",
    "npchunk=len(cinitials)\n",
    "print(f\"{npchunk} chunks containing {Nchunk} initial conditions\")\n",
    "tchunk=tpray*Nchunk\n",
    "tchunku=tUnit(tchunk)\n",
    "print(f\"Estimated time per chunk: {tchunku[0]} {tchunku[1]}\")"
   ]
  },
  {
   "cell_type": "markdown",
   "metadata": {},
   "source": [
    "## Parallel processing"
   ]
  },
  {
   "cell_type": "code",
   "execution_count": 51,
   "metadata": {},
   "outputs": [],
   "source": [
    "allraydfs=pd.DataFrame()\n",
    "def joinResults(raydfs):\n",
    "    global allraydfs\n",
    "    allraydfs=pd.concat(((allraydfs,)+tuple(raydfs)))"
   ]
  },
  {
   "cell_type": "code",
   "execution_count": 52,
   "metadata": {},
   "outputs": [
    {
     "name": "stdout",
     "output_type": "stream",
     "text": [
      "Elapsed time since last call: 2.76087 min\n"
     ]
    },
    {
     "data": {
      "text/plain": [
       "(165.65227222442627, [2.7608712037404377, 'min'])"
      ]
     },
     "execution_count": 52,
     "metadata": {},
     "output_type": "execute_result"
    }
   ],
   "source": [
    "pool=mp.Pool(NP)\n",
    "elTime(0)\n",
    "R=[pool.apply_async(rayProcessingMulti,args=(initials,),callback=joinResults) for initials in cinitials]\n",
    "pool.close()\n",
    "pool.join()\n",
    "elTime()"
   ]
  },
  {
   "cell_type": "code",
   "execution_count": 21,
   "metadata": {},
   "outputs": [
    {
     "name": "stdout",
     "output_type": "stream",
     "text": [
      "Number of results: 80\n"
     ]
    }
   ],
   "source": [
    "print(\"Number of results:\",len(allraydfs))"
   ]
  },
  {
   "cell_type": "code",
   "execution_count": 23,
   "metadata": {},
   "outputs": [],
   "source": [
    "allraydfs.to_csv(\"rays_parallel.csv\")"
   ]
  }
 ],
 "metadata": {
  "kernelspec": {
   "display_name": "Python 3",
   "language": "python",
   "name": "python3"
  },
  "language_info": {
   "codemirror_mode": {
    "name": "ipython",
    "version": 3
   },
   "file_extension": ".py",
   "mimetype": "text/x-python",
   "name": "python",
   "nbconvert_exporter": "python",
   "pygments_lexer": "ipython3",
   "version": "3.6.8"
  }
 },
 "nbformat": 4,
 "nbformat_minor": 2
}
